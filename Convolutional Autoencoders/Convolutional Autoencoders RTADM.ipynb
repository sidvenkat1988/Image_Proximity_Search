{
 "cells": [
  {
   "cell_type": "code",
   "execution_count": 2,
   "metadata": {},
   "outputs": [],
   "source": [
    "from keras.layers import Input, Dense, Conv2D, MaxPooling2D, UpSampling2D\n",
    "from keras.models import Model\n",
    "\n",
    "import numpy as np\n",
    "import pandas as pd\n",
    "import matplotlib.pyplot as plt\n",
    "%matplotlib inline"
   ]
  },
  {
   "cell_type": "code",
   "execution_count": 3,
   "metadata": {},
   "outputs": [
    {
     "name": "stdout",
     "output_type": "stream",
     "text": [
      "(50000, 3074)\n",
      "(10000, 3074)\n"
     ]
    }
   ],
   "source": [
    "datadir = '/Users/sidv88/Documents/Data_Management_2/Data/'\n",
    "train_data = pd.read_csv(datadir + 'train_rgb.csv')\n",
    "test_data = pd.read_csv(datadir + 'test_rgb.csv')\n",
    "print(train_data.shape)\n",
    "print(test_data.shape)"
   ]
  },
  {
   "cell_type": "code",
   "execution_count": 4,
   "metadata": {},
   "outputs": [
    {
     "data": {
      "text/html": [
       "<div>\n",
       "<style scoped>\n",
       "    .dataframe tbody tr th:only-of-type {\n",
       "        vertical-align: middle;\n",
       "    }\n",
       "\n",
       "    .dataframe tbody tr th {\n",
       "        vertical-align: top;\n",
       "    }\n",
       "\n",
       "    .dataframe thead th {\n",
       "        text-align: right;\n",
       "    }\n",
       "</style>\n",
       "<table border=\"1\" class=\"dataframe\">\n",
       "  <thead>\n",
       "    <tr style=\"text-align: right;\">\n",
       "      <th></th>\n",
       "      <th>Class</th>\n",
       "      <th>Class Name</th>\n",
       "      <th>0</th>\n",
       "      <th>1</th>\n",
       "      <th>2</th>\n",
       "      <th>3</th>\n",
       "      <th>4</th>\n",
       "      <th>5</th>\n",
       "      <th>6</th>\n",
       "      <th>7</th>\n",
       "      <th>...</th>\n",
       "      <th>3062</th>\n",
       "      <th>3063</th>\n",
       "      <th>3064</th>\n",
       "      <th>3065</th>\n",
       "      <th>3066</th>\n",
       "      <th>3067</th>\n",
       "      <th>3068</th>\n",
       "      <th>3069</th>\n",
       "      <th>3070</th>\n",
       "      <th>3071</th>\n",
       "    </tr>\n",
       "  </thead>\n",
       "  <tbody>\n",
       "    <tr>\n",
       "      <th>0</th>\n",
       "      <td>6</td>\n",
       "      <td>frog</td>\n",
       "      <td>59</td>\n",
       "      <td>62</td>\n",
       "      <td>63</td>\n",
       "      <td>43</td>\n",
       "      <td>46</td>\n",
       "      <td>45</td>\n",
       "      <td>50</td>\n",
       "      <td>48</td>\n",
       "      <td>...</td>\n",
       "      <td>104</td>\n",
       "      <td>216</td>\n",
       "      <td>184</td>\n",
       "      <td>140</td>\n",
       "      <td>151</td>\n",
       "      <td>118</td>\n",
       "      <td>84</td>\n",
       "      <td>123</td>\n",
       "      <td>92</td>\n",
       "      <td>72</td>\n",
       "    </tr>\n",
       "    <tr>\n",
       "      <th>1</th>\n",
       "      <td>9</td>\n",
       "      <td>truck</td>\n",
       "      <td>154</td>\n",
       "      <td>177</td>\n",
       "      <td>187</td>\n",
       "      <td>126</td>\n",
       "      <td>137</td>\n",
       "      <td>136</td>\n",
       "      <td>105</td>\n",
       "      <td>104</td>\n",
       "      <td>...</td>\n",
       "      <td>136</td>\n",
       "      <td>143</td>\n",
       "      <td>133</td>\n",
       "      <td>139</td>\n",
       "      <td>143</td>\n",
       "      <td>134</td>\n",
       "      <td>142</td>\n",
       "      <td>143</td>\n",
       "      <td>133</td>\n",
       "      <td>144</td>\n",
       "    </tr>\n",
       "    <tr>\n",
       "      <th>2</th>\n",
       "      <td>9</td>\n",
       "      <td>truck</td>\n",
       "      <td>255</td>\n",
       "      <td>255</td>\n",
       "      <td>255</td>\n",
       "      <td>253</td>\n",
       "      <td>253</td>\n",
       "      <td>253</td>\n",
       "      <td>253</td>\n",
       "      <td>253</td>\n",
       "      <td>...</td>\n",
       "      <td>79</td>\n",
       "      <td>78</td>\n",
       "      <td>85</td>\n",
       "      <td>83</td>\n",
       "      <td>79</td>\n",
       "      <td>85</td>\n",
       "      <td>83</td>\n",
       "      <td>80</td>\n",
       "      <td>86</td>\n",
       "      <td>84</td>\n",
       "    </tr>\n",
       "    <tr>\n",
       "      <th>3</th>\n",
       "      <td>4</td>\n",
       "      <td>deer</td>\n",
       "      <td>28</td>\n",
       "      <td>25</td>\n",
       "      <td>10</td>\n",
       "      <td>37</td>\n",
       "      <td>34</td>\n",
       "      <td>19</td>\n",
       "      <td>38</td>\n",
       "      <td>35</td>\n",
       "      <td>...</td>\n",
       "      <td>38</td>\n",
       "      <td>54</td>\n",
       "      <td>47</td>\n",
       "      <td>28</td>\n",
       "      <td>63</td>\n",
       "      <td>56</td>\n",
       "      <td>37</td>\n",
       "      <td>72</td>\n",
       "      <td>65</td>\n",
       "      <td>46</td>\n",
       "    </tr>\n",
       "    <tr>\n",
       "      <th>4</th>\n",
       "      <td>1</td>\n",
       "      <td>automobile</td>\n",
       "      <td>170</td>\n",
       "      <td>180</td>\n",
       "      <td>198</td>\n",
       "      <td>168</td>\n",
       "      <td>178</td>\n",
       "      <td>196</td>\n",
       "      <td>177</td>\n",
       "      <td>185</td>\n",
       "      <td>...</td>\n",
       "      <td>78</td>\n",
       "      <td>75</td>\n",
       "      <td>79</td>\n",
       "      <td>82</td>\n",
       "      <td>71</td>\n",
       "      <td>75</td>\n",
       "      <td>78</td>\n",
       "      <td>73</td>\n",
       "      <td>77</td>\n",
       "      <td>80</td>\n",
       "    </tr>\n",
       "  </tbody>\n",
       "</table>\n",
       "<p>5 rows × 3074 columns</p>\n",
       "</div>"
      ],
      "text/plain": [
       "   Class  Class Name    0    1    2    3    4    5    6    7  ...  3062  3063  \\\n",
       "0      6        frog   59   62   63   43   46   45   50   48  ...   104   216   \n",
       "1      9       truck  154  177  187  126  137  136  105  104  ...   136   143   \n",
       "2      9       truck  255  255  255  253  253  253  253  253  ...    79    78   \n",
       "3      4        deer   28   25   10   37   34   19   38   35  ...    38    54   \n",
       "4      1  automobile  170  180  198  168  178  196  177  185  ...    78    75   \n",
       "\n",
       "   3064  3065  3066  3067  3068  3069  3070  3071  \n",
       "0   184   140   151   118    84   123    92    72  \n",
       "1   133   139   143   134   142   143   133   144  \n",
       "2    85    83    79    85    83    80    86    84  \n",
       "3    47    28    63    56    37    72    65    46  \n",
       "4    79    82    71    75    78    73    77    80  \n",
       "\n",
       "[5 rows x 3074 columns]"
      ]
     },
     "execution_count": 4,
     "metadata": {},
     "output_type": "execute_result"
    }
   ],
   "source": [
    "train_data.head()"
   ]
  },
  {
   "cell_type": "code",
   "execution_count": 5,
   "metadata": {},
   "outputs": [
    {
     "data": {
      "text/html": [
       "<div>\n",
       "<style scoped>\n",
       "    .dataframe tbody tr th:only-of-type {\n",
       "        vertical-align: middle;\n",
       "    }\n",
       "\n",
       "    .dataframe tbody tr th {\n",
       "        vertical-align: top;\n",
       "    }\n",
       "\n",
       "    .dataframe thead th {\n",
       "        text-align: right;\n",
       "    }\n",
       "</style>\n",
       "<table border=\"1\" class=\"dataframe\">\n",
       "  <thead>\n",
       "    <tr style=\"text-align: right;\">\n",
       "      <th></th>\n",
       "      <th>Class</th>\n",
       "      <th>Class Name</th>\n",
       "      <th>0</th>\n",
       "      <th>1</th>\n",
       "      <th>2</th>\n",
       "      <th>3</th>\n",
       "      <th>4</th>\n",
       "      <th>5</th>\n",
       "      <th>6</th>\n",
       "      <th>7</th>\n",
       "      <th>...</th>\n",
       "      <th>3062</th>\n",
       "      <th>3063</th>\n",
       "      <th>3064</th>\n",
       "      <th>3065</th>\n",
       "      <th>3066</th>\n",
       "      <th>3067</th>\n",
       "      <th>3068</th>\n",
       "      <th>3069</th>\n",
       "      <th>3070</th>\n",
       "      <th>3071</th>\n",
       "    </tr>\n",
       "  </thead>\n",
       "  <tbody>\n",
       "    <tr>\n",
       "      <th>0</th>\n",
       "      <td>3</td>\n",
       "      <td>cat</td>\n",
       "      <td>158</td>\n",
       "      <td>112</td>\n",
       "      <td>49</td>\n",
       "      <td>159</td>\n",
       "      <td>111</td>\n",
       "      <td>47</td>\n",
       "      <td>165</td>\n",
       "      <td>116</td>\n",
       "      <td>...</td>\n",
       "      <td>145</td>\n",
       "      <td>24</td>\n",
       "      <td>77</td>\n",
       "      <td>124</td>\n",
       "      <td>34</td>\n",
       "      <td>84</td>\n",
       "      <td>129</td>\n",
       "      <td>21</td>\n",
       "      <td>67</td>\n",
       "      <td>110</td>\n",
       "    </tr>\n",
       "    <tr>\n",
       "      <th>1</th>\n",
       "      <td>8</td>\n",
       "      <td>ship</td>\n",
       "      <td>235</td>\n",
       "      <td>235</td>\n",
       "      <td>235</td>\n",
       "      <td>231</td>\n",
       "      <td>231</td>\n",
       "      <td>231</td>\n",
       "      <td>232</td>\n",
       "      <td>232</td>\n",
       "      <td>...</td>\n",
       "      <td>163</td>\n",
       "      <td>168</td>\n",
       "      <td>183</td>\n",
       "      <td>178</td>\n",
       "      <td>180</td>\n",
       "      <td>195</td>\n",
       "      <td>191</td>\n",
       "      <td>186</td>\n",
       "      <td>200</td>\n",
       "      <td>199</td>\n",
       "    </tr>\n",
       "    <tr>\n",
       "      <th>2</th>\n",
       "      <td>8</td>\n",
       "      <td>ship</td>\n",
       "      <td>158</td>\n",
       "      <td>190</td>\n",
       "      <td>222</td>\n",
       "      <td>158</td>\n",
       "      <td>187</td>\n",
       "      <td>218</td>\n",
       "      <td>139</td>\n",
       "      <td>166</td>\n",
       "      <td>...</td>\n",
       "      <td>37</td>\n",
       "      <td>5</td>\n",
       "      <td>6</td>\n",
       "      <td>8</td>\n",
       "      <td>4</td>\n",
       "      <td>5</td>\n",
       "      <td>3</td>\n",
       "      <td>7</td>\n",
       "      <td>8</td>\n",
       "      <td>7</td>\n",
       "    </tr>\n",
       "    <tr>\n",
       "      <th>3</th>\n",
       "      <td>0</td>\n",
       "      <td>airplane</td>\n",
       "      <td>155</td>\n",
       "      <td>156</td>\n",
       "      <td>149</td>\n",
       "      <td>167</td>\n",
       "      <td>176</td>\n",
       "      <td>187</td>\n",
       "      <td>176</td>\n",
       "      <td>179</td>\n",
       "      <td>...</td>\n",
       "      <td>53</td>\n",
       "      <td>60</td>\n",
       "      <td>63</td>\n",
       "      <td>50</td>\n",
       "      <td>64</td>\n",
       "      <td>65</td>\n",
       "      <td>52</td>\n",
       "      <td>73</td>\n",
       "      <td>68</td>\n",
       "      <td>50</td>\n",
       "    </tr>\n",
       "    <tr>\n",
       "      <th>4</th>\n",
       "      <td>6</td>\n",
       "      <td>frog</td>\n",
       "      <td>65</td>\n",
       "      <td>68</td>\n",
       "      <td>50</td>\n",
       "      <td>70</td>\n",
       "      <td>81</td>\n",
       "      <td>64</td>\n",
       "      <td>48</td>\n",
       "      <td>64</td>\n",
       "      <td>...</td>\n",
       "      <td>147</td>\n",
       "      <td>143</td>\n",
       "      <td>179</td>\n",
       "      <td>136</td>\n",
       "      <td>154</td>\n",
       "      <td>185</td>\n",
       "      <td>146</td>\n",
       "      <td>128</td>\n",
       "      <td>156</td>\n",
       "      <td>117</td>\n",
       "    </tr>\n",
       "  </tbody>\n",
       "</table>\n",
       "<p>5 rows × 3074 columns</p>\n",
       "</div>"
      ],
      "text/plain": [
       "   Class Class Name    0    1    2    3    4    5    6    7  ...  3062  3063  \\\n",
       "0      3        cat  158  112   49  159  111   47  165  116  ...   145    24   \n",
       "1      8       ship  235  235  235  231  231  231  232  232  ...   163   168   \n",
       "2      8       ship  158  190  222  158  187  218  139  166  ...    37     5   \n",
       "3      0   airplane  155  156  149  167  176  187  176  179  ...    53    60   \n",
       "4      6       frog   65   68   50   70   81   64   48   64  ...   147   143   \n",
       "\n",
       "   3064  3065  3066  3067  3068  3069  3070  3071  \n",
       "0    77   124    34    84   129    21    67   110  \n",
       "1   183   178   180   195   191   186   200   199  \n",
       "2     6     8     4     5     3     7     8     7  \n",
       "3    63    50    64    65    52    73    68    50  \n",
       "4   179   136   154   185   146   128   156   117  \n",
       "\n",
       "[5 rows x 3074 columns]"
      ]
     },
     "execution_count": 5,
     "metadata": {},
     "output_type": "execute_result"
    }
   ],
   "source": [
    "test_data.head()"
   ]
  },
  {
   "cell_type": "code",
   "execution_count": 6,
   "metadata": {},
   "outputs": [
    {
     "name": "stdout",
     "output_type": "stream",
     "text": [
      "(50000, 3072)\n",
      "(50000, 2)\n"
     ]
    }
   ],
   "source": [
    "x_train = train_data.iloc[:, 2:]\n",
    "print(x_train.shape)\n",
    "y_train = train_data.iloc[:, [0, 1]]\n",
    "print(y_train.shape)"
   ]
  },
  {
   "cell_type": "code",
   "execution_count": 7,
   "metadata": {},
   "outputs": [
    {
     "name": "stdout",
     "output_type": "stream",
     "text": [
      "(10000, 3072)\n",
      "(10000, 2)\n"
     ]
    }
   ],
   "source": [
    "x_test = test_data.iloc[:, 2:]\n",
    "print(x_test.shape)\n",
    "y_test = test_data.iloc[:, [0, 1]]\n",
    "print(y_test.shape)"
   ]
  },
  {
   "cell_type": "code",
   "execution_count": 8,
   "metadata": {},
   "outputs": [],
   "source": [
    "x_train = np.array(x_train)\n",
    "x_test = np.array(x_test)"
   ]
  },
  {
   "cell_type": "code",
   "execution_count": 9,
   "metadata": {},
   "outputs": [
    {
     "name": "stdout",
     "output_type": "stream",
     "text": [
      "(50000, 3072)\n",
      "(10000, 3072)\n"
     ]
    }
   ],
   "source": [
    "print(x_train.shape)\n",
    "print(x_test.shape)"
   ]
  },
  {
   "cell_type": "code",
   "execution_count": 10,
   "metadata": {},
   "outputs": [
    {
     "name": "stdout",
     "output_type": "stream",
     "text": [
      "(50000, 32, 32, 3)\n",
      "(10000, 32, 32, 3)\n"
     ]
    }
   ],
   "source": [
    "x_train = x_train.reshape(len(x_train), 32, 32, 3)\n",
    "x_test = x_test.reshape(len(x_test), 32, 32, 3)\n",
    "print(x_train.shape)\n",
    "print(x_test.shape)"
   ]
  },
  {
   "cell_type": "code",
   "execution_count": 11,
   "metadata": {},
   "outputs": [
    {
     "name": "stdout",
     "output_type": "stream",
     "text": [
      "(50000, 32, 32, 3)\n",
      "(10000, 32, 32, 3)\n"
     ]
    }
   ],
   "source": [
    "x_train = x_train.astype('float32')/255\n",
    "x_test = x_test.astype('float32')/255\n",
    "print(x_train.shape)\n",
    "print(x_test.shape)"
   ]
  },
  {
   "cell_type": "code",
   "execution_count": 12,
   "metadata": {},
   "outputs": [],
   "source": [
    "input_img = Input(shape = (32, 32, 3))\n",
    "\n",
    "\n",
    "encoded = Conv2D(16, (3, 3), activation = 'relu', padding = 'same')(input_img)\n",
    "encoded = MaxPooling2D((2, 2), padding = 'same')(encoded)\n",
    "encoded = Conv2D(8, (3, 3), activation = 'relu', padding = 'same')(encoded)\n",
    "encoded = MaxPooling2D((2, 2), padding = 'same')(encoded)\n",
    "encoded = Conv2D(8, (3, 3), activation = 'relu', padding = 'same')(encoded)\n",
    "encoded = MaxPooling2D((2, 2), padding = 'same')(encoded)\n",
    "\n",
    "decoded = Conv2D(8, (3, 3), activation = 'relu', padding = 'same')(encoded)\n",
    "decoded = UpSampling2D((2, 2))(decoded)\n",
    "decoded = Conv2D(8, (3, 3), activation = 'relu', padding = 'same')(decoded)\n",
    "decoded = UpSampling2D((2, 2))(decoded)\n",
    "decoded = Conv2D(16, (3, 3), activation = 'relu', padding = 'same')(decoded)\n",
    "decoded = UpSampling2D((2, 2))(decoded)\n",
    "\n",
    "decoded = Conv2D(3, (3, 3), activation = 'tanh', padding = 'same')(decoded)"
   ]
  },
  {
   "cell_type": "code",
   "execution_count": 13,
   "metadata": {},
   "outputs": [],
   "source": [
    "autoencoder = Model(input_img, decoded)\n",
    "encoder = Model(input_img, encoded)"
   ]
  },
  {
   "cell_type": "code",
   "execution_count": 14,
   "metadata": {
    "scrolled": true
   },
   "outputs": [
    {
     "name": "stdout",
     "output_type": "stream",
     "text": [
      "Model: \"model_1\"\n",
      "_________________________________________________________________\n",
      "Layer (type)                 Output Shape              Param #   \n",
      "=================================================================\n",
      "input_1 (InputLayer)         (None, 32, 32, 3)         0         \n",
      "_________________________________________________________________\n",
      "conv2d_1 (Conv2D)            (None, 32, 32, 16)        448       \n",
      "_________________________________________________________________\n",
      "max_pooling2d_1 (MaxPooling2 (None, 16, 16, 16)        0         \n",
      "_________________________________________________________________\n",
      "conv2d_2 (Conv2D)            (None, 16, 16, 8)         1160      \n",
      "_________________________________________________________________\n",
      "max_pooling2d_2 (MaxPooling2 (None, 8, 8, 8)           0         \n",
      "_________________________________________________________________\n",
      "conv2d_3 (Conv2D)            (None, 8, 8, 8)           584       \n",
      "_________________________________________________________________\n",
      "max_pooling2d_3 (MaxPooling2 (None, 4, 4, 8)           0         \n",
      "_________________________________________________________________\n",
      "conv2d_4 (Conv2D)            (None, 4, 4, 8)           584       \n",
      "_________________________________________________________________\n",
      "up_sampling2d_1 (UpSampling2 (None, 8, 8, 8)           0         \n",
      "_________________________________________________________________\n",
      "conv2d_5 (Conv2D)            (None, 8, 8, 8)           584       \n",
      "_________________________________________________________________\n",
      "up_sampling2d_2 (UpSampling2 (None, 16, 16, 8)         0         \n",
      "_________________________________________________________________\n",
      "conv2d_6 (Conv2D)            (None, 16, 16, 16)        1168      \n",
      "_________________________________________________________________\n",
      "up_sampling2d_3 (UpSampling2 (None, 32, 32, 16)        0         \n",
      "_________________________________________________________________\n",
      "conv2d_7 (Conv2D)            (None, 32, 32, 3)         435       \n",
      "=================================================================\n",
      "Total params: 4,963\n",
      "Trainable params: 4,963\n",
      "Non-trainable params: 0\n",
      "_________________________________________________________________\n"
     ]
    }
   ],
   "source": [
    "autoencoder.summary()"
   ]
  },
  {
   "cell_type": "code",
   "execution_count": 15,
   "metadata": {
    "scrolled": true
   },
   "outputs": [
    {
     "name": "stdout",
     "output_type": "stream",
     "text": [
      "Model: \"model_2\"\n",
      "_________________________________________________________________\n",
      "Layer (type)                 Output Shape              Param #   \n",
      "=================================================================\n",
      "input_1 (InputLayer)         (None, 32, 32, 3)         0         \n",
      "_________________________________________________________________\n",
      "conv2d_1 (Conv2D)            (None, 32, 32, 16)        448       \n",
      "_________________________________________________________________\n",
      "max_pooling2d_1 (MaxPooling2 (None, 16, 16, 16)        0         \n",
      "_________________________________________________________________\n",
      "conv2d_2 (Conv2D)            (None, 16, 16, 8)         1160      \n",
      "_________________________________________________________________\n",
      "max_pooling2d_2 (MaxPooling2 (None, 8, 8, 8)           0         \n",
      "_________________________________________________________________\n",
      "conv2d_3 (Conv2D)            (None, 8, 8, 8)           584       \n",
      "_________________________________________________________________\n",
      "max_pooling2d_3 (MaxPooling2 (None, 4, 4, 8)           0         \n",
      "=================================================================\n",
      "Total params: 2,192\n",
      "Trainable params: 2,192\n",
      "Non-trainable params: 0\n",
      "_________________________________________________________________\n"
     ]
    }
   ],
   "source": [
    "encoder.summary()"
   ]
  },
  {
   "cell_type": "code",
   "execution_count": 16,
   "metadata": {
    "scrolled": true
   },
   "outputs": [
    {
     "name": "stdout",
     "output_type": "stream",
     "text": [
      "Train on 50000 samples, validate on 10000 samples\n",
      "Epoch 1/50\n",
      "50000/50000 [==============================] - 80s 2ms/step - loss: 0.0588 - accuracy: 0.4134 - val_loss: 0.0399 - val_accuracy: 0.4229\n",
      "Epoch 2/50\n",
      "50000/50000 [==============================] - 79s 2ms/step - loss: 0.0377 - accuracy: 0.4155 - val_loss: 0.0337 - val_accuracy: 0.4246\n",
      "Epoch 3/50\n",
      "50000/50000 [==============================] - 80s 2ms/step - loss: 0.0335 - accuracy: 0.4244 - val_loss: 0.0343 - val_accuracy: 0.4438\n",
      "Epoch 4/50\n",
      "50000/50000 [==============================] - 79s 2ms/step - loss: 0.0312 - accuracy: 0.4302 - val_loss: 0.0293 - val_accuracy: 0.4276\n",
      "Epoch 5/50\n",
      "50000/50000 [==============================] - 79s 2ms/step - loss: 0.0298 - accuracy: 0.4331 - val_loss: 0.0286 - val_accuracy: 0.4241\n",
      "Epoch 6/50\n",
      "50000/50000 [==============================] - 81s 2ms/step - loss: 0.0285 - accuracy: 0.4345 - val_loss: 0.0290 - val_accuracy: 0.4517\n",
      "Epoch 7/50\n",
      "50000/50000 [==============================] - 80s 2ms/step - loss: 0.0278 - accuracy: 0.4364 - val_loss: 0.0280 - val_accuracy: 0.4594\n",
      "Epoch 8/50\n",
      "50000/50000 [==============================] - 80s 2ms/step - loss: 0.0272 - accuracy: 0.4394 - val_loss: 0.0268 - val_accuracy: 0.4559\n",
      "Epoch 9/50\n",
      "50000/50000 [==============================] - 80s 2ms/step - loss: 0.0267 - accuracy: 0.4441 - val_loss: 0.0262 - val_accuracy: 0.4397\n",
      "Epoch 10/50\n",
      "50000/50000 [==============================] - 80s 2ms/step - loss: 0.0264 - accuracy: 0.4486 - val_loss: 0.0262 - val_accuracy: 0.4683\n",
      "Epoch 11/50\n",
      "50000/50000 [==============================] - 81s 2ms/step - loss: 0.0259 - accuracy: 0.4532 - val_loss: 0.0272 - val_accuracy: 0.4604\n",
      "Epoch 12/50\n",
      "50000/50000 [==============================] - 88s 2ms/step - loss: 0.0255 - accuracy: 0.4573 - val_loss: 0.0255 - val_accuracy: 0.4550\n",
      "Epoch 13/50\n",
      "50000/50000 [==============================] - 114s 2ms/step - loss: 0.0251 - accuracy: 0.4605 - val_loss: 0.0259 - val_accuracy: 0.4705\n",
      "Epoch 14/50\n",
      "50000/50000 [==============================] - 93s 2ms/step - loss: 0.0249 - accuracy: 0.4629 - val_loss: 0.0255 - val_accuracy: 0.4719\n",
      "Epoch 15/50\n",
      "50000/50000 [==============================] - 86s 2ms/step - loss: 0.0247 - accuracy: 0.4648 - val_loss: 0.0236 - val_accuracy: 0.4620\n",
      "Epoch 16/50\n",
      "50000/50000 [==============================] - 90s 2ms/step - loss: 0.0243 - accuracy: 0.4662 - val_loss: 0.0241 - val_accuracy: 0.4797\n",
      "Epoch 17/50\n",
      "50000/50000 [==============================] - 86s 2ms/step - loss: 0.0240 - accuracy: 0.4677 - val_loss: 0.0246 - val_accuracy: 0.4638\n",
      "Epoch 18/50\n",
      "50000/50000 [==============================] - 88s 2ms/step - loss: 0.0238 - accuracy: 0.4678 - val_loss: 0.0249 - val_accuracy: 0.4858\n",
      "Epoch 19/50\n",
      "50000/50000 [==============================] - 87s 2ms/step - loss: 0.0234 - accuracy: 0.4707 - val_loss: 0.0245 - val_accuracy: 0.4699\n",
      "Epoch 20/50\n",
      "50000/50000 [==============================] - 83s 2ms/step - loss: 0.0231 - accuracy: 0.4708 - val_loss: 0.0231 - val_accuracy: 0.4834\n",
      "Epoch 21/50\n",
      "50000/50000 [==============================] - 84s 2ms/step - loss: 0.0228 - accuracy: 0.4726 - val_loss: 0.0223 - val_accuracy: 0.4772\n",
      "Epoch 22/50\n",
      "50000/50000 [==============================] - 84s 2ms/step - loss: 0.0226 - accuracy: 0.4745 - val_loss: 0.0226 - val_accuracy: 0.4744\n",
      "Epoch 23/50\n",
      "50000/50000 [==============================] - 86s 2ms/step - loss: 0.0224 - accuracy: 0.4755 - val_loss: 0.0225 - val_accuracy: 0.4817\n",
      "Epoch 24/50\n",
      "50000/50000 [==============================] - 83s 2ms/step - loss: 0.0222 - accuracy: 0.4762 - val_loss: 0.0225 - val_accuracy: 0.4783\n",
      "Epoch 25/50\n",
      "50000/50000 [==============================] - 83s 2ms/step - loss: 0.0221 - accuracy: 0.4769 - val_loss: 0.0231 - val_accuracy: 0.4663\n",
      "Epoch 26/50\n",
      "50000/50000 [==============================] - 82s 2ms/step - loss: 0.0220 - accuracy: 0.4759 - val_loss: 0.0212 - val_accuracy: 0.4909\n",
      "Epoch 27/50\n",
      "50000/50000 [==============================] - 87s 2ms/step - loss: 0.0217 - accuracy: 0.4772 - val_loss: 0.0219 - val_accuracy: 0.4864\n",
      "Epoch 28/50\n",
      "50000/50000 [==============================] - 81s 2ms/step - loss: 0.0216 - accuracy: 0.4766 - val_loss: 0.0214 - val_accuracy: 0.4828\n",
      "Epoch 29/50\n",
      "50000/50000 [==============================] - 81s 2ms/step - loss: 0.0216 - accuracy: 0.4769 - val_loss: 0.0218 - val_accuracy: 0.4832\n",
      "Epoch 30/50\n",
      "50000/50000 [==============================] - 89s 2ms/step - loss: 0.0215 - accuracy: 0.4779 - val_loss: 0.0231 - val_accuracy: 0.4823\n",
      "Epoch 31/50\n",
      "50000/50000 [==============================] - 84s 2ms/step - loss: 0.0214 - accuracy: 0.4779 - val_loss: 0.0222 - val_accuracy: 0.4859\n",
      "Epoch 32/50\n",
      "50000/50000 [==============================] - 91s 2ms/step - loss: 0.0213 - accuracy: 0.4779 - val_loss: 0.0206 - val_accuracy: 0.4807\n",
      "Epoch 33/50\n",
      "50000/50000 [==============================] - 84s 2ms/step - loss: 0.0212 - accuracy: 0.4783 - val_loss: 0.0212 - val_accuracy: 0.4931\n",
      "Epoch 34/50\n",
      "50000/50000 [==============================] - 81s 2ms/step - loss: 0.0211 - accuracy: 0.4786 - val_loss: 0.0222 - val_accuracy: 0.4881\n",
      "Epoch 35/50\n",
      "50000/50000 [==============================] - 81s 2ms/step - loss: 0.0209 - accuracy: 0.4791 - val_loss: 0.0216 - val_accuracy: 0.4750\n",
      "Epoch 36/50\n",
      "50000/50000 [==============================] - 81s 2ms/step - loss: 0.0209 - accuracy: 0.4786 - val_loss: 0.0206 - val_accuracy: 0.4936\n",
      "Epoch 37/50\n",
      "50000/50000 [==============================] - 81s 2ms/step - loss: 0.0208 - accuracy: 0.4800 - val_loss: 0.0207 - val_accuracy: 0.4821\n",
      "Epoch 38/50\n",
      "50000/50000 [==============================] - 82s 2ms/step - loss: 0.0208 - accuracy: 0.4795 - val_loss: 0.0210 - val_accuracy: 0.4832\n",
      "Epoch 39/50\n",
      "50000/50000 [==============================] - 81s 2ms/step - loss: 0.0208 - accuracy: 0.4802 - val_loss: 0.0209 - val_accuracy: 0.4833\n",
      "Epoch 40/50\n",
      "50000/50000 [==============================] - 81s 2ms/step - loss: 0.0206 - accuracy: 0.4807 - val_loss: 0.0204 - val_accuracy: 0.4885\n",
      "Epoch 41/50\n",
      "50000/50000 [==============================] - 81s 2ms/step - loss: 0.0206 - accuracy: 0.4815 - val_loss: 0.0209 - val_accuracy: 0.4946\n",
      "Epoch 42/50\n",
      "50000/50000 [==============================] - 81s 2ms/step - loss: 0.0204 - accuracy: 0.4819 - val_loss: 0.0208 - val_accuracy: 0.4757\n",
      "Epoch 43/50\n",
      "50000/50000 [==============================] - 83s 2ms/step - loss: 0.0204 - accuracy: 0.4819 - val_loss: 0.0209 - val_accuracy: 0.4932\n",
      "Epoch 44/50\n",
      "50000/50000 [==============================] - 85s 2ms/step - loss: 0.0203 - accuracy: 0.4834 - val_loss: 0.0203 - val_accuracy: 0.4864\n",
      "Epoch 45/50\n",
      "50000/50000 [==============================] - 81s 2ms/step - loss: 0.0203 - accuracy: 0.4841 - val_loss: 0.0209 - val_accuracy: 0.4912\n",
      "Epoch 46/50\n",
      "50000/50000 [==============================] - 85s 2ms/step - loss: 0.0202 - accuracy: 0.4856 - val_loss: 0.0203 - val_accuracy: 0.4861\n",
      "Epoch 47/50\n",
      "50000/50000 [==============================] - 84s 2ms/step - loss: 0.0202 - accuracy: 0.4869 - val_loss: 0.0207 - val_accuracy: 0.4945\n",
      "Epoch 48/50\n",
      "50000/50000 [==============================] - 81s 2ms/step - loss: 0.0201 - accuracy: 0.4897 - val_loss: 0.0202 - val_accuracy: 0.4820\n",
      "Epoch 49/50\n",
      "50000/50000 [==============================] - 84s 2ms/step - loss: 0.0200 - accuracy: 0.4922 - val_loss: 0.0196 - val_accuracy: 0.4894\n",
      "Epoch 50/50\n",
      "50000/50000 [==============================] - 82s 2ms/step - loss: 0.0200 - accuracy: 0.4979 - val_loss: 0.0193 - val_accuracy: 0.4983\n"
     ]
    },
    {
     "data": {
      "text/plain": [
       "<keras.callbacks.callbacks.History at 0x139c8ab38>"
      ]
     },
     "execution_count": 16,
     "metadata": {},
     "output_type": "execute_result"
    }
   ],
   "source": [
    "autoencoder.compile(optimizer = 'adadelta', loss = 'mse', metrics = ['accuracy'])\n",
    "autoencoder.fit(x_train, x_train, epochs = 50, batch_size = 256, shuffle = True, validation_data = [x_test, x_test])"
   ]
  },
  {
   "cell_type": "code",
   "execution_count": 17,
   "metadata": {},
   "outputs": [],
   "source": [
    "encoded_test_data = encoder.predict(x_test)\n",
    "predicted_test_data = autoencoder.predict(x_test)"
   ]
  },
  {
   "cell_type": "code",
   "execution_count": 18,
   "metadata": {},
   "outputs": [
    {
     "data": {
      "text/plain": [
       "(10000, 4, 4, 8)"
      ]
     },
     "execution_count": 18,
     "metadata": {},
     "output_type": "execute_result"
    }
   ],
   "source": [
    "encoded_test_data.shape"
   ]
  },
  {
   "cell_type": "code",
   "execution_count": 19,
   "metadata": {},
   "outputs": [],
   "source": [
    "encoded_test_data = encoded_test_data.reshape(len(encoded_test_data), np.prod(encoded_test_data.shape[1:]))"
   ]
  },
  {
   "cell_type": "code",
   "execution_count": 20,
   "metadata": {},
   "outputs": [
    {
     "data": {
      "text/plain": [
       "(10000, 128)"
      ]
     },
     "execution_count": 20,
     "metadata": {},
     "output_type": "execute_result"
    }
   ],
   "source": [
    "encoded_test_data.shape"
   ]
  },
  {
   "cell_type": "code",
   "execution_count": 21,
   "metadata": {},
   "outputs": [
    {
     "data": {
      "text/html": [
       "<div>\n",
       "<style scoped>\n",
       "    .dataframe tbody tr th:only-of-type {\n",
       "        vertical-align: middle;\n",
       "    }\n",
       "\n",
       "    .dataframe tbody tr th {\n",
       "        vertical-align: top;\n",
       "    }\n",
       "\n",
       "    .dataframe thead th {\n",
       "        text-align: right;\n",
       "    }\n",
       "</style>\n",
       "<table border=\"1\" class=\"dataframe\">\n",
       "  <thead>\n",
       "    <tr style=\"text-align: right;\">\n",
       "      <th></th>\n",
       "      <th>Class</th>\n",
       "      <th>Class Name</th>\n",
       "    </tr>\n",
       "  </thead>\n",
       "  <tbody>\n",
       "    <tr>\n",
       "      <th>0</th>\n",
       "      <td>3</td>\n",
       "      <td>cat</td>\n",
       "    </tr>\n",
       "    <tr>\n",
       "      <th>1</th>\n",
       "      <td>8</td>\n",
       "      <td>ship</td>\n",
       "    </tr>\n",
       "    <tr>\n",
       "      <th>2</th>\n",
       "      <td>8</td>\n",
       "      <td>ship</td>\n",
       "    </tr>\n",
       "    <tr>\n",
       "      <th>3</th>\n",
       "      <td>0</td>\n",
       "      <td>airplane</td>\n",
       "    </tr>\n",
       "    <tr>\n",
       "      <th>4</th>\n",
       "      <td>6</td>\n",
       "      <td>frog</td>\n",
       "    </tr>\n",
       "    <tr>\n",
       "      <th>...</th>\n",
       "      <td>...</td>\n",
       "      <td>...</td>\n",
       "    </tr>\n",
       "    <tr>\n",
       "      <th>9995</th>\n",
       "      <td>8</td>\n",
       "      <td>ship</td>\n",
       "    </tr>\n",
       "    <tr>\n",
       "      <th>9996</th>\n",
       "      <td>3</td>\n",
       "      <td>cat</td>\n",
       "    </tr>\n",
       "    <tr>\n",
       "      <th>9997</th>\n",
       "      <td>5</td>\n",
       "      <td>dog</td>\n",
       "    </tr>\n",
       "    <tr>\n",
       "      <th>9998</th>\n",
       "      <td>1</td>\n",
       "      <td>automobile</td>\n",
       "    </tr>\n",
       "    <tr>\n",
       "      <th>9999</th>\n",
       "      <td>7</td>\n",
       "      <td>horse</td>\n",
       "    </tr>\n",
       "  </tbody>\n",
       "</table>\n",
       "<p>10000 rows × 2 columns</p>\n",
       "</div>"
      ],
      "text/plain": [
       "      Class  Class Name\n",
       "0         3         cat\n",
       "1         8        ship\n",
       "2         8        ship\n",
       "3         0    airplane\n",
       "4         6        frog\n",
       "...     ...         ...\n",
       "9995      8        ship\n",
       "9996      3         cat\n",
       "9997      5         dog\n",
       "9998      1  automobile\n",
       "9999      7       horse\n",
       "\n",
       "[10000 rows x 2 columns]"
      ]
     },
     "execution_count": 21,
     "metadata": {},
     "output_type": "execute_result"
    }
   ],
   "source": [
    "y_test"
   ]
  },
  {
   "cell_type": "code",
   "execution_count": 22,
   "metadata": {},
   "outputs": [
    {
     "data": {
      "text/plain": [
       "(10000, 130)"
      ]
     },
     "execution_count": 22,
     "metadata": {},
     "output_type": "execute_result"
    }
   ],
   "source": [
    "encoded_test_data_df = pd.DataFrame(encoded_test_data)\n",
    "final_encoded_test_data_df = pd.concat([y_test, encoded_test_data_df], axis = 1)\n",
    "final_encoded_test_data_df.shape"
   ]
  },
  {
   "cell_type": "code",
   "execution_count": 23,
   "metadata": {},
   "outputs": [],
   "source": [
    "datadir = '/Users/sidv88/Documents/Data_Management_2/Convolutional_Encoded_Data/'\n",
    "final_encoded_test_data_df.to_csv(datadir + 'Convolutional_Encoded_Test_RTADM.csv', index = False)"
   ]
  },
  {
   "cell_type": "code",
   "execution_count": 24,
   "metadata": {},
   "outputs": [
    {
     "name": "stdout",
     "output_type": "stream",
     "text": [
      "Enter one of these values ['cat' 'ship' 'airplane' 'frog' 'automobile' 'truck' 'dog' 'horse' 'deer'\n",
      " 'bird'] : frog\n"
     ]
    }
   ],
   "source": [
    "input_val = input(\"Enter one of these values {} : \".format(final_encoded_test_data_df['Class Name'].unique()))"
   ]
  },
  {
   "cell_type": "code",
   "execution_count": 25,
   "metadata": {},
   "outputs": [
    {
     "name": "stdout",
     "output_type": "stream",
     "text": [
      "Enter a number between 0 and 999 : 4\n"
     ]
    }
   ],
   "source": [
    "input_num = input(\"Enter a number between 0 and 999 : \")"
   ]
  },
  {
   "cell_type": "code",
   "execution_count": 26,
   "metadata": {},
   "outputs": [
    {
     "name": "stdout",
     "output_type": "stream",
     "text": [
      "10000\n",
      "10000\n"
     ]
    }
   ],
   "source": [
    "from numpy import dot\n",
    "from numpy.linalg import norm\n",
    "\n",
    "cosine_similarity = []\n",
    "cosine_distance = []\n",
    "\n",
    "for i in range(len(x_test)):\n",
    "    a = final_encoded_test_data_df.loc[final_encoded_test_data_df['Class Name'] == input_val].iloc[int(input_num), 2:]\n",
    "    b = final_encoded_test_data_df.iloc[i, 2:]\n",
    "    cos_sim = dot(a, b)/(norm(a) * norm(b))\n",
    "    cos_dist = 1 - cos_sim\n",
    "    cosine_similarity.append(cos_sim)\n",
    "    cosine_distance.append(cos_dist)\n",
    "print(len(cosine_similarity))\n",
    "print(len(cosine_distance))"
   ]
  },
  {
   "cell_type": "code",
   "execution_count": 27,
   "metadata": {},
   "outputs": [],
   "source": [
    "final_encoded_test_data_df['Cosine Similarity'] = cosine_similarity\n",
    "final_encoded_test_data_df['Cosine Distance'] = cosine_distance"
   ]
  },
  {
   "cell_type": "code",
   "execution_count": 28,
   "metadata": {},
   "outputs": [
    {
     "data": {
      "text/html": [
       "<div>\n",
       "<style scoped>\n",
       "    .dataframe tbody tr th:only-of-type {\n",
       "        vertical-align: middle;\n",
       "    }\n",
       "\n",
       "    .dataframe tbody tr th {\n",
       "        vertical-align: top;\n",
       "    }\n",
       "\n",
       "    .dataframe thead th {\n",
       "        text-align: right;\n",
       "    }\n",
       "</style>\n",
       "<table border=\"1\" class=\"dataframe\">\n",
       "  <thead>\n",
       "    <tr style=\"text-align: right;\">\n",
       "      <th></th>\n",
       "      <th>Class</th>\n",
       "      <th>Class Name</th>\n",
       "      <th>0</th>\n",
       "      <th>1</th>\n",
       "      <th>2</th>\n",
       "      <th>3</th>\n",
       "      <th>4</th>\n",
       "      <th>5</th>\n",
       "      <th>6</th>\n",
       "      <th>7</th>\n",
       "      <th>...</th>\n",
       "      <th>120</th>\n",
       "      <th>121</th>\n",
       "      <th>122</th>\n",
       "      <th>123</th>\n",
       "      <th>124</th>\n",
       "      <th>125</th>\n",
       "      <th>126</th>\n",
       "      <th>127</th>\n",
       "      <th>Cosine Similarity</th>\n",
       "      <th>Cosine Distance</th>\n",
       "    </tr>\n",
       "  </thead>\n",
       "  <tbody>\n",
       "    <tr>\n",
       "      <th>29</th>\n",
       "      <td>6</td>\n",
       "      <td>frog</td>\n",
       "      <td>0.000000</td>\n",
       "      <td>0.410287</td>\n",
       "      <td>0.0</td>\n",
       "      <td>0.379959</td>\n",
       "      <td>0.000000</td>\n",
       "      <td>0.509424</td>\n",
       "      <td>0.242166</td>\n",
       "      <td>0.000000</td>\n",
       "      <td>...</td>\n",
       "      <td>1.324851</td>\n",
       "      <td>0.731033</td>\n",
       "      <td>0.0</td>\n",
       "      <td>0.244097</td>\n",
       "      <td>1.558900</td>\n",
       "      <td>2.017640</td>\n",
       "      <td>0.137200</td>\n",
       "      <td>0.000000</td>\n",
       "      <td>1.000000</td>\n",
       "      <td>0.000000</td>\n",
       "    </tr>\n",
       "    <tr>\n",
       "      <th>6731</th>\n",
       "      <td>6</td>\n",
       "      <td>frog</td>\n",
       "      <td>0.000000</td>\n",
       "      <td>0.443527</td>\n",
       "      <td>0.0</td>\n",
       "      <td>0.336449</td>\n",
       "      <td>0.000000</td>\n",
       "      <td>0.420702</td>\n",
       "      <td>0.001334</td>\n",
       "      <td>0.000000</td>\n",
       "      <td>...</td>\n",
       "      <td>1.193007</td>\n",
       "      <td>0.539657</td>\n",
       "      <td>0.0</td>\n",
       "      <td>0.281607</td>\n",
       "      <td>1.153913</td>\n",
       "      <td>1.670267</td>\n",
       "      <td>0.190233</td>\n",
       "      <td>0.148120</td>\n",
       "      <td>0.920821</td>\n",
       "      <td>0.079179</td>\n",
       "    </tr>\n",
       "    <tr>\n",
       "      <th>7006</th>\n",
       "      <td>6</td>\n",
       "      <td>frog</td>\n",
       "      <td>0.544375</td>\n",
       "      <td>0.807558</td>\n",
       "      <td>0.0</td>\n",
       "      <td>0.190341</td>\n",
       "      <td>0.171373</td>\n",
       "      <td>0.664574</td>\n",
       "      <td>0.000000</td>\n",
       "      <td>0.000000</td>\n",
       "      <td>...</td>\n",
       "      <td>1.212860</td>\n",
       "      <td>0.398420</td>\n",
       "      <td>0.0</td>\n",
       "      <td>0.307501</td>\n",
       "      <td>1.813901</td>\n",
       "      <td>1.658338</td>\n",
       "      <td>0.193657</td>\n",
       "      <td>0.061897</td>\n",
       "      <td>0.902586</td>\n",
       "      <td>0.097414</td>\n",
       "    </tr>\n",
       "    <tr>\n",
       "      <th>8040</th>\n",
       "      <td>2</td>\n",
       "      <td>bird</td>\n",
       "      <td>0.697893</td>\n",
       "      <td>0.841069</td>\n",
       "      <td>0.0</td>\n",
       "      <td>0.011245</td>\n",
       "      <td>0.543955</td>\n",
       "      <td>0.827173</td>\n",
       "      <td>0.000000</td>\n",
       "      <td>0.000000</td>\n",
       "      <td>...</td>\n",
       "      <td>2.006384</td>\n",
       "      <td>0.289675</td>\n",
       "      <td>0.0</td>\n",
       "      <td>0.267457</td>\n",
       "      <td>1.687457</td>\n",
       "      <td>2.547291</td>\n",
       "      <td>0.000000</td>\n",
       "      <td>0.000000</td>\n",
       "      <td>0.902489</td>\n",
       "      <td>0.097511</td>\n",
       "    </tr>\n",
       "    <tr>\n",
       "      <th>7365</th>\n",
       "      <td>4</td>\n",
       "      <td>deer</td>\n",
       "      <td>0.000000</td>\n",
       "      <td>0.274791</td>\n",
       "      <td>0.0</td>\n",
       "      <td>0.461860</td>\n",
       "      <td>0.000000</td>\n",
       "      <td>0.065090</td>\n",
       "      <td>0.008848</td>\n",
       "      <td>0.000000</td>\n",
       "      <td>...</td>\n",
       "      <td>1.168961</td>\n",
       "      <td>0.305727</td>\n",
       "      <td>0.0</td>\n",
       "      <td>0.504976</td>\n",
       "      <td>1.073895</td>\n",
       "      <td>1.296721</td>\n",
       "      <td>0.109206</td>\n",
       "      <td>0.025572</td>\n",
       "      <td>0.897377</td>\n",
       "      <td>0.102623</td>\n",
       "    </tr>\n",
       "    <tr>\n",
       "      <th>...</th>\n",
       "      <td>...</td>\n",
       "      <td>...</td>\n",
       "      <td>...</td>\n",
       "      <td>...</td>\n",
       "      <td>...</td>\n",
       "      <td>...</td>\n",
       "      <td>...</td>\n",
       "      <td>...</td>\n",
       "      <td>...</td>\n",
       "      <td>...</td>\n",
       "      <td>...</td>\n",
       "      <td>...</td>\n",
       "      <td>...</td>\n",
       "      <td>...</td>\n",
       "      <td>...</td>\n",
       "      <td>...</td>\n",
       "      <td>...</td>\n",
       "      <td>...</td>\n",
       "      <td>...</td>\n",
       "      <td>...</td>\n",
       "      <td>...</td>\n",
       "    </tr>\n",
       "    <tr>\n",
       "      <th>1617</th>\n",
       "      <td>0</td>\n",
       "      <td>airplane</td>\n",
       "      <td>0.000000</td>\n",
       "      <td>0.000000</td>\n",
       "      <td>0.0</td>\n",
       "      <td>1.601385</td>\n",
       "      <td>0.000000</td>\n",
       "      <td>0.000000</td>\n",
       "      <td>1.983671</td>\n",
       "      <td>0.982151</td>\n",
       "      <td>...</td>\n",
       "      <td>0.491668</td>\n",
       "      <td>0.000000</td>\n",
       "      <td>0.0</td>\n",
       "      <td>0.791792</td>\n",
       "      <td>0.000000</td>\n",
       "      <td>0.000000</td>\n",
       "      <td>2.111647</td>\n",
       "      <td>6.758101</td>\n",
       "      <td>0.138306</td>\n",
       "      <td>0.861694</td>\n",
       "    </tr>\n",
       "    <tr>\n",
       "      <th>3444</th>\n",
       "      <td>0</td>\n",
       "      <td>airplane</td>\n",
       "      <td>0.000000</td>\n",
       "      <td>0.000000</td>\n",
       "      <td>0.0</td>\n",
       "      <td>3.162362</td>\n",
       "      <td>0.000000</td>\n",
       "      <td>0.000000</td>\n",
       "      <td>4.071982</td>\n",
       "      <td>2.792630</td>\n",
       "      <td>...</td>\n",
       "      <td>0.377908</td>\n",
       "      <td>0.000000</td>\n",
       "      <td>0.0</td>\n",
       "      <td>0.519747</td>\n",
       "      <td>0.000000</td>\n",
       "      <td>0.000000</td>\n",
       "      <td>2.656502</td>\n",
       "      <td>8.412113</td>\n",
       "      <td>0.137963</td>\n",
       "      <td>0.862037</td>\n",
       "    </tr>\n",
       "    <tr>\n",
       "      <th>6222</th>\n",
       "      <td>0</td>\n",
       "      <td>airplane</td>\n",
       "      <td>0.000000</td>\n",
       "      <td>0.254721</td>\n",
       "      <td>0.0</td>\n",
       "      <td>0.628145</td>\n",
       "      <td>0.000000</td>\n",
       "      <td>0.000000</td>\n",
       "      <td>0.712530</td>\n",
       "      <td>0.842731</td>\n",
       "      <td>...</td>\n",
       "      <td>0.196279</td>\n",
       "      <td>0.000000</td>\n",
       "      <td>0.0</td>\n",
       "      <td>0.927377</td>\n",
       "      <td>0.000000</td>\n",
       "      <td>0.000000</td>\n",
       "      <td>1.873338</td>\n",
       "      <td>6.625986</td>\n",
       "      <td>0.137427</td>\n",
       "      <td>0.862573</td>\n",
       "    </tr>\n",
       "    <tr>\n",
       "      <th>8024</th>\n",
       "      <td>0</td>\n",
       "      <td>airplane</td>\n",
       "      <td>0.000000</td>\n",
       "      <td>0.000000</td>\n",
       "      <td>0.0</td>\n",
       "      <td>1.563756</td>\n",
       "      <td>0.000000</td>\n",
       "      <td>0.000000</td>\n",
       "      <td>1.817111</td>\n",
       "      <td>1.538309</td>\n",
       "      <td>...</td>\n",
       "      <td>0.575792</td>\n",
       "      <td>0.000000</td>\n",
       "      <td>0.0</td>\n",
       "      <td>1.190932</td>\n",
       "      <td>0.000000</td>\n",
       "      <td>0.000000</td>\n",
       "      <td>2.165050</td>\n",
       "      <td>8.243703</td>\n",
       "      <td>0.131324</td>\n",
       "      <td>0.868676</td>\n",
       "    </tr>\n",
       "    <tr>\n",
       "      <th>1651</th>\n",
       "      <td>0</td>\n",
       "      <td>airplane</td>\n",
       "      <td>0.000000</td>\n",
       "      <td>0.000000</td>\n",
       "      <td>0.0</td>\n",
       "      <td>1.517659</td>\n",
       "      <td>0.000000</td>\n",
       "      <td>0.000000</td>\n",
       "      <td>1.832253</td>\n",
       "      <td>1.296896</td>\n",
       "      <td>...</td>\n",
       "      <td>0.465696</td>\n",
       "      <td>0.000000</td>\n",
       "      <td>0.0</td>\n",
       "      <td>0.000000</td>\n",
       "      <td>0.000000</td>\n",
       "      <td>0.000000</td>\n",
       "      <td>1.149965</td>\n",
       "      <td>4.456409</td>\n",
       "      <td>0.130396</td>\n",
       "      <td>0.869604</td>\n",
       "    </tr>\n",
       "  </tbody>\n",
       "</table>\n",
       "<p>10000 rows × 132 columns</p>\n",
       "</div>"
      ],
      "text/plain": [
       "      Class Class Name         0         1    2         3         4         5  \\\n",
       "29        6       frog  0.000000  0.410287  0.0  0.379959  0.000000  0.509424   \n",
       "6731      6       frog  0.000000  0.443527  0.0  0.336449  0.000000  0.420702   \n",
       "7006      6       frog  0.544375  0.807558  0.0  0.190341  0.171373  0.664574   \n",
       "8040      2       bird  0.697893  0.841069  0.0  0.011245  0.543955  0.827173   \n",
       "7365      4       deer  0.000000  0.274791  0.0  0.461860  0.000000  0.065090   \n",
       "...     ...        ...       ...       ...  ...       ...       ...       ...   \n",
       "1617      0   airplane  0.000000  0.000000  0.0  1.601385  0.000000  0.000000   \n",
       "3444      0   airplane  0.000000  0.000000  0.0  3.162362  0.000000  0.000000   \n",
       "6222      0   airplane  0.000000  0.254721  0.0  0.628145  0.000000  0.000000   \n",
       "8024      0   airplane  0.000000  0.000000  0.0  1.563756  0.000000  0.000000   \n",
       "1651      0   airplane  0.000000  0.000000  0.0  1.517659  0.000000  0.000000   \n",
       "\n",
       "             6         7  ...       120       121  122       123       124  \\\n",
       "29    0.242166  0.000000  ...  1.324851  0.731033  0.0  0.244097  1.558900   \n",
       "6731  0.001334  0.000000  ...  1.193007  0.539657  0.0  0.281607  1.153913   \n",
       "7006  0.000000  0.000000  ...  1.212860  0.398420  0.0  0.307501  1.813901   \n",
       "8040  0.000000  0.000000  ...  2.006384  0.289675  0.0  0.267457  1.687457   \n",
       "7365  0.008848  0.000000  ...  1.168961  0.305727  0.0  0.504976  1.073895   \n",
       "...        ...       ...  ...       ...       ...  ...       ...       ...   \n",
       "1617  1.983671  0.982151  ...  0.491668  0.000000  0.0  0.791792  0.000000   \n",
       "3444  4.071982  2.792630  ...  0.377908  0.000000  0.0  0.519747  0.000000   \n",
       "6222  0.712530  0.842731  ...  0.196279  0.000000  0.0  0.927377  0.000000   \n",
       "8024  1.817111  1.538309  ...  0.575792  0.000000  0.0  1.190932  0.000000   \n",
       "1651  1.832253  1.296896  ...  0.465696  0.000000  0.0  0.000000  0.000000   \n",
       "\n",
       "           125       126       127  Cosine Similarity  Cosine Distance  \n",
       "29    2.017640  0.137200  0.000000           1.000000         0.000000  \n",
       "6731  1.670267  0.190233  0.148120           0.920821         0.079179  \n",
       "7006  1.658338  0.193657  0.061897           0.902586         0.097414  \n",
       "8040  2.547291  0.000000  0.000000           0.902489         0.097511  \n",
       "7365  1.296721  0.109206  0.025572           0.897377         0.102623  \n",
       "...        ...       ...       ...                ...              ...  \n",
       "1617  0.000000  2.111647  6.758101           0.138306         0.861694  \n",
       "3444  0.000000  2.656502  8.412113           0.137963         0.862037  \n",
       "6222  0.000000  1.873338  6.625986           0.137427         0.862573  \n",
       "8024  0.000000  2.165050  8.243703           0.131324         0.868676  \n",
       "1651  0.000000  1.149965  4.456409           0.130396         0.869604  \n",
       "\n",
       "[10000 rows x 132 columns]"
      ]
     },
     "execution_count": 28,
     "metadata": {},
     "output_type": "execute_result"
    }
   ],
   "source": [
    "final_encoded_test_data_df.sort_values(by = ['Cosine Similarity'], ascending = False)"
   ]
  },
  {
   "cell_type": "code",
   "execution_count": 29,
   "metadata": {},
   "outputs": [],
   "source": [
    "cosine_index = final_encoded_test_data_df.sort_values(by = ['Cosine Similarity'], ascending = False).head(10).index"
   ]
  },
  {
   "cell_type": "code",
   "execution_count": 30,
   "metadata": {
    "scrolled": true
   },
   "outputs": [
    {
     "data": {
      "image/png": "[encoded data removed]",
      "text/plain": [
       "<Figure size 144x144 with 1 Axes>"
      ]
     },
     "metadata": {
      "needs_background": "light"
     },
     "output_type": "display_data"
    },
    {
     "data": {
      "image/png": "[encoded data removed]",
      "text/plain": [
       "<Figure size 144x144 with 1 Axes>"
      ]
     },
     "metadata": {
      "needs_background": "light"
     },
     "output_type": "display_data"
    },
    {
     "data": {
      "image/png": "[encoded data removed]",
      "text/plain": [
       "<Figure size 144x144 with 1 Axes>"
      ]
     },
     "metadata": {
      "needs_background": "light"
     },
     "output_type": "display_data"
    },
    {
     "data": {
      "image/png": "[encoded data removed]",
      "text/plain": [
       "<Figure size 144x144 with 1 Axes>"
      ]
     },
     "metadata": {
      "needs_background": "light"
     },
     "output_type": "display_data"
    },
    {
     "data": {
      "image/png": "[encoded data removed]",
      "text/plain": [
       "<Figure size 144x144 with 1 Axes>"
      ]
     },
     "metadata": {
      "needs_background": "light"
     },
     "output_type": "display_data"
    },
    {
     "data": {
      "image/png": "[encoded data removed]",
      "text/plain": [
       "<Figure size 144x144 with 1 Axes>"
      ]
     },
     "metadata": {
      "needs_background": "light"
     },
     "output_type": "display_data"
    },
    {
     "data": {
      "image/png": "[encoded data removed]",
      "text/plain": [
       "<Figure size 144x144 with 1 Axes>"
      ]
     },
     "metadata": {
      "needs_background": "light"
     },
     "output_type": "display_data"
    },
    {
     "data": {
      "image/png": "[encoded data removed]",
      "text/plain": [
       "<Figure size 144x144 with 1 Axes>"
      ]
     },
     "metadata": {
      "needs_background": "light"
     },
     "output_type": "display_data"
    },
    {
     "data": {
      "image/png": "[encoded data removed]",
      "text/plain": [
       "<Figure size 144x144 with 1 Axes>"
      ]
     },
     "metadata": {
      "needs_background": "light"
     },
     "output_type": "display_data"
    },
    {
     "data": {
      "image/png": "[encoded data removed]",
      "text/plain": [
       "<Figure size 144x144 with 1 Axes>"
      ]
     },
     "metadata": {
      "needs_background": "light"
     },
     "output_type": "display_data"
    }
   ],
   "source": [
    "for i in cosine_index:\n",
    "    plt.figure(figsize = (2, 2))\n",
    "    plt.imshow(x_test[i].reshape(32, 32, 3))\n",
    "    plt.xlabel(final_encoded_test_data_df['Class Name'][i] + ' with a Cosine Similarity of ' + str(final_encoded_test_data_df['Cosine Similarity'][i]) + ' from the queried image.')\n",
    "    plt.show()"
   ]
  },
  {
   "cell_type": "code",
   "execution_count": 31,
   "metadata": {},
   "outputs": [
    {
     "name": "stdout",
     "output_type": "stream",
     "text": [
      "10000\n"
     ]
    }
   ],
   "source": [
    "euclidean_distance = []\n",
    "\n",
    "for i in range(len(x_test)):\n",
    "    a = final_encoded_test_data_df.loc[final_encoded_test_data_df['Class Name'] == input_val].iloc[int(input_num), 2:]\n",
    "    b = final_encoded_test_data_df.iloc[i, 2:]\n",
    "    euc_dist = np.linalg.norm(a-b)\n",
    "    euclidean_distance.append(euc_dist)\n",
    "print(len(euclidean_distance))"
   ]
  },
  {
   "cell_type": "code",
   "execution_count": 32,
   "metadata": {},
   "outputs": [
    {
     "data": {
      "text/html": [
       "<div>\n",
       "<style scoped>\n",
       "    .dataframe tbody tr th:only-of-type {\n",
       "        vertical-align: middle;\n",
       "    }\n",
       "\n",
       "    .dataframe tbody tr th {\n",
       "        vertical-align: top;\n",
       "    }\n",
       "\n",
       "    .dataframe thead th {\n",
       "        text-align: right;\n",
       "    }\n",
       "</style>\n",
       "<table border=\"1\" class=\"dataframe\">\n",
       "  <thead>\n",
       "    <tr style=\"text-align: right;\">\n",
       "      <th></th>\n",
       "      <th>Class</th>\n",
       "      <th>Class Name</th>\n",
       "      <th>0</th>\n",
       "      <th>1</th>\n",
       "      <th>2</th>\n",
       "      <th>3</th>\n",
       "      <th>4</th>\n",
       "      <th>5</th>\n",
       "      <th>6</th>\n",
       "      <th>7</th>\n",
       "      <th>...</th>\n",
       "      <th>121</th>\n",
       "      <th>122</th>\n",
       "      <th>123</th>\n",
       "      <th>124</th>\n",
       "      <th>125</th>\n",
       "      <th>126</th>\n",
       "      <th>127</th>\n",
       "      <th>Cosine Similarity</th>\n",
       "      <th>Cosine Distance</th>\n",
       "      <th>Euclidean Distance</th>\n",
       "    </tr>\n",
       "  </thead>\n",
       "  <tbody>\n",
       "    <tr>\n",
       "      <th>29</th>\n",
       "      <td>6</td>\n",
       "      <td>frog</td>\n",
       "      <td>0.000000</td>\n",
       "      <td>0.410287</td>\n",
       "      <td>0.0</td>\n",
       "      <td>0.379959</td>\n",
       "      <td>0.000000</td>\n",
       "      <td>0.509424</td>\n",
       "      <td>0.242166</td>\n",
       "      <td>0.000000</td>\n",
       "      <td>...</td>\n",
       "      <td>0.731033</td>\n",
       "      <td>0.0</td>\n",
       "      <td>0.244097</td>\n",
       "      <td>1.558900</td>\n",
       "      <td>2.017640</td>\n",
       "      <td>0.137200</td>\n",
       "      <td>0.000000</td>\n",
       "      <td>1.000000</td>\n",
       "      <td>0.000000</td>\n",
       "      <td>0.000000</td>\n",
       "    </tr>\n",
       "    <tr>\n",
       "      <th>6731</th>\n",
       "      <td>6</td>\n",
       "      <td>frog</td>\n",
       "      <td>0.000000</td>\n",
       "      <td>0.443527</td>\n",
       "      <td>0.0</td>\n",
       "      <td>0.336449</td>\n",
       "      <td>0.000000</td>\n",
       "      <td>0.420702</td>\n",
       "      <td>0.001334</td>\n",
       "      <td>0.000000</td>\n",
       "      <td>...</td>\n",
       "      <td>0.539657</td>\n",
       "      <td>0.0</td>\n",
       "      <td>0.281607</td>\n",
       "      <td>1.153913</td>\n",
       "      <td>1.670267</td>\n",
       "      <td>0.190233</td>\n",
       "      <td>0.148120</td>\n",
       "      <td>0.920821</td>\n",
       "      <td>0.079179</td>\n",
       "      <td>2.860381</td>\n",
       "    </tr>\n",
       "    <tr>\n",
       "      <th>7365</th>\n",
       "      <td>4</td>\n",
       "      <td>deer</td>\n",
       "      <td>0.000000</td>\n",
       "      <td>0.274791</td>\n",
       "      <td>0.0</td>\n",
       "      <td>0.461860</td>\n",
       "      <td>0.000000</td>\n",
       "      <td>0.065090</td>\n",
       "      <td>0.008848</td>\n",
       "      <td>0.000000</td>\n",
       "      <td>...</td>\n",
       "      <td>0.305727</td>\n",
       "      <td>0.0</td>\n",
       "      <td>0.504976</td>\n",
       "      <td>1.073895</td>\n",
       "      <td>1.296721</td>\n",
       "      <td>0.109206</td>\n",
       "      <td>0.025572</td>\n",
       "      <td>0.897377</td>\n",
       "      <td>0.102623</td>\n",
       "      <td>3.265008</td>\n",
       "    </tr>\n",
       "    <tr>\n",
       "      <th>9780</th>\n",
       "      <td>4</td>\n",
       "      <td>deer</td>\n",
       "      <td>0.051563</td>\n",
       "      <td>0.380578</td>\n",
       "      <td>0.0</td>\n",
       "      <td>0.132506</td>\n",
       "      <td>0.048599</td>\n",
       "      <td>0.596780</td>\n",
       "      <td>0.000000</td>\n",
       "      <td>0.000000</td>\n",
       "      <td>...</td>\n",
       "      <td>0.257046</td>\n",
       "      <td>0.0</td>\n",
       "      <td>0.428705</td>\n",
       "      <td>1.394861</td>\n",
       "      <td>1.724244</td>\n",
       "      <td>0.128287</td>\n",
       "      <td>0.000000</td>\n",
       "      <td>0.894340</td>\n",
       "      <td>0.105660</td>\n",
       "      <td>3.306382</td>\n",
       "    </tr>\n",
       "    <tr>\n",
       "      <th>805</th>\n",
       "      <td>4</td>\n",
       "      <td>deer</td>\n",
       "      <td>0.379819</td>\n",
       "      <td>0.591728</td>\n",
       "      <td>0.0</td>\n",
       "      <td>0.002508</td>\n",
       "      <td>0.225656</td>\n",
       "      <td>0.708691</td>\n",
       "      <td>0.000000</td>\n",
       "      <td>0.000000</td>\n",
       "      <td>...</td>\n",
       "      <td>0.262890</td>\n",
       "      <td>0.0</td>\n",
       "      <td>0.321098</td>\n",
       "      <td>1.172603</td>\n",
       "      <td>1.483740</td>\n",
       "      <td>0.219645</td>\n",
       "      <td>0.000000</td>\n",
       "      <td>0.893610</td>\n",
       "      <td>0.106390</td>\n",
       "      <td>3.317847</td>\n",
       "    </tr>\n",
       "    <tr>\n",
       "      <th>...</th>\n",
       "      <td>...</td>\n",
       "      <td>...</td>\n",
       "      <td>...</td>\n",
       "      <td>...</td>\n",
       "      <td>...</td>\n",
       "      <td>...</td>\n",
       "      <td>...</td>\n",
       "      <td>...</td>\n",
       "      <td>...</td>\n",
       "      <td>...</td>\n",
       "      <td>...</td>\n",
       "      <td>...</td>\n",
       "      <td>...</td>\n",
       "      <td>...</td>\n",
       "      <td>...</td>\n",
       "      <td>...</td>\n",
       "      <td>...</td>\n",
       "      <td>...</td>\n",
       "      <td>...</td>\n",
       "      <td>...</td>\n",
       "      <td>...</td>\n",
       "    </tr>\n",
       "    <tr>\n",
       "      <th>218</th>\n",
       "      <td>8</td>\n",
       "      <td>ship</td>\n",
       "      <td>0.000000</td>\n",
       "      <td>0.000000</td>\n",
       "      <td>0.0</td>\n",
       "      <td>3.211391</td>\n",
       "      <td>0.000000</td>\n",
       "      <td>0.000000</td>\n",
       "      <td>4.111693</td>\n",
       "      <td>2.770878</td>\n",
       "      <td>...</td>\n",
       "      <td>0.000000</td>\n",
       "      <td>0.0</td>\n",
       "      <td>0.872115</td>\n",
       "      <td>0.000000</td>\n",
       "      <td>0.000000</td>\n",
       "      <td>2.725407</td>\n",
       "      <td>8.108610</td>\n",
       "      <td>0.143771</td>\n",
       "      <td>0.856229</td>\n",
       "      <td>29.689808</td>\n",
       "    </tr>\n",
       "    <tr>\n",
       "      <th>8903</th>\n",
       "      <td>0</td>\n",
       "      <td>airplane</td>\n",
       "      <td>0.000000</td>\n",
       "      <td>0.000000</td>\n",
       "      <td>0.0</td>\n",
       "      <td>3.210254</td>\n",
       "      <td>0.000000</td>\n",
       "      <td>0.000000</td>\n",
       "      <td>4.108576</td>\n",
       "      <td>2.770312</td>\n",
       "      <td>...</td>\n",
       "      <td>0.000000</td>\n",
       "      <td>0.0</td>\n",
       "      <td>1.665298</td>\n",
       "      <td>0.000000</td>\n",
       "      <td>0.000000</td>\n",
       "      <td>3.000709</td>\n",
       "      <td>7.729270</td>\n",
       "      <td>0.164166</td>\n",
       "      <td>0.835834</td>\n",
       "      <td>29.943702</td>\n",
       "    </tr>\n",
       "    <tr>\n",
       "      <th>3823</th>\n",
       "      <td>0</td>\n",
       "      <td>airplane</td>\n",
       "      <td>0.000000</td>\n",
       "      <td>0.000000</td>\n",
       "      <td>0.0</td>\n",
       "      <td>3.199090</td>\n",
       "      <td>0.000000</td>\n",
       "      <td>0.000000</td>\n",
       "      <td>4.094171</td>\n",
       "      <td>2.755037</td>\n",
       "      <td>...</td>\n",
       "      <td>0.000000</td>\n",
       "      <td>0.0</td>\n",
       "      <td>1.747317</td>\n",
       "      <td>0.000000</td>\n",
       "      <td>0.000000</td>\n",
       "      <td>3.176646</td>\n",
       "      <td>7.923416</td>\n",
       "      <td>0.196756</td>\n",
       "      <td>0.803244</td>\n",
       "      <td>30.288125</td>\n",
       "    </tr>\n",
       "    <tr>\n",
       "      <th>7803</th>\n",
       "      <td>0</td>\n",
       "      <td>airplane</td>\n",
       "      <td>0.000000</td>\n",
       "      <td>0.000000</td>\n",
       "      <td>0.0</td>\n",
       "      <td>3.195091</td>\n",
       "      <td>0.000000</td>\n",
       "      <td>0.000000</td>\n",
       "      <td>4.098159</td>\n",
       "      <td>2.732496</td>\n",
       "      <td>...</td>\n",
       "      <td>0.000000</td>\n",
       "      <td>0.0</td>\n",
       "      <td>1.609780</td>\n",
       "      <td>0.000000</td>\n",
       "      <td>0.000000</td>\n",
       "      <td>2.583316</td>\n",
       "      <td>8.489861</td>\n",
       "      <td>0.184080</td>\n",
       "      <td>0.815920</td>\n",
       "      <td>30.785011</td>\n",
       "    </tr>\n",
       "    <tr>\n",
       "      <th>3444</th>\n",
       "      <td>0</td>\n",
       "      <td>airplane</td>\n",
       "      <td>0.000000</td>\n",
       "      <td>0.000000</td>\n",
       "      <td>0.0</td>\n",
       "      <td>3.162362</td>\n",
       "      <td>0.000000</td>\n",
       "      <td>0.000000</td>\n",
       "      <td>4.071982</td>\n",
       "      <td>2.792630</td>\n",
       "      <td>...</td>\n",
       "      <td>0.000000</td>\n",
       "      <td>0.0</td>\n",
       "      <td>0.519747</td>\n",
       "      <td>0.000000</td>\n",
       "      <td>0.000000</td>\n",
       "      <td>2.656502</td>\n",
       "      <td>8.412113</td>\n",
       "      <td>0.137963</td>\n",
       "      <td>0.862037</td>\n",
       "      <td>31.895044</td>\n",
       "    </tr>\n",
       "  </tbody>\n",
       "</table>\n",
       "<p>10000 rows × 133 columns</p>\n",
       "</div>"
      ],
      "text/plain": [
       "      Class Class Name         0         1    2         3         4         5  \\\n",
       "29        6       frog  0.000000  0.410287  0.0  0.379959  0.000000  0.509424   \n",
       "6731      6       frog  0.000000  0.443527  0.0  0.336449  0.000000  0.420702   \n",
       "7365      4       deer  0.000000  0.274791  0.0  0.461860  0.000000  0.065090   \n",
       "9780      4       deer  0.051563  0.380578  0.0  0.132506  0.048599  0.596780   \n",
       "805       4       deer  0.379819  0.591728  0.0  0.002508  0.225656  0.708691   \n",
       "...     ...        ...       ...       ...  ...       ...       ...       ...   \n",
       "218       8       ship  0.000000  0.000000  0.0  3.211391  0.000000  0.000000   \n",
       "8903      0   airplane  0.000000  0.000000  0.0  3.210254  0.000000  0.000000   \n",
       "3823      0   airplane  0.000000  0.000000  0.0  3.199090  0.000000  0.000000   \n",
       "7803      0   airplane  0.000000  0.000000  0.0  3.195091  0.000000  0.000000   \n",
       "3444      0   airplane  0.000000  0.000000  0.0  3.162362  0.000000  0.000000   \n",
       "\n",
       "             6         7  ...       121  122       123       124       125  \\\n",
       "29    0.242166  0.000000  ...  0.731033  0.0  0.244097  1.558900  2.017640   \n",
       "6731  0.001334  0.000000  ...  0.539657  0.0  0.281607  1.153913  1.670267   \n",
       "7365  0.008848  0.000000  ...  0.305727  0.0  0.504976  1.073895  1.296721   \n",
       "9780  0.000000  0.000000  ...  0.257046  0.0  0.428705  1.394861  1.724244   \n",
       "805   0.000000  0.000000  ...  0.262890  0.0  0.321098  1.172603  1.483740   \n",
       "...        ...       ...  ...       ...  ...       ...       ...       ...   \n",
       "218   4.111693  2.770878  ...  0.000000  0.0  0.872115  0.000000  0.000000   \n",
       "8903  4.108576  2.770312  ...  0.000000  0.0  1.665298  0.000000  0.000000   \n",
       "3823  4.094171  2.755037  ...  0.000000  0.0  1.747317  0.000000  0.000000   \n",
       "7803  4.098159  2.732496  ...  0.000000  0.0  1.609780  0.000000  0.000000   \n",
       "3444  4.071982  2.792630  ...  0.000000  0.0  0.519747  0.000000  0.000000   \n",
       "\n",
       "           126       127  Cosine Similarity  Cosine Distance  \\\n",
       "29    0.137200  0.000000           1.000000         0.000000   \n",
       "6731  0.190233  0.148120           0.920821         0.079179   \n",
       "7365  0.109206  0.025572           0.897377         0.102623   \n",
       "9780  0.128287  0.000000           0.894340         0.105660   \n",
       "805   0.219645  0.000000           0.893610         0.106390   \n",
       "...        ...       ...                ...              ...   \n",
       "218   2.725407  8.108610           0.143771         0.856229   \n",
       "8903  3.000709  7.729270           0.164166         0.835834   \n",
       "3823  3.176646  7.923416           0.196756         0.803244   \n",
       "7803  2.583316  8.489861           0.184080         0.815920   \n",
       "3444  2.656502  8.412113           0.137963         0.862037   \n",
       "\n",
       "      Euclidean Distance  \n",
       "29              0.000000  \n",
       "6731            2.860381  \n",
       "7365            3.265008  \n",
       "9780            3.306382  \n",
       "805             3.317847  \n",
       "...                  ...  \n",
       "218            29.689808  \n",
       "8903           29.943702  \n",
       "3823           30.288125  \n",
       "7803           30.785011  \n",
       "3444           31.895044  \n",
       "\n",
       "[10000 rows x 133 columns]"
      ]
     },
     "execution_count": 32,
     "metadata": {},
     "output_type": "execute_result"
    }
   ],
   "source": [
    "final_encoded_test_data_df['Euclidean Distance'] = euclidean_distance\n",
    "final_encoded_test_data_df.sort_values(by = ['Euclidean Distance'])"
   ]
  },
  {
   "cell_type": "code",
   "execution_count": 33,
   "metadata": {
    "scrolled": true
   },
   "outputs": [
    {
     "data": {
      "image/png": "[encoded data removed]",
      "text/plain": [
       "<Figure size 144x144 with 1 Axes>"
      ]
     },
     "metadata": {
      "needs_background": "light"
     },
     "output_type": "display_data"
    },
    {
     "data": {
      "image/png": "[encoded data removed]",
      "text/plain": [
       "<Figure size 144x144 with 1 Axes>"
      ]
     },
     "metadata": {
      "needs_background": "light"
     },
     "output_type": "display_data"
    },
    {
     "data": {
      "image/png": "[encoded data removed]",
      "text/plain": [
       "<Figure size 144x144 with 1 Axes>"
      ]
     },
     "metadata": {
      "needs_background": "light"
     },
     "output_type": "display_data"
    },
    {
     "data": {
      "image/png": "[encoded data removed]",
      "text/plain": [
       "<Figure size 144x144 with 1 Axes>"
      ]
     },
     "metadata": {
      "needs_background": "light"
     },
     "output_type": "display_data"
    },
    {
     "data": {
      "image/png": "[encoded data removed]",
      "text/plain": [
       "<Figure size 144x144 with 1 Axes>"
      ]
     },
     "metadata": {
      "needs_background": "light"
     },
     "output_type": "display_data"
    },
    {
     "data": {
      "image/png": "[encoded data removed]",
      "text/plain": [
       "<Figure size 144x144 with 1 Axes>"
      ]
     },
     "metadata": {
      "needs_background": "light"
     },
     "output_type": "display_data"
    },
    {
     "data": {
      "image/png": "[encoded data removed]",
      "text/plain": [
       "<Figure size 144x144 with 1 Axes>"
      ]
     },
     "metadata": {
      "needs_background": "light"
     },
     "output_type": "display_data"
    },
    {
     "data": {
      "image/png": "[encoded data removed]",
      "text/plain": [
       "<Figure size 144x144 with 1 Axes>"
      ]
     },
     "metadata": {
      "needs_background": "light"
     },
     "output_type": "display_data"
    },
    {
     "data": {
      "image/png": "[encoded data removed]",
      "text/plain": [
       "<Figure size 144x144 with 1 Axes>"
      ]
     },
     "metadata": {
      "needs_background": "light"
     },
     "output_type": "display_data"
    },
    {
     "data": {
      "image/png": "[encoded data removed]",
      "text/plain": [
       "<Figure size 144x144 with 1 Axes>"
      ]
     },
     "metadata": {
      "needs_background": "light"
     },
     "output_type": "display_data"
    }
   ],
   "source": [
    "euclidean_index = final_encoded_test_data_df.sort_values(by = ['Euclidean Distance']).head(10).index\n",
    "\n",
    "for i in euclidean_index:\n",
    "    plt.figure(figsize = (2, 2))\n",
    "    plt.imshow(x_test[i].reshape(32, 32, 3))\n",
    "    plt.xlabel(final_encoded_test_data_df['Class Name'][i] + ' with an Euclidean Distance of ' + str(final_encoded_test_data_df['Euclidean Distance'][i]) + ' from the queried image.')\n",
    "    plt.show()"
   ]
  },
  {
   "cell_type": "code",
   "execution_count": null,
   "metadata": {},
   "outputs": [],
   "source": []
  }
 ],
 "metadata": {
  "kernelspec": {
   "display_name": "Python 3",
   "language": "python",
   "name": "python3"
  },
  "language_info": {
   "codemirror_mode": {
    "name": "ipython",
    "version": 3
   },
   "file_extension": ".py",
   "mimetype": "text/x-python",
   "name": "python",
   "nbconvert_exporter": "python",
   "pygments_lexer": "ipython3",
   "version": "3.6.9"
  }
 },
 "nbformat": 4,
 "nbformat_minor": 2
}
