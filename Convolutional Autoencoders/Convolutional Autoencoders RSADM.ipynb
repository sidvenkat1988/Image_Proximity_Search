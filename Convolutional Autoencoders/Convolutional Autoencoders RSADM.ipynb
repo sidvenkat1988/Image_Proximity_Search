{
 "cells": [
  {
   "cell_type": "code",
   "execution_count": 2,
   "metadata": {},
   "outputs": [],
   "source": [
    "from keras.layers import Input, Dense, Conv2D, MaxPooling2D, UpSampling2D\n",
    "from keras.models import Model\n",
    "\n",
    "import numpy as np\n",
    "import pandas as pd\n",
    "import matplotlib.pyplot as plt\n",
    "%matplotlib inline"
   ]
  },
  {
   "cell_type": "code",
   "execution_count": 3,
   "metadata": {},
   "outputs": [
    {
     "name": "stdout",
     "output_type": "stream",
     "text": [
      "(50000, 3074)\n",
      "(10000, 3074)\n"
     ]
    }
   ],
   "source": [
    "datadir = '/Users/sidv88/Documents/Data_Management_2/Data/'\n",
    "train_data = pd.read_csv(datadir + 'train_rgb.csv')\n",
    "test_data = pd.read_csv(datadir + 'test_rgb.csv')\n",
    "print(train_data.shape)\n",
    "print(test_data.shape)"
   ]
  },
  {
   "cell_type": "code",
   "execution_count": 4,
   "metadata": {},
   "outputs": [
    {
     "data": {
      "text/html": [
       "<div>\n",
       "<style scoped>\n",
       "    .dataframe tbody tr th:only-of-type {\n",
       "        vertical-align: middle;\n",
       "    }\n",
       "\n",
       "    .dataframe tbody tr th {\n",
       "        vertical-align: top;\n",
       "    }\n",
       "\n",
       "    .dataframe thead th {\n",
       "        text-align: right;\n",
       "    }\n",
       "</style>\n",
       "<table border=\"1\" class=\"dataframe\">\n",
       "  <thead>\n",
       "    <tr style=\"text-align: right;\">\n",
       "      <th></th>\n",
       "      <th>Class</th>\n",
       "      <th>Class Name</th>\n",
       "      <th>0</th>\n",
       "      <th>1</th>\n",
       "      <th>2</th>\n",
       "      <th>3</th>\n",
       "      <th>4</th>\n",
       "      <th>5</th>\n",
       "      <th>6</th>\n",
       "      <th>7</th>\n",
       "      <th>...</th>\n",
       "      <th>3062</th>\n",
       "      <th>3063</th>\n",
       "      <th>3064</th>\n",
       "      <th>3065</th>\n",
       "      <th>3066</th>\n",
       "      <th>3067</th>\n",
       "      <th>3068</th>\n",
       "      <th>3069</th>\n",
       "      <th>3070</th>\n",
       "      <th>3071</th>\n",
       "    </tr>\n",
       "  </thead>\n",
       "  <tbody>\n",
       "    <tr>\n",
       "      <th>0</th>\n",
       "      <td>6</td>\n",
       "      <td>frog</td>\n",
       "      <td>59</td>\n",
       "      <td>62</td>\n",
       "      <td>63</td>\n",
       "      <td>43</td>\n",
       "      <td>46</td>\n",
       "      <td>45</td>\n",
       "      <td>50</td>\n",
       "      <td>48</td>\n",
       "      <td>...</td>\n",
       "      <td>104</td>\n",
       "      <td>216</td>\n",
       "      <td>184</td>\n",
       "      <td>140</td>\n",
       "      <td>151</td>\n",
       "      <td>118</td>\n",
       "      <td>84</td>\n",
       "      <td>123</td>\n",
       "      <td>92</td>\n",
       "      <td>72</td>\n",
       "    </tr>\n",
       "    <tr>\n",
       "      <th>1</th>\n",
       "      <td>9</td>\n",
       "      <td>truck</td>\n",
       "      <td>154</td>\n",
       "      <td>177</td>\n",
       "      <td>187</td>\n",
       "      <td>126</td>\n",
       "      <td>137</td>\n",
       "      <td>136</td>\n",
       "      <td>105</td>\n",
       "      <td>104</td>\n",
       "      <td>...</td>\n",
       "      <td>136</td>\n",
       "      <td>143</td>\n",
       "      <td>133</td>\n",
       "      <td>139</td>\n",
       "      <td>143</td>\n",
       "      <td>134</td>\n",
       "      <td>142</td>\n",
       "      <td>143</td>\n",
       "      <td>133</td>\n",
       "      <td>144</td>\n",
       "    </tr>\n",
       "    <tr>\n",
       "      <th>2</th>\n",
       "      <td>9</td>\n",
       "      <td>truck</td>\n",
       "      <td>255</td>\n",
       "      <td>255</td>\n",
       "      <td>255</td>\n",
       "      <td>253</td>\n",
       "      <td>253</td>\n",
       "      <td>253</td>\n",
       "      <td>253</td>\n",
       "      <td>253</td>\n",
       "      <td>...</td>\n",
       "      <td>79</td>\n",
       "      <td>78</td>\n",
       "      <td>85</td>\n",
       "      <td>83</td>\n",
       "      <td>79</td>\n",
       "      <td>85</td>\n",
       "      <td>83</td>\n",
       "      <td>80</td>\n",
       "      <td>86</td>\n",
       "      <td>84</td>\n",
       "    </tr>\n",
       "    <tr>\n",
       "      <th>3</th>\n",
       "      <td>4</td>\n",
       "      <td>deer</td>\n",
       "      <td>28</td>\n",
       "      <td>25</td>\n",
       "      <td>10</td>\n",
       "      <td>37</td>\n",
       "      <td>34</td>\n",
       "      <td>19</td>\n",
       "      <td>38</td>\n",
       "      <td>35</td>\n",
       "      <td>...</td>\n",
       "      <td>38</td>\n",
       "      <td>54</td>\n",
       "      <td>47</td>\n",
       "      <td>28</td>\n",
       "      <td>63</td>\n",
       "      <td>56</td>\n",
       "      <td>37</td>\n",
       "      <td>72</td>\n",
       "      <td>65</td>\n",
       "      <td>46</td>\n",
       "    </tr>\n",
       "    <tr>\n",
       "      <th>4</th>\n",
       "      <td>1</td>\n",
       "      <td>automobile</td>\n",
       "      <td>170</td>\n",
       "      <td>180</td>\n",
       "      <td>198</td>\n",
       "      <td>168</td>\n",
       "      <td>178</td>\n",
       "      <td>196</td>\n",
       "      <td>177</td>\n",
       "      <td>185</td>\n",
       "      <td>...</td>\n",
       "      <td>78</td>\n",
       "      <td>75</td>\n",
       "      <td>79</td>\n",
       "      <td>82</td>\n",
       "      <td>71</td>\n",
       "      <td>75</td>\n",
       "      <td>78</td>\n",
       "      <td>73</td>\n",
       "      <td>77</td>\n",
       "      <td>80</td>\n",
       "    </tr>\n",
       "  </tbody>\n",
       "</table>\n",
       "<p>5 rows × 3074 columns</p>\n",
       "</div>"
      ],
      "text/plain": [
       "   Class  Class Name    0    1    2    3    4    5    6    7  ...  3062  3063  \\\n",
       "0      6        frog   59   62   63   43   46   45   50   48  ...   104   216   \n",
       "1      9       truck  154  177  187  126  137  136  105  104  ...   136   143   \n",
       "2      9       truck  255  255  255  253  253  253  253  253  ...    79    78   \n",
       "3      4        deer   28   25   10   37   34   19   38   35  ...    38    54   \n",
       "4      1  automobile  170  180  198  168  178  196  177  185  ...    78    75   \n",
       "\n",
       "   3064  3065  3066  3067  3068  3069  3070  3071  \n",
       "0   184   140   151   118    84   123    92    72  \n",
       "1   133   139   143   134   142   143   133   144  \n",
       "2    85    83    79    85    83    80    86    84  \n",
       "3    47    28    63    56    37    72    65    46  \n",
       "4    79    82    71    75    78    73    77    80  \n",
       "\n",
       "[5 rows x 3074 columns]"
      ]
     },
     "execution_count": 4,
     "metadata": {},
     "output_type": "execute_result"
    }
   ],
   "source": [
    "train_data.head()"
   ]
  },
  {
   "cell_type": "code",
   "execution_count": 5,
   "metadata": {},
   "outputs": [
    {
     "data": {
      "text/html": [
       "<div>\n",
       "<style scoped>\n",
       "    .dataframe tbody tr th:only-of-type {\n",
       "        vertical-align: middle;\n",
       "    }\n",
       "\n",
       "    .dataframe tbody tr th {\n",
       "        vertical-align: top;\n",
       "    }\n",
       "\n",
       "    .dataframe thead th {\n",
       "        text-align: right;\n",
       "    }\n",
       "</style>\n",
       "<table border=\"1\" class=\"dataframe\">\n",
       "  <thead>\n",
       "    <tr style=\"text-align: right;\">\n",
       "      <th></th>\n",
       "      <th>Class</th>\n",
       "      <th>Class Name</th>\n",
       "      <th>0</th>\n",
       "      <th>1</th>\n",
       "      <th>2</th>\n",
       "      <th>3</th>\n",
       "      <th>4</th>\n",
       "      <th>5</th>\n",
       "      <th>6</th>\n",
       "      <th>7</th>\n",
       "      <th>...</th>\n",
       "      <th>3062</th>\n",
       "      <th>3063</th>\n",
       "      <th>3064</th>\n",
       "      <th>3065</th>\n",
       "      <th>3066</th>\n",
       "      <th>3067</th>\n",
       "      <th>3068</th>\n",
       "      <th>3069</th>\n",
       "      <th>3070</th>\n",
       "      <th>3071</th>\n",
       "    </tr>\n",
       "  </thead>\n",
       "  <tbody>\n",
       "    <tr>\n",
       "      <th>0</th>\n",
       "      <td>3</td>\n",
       "      <td>cat</td>\n",
       "      <td>158</td>\n",
       "      <td>112</td>\n",
       "      <td>49</td>\n",
       "      <td>159</td>\n",
       "      <td>111</td>\n",
       "      <td>47</td>\n",
       "      <td>165</td>\n",
       "      <td>116</td>\n",
       "      <td>...</td>\n",
       "      <td>145</td>\n",
       "      <td>24</td>\n",
       "      <td>77</td>\n",
       "      <td>124</td>\n",
       "      <td>34</td>\n",
       "      <td>84</td>\n",
       "      <td>129</td>\n",
       "      <td>21</td>\n",
       "      <td>67</td>\n",
       "      <td>110</td>\n",
       "    </tr>\n",
       "    <tr>\n",
       "      <th>1</th>\n",
       "      <td>8</td>\n",
       "      <td>ship</td>\n",
       "      <td>235</td>\n",
       "      <td>235</td>\n",
       "      <td>235</td>\n",
       "      <td>231</td>\n",
       "      <td>231</td>\n",
       "      <td>231</td>\n",
       "      <td>232</td>\n",
       "      <td>232</td>\n",
       "      <td>...</td>\n",
       "      <td>163</td>\n",
       "      <td>168</td>\n",
       "      <td>183</td>\n",
       "      <td>178</td>\n",
       "      <td>180</td>\n",
       "      <td>195</td>\n",
       "      <td>191</td>\n",
       "      <td>186</td>\n",
       "      <td>200</td>\n",
       "      <td>199</td>\n",
       "    </tr>\n",
       "    <tr>\n",
       "      <th>2</th>\n",
       "      <td>8</td>\n",
       "      <td>ship</td>\n",
       "      <td>158</td>\n",
       "      <td>190</td>\n",
       "      <td>222</td>\n",
       "      <td>158</td>\n",
       "      <td>187</td>\n",
       "      <td>218</td>\n",
       "      <td>139</td>\n",
       "      <td>166</td>\n",
       "      <td>...</td>\n",
       "      <td>37</td>\n",
       "      <td>5</td>\n",
       "      <td>6</td>\n",
       "      <td>8</td>\n",
       "      <td>4</td>\n",
       "      <td>5</td>\n",
       "      <td>3</td>\n",
       "      <td>7</td>\n",
       "      <td>8</td>\n",
       "      <td>7</td>\n",
       "    </tr>\n",
       "    <tr>\n",
       "      <th>3</th>\n",
       "      <td>0</td>\n",
       "      <td>airplane</td>\n",
       "      <td>155</td>\n",
       "      <td>156</td>\n",
       "      <td>149</td>\n",
       "      <td>167</td>\n",
       "      <td>176</td>\n",
       "      <td>187</td>\n",
       "      <td>176</td>\n",
       "      <td>179</td>\n",
       "      <td>...</td>\n",
       "      <td>53</td>\n",
       "      <td>60</td>\n",
       "      <td>63</td>\n",
       "      <td>50</td>\n",
       "      <td>64</td>\n",
       "      <td>65</td>\n",
       "      <td>52</td>\n",
       "      <td>73</td>\n",
       "      <td>68</td>\n",
       "      <td>50</td>\n",
       "    </tr>\n",
       "    <tr>\n",
       "      <th>4</th>\n",
       "      <td>6</td>\n",
       "      <td>frog</td>\n",
       "      <td>65</td>\n",
       "      <td>68</td>\n",
       "      <td>50</td>\n",
       "      <td>70</td>\n",
       "      <td>81</td>\n",
       "      <td>64</td>\n",
       "      <td>48</td>\n",
       "      <td>64</td>\n",
       "      <td>...</td>\n",
       "      <td>147</td>\n",
       "      <td>143</td>\n",
       "      <td>179</td>\n",
       "      <td>136</td>\n",
       "      <td>154</td>\n",
       "      <td>185</td>\n",
       "      <td>146</td>\n",
       "      <td>128</td>\n",
       "      <td>156</td>\n",
       "      <td>117</td>\n",
       "    </tr>\n",
       "  </tbody>\n",
       "</table>\n",
       "<p>5 rows × 3074 columns</p>\n",
       "</div>"
      ],
      "text/plain": [
       "   Class Class Name    0    1    2    3    4    5    6    7  ...  3062  3063  \\\n",
       "0      3        cat  158  112   49  159  111   47  165  116  ...   145    24   \n",
       "1      8       ship  235  235  235  231  231  231  232  232  ...   163   168   \n",
       "2      8       ship  158  190  222  158  187  218  139  166  ...    37     5   \n",
       "3      0   airplane  155  156  149  167  176  187  176  179  ...    53    60   \n",
       "4      6       frog   65   68   50   70   81   64   48   64  ...   147   143   \n",
       "\n",
       "   3064  3065  3066  3067  3068  3069  3070  3071  \n",
       "0    77   124    34    84   129    21    67   110  \n",
       "1   183   178   180   195   191   186   200   199  \n",
       "2     6     8     4     5     3     7     8     7  \n",
       "3    63    50    64    65    52    73    68    50  \n",
       "4   179   136   154   185   146   128   156   117  \n",
       "\n",
       "[5 rows x 3074 columns]"
      ]
     },
     "execution_count": 5,
     "metadata": {},
     "output_type": "execute_result"
    }
   ],
   "source": [
    "test_data.head()"
   ]
  },
  {
   "cell_type": "code",
   "execution_count": 6,
   "metadata": {},
   "outputs": [
    {
     "name": "stdout",
     "output_type": "stream",
     "text": [
      "(50000, 3072)\n",
      "(50000, 2)\n"
     ]
    }
   ],
   "source": [
    "x_train = train_data.iloc[:, 2:]\n",
    "print(x_train.shape)\n",
    "y_train = train_data.iloc[:, [0, 1]]\n",
    "print(y_train.shape)"
   ]
  },
  {
   "cell_type": "code",
   "execution_count": 7,
   "metadata": {},
   "outputs": [
    {
     "name": "stdout",
     "output_type": "stream",
     "text": [
      "(10000, 3072)\n",
      "(10000, 2)\n"
     ]
    }
   ],
   "source": [
    "x_test = test_data.iloc[:, 2:]\n",
    "print(x_test.shape)\n",
    "y_test = test_data.iloc[:, [0, 1]]\n",
    "print(y_test.shape)"
   ]
  },
  {
   "cell_type": "code",
   "execution_count": 8,
   "metadata": {},
   "outputs": [],
   "source": [
    "x_train = np.array(x_train)\n",
    "x_test = np.array(x_test)"
   ]
  },
  {
   "cell_type": "code",
   "execution_count": 9,
   "metadata": {},
   "outputs": [
    {
     "name": "stdout",
     "output_type": "stream",
     "text": [
      "(50000, 3072)\n",
      "(10000, 3072)\n"
     ]
    }
   ],
   "source": [
    "print(x_train.shape)\n",
    "print(x_test.shape)"
   ]
  },
  {
   "cell_type": "code",
   "execution_count": 10,
   "metadata": {},
   "outputs": [
    {
     "name": "stdout",
     "output_type": "stream",
     "text": [
      "(50000, 32, 32, 3)\n",
      "(10000, 32, 32, 3)\n"
     ]
    }
   ],
   "source": [
    "x_train = x_train.reshape(len(x_train), 32, 32, 3)\n",
    "x_test = x_test.reshape(len(x_test), 32, 32, 3)\n",
    "print(x_train.shape)\n",
    "print(x_test.shape)"
   ]
  },
  {
   "cell_type": "code",
   "execution_count": 11,
   "metadata": {},
   "outputs": [
    {
     "name": "stdout",
     "output_type": "stream",
     "text": [
      "(50000, 32, 32, 3)\n",
      "(10000, 32, 32, 3)\n"
     ]
    }
   ],
   "source": [
    "x_train = x_train.astype('float32')/255\n",
    "x_test = x_test.astype('float32')/255\n",
    "print(x_train.shape)\n",
    "print(x_test.shape)"
   ]
  },
  {
   "cell_type": "code",
   "execution_count": 12,
   "metadata": {},
   "outputs": [],
   "source": [
    "input_img = Input(shape = (32, 32, 3))\n",
    "\n",
    "\n",
    "encoded = Conv2D(16, (3, 3), activation = 'relu', padding = 'same')(input_img)\n",
    "encoded = MaxPooling2D((2, 2), padding = 'same')(encoded)\n",
    "encoded = Conv2D(8, (3, 3), activation = 'relu', padding = 'same')(encoded)\n",
    "encoded = MaxPooling2D((2, 2), padding = 'same')(encoded)\n",
    "encoded = Conv2D(8, (3, 3), activation = 'relu', padding = 'same')(encoded)\n",
    "encoded = MaxPooling2D((2, 2), padding = 'same')(encoded)\n",
    "\n",
    "decoded = Conv2D(8, (3, 3), activation = 'relu', padding = 'same')(encoded)\n",
    "decoded = UpSampling2D((2, 2))(decoded)\n",
    "decoded = Conv2D(8, (3, 3), activation = 'relu', padding = 'same')(decoded)\n",
    "decoded = UpSampling2D((2, 2))(decoded)\n",
    "decoded = Conv2D(16, (3, 3), activation = 'relu', padding = 'same')(decoded)\n",
    "decoded = UpSampling2D((2, 2))(decoded)\n",
    "\n",
    "decoded = Conv2D(3, (3, 3), activation = 'sigmoid', padding = 'same')(decoded)"
   ]
  },
  {
   "cell_type": "code",
   "execution_count": 13,
   "metadata": {},
   "outputs": [],
   "source": [
    "autoencoder = Model(input_img, decoded)\n",
    "encoder = Model(input_img, encoded)"
   ]
  },
  {
   "cell_type": "code",
   "execution_count": 14,
   "metadata": {
    "scrolled": true
   },
   "outputs": [
    {
     "name": "stdout",
     "output_type": "stream",
     "text": [
      "Model: \"model_1\"\n",
      "_________________________________________________________________\n",
      "Layer (type)                 Output Shape              Param #   \n",
      "=================================================================\n",
      "input_1 (InputLayer)         (None, 32, 32, 3)         0         \n",
      "_________________________________________________________________\n",
      "conv2d_1 (Conv2D)            (None, 32, 32, 16)        448       \n",
      "_________________________________________________________________\n",
      "max_pooling2d_1 (MaxPooling2 (None, 16, 16, 16)        0         \n",
      "_________________________________________________________________\n",
      "conv2d_2 (Conv2D)            (None, 16, 16, 8)         1160      \n",
      "_________________________________________________________________\n",
      "max_pooling2d_2 (MaxPooling2 (None, 8, 8, 8)           0         \n",
      "_________________________________________________________________\n",
      "conv2d_3 (Conv2D)            (None, 8, 8, 8)           584       \n",
      "_________________________________________________________________\n",
      "max_pooling2d_3 (MaxPooling2 (None, 4, 4, 8)           0         \n",
      "_________________________________________________________________\n",
      "conv2d_4 (Conv2D)            (None, 4, 4, 8)           584       \n",
      "_________________________________________________________________\n",
      "up_sampling2d_1 (UpSampling2 (None, 8, 8, 8)           0         \n",
      "_________________________________________________________________\n",
      "conv2d_5 (Conv2D)            (None, 8, 8, 8)           584       \n",
      "_________________________________________________________________\n",
      "up_sampling2d_2 (UpSampling2 (None, 16, 16, 8)         0         \n",
      "_________________________________________________________________\n",
      "conv2d_6 (Conv2D)            (None, 16, 16, 16)        1168      \n",
      "_________________________________________________________________\n",
      "up_sampling2d_3 (UpSampling2 (None, 32, 32, 16)        0         \n",
      "_________________________________________________________________\n",
      "conv2d_7 (Conv2D)            (None, 32, 32, 3)         435       \n",
      "=================================================================\n",
      "Total params: 4,963\n",
      "Trainable params: 4,963\n",
      "Non-trainable params: 0\n",
      "_________________________________________________________________\n"
     ]
    }
   ],
   "source": [
    "autoencoder.summary()"
   ]
  },
  {
   "cell_type": "code",
   "execution_count": 15,
   "metadata": {
    "scrolled": true
   },
   "outputs": [
    {
     "name": "stdout",
     "output_type": "stream",
     "text": [
      "Model: \"model_2\"\n",
      "_________________________________________________________________\n",
      "Layer (type)                 Output Shape              Param #   \n",
      "=================================================================\n",
      "input_1 (InputLayer)         (None, 32, 32, 3)         0         \n",
      "_________________________________________________________________\n",
      "conv2d_1 (Conv2D)            (None, 32, 32, 16)        448       \n",
      "_________________________________________________________________\n",
      "max_pooling2d_1 (MaxPooling2 (None, 16, 16, 16)        0         \n",
      "_________________________________________________________________\n",
      "conv2d_2 (Conv2D)            (None, 16, 16, 8)         1160      \n",
      "_________________________________________________________________\n",
      "max_pooling2d_2 (MaxPooling2 (None, 8, 8, 8)           0         \n",
      "_________________________________________________________________\n",
      "conv2d_3 (Conv2D)            (None, 8, 8, 8)           584       \n",
      "_________________________________________________________________\n",
      "max_pooling2d_3 (MaxPooling2 (None, 4, 4, 8)           0         \n",
      "=================================================================\n",
      "Total params: 2,192\n",
      "Trainable params: 2,192\n",
      "Non-trainable params: 0\n",
      "_________________________________________________________________\n"
     ]
    }
   ],
   "source": [
    "encoder.summary()"
   ]
  },
  {
   "cell_type": "code",
   "execution_count": 16,
   "metadata": {
    "scrolled": true
   },
   "outputs": [
    {
     "name": "stdout",
     "output_type": "stream",
     "text": [
      "Train on 50000 samples, validate on 10000 samples\n",
      "Epoch 1/50\n",
      "50000/50000 [==============================] - 92s 2ms/step - loss: 0.0532 - accuracy: 0.4615 - val_loss: 0.0425 - val_accuracy: 0.4416\n",
      "Epoch 2/50\n",
      "50000/50000 [==============================] - 80s 2ms/step - loss: 0.0371 - accuracy: 0.4204 - val_loss: 0.0352 - val_accuracy: 0.4520\n",
      "Epoch 3/50\n",
      "50000/50000 [==============================] - 80s 2ms/step - loss: 0.0307 - accuracy: 0.4391 - val_loss: 0.0307 - val_accuracy: 0.4479\n",
      "Epoch 4/50\n",
      "50000/50000 [==============================] - 83s 2ms/step - loss: 0.0284 - accuracy: 0.4412 - val_loss: 0.0290 - val_accuracy: 0.4457\n",
      "Epoch 5/50\n",
      "50000/50000 [==============================] - 86s 2ms/step - loss: 0.0270 - accuracy: 0.4450 - val_loss: 0.0266 - val_accuracy: 0.4494\n",
      "Epoch 6/50\n",
      "50000/50000 [==============================] - 86s 2ms/step - loss: 0.0260 - accuracy: 0.4476 - val_loss: 0.0244 - val_accuracy: 0.4532\n",
      "Epoch 7/50\n",
      "50000/50000 [==============================] - 87s 2ms/step - loss: 0.0252 - accuracy: 0.4502 - val_loss: 0.0252 - val_accuracy: 0.4508\n",
      "Epoch 8/50\n",
      "50000/50000 [==============================] - 86s 2ms/step - loss: 0.0246 - accuracy: 0.4501 - val_loss: 0.0244 - val_accuracy: 0.4601\n",
      "Epoch 9/50\n",
      "50000/50000 [==============================] - 84s 2ms/step - loss: 0.0241 - accuracy: 0.4511 - val_loss: 0.0245 - val_accuracy: 0.4597\n",
      "Epoch 10/50\n",
      "50000/50000 [==============================] - 80s 2ms/step - loss: 0.0238 - accuracy: 0.4508 - val_loss: 0.0237 - val_accuracy: 0.4533\n",
      "Epoch 11/50\n",
      "50000/50000 [==============================] - 80s 2ms/step - loss: 0.0233 - accuracy: 0.4506 - val_loss: 0.0235 - val_accuracy: 0.4508\n",
      "Epoch 12/50\n",
      "50000/50000 [==============================] - 81s 2ms/step - loss: 0.0231 - accuracy: 0.4505 - val_loss: 0.0239 - val_accuracy: 0.4504\n",
      "Epoch 13/50\n",
      "50000/50000 [==============================] - 81s 2ms/step - loss: 0.0227 - accuracy: 0.4498 - val_loss: 0.0228 - val_accuracy: 0.4585\n",
      "Epoch 14/50\n",
      "50000/50000 [==============================] - 83s 2ms/step - loss: 0.0225 - accuracy: 0.4510 - val_loss: 0.0229 - val_accuracy: 0.4523\n",
      "Epoch 15/50\n",
      "50000/50000 [==============================] - 82s 2ms/step - loss: 0.0222 - accuracy: 0.4510 - val_loss: 0.0220 - val_accuracy: 0.4536\n",
      "Epoch 16/50\n",
      "50000/50000 [==============================] - 82s 2ms/step - loss: 0.0221 - accuracy: 0.4513 - val_loss: 0.0213 - val_accuracy: 0.4461\n",
      "Epoch 17/50\n",
      "50000/50000 [==============================] - 80s 2ms/step - loss: 0.0219 - accuracy: 0.4520 - val_loss: 0.0218 - val_accuracy: 0.4520\n",
      "Epoch 18/50\n",
      "50000/50000 [==============================] - 80s 2ms/step - loss: 0.0217 - accuracy: 0.4532 - val_loss: 0.0219 - val_accuracy: 0.4478\n",
      "Epoch 19/50\n",
      "50000/50000 [==============================] - 82s 2ms/step - loss: 0.0216 - accuracy: 0.4539 - val_loss: 0.0215 - val_accuracy: 0.4522\n",
      "Epoch 20/50\n",
      "50000/50000 [==============================] - 89s 2ms/step - loss: 0.0214 - accuracy: 0.4554 - val_loss: 0.0217 - val_accuracy: 0.4614\n",
      "Epoch 21/50\n",
      "50000/50000 [==============================] - 80s 2ms/step - loss: 0.0213 - accuracy: 0.4567 - val_loss: 0.0205 - val_accuracy: 0.4627\n",
      "Epoch 22/50\n",
      "50000/50000 [==============================] - 80s 2ms/step - loss: 0.0211 - accuracy: 0.4587 - val_loss: 0.0216 - val_accuracy: 0.4661\n",
      "Epoch 23/50\n",
      "50000/50000 [==============================] - 80s 2ms/step - loss: 0.0209 - accuracy: 0.4644 - val_loss: 0.0207 - val_accuracy: 0.4602\n",
      "Epoch 24/50\n",
      "50000/50000 [==============================] - 80s 2ms/step - loss: 0.0205 - accuracy: 0.4709 - val_loss: 0.0199 - val_accuracy: 0.4875\n",
      "Epoch 25/50\n",
      "50000/50000 [==============================] - 80s 2ms/step - loss: 0.0202 - accuracy: 0.4818 - val_loss: 0.0194 - val_accuracy: 0.5025\n",
      "Epoch 26/50\n",
      "50000/50000 [==============================] - 80s 2ms/step - loss: 0.0197 - accuracy: 0.5006 - val_loss: 0.0199 - val_accuracy: 0.5066\n",
      "Epoch 27/50\n",
      "50000/50000 [==============================] - 80s 2ms/step - loss: 0.0195 - accuracy: 0.5182 - val_loss: 0.0189 - val_accuracy: 0.5264\n",
      "Epoch 28/50\n",
      "50000/50000 [==============================] - 80s 2ms/step - loss: 0.0193 - accuracy: 0.5314 - val_loss: 0.0194 - val_accuracy: 0.4955\n",
      "Epoch 29/50\n",
      "50000/50000 [==============================] - 80s 2ms/step - loss: 0.0191 - accuracy: 0.5403 - val_loss: 0.0186 - val_accuracy: 0.5574\n",
      "Epoch 30/50\n",
      "50000/50000 [==============================] - 80s 2ms/step - loss: 0.0190 - accuracy: 0.5473 - val_loss: 0.0190 - val_accuracy: 0.5633\n",
      "Epoch 31/50\n",
      "50000/50000 [==============================] - 80s 2ms/step - loss: 0.0189 - accuracy: 0.5522 - val_loss: 0.0181 - val_accuracy: 0.5607\n",
      "Epoch 32/50\n",
      "50000/50000 [==============================] - 80s 2ms/step - loss: 0.0187 - accuracy: 0.5559 - val_loss: 0.0186 - val_accuracy: 0.5651\n",
      "Epoch 33/50\n",
      "50000/50000 [==============================] - 80s 2ms/step - loss: 0.0186 - accuracy: 0.5590 - val_loss: 0.0184 - val_accuracy: 0.5502\n",
      "Epoch 34/50\n",
      "50000/50000 [==============================] - 80s 2ms/step - loss: 0.0186 - accuracy: 0.5609 - val_loss: 0.0178 - val_accuracy: 0.5733\n",
      "Epoch 35/50\n",
      "50000/50000 [==============================] - 80s 2ms/step - loss: 0.0184 - accuracy: 0.5656 - val_loss: 0.0183 - val_accuracy: 0.5666\n",
      "Epoch 36/50\n",
      "50000/50000 [==============================] - 80s 2ms/step - loss: 0.0183 - accuracy: 0.5650 - val_loss: 0.0188 - val_accuracy: 0.5790\n",
      "Epoch 37/50\n",
      "50000/50000 [==============================] - 80s 2ms/step - loss: 0.0181 - accuracy: 0.5679 - val_loss: 0.0184 - val_accuracy: 0.5671\n",
      "Epoch 38/50\n",
      "50000/50000 [==============================] - 86s 2ms/step - loss: 0.0180 - accuracy: 0.5701 - val_loss: 0.0177 - val_accuracy: 0.5725\n",
      "Epoch 39/50\n",
      "50000/50000 [==============================] - 89s 2ms/step - loss: 0.0179 - accuracy: 0.5697 - val_loss: 0.0176 - val_accuracy: 0.5870\n",
      "Epoch 40/50\n",
      "50000/50000 [==============================] - 80s 2ms/step - loss: 0.0179 - accuracy: 0.5718 - val_loss: 0.0177 - val_accuracy: 0.5868\n",
      "Epoch 41/50\n",
      "50000/50000 [==============================] - 79s 2ms/step - loss: 0.0178 - accuracy: 0.5738 - val_loss: 0.0179 - val_accuracy: 0.5900\n",
      "Epoch 42/50\n",
      "50000/50000 [==============================] - 80s 2ms/step - loss: 0.0177 - accuracy: 0.5765 - val_loss: 0.0177 - val_accuracy: 0.5907\n",
      "Epoch 43/50\n",
      "50000/50000 [==============================] - 80s 2ms/step - loss: 0.0176 - accuracy: 0.5770 - val_loss: 0.0173 - val_accuracy: 0.5843\n",
      "Epoch 44/50\n",
      "50000/50000 [==============================] - 79s 2ms/step - loss: 0.0175 - accuracy: 0.5766 - val_loss: 0.0171 - val_accuracy: 0.5829\n",
      "Epoch 45/50\n",
      "50000/50000 [==============================] - 79s 2ms/step - loss: 0.0174 - accuracy: 0.5785 - val_loss: 0.0172 - val_accuracy: 0.5632\n",
      "Epoch 46/50\n",
      "50000/50000 [==============================] - 80s 2ms/step - loss: 0.0173 - accuracy: 0.5787 - val_loss: 0.0164 - val_accuracy: 0.5763\n",
      "Epoch 47/50\n",
      "50000/50000 [==============================] - 79s 2ms/step - loss: 0.0172 - accuracy: 0.5827 - val_loss: 0.0181 - val_accuracy: 0.5763\n",
      "Epoch 48/50\n",
      "50000/50000 [==============================] - 80s 2ms/step - loss: 0.0172 - accuracy: 0.5813 - val_loss: 0.0167 - val_accuracy: 0.5963\n",
      "Epoch 49/50\n",
      "50000/50000 [==============================] - 79s 2ms/step - loss: 0.0171 - accuracy: 0.5824 - val_loss: 0.0167 - val_accuracy: 0.5867\n",
      "Epoch 50/50\n",
      "50000/50000 [==============================] - 80s 2ms/step - loss: 0.0171 - accuracy: 0.5849 - val_loss: 0.0174 - val_accuracy: 0.5700\n"
     ]
    },
    {
     "data": {
      "text/plain": [
       "<keras.callbacks.callbacks.History at 0x1432ecd68>"
      ]
     },
     "execution_count": 16,
     "metadata": {},
     "output_type": "execute_result"
    }
   ],
   "source": [
    "autoencoder.compile(optimizer = 'adadelta', loss = 'mse', metrics = ['accuracy'])\n",
    "autoencoder.fit(x_train, x_train, epochs = 50, batch_size = 256, shuffle = True, validation_data = [x_test, x_test])"
   ]
  },
  {
   "cell_type": "code",
   "execution_count": 17,
   "metadata": {},
   "outputs": [],
   "source": [
    "encoded_test_data = encoder.predict(x_test)\n",
    "predicted_test_data = autoencoder.predict(x_test)"
   ]
  },
  {
   "cell_type": "code",
   "execution_count": 18,
   "metadata": {},
   "outputs": [
    {
     "data": {
      "text/plain": [
       "(10000, 4, 4, 8)"
      ]
     },
     "execution_count": 18,
     "metadata": {},
     "output_type": "execute_result"
    }
   ],
   "source": [
    "encoded_test_data.shape"
   ]
  },
  {
   "cell_type": "code",
   "execution_count": 19,
   "metadata": {},
   "outputs": [],
   "source": [
    "encoded_test_data = encoded_test_data.reshape(len(encoded_test_data), np.prod(encoded_test_data.shape[1:]))"
   ]
  },
  {
   "cell_type": "code",
   "execution_count": 20,
   "metadata": {},
   "outputs": [
    {
     "data": {
      "text/plain": [
       "(10000, 128)"
      ]
     },
     "execution_count": 20,
     "metadata": {},
     "output_type": "execute_result"
    }
   ],
   "source": [
    "encoded_test_data.shape"
   ]
  },
  {
   "cell_type": "code",
   "execution_count": 21,
   "metadata": {},
   "outputs": [
    {
     "data": {
      "text/html": [
       "<div>\n",
       "<style scoped>\n",
       "    .dataframe tbody tr th:only-of-type {\n",
       "        vertical-align: middle;\n",
       "    }\n",
       "\n",
       "    .dataframe tbody tr th {\n",
       "        vertical-align: top;\n",
       "    }\n",
       "\n",
       "    .dataframe thead th {\n",
       "        text-align: right;\n",
       "    }\n",
       "</style>\n",
       "<table border=\"1\" class=\"dataframe\">\n",
       "  <thead>\n",
       "    <tr style=\"text-align: right;\">\n",
       "      <th></th>\n",
       "      <th>Class</th>\n",
       "      <th>Class Name</th>\n",
       "    </tr>\n",
       "  </thead>\n",
       "  <tbody>\n",
       "    <tr>\n",
       "      <th>0</th>\n",
       "      <td>3</td>\n",
       "      <td>cat</td>\n",
       "    </tr>\n",
       "    <tr>\n",
       "      <th>1</th>\n",
       "      <td>8</td>\n",
       "      <td>ship</td>\n",
       "    </tr>\n",
       "    <tr>\n",
       "      <th>2</th>\n",
       "      <td>8</td>\n",
       "      <td>ship</td>\n",
       "    </tr>\n",
       "    <tr>\n",
       "      <th>3</th>\n",
       "      <td>0</td>\n",
       "      <td>airplane</td>\n",
       "    </tr>\n",
       "    <tr>\n",
       "      <th>4</th>\n",
       "      <td>6</td>\n",
       "      <td>frog</td>\n",
       "    </tr>\n",
       "    <tr>\n",
       "      <th>...</th>\n",
       "      <td>...</td>\n",
       "      <td>...</td>\n",
       "    </tr>\n",
       "    <tr>\n",
       "      <th>9995</th>\n",
       "      <td>8</td>\n",
       "      <td>ship</td>\n",
       "    </tr>\n",
       "    <tr>\n",
       "      <th>9996</th>\n",
       "      <td>3</td>\n",
       "      <td>cat</td>\n",
       "    </tr>\n",
       "    <tr>\n",
       "      <th>9997</th>\n",
       "      <td>5</td>\n",
       "      <td>dog</td>\n",
       "    </tr>\n",
       "    <tr>\n",
       "      <th>9998</th>\n",
       "      <td>1</td>\n",
       "      <td>automobile</td>\n",
       "    </tr>\n",
       "    <tr>\n",
       "      <th>9999</th>\n",
       "      <td>7</td>\n",
       "      <td>horse</td>\n",
       "    </tr>\n",
       "  </tbody>\n",
       "</table>\n",
       "<p>10000 rows × 2 columns</p>\n",
       "</div>"
      ],
      "text/plain": [
       "      Class  Class Name\n",
       "0         3         cat\n",
       "1         8        ship\n",
       "2         8        ship\n",
       "3         0    airplane\n",
       "4         6        frog\n",
       "...     ...         ...\n",
       "9995      8        ship\n",
       "9996      3         cat\n",
       "9997      5         dog\n",
       "9998      1  automobile\n",
       "9999      7       horse\n",
       "\n",
       "[10000 rows x 2 columns]"
      ]
     },
     "execution_count": 21,
     "metadata": {},
     "output_type": "execute_result"
    }
   ],
   "source": [
    "y_test"
   ]
  },
  {
   "cell_type": "code",
   "execution_count": 22,
   "metadata": {},
   "outputs": [
    {
     "data": {
      "text/plain": [
       "(10000, 130)"
      ]
     },
     "execution_count": 22,
     "metadata": {},
     "output_type": "execute_result"
    }
   ],
   "source": [
    "encoded_test_data_df = pd.DataFrame(encoded_test_data)\n",
    "final_encoded_test_data_df = pd.concat([y_test, encoded_test_data_df], axis = 1)\n",
    "final_encoded_test_data_df.shape"
   ]
  },
  {
   "cell_type": "code",
   "execution_count": 23,
   "metadata": {},
   "outputs": [],
   "source": [
    "datadir = '/Users/sidv88/Documents/Data_Management_2/Convolutional_Encoded_Data/'\n",
    "final_encoded_test_data_df.to_csv(datadir + 'Convolutional_Encoded_Test_RSADM.csv', index = False)"
   ]
  },
  {
   "cell_type": "code",
   "execution_count": 24,
   "metadata": {},
   "outputs": [
    {
     "name": "stdout",
     "output_type": "stream",
     "text": [
      "Enter one of these values ['cat' 'ship' 'airplane' 'frog' 'automobile' 'truck' 'dog' 'horse' 'deer'\n",
      " 'bird'] : dog\n"
     ]
    }
   ],
   "source": [
    "input_val = input(\"Enter one of these values {} : \".format(final_encoded_test_data_df['Class Name'].unique()))"
   ]
  },
  {
   "cell_type": "code",
   "execution_count": 25,
   "metadata": {},
   "outputs": [
    {
     "name": "stdout",
     "output_type": "stream",
     "text": [
      "Enter a number between 0 and 999 : 3\n"
     ]
    }
   ],
   "source": [
    "input_num = input(\"Enter a number between 0 and 999 : \")"
   ]
  },
  {
   "cell_type": "code",
   "execution_count": 26,
   "metadata": {},
   "outputs": [
    {
     "name": "stdout",
     "output_type": "stream",
     "text": [
      "10000\n",
      "10000\n"
     ]
    }
   ],
   "source": [
    "from numpy import dot\n",
    "from numpy.linalg import norm\n",
    "\n",
    "cosine_similarity = []\n",
    "cosine_distance = []\n",
    "\n",
    "for i in range(len(x_test)):\n",
    "    a = final_encoded_test_data_df.loc[final_encoded_test_data_df['Class Name'] == input_val].iloc[int(input_num), 2:]\n",
    "    b = final_encoded_test_data_df.iloc[i, 2:]\n",
    "    cos_sim = dot(a, b)/(norm(a) * norm(b))\n",
    "    cos_dist = 1 - cos_sim\n",
    "    cosine_similarity.append(cos_sim)\n",
    "    cosine_distance.append(cos_dist)\n",
    "print(len(cosine_similarity))\n",
    "print(len(cosine_distance))"
   ]
  },
  {
   "cell_type": "code",
   "execution_count": 27,
   "metadata": {},
   "outputs": [],
   "source": [
    "final_encoded_test_data_df['Cosine Similarity'] = cosine_similarity\n",
    "final_encoded_test_data_df['Cosine Distance'] = cosine_distance"
   ]
  },
  {
   "cell_type": "code",
   "execution_count": 28,
   "metadata": {},
   "outputs": [
    {
     "data": {
      "text/html": [
       "<div>\n",
       "<style scoped>\n",
       "    .dataframe tbody tr th:only-of-type {\n",
       "        vertical-align: middle;\n",
       "    }\n",
       "\n",
       "    .dataframe tbody tr th {\n",
       "        vertical-align: top;\n",
       "    }\n",
       "\n",
       "    .dataframe thead th {\n",
       "        text-align: right;\n",
       "    }\n",
       "</style>\n",
       "<table border=\"1\" class=\"dataframe\">\n",
       "  <thead>\n",
       "    <tr style=\"text-align: right;\">\n",
       "      <th></th>\n",
       "      <th>Class</th>\n",
       "      <th>Class Name</th>\n",
       "      <th>0</th>\n",
       "      <th>1</th>\n",
       "      <th>2</th>\n",
       "      <th>3</th>\n",
       "      <th>4</th>\n",
       "      <th>5</th>\n",
       "      <th>6</th>\n",
       "      <th>7</th>\n",
       "      <th>...</th>\n",
       "      <th>120</th>\n",
       "      <th>121</th>\n",
       "      <th>122</th>\n",
       "      <th>123</th>\n",
       "      <th>124</th>\n",
       "      <th>125</th>\n",
       "      <th>126</th>\n",
       "      <th>127</th>\n",
       "      <th>Cosine Similarity</th>\n",
       "      <th>Cosine Distance</th>\n",
       "    </tr>\n",
       "  </thead>\n",
       "  <tbody>\n",
       "    <tr>\n",
       "      <th>31</th>\n",
       "      <td>5</td>\n",
       "      <td>dog</td>\n",
       "      <td>0.101529</td>\n",
       "      <td>0.000000</td>\n",
       "      <td>0.618300</td>\n",
       "      <td>0.271362</td>\n",
       "      <td>0.287793</td>\n",
       "      <td>0.188882</td>\n",
       "      <td>0.581895</td>\n",
       "      <td>0.000000</td>\n",
       "      <td>...</td>\n",
       "      <td>0.443874</td>\n",
       "      <td>0.035367</td>\n",
       "      <td>1.004331</td>\n",
       "      <td>0.851407</td>\n",
       "      <td>1.058883</td>\n",
       "      <td>0.682287</td>\n",
       "      <td>1.891990</td>\n",
       "      <td>1.821877</td>\n",
       "      <td>1.000000</td>\n",
       "      <td>1.192093e-07</td>\n",
       "    </tr>\n",
       "    <tr>\n",
       "      <th>3624</th>\n",
       "      <td>2</td>\n",
       "      <td>bird</td>\n",
       "      <td>0.672642</td>\n",
       "      <td>0.000000</td>\n",
       "      <td>0.616563</td>\n",
       "      <td>0.000000</td>\n",
       "      <td>0.065650</td>\n",
       "      <td>0.045779</td>\n",
       "      <td>0.169653</td>\n",
       "      <td>0.064948</td>\n",
       "      <td>...</td>\n",
       "      <td>0.650961</td>\n",
       "      <td>0.000000</td>\n",
       "      <td>0.520511</td>\n",
       "      <td>0.002464</td>\n",
       "      <td>0.587040</td>\n",
       "      <td>0.366818</td>\n",
       "      <td>1.229386</td>\n",
       "      <td>2.084413</td>\n",
       "      <td>0.931202</td>\n",
       "      <td>6.879771e-02</td>\n",
       "    </tr>\n",
       "    <tr>\n",
       "      <th>1099</th>\n",
       "      <td>2</td>\n",
       "      <td>bird</td>\n",
       "      <td>0.145466</td>\n",
       "      <td>0.000000</td>\n",
       "      <td>0.598774</td>\n",
       "      <td>0.099956</td>\n",
       "      <td>0.010453</td>\n",
       "      <td>0.121810</td>\n",
       "      <td>0.599342</td>\n",
       "      <td>0.328859</td>\n",
       "      <td>...</td>\n",
       "      <td>0.522011</td>\n",
       "      <td>0.000000</td>\n",
       "      <td>0.622977</td>\n",
       "      <td>0.131332</td>\n",
       "      <td>0.834005</td>\n",
       "      <td>0.440303</td>\n",
       "      <td>1.140762</td>\n",
       "      <td>1.486308</td>\n",
       "      <td>0.920786</td>\n",
       "      <td>7.921445e-02</td>\n",
       "    </tr>\n",
       "    <tr>\n",
       "      <th>2544</th>\n",
       "      <td>2</td>\n",
       "      <td>bird</td>\n",
       "      <td>0.256506</td>\n",
       "      <td>0.000000</td>\n",
       "      <td>0.354734</td>\n",
       "      <td>0.008745</td>\n",
       "      <td>0.000000</td>\n",
       "      <td>0.272172</td>\n",
       "      <td>0.007389</td>\n",
       "      <td>0.203468</td>\n",
       "      <td>...</td>\n",
       "      <td>1.016320</td>\n",
       "      <td>0.000000</td>\n",
       "      <td>0.819320</td>\n",
       "      <td>0.000000</td>\n",
       "      <td>0.783623</td>\n",
       "      <td>0.292172</td>\n",
       "      <td>1.737216</td>\n",
       "      <td>2.656180</td>\n",
       "      <td>0.919678</td>\n",
       "      <td>8.032233e-02</td>\n",
       "    </tr>\n",
       "    <tr>\n",
       "      <th>3748</th>\n",
       "      <td>5</td>\n",
       "      <td>dog</td>\n",
       "      <td>0.249948</td>\n",
       "      <td>0.000000</td>\n",
       "      <td>0.735538</td>\n",
       "      <td>0.379080</td>\n",
       "      <td>0.506104</td>\n",
       "      <td>0.076008</td>\n",
       "      <td>0.583125</td>\n",
       "      <td>0.000000</td>\n",
       "      <td>...</td>\n",
       "      <td>1.053509</td>\n",
       "      <td>0.000000</td>\n",
       "      <td>0.820747</td>\n",
       "      <td>1.360985</td>\n",
       "      <td>1.400023</td>\n",
       "      <td>1.474599</td>\n",
       "      <td>1.463318</td>\n",
       "      <td>1.539297</td>\n",
       "      <td>0.914999</td>\n",
       "      <td>8.500063e-02</td>\n",
       "    </tr>\n",
       "    <tr>\n",
       "      <th>...</th>\n",
       "      <td>...</td>\n",
       "      <td>...</td>\n",
       "      <td>...</td>\n",
       "      <td>...</td>\n",
       "      <td>...</td>\n",
       "      <td>...</td>\n",
       "      <td>...</td>\n",
       "      <td>...</td>\n",
       "      <td>...</td>\n",
       "      <td>...</td>\n",
       "      <td>...</td>\n",
       "      <td>...</td>\n",
       "      <td>...</td>\n",
       "      <td>...</td>\n",
       "      <td>...</td>\n",
       "      <td>...</td>\n",
       "      <td>...</td>\n",
       "      <td>...</td>\n",
       "      <td>...</td>\n",
       "      <td>...</td>\n",
       "      <td>...</td>\n",
       "    </tr>\n",
       "    <tr>\n",
       "      <th>907</th>\n",
       "      <td>6</td>\n",
       "      <td>frog</td>\n",
       "      <td>0.000000</td>\n",
       "      <td>0.184112</td>\n",
       "      <td>1.124787</td>\n",
       "      <td>2.652929</td>\n",
       "      <td>2.987607</td>\n",
       "      <td>0.022521</td>\n",
       "      <td>0.000000</td>\n",
       "      <td>0.000000</td>\n",
       "      <td>...</td>\n",
       "      <td>0.609769</td>\n",
       "      <td>1.398281</td>\n",
       "      <td>2.009761</td>\n",
       "      <td>2.920059</td>\n",
       "      <td>2.765019</td>\n",
       "      <td>0.743263</td>\n",
       "      <td>1.741375</td>\n",
       "      <td>0.408776</td>\n",
       "      <td>0.494377</td>\n",
       "      <td>5.056226e-01</td>\n",
       "    </tr>\n",
       "    <tr>\n",
       "      <th>118</th>\n",
       "      <td>2</td>\n",
       "      <td>bird</td>\n",
       "      <td>0.000000</td>\n",
       "      <td>0.257306</td>\n",
       "      <td>1.264496</td>\n",
       "      <td>2.897286</td>\n",
       "      <td>3.300427</td>\n",
       "      <td>0.000000</td>\n",
       "      <td>0.000000</td>\n",
       "      <td>0.000000</td>\n",
       "      <td>...</td>\n",
       "      <td>0.699753</td>\n",
       "      <td>1.558379</td>\n",
       "      <td>1.794528</td>\n",
       "      <td>3.276613</td>\n",
       "      <td>3.107288</td>\n",
       "      <td>0.226526</td>\n",
       "      <td>0.058621</td>\n",
       "      <td>0.000000</td>\n",
       "      <td>0.481591</td>\n",
       "      <td>5.184093e-01</td>\n",
       "    </tr>\n",
       "    <tr>\n",
       "      <th>9765</th>\n",
       "      <td>4</td>\n",
       "      <td>deer</td>\n",
       "      <td>0.000000</td>\n",
       "      <td>0.259515</td>\n",
       "      <td>1.285283</td>\n",
       "      <td>2.939387</td>\n",
       "      <td>3.339237</td>\n",
       "      <td>0.000000</td>\n",
       "      <td>0.000000</td>\n",
       "      <td>0.000000</td>\n",
       "      <td>...</td>\n",
       "      <td>1.048581</td>\n",
       "      <td>1.480219</td>\n",
       "      <td>1.681167</td>\n",
       "      <td>2.709512</td>\n",
       "      <td>2.586887</td>\n",
       "      <td>0.861780</td>\n",
       "      <td>1.281255</td>\n",
       "      <td>0.441478</td>\n",
       "      <td>0.474133</td>\n",
       "      <td>5.258668e-01</td>\n",
       "    </tr>\n",
       "    <tr>\n",
       "      <th>1300</th>\n",
       "      <td>4</td>\n",
       "      <td>deer</td>\n",
       "      <td>0.000000</td>\n",
       "      <td>0.246672</td>\n",
       "      <td>1.218561</td>\n",
       "      <td>2.811478</td>\n",
       "      <td>3.220192</td>\n",
       "      <td>0.000000</td>\n",
       "      <td>0.000000</td>\n",
       "      <td>0.000000</td>\n",
       "      <td>...</td>\n",
       "      <td>0.579035</td>\n",
       "      <td>1.441310</td>\n",
       "      <td>1.396211</td>\n",
       "      <td>2.578408</td>\n",
       "      <td>2.398343</td>\n",
       "      <td>0.551213</td>\n",
       "      <td>0.540233</td>\n",
       "      <td>0.000000</td>\n",
       "      <td>0.462481</td>\n",
       "      <td>5.375194e-01</td>\n",
       "    </tr>\n",
       "    <tr>\n",
       "      <th>6941</th>\n",
       "      <td>4</td>\n",
       "      <td>deer</td>\n",
       "      <td>0.000000</td>\n",
       "      <td>0.286637</td>\n",
       "      <td>1.362185</td>\n",
       "      <td>2.820852</td>\n",
       "      <td>3.099354</td>\n",
       "      <td>0.000000</td>\n",
       "      <td>0.000000</td>\n",
       "      <td>0.000000</td>\n",
       "      <td>...</td>\n",
       "      <td>0.620855</td>\n",
       "      <td>1.609751</td>\n",
       "      <td>2.073626</td>\n",
       "      <td>3.281590</td>\n",
       "      <td>2.908596</td>\n",
       "      <td>0.230691</td>\n",
       "      <td>0.391622</td>\n",
       "      <td>0.000000</td>\n",
       "      <td>0.453480</td>\n",
       "      <td>5.465198e-01</td>\n",
       "    </tr>\n",
       "  </tbody>\n",
       "</table>\n",
       "<p>10000 rows × 132 columns</p>\n",
       "</div>"
      ],
      "text/plain": [
       "      Class Class Name         0         1         2         3         4  \\\n",
       "31        5        dog  0.101529  0.000000  0.618300  0.271362  0.287793   \n",
       "3624      2       bird  0.672642  0.000000  0.616563  0.000000  0.065650   \n",
       "1099      2       bird  0.145466  0.000000  0.598774  0.099956  0.010453   \n",
       "2544      2       bird  0.256506  0.000000  0.354734  0.008745  0.000000   \n",
       "3748      5        dog  0.249948  0.000000  0.735538  0.379080  0.506104   \n",
       "...     ...        ...       ...       ...       ...       ...       ...   \n",
       "907       6       frog  0.000000  0.184112  1.124787  2.652929  2.987607   \n",
       "118       2       bird  0.000000  0.257306  1.264496  2.897286  3.300427   \n",
       "9765      4       deer  0.000000  0.259515  1.285283  2.939387  3.339237   \n",
       "1300      4       deer  0.000000  0.246672  1.218561  2.811478  3.220192   \n",
       "6941      4       deer  0.000000  0.286637  1.362185  2.820852  3.099354   \n",
       "\n",
       "             5         6         7  ...       120       121       122  \\\n",
       "31    0.188882  0.581895  0.000000  ...  0.443874  0.035367  1.004331   \n",
       "3624  0.045779  0.169653  0.064948  ...  0.650961  0.000000  0.520511   \n",
       "1099  0.121810  0.599342  0.328859  ...  0.522011  0.000000  0.622977   \n",
       "2544  0.272172  0.007389  0.203468  ...  1.016320  0.000000  0.819320   \n",
       "3748  0.076008  0.583125  0.000000  ...  1.053509  0.000000  0.820747   \n",
       "...        ...       ...       ...  ...       ...       ...       ...   \n",
       "907   0.022521  0.000000  0.000000  ...  0.609769  1.398281  2.009761   \n",
       "118   0.000000  0.000000  0.000000  ...  0.699753  1.558379  1.794528   \n",
       "9765  0.000000  0.000000  0.000000  ...  1.048581  1.480219  1.681167   \n",
       "1300  0.000000  0.000000  0.000000  ...  0.579035  1.441310  1.396211   \n",
       "6941  0.000000  0.000000  0.000000  ...  0.620855  1.609751  2.073626   \n",
       "\n",
       "           123       124       125       126       127  Cosine Similarity  \\\n",
       "31    0.851407  1.058883  0.682287  1.891990  1.821877           1.000000   \n",
       "3624  0.002464  0.587040  0.366818  1.229386  2.084413           0.931202   \n",
       "1099  0.131332  0.834005  0.440303  1.140762  1.486308           0.920786   \n",
       "2544  0.000000  0.783623  0.292172  1.737216  2.656180           0.919678   \n",
       "3748  1.360985  1.400023  1.474599  1.463318  1.539297           0.914999   \n",
       "...        ...       ...       ...       ...       ...                ...   \n",
       "907   2.920059  2.765019  0.743263  1.741375  0.408776           0.494377   \n",
       "118   3.276613  3.107288  0.226526  0.058621  0.000000           0.481591   \n",
       "9765  2.709512  2.586887  0.861780  1.281255  0.441478           0.474133   \n",
       "1300  2.578408  2.398343  0.551213  0.540233  0.000000           0.462481   \n",
       "6941  3.281590  2.908596  0.230691  0.391622  0.000000           0.453480   \n",
       "\n",
       "      Cosine Distance  \n",
       "31       1.192093e-07  \n",
       "3624     6.879771e-02  \n",
       "1099     7.921445e-02  \n",
       "2544     8.032233e-02  \n",
       "3748     8.500063e-02  \n",
       "...               ...  \n",
       "907      5.056226e-01  \n",
       "118      5.184093e-01  \n",
       "9765     5.258668e-01  \n",
       "1300     5.375194e-01  \n",
       "6941     5.465198e-01  \n",
       "\n",
       "[10000 rows x 132 columns]"
      ]
     },
     "execution_count": 28,
     "metadata": {},
     "output_type": "execute_result"
    }
   ],
   "source": [
    "final_encoded_test_data_df.sort_values(by = ['Cosine Similarity'], ascending = False)"
   ]
  },
  {
   "cell_type": "code",
   "execution_count": 29,
   "metadata": {},
   "outputs": [],
   "source": [
    "cosine_index = final_encoded_test_data_df.sort_values(by = ['Cosine Similarity'], ascending = False).head(10).index"
   ]
  },
  {
   "cell_type": "code",
   "execution_count": 30,
   "metadata": {
    "scrolled": true
   },
   "outputs": [
    {
     "data": {
      "image/png": "[encoded data removed]",
      "text/plain": [
       "<Figure size 144x144 with 1 Axes>"
      ]
     },
     "metadata": {
      "needs_background": "light"
     },
     "output_type": "display_data"
    },
    {
     "data": {
      "image/png": "[encoded data removed]",
      "text/plain": [
       "<Figure size 144x144 with 1 Axes>"
      ]
     },
     "metadata": {
      "needs_background": "light"
     },
     "output_type": "display_data"
    },
    {
     "data": {
      "image/png": "[encoded data removed]",
      "text/plain": [
       "<Figure size 144x144 with 1 Axes>"
      ]
     },
     "metadata": {
      "needs_background": "light"
     },
     "output_type": "display_data"
    },
    {
     "data": {
      "image/png": "[encoded data removed]",
      "text/plain": [
       "<Figure size 144x144 with 1 Axes>"
      ]
     },
     "metadata": {
      "needs_background": "light"
     },
     "output_type": "display_data"
    },
    {
     "data": {
      "image/png": "[encoded data removed]",
      "text/plain": [
       "<Figure size 144x144 with 1 Axes>"
      ]
     },
     "metadata": {
      "needs_background": "light"
     },
     "output_type": "display_data"
    },
    {
     "data": {
      "image/png": "[encoded data removed]",
      "text/plain": [
       "<Figure size 144x144 with 1 Axes>"
      ]
     },
     "metadata": {
      "needs_background": "light"
     },
     "output_type": "display_data"
    },
    {
     "data": {
      "image/png": "[encoded data removed]",
      "text/plain": [
       "<Figure size 144x144 with 1 Axes>"
      ]
     },
     "metadata": {
      "needs_background": "light"
     },
     "output_type": "display_data"
    },
    {
     "data": {
      "image/png": "[encoded data removed]",
      "text/plain": [
       "<Figure size 144x144 with 1 Axes>"
      ]
     },
     "metadata": {
      "needs_background": "light"
     },
     "output_type": "display_data"
    },
    {
     "data": {
      "image/png": "[encoded data removed]",
      "text/plain": [
       "<Figure size 144x144 with 1 Axes>"
      ]
     },
     "metadata": {
      "needs_background": "light"
     },
     "output_type": "display_data"
    },
    {
     "data": {
      "image/png": "[encoded data removed]",
      "text/plain": [
       "<Figure size 144x144 with 1 Axes>"
      ]
     },
     "metadata": {
      "needs_background": "light"
     },
     "output_type": "display_data"
    }
   ],
   "source": [
    "for i in cosine_index:\n",
    "    plt.figure(figsize = (2, 2))\n",
    "    plt.imshow(x_test[i].reshape(32, 32, 3))\n",
    "    plt.xlabel(final_encoded_test_data_df['Class Name'][i] + ' with a Cosine Similarity of ' + str(final_encoded_test_data_df['Cosine Similarity'][i]) + ' from the queried image.')\n",
    "    plt.show()"
   ]
  },
  {
   "cell_type": "code",
   "execution_count": 31,
   "metadata": {},
   "outputs": [
    {
     "name": "stdout",
     "output_type": "stream",
     "text": [
      "10000\n"
     ]
    }
   ],
   "source": [
    "euclidean_distance = []\n",
    "\n",
    "for i in range(len(x_test)):\n",
    "    a = final_encoded_test_data_df.loc[final_encoded_test_data_df['Class Name'] == input_val].iloc[int(input_num), 2:]\n",
    "    b = final_encoded_test_data_df.iloc[i, 2:]\n",
    "    euc_dist = np.linalg.norm(a-b)\n",
    "    euclidean_distance.append(euc_dist)\n",
    "print(len(euclidean_distance))"
   ]
  },
  {
   "cell_type": "code",
   "execution_count": 32,
   "metadata": {},
   "outputs": [
    {
     "data": {
      "text/html": [
       "<div>\n",
       "<style scoped>\n",
       "    .dataframe tbody tr th:only-of-type {\n",
       "        vertical-align: middle;\n",
       "    }\n",
       "\n",
       "    .dataframe tbody tr th {\n",
       "        vertical-align: top;\n",
       "    }\n",
       "\n",
       "    .dataframe thead th {\n",
       "        text-align: right;\n",
       "    }\n",
       "</style>\n",
       "<table border=\"1\" class=\"dataframe\">\n",
       "  <thead>\n",
       "    <tr style=\"text-align: right;\">\n",
       "      <th></th>\n",
       "      <th>Class</th>\n",
       "      <th>Class Name</th>\n",
       "      <th>0</th>\n",
       "      <th>1</th>\n",
       "      <th>2</th>\n",
       "      <th>3</th>\n",
       "      <th>4</th>\n",
       "      <th>5</th>\n",
       "      <th>6</th>\n",
       "      <th>7</th>\n",
       "      <th>...</th>\n",
       "      <th>121</th>\n",
       "      <th>122</th>\n",
       "      <th>123</th>\n",
       "      <th>124</th>\n",
       "      <th>125</th>\n",
       "      <th>126</th>\n",
       "      <th>127</th>\n",
       "      <th>Cosine Similarity</th>\n",
       "      <th>Cosine Distance</th>\n",
       "      <th>Euclidean Distance</th>\n",
       "    </tr>\n",
       "  </thead>\n",
       "  <tbody>\n",
       "    <tr>\n",
       "      <th>31</th>\n",
       "      <td>5</td>\n",
       "      <td>dog</td>\n",
       "      <td>0.101529</td>\n",
       "      <td>0.000000</td>\n",
       "      <td>0.618300</td>\n",
       "      <td>0.271362</td>\n",
       "      <td>0.287793</td>\n",
       "      <td>0.188882</td>\n",
       "      <td>0.581895</td>\n",
       "      <td>0.000000</td>\n",
       "      <td>...</td>\n",
       "      <td>0.035367</td>\n",
       "      <td>1.004331</td>\n",
       "      <td>0.851407</td>\n",
       "      <td>1.058883</td>\n",
       "      <td>0.682287</td>\n",
       "      <td>1.891990</td>\n",
       "      <td>1.821877</td>\n",
       "      <td>1.000000</td>\n",
       "      <td>1.192093e-07</td>\n",
       "      <td>0.000000</td>\n",
       "    </tr>\n",
       "    <tr>\n",
       "      <th>3624</th>\n",
       "      <td>2</td>\n",
       "      <td>bird</td>\n",
       "      <td>0.672642</td>\n",
       "      <td>0.000000</td>\n",
       "      <td>0.616563</td>\n",
       "      <td>0.000000</td>\n",
       "      <td>0.065650</td>\n",
       "      <td>0.045779</td>\n",
       "      <td>0.169653</td>\n",
       "      <td>0.064948</td>\n",
       "      <td>...</td>\n",
       "      <td>0.000000</td>\n",
       "      <td>0.520511</td>\n",
       "      <td>0.002464</td>\n",
       "      <td>0.587040</td>\n",
       "      <td>0.366818</td>\n",
       "      <td>1.229386</td>\n",
       "      <td>2.084413</td>\n",
       "      <td>0.931202</td>\n",
       "      <td>6.879771e-02</td>\n",
       "      <td>4.343259</td>\n",
       "    </tr>\n",
       "    <tr>\n",
       "      <th>6504</th>\n",
       "      <td>7</td>\n",
       "      <td>horse</td>\n",
       "      <td>0.824621</td>\n",
       "      <td>0.000000</td>\n",
       "      <td>0.865653</td>\n",
       "      <td>0.047566</td>\n",
       "      <td>0.000000</td>\n",
       "      <td>0.000000</td>\n",
       "      <td>0.129810</td>\n",
       "      <td>0.320033</td>\n",
       "      <td>...</td>\n",
       "      <td>0.000000</td>\n",
       "      <td>0.568199</td>\n",
       "      <td>0.000000</td>\n",
       "      <td>0.542753</td>\n",
       "      <td>0.499356</td>\n",
       "      <td>0.777790</td>\n",
       "      <td>2.494596</td>\n",
       "      <td>0.902289</td>\n",
       "      <td>9.771097e-02</td>\n",
       "      <td>5.118326</td>\n",
       "    </tr>\n",
       "    <tr>\n",
       "      <th>6768</th>\n",
       "      <td>2</td>\n",
       "      <td>bird</td>\n",
       "      <td>0.088322</td>\n",
       "      <td>0.000000</td>\n",
       "      <td>0.716518</td>\n",
       "      <td>0.000000</td>\n",
       "      <td>0.000000</td>\n",
       "      <td>0.000000</td>\n",
       "      <td>0.543908</td>\n",
       "      <td>0.546326</td>\n",
       "      <td>...</td>\n",
       "      <td>0.000000</td>\n",
       "      <td>0.735634</td>\n",
       "      <td>0.307812</td>\n",
       "      <td>0.753024</td>\n",
       "      <td>0.457607</td>\n",
       "      <td>1.207157</td>\n",
       "      <td>1.791302</td>\n",
       "      <td>0.904279</td>\n",
       "      <td>9.572065e-02</td>\n",
       "      <td>5.222666</td>\n",
       "    </tr>\n",
       "    <tr>\n",
       "      <th>2762</th>\n",
       "      <td>4</td>\n",
       "      <td>deer</td>\n",
       "      <td>0.687692</td>\n",
       "      <td>0.000000</td>\n",
       "      <td>0.554568</td>\n",
       "      <td>0.399083</td>\n",
       "      <td>0.694494</td>\n",
       "      <td>0.178803</td>\n",
       "      <td>0.073149</td>\n",
       "      <td>0.000000</td>\n",
       "      <td>...</td>\n",
       "      <td>0.206302</td>\n",
       "      <td>0.556437</td>\n",
       "      <td>0.381326</td>\n",
       "      <td>1.185964</td>\n",
       "      <td>0.529153</td>\n",
       "      <td>0.805712</td>\n",
       "      <td>0.813286</td>\n",
       "      <td>0.900561</td>\n",
       "      <td>9.943902e-02</td>\n",
       "      <td>5.238991</td>\n",
       "    </tr>\n",
       "    <tr>\n",
       "      <th>...</th>\n",
       "      <td>...</td>\n",
       "      <td>...</td>\n",
       "      <td>...</td>\n",
       "      <td>...</td>\n",
       "      <td>...</td>\n",
       "      <td>...</td>\n",
       "      <td>...</td>\n",
       "      <td>...</td>\n",
       "      <td>...</td>\n",
       "      <td>...</td>\n",
       "      <td>...</td>\n",
       "      <td>...</td>\n",
       "      <td>...</td>\n",
       "      <td>...</td>\n",
       "      <td>...</td>\n",
       "      <td>...</td>\n",
       "      <td>...</td>\n",
       "      <td>...</td>\n",
       "      <td>...</td>\n",
       "      <td>...</td>\n",
       "      <td>...</td>\n",
       "    </tr>\n",
       "    <tr>\n",
       "      <th>2940</th>\n",
       "      <td>3</td>\n",
       "      <td>cat</td>\n",
       "      <td>0.029049</td>\n",
       "      <td>0.000000</td>\n",
       "      <td>1.201431</td>\n",
       "      <td>2.263234</td>\n",
       "      <td>2.512151</td>\n",
       "      <td>0.080195</td>\n",
       "      <td>0.000000</td>\n",
       "      <td>0.000000</td>\n",
       "      <td>...</td>\n",
       "      <td>1.790192</td>\n",
       "      <td>1.731743</td>\n",
       "      <td>3.447333</td>\n",
       "      <td>2.853167</td>\n",
       "      <td>0.617747</td>\n",
       "      <td>0.000000</td>\n",
       "      <td>0.077534</td>\n",
       "      <td>0.636761</td>\n",
       "      <td>3.632390e-01</td>\n",
       "      <td>19.380055</td>\n",
       "    </tr>\n",
       "    <tr>\n",
       "      <th>8684</th>\n",
       "      <td>2</td>\n",
       "      <td>bird</td>\n",
       "      <td>2.752230</td>\n",
       "      <td>0.000000</td>\n",
       "      <td>1.876384</td>\n",
       "      <td>0.000000</td>\n",
       "      <td>0.078837</td>\n",
       "      <td>0.000000</td>\n",
       "      <td>0.000000</td>\n",
       "      <td>0.345527</td>\n",
       "      <td>...</td>\n",
       "      <td>1.600296</td>\n",
       "      <td>2.195724</td>\n",
       "      <td>3.440376</td>\n",
       "      <td>3.837489</td>\n",
       "      <td>0.812513</td>\n",
       "      <td>0.057820</td>\n",
       "      <td>0.000000</td>\n",
       "      <td>0.591564</td>\n",
       "      <td>4.084355e-01</td>\n",
       "      <td>19.585514</td>\n",
       "    </tr>\n",
       "    <tr>\n",
       "      <th>6234</th>\n",
       "      <td>7</td>\n",
       "      <td>horse</td>\n",
       "      <td>0.000000</td>\n",
       "      <td>0.258757</td>\n",
       "      <td>1.280162</td>\n",
       "      <td>2.928211</td>\n",
       "      <td>3.328514</td>\n",
       "      <td>0.000000</td>\n",
       "      <td>0.000000</td>\n",
       "      <td>0.000000</td>\n",
       "      <td>...</td>\n",
       "      <td>1.783448</td>\n",
       "      <td>2.496297</td>\n",
       "      <td>3.891048</td>\n",
       "      <td>3.880715</td>\n",
       "      <td>0.942849</td>\n",
       "      <td>0.000000</td>\n",
       "      <td>0.327033</td>\n",
       "      <td>0.611232</td>\n",
       "      <td>3.887677e-01</td>\n",
       "      <td>19.937649</td>\n",
       "    </tr>\n",
       "    <tr>\n",
       "      <th>6675</th>\n",
       "      <td>2</td>\n",
       "      <td>bird</td>\n",
       "      <td>0.218551</td>\n",
       "      <td>0.000000</td>\n",
       "      <td>0.716299</td>\n",
       "      <td>0.000000</td>\n",
       "      <td>0.000000</td>\n",
       "      <td>0.051192</td>\n",
       "      <td>0.305453</td>\n",
       "      <td>4.527141</td>\n",
       "      <td>...</td>\n",
       "      <td>0.000000</td>\n",
       "      <td>0.914550</td>\n",
       "      <td>0.000000</td>\n",
       "      <td>0.353650</td>\n",
       "      <td>1.508633</td>\n",
       "      <td>0.736282</td>\n",
       "      <td>7.680819</td>\n",
       "      <td>0.735971</td>\n",
       "      <td>2.640291e-01</td>\n",
       "      <td>20.303639</td>\n",
       "    </tr>\n",
       "    <tr>\n",
       "      <th>7835</th>\n",
       "      <td>0</td>\n",
       "      <td>airplane</td>\n",
       "      <td>0.220338</td>\n",
       "      <td>0.000000</td>\n",
       "      <td>0.715466</td>\n",
       "      <td>0.000000</td>\n",
       "      <td>0.000000</td>\n",
       "      <td>0.048718</td>\n",
       "      <td>0.298956</td>\n",
       "      <td>4.550466</td>\n",
       "      <td>...</td>\n",
       "      <td>0.000000</td>\n",
       "      <td>0.754747</td>\n",
       "      <td>0.000000</td>\n",
       "      <td>0.000000</td>\n",
       "      <td>1.132608</td>\n",
       "      <td>2.056527</td>\n",
       "      <td>7.259961</td>\n",
       "      <td>0.743030</td>\n",
       "      <td>2.569702e-01</td>\n",
       "      <td>20.660879</td>\n",
       "    </tr>\n",
       "  </tbody>\n",
       "</table>\n",
       "<p>10000 rows × 133 columns</p>\n",
       "</div>"
      ],
      "text/plain": [
       "      Class Class Name         0         1         2         3         4  \\\n",
       "31        5        dog  0.101529  0.000000  0.618300  0.271362  0.287793   \n",
       "3624      2       bird  0.672642  0.000000  0.616563  0.000000  0.065650   \n",
       "6504      7      horse  0.824621  0.000000  0.865653  0.047566  0.000000   \n",
       "6768      2       bird  0.088322  0.000000  0.716518  0.000000  0.000000   \n",
       "2762      4       deer  0.687692  0.000000  0.554568  0.399083  0.694494   \n",
       "...     ...        ...       ...       ...       ...       ...       ...   \n",
       "2940      3        cat  0.029049  0.000000  1.201431  2.263234  2.512151   \n",
       "8684      2       bird  2.752230  0.000000  1.876384  0.000000  0.078837   \n",
       "6234      7      horse  0.000000  0.258757  1.280162  2.928211  3.328514   \n",
       "6675      2       bird  0.218551  0.000000  0.716299  0.000000  0.000000   \n",
       "7835      0   airplane  0.220338  0.000000  0.715466  0.000000  0.000000   \n",
       "\n",
       "             5         6         7  ...       121       122       123  \\\n",
       "31    0.188882  0.581895  0.000000  ...  0.035367  1.004331  0.851407   \n",
       "3624  0.045779  0.169653  0.064948  ...  0.000000  0.520511  0.002464   \n",
       "6504  0.000000  0.129810  0.320033  ...  0.000000  0.568199  0.000000   \n",
       "6768  0.000000  0.543908  0.546326  ...  0.000000  0.735634  0.307812   \n",
       "2762  0.178803  0.073149  0.000000  ...  0.206302  0.556437  0.381326   \n",
       "...        ...       ...       ...  ...       ...       ...       ...   \n",
       "2940  0.080195  0.000000  0.000000  ...  1.790192  1.731743  3.447333   \n",
       "8684  0.000000  0.000000  0.345527  ...  1.600296  2.195724  3.440376   \n",
       "6234  0.000000  0.000000  0.000000  ...  1.783448  2.496297  3.891048   \n",
       "6675  0.051192  0.305453  4.527141  ...  0.000000  0.914550  0.000000   \n",
       "7835  0.048718  0.298956  4.550466  ...  0.000000  0.754747  0.000000   \n",
       "\n",
       "           124       125       126       127  Cosine Similarity  \\\n",
       "31    1.058883  0.682287  1.891990  1.821877           1.000000   \n",
       "3624  0.587040  0.366818  1.229386  2.084413           0.931202   \n",
       "6504  0.542753  0.499356  0.777790  2.494596           0.902289   \n",
       "6768  0.753024  0.457607  1.207157  1.791302           0.904279   \n",
       "2762  1.185964  0.529153  0.805712  0.813286           0.900561   \n",
       "...        ...       ...       ...       ...                ...   \n",
       "2940  2.853167  0.617747  0.000000  0.077534           0.636761   \n",
       "8684  3.837489  0.812513  0.057820  0.000000           0.591564   \n",
       "6234  3.880715  0.942849  0.000000  0.327033           0.611232   \n",
       "6675  0.353650  1.508633  0.736282  7.680819           0.735971   \n",
       "7835  0.000000  1.132608  2.056527  7.259961           0.743030   \n",
       "\n",
       "      Cosine Distance  Euclidean Distance  \n",
       "31       1.192093e-07            0.000000  \n",
       "3624     6.879771e-02            4.343259  \n",
       "6504     9.771097e-02            5.118326  \n",
       "6768     9.572065e-02            5.222666  \n",
       "2762     9.943902e-02            5.238991  \n",
       "...               ...                 ...  \n",
       "2940     3.632390e-01           19.380055  \n",
       "8684     4.084355e-01           19.585514  \n",
       "6234     3.887677e-01           19.937649  \n",
       "6675     2.640291e-01           20.303639  \n",
       "7835     2.569702e-01           20.660879  \n",
       "\n",
       "[10000 rows x 133 columns]"
      ]
     },
     "execution_count": 32,
     "metadata": {},
     "output_type": "execute_result"
    }
   ],
   "source": [
    "final_encoded_test_data_df['Euclidean Distance'] = euclidean_distance\n",
    "final_encoded_test_data_df.sort_values(by = ['Euclidean Distance'])"
   ]
  },
  {
   "cell_type": "code",
   "execution_count": 33,
   "metadata": {
    "scrolled": true
   },
   "outputs": [
    {
     "data": {
      "image/png": "[encoded data removed]",
      "text/plain": [
       "<Figure size 144x144 with 1 Axes>"
      ]
     },
     "metadata": {
      "needs_background": "light"
     },
     "output_type": "display_data"
    },
    {
     "data": {
      "image/png": "[encoded data removed]",
      "text/plain": [
       "<Figure size 144x144 with 1 Axes>"
      ]
     },
     "metadata": {
      "needs_background": "light"
     },
     "output_type": "display_data"
    },
    {
     "data": {
      "image/png": "[encoded data removed]",
      "text/plain": [
       "<Figure size 144x144 with 1 Axes>"
      ]
     },
     "metadata": {
      "needs_background": "light"
     },
     "output_type": "display_data"
    },
    {
     "data": {
      "image/png": "[encoded data removed]",
      "text/plain": [
       "<Figure size 144x144 with 1 Axes>"
      ]
     },
     "metadata": {
      "needs_background": "light"
     },
     "output_type": "display_data"
    },
    {
     "data": {
      "image/png": "[encoded data removed]",
      "text/plain": [
       "<Figure size 144x144 with 1 Axes>"
      ]
     },
     "metadata": {
      "needs_background": "light"
     },
     "output_type": "display_data"
    },
    {
     "data": {
      "image/png": "[encoded data removed]",
      "text/plain": [
       "<Figure size 144x144 with 1 Axes>"
      ]
     },
     "metadata": {
      "needs_background": "light"
     },
     "output_type": "display_data"
    },
    {
     "data": {
      "image/png": "[encoded data removed]",
      "text/plain": [
       "<Figure size 144x144 with 1 Axes>"
      ]
     },
     "metadata": {
      "needs_background": "light"
     },
     "output_type": "display_data"
    },
    {
     "data": {
      "image/png": "[encoded data removed]",
      "text/plain": [
       "<Figure size 144x144 with 1 Axes>"
      ]
     },
     "metadata": {
      "needs_background": "light"
     },
     "output_type": "display_data"
    },
    {
     "data": {
      "image/png": "[encoded data removed]",
      "text/plain": [
       "<Figure size 144x144 with 1 Axes>"
      ]
     },
     "metadata": {
      "needs_background": "light"
     },
     "output_type": "display_data"
    },
    {
     "data": {
      "image/png": "[encoded data removed]",
      "text/plain": [
       "<Figure size 144x144 with 1 Axes>"
      ]
     },
     "metadata": {
      "needs_background": "light"
     },
     "output_type": "display_data"
    }
   ],
   "source": [
    "euclidean_index = final_encoded_test_data_df.sort_values(by = ['Euclidean Distance']).head(10).index\n",
    "\n",
    "for i in euclidean_index:\n",
    "    plt.figure(figsize = (2, 2))\n",
    "    plt.imshow(x_test[i].reshape(32, 32, 3))\n",
    "    plt.xlabel(final_encoded_test_data_df['Class Name'][i] + ' with an Euclidean Distance of ' + str(final_encoded_test_data_df['Euclidean Distance'][i]) + ' from the queried image.')\n",
    "    plt.show()"
   ]
  },
  {
   "cell_type": "code",
   "execution_count": null,
   "metadata": {},
   "outputs": [],
   "source": []
  }
 ],
 "metadata": {
  "kernelspec": {
   "display_name": "Python 3",
   "language": "python",
   "name": "python3"
  },
  "language_info": {
   "codemirror_mode": {
    "name": "ipython",
    "version": 3
   },
   "file_extension": ".py",
   "mimetype": "text/x-python",
   "name": "python",
   "nbconvert_exporter": "python",
   "pygments_lexer": "ipython3",
   "version": "3.6.9"
  }
 },
 "nbformat": 4,
 "nbformat_minor": 2
}
