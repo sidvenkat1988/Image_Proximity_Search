{
 "cells": [
  {
   "cell_type": "code",
   "execution_count": 2,
   "metadata": {},
   "outputs": [],
   "source": [
    "from keras.layers import Input, Dense, Conv2D, MaxPooling2D, UpSampling2D\n",
    "from keras.models import Model\n",
    "\n",
    "import numpy as np\n",
    "import pandas as pd\n",
    "import matplotlib.pyplot as plt\n",
    "%matplotlib inline"
   ]
  },
  {
   "cell_type": "code",
   "execution_count": 3,
   "metadata": {},
   "outputs": [
    {
     "name": "stdout",
     "output_type": "stream",
     "text": [
      "(50000, 3074)\n",
      "(10000, 3074)\n"
     ]
    }
   ],
   "source": [
    "datadir = '/Users/sidv88/Documents/Data_Management_2/Data/'\n",
    "train_data = pd.read_csv(datadir + 'train_rgb.csv')\n",
    "test_data = pd.read_csv(datadir + 'test_rgb.csv')\n",
    "print(train_data.shape)\n",
    "print(test_data.shape)"
   ]
  },
  {
   "cell_type": "code",
   "execution_count": 4,
   "metadata": {},
   "outputs": [
    {
     "data": {
      "text/html": [
       "<div>\n",
       "<style scoped>\n",
       "    .dataframe tbody tr th:only-of-type {\n",
       "        vertical-align: middle;\n",
       "    }\n",
       "\n",
       "    .dataframe tbody tr th {\n",
       "        vertical-align: top;\n",
       "    }\n",
       "\n",
       "    .dataframe thead th {\n",
       "        text-align: right;\n",
       "    }\n",
       "</style>\n",
       "<table border=\"1\" class=\"dataframe\">\n",
       "  <thead>\n",
       "    <tr style=\"text-align: right;\">\n",
       "      <th></th>\n",
       "      <th>Class</th>\n",
       "      <th>Class Name</th>\n",
       "      <th>0</th>\n",
       "      <th>1</th>\n",
       "      <th>2</th>\n",
       "      <th>3</th>\n",
       "      <th>4</th>\n",
       "      <th>5</th>\n",
       "      <th>6</th>\n",
       "      <th>7</th>\n",
       "      <th>...</th>\n",
       "      <th>3062</th>\n",
       "      <th>3063</th>\n",
       "      <th>3064</th>\n",
       "      <th>3065</th>\n",
       "      <th>3066</th>\n",
       "      <th>3067</th>\n",
       "      <th>3068</th>\n",
       "      <th>3069</th>\n",
       "      <th>3070</th>\n",
       "      <th>3071</th>\n",
       "    </tr>\n",
       "  </thead>\n",
       "  <tbody>\n",
       "    <tr>\n",
       "      <th>0</th>\n",
       "      <td>6</td>\n",
       "      <td>frog</td>\n",
       "      <td>59</td>\n",
       "      <td>62</td>\n",
       "      <td>63</td>\n",
       "      <td>43</td>\n",
       "      <td>46</td>\n",
       "      <td>45</td>\n",
       "      <td>50</td>\n",
       "      <td>48</td>\n",
       "      <td>...</td>\n",
       "      <td>104</td>\n",
       "      <td>216</td>\n",
       "      <td>184</td>\n",
       "      <td>140</td>\n",
       "      <td>151</td>\n",
       "      <td>118</td>\n",
       "      <td>84</td>\n",
       "      <td>123</td>\n",
       "      <td>92</td>\n",
       "      <td>72</td>\n",
       "    </tr>\n",
       "    <tr>\n",
       "      <th>1</th>\n",
       "      <td>9</td>\n",
       "      <td>truck</td>\n",
       "      <td>154</td>\n",
       "      <td>177</td>\n",
       "      <td>187</td>\n",
       "      <td>126</td>\n",
       "      <td>137</td>\n",
       "      <td>136</td>\n",
       "      <td>105</td>\n",
       "      <td>104</td>\n",
       "      <td>...</td>\n",
       "      <td>136</td>\n",
       "      <td>143</td>\n",
       "      <td>133</td>\n",
       "      <td>139</td>\n",
       "      <td>143</td>\n",
       "      <td>134</td>\n",
       "      <td>142</td>\n",
       "      <td>143</td>\n",
       "      <td>133</td>\n",
       "      <td>144</td>\n",
       "    </tr>\n",
       "    <tr>\n",
       "      <th>2</th>\n",
       "      <td>9</td>\n",
       "      <td>truck</td>\n",
       "      <td>255</td>\n",
       "      <td>255</td>\n",
       "      <td>255</td>\n",
       "      <td>253</td>\n",
       "      <td>253</td>\n",
       "      <td>253</td>\n",
       "      <td>253</td>\n",
       "      <td>253</td>\n",
       "      <td>...</td>\n",
       "      <td>79</td>\n",
       "      <td>78</td>\n",
       "      <td>85</td>\n",
       "      <td>83</td>\n",
       "      <td>79</td>\n",
       "      <td>85</td>\n",
       "      <td>83</td>\n",
       "      <td>80</td>\n",
       "      <td>86</td>\n",
       "      <td>84</td>\n",
       "    </tr>\n",
       "    <tr>\n",
       "      <th>3</th>\n",
       "      <td>4</td>\n",
       "      <td>deer</td>\n",
       "      <td>28</td>\n",
       "      <td>25</td>\n",
       "      <td>10</td>\n",
       "      <td>37</td>\n",
       "      <td>34</td>\n",
       "      <td>19</td>\n",
       "      <td>38</td>\n",
       "      <td>35</td>\n",
       "      <td>...</td>\n",
       "      <td>38</td>\n",
       "      <td>54</td>\n",
       "      <td>47</td>\n",
       "      <td>28</td>\n",
       "      <td>63</td>\n",
       "      <td>56</td>\n",
       "      <td>37</td>\n",
       "      <td>72</td>\n",
       "      <td>65</td>\n",
       "      <td>46</td>\n",
       "    </tr>\n",
       "    <tr>\n",
       "      <th>4</th>\n",
       "      <td>1</td>\n",
       "      <td>automobile</td>\n",
       "      <td>170</td>\n",
       "      <td>180</td>\n",
       "      <td>198</td>\n",
       "      <td>168</td>\n",
       "      <td>178</td>\n",
       "      <td>196</td>\n",
       "      <td>177</td>\n",
       "      <td>185</td>\n",
       "      <td>...</td>\n",
       "      <td>78</td>\n",
       "      <td>75</td>\n",
       "      <td>79</td>\n",
       "      <td>82</td>\n",
       "      <td>71</td>\n",
       "      <td>75</td>\n",
       "      <td>78</td>\n",
       "      <td>73</td>\n",
       "      <td>77</td>\n",
       "      <td>80</td>\n",
       "    </tr>\n",
       "  </tbody>\n",
       "</table>\n",
       "<p>5 rows × 3074 columns</p>\n",
       "</div>"
      ],
      "text/plain": [
       "   Class  Class Name    0    1    2    3    4    5    6    7  ...  3062  3063  \\\n",
       "0      6        frog   59   62   63   43   46   45   50   48  ...   104   216   \n",
       "1      9       truck  154  177  187  126  137  136  105  104  ...   136   143   \n",
       "2      9       truck  255  255  255  253  253  253  253  253  ...    79    78   \n",
       "3      4        deer   28   25   10   37   34   19   38   35  ...    38    54   \n",
       "4      1  automobile  170  180  198  168  178  196  177  185  ...    78    75   \n",
       "\n",
       "   3064  3065  3066  3067  3068  3069  3070  3071  \n",
       "0   184   140   151   118    84   123    92    72  \n",
       "1   133   139   143   134   142   143   133   144  \n",
       "2    85    83    79    85    83    80    86    84  \n",
       "3    47    28    63    56    37    72    65    46  \n",
       "4    79    82    71    75    78    73    77    80  \n",
       "\n",
       "[5 rows x 3074 columns]"
      ]
     },
     "execution_count": 4,
     "metadata": {},
     "output_type": "execute_result"
    }
   ],
   "source": [
    "train_data.head()"
   ]
  },
  {
   "cell_type": "code",
   "execution_count": 5,
   "metadata": {},
   "outputs": [
    {
     "data": {
      "text/html": [
       "<div>\n",
       "<style scoped>\n",
       "    .dataframe tbody tr th:only-of-type {\n",
       "        vertical-align: middle;\n",
       "    }\n",
       "\n",
       "    .dataframe tbody tr th {\n",
       "        vertical-align: top;\n",
       "    }\n",
       "\n",
       "    .dataframe thead th {\n",
       "        text-align: right;\n",
       "    }\n",
       "</style>\n",
       "<table border=\"1\" class=\"dataframe\">\n",
       "  <thead>\n",
       "    <tr style=\"text-align: right;\">\n",
       "      <th></th>\n",
       "      <th>Class</th>\n",
       "      <th>Class Name</th>\n",
       "      <th>0</th>\n",
       "      <th>1</th>\n",
       "      <th>2</th>\n",
       "      <th>3</th>\n",
       "      <th>4</th>\n",
       "      <th>5</th>\n",
       "      <th>6</th>\n",
       "      <th>7</th>\n",
       "      <th>...</th>\n",
       "      <th>3062</th>\n",
       "      <th>3063</th>\n",
       "      <th>3064</th>\n",
       "      <th>3065</th>\n",
       "      <th>3066</th>\n",
       "      <th>3067</th>\n",
       "      <th>3068</th>\n",
       "      <th>3069</th>\n",
       "      <th>3070</th>\n",
       "      <th>3071</th>\n",
       "    </tr>\n",
       "  </thead>\n",
       "  <tbody>\n",
       "    <tr>\n",
       "      <th>0</th>\n",
       "      <td>3</td>\n",
       "      <td>cat</td>\n",
       "      <td>158</td>\n",
       "      <td>112</td>\n",
       "      <td>49</td>\n",
       "      <td>159</td>\n",
       "      <td>111</td>\n",
       "      <td>47</td>\n",
       "      <td>165</td>\n",
       "      <td>116</td>\n",
       "      <td>...</td>\n",
       "      <td>145</td>\n",
       "      <td>24</td>\n",
       "      <td>77</td>\n",
       "      <td>124</td>\n",
       "      <td>34</td>\n",
       "      <td>84</td>\n",
       "      <td>129</td>\n",
       "      <td>21</td>\n",
       "      <td>67</td>\n",
       "      <td>110</td>\n",
       "    </tr>\n",
       "    <tr>\n",
       "      <th>1</th>\n",
       "      <td>8</td>\n",
       "      <td>ship</td>\n",
       "      <td>235</td>\n",
       "      <td>235</td>\n",
       "      <td>235</td>\n",
       "      <td>231</td>\n",
       "      <td>231</td>\n",
       "      <td>231</td>\n",
       "      <td>232</td>\n",
       "      <td>232</td>\n",
       "      <td>...</td>\n",
       "      <td>163</td>\n",
       "      <td>168</td>\n",
       "      <td>183</td>\n",
       "      <td>178</td>\n",
       "      <td>180</td>\n",
       "      <td>195</td>\n",
       "      <td>191</td>\n",
       "      <td>186</td>\n",
       "      <td>200</td>\n",
       "      <td>199</td>\n",
       "    </tr>\n",
       "    <tr>\n",
       "      <th>2</th>\n",
       "      <td>8</td>\n",
       "      <td>ship</td>\n",
       "      <td>158</td>\n",
       "      <td>190</td>\n",
       "      <td>222</td>\n",
       "      <td>158</td>\n",
       "      <td>187</td>\n",
       "      <td>218</td>\n",
       "      <td>139</td>\n",
       "      <td>166</td>\n",
       "      <td>...</td>\n",
       "      <td>37</td>\n",
       "      <td>5</td>\n",
       "      <td>6</td>\n",
       "      <td>8</td>\n",
       "      <td>4</td>\n",
       "      <td>5</td>\n",
       "      <td>3</td>\n",
       "      <td>7</td>\n",
       "      <td>8</td>\n",
       "      <td>7</td>\n",
       "    </tr>\n",
       "    <tr>\n",
       "      <th>3</th>\n",
       "      <td>0</td>\n",
       "      <td>airplane</td>\n",
       "      <td>155</td>\n",
       "      <td>156</td>\n",
       "      <td>149</td>\n",
       "      <td>167</td>\n",
       "      <td>176</td>\n",
       "      <td>187</td>\n",
       "      <td>176</td>\n",
       "      <td>179</td>\n",
       "      <td>...</td>\n",
       "      <td>53</td>\n",
       "      <td>60</td>\n",
       "      <td>63</td>\n",
       "      <td>50</td>\n",
       "      <td>64</td>\n",
       "      <td>65</td>\n",
       "      <td>52</td>\n",
       "      <td>73</td>\n",
       "      <td>68</td>\n",
       "      <td>50</td>\n",
       "    </tr>\n",
       "    <tr>\n",
       "      <th>4</th>\n",
       "      <td>6</td>\n",
       "      <td>frog</td>\n",
       "      <td>65</td>\n",
       "      <td>68</td>\n",
       "      <td>50</td>\n",
       "      <td>70</td>\n",
       "      <td>81</td>\n",
       "      <td>64</td>\n",
       "      <td>48</td>\n",
       "      <td>64</td>\n",
       "      <td>...</td>\n",
       "      <td>147</td>\n",
       "      <td>143</td>\n",
       "      <td>179</td>\n",
       "      <td>136</td>\n",
       "      <td>154</td>\n",
       "      <td>185</td>\n",
       "      <td>146</td>\n",
       "      <td>128</td>\n",
       "      <td>156</td>\n",
       "      <td>117</td>\n",
       "    </tr>\n",
       "  </tbody>\n",
       "</table>\n",
       "<p>5 rows × 3074 columns</p>\n",
       "</div>"
      ],
      "text/plain": [
       "   Class Class Name    0    1    2    3    4    5    6    7  ...  3062  3063  \\\n",
       "0      3        cat  158  112   49  159  111   47  165  116  ...   145    24   \n",
       "1      8       ship  235  235  235  231  231  231  232  232  ...   163   168   \n",
       "2      8       ship  158  190  222  158  187  218  139  166  ...    37     5   \n",
       "3      0   airplane  155  156  149  167  176  187  176  179  ...    53    60   \n",
       "4      6       frog   65   68   50   70   81   64   48   64  ...   147   143   \n",
       "\n",
       "   3064  3065  3066  3067  3068  3069  3070  3071  \n",
       "0    77   124    34    84   129    21    67   110  \n",
       "1   183   178   180   195   191   186   200   199  \n",
       "2     6     8     4     5     3     7     8     7  \n",
       "3    63    50    64    65    52    73    68    50  \n",
       "4   179   136   154   185   146   128   156   117  \n",
       "\n",
       "[5 rows x 3074 columns]"
      ]
     },
     "execution_count": 5,
     "metadata": {},
     "output_type": "execute_result"
    }
   ],
   "source": [
    "test_data.head()"
   ]
  },
  {
   "cell_type": "code",
   "execution_count": 6,
   "metadata": {},
   "outputs": [
    {
     "name": "stdout",
     "output_type": "stream",
     "text": [
      "(50000, 3072)\n",
      "(50000, 2)\n"
     ]
    }
   ],
   "source": [
    "x_train = train_data.iloc[:, 2:]\n",
    "print(x_train.shape)\n",
    "y_train = train_data.iloc[:, [0, 1]]\n",
    "print(y_train.shape)"
   ]
  },
  {
   "cell_type": "code",
   "execution_count": 7,
   "metadata": {},
   "outputs": [
    {
     "name": "stdout",
     "output_type": "stream",
     "text": [
      "(10000, 3072)\n",
      "(10000, 2)\n"
     ]
    }
   ],
   "source": [
    "x_test = test_data.iloc[:, 2:]\n",
    "print(x_test.shape)\n",
    "y_test = test_data.iloc[:, [0, 1]]\n",
    "print(y_test.shape)"
   ]
  },
  {
   "cell_type": "code",
   "execution_count": 8,
   "metadata": {},
   "outputs": [],
   "source": [
    "x_train = np.array(x_train)\n",
    "x_test = np.array(x_test)"
   ]
  },
  {
   "cell_type": "code",
   "execution_count": 9,
   "metadata": {},
   "outputs": [
    {
     "name": "stdout",
     "output_type": "stream",
     "text": [
      "(50000, 3072)\n",
      "(10000, 3072)\n"
     ]
    }
   ],
   "source": [
    "print(x_train.shape)\n",
    "print(x_test.shape)"
   ]
  },
  {
   "cell_type": "code",
   "execution_count": 10,
   "metadata": {},
   "outputs": [
    {
     "name": "stdout",
     "output_type": "stream",
     "text": [
      "(50000, 32, 32, 3)\n",
      "(10000, 32, 32, 3)\n"
     ]
    }
   ],
   "source": [
    "x_train = x_train.reshape(len(x_train), 32, 32, 3)\n",
    "x_test = x_test.reshape(len(x_test), 32, 32, 3)\n",
    "print(x_train.shape)\n",
    "print(x_test.shape)"
   ]
  },
  {
   "cell_type": "code",
   "execution_count": 11,
   "metadata": {},
   "outputs": [
    {
     "name": "stdout",
     "output_type": "stream",
     "text": [
      "(50000, 32, 32, 3)\n",
      "(10000, 32, 32, 3)\n"
     ]
    }
   ],
   "source": [
    "x_train = x_train.astype('float32')/255\n",
    "x_test = x_test.astype('float32')/255\n",
    "print(x_train.shape)\n",
    "print(x_test.shape)"
   ]
  },
  {
   "cell_type": "code",
   "execution_count": 12,
   "metadata": {},
   "outputs": [],
   "source": [
    "input_img = Input(shape = (32, 32, 3))\n",
    "\n",
    "\n",
    "encoded = Conv2D(16, (3, 3), activation = 'relu', padding = 'same')(input_img)\n",
    "encoded = MaxPooling2D((2, 2), padding = 'same')(encoded)\n",
    "encoded = Conv2D(8, (3, 3), activation = 'relu', padding = 'same')(encoded)\n",
    "encoded = MaxPooling2D((2, 2), padding = 'same')(encoded)\n",
    "encoded = Conv2D(8, (3, 3), activation = 'relu', padding = 'same')(encoded)\n",
    "encoded = MaxPooling2D((2, 2), padding = 'same')(encoded)\n",
    "\n",
    "decoded = Conv2D(8, (3, 3), activation = 'relu', padding = 'same')(encoded)\n",
    "decoded = UpSampling2D((2, 2))(decoded)\n",
    "decoded = Conv2D(8, (3, 3), activation = 'relu', padding = 'same')(decoded)\n",
    "decoded = UpSampling2D((2, 2))(decoded)\n",
    "decoded = Conv2D(16, (3, 3), activation = 'relu', padding = 'same')(decoded)\n",
    "decoded = UpSampling2D((2, 2))(decoded)\n",
    "\n",
    "decoded = Conv2D(3, (3, 3), activation = 'sigmoid', padding = 'same')(decoded)"
   ]
  },
  {
   "cell_type": "code",
   "execution_count": 13,
   "metadata": {},
   "outputs": [],
   "source": [
    "autoencoder = Model(input_img, decoded)\n",
    "encoder = Model(input_img, encoded)"
   ]
  },
  {
   "cell_type": "code",
   "execution_count": 14,
   "metadata": {
    "scrolled": true
   },
   "outputs": [
    {
     "name": "stdout",
     "output_type": "stream",
     "text": [
      "Model: \"model_1\"\n",
      "_________________________________________________________________\n",
      "Layer (type)                 Output Shape              Param #   \n",
      "=================================================================\n",
      "input_1 (InputLayer)         (None, 32, 32, 3)         0         \n",
      "_________________________________________________________________\n",
      "conv2d_1 (Conv2D)            (None, 32, 32, 16)        448       \n",
      "_________________________________________________________________\n",
      "max_pooling2d_1 (MaxPooling2 (None, 16, 16, 16)        0         \n",
      "_________________________________________________________________\n",
      "conv2d_2 (Conv2D)            (None, 16, 16, 8)         1160      \n",
      "_________________________________________________________________\n",
      "max_pooling2d_2 (MaxPooling2 (None, 8, 8, 8)           0         \n",
      "_________________________________________________________________\n",
      "conv2d_3 (Conv2D)            (None, 8, 8, 8)           584       \n",
      "_________________________________________________________________\n",
      "max_pooling2d_3 (MaxPooling2 (None, 4, 4, 8)           0         \n",
      "_________________________________________________________________\n",
      "conv2d_4 (Conv2D)            (None, 4, 4, 8)           584       \n",
      "_________________________________________________________________\n",
      "up_sampling2d_1 (UpSampling2 (None, 8, 8, 8)           0         \n",
      "_________________________________________________________________\n",
      "conv2d_5 (Conv2D)            (None, 8, 8, 8)           584       \n",
      "_________________________________________________________________\n",
      "up_sampling2d_2 (UpSampling2 (None, 16, 16, 8)         0         \n",
      "_________________________________________________________________\n",
      "conv2d_6 (Conv2D)            (None, 16, 16, 16)        1168      \n",
      "_________________________________________________________________\n",
      "up_sampling2d_3 (UpSampling2 (None, 32, 32, 16)        0         \n",
      "_________________________________________________________________\n",
      "conv2d_7 (Conv2D)            (None, 32, 32, 3)         435       \n",
      "=================================================================\n",
      "Total params: 4,963\n",
      "Trainable params: 4,963\n",
      "Non-trainable params: 0\n",
      "_________________________________________________________________\n"
     ]
    }
   ],
   "source": [
    "autoencoder.summary()"
   ]
  },
  {
   "cell_type": "code",
   "execution_count": 15,
   "metadata": {
    "scrolled": true
   },
   "outputs": [
    {
     "name": "stdout",
     "output_type": "stream",
     "text": [
      "Model: \"model_2\"\n",
      "_________________________________________________________________\n",
      "Layer (type)                 Output Shape              Param #   \n",
      "=================================================================\n",
      "input_1 (InputLayer)         (None, 32, 32, 3)         0         \n",
      "_________________________________________________________________\n",
      "conv2d_1 (Conv2D)            (None, 32, 32, 16)        448       \n",
      "_________________________________________________________________\n",
      "max_pooling2d_1 (MaxPooling2 (None, 16, 16, 16)        0         \n",
      "_________________________________________________________________\n",
      "conv2d_2 (Conv2D)            (None, 16, 16, 8)         1160      \n",
      "_________________________________________________________________\n",
      "max_pooling2d_2 (MaxPooling2 (None, 8, 8, 8)           0         \n",
      "_________________________________________________________________\n",
      "conv2d_3 (Conv2D)            (None, 8, 8, 8)           584       \n",
      "_________________________________________________________________\n",
      "max_pooling2d_3 (MaxPooling2 (None, 4, 4, 8)           0         \n",
      "=================================================================\n",
      "Total params: 2,192\n",
      "Trainable params: 2,192\n",
      "Non-trainable params: 0\n",
      "_________________________________________________________________\n"
     ]
    }
   ],
   "source": [
    "encoder.summary()"
   ]
  },
  {
   "cell_type": "code",
   "execution_count": 16,
   "metadata": {
    "scrolled": true
   },
   "outputs": [
    {
     "name": "stdout",
     "output_type": "stream",
     "text": [
      "Train on 50000 samples, validate on 10000 samples\n",
      "Epoch 1/50\n",
      "50000/50000 [==============================] - 95s 2ms/step - loss: 0.6714 - accuracy: 0.0076 - val_loss: 0.6367 - val_accuracy: 0.0116\n",
      "Epoch 2/50\n",
      "50000/50000 [==============================] - 82s 2ms/step - loss: 0.6309 - accuracy: 0.0114 - val_loss: 0.6233 - val_accuracy: 0.0118\n",
      "Epoch 3/50\n",
      "50000/50000 [==============================] - 81s 2ms/step - loss: 0.6194 - accuracy: 0.0116 - val_loss: 0.6171 - val_accuracy: 0.0119\n",
      "Epoch 4/50\n",
      "50000/50000 [==============================] - 81s 2ms/step - loss: 0.6151 - accuracy: 0.0117 - val_loss: 0.6166 - val_accuracy: 0.0119\n",
      "Epoch 5/50\n",
      "50000/50000 [==============================] - 81s 2ms/step - loss: 0.6126 - accuracy: 0.0117 - val_loss: 0.6120 - val_accuracy: 0.0119\n",
      "Epoch 6/50\n",
      "50000/50000 [==============================] - 81s 2ms/step - loss: 0.6107 - accuracy: 0.0118 - val_loss: 0.6097 - val_accuracy: 0.0119\n",
      "Epoch 7/50\n",
      "50000/50000 [==============================] - 81s 2ms/step - loss: 0.6087 - accuracy: 0.0118 - val_loss: 0.6064 - val_accuracy: 0.0119\n",
      "Epoch 8/50\n",
      "50000/50000 [==============================] - 81s 2ms/step - loss: 0.6075 - accuracy: 0.0118 - val_loss: 0.6177 - val_accuracy: 0.0119\n",
      "Epoch 9/50\n",
      "50000/50000 [==============================] - 81s 2ms/step - loss: 0.6058 - accuracy: 0.0118 - val_loss: 0.6097 - val_accuracy: 0.0120\n",
      "Epoch 10/50\n",
      "50000/50000 [==============================] - 81s 2ms/step - loss: 0.6051 - accuracy: 0.0118 - val_loss: 0.6024 - val_accuracy: 0.0120\n",
      "Epoch 11/50\n",
      "50000/50000 [==============================] - 81s 2ms/step - loss: 0.6042 - accuracy: 0.0119 - val_loss: 0.6026 - val_accuracy: 0.0120\n",
      "Epoch 12/50\n",
      "50000/50000 [==============================] - 81s 2ms/step - loss: 0.6034 - accuracy: 0.0119 - val_loss: 0.6045 - val_accuracy: 0.0120\n",
      "Epoch 13/50\n",
      "50000/50000 [==============================] - 82s 2ms/step - loss: 0.6031 - accuracy: 0.0119 - val_loss: 0.6031 - val_accuracy: 0.0120\n",
      "Epoch 14/50\n",
      "50000/50000 [==============================] - 86s 2ms/step - loss: 0.6027 - accuracy: 0.0119 - val_loss: 0.6024 - val_accuracy: 0.0120\n",
      "Epoch 15/50\n",
      "50000/50000 [==============================] - 84s 2ms/step - loss: 0.6021 - accuracy: 0.0119 - val_loss: 0.6037 - val_accuracy: 0.0120\n",
      "Epoch 16/50\n",
      "50000/50000 [==============================] - 82s 2ms/step - loss: 0.6018 - accuracy: 0.0119 - val_loss: 0.5996 - val_accuracy: 0.0120\n",
      "Epoch 17/50\n",
      "50000/50000 [==============================] - 100s 2ms/step - loss: 0.6013 - accuracy: 0.0119 - val_loss: 0.6026 - val_accuracy: 0.0120\n",
      "Epoch 18/50\n",
      "50000/50000 [==============================] - 91s 2ms/step - loss: 0.6010 - accuracy: 0.0119 - val_loss: 0.6085 - val_accuracy: 0.0120\n",
      "Epoch 19/50\n",
      "50000/50000 [==============================] - 92s 2ms/step - loss: 0.6003 - accuracy: 0.0119 - val_loss: 0.6012 - val_accuracy: 0.0120\n",
      "Epoch 20/50\n",
      "50000/50000 [==============================] - 94s 2ms/step - loss: 0.6001 - accuracy: 0.0119 - val_loss: 0.5980 - val_accuracy: 0.0120\n",
      "Epoch 21/50\n",
      "50000/50000 [==============================] - 89s 2ms/step - loss: 0.5998 - accuracy: 0.0119 - val_loss: 0.6013 - val_accuracy: 0.0120\n",
      "Epoch 22/50\n",
      "50000/50000 [==============================] - 83s 2ms/step - loss: 0.5995 - accuracy: 0.0119 - val_loss: 0.6013 - val_accuracy: 0.0120\n",
      "Epoch 23/50\n",
      "50000/50000 [==============================] - 82s 2ms/step - loss: 0.5992 - accuracy: 0.0119 - val_loss: 0.6062 - val_accuracy: 0.0120\n",
      "Epoch 24/50\n",
      "50000/50000 [==============================] - 82s 2ms/step - loss: 0.5988 - accuracy: 0.0119 - val_loss: 0.5976 - val_accuracy: 0.0120\n",
      "Epoch 25/50\n",
      "50000/50000 [==============================] - 82s 2ms/step - loss: 0.5985 - accuracy: 0.0119 - val_loss: 0.5964 - val_accuracy: 0.0120\n",
      "Epoch 26/50\n",
      "50000/50000 [==============================] - 82s 2ms/step - loss: 0.5982 - accuracy: 0.0119 - val_loss: 0.6014 - val_accuracy: 0.0120\n",
      "Epoch 27/50\n",
      "50000/50000 [==============================] - 82s 2ms/step - loss: 0.5980 - accuracy: 0.0119 - val_loss: 0.5975 - val_accuracy: 0.0120\n",
      "Epoch 28/50\n",
      "50000/50000 [==============================] - 82s 2ms/step - loss: 0.5978 - accuracy: 0.0119 - val_loss: 0.6012 - val_accuracy: 0.0120\n",
      "Epoch 29/50\n",
      "50000/50000 [==============================] - 82s 2ms/step - loss: 0.5975 - accuracy: 0.0119 - val_loss: 0.5985 - val_accuracy: 0.0120\n",
      "Epoch 30/50\n",
      "50000/50000 [==============================] - 82s 2ms/step - loss: 0.5973 - accuracy: 0.0119 - val_loss: 0.5986 - val_accuracy: 0.0120\n",
      "Epoch 31/50\n",
      "50000/50000 [==============================] - 82s 2ms/step - loss: 0.5968 - accuracy: 0.0119 - val_loss: 0.5961 - val_accuracy: 0.0120\n",
      "Epoch 32/50\n",
      "50000/50000 [==============================] - 82s 2ms/step - loss: 0.5959 - accuracy: 0.0119 - val_loss: 0.5983 - val_accuracy: 0.0120\n",
      "Epoch 33/50\n",
      "50000/50000 [==============================] - 82s 2ms/step - loss: 0.5954 - accuracy: 0.0119 - val_loss: 0.5963 - val_accuracy: 0.0120\n",
      "Epoch 34/50\n",
      "50000/50000 [==============================] - 82s 2ms/step - loss: 0.5949 - accuracy: 0.0120 - val_loss: 0.5965 - val_accuracy: 0.0120\n",
      "Epoch 35/50\n",
      "50000/50000 [==============================] - 83s 2ms/step - loss: 0.5941 - accuracy: 0.0120 - val_loss: 0.5943 - val_accuracy: 0.0120\n",
      "Epoch 36/50\n",
      "50000/50000 [==============================] - 81s 2ms/step - loss: 0.5931 - accuracy: 0.0120 - val_loss: 0.5955 - val_accuracy: 0.0120\n",
      "Epoch 37/50\n",
      "50000/50000 [==============================] - 81s 2ms/step - loss: 0.5926 - accuracy: 0.0120 - val_loss: 0.5911 - val_accuracy: 0.0120\n",
      "Epoch 38/50\n",
      "50000/50000 [==============================] - 85s 2ms/step - loss: 0.5920 - accuracy: 0.0120 - val_loss: 0.5912 - val_accuracy: 0.0120\n",
      "Epoch 39/50\n",
      "50000/50000 [==============================] - 81s 2ms/step - loss: 0.5920 - accuracy: 0.0120 - val_loss: 0.5926 - val_accuracy: 0.0120\n",
      "Epoch 40/50\n",
      "50000/50000 [==============================] - 84s 2ms/step - loss: 0.5917 - accuracy: 0.0120 - val_loss: 0.5933 - val_accuracy: 0.0120\n",
      "Epoch 41/50\n",
      "50000/50000 [==============================] - 82s 2ms/step - loss: 0.5916 - accuracy: 0.0120 - val_loss: 0.5907 - val_accuracy: 0.0121\n",
      "Epoch 42/50\n",
      "50000/50000 [==============================] - 81s 2ms/step - loss: 0.5911 - accuracy: 0.0120 - val_loss: 0.5918 - val_accuracy: 0.0121\n",
      "Epoch 43/50\n",
      "50000/50000 [==============================] - 81s 2ms/step - loss: 0.5911 - accuracy: 0.0120 - val_loss: 0.5927 - val_accuracy: 0.0121\n",
      "Epoch 44/50\n",
      "50000/50000 [==============================] - 81s 2ms/step - loss: 0.5908 - accuracy: 0.0120 - val_loss: 0.5908 - val_accuracy: 0.0121\n",
      "Epoch 45/50\n",
      "50000/50000 [==============================] - 82s 2ms/step - loss: 0.5909 - accuracy: 0.0120 - val_loss: 0.5888 - val_accuracy: 0.0121\n",
      "Epoch 46/50\n",
      "50000/50000 [==============================] - 82s 2ms/step - loss: 0.5904 - accuracy: 0.0120 - val_loss: 0.5969 - val_accuracy: 0.0121\n",
      "Epoch 47/50\n",
      "50000/50000 [==============================] - 82s 2ms/step - loss: 0.5906 - accuracy: 0.0120 - val_loss: 0.5897 - val_accuracy: 0.0121\n",
      "Epoch 48/50\n",
      "50000/50000 [==============================] - 82s 2ms/step - loss: 0.5903 - accuracy: 0.0120 - val_loss: 0.5916 - val_accuracy: 0.0121\n",
      "Epoch 49/50\n",
      "50000/50000 [==============================] - 82s 2ms/step - loss: 0.5904 - accuracy: 0.0120 - val_loss: 0.5899 - val_accuracy: 0.0121\n",
      "Epoch 50/50\n",
      "50000/50000 [==============================] - 81s 2ms/step - loss: 0.5901 - accuracy: 0.0120 - val_loss: 0.5903 - val_accuracy: 0.0121\n"
     ]
    },
    {
     "data": {
      "text/plain": [
       "<keras.callbacks.callbacks.History at 0x141167c18>"
      ]
     },
     "execution_count": 16,
     "metadata": {},
     "output_type": "execute_result"
    }
   ],
   "source": [
    "autoencoder.compile(optimizer = 'adadelta', loss = 'binary_crossentropy', metrics = ['accuracy'])\n",
    "autoencoder.fit(x_train, x_train, epochs = 50, batch_size = 256, shuffle = True, validation_data = [x_test, x_test])"
   ]
  },
  {
   "cell_type": "code",
   "execution_count": 17,
   "metadata": {},
   "outputs": [],
   "source": [
    "encoded_test_data = encoder.predict(x_test)\n",
    "predicted_test_data = autoencoder.predict(x_test)"
   ]
  },
  {
   "cell_type": "code",
   "execution_count": 18,
   "metadata": {},
   "outputs": [
    {
     "data": {
      "text/plain": [
       "(10000, 4, 4, 8)"
      ]
     },
     "execution_count": 18,
     "metadata": {},
     "output_type": "execute_result"
    }
   ],
   "source": [
    "encoded_test_data.shape"
   ]
  },
  {
   "cell_type": "code",
   "execution_count": 19,
   "metadata": {},
   "outputs": [],
   "source": [
    "encoded_test_data = encoded_test_data.reshape(len(encoded_test_data), np.prod(encoded_test_data.shape[1:]))"
   ]
  },
  {
   "cell_type": "code",
   "execution_count": 20,
   "metadata": {},
   "outputs": [
    {
     "data": {
      "text/plain": [
       "(10000, 128)"
      ]
     },
     "execution_count": 20,
     "metadata": {},
     "output_type": "execute_result"
    }
   ],
   "source": [
    "encoded_test_data.shape"
   ]
  },
  {
   "cell_type": "code",
   "execution_count": 21,
   "metadata": {},
   "outputs": [
    {
     "data": {
      "text/html": [
       "<div>\n",
       "<style scoped>\n",
       "    .dataframe tbody tr th:only-of-type {\n",
       "        vertical-align: middle;\n",
       "    }\n",
       "\n",
       "    .dataframe tbody tr th {\n",
       "        vertical-align: top;\n",
       "    }\n",
       "\n",
       "    .dataframe thead th {\n",
       "        text-align: right;\n",
       "    }\n",
       "</style>\n",
       "<table border=\"1\" class=\"dataframe\">\n",
       "  <thead>\n",
       "    <tr style=\"text-align: right;\">\n",
       "      <th></th>\n",
       "      <th>Class</th>\n",
       "      <th>Class Name</th>\n",
       "    </tr>\n",
       "  </thead>\n",
       "  <tbody>\n",
       "    <tr>\n",
       "      <th>0</th>\n",
       "      <td>3</td>\n",
       "      <td>cat</td>\n",
       "    </tr>\n",
       "    <tr>\n",
       "      <th>1</th>\n",
       "      <td>8</td>\n",
       "      <td>ship</td>\n",
       "    </tr>\n",
       "    <tr>\n",
       "      <th>2</th>\n",
       "      <td>8</td>\n",
       "      <td>ship</td>\n",
       "    </tr>\n",
       "    <tr>\n",
       "      <th>3</th>\n",
       "      <td>0</td>\n",
       "      <td>airplane</td>\n",
       "    </tr>\n",
       "    <tr>\n",
       "      <th>4</th>\n",
       "      <td>6</td>\n",
       "      <td>frog</td>\n",
       "    </tr>\n",
       "    <tr>\n",
       "      <th>...</th>\n",
       "      <td>...</td>\n",
       "      <td>...</td>\n",
       "    </tr>\n",
       "    <tr>\n",
       "      <th>9995</th>\n",
       "      <td>8</td>\n",
       "      <td>ship</td>\n",
       "    </tr>\n",
       "    <tr>\n",
       "      <th>9996</th>\n",
       "      <td>3</td>\n",
       "      <td>cat</td>\n",
       "    </tr>\n",
       "    <tr>\n",
       "      <th>9997</th>\n",
       "      <td>5</td>\n",
       "      <td>dog</td>\n",
       "    </tr>\n",
       "    <tr>\n",
       "      <th>9998</th>\n",
       "      <td>1</td>\n",
       "      <td>automobile</td>\n",
       "    </tr>\n",
       "    <tr>\n",
       "      <th>9999</th>\n",
       "      <td>7</td>\n",
       "      <td>horse</td>\n",
       "    </tr>\n",
       "  </tbody>\n",
       "</table>\n",
       "<p>10000 rows × 2 columns</p>\n",
       "</div>"
      ],
      "text/plain": [
       "      Class  Class Name\n",
       "0         3         cat\n",
       "1         8        ship\n",
       "2         8        ship\n",
       "3         0    airplane\n",
       "4         6        frog\n",
       "...     ...         ...\n",
       "9995      8        ship\n",
       "9996      3         cat\n",
       "9997      5         dog\n",
       "9998      1  automobile\n",
       "9999      7       horse\n",
       "\n",
       "[10000 rows x 2 columns]"
      ]
     },
     "execution_count": 21,
     "metadata": {},
     "output_type": "execute_result"
    }
   ],
   "source": [
    "y_test"
   ]
  },
  {
   "cell_type": "code",
   "execution_count": 22,
   "metadata": {},
   "outputs": [
    {
     "data": {
      "text/plain": [
       "(10000, 130)"
      ]
     },
     "execution_count": 22,
     "metadata": {},
     "output_type": "execute_result"
    }
   ],
   "source": [
    "encoded_test_data_df = pd.DataFrame(encoded_test_data)\n",
    "final_encoded_test_data_df = pd.concat([y_test, encoded_test_data_df], axis = 1)\n",
    "final_encoded_test_data_df.shape"
   ]
  },
  {
   "cell_type": "code",
   "execution_count": 23,
   "metadata": {},
   "outputs": [],
   "source": [
    "datadir = '/Users/sidv88/Documents/Data_Management_2/Convolutional_Encoded_Data/'\n",
    "final_encoded_test_data_df.to_csv(datadir + 'Convolutional_Encoded_Test_RSADB.csv', index = False)"
   ]
  },
  {
   "cell_type": "code",
   "execution_count": 24,
   "metadata": {},
   "outputs": [
    {
     "name": "stdout",
     "output_type": "stream",
     "text": [
      "Enter one of these values ['cat' 'ship' 'airplane' 'frog' 'automobile' 'truck' 'dog' 'horse' 'deer'\n",
      " 'bird'] : frog\n"
     ]
    }
   ],
   "source": [
    "input_val = input(\"Enter one of these values {} : \".format(final_encoded_test_data_df['Class Name'].unique()))"
   ]
  },
  {
   "cell_type": "code",
   "execution_count": 25,
   "metadata": {},
   "outputs": [
    {
     "name": "stdout",
     "output_type": "stream",
     "text": [
      "Enter a number between 0 and 999 : 6\n"
     ]
    }
   ],
   "source": [
    "input_num = input(\"Enter a number between 0 and 999 : \")"
   ]
  },
  {
   "cell_type": "code",
   "execution_count": 26,
   "metadata": {},
   "outputs": [
    {
     "name": "stdout",
     "output_type": "stream",
     "text": [
      "10000\n",
      "10000\n"
     ]
    }
   ],
   "source": [
    "from numpy import dot\n",
    "from numpy.linalg import norm\n",
    "\n",
    "cosine_similarity = []\n",
    "cosine_distance = []\n",
    "\n",
    "for i in range(len(x_test)):\n",
    "    a = final_encoded_test_data_df.loc[final_encoded_test_data_df['Class Name'] == input_val].iloc[int(input_num), 2:]\n",
    "    b = final_encoded_test_data_df.iloc[i, 2:]\n",
    "    cos_sim = dot(a, b)/(norm(a) * norm(b))\n",
    "    cos_dist = 1 - cos_sim\n",
    "    cosine_similarity.append(cos_sim)\n",
    "    cosine_distance.append(cos_dist)\n",
    "print(len(cosine_similarity))\n",
    "print(len(cosine_distance))"
   ]
  },
  {
   "cell_type": "code",
   "execution_count": 27,
   "metadata": {},
   "outputs": [],
   "source": [
    "final_encoded_test_data_df['Cosine Similarity'] = cosine_similarity\n",
    "final_encoded_test_data_df['Cosine Distance'] = cosine_distance"
   ]
  },
  {
   "cell_type": "code",
   "execution_count": 28,
   "metadata": {},
   "outputs": [
    {
     "data": {
      "text/html": [
       "<div>\n",
       "<style scoped>\n",
       "    .dataframe tbody tr th:only-of-type {\n",
       "        vertical-align: middle;\n",
       "    }\n",
       "\n",
       "    .dataframe tbody tr th {\n",
       "        vertical-align: top;\n",
       "    }\n",
       "\n",
       "    .dataframe thead th {\n",
       "        text-align: right;\n",
       "    }\n",
       "</style>\n",
       "<table border=\"1\" class=\"dataframe\">\n",
       "  <thead>\n",
       "    <tr style=\"text-align: right;\">\n",
       "      <th></th>\n",
       "      <th>Class</th>\n",
       "      <th>Class Name</th>\n",
       "      <th>0</th>\n",
       "      <th>1</th>\n",
       "      <th>2</th>\n",
       "      <th>3</th>\n",
       "      <th>4</th>\n",
       "      <th>5</th>\n",
       "      <th>6</th>\n",
       "      <th>7</th>\n",
       "      <th>...</th>\n",
       "      <th>120</th>\n",
       "      <th>121</th>\n",
       "      <th>122</th>\n",
       "      <th>123</th>\n",
       "      <th>124</th>\n",
       "      <th>125</th>\n",
       "      <th>126</th>\n",
       "      <th>127</th>\n",
       "      <th>Cosine Similarity</th>\n",
       "      <th>Cosine Distance</th>\n",
       "    </tr>\n",
       "  </thead>\n",
       "  <tbody>\n",
       "    <tr>\n",
       "      <th>41</th>\n",
       "      <td>6</td>\n",
       "      <td>frog</td>\n",
       "      <td>0.000000</td>\n",
       "      <td>13.863720</td>\n",
       "      <td>0.802760</td>\n",
       "      <td>0.000000</td>\n",
       "      <td>0.000000</td>\n",
       "      <td>3.424074</td>\n",
       "      <td>0.846446</td>\n",
       "      <td>0.000000</td>\n",
       "      <td>...</td>\n",
       "      <td>0.774727</td>\n",
       "      <td>14.569914</td>\n",
       "      <td>2.901970</td>\n",
       "      <td>0.000000</td>\n",
       "      <td>5.029751</td>\n",
       "      <td>1.577814</td>\n",
       "      <td>4.518776</td>\n",
       "      <td>2.679219</td>\n",
       "      <td>1.000000</td>\n",
       "      <td>0.000000</td>\n",
       "    </tr>\n",
       "    <tr>\n",
       "      <th>8449</th>\n",
       "      <td>1</td>\n",
       "      <td>automobile</td>\n",
       "      <td>0.293035</td>\n",
       "      <td>16.431942</td>\n",
       "      <td>1.372857</td>\n",
       "      <td>0.000000</td>\n",
       "      <td>0.000000</td>\n",
       "      <td>3.644723</td>\n",
       "      <td>0.399363</td>\n",
       "      <td>0.000000</td>\n",
       "      <td>...</td>\n",
       "      <td>2.783938</td>\n",
       "      <td>21.222769</td>\n",
       "      <td>3.727011</td>\n",
       "      <td>0.000000</td>\n",
       "      <td>1.903015</td>\n",
       "      <td>1.460941</td>\n",
       "      <td>1.090454</td>\n",
       "      <td>1.684360</td>\n",
       "      <td>0.974936</td>\n",
       "      <td>0.025064</td>\n",
       "    </tr>\n",
       "    <tr>\n",
       "      <th>1071</th>\n",
       "      <td>6</td>\n",
       "      <td>frog</td>\n",
       "      <td>0.000000</td>\n",
       "      <td>13.552792</td>\n",
       "      <td>0.460694</td>\n",
       "      <td>0.000000</td>\n",
       "      <td>0.000000</td>\n",
       "      <td>3.523868</td>\n",
       "      <td>1.741151</td>\n",
       "      <td>0.370211</td>\n",
       "      <td>...</td>\n",
       "      <td>2.338729</td>\n",
       "      <td>10.798350</td>\n",
       "      <td>3.637937</td>\n",
       "      <td>0.000000</td>\n",
       "      <td>5.375542</td>\n",
       "      <td>0.000000</td>\n",
       "      <td>1.933684</td>\n",
       "      <td>3.021995</td>\n",
       "      <td>0.970522</td>\n",
       "      <td>0.029478</td>\n",
       "    </tr>\n",
       "    <tr>\n",
       "      <th>4047</th>\n",
       "      <td>4</td>\n",
       "      <td>deer</td>\n",
       "      <td>0.141074</td>\n",
       "      <td>12.120668</td>\n",
       "      <td>0.947726</td>\n",
       "      <td>0.000000</td>\n",
       "      <td>0.000000</td>\n",
       "      <td>3.260887</td>\n",
       "      <td>0.519937</td>\n",
       "      <td>0.000000</td>\n",
       "      <td>...</td>\n",
       "      <td>1.917259</td>\n",
       "      <td>13.865302</td>\n",
       "      <td>2.807106</td>\n",
       "      <td>0.000000</td>\n",
       "      <td>1.784269</td>\n",
       "      <td>2.379226</td>\n",
       "      <td>1.658577</td>\n",
       "      <td>0.940596</td>\n",
       "      <td>0.969055</td>\n",
       "      <td>0.030945</td>\n",
       "    </tr>\n",
       "    <tr>\n",
       "      <th>9246</th>\n",
       "      <td>3</td>\n",
       "      <td>cat</td>\n",
       "      <td>0.005800</td>\n",
       "      <td>17.989202</td>\n",
       "      <td>1.418539</td>\n",
       "      <td>0.000000</td>\n",
       "      <td>0.000000</td>\n",
       "      <td>4.373725</td>\n",
       "      <td>0.883776</td>\n",
       "      <td>0.000000</td>\n",
       "      <td>...</td>\n",
       "      <td>0.000000</td>\n",
       "      <td>19.656414</td>\n",
       "      <td>4.012126</td>\n",
       "      <td>0.000000</td>\n",
       "      <td>6.216360</td>\n",
       "      <td>3.566635</td>\n",
       "      <td>6.783691</td>\n",
       "      <td>5.591241</td>\n",
       "      <td>0.964376</td>\n",
       "      <td>0.035624</td>\n",
       "    </tr>\n",
       "    <tr>\n",
       "      <th>...</th>\n",
       "      <td>...</td>\n",
       "      <td>...</td>\n",
       "      <td>...</td>\n",
       "      <td>...</td>\n",
       "      <td>...</td>\n",
       "      <td>...</td>\n",
       "      <td>...</td>\n",
       "      <td>...</td>\n",
       "      <td>...</td>\n",
       "      <td>...</td>\n",
       "      <td>...</td>\n",
       "      <td>...</td>\n",
       "      <td>...</td>\n",
       "      <td>...</td>\n",
       "      <td>...</td>\n",
       "      <td>...</td>\n",
       "      <td>...</td>\n",
       "      <td>...</td>\n",
       "      <td>...</td>\n",
       "      <td>...</td>\n",
       "      <td>...</td>\n",
       "    </tr>\n",
       "    <tr>\n",
       "      <th>7196</th>\n",
       "      <td>0</td>\n",
       "      <td>airplane</td>\n",
       "      <td>0.000000</td>\n",
       "      <td>0.000000</td>\n",
       "      <td>0.000000</td>\n",
       "      <td>8.677698</td>\n",
       "      <td>1.712448</td>\n",
       "      <td>0.000000</td>\n",
       "      <td>0.000000</td>\n",
       "      <td>1.896799</td>\n",
       "      <td>...</td>\n",
       "      <td>1.915596</td>\n",
       "      <td>0.000000</td>\n",
       "      <td>0.000000</td>\n",
       "      <td>14.290994</td>\n",
       "      <td>0.000000</td>\n",
       "      <td>0.223378</td>\n",
       "      <td>0.000000</td>\n",
       "      <td>2.979144</td>\n",
       "      <td>0.045029</td>\n",
       "      <td>0.954971</td>\n",
       "    </tr>\n",
       "    <tr>\n",
       "      <th>8960</th>\n",
       "      <td>0</td>\n",
       "      <td>airplane</td>\n",
       "      <td>0.000000</td>\n",
       "      <td>0.000000</td>\n",
       "      <td>0.000000</td>\n",
       "      <td>12.969172</td>\n",
       "      <td>4.555241</td>\n",
       "      <td>0.000000</td>\n",
       "      <td>0.000000</td>\n",
       "      <td>1.278741</td>\n",
       "      <td>...</td>\n",
       "      <td>1.651322</td>\n",
       "      <td>0.000000</td>\n",
       "      <td>0.000000</td>\n",
       "      <td>17.709850</td>\n",
       "      <td>0.885022</td>\n",
       "      <td>0.000000</td>\n",
       "      <td>0.250143</td>\n",
       "      <td>1.258467</td>\n",
       "      <td>0.044416</td>\n",
       "      <td>0.955584</td>\n",
       "    </tr>\n",
       "    <tr>\n",
       "      <th>6970</th>\n",
       "      <td>0</td>\n",
       "      <td>airplane</td>\n",
       "      <td>0.000000</td>\n",
       "      <td>0.000000</td>\n",
       "      <td>0.000000</td>\n",
       "      <td>8.994217</td>\n",
       "      <td>3.346420</td>\n",
       "      <td>0.000000</td>\n",
       "      <td>0.000000</td>\n",
       "      <td>0.878223</td>\n",
       "      <td>...</td>\n",
       "      <td>1.218419</td>\n",
       "      <td>0.000000</td>\n",
       "      <td>0.000000</td>\n",
       "      <td>16.139420</td>\n",
       "      <td>0.377928</td>\n",
       "      <td>0.789741</td>\n",
       "      <td>0.417899</td>\n",
       "      <td>1.477848</td>\n",
       "      <td>0.043480</td>\n",
       "      <td>0.956520</td>\n",
       "    </tr>\n",
       "    <tr>\n",
       "      <th>447</th>\n",
       "      <td>0</td>\n",
       "      <td>airplane</td>\n",
       "      <td>0.000000</td>\n",
       "      <td>0.000000</td>\n",
       "      <td>0.000000</td>\n",
       "      <td>9.048850</td>\n",
       "      <td>1.931062</td>\n",
       "      <td>0.000000</td>\n",
       "      <td>0.000000</td>\n",
       "      <td>1.809662</td>\n",
       "      <td>...</td>\n",
       "      <td>1.899275</td>\n",
       "      <td>0.000000</td>\n",
       "      <td>0.000000</td>\n",
       "      <td>15.172041</td>\n",
       "      <td>0.000000</td>\n",
       "      <td>0.235569</td>\n",
       "      <td>0.000000</td>\n",
       "      <td>2.339184</td>\n",
       "      <td>0.040244</td>\n",
       "      <td>0.959756</td>\n",
       "    </tr>\n",
       "    <tr>\n",
       "      <th>3444</th>\n",
       "      <td>0</td>\n",
       "      <td>airplane</td>\n",
       "      <td>0.000000</td>\n",
       "      <td>0.000000</td>\n",
       "      <td>0.000000</td>\n",
       "      <td>16.125116</td>\n",
       "      <td>5.430145</td>\n",
       "      <td>0.000000</td>\n",
       "      <td>0.000000</td>\n",
       "      <td>1.353385</td>\n",
       "      <td>...</td>\n",
       "      <td>1.871541</td>\n",
       "      <td>0.000000</td>\n",
       "      <td>0.000000</td>\n",
       "      <td>22.398750</td>\n",
       "      <td>0.948037</td>\n",
       "      <td>0.224067</td>\n",
       "      <td>0.316319</td>\n",
       "      <td>1.360029</td>\n",
       "      <td>0.039886</td>\n",
       "      <td>0.960114</td>\n",
       "    </tr>\n",
       "  </tbody>\n",
       "</table>\n",
       "<p>10000 rows × 132 columns</p>\n",
       "</div>"
      ],
      "text/plain": [
       "      Class  Class Name         0          1         2          3         4  \\\n",
       "41        6        frog  0.000000  13.863720  0.802760   0.000000  0.000000   \n",
       "8449      1  automobile  0.293035  16.431942  1.372857   0.000000  0.000000   \n",
       "1071      6        frog  0.000000  13.552792  0.460694   0.000000  0.000000   \n",
       "4047      4        deer  0.141074  12.120668  0.947726   0.000000  0.000000   \n",
       "9246      3         cat  0.005800  17.989202  1.418539   0.000000  0.000000   \n",
       "...     ...         ...       ...        ...       ...        ...       ...   \n",
       "7196      0    airplane  0.000000   0.000000  0.000000   8.677698  1.712448   \n",
       "8960      0    airplane  0.000000   0.000000  0.000000  12.969172  4.555241   \n",
       "6970      0    airplane  0.000000   0.000000  0.000000   8.994217  3.346420   \n",
       "447       0    airplane  0.000000   0.000000  0.000000   9.048850  1.931062   \n",
       "3444      0    airplane  0.000000   0.000000  0.000000  16.125116  5.430145   \n",
       "\n",
       "             5         6         7  ...       120        121       122  \\\n",
       "41    3.424074  0.846446  0.000000  ...  0.774727  14.569914  2.901970   \n",
       "8449  3.644723  0.399363  0.000000  ...  2.783938  21.222769  3.727011   \n",
       "1071  3.523868  1.741151  0.370211  ...  2.338729  10.798350  3.637937   \n",
       "4047  3.260887  0.519937  0.000000  ...  1.917259  13.865302  2.807106   \n",
       "9246  4.373725  0.883776  0.000000  ...  0.000000  19.656414  4.012126   \n",
       "...        ...       ...       ...  ...       ...        ...       ...   \n",
       "7196  0.000000  0.000000  1.896799  ...  1.915596   0.000000  0.000000   \n",
       "8960  0.000000  0.000000  1.278741  ...  1.651322   0.000000  0.000000   \n",
       "6970  0.000000  0.000000  0.878223  ...  1.218419   0.000000  0.000000   \n",
       "447   0.000000  0.000000  1.809662  ...  1.899275   0.000000  0.000000   \n",
       "3444  0.000000  0.000000  1.353385  ...  1.871541   0.000000  0.000000   \n",
       "\n",
       "            123       124       125       126       127  Cosine Similarity  \\\n",
       "41     0.000000  5.029751  1.577814  4.518776  2.679219           1.000000   \n",
       "8449   0.000000  1.903015  1.460941  1.090454  1.684360           0.974936   \n",
       "1071   0.000000  5.375542  0.000000  1.933684  3.021995           0.970522   \n",
       "4047   0.000000  1.784269  2.379226  1.658577  0.940596           0.969055   \n",
       "9246   0.000000  6.216360  3.566635  6.783691  5.591241           0.964376   \n",
       "...         ...       ...       ...       ...       ...                ...   \n",
       "7196  14.290994  0.000000  0.223378  0.000000  2.979144           0.045029   \n",
       "8960  17.709850  0.885022  0.000000  0.250143  1.258467           0.044416   \n",
       "6970  16.139420  0.377928  0.789741  0.417899  1.477848           0.043480   \n",
       "447   15.172041  0.000000  0.235569  0.000000  2.339184           0.040244   \n",
       "3444  22.398750  0.948037  0.224067  0.316319  1.360029           0.039886   \n",
       "\n",
       "      Cosine Distance  \n",
       "41           0.000000  \n",
       "8449         0.025064  \n",
       "1071         0.029478  \n",
       "4047         0.030945  \n",
       "9246         0.035624  \n",
       "...               ...  \n",
       "7196         0.954971  \n",
       "8960         0.955584  \n",
       "6970         0.956520  \n",
       "447          0.959756  \n",
       "3444         0.960114  \n",
       "\n",
       "[10000 rows x 132 columns]"
      ]
     },
     "execution_count": 28,
     "metadata": {},
     "output_type": "execute_result"
    }
   ],
   "source": [
    "final_encoded_test_data_df.sort_values(by = ['Cosine Similarity'], ascending = False)"
   ]
  },
  {
   "cell_type": "code",
   "execution_count": 29,
   "metadata": {},
   "outputs": [],
   "source": [
    "cosine_index = final_encoded_test_data_df.sort_values(by = ['Cosine Similarity'], ascending = False).head(10).index"
   ]
  },
  {
   "cell_type": "code",
   "execution_count": 30,
   "metadata": {
    "scrolled": true
   },
   "outputs": [
    {
     "data": {
      "image/png": "[encoded data removed]",
      "text/plain": [
       "<Figure size 144x144 with 1 Axes>"
      ]
     },
     "metadata": {
      "needs_background": "light"
     },
     "output_type": "display_data"
    },
    {
     "data": {
      "image/png": "[encoded data removed]",
      "text/plain": [
       "<Figure size 144x144 with 1 Axes>"
      ]
     },
     "metadata": {
      "needs_background": "light"
     },
     "output_type": "display_data"
    },
    {
     "data": {
      "image/png": "[encoded data removed]",
      "text/plain": [
       "<Figure size 144x144 with 1 Axes>"
      ]
     },
     "metadata": {
      "needs_background": "light"
     },
     "output_type": "display_data"
    },
    {
     "data": {
      "image/png": "[encoded data removed]",
      "text/plain": [
       "<Figure size 144x144 with 1 Axes>"
      ]
     },
     "metadata": {
      "needs_background": "light"
     },
     "output_type": "display_data"
    },
    {
     "data": {
      "image/png": "[encoded data removed]",
      "text/plain": [
       "<Figure size 144x144 with 1 Axes>"
      ]
     },
     "metadata": {
      "needs_background": "light"
     },
     "output_type": "display_data"
    },
    {
     "data": {
      "image/png": "[encoded data removed]",
      "text/plain": [
       "<Figure size 144x144 with 1 Axes>"
      ]
     },
     "metadata": {
      "needs_background": "light"
     },
     "output_type": "display_data"
    },
    {
     "data": {
      "image/png": "[encoded data removed]",
      "text/plain": [
       "<Figure size 144x144 with 1 Axes>"
      ]
     },
     "metadata": {
      "needs_background": "light"
     },
     "output_type": "display_data"
    },
    {
     "data": {
      "image/png": "[encoded data removed]",
      "text/plain": [
       "<Figure size 144x144 with 1 Axes>"
      ]
     },
     "metadata": {
      "needs_background": "light"
     },
     "output_type": "display_data"
    },
    {
     "data": {
      "image/png": "[encoded data removed]",
      "text/plain": [
       "<Figure size 144x144 with 1 Axes>"
      ]
     },
     "metadata": {
      "needs_background": "light"
     },
     "output_type": "display_data"
    },
    {
     "data": {
      "image/png": "[encoded data removed]",
      "text/plain": [
       "<Figure size 144x144 with 1 Axes>"
      ]
     },
     "metadata": {
      "needs_background": "light"
     },
     "output_type": "display_data"
    }
   ],
   "source": [
    "for i in cosine_index:\n",
    "    plt.figure(figsize = (2, 2))\n",
    "    plt.imshow(x_test[i].reshape(32, 32, 3))\n",
    "    plt.xlabel(final_encoded_test_data_df['Class Name'][i] + ' with a Cosine Similarity of ' + str(final_encoded_test_data_df['Cosine Similarity'][i]) + ' from the queried image.')\n",
    "    plt.show()"
   ]
  },
  {
   "cell_type": "code",
   "execution_count": 31,
   "metadata": {},
   "outputs": [
    {
     "name": "stdout",
     "output_type": "stream",
     "text": [
      "10000\n"
     ]
    }
   ],
   "source": [
    "euclidean_distance = []\n",
    "\n",
    "for i in range(len(x_test)):\n",
    "    a = final_encoded_test_data_df.loc[final_encoded_test_data_df['Class Name'] == input_val].iloc[int(input_num), 2:]\n",
    "    b = final_encoded_test_data_df.iloc[i, 2:]\n",
    "    euc_dist = np.linalg.norm(a-b)\n",
    "    euclidean_distance.append(euc_dist)\n",
    "print(len(euclidean_distance))"
   ]
  },
  {
   "cell_type": "code",
   "execution_count": 32,
   "metadata": {},
   "outputs": [
    {
     "data": {
      "text/html": [
       "<div>\n",
       "<style scoped>\n",
       "    .dataframe tbody tr th:only-of-type {\n",
       "        vertical-align: middle;\n",
       "    }\n",
       "\n",
       "    .dataframe tbody tr th {\n",
       "        vertical-align: top;\n",
       "    }\n",
       "\n",
       "    .dataframe thead th {\n",
       "        text-align: right;\n",
       "    }\n",
       "</style>\n",
       "<table border=\"1\" class=\"dataframe\">\n",
       "  <thead>\n",
       "    <tr style=\"text-align: right;\">\n",
       "      <th></th>\n",
       "      <th>Class</th>\n",
       "      <th>Class Name</th>\n",
       "      <th>0</th>\n",
       "      <th>1</th>\n",
       "      <th>2</th>\n",
       "      <th>3</th>\n",
       "      <th>4</th>\n",
       "      <th>5</th>\n",
       "      <th>6</th>\n",
       "      <th>7</th>\n",
       "      <th>...</th>\n",
       "      <th>121</th>\n",
       "      <th>122</th>\n",
       "      <th>123</th>\n",
       "      <th>124</th>\n",
       "      <th>125</th>\n",
       "      <th>126</th>\n",
       "      <th>127</th>\n",
       "      <th>Cosine Similarity</th>\n",
       "      <th>Cosine Distance</th>\n",
       "      <th>Euclidean Distance</th>\n",
       "    </tr>\n",
       "  </thead>\n",
       "  <tbody>\n",
       "    <tr>\n",
       "      <th>41</th>\n",
       "      <td>6</td>\n",
       "      <td>frog</td>\n",
       "      <td>0.000000</td>\n",
       "      <td>13.863720</td>\n",
       "      <td>0.802760</td>\n",
       "      <td>0.000000</td>\n",
       "      <td>0.000000</td>\n",
       "      <td>3.424074</td>\n",
       "      <td>0.846446</td>\n",
       "      <td>0.000000</td>\n",
       "      <td>...</td>\n",
       "      <td>14.569914</td>\n",
       "      <td>2.901970</td>\n",
       "      <td>0.000000</td>\n",
       "      <td>5.029751</td>\n",
       "      <td>1.577814</td>\n",
       "      <td>4.518776</td>\n",
       "      <td>2.679219</td>\n",
       "      <td>1.000000</td>\n",
       "      <td>0.000000</td>\n",
       "      <td>0.000000</td>\n",
       "    </tr>\n",
       "    <tr>\n",
       "      <th>1071</th>\n",
       "      <td>6</td>\n",
       "      <td>frog</td>\n",
       "      <td>0.000000</td>\n",
       "      <td>13.552792</td>\n",
       "      <td>0.460694</td>\n",
       "      <td>0.000000</td>\n",
       "      <td>0.000000</td>\n",
       "      <td>3.523868</td>\n",
       "      <td>1.741151</td>\n",
       "      <td>0.370211</td>\n",
       "      <td>...</td>\n",
       "      <td>10.798350</td>\n",
       "      <td>3.637937</td>\n",
       "      <td>0.000000</td>\n",
       "      <td>5.375542</td>\n",
       "      <td>0.000000</td>\n",
       "      <td>1.933684</td>\n",
       "      <td>3.021995</td>\n",
       "      <td>0.970522</td>\n",
       "      <td>0.029478</td>\n",
       "      <td>13.626858</td>\n",
       "    </tr>\n",
       "    <tr>\n",
       "      <th>5193</th>\n",
       "      <td>4</td>\n",
       "      <td>deer</td>\n",
       "      <td>0.022678</td>\n",
       "      <td>11.788282</td>\n",
       "      <td>1.026890</td>\n",
       "      <td>0.000000</td>\n",
       "      <td>0.000000</td>\n",
       "      <td>2.651341</td>\n",
       "      <td>0.427548</td>\n",
       "      <td>0.000000</td>\n",
       "      <td>...</td>\n",
       "      <td>12.429004</td>\n",
       "      <td>2.808132</td>\n",
       "      <td>0.000000</td>\n",
       "      <td>3.650672</td>\n",
       "      <td>0.969824</td>\n",
       "      <td>1.135286</td>\n",
       "      <td>1.814344</td>\n",
       "      <td>0.962790</td>\n",
       "      <td>0.037210</td>\n",
       "      <td>15.205142</td>\n",
       "    </tr>\n",
       "    <tr>\n",
       "      <th>2772</th>\n",
       "      <td>6</td>\n",
       "      <td>frog</td>\n",
       "      <td>0.061131</td>\n",
       "      <td>9.035603</td>\n",
       "      <td>0.387884</td>\n",
       "      <td>0.000000</td>\n",
       "      <td>0.000000</td>\n",
       "      <td>2.475622</td>\n",
       "      <td>0.718493</td>\n",
       "      <td>0.000000</td>\n",
       "      <td>...</td>\n",
       "      <td>16.631159</td>\n",
       "      <td>2.664908</td>\n",
       "      <td>0.000000</td>\n",
       "      <td>0.370315</td>\n",
       "      <td>3.171424</td>\n",
       "      <td>1.440617</td>\n",
       "      <td>2.361546</td>\n",
       "      <td>0.959726</td>\n",
       "      <td>0.040274</td>\n",
       "      <td>15.804427</td>\n",
       "    </tr>\n",
       "    <tr>\n",
       "      <th>8416</th>\n",
       "      <td>6</td>\n",
       "      <td>frog</td>\n",
       "      <td>0.175346</td>\n",
       "      <td>13.798602</td>\n",
       "      <td>0.888369</td>\n",
       "      <td>0.000000</td>\n",
       "      <td>0.000000</td>\n",
       "      <td>3.453329</td>\n",
       "      <td>0.637449</td>\n",
       "      <td>0.000000</td>\n",
       "      <td>...</td>\n",
       "      <td>18.041349</td>\n",
       "      <td>2.825019</td>\n",
       "      <td>0.000000</td>\n",
       "      <td>0.000000</td>\n",
       "      <td>3.061740</td>\n",
       "      <td>1.680905</td>\n",
       "      <td>2.356491</td>\n",
       "      <td>0.961668</td>\n",
       "      <td>0.038332</td>\n",
       "      <td>15.847080</td>\n",
       "    </tr>\n",
       "    <tr>\n",
       "      <th>...</th>\n",
       "      <td>...</td>\n",
       "      <td>...</td>\n",
       "      <td>...</td>\n",
       "      <td>...</td>\n",
       "      <td>...</td>\n",
       "      <td>...</td>\n",
       "      <td>...</td>\n",
       "      <td>...</td>\n",
       "      <td>...</td>\n",
       "      <td>...</td>\n",
       "      <td>...</td>\n",
       "      <td>...</td>\n",
       "      <td>...</td>\n",
       "      <td>...</td>\n",
       "      <td>...</td>\n",
       "      <td>...</td>\n",
       "      <td>...</td>\n",
       "      <td>...</td>\n",
       "      <td>...</td>\n",
       "      <td>...</td>\n",
       "      <td>...</td>\n",
       "    </tr>\n",
       "    <tr>\n",
       "      <th>1078</th>\n",
       "      <td>0</td>\n",
       "      <td>airplane</td>\n",
       "      <td>0.000000</td>\n",
       "      <td>0.000000</td>\n",
       "      <td>0.000000</td>\n",
       "      <td>16.224756</td>\n",
       "      <td>5.392663</td>\n",
       "      <td>0.000000</td>\n",
       "      <td>0.000000</td>\n",
       "      <td>1.341671</td>\n",
       "      <td>...</td>\n",
       "      <td>0.000000</td>\n",
       "      <td>0.000000</td>\n",
       "      <td>21.571804</td>\n",
       "      <td>2.477021</td>\n",
       "      <td>0.165765</td>\n",
       "      <td>0.000000</td>\n",
       "      <td>2.289730</td>\n",
       "      <td>0.073283</td>\n",
       "      <td>0.926717</td>\n",
       "      <td>95.093272</td>\n",
       "    </tr>\n",
       "    <tr>\n",
       "      <th>3823</th>\n",
       "      <td>0</td>\n",
       "      <td>airplane</td>\n",
       "      <td>0.000000</td>\n",
       "      <td>0.000000</td>\n",
       "      <td>0.000000</td>\n",
       "      <td>16.152487</td>\n",
       "      <td>5.371860</td>\n",
       "      <td>0.000000</td>\n",
       "      <td>0.000000</td>\n",
       "      <td>1.332911</td>\n",
       "      <td>...</td>\n",
       "      <td>0.000000</td>\n",
       "      <td>0.000000</td>\n",
       "      <td>22.217569</td>\n",
       "      <td>3.149913</td>\n",
       "      <td>0.040619</td>\n",
       "      <td>0.699094</td>\n",
       "      <td>1.285229</td>\n",
       "      <td>0.067318</td>\n",
       "      <td>0.932682</td>\n",
       "      <td>95.299239</td>\n",
       "    </tr>\n",
       "    <tr>\n",
       "      <th>8903</th>\n",
       "      <td>0</td>\n",
       "      <td>airplane</td>\n",
       "      <td>0.000000</td>\n",
       "      <td>0.000000</td>\n",
       "      <td>0.000000</td>\n",
       "      <td>16.209860</td>\n",
       "      <td>5.390234</td>\n",
       "      <td>0.000000</td>\n",
       "      <td>0.000000</td>\n",
       "      <td>1.340758</td>\n",
       "      <td>...</td>\n",
       "      <td>0.000000</td>\n",
       "      <td>0.000000</td>\n",
       "      <td>22.091120</td>\n",
       "      <td>2.786050</td>\n",
       "      <td>0.065830</td>\n",
       "      <td>0.311560</td>\n",
       "      <td>1.486320</td>\n",
       "      <td>0.056793</td>\n",
       "      <td>0.943207</td>\n",
       "      <td>95.430659</td>\n",
       "    </tr>\n",
       "    <tr>\n",
       "      <th>7803</th>\n",
       "      <td>0</td>\n",
       "      <td>airplane</td>\n",
       "      <td>0.000000</td>\n",
       "      <td>0.000000</td>\n",
       "      <td>0.000000</td>\n",
       "      <td>16.155567</td>\n",
       "      <td>5.380467</td>\n",
       "      <td>0.000000</td>\n",
       "      <td>0.000000</td>\n",
       "      <td>1.330074</td>\n",
       "      <td>...</td>\n",
       "      <td>0.000000</td>\n",
       "      <td>0.552971</td>\n",
       "      <td>20.609818</td>\n",
       "      <td>3.246747</td>\n",
       "      <td>0.710761</td>\n",
       "      <td>1.309961</td>\n",
       "      <td>2.029190</td>\n",
       "      <td>0.063431</td>\n",
       "      <td>0.936569</td>\n",
       "      <td>97.668996</td>\n",
       "    </tr>\n",
       "    <tr>\n",
       "      <th>3444</th>\n",
       "      <td>0</td>\n",
       "      <td>airplane</td>\n",
       "      <td>0.000000</td>\n",
       "      <td>0.000000</td>\n",
       "      <td>0.000000</td>\n",
       "      <td>16.125116</td>\n",
       "      <td>5.430145</td>\n",
       "      <td>0.000000</td>\n",
       "      <td>0.000000</td>\n",
       "      <td>1.353385</td>\n",
       "      <td>...</td>\n",
       "      <td>0.000000</td>\n",
       "      <td>0.000000</td>\n",
       "      <td>22.398750</td>\n",
       "      <td>0.948037</td>\n",
       "      <td>0.224067</td>\n",
       "      <td>0.316319</td>\n",
       "      <td>1.360029</td>\n",
       "      <td>0.039886</td>\n",
       "      <td>0.960114</td>\n",
       "      <td>98.803698</td>\n",
       "    </tr>\n",
       "  </tbody>\n",
       "</table>\n",
       "<p>10000 rows × 133 columns</p>\n",
       "</div>"
      ],
      "text/plain": [
       "      Class Class Name         0          1         2          3         4  \\\n",
       "41        6       frog  0.000000  13.863720  0.802760   0.000000  0.000000   \n",
       "1071      6       frog  0.000000  13.552792  0.460694   0.000000  0.000000   \n",
       "5193      4       deer  0.022678  11.788282  1.026890   0.000000  0.000000   \n",
       "2772      6       frog  0.061131   9.035603  0.387884   0.000000  0.000000   \n",
       "8416      6       frog  0.175346  13.798602  0.888369   0.000000  0.000000   \n",
       "...     ...        ...       ...        ...       ...        ...       ...   \n",
       "1078      0   airplane  0.000000   0.000000  0.000000  16.224756  5.392663   \n",
       "3823      0   airplane  0.000000   0.000000  0.000000  16.152487  5.371860   \n",
       "8903      0   airplane  0.000000   0.000000  0.000000  16.209860  5.390234   \n",
       "7803      0   airplane  0.000000   0.000000  0.000000  16.155567  5.380467   \n",
       "3444      0   airplane  0.000000   0.000000  0.000000  16.125116  5.430145   \n",
       "\n",
       "             5         6         7  ...        121       122        123  \\\n",
       "41    3.424074  0.846446  0.000000  ...  14.569914  2.901970   0.000000   \n",
       "1071  3.523868  1.741151  0.370211  ...  10.798350  3.637937   0.000000   \n",
       "5193  2.651341  0.427548  0.000000  ...  12.429004  2.808132   0.000000   \n",
       "2772  2.475622  0.718493  0.000000  ...  16.631159  2.664908   0.000000   \n",
       "8416  3.453329  0.637449  0.000000  ...  18.041349  2.825019   0.000000   \n",
       "...        ...       ...       ...  ...        ...       ...        ...   \n",
       "1078  0.000000  0.000000  1.341671  ...   0.000000  0.000000  21.571804   \n",
       "3823  0.000000  0.000000  1.332911  ...   0.000000  0.000000  22.217569   \n",
       "8903  0.000000  0.000000  1.340758  ...   0.000000  0.000000  22.091120   \n",
       "7803  0.000000  0.000000  1.330074  ...   0.000000  0.552971  20.609818   \n",
       "3444  0.000000  0.000000  1.353385  ...   0.000000  0.000000  22.398750   \n",
       "\n",
       "           124       125       126       127  Cosine Similarity  \\\n",
       "41    5.029751  1.577814  4.518776  2.679219           1.000000   \n",
       "1071  5.375542  0.000000  1.933684  3.021995           0.970522   \n",
       "5193  3.650672  0.969824  1.135286  1.814344           0.962790   \n",
       "2772  0.370315  3.171424  1.440617  2.361546           0.959726   \n",
       "8416  0.000000  3.061740  1.680905  2.356491           0.961668   \n",
       "...        ...       ...       ...       ...                ...   \n",
       "1078  2.477021  0.165765  0.000000  2.289730           0.073283   \n",
       "3823  3.149913  0.040619  0.699094  1.285229           0.067318   \n",
       "8903  2.786050  0.065830  0.311560  1.486320           0.056793   \n",
       "7803  3.246747  0.710761  1.309961  2.029190           0.063431   \n",
       "3444  0.948037  0.224067  0.316319  1.360029           0.039886   \n",
       "\n",
       "      Cosine Distance  Euclidean Distance  \n",
       "41           0.000000            0.000000  \n",
       "1071         0.029478           13.626858  \n",
       "5193         0.037210           15.205142  \n",
       "2772         0.040274           15.804427  \n",
       "8416         0.038332           15.847080  \n",
       "...               ...                 ...  \n",
       "1078         0.926717           95.093272  \n",
       "3823         0.932682           95.299239  \n",
       "8903         0.943207           95.430659  \n",
       "7803         0.936569           97.668996  \n",
       "3444         0.960114           98.803698  \n",
       "\n",
       "[10000 rows x 133 columns]"
      ]
     },
     "execution_count": 32,
     "metadata": {},
     "output_type": "execute_result"
    }
   ],
   "source": [
    "final_encoded_test_data_df['Euclidean Distance'] = euclidean_distance\n",
    "final_encoded_test_data_df.sort_values(by = ['Euclidean Distance'])"
   ]
  },
  {
   "cell_type": "code",
   "execution_count": 33,
   "metadata": {
    "scrolled": true
   },
   "outputs": [
    {
     "data": {
      "image/png": "[encoded data removed]",
      "text/plain": [
       "<Figure size 144x144 with 1 Axes>"
      ]
     },
     "metadata": {
      "needs_background": "light"
     },
     "output_type": "display_data"
    },
    {
     "data": {
      "image/png": "[encoded data removed]",
      "text/plain": [
       "<Figure size 144x144 with 1 Axes>"
      ]
     },
     "metadata": {
      "needs_background": "light"
     },
     "output_type": "display_data"
    },
    {
     "data": {
      "image/png": "[encoded data removed]",
      "text/plain": [
       "<Figure size 144x144 with 1 Axes>"
      ]
     },
     "metadata": {
      "needs_background": "light"
     },
     "output_type": "display_data"
    },
    {
     "data": {
      "image/png": "[encoded data removed]",
      "text/plain": [
       "<Figure size 144x144 with 1 Axes>"
      ]
     },
     "metadata": {
      "needs_background": "light"
     },
     "output_type": "display_data"
    },
    {
     "data": {
      "image/png": "[encoded data removed]",
      "text/plain": [
       "<Figure size 144x144 with 1 Axes>"
      ]
     },
     "metadata": {
      "needs_background": "light"
     },
     "output_type": "display_data"
    },
    {
     "data": {
      "image/png": "[encoded data removed]",
      "text/plain": [
       "<Figure size 144x144 with 1 Axes>"
      ]
     },
     "metadata": {
      "needs_background": "light"
     },
     "output_type": "display_data"
    },
    {
     "data": {
      "image/png": "[encoded data removed]",
      "text/plain": [
       "<Figure size 144x144 with 1 Axes>"
      ]
     },
     "metadata": {
      "needs_background": "light"
     },
     "output_type": "display_data"
    },
    {
     "data": {
      "image/png": "[encoded data removed]",
      "text/plain": [
       "<Figure size 144x144 with 1 Axes>"
      ]
     },
     "metadata": {
      "needs_background": "light"
     },
     "output_type": "display_data"
    },
    {
     "data": {
      "image/png": "[encoded data removed]",
      "text/plain": [
       "<Figure size 144x144 with 1 Axes>"
      ]
     },
     "metadata": {
      "needs_background": "light"
     },
     "output_type": "display_data"
    },
    {
     "data": {
      "image/png": "[encoded data removed]",
      "text/plain": [
       "<Figure size 144x144 with 1 Axes>"
      ]
     },
     "metadata": {
      "needs_background": "light"
     },
     "output_type": "display_data"
    }
   ],
   "source": [
    "euclidean_index = final_encoded_test_data_df.sort_values(by = ['Euclidean Distance']).head(10).index\n",
    "\n",
    "for i in euclidean_index:\n",
    "    plt.figure(figsize = (2, 2))\n",
    "    plt.imshow(x_test[i].reshape(32, 32, 3))\n",
    "    plt.xlabel(final_encoded_test_data_df['Class Name'][i] + ' with an Euclidean Distance of ' + str(final_encoded_test_data_df['Euclidean Distance'][i]) + ' from the queried image.')\n",
    "    plt.show()"
   ]
  },
  {
   "cell_type": "code",
   "execution_count": null,
   "metadata": {},
   "outputs": [],
   "source": []
  }
 ],
 "metadata": {
  "kernelspec": {
   "display_name": "Python 3",
   "language": "python",
   "name": "python3"
  },
  "language_info": {
   "codemirror_mode": {
    "name": "ipython",
    "version": 3
   },
   "file_extension": ".py",
   "mimetype": "text/x-python",
   "name": "python",
   "nbconvert_exporter": "python",
   "pygments_lexer": "ipython3",
   "version": "3.6.9"
  }
 },
 "nbformat": 4,
 "nbformat_minor": 2
}
