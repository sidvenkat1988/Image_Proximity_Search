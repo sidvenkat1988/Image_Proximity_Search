{
 "cells": [
  {
   "cell_type": "code",
   "execution_count": 2,
   "metadata": {},
   "outputs": [],
   "source": [
    "from keras.layers import Input, Dense, Conv2D, MaxPooling2D, UpSampling2D\n",
    "from keras.models import Model\n",
    "\n",
    "import numpy as np\n",
    "import pandas as pd\n",
    "import matplotlib.pyplot as plt\n",
    "%matplotlib inline"
   ]
  },
  {
   "cell_type": "code",
   "execution_count": 3,
   "metadata": {},
   "outputs": [
    {
     "name": "stdout",
     "output_type": "stream",
     "text": [
      "(50000, 3074)\n",
      "(10000, 3074)\n"
     ]
    }
   ],
   "source": [
    "datadir = '/Users/sidv88/Documents/Data_Management_2/Data/'\n",
    "train_data = pd.read_csv(datadir + 'train_rgb.csv')\n",
    "test_data = pd.read_csv(datadir + 'test_rgb.csv')\n",
    "print(train_data.shape)\n",
    "print(test_data.shape)"
   ]
  },
  {
   "cell_type": "code",
   "execution_count": 4,
   "metadata": {},
   "outputs": [
    {
     "data": {
      "text/html": [
       "<div>\n",
       "<style scoped>\n",
       "    .dataframe tbody tr th:only-of-type {\n",
       "        vertical-align: middle;\n",
       "    }\n",
       "\n",
       "    .dataframe tbody tr th {\n",
       "        vertical-align: top;\n",
       "    }\n",
       "\n",
       "    .dataframe thead th {\n",
       "        text-align: right;\n",
       "    }\n",
       "</style>\n",
       "<table border=\"1\" class=\"dataframe\">\n",
       "  <thead>\n",
       "    <tr style=\"text-align: right;\">\n",
       "      <th></th>\n",
       "      <th>Class</th>\n",
       "      <th>Class Name</th>\n",
       "      <th>0</th>\n",
       "      <th>1</th>\n",
       "      <th>2</th>\n",
       "      <th>3</th>\n",
       "      <th>4</th>\n",
       "      <th>5</th>\n",
       "      <th>6</th>\n",
       "      <th>7</th>\n",
       "      <th>...</th>\n",
       "      <th>3062</th>\n",
       "      <th>3063</th>\n",
       "      <th>3064</th>\n",
       "      <th>3065</th>\n",
       "      <th>3066</th>\n",
       "      <th>3067</th>\n",
       "      <th>3068</th>\n",
       "      <th>3069</th>\n",
       "      <th>3070</th>\n",
       "      <th>3071</th>\n",
       "    </tr>\n",
       "  </thead>\n",
       "  <tbody>\n",
       "    <tr>\n",
       "      <th>0</th>\n",
       "      <td>6</td>\n",
       "      <td>frog</td>\n",
       "      <td>59</td>\n",
       "      <td>62</td>\n",
       "      <td>63</td>\n",
       "      <td>43</td>\n",
       "      <td>46</td>\n",
       "      <td>45</td>\n",
       "      <td>50</td>\n",
       "      <td>48</td>\n",
       "      <td>...</td>\n",
       "      <td>104</td>\n",
       "      <td>216</td>\n",
       "      <td>184</td>\n",
       "      <td>140</td>\n",
       "      <td>151</td>\n",
       "      <td>118</td>\n",
       "      <td>84</td>\n",
       "      <td>123</td>\n",
       "      <td>92</td>\n",
       "      <td>72</td>\n",
       "    </tr>\n",
       "    <tr>\n",
       "      <th>1</th>\n",
       "      <td>9</td>\n",
       "      <td>truck</td>\n",
       "      <td>154</td>\n",
       "      <td>177</td>\n",
       "      <td>187</td>\n",
       "      <td>126</td>\n",
       "      <td>137</td>\n",
       "      <td>136</td>\n",
       "      <td>105</td>\n",
       "      <td>104</td>\n",
       "      <td>...</td>\n",
       "      <td>136</td>\n",
       "      <td>143</td>\n",
       "      <td>133</td>\n",
       "      <td>139</td>\n",
       "      <td>143</td>\n",
       "      <td>134</td>\n",
       "      <td>142</td>\n",
       "      <td>143</td>\n",
       "      <td>133</td>\n",
       "      <td>144</td>\n",
       "    </tr>\n",
       "    <tr>\n",
       "      <th>2</th>\n",
       "      <td>9</td>\n",
       "      <td>truck</td>\n",
       "      <td>255</td>\n",
       "      <td>255</td>\n",
       "      <td>255</td>\n",
       "      <td>253</td>\n",
       "      <td>253</td>\n",
       "      <td>253</td>\n",
       "      <td>253</td>\n",
       "      <td>253</td>\n",
       "      <td>...</td>\n",
       "      <td>79</td>\n",
       "      <td>78</td>\n",
       "      <td>85</td>\n",
       "      <td>83</td>\n",
       "      <td>79</td>\n",
       "      <td>85</td>\n",
       "      <td>83</td>\n",
       "      <td>80</td>\n",
       "      <td>86</td>\n",
       "      <td>84</td>\n",
       "    </tr>\n",
       "    <tr>\n",
       "      <th>3</th>\n",
       "      <td>4</td>\n",
       "      <td>deer</td>\n",
       "      <td>28</td>\n",
       "      <td>25</td>\n",
       "      <td>10</td>\n",
       "      <td>37</td>\n",
       "      <td>34</td>\n",
       "      <td>19</td>\n",
       "      <td>38</td>\n",
       "      <td>35</td>\n",
       "      <td>...</td>\n",
       "      <td>38</td>\n",
       "      <td>54</td>\n",
       "      <td>47</td>\n",
       "      <td>28</td>\n",
       "      <td>63</td>\n",
       "      <td>56</td>\n",
       "      <td>37</td>\n",
       "      <td>72</td>\n",
       "      <td>65</td>\n",
       "      <td>46</td>\n",
       "    </tr>\n",
       "    <tr>\n",
       "      <th>4</th>\n",
       "      <td>1</td>\n",
       "      <td>automobile</td>\n",
       "      <td>170</td>\n",
       "      <td>180</td>\n",
       "      <td>198</td>\n",
       "      <td>168</td>\n",
       "      <td>178</td>\n",
       "      <td>196</td>\n",
       "      <td>177</td>\n",
       "      <td>185</td>\n",
       "      <td>...</td>\n",
       "      <td>78</td>\n",
       "      <td>75</td>\n",
       "      <td>79</td>\n",
       "      <td>82</td>\n",
       "      <td>71</td>\n",
       "      <td>75</td>\n",
       "      <td>78</td>\n",
       "      <td>73</td>\n",
       "      <td>77</td>\n",
       "      <td>80</td>\n",
       "    </tr>\n",
       "  </tbody>\n",
       "</table>\n",
       "<p>5 rows × 3074 columns</p>\n",
       "</div>"
      ],
      "text/plain": [
       "   Class  Class Name    0    1    2    3    4    5    6    7  ...  3062  3063  \\\n",
       "0      6        frog   59   62   63   43   46   45   50   48  ...   104   216   \n",
       "1      9       truck  154  177  187  126  137  136  105  104  ...   136   143   \n",
       "2      9       truck  255  255  255  253  253  253  253  253  ...    79    78   \n",
       "3      4        deer   28   25   10   37   34   19   38   35  ...    38    54   \n",
       "4      1  automobile  170  180  198  168  178  196  177  185  ...    78    75   \n",
       "\n",
       "   3064  3065  3066  3067  3068  3069  3070  3071  \n",
       "0   184   140   151   118    84   123    92    72  \n",
       "1   133   139   143   134   142   143   133   144  \n",
       "2    85    83    79    85    83    80    86    84  \n",
       "3    47    28    63    56    37    72    65    46  \n",
       "4    79    82    71    75    78    73    77    80  \n",
       "\n",
       "[5 rows x 3074 columns]"
      ]
     },
     "execution_count": 4,
     "metadata": {},
     "output_type": "execute_result"
    }
   ],
   "source": [
    "train_data.head()"
   ]
  },
  {
   "cell_type": "code",
   "execution_count": 5,
   "metadata": {},
   "outputs": [
    {
     "data": {
      "text/html": [
       "<div>\n",
       "<style scoped>\n",
       "    .dataframe tbody tr th:only-of-type {\n",
       "        vertical-align: middle;\n",
       "    }\n",
       "\n",
       "    .dataframe tbody tr th {\n",
       "        vertical-align: top;\n",
       "    }\n",
       "\n",
       "    .dataframe thead th {\n",
       "        text-align: right;\n",
       "    }\n",
       "</style>\n",
       "<table border=\"1\" class=\"dataframe\">\n",
       "  <thead>\n",
       "    <tr style=\"text-align: right;\">\n",
       "      <th></th>\n",
       "      <th>Class</th>\n",
       "      <th>Class Name</th>\n",
       "      <th>0</th>\n",
       "      <th>1</th>\n",
       "      <th>2</th>\n",
       "      <th>3</th>\n",
       "      <th>4</th>\n",
       "      <th>5</th>\n",
       "      <th>6</th>\n",
       "      <th>7</th>\n",
       "      <th>...</th>\n",
       "      <th>3062</th>\n",
       "      <th>3063</th>\n",
       "      <th>3064</th>\n",
       "      <th>3065</th>\n",
       "      <th>3066</th>\n",
       "      <th>3067</th>\n",
       "      <th>3068</th>\n",
       "      <th>3069</th>\n",
       "      <th>3070</th>\n",
       "      <th>3071</th>\n",
       "    </tr>\n",
       "  </thead>\n",
       "  <tbody>\n",
       "    <tr>\n",
       "      <th>0</th>\n",
       "      <td>3</td>\n",
       "      <td>cat</td>\n",
       "      <td>158</td>\n",
       "      <td>112</td>\n",
       "      <td>49</td>\n",
       "      <td>159</td>\n",
       "      <td>111</td>\n",
       "      <td>47</td>\n",
       "      <td>165</td>\n",
       "      <td>116</td>\n",
       "      <td>...</td>\n",
       "      <td>145</td>\n",
       "      <td>24</td>\n",
       "      <td>77</td>\n",
       "      <td>124</td>\n",
       "      <td>34</td>\n",
       "      <td>84</td>\n",
       "      <td>129</td>\n",
       "      <td>21</td>\n",
       "      <td>67</td>\n",
       "      <td>110</td>\n",
       "    </tr>\n",
       "    <tr>\n",
       "      <th>1</th>\n",
       "      <td>8</td>\n",
       "      <td>ship</td>\n",
       "      <td>235</td>\n",
       "      <td>235</td>\n",
       "      <td>235</td>\n",
       "      <td>231</td>\n",
       "      <td>231</td>\n",
       "      <td>231</td>\n",
       "      <td>232</td>\n",
       "      <td>232</td>\n",
       "      <td>...</td>\n",
       "      <td>163</td>\n",
       "      <td>168</td>\n",
       "      <td>183</td>\n",
       "      <td>178</td>\n",
       "      <td>180</td>\n",
       "      <td>195</td>\n",
       "      <td>191</td>\n",
       "      <td>186</td>\n",
       "      <td>200</td>\n",
       "      <td>199</td>\n",
       "    </tr>\n",
       "    <tr>\n",
       "      <th>2</th>\n",
       "      <td>8</td>\n",
       "      <td>ship</td>\n",
       "      <td>158</td>\n",
       "      <td>190</td>\n",
       "      <td>222</td>\n",
       "      <td>158</td>\n",
       "      <td>187</td>\n",
       "      <td>218</td>\n",
       "      <td>139</td>\n",
       "      <td>166</td>\n",
       "      <td>...</td>\n",
       "      <td>37</td>\n",
       "      <td>5</td>\n",
       "      <td>6</td>\n",
       "      <td>8</td>\n",
       "      <td>4</td>\n",
       "      <td>5</td>\n",
       "      <td>3</td>\n",
       "      <td>7</td>\n",
       "      <td>8</td>\n",
       "      <td>7</td>\n",
       "    </tr>\n",
       "    <tr>\n",
       "      <th>3</th>\n",
       "      <td>0</td>\n",
       "      <td>airplane</td>\n",
       "      <td>155</td>\n",
       "      <td>156</td>\n",
       "      <td>149</td>\n",
       "      <td>167</td>\n",
       "      <td>176</td>\n",
       "      <td>187</td>\n",
       "      <td>176</td>\n",
       "      <td>179</td>\n",
       "      <td>...</td>\n",
       "      <td>53</td>\n",
       "      <td>60</td>\n",
       "      <td>63</td>\n",
       "      <td>50</td>\n",
       "      <td>64</td>\n",
       "      <td>65</td>\n",
       "      <td>52</td>\n",
       "      <td>73</td>\n",
       "      <td>68</td>\n",
       "      <td>50</td>\n",
       "    </tr>\n",
       "    <tr>\n",
       "      <th>4</th>\n",
       "      <td>6</td>\n",
       "      <td>frog</td>\n",
       "      <td>65</td>\n",
       "      <td>68</td>\n",
       "      <td>50</td>\n",
       "      <td>70</td>\n",
       "      <td>81</td>\n",
       "      <td>64</td>\n",
       "      <td>48</td>\n",
       "      <td>64</td>\n",
       "      <td>...</td>\n",
       "      <td>147</td>\n",
       "      <td>143</td>\n",
       "      <td>179</td>\n",
       "      <td>136</td>\n",
       "      <td>154</td>\n",
       "      <td>185</td>\n",
       "      <td>146</td>\n",
       "      <td>128</td>\n",
       "      <td>156</td>\n",
       "      <td>117</td>\n",
       "    </tr>\n",
       "  </tbody>\n",
       "</table>\n",
       "<p>5 rows × 3074 columns</p>\n",
       "</div>"
      ],
      "text/plain": [
       "   Class Class Name    0    1    2    3    4    5    6    7  ...  3062  3063  \\\n",
       "0      3        cat  158  112   49  159  111   47  165  116  ...   145    24   \n",
       "1      8       ship  235  235  235  231  231  231  232  232  ...   163   168   \n",
       "2      8       ship  158  190  222  158  187  218  139  166  ...    37     5   \n",
       "3      0   airplane  155  156  149  167  176  187  176  179  ...    53    60   \n",
       "4      6       frog   65   68   50   70   81   64   48   64  ...   147   143   \n",
       "\n",
       "   3064  3065  3066  3067  3068  3069  3070  3071  \n",
       "0    77   124    34    84   129    21    67   110  \n",
       "1   183   178   180   195   191   186   200   199  \n",
       "2     6     8     4     5     3     7     8     7  \n",
       "3    63    50    64    65    52    73    68    50  \n",
       "4   179   136   154   185   146   128   156   117  \n",
       "\n",
       "[5 rows x 3074 columns]"
      ]
     },
     "execution_count": 5,
     "metadata": {},
     "output_type": "execute_result"
    }
   ],
   "source": [
    "test_data.head()"
   ]
  },
  {
   "cell_type": "code",
   "execution_count": 6,
   "metadata": {},
   "outputs": [
    {
     "name": "stdout",
     "output_type": "stream",
     "text": [
      "(50000, 3072)\n",
      "(50000, 2)\n"
     ]
    }
   ],
   "source": [
    "x_train = train_data.iloc[:, 2:]\n",
    "print(x_train.shape)\n",
    "y_train = train_data.iloc[:, [0, 1]]\n",
    "print(y_train.shape)"
   ]
  },
  {
   "cell_type": "code",
   "execution_count": 7,
   "metadata": {},
   "outputs": [
    {
     "name": "stdout",
     "output_type": "stream",
     "text": [
      "(10000, 3072)\n",
      "(10000, 2)\n"
     ]
    }
   ],
   "source": [
    "x_test = test_data.iloc[:, 2:]\n",
    "print(x_test.shape)\n",
    "y_test = test_data.iloc[:, [0, 1]]\n",
    "print(y_test.shape)"
   ]
  },
  {
   "cell_type": "code",
   "execution_count": 8,
   "metadata": {},
   "outputs": [],
   "source": [
    "x_train = np.array(x_train)\n",
    "x_test = np.array(x_test)"
   ]
  },
  {
   "cell_type": "code",
   "execution_count": 9,
   "metadata": {},
   "outputs": [
    {
     "name": "stdout",
     "output_type": "stream",
     "text": [
      "(50000, 3072)\n",
      "(10000, 3072)\n"
     ]
    }
   ],
   "source": [
    "print(x_train.shape)\n",
    "print(x_test.shape)"
   ]
  },
  {
   "cell_type": "code",
   "execution_count": 10,
   "metadata": {},
   "outputs": [
    {
     "name": "stdout",
     "output_type": "stream",
     "text": [
      "(50000, 32, 32, 3)\n",
      "(10000, 32, 32, 3)\n"
     ]
    }
   ],
   "source": [
    "x_train = x_train.reshape(len(x_train), 32, 32, 3)\n",
    "x_test = x_test.reshape(len(x_test), 32, 32, 3)\n",
    "print(x_train.shape)\n",
    "print(x_test.shape)"
   ]
  },
  {
   "cell_type": "code",
   "execution_count": 11,
   "metadata": {},
   "outputs": [
    {
     "name": "stdout",
     "output_type": "stream",
     "text": [
      "(50000, 32, 32, 3)\n",
      "(10000, 32, 32, 3)\n"
     ]
    }
   ],
   "source": [
    "x_train = x_train.astype('float32')/255\n",
    "x_test = x_test.astype('float32')/255\n",
    "print(x_train.shape)\n",
    "print(x_test.shape)"
   ]
  },
  {
   "cell_type": "code",
   "execution_count": 12,
   "metadata": {},
   "outputs": [],
   "source": [
    "input_img = Input(shape = (32, 32, 3))\n",
    "\n",
    "\n",
    "encoded = Conv2D(16, (3, 3), activation = 'relu', padding = 'same')(input_img)\n",
    "encoded = MaxPooling2D((2, 2), padding = 'same')(encoded)\n",
    "encoded = Conv2D(8, (3, 3), activation = 'relu', padding = 'same')(encoded)\n",
    "encoded = MaxPooling2D((2, 2), padding = 'same')(encoded)\n",
    "encoded = Conv2D(8, (3, 3), activation = 'relu', padding = 'same')(encoded)\n",
    "encoded = MaxPooling2D((2, 2), padding = 'same')(encoded)\n",
    "\n",
    "decoded = Conv2D(8, (3, 3), activation = 'relu', padding = 'same')(encoded)\n",
    "decoded = UpSampling2D((2, 2))(decoded)\n",
    "decoded = Conv2D(8, (3, 3), activation = 'relu', padding = 'same')(decoded)\n",
    "decoded = UpSampling2D((2, 2))(decoded)\n",
    "decoded = Conv2D(16, (3, 3), activation = 'relu', padding = 'same')(decoded)\n",
    "decoded = UpSampling2D((2, 2))(decoded)\n",
    "\n",
    "decoded = Conv2D(3, (3, 3), activation = 'tanh', padding = 'same')(decoded)"
   ]
  },
  {
   "cell_type": "code",
   "execution_count": 13,
   "metadata": {},
   "outputs": [],
   "source": [
    "autoencoder = Model(input_img, decoded)\n",
    "encoder = Model(input_img, encoded)"
   ]
  },
  {
   "cell_type": "code",
   "execution_count": 14,
   "metadata": {
    "scrolled": true
   },
   "outputs": [
    {
     "name": "stdout",
     "output_type": "stream",
     "text": [
      "Model: \"model_1\"\n",
      "_________________________________________________________________\n",
      "Layer (type)                 Output Shape              Param #   \n",
      "=================================================================\n",
      "input_1 (InputLayer)         (None, 32, 32, 3)         0         \n",
      "_________________________________________________________________\n",
      "conv2d_1 (Conv2D)            (None, 32, 32, 16)        448       \n",
      "_________________________________________________________________\n",
      "max_pooling2d_1 (MaxPooling2 (None, 16, 16, 16)        0         \n",
      "_________________________________________________________________\n",
      "conv2d_2 (Conv2D)            (None, 16, 16, 8)         1160      \n",
      "_________________________________________________________________\n",
      "max_pooling2d_2 (MaxPooling2 (None, 8, 8, 8)           0         \n",
      "_________________________________________________________________\n",
      "conv2d_3 (Conv2D)            (None, 8, 8, 8)           584       \n",
      "_________________________________________________________________\n",
      "max_pooling2d_3 (MaxPooling2 (None, 4, 4, 8)           0         \n",
      "_________________________________________________________________\n",
      "conv2d_4 (Conv2D)            (None, 4, 4, 8)           584       \n",
      "_________________________________________________________________\n",
      "up_sampling2d_1 (UpSampling2 (None, 8, 8, 8)           0         \n",
      "_________________________________________________________________\n",
      "conv2d_5 (Conv2D)            (None, 8, 8, 8)           584       \n",
      "_________________________________________________________________\n",
      "up_sampling2d_2 (UpSampling2 (None, 16, 16, 8)         0         \n",
      "_________________________________________________________________\n",
      "conv2d_6 (Conv2D)            (None, 16, 16, 16)        1168      \n",
      "_________________________________________________________________\n",
      "up_sampling2d_3 (UpSampling2 (None, 32, 32, 16)        0         \n",
      "_________________________________________________________________\n",
      "conv2d_7 (Conv2D)            (None, 32, 32, 3)         435       \n",
      "=================================================================\n",
      "Total params: 4,963\n",
      "Trainable params: 4,963\n",
      "Non-trainable params: 0\n",
      "_________________________________________________________________\n"
     ]
    }
   ],
   "source": [
    "autoencoder.summary()"
   ]
  },
  {
   "cell_type": "code",
   "execution_count": 15,
   "metadata": {
    "scrolled": true
   },
   "outputs": [
    {
     "name": "stdout",
     "output_type": "stream",
     "text": [
      "Model: \"model_2\"\n",
      "_________________________________________________________________\n",
      "Layer (type)                 Output Shape              Param #   \n",
      "=================================================================\n",
      "input_1 (InputLayer)         (None, 32, 32, 3)         0         \n",
      "_________________________________________________________________\n",
      "conv2d_1 (Conv2D)            (None, 32, 32, 16)        448       \n",
      "_________________________________________________________________\n",
      "max_pooling2d_1 (MaxPooling2 (None, 16, 16, 16)        0         \n",
      "_________________________________________________________________\n",
      "conv2d_2 (Conv2D)            (None, 16, 16, 8)         1160      \n",
      "_________________________________________________________________\n",
      "max_pooling2d_2 (MaxPooling2 (None, 8, 8, 8)           0         \n",
      "_________________________________________________________________\n",
      "conv2d_3 (Conv2D)            (None, 8, 8, 8)           584       \n",
      "_________________________________________________________________\n",
      "max_pooling2d_3 (MaxPooling2 (None, 4, 4, 8)           0         \n",
      "=================================================================\n",
      "Total params: 2,192\n",
      "Trainable params: 2,192\n",
      "Non-trainable params: 0\n",
      "_________________________________________________________________\n"
     ]
    }
   ],
   "source": [
    "encoder.summary()"
   ]
  },
  {
   "cell_type": "code",
   "execution_count": 16,
   "metadata": {
    "scrolled": true
   },
   "outputs": [
    {
     "name": "stdout",
     "output_type": "stream",
     "text": [
      "Train on 50000 samples, validate on 10000 samples\n",
      "Epoch 1/50\n",
      "50000/50000 [==============================] - 82s 2ms/step - loss: 0.7728 - accuracy: 0.0080 - val_loss: 0.6583 - val_accuracy: 0.0110\n",
      "Epoch 2/50\n",
      "50000/50000 [==============================] - 81s 2ms/step - loss: 0.6454 - accuracy: 0.0110 - val_loss: 0.6321 - val_accuracy: 0.0116\n",
      "Epoch 3/50\n",
      "50000/50000 [==============================] - 82s 2ms/step - loss: 0.6309 - accuracy: 0.0115 - val_loss: 0.6283 - val_accuracy: 0.0117\n",
      "Epoch 4/50\n",
      "50000/50000 [==============================] - 82s 2ms/step - loss: 0.6246 - accuracy: 0.0116 - val_loss: 0.6247 - val_accuracy: 0.0118\n",
      "Epoch 5/50\n",
      "50000/50000 [==============================] - 82s 2ms/step - loss: 0.6215 - accuracy: 0.0117 - val_loss: 0.6314 - val_accuracy: 0.0118\n",
      "Epoch 6/50\n",
      "50000/50000 [==============================] - 82s 2ms/step - loss: 0.6188 - accuracy: 0.0117 - val_loss: 0.6171 - val_accuracy: 0.0119\n",
      "Epoch 7/50\n",
      "50000/50000 [==============================] - 82s 2ms/step - loss: 0.6173 - accuracy: 0.0118 - val_loss: 0.6129 - val_accuracy: 0.0119\n",
      "Epoch 8/50\n",
      "50000/50000 [==============================] - 82s 2ms/step - loss: 0.6156 - accuracy: 0.0118 - val_loss: 0.6143 - val_accuracy: 0.0119\n",
      "Epoch 9/50\n",
      "50000/50000 [==============================] - 81s 2ms/step - loss: 0.6139 - accuracy: 0.0118 - val_loss: 0.6166 - val_accuracy: 0.0119\n",
      "Epoch 10/50\n",
      "50000/50000 [==============================] - 82s 2ms/step - loss: 0.6126 - accuracy: 0.0118 - val_loss: 0.6091 - val_accuracy: 0.0120\n",
      "Epoch 11/50\n",
      "50000/50000 [==============================] - 82s 2ms/step - loss: 0.6110 - accuracy: 0.0118 - val_loss: 0.6104 - val_accuracy: 0.0120\n",
      "Epoch 12/50\n",
      "50000/50000 [==============================] - 82s 2ms/step - loss: 0.6095 - accuracy: 0.0119 - val_loss: 0.6099 - val_accuracy: 0.0120\n",
      "Epoch 13/50\n",
      "50000/50000 [==============================] - 82s 2ms/step - loss: 0.6085 - accuracy: 0.0119 - val_loss: 0.6102 - val_accuracy: 0.0120\n",
      "Epoch 14/50\n",
      "50000/50000 [==============================] - 82s 2ms/step - loss: 0.6075 - accuracy: 0.0119 - val_loss: 0.6040 - val_accuracy: 0.0120\n",
      "Epoch 15/50\n",
      "50000/50000 [==============================] - 83s 2ms/step - loss: 0.6067 - accuracy: 0.0119 - val_loss: 0.6062 - val_accuracy: 0.0120\n",
      "Epoch 16/50\n",
      "50000/50000 [==============================] - 82s 2ms/step - loss: 0.6057 - accuracy: 0.0119 - val_loss: 0.6036 - val_accuracy: 0.0120\n",
      "Epoch 17/50\n",
      "50000/50000 [==============================] - 82s 2ms/step - loss: 0.6047 - accuracy: 0.0119 - val_loss: 0.6049 - val_accuracy: 0.0120\n",
      "Epoch 18/50\n",
      "50000/50000 [==============================] - 82s 2ms/step - loss: 0.6038 - accuracy: 0.0119 - val_loss: 0.6005 - val_accuracy: 0.0120\n",
      "Epoch 19/50\n",
      "50000/50000 [==============================] - 82s 2ms/step - loss: 0.6030 - accuracy: 0.0119 - val_loss: 0.6057 - val_accuracy: 0.0120\n",
      "Epoch 20/50\n",
      "50000/50000 [==============================] - 83s 2ms/step - loss: 0.6018 - accuracy: 0.0119 - val_loss: 0.5983 - val_accuracy: 0.0120\n",
      "Epoch 21/50\n",
      "50000/50000 [==============================] - 83s 2ms/step - loss: 0.6013 - accuracy: 0.0119 - val_loss: 0.6014 - val_accuracy: 0.0120\n",
      "Epoch 22/50\n",
      "50000/50000 [==============================] - 82s 2ms/step - loss: 0.6003 - accuracy: 0.0119 - val_loss: 0.6000 - val_accuracy: 0.0120\n",
      "Epoch 23/50\n",
      "50000/50000 [==============================] - 82s 2ms/step - loss: 0.5994 - accuracy: 0.0119 - val_loss: 0.5978 - val_accuracy: 0.0120\n",
      "Epoch 24/50\n",
      "50000/50000 [==============================] - 82s 2ms/step - loss: 0.5983 - accuracy: 0.0119 - val_loss: 0.5979 - val_accuracy: 0.0120\n",
      "Epoch 25/50\n",
      "50000/50000 [==============================] - 83s 2ms/step - loss: 0.5978 - accuracy: 0.0119 - val_loss: 0.6044 - val_accuracy: 0.0119\n",
      "Epoch 26/50\n",
      "50000/50000 [==============================] - 82s 2ms/step - loss: 0.5977 - accuracy: 0.0119 - val_loss: 0.5971 - val_accuracy: 0.0120\n",
      "Epoch 27/50\n",
      "50000/50000 [==============================] - 82s 2ms/step - loss: 0.5972 - accuracy: 0.0119 - val_loss: 0.5979 - val_accuracy: 0.0120\n",
      "Epoch 28/50\n",
      "50000/50000 [==============================] - 82s 2ms/step - loss: 0.5967 - accuracy: 0.0119 - val_loss: 0.6065 - val_accuracy: 0.0119\n",
      "Epoch 29/50\n",
      "50000/50000 [==============================] - 82s 2ms/step - loss: 0.5965 - accuracy: 0.0119 - val_loss: 0.6024 - val_accuracy: 0.0119\n",
      "Epoch 30/50\n",
      "50000/50000 [==============================] - 82s 2ms/step - loss: 0.5951 - accuracy: 0.0119 - val_loss: 0.5966 - val_accuracy: 0.0120\n",
      "Epoch 31/50\n",
      "50000/50000 [==============================] - 82s 2ms/step - loss: 0.5952 - accuracy: 0.0119 - val_loss: 0.5957 - val_accuracy: 0.0120\n",
      "Epoch 32/50\n",
      "50000/50000 [==============================] - 81s 2ms/step - loss: 0.5949 - accuracy: 0.0119 - val_loss: 0.6005 - val_accuracy: 0.0120\n",
      "Epoch 33/50\n",
      "50000/50000 [==============================] - 82s 2ms/step - loss: 0.5948 - accuracy: 0.0119 - val_loss: 0.5931 - val_accuracy: 0.0120\n",
      "Epoch 34/50\n",
      "50000/50000 [==============================] - 82s 2ms/step - loss: 0.5947 - accuracy: 0.0119 - val_loss: 0.5958 - val_accuracy: 0.0120\n",
      "Epoch 35/50\n",
      "50000/50000 [==============================] - 82s 2ms/step - loss: 0.5943 - accuracy: 0.0119 - val_loss: 0.5964 - val_accuracy: 0.0120\n",
      "Epoch 36/50\n",
      "50000/50000 [==============================] - 83s 2ms/step - loss: 0.5944 - accuracy: 0.0119 - val_loss: 0.5925 - val_accuracy: 0.0120\n",
      "Epoch 37/50\n",
      "50000/50000 [==============================] - 83s 2ms/step - loss: 0.5933 - accuracy: 0.0120 - val_loss: 0.5918 - val_accuracy: 0.0120\n",
      "Epoch 38/50\n",
      "50000/50000 [==============================] - 81s 2ms/step - loss: 0.5933 - accuracy: 0.0119 - val_loss: 0.5950 - val_accuracy: 0.0120\n",
      "Epoch 39/50\n",
      "50000/50000 [==============================] - 81s 2ms/step - loss: 0.5933 - accuracy: 0.0120 - val_loss: 0.5930 - val_accuracy: 0.0120\n",
      "Epoch 40/50\n",
      "50000/50000 [==============================] - 82s 2ms/step - loss: 0.5929 - accuracy: 0.0120 - val_loss: 0.5981 - val_accuracy: 0.0120\n",
      "Epoch 41/50\n",
      "50000/50000 [==============================] - 82s 2ms/step - loss: 0.5930 - accuracy: 0.0119 - val_loss: 0.5934 - val_accuracy: 0.0120\n",
      "Epoch 42/50\n",
      "50000/50000 [==============================] - 82s 2ms/step - loss: 0.5928 - accuracy: 0.0120 - val_loss: 0.5946 - val_accuracy: 0.0120\n",
      "Epoch 43/50\n",
      "50000/50000 [==============================] - 82s 2ms/step - loss: 0.5921 - accuracy: 0.0120 - val_loss: 0.5913 - val_accuracy: 0.0120\n",
      "Epoch 44/50\n",
      "50000/50000 [==============================] - 82s 2ms/step - loss: 0.5919 - accuracy: 0.0120 - val_loss: 0.5928 - val_accuracy: 0.0120\n",
      "Epoch 45/50\n",
      "50000/50000 [==============================] - 82s 2ms/step - loss: 0.5923 - accuracy: 0.0120 - val_loss: 0.5899 - val_accuracy: 0.0120\n",
      "Epoch 46/50\n",
      "50000/50000 [==============================] - 82s 2ms/step - loss: 0.5917 - accuracy: 0.0120 - val_loss: 0.5927 - val_accuracy: 0.0120\n",
      "Epoch 47/50\n",
      "50000/50000 [==============================] - 83s 2ms/step - loss: 0.5919 - accuracy: 0.0120 - val_loss: 0.5934 - val_accuracy: 0.0120\n",
      "Epoch 48/50\n",
      "50000/50000 [==============================] - 84s 2ms/step - loss: 0.5913 - accuracy: 0.0120 - val_loss: 0.5916 - val_accuracy: 0.0120\n",
      "Epoch 49/50\n",
      "50000/50000 [==============================] - 85s 2ms/step - loss: 0.5913 - accuracy: 0.0120 - val_loss: 0.5949 - val_accuracy: 0.0120\n",
      "Epoch 50/50\n",
      "50000/50000 [==============================] - 83s 2ms/step - loss: 0.5915 - accuracy: 0.0120 - val_loss: 0.5912 - val_accuracy: 0.0120\n"
     ]
    },
    {
     "data": {
      "text/plain": [
       "<keras.callbacks.callbacks.History at 0x13fe77f28>"
      ]
     },
     "execution_count": 16,
     "metadata": {},
     "output_type": "execute_result"
    }
   ],
   "source": [
    "autoencoder.compile(optimizer = 'adadelta', loss = 'binary_crossentropy', metrics = ['accuracy'])\n",
    "autoencoder.fit(x_train, x_train, epochs = 50, batch_size = 256, shuffle = True, validation_data = [x_test, x_test])"
   ]
  },
  {
   "cell_type": "code",
   "execution_count": 17,
   "metadata": {},
   "outputs": [],
   "source": [
    "encoded_test_data = encoder.predict(x_test)\n",
    "predicted_test_data = autoencoder.predict(x_test)"
   ]
  },
  {
   "cell_type": "code",
   "execution_count": 18,
   "metadata": {},
   "outputs": [
    {
     "data": {
      "text/plain": [
       "(10000, 4, 4, 8)"
      ]
     },
     "execution_count": 18,
     "metadata": {},
     "output_type": "execute_result"
    }
   ],
   "source": [
    "encoded_test_data.shape"
   ]
  },
  {
   "cell_type": "code",
   "execution_count": 19,
   "metadata": {},
   "outputs": [],
   "source": [
    "encoded_test_data = encoded_test_data.reshape(len(encoded_test_data), np.prod(encoded_test_data.shape[1:]))"
   ]
  },
  {
   "cell_type": "code",
   "execution_count": 20,
   "metadata": {},
   "outputs": [
    {
     "data": {
      "text/plain": [
       "(10000, 128)"
      ]
     },
     "execution_count": 20,
     "metadata": {},
     "output_type": "execute_result"
    }
   ],
   "source": [
    "encoded_test_data.shape"
   ]
  },
  {
   "cell_type": "code",
   "execution_count": 21,
   "metadata": {},
   "outputs": [
    {
     "data": {
      "text/html": [
       "<div>\n",
       "<style scoped>\n",
       "    .dataframe tbody tr th:only-of-type {\n",
       "        vertical-align: middle;\n",
       "    }\n",
       "\n",
       "    .dataframe tbody tr th {\n",
       "        vertical-align: top;\n",
       "    }\n",
       "\n",
       "    .dataframe thead th {\n",
       "        text-align: right;\n",
       "    }\n",
       "</style>\n",
       "<table border=\"1\" class=\"dataframe\">\n",
       "  <thead>\n",
       "    <tr style=\"text-align: right;\">\n",
       "      <th></th>\n",
       "      <th>Class</th>\n",
       "      <th>Class Name</th>\n",
       "    </tr>\n",
       "  </thead>\n",
       "  <tbody>\n",
       "    <tr>\n",
       "      <th>0</th>\n",
       "      <td>3</td>\n",
       "      <td>cat</td>\n",
       "    </tr>\n",
       "    <tr>\n",
       "      <th>1</th>\n",
       "      <td>8</td>\n",
       "      <td>ship</td>\n",
       "    </tr>\n",
       "    <tr>\n",
       "      <th>2</th>\n",
       "      <td>8</td>\n",
       "      <td>ship</td>\n",
       "    </tr>\n",
       "    <tr>\n",
       "      <th>3</th>\n",
       "      <td>0</td>\n",
       "      <td>airplane</td>\n",
       "    </tr>\n",
       "    <tr>\n",
       "      <th>4</th>\n",
       "      <td>6</td>\n",
       "      <td>frog</td>\n",
       "    </tr>\n",
       "    <tr>\n",
       "      <th>...</th>\n",
       "      <td>...</td>\n",
       "      <td>...</td>\n",
       "    </tr>\n",
       "    <tr>\n",
       "      <th>9995</th>\n",
       "      <td>8</td>\n",
       "      <td>ship</td>\n",
       "    </tr>\n",
       "    <tr>\n",
       "      <th>9996</th>\n",
       "      <td>3</td>\n",
       "      <td>cat</td>\n",
       "    </tr>\n",
       "    <tr>\n",
       "      <th>9997</th>\n",
       "      <td>5</td>\n",
       "      <td>dog</td>\n",
       "    </tr>\n",
       "    <tr>\n",
       "      <th>9998</th>\n",
       "      <td>1</td>\n",
       "      <td>automobile</td>\n",
       "    </tr>\n",
       "    <tr>\n",
       "      <th>9999</th>\n",
       "      <td>7</td>\n",
       "      <td>horse</td>\n",
       "    </tr>\n",
       "  </tbody>\n",
       "</table>\n",
       "<p>10000 rows × 2 columns</p>\n",
       "</div>"
      ],
      "text/plain": [
       "      Class  Class Name\n",
       "0         3         cat\n",
       "1         8        ship\n",
       "2         8        ship\n",
       "3         0    airplane\n",
       "4         6        frog\n",
       "...     ...         ...\n",
       "9995      8        ship\n",
       "9996      3         cat\n",
       "9997      5         dog\n",
       "9998      1  automobile\n",
       "9999      7       horse\n",
       "\n",
       "[10000 rows x 2 columns]"
      ]
     },
     "execution_count": 21,
     "metadata": {},
     "output_type": "execute_result"
    }
   ],
   "source": [
    "y_test"
   ]
  },
  {
   "cell_type": "code",
   "execution_count": 22,
   "metadata": {},
   "outputs": [
    {
     "data": {
      "text/plain": [
       "(10000, 130)"
      ]
     },
     "execution_count": 22,
     "metadata": {},
     "output_type": "execute_result"
    }
   ],
   "source": [
    "encoded_test_data_df = pd.DataFrame(encoded_test_data)\n",
    "final_encoded_test_data_df = pd.concat([y_test, encoded_test_data_df], axis = 1)\n",
    "final_encoded_test_data_df.shape"
   ]
  },
  {
   "cell_type": "code",
   "execution_count": 23,
   "metadata": {},
   "outputs": [],
   "source": [
    "datadir = '/Users/sidv88/Documents/Data_Management_2/Convolutional_Encoded_Data/'\n",
    "final_encoded_test_data_df.to_csv(datadir + 'Convolutional_Encoded_Test_RTADB.csv', index = False)"
   ]
  },
  {
   "cell_type": "code",
   "execution_count": 24,
   "metadata": {},
   "outputs": [
    {
     "name": "stdout",
     "output_type": "stream",
     "text": [
      "Enter one of these values ['cat' 'ship' 'airplane' 'frog' 'automobile' 'truck' 'dog' 'horse' 'deer'\n",
      " 'bird'] : frog\n"
     ]
    }
   ],
   "source": [
    "input_val = input(\"Enter one of these values {} : \".format(final_encoded_test_data_df['Class Name'].unique()))"
   ]
  },
  {
   "cell_type": "code",
   "execution_count": 25,
   "metadata": {},
   "outputs": [
    {
     "name": "stdout",
     "output_type": "stream",
     "text": [
      "Enter a number between 0 and 999 : 5\n"
     ]
    }
   ],
   "source": [
    "input_num = input(\"Enter a number between 0 and 999 : \")"
   ]
  },
  {
   "cell_type": "code",
   "execution_count": 26,
   "metadata": {},
   "outputs": [
    {
     "name": "stdout",
     "output_type": "stream",
     "text": [
      "10000\n",
      "10000\n"
     ]
    }
   ],
   "source": [
    "from numpy import dot\n",
    "from numpy.linalg import norm\n",
    "\n",
    "cosine_similarity = []\n",
    "cosine_distance = []\n",
    "\n",
    "for i in range(len(x_test)):\n",
    "    a = final_encoded_test_data_df.loc[final_encoded_test_data_df['Class Name'] == input_val].iloc[int(input_num), 2:]\n",
    "    b = final_encoded_test_data_df.iloc[i, 2:]\n",
    "    cos_sim = dot(a, b)/(norm(a) * norm(b))\n",
    "    cos_dist = 1 - cos_sim\n",
    "    cosine_similarity.append(cos_sim)\n",
    "    cosine_distance.append(cos_dist)\n",
    "print(len(cosine_similarity))\n",
    "print(len(cosine_distance))"
   ]
  },
  {
   "cell_type": "code",
   "execution_count": 27,
   "metadata": {},
   "outputs": [],
   "source": [
    "final_encoded_test_data_df['Cosine Similarity'] = cosine_similarity\n",
    "final_encoded_test_data_df['Cosine Distance'] = cosine_distance"
   ]
  },
  {
   "cell_type": "code",
   "execution_count": 28,
   "metadata": {},
   "outputs": [
    {
     "data": {
      "text/html": [
       "<div>\n",
       "<style scoped>\n",
       "    .dataframe tbody tr th:only-of-type {\n",
       "        vertical-align: middle;\n",
       "    }\n",
       "\n",
       "    .dataframe tbody tr th {\n",
       "        vertical-align: top;\n",
       "    }\n",
       "\n",
       "    .dataframe thead th {\n",
       "        text-align: right;\n",
       "    }\n",
       "</style>\n",
       "<table border=\"1\" class=\"dataframe\">\n",
       "  <thead>\n",
       "    <tr style=\"text-align: right;\">\n",
       "      <th></th>\n",
       "      <th>Class</th>\n",
       "      <th>Class Name</th>\n",
       "      <th>0</th>\n",
       "      <th>1</th>\n",
       "      <th>2</th>\n",
       "      <th>3</th>\n",
       "      <th>4</th>\n",
       "      <th>5</th>\n",
       "      <th>6</th>\n",
       "      <th>7</th>\n",
       "      <th>...</th>\n",
       "      <th>120</th>\n",
       "      <th>121</th>\n",
       "      <th>122</th>\n",
       "      <th>123</th>\n",
       "      <th>124</th>\n",
       "      <th>125</th>\n",
       "      <th>126</th>\n",
       "      <th>127</th>\n",
       "      <th>Cosine Similarity</th>\n",
       "      <th>Cosine Distance</th>\n",
       "    </tr>\n",
       "  </thead>\n",
       "  <tbody>\n",
       "    <tr>\n",
       "      <th>30</th>\n",
       "      <td>6</td>\n",
       "      <td>frog</td>\n",
       "      <td>2.835151</td>\n",
       "      <td>0.0</td>\n",
       "      <td>0.000000</td>\n",
       "      <td>0.000000</td>\n",
       "      <td>0.000000</td>\n",
       "      <td>1.709839</td>\n",
       "      <td>0.000000</td>\n",
       "      <td>0.0</td>\n",
       "      <td>...</td>\n",
       "      <td>6.234947</td>\n",
       "      <td>0.0</td>\n",
       "      <td>0.631592</td>\n",
       "      <td>1.698901</td>\n",
       "      <td>0.201041</td>\n",
       "      <td>1.530942</td>\n",
       "      <td>0.000000</td>\n",
       "      <td>0.0</td>\n",
       "      <td>1.000000</td>\n",
       "      <td>5.960464e-08</td>\n",
       "    </tr>\n",
       "    <tr>\n",
       "      <th>9464</th>\n",
       "      <td>4</td>\n",
       "      <td>deer</td>\n",
       "      <td>4.637197</td>\n",
       "      <td>0.0</td>\n",
       "      <td>0.000000</td>\n",
       "      <td>0.765568</td>\n",
       "      <td>0.000000</td>\n",
       "      <td>1.899297</td>\n",
       "      <td>0.000000</td>\n",
       "      <td>0.0</td>\n",
       "      <td>...</td>\n",
       "      <td>6.275325</td>\n",
       "      <td>0.0</td>\n",
       "      <td>0.951507</td>\n",
       "      <td>1.207959</td>\n",
       "      <td>0.286430</td>\n",
       "      <td>2.337124</td>\n",
       "      <td>0.000000</td>\n",
       "      <td>0.0</td>\n",
       "      <td>0.969721</td>\n",
       "      <td>3.027874e-02</td>\n",
       "    </tr>\n",
       "    <tr>\n",
       "      <th>3147</th>\n",
       "      <td>2</td>\n",
       "      <td>bird</td>\n",
       "      <td>3.307898</td>\n",
       "      <td>0.0</td>\n",
       "      <td>0.000000</td>\n",
       "      <td>0.702663</td>\n",
       "      <td>0.216953</td>\n",
       "      <td>1.041007</td>\n",
       "      <td>0.000000</td>\n",
       "      <td>0.0</td>\n",
       "      <td>...</td>\n",
       "      <td>5.181047</td>\n",
       "      <td>0.0</td>\n",
       "      <td>0.564435</td>\n",
       "      <td>1.696964</td>\n",
       "      <td>0.581962</td>\n",
       "      <td>0.851739</td>\n",
       "      <td>0.059615</td>\n",
       "      <td>0.0</td>\n",
       "      <td>0.966252</td>\n",
       "      <td>3.374773e-02</td>\n",
       "    </tr>\n",
       "    <tr>\n",
       "      <th>8081</th>\n",
       "      <td>6</td>\n",
       "      <td>frog</td>\n",
       "      <td>1.879416</td>\n",
       "      <td>0.0</td>\n",
       "      <td>0.000000</td>\n",
       "      <td>0.000000</td>\n",
       "      <td>0.404161</td>\n",
       "      <td>1.114751</td>\n",
       "      <td>0.000000</td>\n",
       "      <td>0.0</td>\n",
       "      <td>...</td>\n",
       "      <td>6.547514</td>\n",
       "      <td>0.0</td>\n",
       "      <td>1.220558</td>\n",
       "      <td>2.154855</td>\n",
       "      <td>0.657374</td>\n",
       "      <td>0.909774</td>\n",
       "      <td>0.000000</td>\n",
       "      <td>0.0</td>\n",
       "      <td>0.964895</td>\n",
       "      <td>3.510463e-02</td>\n",
       "    </tr>\n",
       "    <tr>\n",
       "      <th>7921</th>\n",
       "      <td>4</td>\n",
       "      <td>deer</td>\n",
       "      <td>3.736378</td>\n",
       "      <td>0.0</td>\n",
       "      <td>0.000000</td>\n",
       "      <td>0.764361</td>\n",
       "      <td>0.007286</td>\n",
       "      <td>1.149406</td>\n",
       "      <td>0.000000</td>\n",
       "      <td>0.0</td>\n",
       "      <td>...</td>\n",
       "      <td>4.813269</td>\n",
       "      <td>0.0</td>\n",
       "      <td>1.006828</td>\n",
       "      <td>0.858993</td>\n",
       "      <td>0.204094</td>\n",
       "      <td>1.960776</td>\n",
       "      <td>1.100106</td>\n",
       "      <td>0.0</td>\n",
       "      <td>0.962826</td>\n",
       "      <td>3.717417e-02</td>\n",
       "    </tr>\n",
       "    <tr>\n",
       "      <th>...</th>\n",
       "      <td>...</td>\n",
       "      <td>...</td>\n",
       "      <td>...</td>\n",
       "      <td>...</td>\n",
       "      <td>...</td>\n",
       "      <td>...</td>\n",
       "      <td>...</td>\n",
       "      <td>...</td>\n",
       "      <td>...</td>\n",
       "      <td>...</td>\n",
       "      <td>...</td>\n",
       "      <td>...</td>\n",
       "      <td>...</td>\n",
       "      <td>...</td>\n",
       "      <td>...</td>\n",
       "      <td>...</td>\n",
       "      <td>...</td>\n",
       "      <td>...</td>\n",
       "      <td>...</td>\n",
       "      <td>...</td>\n",
       "      <td>...</td>\n",
       "    </tr>\n",
       "    <tr>\n",
       "      <th>4273</th>\n",
       "      <td>5</td>\n",
       "      <td>dog</td>\n",
       "      <td>0.000000</td>\n",
       "      <td>0.0</td>\n",
       "      <td>1.381143</td>\n",
       "      <td>0.000000</td>\n",
       "      <td>2.811807</td>\n",
       "      <td>0.000000</td>\n",
       "      <td>8.423048</td>\n",
       "      <td>0.0</td>\n",
       "      <td>...</td>\n",
       "      <td>0.000000</td>\n",
       "      <td>0.0</td>\n",
       "      <td>3.010448</td>\n",
       "      <td>0.828045</td>\n",
       "      <td>0.189930</td>\n",
       "      <td>1.505419</td>\n",
       "      <td>14.942132</td>\n",
       "      <td>0.0</td>\n",
       "      <td>0.064210</td>\n",
       "      <td>9.357899e-01</td>\n",
       "    </tr>\n",
       "    <tr>\n",
       "      <th>197</th>\n",
       "      <td>8</td>\n",
       "      <td>ship</td>\n",
       "      <td>0.000000</td>\n",
       "      <td>0.0</td>\n",
       "      <td>1.756638</td>\n",
       "      <td>0.012096</td>\n",
       "      <td>1.282238</td>\n",
       "      <td>0.000000</td>\n",
       "      <td>7.314494</td>\n",
       "      <td>0.0</td>\n",
       "      <td>...</td>\n",
       "      <td>0.000000</td>\n",
       "      <td>0.0</td>\n",
       "      <td>1.012315</td>\n",
       "      <td>1.010661</td>\n",
       "      <td>0.571126</td>\n",
       "      <td>1.018511</td>\n",
       "      <td>8.482018</td>\n",
       "      <td>0.0</td>\n",
       "      <td>0.063989</td>\n",
       "      <td>9.360114e-01</td>\n",
       "    </tr>\n",
       "    <tr>\n",
       "      <th>6970</th>\n",
       "      <td>0</td>\n",
       "      <td>airplane</td>\n",
       "      <td>0.000000</td>\n",
       "      <td>0.0</td>\n",
       "      <td>1.407517</td>\n",
       "      <td>0.220042</td>\n",
       "      <td>0.991480</td>\n",
       "      <td>0.264332</td>\n",
       "      <td>4.252602</td>\n",
       "      <td>0.0</td>\n",
       "      <td>...</td>\n",
       "      <td>0.000000</td>\n",
       "      <td>0.0</td>\n",
       "      <td>1.564474</td>\n",
       "      <td>1.070420</td>\n",
       "      <td>0.615348</td>\n",
       "      <td>0.584825</td>\n",
       "      <td>9.027497</td>\n",
       "      <td>0.0</td>\n",
       "      <td>0.061111</td>\n",
       "      <td>9.388890e-01</td>\n",
       "    </tr>\n",
       "    <tr>\n",
       "      <th>4546</th>\n",
       "      <td>2</td>\n",
       "      <td>bird</td>\n",
       "      <td>0.000000</td>\n",
       "      <td>0.0</td>\n",
       "      <td>1.959098</td>\n",
       "      <td>0.275595</td>\n",
       "      <td>1.573953</td>\n",
       "      <td>0.000000</td>\n",
       "      <td>8.315866</td>\n",
       "      <td>0.0</td>\n",
       "      <td>...</td>\n",
       "      <td>0.000000</td>\n",
       "      <td>0.0</td>\n",
       "      <td>1.521764</td>\n",
       "      <td>2.175414</td>\n",
       "      <td>1.394402</td>\n",
       "      <td>1.819746</td>\n",
       "      <td>13.862460</td>\n",
       "      <td>0.0</td>\n",
       "      <td>0.058253</td>\n",
       "      <td>9.417473e-01</td>\n",
       "    </tr>\n",
       "    <tr>\n",
       "      <th>3444</th>\n",
       "      <td>0</td>\n",
       "      <td>airplane</td>\n",
       "      <td>0.000000</td>\n",
       "      <td>0.0</td>\n",
       "      <td>2.461980</td>\n",
       "      <td>0.000000</td>\n",
       "      <td>1.947617</td>\n",
       "      <td>0.000000</td>\n",
       "      <td>11.353660</td>\n",
       "      <td>0.0</td>\n",
       "      <td>...</td>\n",
       "      <td>0.000000</td>\n",
       "      <td>0.0</td>\n",
       "      <td>1.783348</td>\n",
       "      <td>0.286167</td>\n",
       "      <td>0.000000</td>\n",
       "      <td>0.742129</td>\n",
       "      <td>16.541655</td>\n",
       "      <td>0.0</td>\n",
       "      <td>0.042972</td>\n",
       "      <td>9.570284e-01</td>\n",
       "    </tr>\n",
       "  </tbody>\n",
       "</table>\n",
       "<p>10000 rows × 132 columns</p>\n",
       "</div>"
      ],
      "text/plain": [
       "      Class Class Name         0    1         2         3         4         5  \\\n",
       "30        6       frog  2.835151  0.0  0.000000  0.000000  0.000000  1.709839   \n",
       "9464      4       deer  4.637197  0.0  0.000000  0.765568  0.000000  1.899297   \n",
       "3147      2       bird  3.307898  0.0  0.000000  0.702663  0.216953  1.041007   \n",
       "8081      6       frog  1.879416  0.0  0.000000  0.000000  0.404161  1.114751   \n",
       "7921      4       deer  3.736378  0.0  0.000000  0.764361  0.007286  1.149406   \n",
       "...     ...        ...       ...  ...       ...       ...       ...       ...   \n",
       "4273      5        dog  0.000000  0.0  1.381143  0.000000  2.811807  0.000000   \n",
       "197       8       ship  0.000000  0.0  1.756638  0.012096  1.282238  0.000000   \n",
       "6970      0   airplane  0.000000  0.0  1.407517  0.220042  0.991480  0.264332   \n",
       "4546      2       bird  0.000000  0.0  1.959098  0.275595  1.573953  0.000000   \n",
       "3444      0   airplane  0.000000  0.0  2.461980  0.000000  1.947617  0.000000   \n",
       "\n",
       "              6    7  ...       120  121       122       123       124  \\\n",
       "30     0.000000  0.0  ...  6.234947  0.0  0.631592  1.698901  0.201041   \n",
       "9464   0.000000  0.0  ...  6.275325  0.0  0.951507  1.207959  0.286430   \n",
       "3147   0.000000  0.0  ...  5.181047  0.0  0.564435  1.696964  0.581962   \n",
       "8081   0.000000  0.0  ...  6.547514  0.0  1.220558  2.154855  0.657374   \n",
       "7921   0.000000  0.0  ...  4.813269  0.0  1.006828  0.858993  0.204094   \n",
       "...         ...  ...  ...       ...  ...       ...       ...       ...   \n",
       "4273   8.423048  0.0  ...  0.000000  0.0  3.010448  0.828045  0.189930   \n",
       "197    7.314494  0.0  ...  0.000000  0.0  1.012315  1.010661  0.571126   \n",
       "6970   4.252602  0.0  ...  0.000000  0.0  1.564474  1.070420  0.615348   \n",
       "4546   8.315866  0.0  ...  0.000000  0.0  1.521764  2.175414  1.394402   \n",
       "3444  11.353660  0.0  ...  0.000000  0.0  1.783348  0.286167  0.000000   \n",
       "\n",
       "           125        126  127  Cosine Similarity  Cosine Distance  \n",
       "30    1.530942   0.000000  0.0           1.000000     5.960464e-08  \n",
       "9464  2.337124   0.000000  0.0           0.969721     3.027874e-02  \n",
       "3147  0.851739   0.059615  0.0           0.966252     3.374773e-02  \n",
       "8081  0.909774   0.000000  0.0           0.964895     3.510463e-02  \n",
       "7921  1.960776   1.100106  0.0           0.962826     3.717417e-02  \n",
       "...        ...        ...  ...                ...              ...  \n",
       "4273  1.505419  14.942132  0.0           0.064210     9.357899e-01  \n",
       "197   1.018511   8.482018  0.0           0.063989     9.360114e-01  \n",
       "6970  0.584825   9.027497  0.0           0.061111     9.388890e-01  \n",
       "4546  1.819746  13.862460  0.0           0.058253     9.417473e-01  \n",
       "3444  0.742129  16.541655  0.0           0.042972     9.570284e-01  \n",
       "\n",
       "[10000 rows x 132 columns]"
      ]
     },
     "execution_count": 28,
     "metadata": {},
     "output_type": "execute_result"
    }
   ],
   "source": [
    "final_encoded_test_data_df.sort_values(by = ['Cosine Similarity'], ascending = False)"
   ]
  },
  {
   "cell_type": "code",
   "execution_count": 29,
   "metadata": {},
   "outputs": [],
   "source": [
    "cosine_index = final_encoded_test_data_df.sort_values(by = ['Cosine Similarity'], ascending = False).head(10).index"
   ]
  },
  {
   "cell_type": "code",
   "execution_count": 30,
   "metadata": {
    "scrolled": true
   },
   "outputs": [
    {
     "data": {
      "image/png": "[encoded data removed]",
      "text/plain": [
       "<Figure size 144x144 with 1 Axes>"
      ]
     },
     "metadata": {
      "needs_background": "light"
     },
     "output_type": "display_data"
    },
    {
     "data": {
      "image/png": "[encoded data removed]",
      "text/plain": [
       "<Figure size 144x144 with 1 Axes>"
      ]
     },
     "metadata": {
      "needs_background": "light"
     },
     "output_type": "display_data"
    },
    {
     "data": {
      "image/png": "[encoded data removed]",
      "text/plain": [
       "<Figure size 144x144 with 1 Axes>"
      ]
     },
     "metadata": {
      "needs_background": "light"
     },
     "output_type": "display_data"
    },
    {
     "data": {
      "image/png": "[encoded data removed]",
      "text/plain": [
       "<Figure size 144x144 with 1 Axes>"
      ]
     },
     "metadata": {
      "needs_background": "light"
     },
     "output_type": "display_data"
    },
    {
     "data": {
      "image/png": "[encoded data removed]",
      "text/plain": [
       "<Figure size 144x144 with 1 Axes>"
      ]
     },
     "metadata": {
      "needs_background": "light"
     },
     "output_type": "display_data"
    },
    {
     "data": {
      "image/png": "[encoded data removed]",
      "text/plain": [
       "<Figure size 144x144 with 1 Axes>"
      ]
     },
     "metadata": {
      "needs_background": "light"
     },
     "output_type": "display_data"
    },
    {
     "data": {
      "image/png": "[encoded data removed]",
      "text/plain": [
       "<Figure size 144x144 with 1 Axes>"
      ]
     },
     "metadata": {
      "needs_background": "light"
     },
     "output_type": "display_data"
    },
    {
     "data": {
      "image/png": "[encoded data removed]",
      "text/plain": [
       "<Figure size 144x144 with 1 Axes>"
      ]
     },
     "metadata": {
      "needs_background": "light"
     },
     "output_type": "display_data"
    },
    {
     "data": {
      "image/png": "[encoded data removed]",
      "text/plain": [
       "<Figure size 144x144 with 1 Axes>"
      ]
     },
     "metadata": {
      "needs_background": "light"
     },
     "output_type": "display_data"
    },
    {
     "data": {
      "image/png": "[encoded data removed]",
      "text/plain": [
       "<Figure size 144x144 with 1 Axes>"
      ]
     },
     "metadata": {
      "needs_background": "light"
     },
     "output_type": "display_data"
    }
   ],
   "source": [
    "for i in cosine_index:\n",
    "    plt.figure(figsize = (2, 2))\n",
    "    plt.imshow(x_test[i].reshape(32, 32, 3))\n",
    "    plt.xlabel(final_encoded_test_data_df['Class Name'][i] + ' with a Cosine Similarity of ' + str(final_encoded_test_data_df['Cosine Similarity'][i]) + ' from the queried image.')\n",
    "    plt.show()"
   ]
  },
  {
   "cell_type": "code",
   "execution_count": 31,
   "metadata": {},
   "outputs": [
    {
     "name": "stdout",
     "output_type": "stream",
     "text": [
      "10000\n"
     ]
    }
   ],
   "source": [
    "euclidean_distance = []\n",
    "\n",
    "for i in range(len(x_test)):\n",
    "    a = final_encoded_test_data_df.loc[final_encoded_test_data_df['Class Name'] == input_val].iloc[int(input_num), 2:]\n",
    "    b = final_encoded_test_data_df.iloc[i, 2:]\n",
    "    euc_dist = np.linalg.norm(a-b)\n",
    "    euclidean_distance.append(euc_dist)\n",
    "print(len(euclidean_distance))"
   ]
  },
  {
   "cell_type": "code",
   "execution_count": 32,
   "metadata": {},
   "outputs": [
    {
     "data": {
      "text/html": [
       "<div>\n",
       "<style scoped>\n",
       "    .dataframe tbody tr th:only-of-type {\n",
       "        vertical-align: middle;\n",
       "    }\n",
       "\n",
       "    .dataframe tbody tr th {\n",
       "        vertical-align: top;\n",
       "    }\n",
       "\n",
       "    .dataframe thead th {\n",
       "        text-align: right;\n",
       "    }\n",
       "</style>\n",
       "<table border=\"1\" class=\"dataframe\">\n",
       "  <thead>\n",
       "    <tr style=\"text-align: right;\">\n",
       "      <th></th>\n",
       "      <th>Class</th>\n",
       "      <th>Class Name</th>\n",
       "      <th>0</th>\n",
       "      <th>1</th>\n",
       "      <th>2</th>\n",
       "      <th>3</th>\n",
       "      <th>4</th>\n",
       "      <th>5</th>\n",
       "      <th>6</th>\n",
       "      <th>7</th>\n",
       "      <th>...</th>\n",
       "      <th>121</th>\n",
       "      <th>122</th>\n",
       "      <th>123</th>\n",
       "      <th>124</th>\n",
       "      <th>125</th>\n",
       "      <th>126</th>\n",
       "      <th>127</th>\n",
       "      <th>Cosine Similarity</th>\n",
       "      <th>Cosine Distance</th>\n",
       "      <th>Euclidean Distance</th>\n",
       "    </tr>\n",
       "  </thead>\n",
       "  <tbody>\n",
       "    <tr>\n",
       "      <th>30</th>\n",
       "      <td>6</td>\n",
       "      <td>frog</td>\n",
       "      <td>2.835151</td>\n",
       "      <td>0.0</td>\n",
       "      <td>0.000000</td>\n",
       "      <td>0.000000</td>\n",
       "      <td>0.000000</td>\n",
       "      <td>1.709839</td>\n",
       "      <td>0.000000</td>\n",
       "      <td>0.0</td>\n",
       "      <td>...</td>\n",
       "      <td>0.0</td>\n",
       "      <td>0.631592</td>\n",
       "      <td>1.698901</td>\n",
       "      <td>0.201041</td>\n",
       "      <td>1.530942</td>\n",
       "      <td>0.000000</td>\n",
       "      <td>0.0</td>\n",
       "      <td>1.000000</td>\n",
       "      <td>5.960464e-08</td>\n",
       "      <td>0.000000</td>\n",
       "    </tr>\n",
       "    <tr>\n",
       "      <th>8081</th>\n",
       "      <td>6</td>\n",
       "      <td>frog</td>\n",
       "      <td>1.879416</td>\n",
       "      <td>0.0</td>\n",
       "      <td>0.000000</td>\n",
       "      <td>0.000000</td>\n",
       "      <td>0.404161</td>\n",
       "      <td>1.114751</td>\n",
       "      <td>0.000000</td>\n",
       "      <td>0.0</td>\n",
       "      <td>...</td>\n",
       "      <td>0.0</td>\n",
       "      <td>1.220558</td>\n",
       "      <td>2.154855</td>\n",
       "      <td>0.657374</td>\n",
       "      <td>0.909774</td>\n",
       "      <td>0.000000</td>\n",
       "      <td>0.0</td>\n",
       "      <td>0.964895</td>\n",
       "      <td>3.510463e-02</td>\n",
       "      <td>5.360610</td>\n",
       "    </tr>\n",
       "    <tr>\n",
       "      <th>3147</th>\n",
       "      <td>2</td>\n",
       "      <td>bird</td>\n",
       "      <td>3.307898</td>\n",
       "      <td>0.0</td>\n",
       "      <td>0.000000</td>\n",
       "      <td>0.702663</td>\n",
       "      <td>0.216953</td>\n",
       "      <td>1.041007</td>\n",
       "      <td>0.000000</td>\n",
       "      <td>0.0</td>\n",
       "      <td>...</td>\n",
       "      <td>0.0</td>\n",
       "      <td>0.564435</td>\n",
       "      <td>1.696964</td>\n",
       "      <td>0.581962</td>\n",
       "      <td>0.851739</td>\n",
       "      <td>0.059615</td>\n",
       "      <td>0.0</td>\n",
       "      <td>0.966252</td>\n",
       "      <td>3.374773e-02</td>\n",
       "      <td>5.661786</td>\n",
       "    </tr>\n",
       "    <tr>\n",
       "      <th>9464</th>\n",
       "      <td>4</td>\n",
       "      <td>deer</td>\n",
       "      <td>4.637197</td>\n",
       "      <td>0.0</td>\n",
       "      <td>0.000000</td>\n",
       "      <td>0.765568</td>\n",
       "      <td>0.000000</td>\n",
       "      <td>1.899297</td>\n",
       "      <td>0.000000</td>\n",
       "      <td>0.0</td>\n",
       "      <td>...</td>\n",
       "      <td>0.0</td>\n",
       "      <td>0.951507</td>\n",
       "      <td>1.207959</td>\n",
       "      <td>0.286430</td>\n",
       "      <td>2.337124</td>\n",
       "      <td>0.000000</td>\n",
       "      <td>0.0</td>\n",
       "      <td>0.969721</td>\n",
       "      <td>3.027874e-02</td>\n",
       "      <td>5.720258</td>\n",
       "    </tr>\n",
       "    <tr>\n",
       "      <th>2595</th>\n",
       "      <td>4</td>\n",
       "      <td>deer</td>\n",
       "      <td>2.643344</td>\n",
       "      <td>0.0</td>\n",
       "      <td>0.000000</td>\n",
       "      <td>0.000000</td>\n",
       "      <td>0.000000</td>\n",
       "      <td>1.776514</td>\n",
       "      <td>0.000000</td>\n",
       "      <td>0.0</td>\n",
       "      <td>...</td>\n",
       "      <td>0.0</td>\n",
       "      <td>1.206879</td>\n",
       "      <td>1.400702</td>\n",
       "      <td>0.705789</td>\n",
       "      <td>1.425646</td>\n",
       "      <td>0.494707</td>\n",
       "      <td>0.0</td>\n",
       "      <td>0.960230</td>\n",
       "      <td>3.977048e-02</td>\n",
       "      <td>5.778261</td>\n",
       "    </tr>\n",
       "    <tr>\n",
       "      <th>...</th>\n",
       "      <td>...</td>\n",
       "      <td>...</td>\n",
       "      <td>...</td>\n",
       "      <td>...</td>\n",
       "      <td>...</td>\n",
       "      <td>...</td>\n",
       "      <td>...</td>\n",
       "      <td>...</td>\n",
       "      <td>...</td>\n",
       "      <td>...</td>\n",
       "      <td>...</td>\n",
       "      <td>...</td>\n",
       "      <td>...</td>\n",
       "      <td>...</td>\n",
       "      <td>...</td>\n",
       "      <td>...</td>\n",
       "      <td>...</td>\n",
       "      <td>...</td>\n",
       "      <td>...</td>\n",
       "      <td>...</td>\n",
       "      <td>...</td>\n",
       "    </tr>\n",
       "    <tr>\n",
       "      <th>3823</th>\n",
       "      <td>0</td>\n",
       "      <td>airplane</td>\n",
       "      <td>0.000000</td>\n",
       "      <td>0.0</td>\n",
       "      <td>2.502129</td>\n",
       "      <td>0.000000</td>\n",
       "      <td>2.023693</td>\n",
       "      <td>0.000000</td>\n",
       "      <td>11.385929</td>\n",
       "      <td>0.0</td>\n",
       "      <td>...</td>\n",
       "      <td>0.0</td>\n",
       "      <td>3.113128</td>\n",
       "      <td>0.695481</td>\n",
       "      <td>1.342817</td>\n",
       "      <td>0.808494</td>\n",
       "      <td>16.079105</td>\n",
       "      <td>0.0</td>\n",
       "      <td>0.083848</td>\n",
       "      <td>9.161520e-01</td>\n",
       "      <td>59.425675</td>\n",
       "    </tr>\n",
       "    <tr>\n",
       "      <th>8903</th>\n",
       "      <td>0</td>\n",
       "      <td>airplane</td>\n",
       "      <td>0.000000</td>\n",
       "      <td>0.0</td>\n",
       "      <td>2.529732</td>\n",
       "      <td>0.000000</td>\n",
       "      <td>2.025884</td>\n",
       "      <td>0.000000</td>\n",
       "      <td>11.497017</td>\n",
       "      <td>0.0</td>\n",
       "      <td>...</td>\n",
       "      <td>0.0</td>\n",
       "      <td>3.242316</td>\n",
       "      <td>0.551124</td>\n",
       "      <td>0.928901</td>\n",
       "      <td>1.054273</td>\n",
       "      <td>16.397453</td>\n",
       "      <td>0.0</td>\n",
       "      <td>0.067661</td>\n",
       "      <td>9.323394e-01</td>\n",
       "      <td>59.696075</td>\n",
       "    </tr>\n",
       "    <tr>\n",
       "      <th>1078</th>\n",
       "      <td>0</td>\n",
       "      <td>airplane</td>\n",
       "      <td>0.000000</td>\n",
       "      <td>0.0</td>\n",
       "      <td>2.522787</td>\n",
       "      <td>0.000000</td>\n",
       "      <td>2.054486</td>\n",
       "      <td>0.000000</td>\n",
       "      <td>11.527015</td>\n",
       "      <td>0.0</td>\n",
       "      <td>...</td>\n",
       "      <td>0.0</td>\n",
       "      <td>4.834627</td>\n",
       "      <td>0.705354</td>\n",
       "      <td>1.055220</td>\n",
       "      <td>0.516528</td>\n",
       "      <td>16.266027</td>\n",
       "      <td>0.0</td>\n",
       "      <td>0.087623</td>\n",
       "      <td>9.123766e-01</td>\n",
       "      <td>60.470973</td>\n",
       "    </tr>\n",
       "    <tr>\n",
       "      <th>7803</th>\n",
       "      <td>0</td>\n",
       "      <td>airplane</td>\n",
       "      <td>0.000000</td>\n",
       "      <td>0.0</td>\n",
       "      <td>2.468009</td>\n",
       "      <td>0.000000</td>\n",
       "      <td>2.073180</td>\n",
       "      <td>0.000000</td>\n",
       "      <td>11.316566</td>\n",
       "      <td>0.0</td>\n",
       "      <td>...</td>\n",
       "      <td>0.0</td>\n",
       "      <td>3.918683</td>\n",
       "      <td>1.671607</td>\n",
       "      <td>0.073024</td>\n",
       "      <td>3.319174</td>\n",
       "      <td>15.963008</td>\n",
       "      <td>0.0</td>\n",
       "      <td>0.069721</td>\n",
       "      <td>9.302788e-01</td>\n",
       "      <td>62.464577</td>\n",
       "    </tr>\n",
       "    <tr>\n",
       "      <th>3444</th>\n",
       "      <td>0</td>\n",
       "      <td>airplane</td>\n",
       "      <td>0.000000</td>\n",
       "      <td>0.0</td>\n",
       "      <td>2.461980</td>\n",
       "      <td>0.000000</td>\n",
       "      <td>1.947617</td>\n",
       "      <td>0.000000</td>\n",
       "      <td>11.353660</td>\n",
       "      <td>0.0</td>\n",
       "      <td>...</td>\n",
       "      <td>0.0</td>\n",
       "      <td>1.783348</td>\n",
       "      <td>0.286167</td>\n",
       "      <td>0.000000</td>\n",
       "      <td>0.742129</td>\n",
       "      <td>16.541655</td>\n",
       "      <td>0.0</td>\n",
       "      <td>0.042972</td>\n",
       "      <td>9.570284e-01</td>\n",
       "      <td>64.422284</td>\n",
       "    </tr>\n",
       "  </tbody>\n",
       "</table>\n",
       "<p>10000 rows × 133 columns</p>\n",
       "</div>"
      ],
      "text/plain": [
       "      Class Class Name         0    1         2         3         4         5  \\\n",
       "30        6       frog  2.835151  0.0  0.000000  0.000000  0.000000  1.709839   \n",
       "8081      6       frog  1.879416  0.0  0.000000  0.000000  0.404161  1.114751   \n",
       "3147      2       bird  3.307898  0.0  0.000000  0.702663  0.216953  1.041007   \n",
       "9464      4       deer  4.637197  0.0  0.000000  0.765568  0.000000  1.899297   \n",
       "2595      4       deer  2.643344  0.0  0.000000  0.000000  0.000000  1.776514   \n",
       "...     ...        ...       ...  ...       ...       ...       ...       ...   \n",
       "3823      0   airplane  0.000000  0.0  2.502129  0.000000  2.023693  0.000000   \n",
       "8903      0   airplane  0.000000  0.0  2.529732  0.000000  2.025884  0.000000   \n",
       "1078      0   airplane  0.000000  0.0  2.522787  0.000000  2.054486  0.000000   \n",
       "7803      0   airplane  0.000000  0.0  2.468009  0.000000  2.073180  0.000000   \n",
       "3444      0   airplane  0.000000  0.0  2.461980  0.000000  1.947617  0.000000   \n",
       "\n",
       "              6    7  ...  121       122       123       124       125  \\\n",
       "30     0.000000  0.0  ...  0.0  0.631592  1.698901  0.201041  1.530942   \n",
       "8081   0.000000  0.0  ...  0.0  1.220558  2.154855  0.657374  0.909774   \n",
       "3147   0.000000  0.0  ...  0.0  0.564435  1.696964  0.581962  0.851739   \n",
       "9464   0.000000  0.0  ...  0.0  0.951507  1.207959  0.286430  2.337124   \n",
       "2595   0.000000  0.0  ...  0.0  1.206879  1.400702  0.705789  1.425646   \n",
       "...         ...  ...  ...  ...       ...       ...       ...       ...   \n",
       "3823  11.385929  0.0  ...  0.0  3.113128  0.695481  1.342817  0.808494   \n",
       "8903  11.497017  0.0  ...  0.0  3.242316  0.551124  0.928901  1.054273   \n",
       "1078  11.527015  0.0  ...  0.0  4.834627  0.705354  1.055220  0.516528   \n",
       "7803  11.316566  0.0  ...  0.0  3.918683  1.671607  0.073024  3.319174   \n",
       "3444  11.353660  0.0  ...  0.0  1.783348  0.286167  0.000000  0.742129   \n",
       "\n",
       "            126  127  Cosine Similarity  Cosine Distance  Euclidean Distance  \n",
       "30     0.000000  0.0           1.000000     5.960464e-08            0.000000  \n",
       "8081   0.000000  0.0           0.964895     3.510463e-02            5.360610  \n",
       "3147   0.059615  0.0           0.966252     3.374773e-02            5.661786  \n",
       "9464   0.000000  0.0           0.969721     3.027874e-02            5.720258  \n",
       "2595   0.494707  0.0           0.960230     3.977048e-02            5.778261  \n",
       "...         ...  ...                ...              ...                 ...  \n",
       "3823  16.079105  0.0           0.083848     9.161520e-01           59.425675  \n",
       "8903  16.397453  0.0           0.067661     9.323394e-01           59.696075  \n",
       "1078  16.266027  0.0           0.087623     9.123766e-01           60.470973  \n",
       "7803  15.963008  0.0           0.069721     9.302788e-01           62.464577  \n",
       "3444  16.541655  0.0           0.042972     9.570284e-01           64.422284  \n",
       "\n",
       "[10000 rows x 133 columns]"
      ]
     },
     "execution_count": 32,
     "metadata": {},
     "output_type": "execute_result"
    }
   ],
   "source": [
    "final_encoded_test_data_df['Euclidean Distance'] = euclidean_distance\n",
    "final_encoded_test_data_df.sort_values(by = ['Euclidean Distance'])"
   ]
  },
  {
   "cell_type": "code",
   "execution_count": 33,
   "metadata": {
    "scrolled": true
   },
   "outputs": [
    {
     "data": {
      "image/png": "[encoded data removed]",
      "text/plain": [
       "<Figure size 144x144 with 1 Axes>"
      ]
     },
     "metadata": {
      "needs_background": "light"
     },
     "output_type": "display_data"
    },
    {
     "data": {
      "image/png": "[encoded data removed]",
      "text/plain": [
       "<Figure size 144x144 with 1 Axes>"
      ]
     },
     "metadata": {
      "needs_background": "light"
     },
     "output_type": "display_data"
    },
    {
     "data": {
      "image/png": "[encoded data removed]",
      "text/plain": [
       "<Figure size 144x144 with 1 Axes>"
      ]
     },
     "metadata": {
      "needs_background": "light"
     },
     "output_type": "display_data"
    },
    {
     "data": {
      "image/png": "[encoded data removed]",
      "text/plain": [
       "<Figure size 144x144 with 1 Axes>"
      ]
     },
     "metadata": {
      "needs_background": "light"
     },
     "output_type": "display_data"
    },
    {
     "data": {
      "image/png": "[encoded data removed]",
      "text/plain": [
       "<Figure size 144x144 with 1 Axes>"
      ]
     },
     "metadata": {
      "needs_background": "light"
     },
     "output_type": "display_data"
    },
    {
     "data": {
      "image/png": "[encoded data removed]",
      "text/plain": [
       "<Figure size 144x144 with 1 Axes>"
      ]
     },
     "metadata": {
      "needs_background": "light"
     },
     "output_type": "display_data"
    },
    {
     "data": {
      "image/png": "[encoded data removed]",
      "text/plain": [
       "<Figure size 144x144 with 1 Axes>"
      ]
     },
     "metadata": {
      "needs_background": "light"
     },
     "output_type": "display_data"
    },
    {
     "data": {
      "image/png": "[encoded data removed]",
      "text/plain": [
       "<Figure size 144x144 with 1 Axes>"
      ]
     },
     "metadata": {
      "needs_background": "light"
     },
     "output_type": "display_data"
    },
    {
     "data": {
      "image/png": "[encoded data removed]",
      "text/plain": [
       "<Figure size 144x144 with 1 Axes>"
      ]
     },
     "metadata": {
      "needs_background": "light"
     },
     "output_type": "display_data"
    },
    {
     "data": {
      "image/png": "[encoded data removed]",
      "text/plain": [
       "<Figure size 144x144 with 1 Axes>"
      ]
     },
     "metadata": {
      "needs_background": "light"
     },
     "output_type": "display_data"
    }
   ],
   "source": [
    "euclidean_index = final_encoded_test_data_df.sort_values(by = ['Euclidean Distance']).head(10).index\n",
    "\n",
    "for i in euclidean_index:\n",
    "    plt.figure(figsize = (2, 2))\n",
    "    plt.imshow(x_test[i].reshape(32, 32, 3))\n",
    "    plt.xlabel(final_encoded_test_data_df['Class Name'][i] + ' with an Euclidean Distance of ' + str(final_encoded_test_data_df['Euclidean Distance'][i]) + ' from the queried image.')\n",
    "    plt.show()"
   ]
  },
  {
   "cell_type": "code",
   "execution_count": null,
   "metadata": {},
   "outputs": [],
   "source": []
  }
 ],
 "metadata": {
  "kernelspec": {
   "display_name": "Python 3",
   "language": "python",
   "name": "python3"
  },
  "language_info": {
   "codemirror_mode": {
    "name": "ipython",
    "version": 3
   },
   "file_extension": ".py",
   "mimetype": "text/x-python",
   "name": "python",
   "nbconvert_exporter": "python",
   "pygments_lexer": "ipython3",
   "version": "3.6.9"
  }
 },
 "nbformat": 4,
 "nbformat_minor": 2
}
