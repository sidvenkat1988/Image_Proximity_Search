{
 "cells": [
  {
   "cell_type": "code",
   "execution_count": 2,
   "metadata": {},
   "outputs": [],
   "source": [
    "from keras.layers import Input, Dense, Conv2D, MaxPooling2D, UpSampling2D\n",
    "from keras.models import Model\n",
    "\n",
    "import numpy as np\n",
    "import pandas as pd\n",
    "import matplotlib.pyplot as plt\n",
    "%matplotlib inline"
   ]
  },
  {
   "cell_type": "code",
   "execution_count": 3,
   "metadata": {},
   "outputs": [
    {
     "name": "stdout",
     "output_type": "stream",
     "text": [
      "(50000, 3074)\n",
      "(10000, 3074)\n"
     ]
    }
   ],
   "source": [
    "datadir = '/Users/sidv88/Documents/Data_Management_2/Data/'\n",
    "train_data = pd.read_csv(datadir + 'train_rgb.csv')\n",
    "test_data = pd.read_csv(datadir + 'test_rgb.csv')\n",
    "print(train_data.shape)\n",
    "print(test_data.shape)"
   ]
  },
  {
   "cell_type": "code",
   "execution_count": 4,
   "metadata": {},
   "outputs": [
    {
     "data": {
      "text/html": [
       "<div>\n",
       "<style scoped>\n",
       "    .dataframe tbody tr th:only-of-type {\n",
       "        vertical-align: middle;\n",
       "    }\n",
       "\n",
       "    .dataframe tbody tr th {\n",
       "        vertical-align: top;\n",
       "    }\n",
       "\n",
       "    .dataframe thead th {\n",
       "        text-align: right;\n",
       "    }\n",
       "</style>\n",
       "<table border=\"1\" class=\"dataframe\">\n",
       "  <thead>\n",
       "    <tr style=\"text-align: right;\">\n",
       "      <th></th>\n",
       "      <th>Class</th>\n",
       "      <th>Class Name</th>\n",
       "      <th>0</th>\n",
       "      <th>1</th>\n",
       "      <th>2</th>\n",
       "      <th>3</th>\n",
       "      <th>4</th>\n",
       "      <th>5</th>\n",
       "      <th>6</th>\n",
       "      <th>7</th>\n",
       "      <th>...</th>\n",
       "      <th>3062</th>\n",
       "      <th>3063</th>\n",
       "      <th>3064</th>\n",
       "      <th>3065</th>\n",
       "      <th>3066</th>\n",
       "      <th>3067</th>\n",
       "      <th>3068</th>\n",
       "      <th>3069</th>\n",
       "      <th>3070</th>\n",
       "      <th>3071</th>\n",
       "    </tr>\n",
       "  </thead>\n",
       "  <tbody>\n",
       "    <tr>\n",
       "      <th>0</th>\n",
       "      <td>6</td>\n",
       "      <td>frog</td>\n",
       "      <td>59</td>\n",
       "      <td>62</td>\n",
       "      <td>63</td>\n",
       "      <td>43</td>\n",
       "      <td>46</td>\n",
       "      <td>45</td>\n",
       "      <td>50</td>\n",
       "      <td>48</td>\n",
       "      <td>...</td>\n",
       "      <td>104</td>\n",
       "      <td>216</td>\n",
       "      <td>184</td>\n",
       "      <td>140</td>\n",
       "      <td>151</td>\n",
       "      <td>118</td>\n",
       "      <td>84</td>\n",
       "      <td>123</td>\n",
       "      <td>92</td>\n",
       "      <td>72</td>\n",
       "    </tr>\n",
       "    <tr>\n",
       "      <th>1</th>\n",
       "      <td>9</td>\n",
       "      <td>truck</td>\n",
       "      <td>154</td>\n",
       "      <td>177</td>\n",
       "      <td>187</td>\n",
       "      <td>126</td>\n",
       "      <td>137</td>\n",
       "      <td>136</td>\n",
       "      <td>105</td>\n",
       "      <td>104</td>\n",
       "      <td>...</td>\n",
       "      <td>136</td>\n",
       "      <td>143</td>\n",
       "      <td>133</td>\n",
       "      <td>139</td>\n",
       "      <td>143</td>\n",
       "      <td>134</td>\n",
       "      <td>142</td>\n",
       "      <td>143</td>\n",
       "      <td>133</td>\n",
       "      <td>144</td>\n",
       "    </tr>\n",
       "    <tr>\n",
       "      <th>2</th>\n",
       "      <td>9</td>\n",
       "      <td>truck</td>\n",
       "      <td>255</td>\n",
       "      <td>255</td>\n",
       "      <td>255</td>\n",
       "      <td>253</td>\n",
       "      <td>253</td>\n",
       "      <td>253</td>\n",
       "      <td>253</td>\n",
       "      <td>253</td>\n",
       "      <td>...</td>\n",
       "      <td>79</td>\n",
       "      <td>78</td>\n",
       "      <td>85</td>\n",
       "      <td>83</td>\n",
       "      <td>79</td>\n",
       "      <td>85</td>\n",
       "      <td>83</td>\n",
       "      <td>80</td>\n",
       "      <td>86</td>\n",
       "      <td>84</td>\n",
       "    </tr>\n",
       "    <tr>\n",
       "      <th>3</th>\n",
       "      <td>4</td>\n",
       "      <td>deer</td>\n",
       "      <td>28</td>\n",
       "      <td>25</td>\n",
       "      <td>10</td>\n",
       "      <td>37</td>\n",
       "      <td>34</td>\n",
       "      <td>19</td>\n",
       "      <td>38</td>\n",
       "      <td>35</td>\n",
       "      <td>...</td>\n",
       "      <td>38</td>\n",
       "      <td>54</td>\n",
       "      <td>47</td>\n",
       "      <td>28</td>\n",
       "      <td>63</td>\n",
       "      <td>56</td>\n",
       "      <td>37</td>\n",
       "      <td>72</td>\n",
       "      <td>65</td>\n",
       "      <td>46</td>\n",
       "    </tr>\n",
       "    <tr>\n",
       "      <th>4</th>\n",
       "      <td>1</td>\n",
       "      <td>automobile</td>\n",
       "      <td>170</td>\n",
       "      <td>180</td>\n",
       "      <td>198</td>\n",
       "      <td>168</td>\n",
       "      <td>178</td>\n",
       "      <td>196</td>\n",
       "      <td>177</td>\n",
       "      <td>185</td>\n",
       "      <td>...</td>\n",
       "      <td>78</td>\n",
       "      <td>75</td>\n",
       "      <td>79</td>\n",
       "      <td>82</td>\n",
       "      <td>71</td>\n",
       "      <td>75</td>\n",
       "      <td>78</td>\n",
       "      <td>73</td>\n",
       "      <td>77</td>\n",
       "      <td>80</td>\n",
       "    </tr>\n",
       "  </tbody>\n",
       "</table>\n",
       "<p>5 rows × 3074 columns</p>\n",
       "</div>"
      ],
      "text/plain": [
       "   Class  Class Name    0    1    2    3    4    5    6    7  ...  3062  3063  \\\n",
       "0      6        frog   59   62   63   43   46   45   50   48  ...   104   216   \n",
       "1      9       truck  154  177  187  126  137  136  105  104  ...   136   143   \n",
       "2      9       truck  255  255  255  253  253  253  253  253  ...    79    78   \n",
       "3      4        deer   28   25   10   37   34   19   38   35  ...    38    54   \n",
       "4      1  automobile  170  180  198  168  178  196  177  185  ...    78    75   \n",
       "\n",
       "   3064  3065  3066  3067  3068  3069  3070  3071  \n",
       "0   184   140   151   118    84   123    92    72  \n",
       "1   133   139   143   134   142   143   133   144  \n",
       "2    85    83    79    85    83    80    86    84  \n",
       "3    47    28    63    56    37    72    65    46  \n",
       "4    79    82    71    75    78    73    77    80  \n",
       "\n",
       "[5 rows x 3074 columns]"
      ]
     },
     "execution_count": 4,
     "metadata": {},
     "output_type": "execute_result"
    }
   ],
   "source": [
    "train_data.head()"
   ]
  },
  {
   "cell_type": "code",
   "execution_count": 5,
   "metadata": {},
   "outputs": [
    {
     "data": {
      "text/html": [
       "<div>\n",
       "<style scoped>\n",
       "    .dataframe tbody tr th:only-of-type {\n",
       "        vertical-align: middle;\n",
       "    }\n",
       "\n",
       "    .dataframe tbody tr th {\n",
       "        vertical-align: top;\n",
       "    }\n",
       "\n",
       "    .dataframe thead th {\n",
       "        text-align: right;\n",
       "    }\n",
       "</style>\n",
       "<table border=\"1\" class=\"dataframe\">\n",
       "  <thead>\n",
       "    <tr style=\"text-align: right;\">\n",
       "      <th></th>\n",
       "      <th>Class</th>\n",
       "      <th>Class Name</th>\n",
       "      <th>0</th>\n",
       "      <th>1</th>\n",
       "      <th>2</th>\n",
       "      <th>3</th>\n",
       "      <th>4</th>\n",
       "      <th>5</th>\n",
       "      <th>6</th>\n",
       "      <th>7</th>\n",
       "      <th>...</th>\n",
       "      <th>3062</th>\n",
       "      <th>3063</th>\n",
       "      <th>3064</th>\n",
       "      <th>3065</th>\n",
       "      <th>3066</th>\n",
       "      <th>3067</th>\n",
       "      <th>3068</th>\n",
       "      <th>3069</th>\n",
       "      <th>3070</th>\n",
       "      <th>3071</th>\n",
       "    </tr>\n",
       "  </thead>\n",
       "  <tbody>\n",
       "    <tr>\n",
       "      <th>0</th>\n",
       "      <td>3</td>\n",
       "      <td>cat</td>\n",
       "      <td>158</td>\n",
       "      <td>112</td>\n",
       "      <td>49</td>\n",
       "      <td>159</td>\n",
       "      <td>111</td>\n",
       "      <td>47</td>\n",
       "      <td>165</td>\n",
       "      <td>116</td>\n",
       "      <td>...</td>\n",
       "      <td>145</td>\n",
       "      <td>24</td>\n",
       "      <td>77</td>\n",
       "      <td>124</td>\n",
       "      <td>34</td>\n",
       "      <td>84</td>\n",
       "      <td>129</td>\n",
       "      <td>21</td>\n",
       "      <td>67</td>\n",
       "      <td>110</td>\n",
       "    </tr>\n",
       "    <tr>\n",
       "      <th>1</th>\n",
       "      <td>8</td>\n",
       "      <td>ship</td>\n",
       "      <td>235</td>\n",
       "      <td>235</td>\n",
       "      <td>235</td>\n",
       "      <td>231</td>\n",
       "      <td>231</td>\n",
       "      <td>231</td>\n",
       "      <td>232</td>\n",
       "      <td>232</td>\n",
       "      <td>...</td>\n",
       "      <td>163</td>\n",
       "      <td>168</td>\n",
       "      <td>183</td>\n",
       "      <td>178</td>\n",
       "      <td>180</td>\n",
       "      <td>195</td>\n",
       "      <td>191</td>\n",
       "      <td>186</td>\n",
       "      <td>200</td>\n",
       "      <td>199</td>\n",
       "    </tr>\n",
       "    <tr>\n",
       "      <th>2</th>\n",
       "      <td>8</td>\n",
       "      <td>ship</td>\n",
       "      <td>158</td>\n",
       "      <td>190</td>\n",
       "      <td>222</td>\n",
       "      <td>158</td>\n",
       "      <td>187</td>\n",
       "      <td>218</td>\n",
       "      <td>139</td>\n",
       "      <td>166</td>\n",
       "      <td>...</td>\n",
       "      <td>37</td>\n",
       "      <td>5</td>\n",
       "      <td>6</td>\n",
       "      <td>8</td>\n",
       "      <td>4</td>\n",
       "      <td>5</td>\n",
       "      <td>3</td>\n",
       "      <td>7</td>\n",
       "      <td>8</td>\n",
       "      <td>7</td>\n",
       "    </tr>\n",
       "    <tr>\n",
       "      <th>3</th>\n",
       "      <td>0</td>\n",
       "      <td>airplane</td>\n",
       "      <td>155</td>\n",
       "      <td>156</td>\n",
       "      <td>149</td>\n",
       "      <td>167</td>\n",
       "      <td>176</td>\n",
       "      <td>187</td>\n",
       "      <td>176</td>\n",
       "      <td>179</td>\n",
       "      <td>...</td>\n",
       "      <td>53</td>\n",
       "      <td>60</td>\n",
       "      <td>63</td>\n",
       "      <td>50</td>\n",
       "      <td>64</td>\n",
       "      <td>65</td>\n",
       "      <td>52</td>\n",
       "      <td>73</td>\n",
       "      <td>68</td>\n",
       "      <td>50</td>\n",
       "    </tr>\n",
       "    <tr>\n",
       "      <th>4</th>\n",
       "      <td>6</td>\n",
       "      <td>frog</td>\n",
       "      <td>65</td>\n",
       "      <td>68</td>\n",
       "      <td>50</td>\n",
       "      <td>70</td>\n",
       "      <td>81</td>\n",
       "      <td>64</td>\n",
       "      <td>48</td>\n",
       "      <td>64</td>\n",
       "      <td>...</td>\n",
       "      <td>147</td>\n",
       "      <td>143</td>\n",
       "      <td>179</td>\n",
       "      <td>136</td>\n",
       "      <td>154</td>\n",
       "      <td>185</td>\n",
       "      <td>146</td>\n",
       "      <td>128</td>\n",
       "      <td>156</td>\n",
       "      <td>117</td>\n",
       "    </tr>\n",
       "  </tbody>\n",
       "</table>\n",
       "<p>5 rows × 3074 columns</p>\n",
       "</div>"
      ],
      "text/plain": [
       "   Class Class Name    0    1    2    3    4    5    6    7  ...  3062  3063  \\\n",
       "0      3        cat  158  112   49  159  111   47  165  116  ...   145    24   \n",
       "1      8       ship  235  235  235  231  231  231  232  232  ...   163   168   \n",
       "2      8       ship  158  190  222  158  187  218  139  166  ...    37     5   \n",
       "3      0   airplane  155  156  149  167  176  187  176  179  ...    53    60   \n",
       "4      6       frog   65   68   50   70   81   64   48   64  ...   147   143   \n",
       "\n",
       "   3064  3065  3066  3067  3068  3069  3070  3071  \n",
       "0    77   124    34    84   129    21    67   110  \n",
       "1   183   178   180   195   191   186   200   199  \n",
       "2     6     8     4     5     3     7     8     7  \n",
       "3    63    50    64    65    52    73    68    50  \n",
       "4   179   136   154   185   146   128   156   117  \n",
       "\n",
       "[5 rows x 3074 columns]"
      ]
     },
     "execution_count": 5,
     "metadata": {},
     "output_type": "execute_result"
    }
   ],
   "source": [
    "test_data.head()"
   ]
  },
  {
   "cell_type": "code",
   "execution_count": 6,
   "metadata": {},
   "outputs": [
    {
     "name": "stdout",
     "output_type": "stream",
     "text": [
      "(50000, 3072)\n",
      "(50000, 2)\n"
     ]
    }
   ],
   "source": [
    "x_train = train_data.iloc[:, 2:]\n",
    "print(x_train.shape)\n",
    "y_train = train_data.iloc[:, [0, 1]]\n",
    "print(y_train.shape)"
   ]
  },
  {
   "cell_type": "code",
   "execution_count": 7,
   "metadata": {},
   "outputs": [
    {
     "name": "stdout",
     "output_type": "stream",
     "text": [
      "(10000, 3072)\n",
      "(10000, 2)\n"
     ]
    }
   ],
   "source": [
    "x_test = test_data.iloc[:, 2:]\n",
    "print(x_test.shape)\n",
    "y_test = test_data.iloc[:, [0, 1]]\n",
    "print(y_test.shape)"
   ]
  },
  {
   "cell_type": "code",
   "execution_count": 8,
   "metadata": {},
   "outputs": [],
   "source": [
    "x_train = np.array(x_train)\n",
    "x_test = np.array(x_test)"
   ]
  },
  {
   "cell_type": "code",
   "execution_count": 9,
   "metadata": {},
   "outputs": [
    {
     "name": "stdout",
     "output_type": "stream",
     "text": [
      "(50000, 3072)\n",
      "(10000, 3072)\n"
     ]
    }
   ],
   "source": [
    "print(x_train.shape)\n",
    "print(x_test.shape)"
   ]
  },
  {
   "cell_type": "code",
   "execution_count": 10,
   "metadata": {},
   "outputs": [
    {
     "name": "stdout",
     "output_type": "stream",
     "text": [
      "(50000, 32, 32, 3)\n",
      "(10000, 32, 32, 3)\n"
     ]
    }
   ],
   "source": [
    "x_train = x_train.reshape(len(x_train), 32, 32, 3)\n",
    "x_test = x_test.reshape(len(x_test), 32, 32, 3)\n",
    "print(x_train.shape)\n",
    "print(x_test.shape)"
   ]
  },
  {
   "cell_type": "code",
   "execution_count": 11,
   "metadata": {},
   "outputs": [
    {
     "name": "stdout",
     "output_type": "stream",
     "text": [
      "(50000, 32, 32, 3)\n",
      "(10000, 32, 32, 3)\n"
     ]
    }
   ],
   "source": [
    "x_train = x_train.astype('float32')/255\n",
    "x_test = x_test.astype('float32')/255\n",
    "print(x_train.shape)\n",
    "print(x_test.shape)"
   ]
  },
  {
   "cell_type": "code",
   "execution_count": 12,
   "metadata": {},
   "outputs": [],
   "source": [
    "input_img = Input(shape = (32, 32, 3))\n",
    "\n",
    "\n",
    "encoded = Conv2D(16, (3, 3), activation = 'relu', padding = 'same')(input_img)\n",
    "encoded = MaxPooling2D((2, 2), padding = 'same')(encoded)\n",
    "encoded = Conv2D(8, (3, 3), activation = 'relu', padding = 'same')(encoded)\n",
    "encoded = MaxPooling2D((2, 2), padding = 'same')(encoded)\n",
    "encoded = Conv2D(8, (3, 3), activation = 'relu', padding = 'same')(encoded)\n",
    "encoded = MaxPooling2D((2, 2), padding = 'same')(encoded)\n",
    "\n",
    "decoded = Conv2D(8, (3, 3), activation = 'relu', padding = 'same')(encoded)\n",
    "decoded = UpSampling2D((2, 2))(decoded)\n",
    "decoded = Conv2D(8, (3, 3), activation = 'relu', padding = 'same')(decoded)\n",
    "decoded = UpSampling2D((2, 2))(decoded)\n",
    "decoded = Conv2D(16, (3, 3), activation = 'relu', padding = 'same')(decoded)\n",
    "decoded = UpSampling2D((2, 2))(decoded)\n",
    "\n",
    "decoded = Conv2D(3, (3, 3), activation = 'sigmoid', padding = 'same')(decoded)"
   ]
  },
  {
   "cell_type": "code",
   "execution_count": 13,
   "metadata": {},
   "outputs": [],
   "source": [
    "autoencoder = Model(input_img, decoded)\n",
    "encoder = Model(input_img, encoded)"
   ]
  },
  {
   "cell_type": "code",
   "execution_count": 14,
   "metadata": {
    "scrolled": true
   },
   "outputs": [
    {
     "name": "stdout",
     "output_type": "stream",
     "text": [
      "Model: \"model_1\"\n",
      "_________________________________________________________________\n",
      "Layer (type)                 Output Shape              Param #   \n",
      "=================================================================\n",
      "input_1 (InputLayer)         (None, 32, 32, 3)         0         \n",
      "_________________________________________________________________\n",
      "conv2d_1 (Conv2D)            (None, 32, 32, 16)        448       \n",
      "_________________________________________________________________\n",
      "max_pooling2d_1 (MaxPooling2 (None, 16, 16, 16)        0         \n",
      "_________________________________________________________________\n",
      "conv2d_2 (Conv2D)            (None, 16, 16, 8)         1160      \n",
      "_________________________________________________________________\n",
      "max_pooling2d_2 (MaxPooling2 (None, 8, 8, 8)           0         \n",
      "_________________________________________________________________\n",
      "conv2d_3 (Conv2D)            (None, 8, 8, 8)           584       \n",
      "_________________________________________________________________\n",
      "max_pooling2d_3 (MaxPooling2 (None, 4, 4, 8)           0         \n",
      "_________________________________________________________________\n",
      "conv2d_4 (Conv2D)            (None, 4, 4, 8)           584       \n",
      "_________________________________________________________________\n",
      "up_sampling2d_1 (UpSampling2 (None, 8, 8, 8)           0         \n",
      "_________________________________________________________________\n",
      "conv2d_5 (Conv2D)            (None, 8, 8, 8)           584       \n",
      "_________________________________________________________________\n",
      "up_sampling2d_2 (UpSampling2 (None, 16, 16, 8)         0         \n",
      "_________________________________________________________________\n",
      "conv2d_6 (Conv2D)            (None, 16, 16, 16)        1168      \n",
      "_________________________________________________________________\n",
      "up_sampling2d_3 (UpSampling2 (None, 32, 32, 16)        0         \n",
      "_________________________________________________________________\n",
      "conv2d_7 (Conv2D)            (None, 32, 32, 3)         435       \n",
      "=================================================================\n",
      "Total params: 4,963\n",
      "Trainable params: 4,963\n",
      "Non-trainable params: 0\n",
      "_________________________________________________________________\n"
     ]
    }
   ],
   "source": [
    "autoencoder.summary()"
   ]
  },
  {
   "cell_type": "code",
   "execution_count": 15,
   "metadata": {
    "scrolled": true
   },
   "outputs": [
    {
     "name": "stdout",
     "output_type": "stream",
     "text": [
      "Model: \"model_2\"\n",
      "_________________________________________________________________\n",
      "Layer (type)                 Output Shape              Param #   \n",
      "=================================================================\n",
      "input_1 (InputLayer)         (None, 32, 32, 3)         0         \n",
      "_________________________________________________________________\n",
      "conv2d_1 (Conv2D)            (None, 32, 32, 16)        448       \n",
      "_________________________________________________________________\n",
      "max_pooling2d_1 (MaxPooling2 (None, 16, 16, 16)        0         \n",
      "_________________________________________________________________\n",
      "conv2d_2 (Conv2D)            (None, 16, 16, 8)         1160      \n",
      "_________________________________________________________________\n",
      "max_pooling2d_2 (MaxPooling2 (None, 8, 8, 8)           0         \n",
      "_________________________________________________________________\n",
      "conv2d_3 (Conv2D)            (None, 8, 8, 8)           584       \n",
      "_________________________________________________________________\n",
      "max_pooling2d_3 (MaxPooling2 (None, 4, 4, 8)           0         \n",
      "=================================================================\n",
      "Total params: 2,192\n",
      "Trainable params: 2,192\n",
      "Non-trainable params: 0\n",
      "_________________________________________________________________\n"
     ]
    }
   ],
   "source": [
    "encoder.summary()"
   ]
  },
  {
   "cell_type": "code",
   "execution_count": 16,
   "metadata": {
    "scrolled": true
   },
   "outputs": [
    {
     "name": "stdout",
     "output_type": "stream",
     "text": [
      "Train on 50000 samples, validate on 10000 samples\n",
      "Epoch 1/50\n",
      "50000/50000 [==============================] - 81s 2ms/step - loss: 0.0358 - accuracy: 0.4677 - val_loss: 0.0240 - val_accuracy: 0.5395\n",
      "Epoch 2/50\n",
      "50000/50000 [==============================] - 84s 2ms/step - loss: 0.0219 - accuracy: 0.5705 - val_loss: 0.0205 - val_accuracy: 0.5908\n",
      "Epoch 3/50\n",
      "50000/50000 [==============================] - 79s 2ms/step - loss: 0.0194 - accuracy: 0.5915 - val_loss: 0.0188 - val_accuracy: 0.6042\n",
      "Epoch 4/50\n",
      "50000/50000 [==============================] - 79s 2ms/step - loss: 0.0182 - accuracy: 0.5998 - val_loss: 0.0177 - val_accuracy: 0.6106\n",
      "Epoch 5/50\n",
      "50000/50000 [==============================] - 79s 2ms/step - loss: 0.0174 - accuracy: 0.6053 - val_loss: 0.0170 - val_accuracy: 0.6091\n",
      "Epoch 6/50\n",
      "50000/50000 [==============================] - 81s 2ms/step - loss: 0.0169 - accuracy: 0.6083 - val_loss: 0.0167 - val_accuracy: 0.6095\n",
      "Epoch 7/50\n",
      "50000/50000 [==============================] - 83s 2ms/step - loss: 0.0164 - accuracy: 0.6107 - val_loss: 0.0162 - val_accuracy: 0.6161\n",
      "Epoch 8/50\n",
      "50000/50000 [==============================] - 80s 2ms/step - loss: 0.0161 - accuracy: 0.6132 - val_loss: 0.0159 - val_accuracy: 0.6193\n",
      "Epoch 9/50\n",
      "50000/50000 [==============================] - 79s 2ms/step - loss: 0.0158 - accuracy: 0.6149 - val_loss: 0.0156 - val_accuracy: 0.6175\n",
      "Epoch 10/50\n",
      "50000/50000 [==============================] - 82s 2ms/step - loss: 0.0156 - accuracy: 0.6165 - val_loss: 0.0155 - val_accuracy: 0.6258\n",
      "Epoch 11/50\n",
      "50000/50000 [==============================] - 79s 2ms/step - loss: 0.0153 - accuracy: 0.6188 - val_loss: 0.0151 - val_accuracy: 0.6226\n",
      "Epoch 12/50\n",
      "50000/50000 [==============================] - 79s 2ms/step - loss: 0.0151 - accuracy: 0.6205 - val_loss: 0.0149 - val_accuracy: 0.6219\n",
      "Epoch 13/50\n",
      "50000/50000 [==============================] - 80s 2ms/step - loss: 0.0149 - accuracy: 0.6215 - val_loss: 0.0149 - val_accuracy: 0.6169\n",
      "Epoch 14/50\n",
      "50000/50000 [==============================] - 79s 2ms/step - loss: 0.0148 - accuracy: 0.6233 - val_loss: 0.0147 - val_accuracy: 0.6319\n",
      "Epoch 15/50\n",
      "50000/50000 [==============================] - 85s 2ms/step - loss: 0.0146 - accuracy: 0.6248 - val_loss: 0.0146 - val_accuracy: 0.6287\n",
      "Epoch 16/50\n",
      "50000/50000 [==============================] - 81s 2ms/step - loss: 0.0145 - accuracy: 0.6262 - val_loss: 0.0144 - val_accuracy: 0.6369\n",
      "Epoch 17/50\n",
      "50000/50000 [==============================] - 79s 2ms/step - loss: 0.0144 - accuracy: 0.6278 - val_loss: 0.0144 - val_accuracy: 0.6338\n",
      "Epoch 18/50\n",
      "50000/50000 [==============================] - 80s 2ms/step - loss: 0.0143 - accuracy: 0.6286 - val_loss: 0.0142 - val_accuracy: 0.6330\n",
      "Epoch 19/50\n",
      "50000/50000 [==============================] - 81s 2ms/step - loss: 0.0142 - accuracy: 0.6294 - val_loss: 0.0147 - val_accuracy: 0.6353\n",
      "Epoch 20/50\n",
      "50000/50000 [==============================] - 80s 2ms/step - loss: 0.0141 - accuracy: 0.6304 - val_loss: 0.0140 - val_accuracy: 0.6293\n",
      "Epoch 21/50\n",
      "50000/50000 [==============================] - 79s 2ms/step - loss: 0.0140 - accuracy: 0.6314 - val_loss: 0.0140 - val_accuracy: 0.6333\n",
      "Epoch 22/50\n",
      "50000/50000 [==============================] - 80s 2ms/step - loss: 0.0140 - accuracy: 0.6322 - val_loss: 0.0139 - val_accuracy: 0.6342\n",
      "Epoch 23/50\n",
      "50000/50000 [==============================] - 80s 2ms/step - loss: 0.0139 - accuracy: 0.6332 - val_loss: 0.0140 - val_accuracy: 0.6319\n",
      "Epoch 24/50\n",
      "50000/50000 [==============================] - 80s 2ms/step - loss: 0.0138 - accuracy: 0.6334 - val_loss: 0.0139 - val_accuracy: 0.6286\n",
      "Epoch 25/50\n",
      "50000/50000 [==============================] - 80s 2ms/step - loss: 0.0138 - accuracy: 0.6344 - val_loss: 0.0137 - val_accuracy: 0.6442\n",
      "Epoch 26/50\n",
      "50000/50000 [==============================] - 79s 2ms/step - loss: 0.0137 - accuracy: 0.6356 - val_loss: 0.0136 - val_accuracy: 0.6475\n",
      "Epoch 27/50\n",
      "50000/50000 [==============================] - 80s 2ms/step - loss: 0.0136 - accuracy: 0.6361 - val_loss: 0.0138 - val_accuracy: 0.6359\n",
      "Epoch 28/50\n",
      "50000/50000 [==============================] - 86s 2ms/step - loss: 0.0136 - accuracy: 0.6363 - val_loss: 0.0136 - val_accuracy: 0.6402\n",
      "Epoch 29/50\n",
      "50000/50000 [==============================] - 88s 2ms/step - loss: 0.0136 - accuracy: 0.6371 - val_loss: 0.0136 - val_accuracy: 0.6397\n",
      "Epoch 30/50\n",
      "50000/50000 [==============================] - 89s 2ms/step - loss: 0.0135 - accuracy: 0.6377 - val_loss: 0.0134 - val_accuracy: 0.6351\n",
      "Epoch 31/50\n",
      "50000/50000 [==============================] - 88s 2ms/step - loss: 0.0135 - accuracy: 0.6381 - val_loss: 0.0135 - val_accuracy: 0.6332\n",
      "Epoch 32/50\n",
      "50000/50000 [==============================] - 88s 2ms/step - loss: 0.0134 - accuracy: 0.6389 - val_loss: 0.0137 - val_accuracy: 0.6413\n",
      "Epoch 33/50\n",
      "50000/50000 [==============================] - 88s 2ms/step - loss: 0.0134 - accuracy: 0.6388 - val_loss: 0.0133 - val_accuracy: 0.6403\n",
      "Epoch 34/50\n",
      "50000/50000 [==============================] - 87s 2ms/step - loss: 0.0133 - accuracy: 0.6398 - val_loss: 0.0133 - val_accuracy: 0.6375\n",
      "Epoch 35/50\n",
      "50000/50000 [==============================] - 86s 2ms/step - loss: 0.0133 - accuracy: 0.6396 - val_loss: 0.0133 - val_accuracy: 0.6450\n",
      "Epoch 36/50\n",
      "50000/50000 [==============================] - 80s 2ms/step - loss: 0.0132 - accuracy: 0.6402 - val_loss: 0.0133 - val_accuracy: 0.6218\n",
      "Epoch 37/50\n",
      "50000/50000 [==============================] - 79s 2ms/step - loss: 0.0133 - accuracy: 0.6410 - val_loss: 0.0131 - val_accuracy: 0.6491\n",
      "Epoch 38/50\n",
      "50000/50000 [==============================] - 79s 2ms/step - loss: 0.0132 - accuracy: 0.6411 - val_loss: 0.0131 - val_accuracy: 0.6436\n",
      "Epoch 39/50\n",
      "50000/50000 [==============================] - 79s 2ms/step - loss: 0.0132 - accuracy: 0.6417 - val_loss: 0.0132 - val_accuracy: 0.6413\n",
      "Epoch 40/50\n",
      "50000/50000 [==============================] - 79s 2ms/step - loss: 0.0131 - accuracy: 0.6423 - val_loss: 0.0132 - val_accuracy: 0.6418\n",
      "Epoch 41/50\n",
      "50000/50000 [==============================] - 79s 2ms/step - loss: 0.0131 - accuracy: 0.6424 - val_loss: 0.0130 - val_accuracy: 0.6478\n",
      "Epoch 42/50\n",
      "50000/50000 [==============================] - 81s 2ms/step - loss: 0.0131 - accuracy: 0.6425 - val_loss: 0.0130 - val_accuracy: 0.6504\n",
      "Epoch 43/50\n",
      "50000/50000 [==============================] - 79s 2ms/step - loss: 0.0130 - accuracy: 0.6437 - val_loss: 0.0135 - val_accuracy: 0.6452\n",
      "Epoch 44/50\n",
      "50000/50000 [==============================] - 79s 2ms/step - loss: 0.0130 - accuracy: 0.6434 - val_loss: 0.0131 - val_accuracy: 0.6513\n",
      "Epoch 45/50\n",
      "50000/50000 [==============================] - 79s 2ms/step - loss: 0.0130 - accuracy: 0.6437 - val_loss: 0.0132 - val_accuracy: 0.6424\n",
      "Epoch 46/50\n",
      "50000/50000 [==============================] - 79s 2ms/step - loss: 0.0130 - accuracy: 0.6445 - val_loss: 0.0129 - val_accuracy: 0.6534\n",
      "Epoch 47/50\n",
      "50000/50000 [==============================] - 79s 2ms/step - loss: 0.0129 - accuracy: 0.6442 - val_loss: 0.0131 - val_accuracy: 0.6533\n",
      "Epoch 48/50\n",
      "50000/50000 [==============================] - 80s 2ms/step - loss: 0.0129 - accuracy: 0.6449 - val_loss: 0.0128 - val_accuracy: 0.6300\n",
      "Epoch 49/50\n",
      "50000/50000 [==============================] - 79s 2ms/step - loss: 0.0129 - accuracy: 0.6449 - val_loss: 0.0128 - val_accuracy: 0.6223\n",
      "Epoch 50/50\n",
      "50000/50000 [==============================] - 79s 2ms/step - loss: 0.0129 - accuracy: 0.6443 - val_loss: 0.0128 - val_accuracy: 0.6529\n"
     ]
    },
    {
     "data": {
      "text/plain": [
       "<keras.callbacks.callbacks.History at 0x13a9599b0>"
      ]
     },
     "execution_count": 16,
     "metadata": {},
     "output_type": "execute_result"
    }
   ],
   "source": [
    "autoencoder.compile(optimizer = 'adam', loss = 'mse', metrics = ['accuracy'])\n",
    "autoencoder.fit(x_train, x_train, epochs = 50, batch_size = 256, shuffle = True, validation_data = [x_test, x_test])"
   ]
  },
  {
   "cell_type": "code",
   "execution_count": 17,
   "metadata": {},
   "outputs": [],
   "source": [
    "encoded_test_data = encoder.predict(x_test)\n",
    "predicted_test_data = autoencoder.predict(x_test)"
   ]
  },
  {
   "cell_type": "code",
   "execution_count": 18,
   "metadata": {},
   "outputs": [
    {
     "data": {
      "text/plain": [
       "(10000, 4, 4, 8)"
      ]
     },
     "execution_count": 18,
     "metadata": {},
     "output_type": "execute_result"
    }
   ],
   "source": [
    "encoded_test_data.shape"
   ]
  },
  {
   "cell_type": "code",
   "execution_count": 21,
   "metadata": {},
   "outputs": [],
   "source": [
    "encoded_test_data = encoded_test_data.reshape(len(encoded_test_data), np.prod(encoded_test_data.shape[1:]))"
   ]
  },
  {
   "cell_type": "code",
   "execution_count": 22,
   "metadata": {},
   "outputs": [
    {
     "data": {
      "text/plain": [
       "(10000, 128)"
      ]
     },
     "execution_count": 22,
     "metadata": {},
     "output_type": "execute_result"
    }
   ],
   "source": [
    "encoded_test_data.shape"
   ]
  },
  {
   "cell_type": "code",
   "execution_count": 23,
   "metadata": {},
   "outputs": [
    {
     "data": {
      "text/html": [
       "<div>\n",
       "<style scoped>\n",
       "    .dataframe tbody tr th:only-of-type {\n",
       "        vertical-align: middle;\n",
       "    }\n",
       "\n",
       "    .dataframe tbody tr th {\n",
       "        vertical-align: top;\n",
       "    }\n",
       "\n",
       "    .dataframe thead th {\n",
       "        text-align: right;\n",
       "    }\n",
       "</style>\n",
       "<table border=\"1\" class=\"dataframe\">\n",
       "  <thead>\n",
       "    <tr style=\"text-align: right;\">\n",
       "      <th></th>\n",
       "      <th>Class</th>\n",
       "      <th>Class Name</th>\n",
       "    </tr>\n",
       "  </thead>\n",
       "  <tbody>\n",
       "    <tr>\n",
       "      <th>0</th>\n",
       "      <td>3</td>\n",
       "      <td>cat</td>\n",
       "    </tr>\n",
       "    <tr>\n",
       "      <th>1</th>\n",
       "      <td>8</td>\n",
       "      <td>ship</td>\n",
       "    </tr>\n",
       "    <tr>\n",
       "      <th>2</th>\n",
       "      <td>8</td>\n",
       "      <td>ship</td>\n",
       "    </tr>\n",
       "    <tr>\n",
       "      <th>3</th>\n",
       "      <td>0</td>\n",
       "      <td>airplane</td>\n",
       "    </tr>\n",
       "    <tr>\n",
       "      <th>4</th>\n",
       "      <td>6</td>\n",
       "      <td>frog</td>\n",
       "    </tr>\n",
       "    <tr>\n",
       "      <th>...</th>\n",
       "      <td>...</td>\n",
       "      <td>...</td>\n",
       "    </tr>\n",
       "    <tr>\n",
       "      <th>9995</th>\n",
       "      <td>8</td>\n",
       "      <td>ship</td>\n",
       "    </tr>\n",
       "    <tr>\n",
       "      <th>9996</th>\n",
       "      <td>3</td>\n",
       "      <td>cat</td>\n",
       "    </tr>\n",
       "    <tr>\n",
       "      <th>9997</th>\n",
       "      <td>5</td>\n",
       "      <td>dog</td>\n",
       "    </tr>\n",
       "    <tr>\n",
       "      <th>9998</th>\n",
       "      <td>1</td>\n",
       "      <td>automobile</td>\n",
       "    </tr>\n",
       "    <tr>\n",
       "      <th>9999</th>\n",
       "      <td>7</td>\n",
       "      <td>horse</td>\n",
       "    </tr>\n",
       "  </tbody>\n",
       "</table>\n",
       "<p>10000 rows × 2 columns</p>\n",
       "</div>"
      ],
      "text/plain": [
       "      Class  Class Name\n",
       "0         3         cat\n",
       "1         8        ship\n",
       "2         8        ship\n",
       "3         0    airplane\n",
       "4         6        frog\n",
       "...     ...         ...\n",
       "9995      8        ship\n",
       "9996      3         cat\n",
       "9997      5         dog\n",
       "9998      1  automobile\n",
       "9999      7       horse\n",
       "\n",
       "[10000 rows x 2 columns]"
      ]
     },
     "execution_count": 23,
     "metadata": {},
     "output_type": "execute_result"
    }
   ],
   "source": [
    "y_test"
   ]
  },
  {
   "cell_type": "code",
   "execution_count": 24,
   "metadata": {},
   "outputs": [
    {
     "data": {
      "text/plain": [
       "(10000, 130)"
      ]
     },
     "execution_count": 24,
     "metadata": {},
     "output_type": "execute_result"
    }
   ],
   "source": [
    "encoded_test_data_df = pd.DataFrame(encoded_test_data)\n",
    "final_encoded_test_data_df = pd.concat([y_test, encoded_test_data_df], axis = 1)\n",
    "final_encoded_test_data_df.shape"
   ]
  },
  {
   "cell_type": "code",
   "execution_count": 25,
   "metadata": {},
   "outputs": [],
   "source": [
    "datadir = '/Users/sidv88/Documents/Data_Management_2/Convolutional_Encoded_Data/'\n",
    "final_encoded_test_data_df.to_csv(datadir + 'Convolutional_Encoded_Test_RSAM.csv', index = False)"
   ]
  },
  {
   "cell_type": "code",
   "execution_count": 26,
   "metadata": {},
   "outputs": [
    {
     "name": "stdout",
     "output_type": "stream",
     "text": [
      "Enter one of these values ['cat' 'ship' 'airplane' 'frog' 'automobile' 'truck' 'dog' 'horse' 'deer'\n",
      " 'bird'] : cat\n"
     ]
    }
   ],
   "source": [
    "input_val = input(\"Enter one of these values {} : \".format(final_encoded_test_data_df['Class Name'].unique()))"
   ]
  },
  {
   "cell_type": "code",
   "execution_count": 27,
   "metadata": {},
   "outputs": [
    {
     "name": "stdout",
     "output_type": "stream",
     "text": [
      "Enter a number between 0 and 999 : 9\n"
     ]
    }
   ],
   "source": [
    "input_num = input(\"Enter a number between 0 and 999 : \")"
   ]
  },
  {
   "cell_type": "code",
   "execution_count": 28,
   "metadata": {},
   "outputs": [
    {
     "name": "stdout",
     "output_type": "stream",
     "text": [
      "10000\n",
      "10000\n"
     ]
    }
   ],
   "source": [
    "from numpy import dot\n",
    "from numpy.linalg import norm\n",
    "\n",
    "cosine_similarity = []\n",
    "cosine_distance = []\n",
    "\n",
    "for i in range(len(x_test)):\n",
    "    a = final_encoded_test_data_df.loc[final_encoded_test_data_df['Class Name'] == input_val].iloc[int(input_num), 2:]\n",
    "    b = final_encoded_test_data_df.iloc[i, 2:]\n",
    "    cos_sim = dot(a, b)/(norm(a) * norm(b))\n",
    "    cos_dist = 1 - cos_sim\n",
    "    cosine_similarity.append(cos_sim)\n",
    "    cosine_distance.append(cos_dist)\n",
    "print(len(cosine_similarity))\n",
    "print(len(cosine_distance))"
   ]
  },
  {
   "cell_type": "code",
   "execution_count": 29,
   "metadata": {},
   "outputs": [],
   "source": [
    "final_encoded_test_data_df['Cosine Similarity'] = cosine_similarity\n",
    "final_encoded_test_data_df['Cosine Distance'] = cosine_distance"
   ]
  },
  {
   "cell_type": "code",
   "execution_count": 30,
   "metadata": {},
   "outputs": [
    {
     "data": {
      "text/html": [
       "<div>\n",
       "<style scoped>\n",
       "    .dataframe tbody tr th:only-of-type {\n",
       "        vertical-align: middle;\n",
       "    }\n",
       "\n",
       "    .dataframe tbody tr th {\n",
       "        vertical-align: top;\n",
       "    }\n",
       "\n",
       "    .dataframe thead th {\n",
       "        text-align: right;\n",
       "    }\n",
       "</style>\n",
       "<table border=\"1\" class=\"dataframe\">\n",
       "  <thead>\n",
       "    <tr style=\"text-align: right;\">\n",
       "      <th></th>\n",
       "      <th>Class</th>\n",
       "      <th>Class Name</th>\n",
       "      <th>0</th>\n",
       "      <th>1</th>\n",
       "      <th>2</th>\n",
       "      <th>3</th>\n",
       "      <th>4</th>\n",
       "      <th>5</th>\n",
       "      <th>6</th>\n",
       "      <th>7</th>\n",
       "      <th>...</th>\n",
       "      <th>120</th>\n",
       "      <th>121</th>\n",
       "      <th>122</th>\n",
       "      <th>123</th>\n",
       "      <th>124</th>\n",
       "      <th>125</th>\n",
       "      <th>126</th>\n",
       "      <th>127</th>\n",
       "      <th>Cosine Similarity</th>\n",
       "      <th>Cosine Distance</th>\n",
       "    </tr>\n",
       "  </thead>\n",
       "  <tbody>\n",
       "    <tr>\n",
       "      <th>91</th>\n",
       "      <td>3</td>\n",
       "      <td>cat</td>\n",
       "      <td>0.748936</td>\n",
       "      <td>0.963851</td>\n",
       "      <td>0.828524</td>\n",
       "      <td>0.176164</td>\n",
       "      <td>0.075307</td>\n",
       "      <td>0.284767</td>\n",
       "      <td>1.077477</td>\n",
       "      <td>0.259401</td>\n",
       "      <td>...</td>\n",
       "      <td>1.263035</td>\n",
       "      <td>1.158398</td>\n",
       "      <td>1.229319</td>\n",
       "      <td>1.003509</td>\n",
       "      <td>1.394807</td>\n",
       "      <td>1.413197</td>\n",
       "      <td>1.510301</td>\n",
       "      <td>1.169228</td>\n",
       "      <td>1.000000</td>\n",
       "      <td>0.000000</td>\n",
       "    </tr>\n",
       "    <tr>\n",
       "      <th>481</th>\n",
       "      <td>6</td>\n",
       "      <td>frog</td>\n",
       "      <td>0.686223</td>\n",
       "      <td>0.844698</td>\n",
       "      <td>1.080878</td>\n",
       "      <td>0.293940</td>\n",
       "      <td>0.155542</td>\n",
       "      <td>0.346397</td>\n",
       "      <td>1.001105</td>\n",
       "      <td>0.442630</td>\n",
       "      <td>...</td>\n",
       "      <td>1.264814</td>\n",
       "      <td>1.298430</td>\n",
       "      <td>1.348829</td>\n",
       "      <td>0.895133</td>\n",
       "      <td>1.326998</td>\n",
       "      <td>1.371920</td>\n",
       "      <td>1.464219</td>\n",
       "      <td>1.229681</td>\n",
       "      <td>0.990194</td>\n",
       "      <td>0.009806</td>\n",
       "    </tr>\n",
       "    <tr>\n",
       "      <th>6032</th>\n",
       "      <td>4</td>\n",
       "      <td>deer</td>\n",
       "      <td>0.605034</td>\n",
       "      <td>0.950775</td>\n",
       "      <td>0.854539</td>\n",
       "      <td>0.171271</td>\n",
       "      <td>0.170378</td>\n",
       "      <td>0.361572</td>\n",
       "      <td>0.864517</td>\n",
       "      <td>0.393440</td>\n",
       "      <td>...</td>\n",
       "      <td>1.160385</td>\n",
       "      <td>1.282269</td>\n",
       "      <td>1.112759</td>\n",
       "      <td>0.780939</td>\n",
       "      <td>1.203524</td>\n",
       "      <td>1.168829</td>\n",
       "      <td>1.548792</td>\n",
       "      <td>1.144325</td>\n",
       "      <td>0.988323</td>\n",
       "      <td>0.011677</td>\n",
       "    </tr>\n",
       "    <tr>\n",
       "      <th>7161</th>\n",
       "      <td>5</td>\n",
       "      <td>dog</td>\n",
       "      <td>0.915408</td>\n",
       "      <td>1.053004</td>\n",
       "      <td>0.569877</td>\n",
       "      <td>0.063880</td>\n",
       "      <td>0.000000</td>\n",
       "      <td>0.186212</td>\n",
       "      <td>1.166819</td>\n",
       "      <td>0.054682</td>\n",
       "      <td>...</td>\n",
       "      <td>1.183435</td>\n",
       "      <td>1.289511</td>\n",
       "      <td>1.328410</td>\n",
       "      <td>0.771532</td>\n",
       "      <td>1.360553</td>\n",
       "      <td>1.592199</td>\n",
       "      <td>1.469453</td>\n",
       "      <td>1.266751</td>\n",
       "      <td>0.988013</td>\n",
       "      <td>0.011987</td>\n",
       "    </tr>\n",
       "    <tr>\n",
       "      <th>167</th>\n",
       "      <td>4</td>\n",
       "      <td>deer</td>\n",
       "      <td>0.540096</td>\n",
       "      <td>0.657291</td>\n",
       "      <td>1.109306</td>\n",
       "      <td>0.406012</td>\n",
       "      <td>0.308674</td>\n",
       "      <td>0.382594</td>\n",
       "      <td>0.997056</td>\n",
       "      <td>0.418674</td>\n",
       "      <td>...</td>\n",
       "      <td>1.320235</td>\n",
       "      <td>1.383348</td>\n",
       "      <td>1.028953</td>\n",
       "      <td>0.667084</td>\n",
       "      <td>1.202575</td>\n",
       "      <td>1.197313</td>\n",
       "      <td>1.598494</td>\n",
       "      <td>1.162183</td>\n",
       "      <td>0.987642</td>\n",
       "      <td>0.012358</td>\n",
       "    </tr>\n",
       "    <tr>\n",
       "      <th>...</th>\n",
       "      <td>...</td>\n",
       "      <td>...</td>\n",
       "      <td>...</td>\n",
       "      <td>...</td>\n",
       "      <td>...</td>\n",
       "      <td>...</td>\n",
       "      <td>...</td>\n",
       "      <td>...</td>\n",
       "      <td>...</td>\n",
       "      <td>...</td>\n",
       "      <td>...</td>\n",
       "      <td>...</td>\n",
       "      <td>...</td>\n",
       "      <td>...</td>\n",
       "      <td>...</td>\n",
       "      <td>...</td>\n",
       "      <td>...</td>\n",
       "      <td>...</td>\n",
       "      <td>...</td>\n",
       "      <td>...</td>\n",
       "      <td>...</td>\n",
       "    </tr>\n",
       "    <tr>\n",
       "      <th>2968</th>\n",
       "      <td>0</td>\n",
       "      <td>airplane</td>\n",
       "      <td>0.368585</td>\n",
       "      <td>0.060306</td>\n",
       "      <td>0.145348</td>\n",
       "      <td>1.067368</td>\n",
       "      <td>0.823269</td>\n",
       "      <td>0.000000</td>\n",
       "      <td>0.610544</td>\n",
       "      <td>0.277865</td>\n",
       "      <td>...</td>\n",
       "      <td>0.949594</td>\n",
       "      <td>0.678843</td>\n",
       "      <td>0.000000</td>\n",
       "      <td>1.399907</td>\n",
       "      <td>1.713686</td>\n",
       "      <td>0.138253</td>\n",
       "      <td>0.770417</td>\n",
       "      <td>0.848452</td>\n",
       "      <td>0.761657</td>\n",
       "      <td>0.238343</td>\n",
       "    </tr>\n",
       "    <tr>\n",
       "      <th>6222</th>\n",
       "      <td>0</td>\n",
       "      <td>airplane</td>\n",
       "      <td>0.451051</td>\n",
       "      <td>0.092814</td>\n",
       "      <td>0.000000</td>\n",
       "      <td>1.133066</td>\n",
       "      <td>0.863264</td>\n",
       "      <td>0.000000</td>\n",
       "      <td>0.628733</td>\n",
       "      <td>0.087608</td>\n",
       "      <td>...</td>\n",
       "      <td>0.727644</td>\n",
       "      <td>0.508266</td>\n",
       "      <td>0.740314</td>\n",
       "      <td>1.453391</td>\n",
       "      <td>2.128500</td>\n",
       "      <td>1.185208</td>\n",
       "      <td>0.466579</td>\n",
       "      <td>1.509218</td>\n",
       "      <td>0.754688</td>\n",
       "      <td>0.245312</td>\n",
       "    </tr>\n",
       "    <tr>\n",
       "      <th>3444</th>\n",
       "      <td>0</td>\n",
       "      <td>airplane</td>\n",
       "      <td>0.000000</td>\n",
       "      <td>0.000000</td>\n",
       "      <td>1.786666</td>\n",
       "      <td>1.470994</td>\n",
       "      <td>1.454924</td>\n",
       "      <td>0.578770</td>\n",
       "      <td>0.232916</td>\n",
       "      <td>1.286177</td>\n",
       "      <td>...</td>\n",
       "      <td>0.097987</td>\n",
       "      <td>0.376170</td>\n",
       "      <td>1.215955</td>\n",
       "      <td>1.281091</td>\n",
       "      <td>2.018826</td>\n",
       "      <td>1.726038</td>\n",
       "      <td>0.114789</td>\n",
       "      <td>1.534329</td>\n",
       "      <td>0.745738</td>\n",
       "      <td>0.254262</td>\n",
       "    </tr>\n",
       "    <tr>\n",
       "      <th>1307</th>\n",
       "      <td>2</td>\n",
       "      <td>bird</td>\n",
       "      <td>0.443437</td>\n",
       "      <td>0.074773</td>\n",
       "      <td>0.000000</td>\n",
       "      <td>1.124350</td>\n",
       "      <td>0.822017</td>\n",
       "      <td>0.000000</td>\n",
       "      <td>0.613013</td>\n",
       "      <td>0.118845</td>\n",
       "      <td>...</td>\n",
       "      <td>1.107980</td>\n",
       "      <td>0.622487</td>\n",
       "      <td>0.000000</td>\n",
       "      <td>1.505740</td>\n",
       "      <td>1.769845</td>\n",
       "      <td>0.056203</td>\n",
       "      <td>0.860192</td>\n",
       "      <td>0.894146</td>\n",
       "      <td>0.743187</td>\n",
       "      <td>0.256813</td>\n",
       "    </tr>\n",
       "    <tr>\n",
       "      <th>4453</th>\n",
       "      <td>0</td>\n",
       "      <td>airplane</td>\n",
       "      <td>0.384624</td>\n",
       "      <td>0.000000</td>\n",
       "      <td>0.000000</td>\n",
       "      <td>1.282761</td>\n",
       "      <td>0.941713</td>\n",
       "      <td>0.000000</td>\n",
       "      <td>0.540753</td>\n",
       "      <td>0.127646</td>\n",
       "      <td>...</td>\n",
       "      <td>0.933431</td>\n",
       "      <td>0.516011</td>\n",
       "      <td>0.000000</td>\n",
       "      <td>1.660408</td>\n",
       "      <td>1.946223</td>\n",
       "      <td>0.055736</td>\n",
       "      <td>0.798045</td>\n",
       "      <td>0.901429</td>\n",
       "      <td>0.708277</td>\n",
       "      <td>0.291723</td>\n",
       "    </tr>\n",
       "  </tbody>\n",
       "</table>\n",
       "<p>10000 rows × 132 columns</p>\n",
       "</div>"
      ],
      "text/plain": [
       "      Class Class Name         0         1         2         3         4  \\\n",
       "91        3        cat  0.748936  0.963851  0.828524  0.176164  0.075307   \n",
       "481       6       frog  0.686223  0.844698  1.080878  0.293940  0.155542   \n",
       "6032      4       deer  0.605034  0.950775  0.854539  0.171271  0.170378   \n",
       "7161      5        dog  0.915408  1.053004  0.569877  0.063880  0.000000   \n",
       "167       4       deer  0.540096  0.657291  1.109306  0.406012  0.308674   \n",
       "...     ...        ...       ...       ...       ...       ...       ...   \n",
       "2968      0   airplane  0.368585  0.060306  0.145348  1.067368  0.823269   \n",
       "6222      0   airplane  0.451051  0.092814  0.000000  1.133066  0.863264   \n",
       "3444      0   airplane  0.000000  0.000000  1.786666  1.470994  1.454924   \n",
       "1307      2       bird  0.443437  0.074773  0.000000  1.124350  0.822017   \n",
       "4453      0   airplane  0.384624  0.000000  0.000000  1.282761  0.941713   \n",
       "\n",
       "             5         6         7  ...       120       121       122  \\\n",
       "91    0.284767  1.077477  0.259401  ...  1.263035  1.158398  1.229319   \n",
       "481   0.346397  1.001105  0.442630  ...  1.264814  1.298430  1.348829   \n",
       "6032  0.361572  0.864517  0.393440  ...  1.160385  1.282269  1.112759   \n",
       "7161  0.186212  1.166819  0.054682  ...  1.183435  1.289511  1.328410   \n",
       "167   0.382594  0.997056  0.418674  ...  1.320235  1.383348  1.028953   \n",
       "...        ...       ...       ...  ...       ...       ...       ...   \n",
       "2968  0.000000  0.610544  0.277865  ...  0.949594  0.678843  0.000000   \n",
       "6222  0.000000  0.628733  0.087608  ...  0.727644  0.508266  0.740314   \n",
       "3444  0.578770  0.232916  1.286177  ...  0.097987  0.376170  1.215955   \n",
       "1307  0.000000  0.613013  0.118845  ...  1.107980  0.622487  0.000000   \n",
       "4453  0.000000  0.540753  0.127646  ...  0.933431  0.516011  0.000000   \n",
       "\n",
       "           123       124       125       126       127  Cosine Similarity  \\\n",
       "91    1.003509  1.394807  1.413197  1.510301  1.169228           1.000000   \n",
       "481   0.895133  1.326998  1.371920  1.464219  1.229681           0.990194   \n",
       "6032  0.780939  1.203524  1.168829  1.548792  1.144325           0.988323   \n",
       "7161  0.771532  1.360553  1.592199  1.469453  1.266751           0.988013   \n",
       "167   0.667084  1.202575  1.197313  1.598494  1.162183           0.987642   \n",
       "...        ...       ...       ...       ...       ...                ...   \n",
       "2968  1.399907  1.713686  0.138253  0.770417  0.848452           0.761657   \n",
       "6222  1.453391  2.128500  1.185208  0.466579  1.509218           0.754688   \n",
       "3444  1.281091  2.018826  1.726038  0.114789  1.534329           0.745738   \n",
       "1307  1.505740  1.769845  0.056203  0.860192  0.894146           0.743187   \n",
       "4453  1.660408  1.946223  0.055736  0.798045  0.901429           0.708277   \n",
       "\n",
       "      Cosine Distance  \n",
       "91           0.000000  \n",
       "481          0.009806  \n",
       "6032         0.011677  \n",
       "7161         0.011987  \n",
       "167          0.012358  \n",
       "...               ...  \n",
       "2968         0.238343  \n",
       "6222         0.245312  \n",
       "3444         0.254262  \n",
       "1307         0.256813  \n",
       "4453         0.291723  \n",
       "\n",
       "[10000 rows x 132 columns]"
      ]
     },
     "execution_count": 30,
     "metadata": {},
     "output_type": "execute_result"
    }
   ],
   "source": [
    "final_encoded_test_data_df.sort_values(by = ['Cosine Similarity'], ascending = False)"
   ]
  },
  {
   "cell_type": "code",
   "execution_count": 31,
   "metadata": {},
   "outputs": [],
   "source": [
    "cosine_index = final_encoded_test_data_df.sort_values(by = ['Cosine Similarity'], ascending = False).head(10).index"
   ]
  },
  {
   "cell_type": "code",
   "execution_count": 32,
   "metadata": {},
   "outputs": [
    {
     "data": {
      "image/png": "[encoded data removed]",
      "text/plain": [
       "<Figure size 144x144 with 1 Axes>"
      ]
     },
     "metadata": {
      "needs_background": "light"
     },
     "output_type": "display_data"
    },
    {
     "data": {
      "image/png": "[encoded data removed]",
      "text/plain": [
       "<Figure size 144x144 with 1 Axes>"
      ]
     },
     "metadata": {
      "needs_background": "light"
     },
     "output_type": "display_data"
    },
    {
     "data": {
      "image/png": "[encoded data removed]",
      "text/plain": [
       "<Figure size 144x144 with 1 Axes>"
      ]
     },
     "metadata": {
      "needs_background": "light"
     },
     "output_type": "display_data"
    },
    {
     "data": {
      "image/png": "[encoded data removed]",
      "text/plain": [
       "<Figure size 144x144 with 1 Axes>"
      ]
     },
     "metadata": {
      "needs_background": "light"
     },
     "output_type": "display_data"
    },
    {
     "data": {
      "image/png": "[encoded data removed]",
      "text/plain": [
       "<Figure size 144x144 with 1 Axes>"
      ]
     },
     "metadata": {
      "needs_background": "light"
     },
     "output_type": "display_data"
    },
    {
     "data": {
      "image/png": "[encoded data removed]",
      "text/plain": [
       "<Figure size 144x144 with 1 Axes>"
      ]
     },
     "metadata": {
      "needs_background": "light"
     },
     "output_type": "display_data"
    },
    {
     "data": {
      "image/png": "[encoded data removed]",
      "text/plain": [
       "<Figure size 144x144 with 1 Axes>"
      ]
     },
     "metadata": {
      "needs_background": "light"
     },
     "output_type": "display_data"
    },
    {
     "data": {
      "image/png": "[encoded data removed]",
      "text/plain": [
       "<Figure size 144x144 with 1 Axes>"
      ]
     },
     "metadata": {
      "needs_background": "light"
     },
     "output_type": "display_data"
    },
    {
     "data": {
      "image/png": "[encoded data removed]",
      "text/plain": [
       "<Figure size 144x144 with 1 Axes>"
      ]
     },
     "metadata": {
      "needs_background": "light"
     },
     "output_type": "display_data"
    },
    {
     "data": {
      "image/png": "[encoded data removed]",
      "text/plain": [
       "<Figure size 144x144 with 1 Axes>"
      ]
     },
     "metadata": {
      "needs_background": "light"
     },
     "output_type": "display_data"
    }
   ],
   "source": [
    "for i in cosine_index:\n",
    "    plt.figure(figsize = (2, 2))\n",
    "    plt.imshow(x_test[i].reshape(32, 32, 3))\n",
    "    plt.xlabel(final_encoded_test_data_df['Class Name'][i] + ' with a Cosine Similarity of ' + str(final_encoded_test_data_df['Cosine Similarity'][i]) + ' from the queried image.')\n",
    "    plt.show()"
   ]
  },
  {
   "cell_type": "code",
   "execution_count": 33,
   "metadata": {},
   "outputs": [
    {
     "name": "stdout",
     "output_type": "stream",
     "text": [
      "10000\n"
     ]
    }
   ],
   "source": [
    "euclidean_distance = []\n",
    "\n",
    "for i in range(len(x_test)):\n",
    "    a = final_encoded_test_data_df.loc[final_encoded_test_data_df['Class Name'] == input_val].iloc[int(input_num), 2:]\n",
    "    b = final_encoded_test_data_df.iloc[i, 2:]\n",
    "    euc_dist = np.linalg.norm(a-b)\n",
    "    euclidean_distance.append(euc_dist)\n",
    "print(len(euclidean_distance))"
   ]
  },
  {
   "cell_type": "code",
   "execution_count": 34,
   "metadata": {},
   "outputs": [
    {
     "data": {
      "text/html": [
       "<div>\n",
       "<style scoped>\n",
       "    .dataframe tbody tr th:only-of-type {\n",
       "        vertical-align: middle;\n",
       "    }\n",
       "\n",
       "    .dataframe tbody tr th {\n",
       "        vertical-align: top;\n",
       "    }\n",
       "\n",
       "    .dataframe thead th {\n",
       "        text-align: right;\n",
       "    }\n",
       "</style>\n",
       "<table border=\"1\" class=\"dataframe\">\n",
       "  <thead>\n",
       "    <tr style=\"text-align: right;\">\n",
       "      <th></th>\n",
       "      <th>Class</th>\n",
       "      <th>Class Name</th>\n",
       "      <th>0</th>\n",
       "      <th>1</th>\n",
       "      <th>2</th>\n",
       "      <th>3</th>\n",
       "      <th>4</th>\n",
       "      <th>5</th>\n",
       "      <th>6</th>\n",
       "      <th>7</th>\n",
       "      <th>...</th>\n",
       "      <th>121</th>\n",
       "      <th>122</th>\n",
       "      <th>123</th>\n",
       "      <th>124</th>\n",
       "      <th>125</th>\n",
       "      <th>126</th>\n",
       "      <th>127</th>\n",
       "      <th>Cosine Similarity</th>\n",
       "      <th>Cosine Distance</th>\n",
       "      <th>Euclidean Distance</th>\n",
       "    </tr>\n",
       "  </thead>\n",
       "  <tbody>\n",
       "    <tr>\n",
       "      <th>91</th>\n",
       "      <td>3</td>\n",
       "      <td>cat</td>\n",
       "      <td>0.748936</td>\n",
       "      <td>0.963851</td>\n",
       "      <td>0.828524</td>\n",
       "      <td>0.176164</td>\n",
       "      <td>0.075307</td>\n",
       "      <td>0.284767</td>\n",
       "      <td>1.077477</td>\n",
       "      <td>0.259401</td>\n",
       "      <td>...</td>\n",
       "      <td>1.158398</td>\n",
       "      <td>1.229319</td>\n",
       "      <td>1.003509</td>\n",
       "      <td>1.394807</td>\n",
       "      <td>1.413197</td>\n",
       "      <td>1.510301</td>\n",
       "      <td>1.169228</td>\n",
       "      <td>1.000000</td>\n",
       "      <td>0.000000</td>\n",
       "      <td>0.000000</td>\n",
       "    </tr>\n",
       "    <tr>\n",
       "      <th>481</th>\n",
       "      <td>6</td>\n",
       "      <td>frog</td>\n",
       "      <td>0.686223</td>\n",
       "      <td>0.844698</td>\n",
       "      <td>1.080878</td>\n",
       "      <td>0.293940</td>\n",
       "      <td>0.155542</td>\n",
       "      <td>0.346397</td>\n",
       "      <td>1.001105</td>\n",
       "      <td>0.442630</td>\n",
       "      <td>...</td>\n",
       "      <td>1.298430</td>\n",
       "      <td>1.348829</td>\n",
       "      <td>0.895133</td>\n",
       "      <td>1.326998</td>\n",
       "      <td>1.371920</td>\n",
       "      <td>1.464219</td>\n",
       "      <td>1.229681</td>\n",
       "      <td>0.990194</td>\n",
       "      <td>0.009806</td>\n",
       "      <td>1.877779</td>\n",
       "    </tr>\n",
       "    <tr>\n",
       "      <th>7161</th>\n",
       "      <td>5</td>\n",
       "      <td>dog</td>\n",
       "      <td>0.915408</td>\n",
       "      <td>1.053004</td>\n",
       "      <td>0.569877</td>\n",
       "      <td>0.063880</td>\n",
       "      <td>0.000000</td>\n",
       "      <td>0.186212</td>\n",
       "      <td>1.166819</td>\n",
       "      <td>0.054682</td>\n",
       "      <td>...</td>\n",
       "      <td>1.289511</td>\n",
       "      <td>1.328410</td>\n",
       "      <td>0.771532</td>\n",
       "      <td>1.360553</td>\n",
       "      <td>1.592199</td>\n",
       "      <td>1.469453</td>\n",
       "      <td>1.266751</td>\n",
       "      <td>0.988013</td>\n",
       "      <td>0.011987</td>\n",
       "      <td>2.079574</td>\n",
       "    </tr>\n",
       "    <tr>\n",
       "      <th>891</th>\n",
       "      <td>6</td>\n",
       "      <td>frog</td>\n",
       "      <td>0.461172</td>\n",
       "      <td>0.846415</td>\n",
       "      <td>1.015016</td>\n",
       "      <td>0.210848</td>\n",
       "      <td>0.407103</td>\n",
       "      <td>0.360950</td>\n",
       "      <td>1.003351</td>\n",
       "      <td>0.376731</td>\n",
       "      <td>...</td>\n",
       "      <td>1.298767</td>\n",
       "      <td>1.321133</td>\n",
       "      <td>0.897990</td>\n",
       "      <td>1.106992</td>\n",
       "      <td>1.343759</td>\n",
       "      <td>1.706415</td>\n",
       "      <td>1.254274</td>\n",
       "      <td>0.987624</td>\n",
       "      <td>0.012376</td>\n",
       "      <td>2.116760</td>\n",
       "    </tr>\n",
       "    <tr>\n",
       "      <th>5443</th>\n",
       "      <td>6</td>\n",
       "      <td>frog</td>\n",
       "      <td>0.628467</td>\n",
       "      <td>0.968738</td>\n",
       "      <td>1.229919</td>\n",
       "      <td>0.130499</td>\n",
       "      <td>0.091888</td>\n",
       "      <td>0.493291</td>\n",
       "      <td>0.957174</td>\n",
       "      <td>0.469957</td>\n",
       "      <td>...</td>\n",
       "      <td>1.311529</td>\n",
       "      <td>1.521461</td>\n",
       "      <td>0.581401</td>\n",
       "      <td>1.163436</td>\n",
       "      <td>1.603574</td>\n",
       "      <td>1.527905</td>\n",
       "      <td>1.197173</td>\n",
       "      <td>0.987136</td>\n",
       "      <td>0.012864</td>\n",
       "      <td>2.147659</td>\n",
       "    </tr>\n",
       "    <tr>\n",
       "      <th>...</th>\n",
       "      <td>...</td>\n",
       "      <td>...</td>\n",
       "      <td>...</td>\n",
       "      <td>...</td>\n",
       "      <td>...</td>\n",
       "      <td>...</td>\n",
       "      <td>...</td>\n",
       "      <td>...</td>\n",
       "      <td>...</td>\n",
       "      <td>...</td>\n",
       "      <td>...</td>\n",
       "      <td>...</td>\n",
       "      <td>...</td>\n",
       "      <td>...</td>\n",
       "      <td>...</td>\n",
       "      <td>...</td>\n",
       "      <td>...</td>\n",
       "      <td>...</td>\n",
       "      <td>...</td>\n",
       "      <td>...</td>\n",
       "      <td>...</td>\n",
       "    </tr>\n",
       "    <tr>\n",
       "      <th>7803</th>\n",
       "      <td>0</td>\n",
       "      <td>airplane</td>\n",
       "      <td>0.000000</td>\n",
       "      <td>0.000000</td>\n",
       "      <td>1.796607</td>\n",
       "      <td>1.489268</td>\n",
       "      <td>1.448660</td>\n",
       "      <td>0.563396</td>\n",
       "      <td>0.247240</td>\n",
       "      <td>1.282142</td>\n",
       "      <td>...</td>\n",
       "      <td>0.936844</td>\n",
       "      <td>1.578323</td>\n",
       "      <td>1.496615</td>\n",
       "      <td>2.459167</td>\n",
       "      <td>1.973677</td>\n",
       "      <td>0.533972</td>\n",
       "      <td>2.226960</td>\n",
       "      <td>0.795929</td>\n",
       "      <td>0.204071</td>\n",
       "      <td>9.370027</td>\n",
       "    </tr>\n",
       "    <tr>\n",
       "      <th>7835</th>\n",
       "      <td>0</td>\n",
       "      <td>airplane</td>\n",
       "      <td>0.000000</td>\n",
       "      <td>0.000000</td>\n",
       "      <td>1.806899</td>\n",
       "      <td>1.492787</td>\n",
       "      <td>1.455149</td>\n",
       "      <td>0.568691</td>\n",
       "      <td>0.241287</td>\n",
       "      <td>1.294569</td>\n",
       "      <td>...</td>\n",
       "      <td>0.670923</td>\n",
       "      <td>2.139343</td>\n",
       "      <td>1.676840</td>\n",
       "      <td>2.349479</td>\n",
       "      <td>1.747053</td>\n",
       "      <td>1.148406</td>\n",
       "      <td>1.960929</td>\n",
       "      <td>0.842111</td>\n",
       "      <td>0.157889</td>\n",
       "      <td>9.372849</td>\n",
       "    </tr>\n",
       "    <tr>\n",
       "      <th>9921</th>\n",
       "      <td>0</td>\n",
       "      <td>airplane</td>\n",
       "      <td>0.000000</td>\n",
       "      <td>0.000000</td>\n",
       "      <td>1.800443</td>\n",
       "      <td>1.485870</td>\n",
       "      <td>1.445554</td>\n",
       "      <td>0.561803</td>\n",
       "      <td>0.255171</td>\n",
       "      <td>1.274519</td>\n",
       "      <td>...</td>\n",
       "      <td>0.484217</td>\n",
       "      <td>1.309980</td>\n",
       "      <td>1.421823</td>\n",
       "      <td>2.292808</td>\n",
       "      <td>2.037745</td>\n",
       "      <td>0.333749</td>\n",
       "      <td>1.573088</td>\n",
       "      <td>0.788865</td>\n",
       "      <td>0.211135</td>\n",
       "      <td>9.437674</td>\n",
       "    </tr>\n",
       "    <tr>\n",
       "      <th>4453</th>\n",
       "      <td>0</td>\n",
       "      <td>airplane</td>\n",
       "      <td>0.384624</td>\n",
       "      <td>0.000000</td>\n",
       "      <td>0.000000</td>\n",
       "      <td>1.282761</td>\n",
       "      <td>0.941713</td>\n",
       "      <td>0.000000</td>\n",
       "      <td>0.540753</td>\n",
       "      <td>0.127646</td>\n",
       "      <td>...</td>\n",
       "      <td>0.516011</td>\n",
       "      <td>0.000000</td>\n",
       "      <td>1.660408</td>\n",
       "      <td>1.946223</td>\n",
       "      <td>0.055736</td>\n",
       "      <td>0.798045</td>\n",
       "      <td>0.901429</td>\n",
       "      <td>0.708277</td>\n",
       "      <td>0.291723</td>\n",
       "      <td>9.627804</td>\n",
       "    </tr>\n",
       "    <tr>\n",
       "      <th>3444</th>\n",
       "      <td>0</td>\n",
       "      <td>airplane</td>\n",
       "      <td>0.000000</td>\n",
       "      <td>0.000000</td>\n",
       "      <td>1.786666</td>\n",
       "      <td>1.470994</td>\n",
       "      <td>1.454924</td>\n",
       "      <td>0.578770</td>\n",
       "      <td>0.232916</td>\n",
       "      <td>1.286177</td>\n",
       "      <td>...</td>\n",
       "      <td>0.376170</td>\n",
       "      <td>1.215955</td>\n",
       "      <td>1.281091</td>\n",
       "      <td>2.018826</td>\n",
       "      <td>1.726038</td>\n",
       "      <td>0.114789</td>\n",
       "      <td>1.534329</td>\n",
       "      <td>0.745738</td>\n",
       "      <td>0.254262</td>\n",
       "      <td>10.008043</td>\n",
       "    </tr>\n",
       "  </tbody>\n",
       "</table>\n",
       "<p>10000 rows × 133 columns</p>\n",
       "</div>"
      ],
      "text/plain": [
       "      Class Class Name         0         1         2         3         4  \\\n",
       "91        3        cat  0.748936  0.963851  0.828524  0.176164  0.075307   \n",
       "481       6       frog  0.686223  0.844698  1.080878  0.293940  0.155542   \n",
       "7161      5        dog  0.915408  1.053004  0.569877  0.063880  0.000000   \n",
       "891       6       frog  0.461172  0.846415  1.015016  0.210848  0.407103   \n",
       "5443      6       frog  0.628467  0.968738  1.229919  0.130499  0.091888   \n",
       "...     ...        ...       ...       ...       ...       ...       ...   \n",
       "7803      0   airplane  0.000000  0.000000  1.796607  1.489268  1.448660   \n",
       "7835      0   airplane  0.000000  0.000000  1.806899  1.492787  1.455149   \n",
       "9921      0   airplane  0.000000  0.000000  1.800443  1.485870  1.445554   \n",
       "4453      0   airplane  0.384624  0.000000  0.000000  1.282761  0.941713   \n",
       "3444      0   airplane  0.000000  0.000000  1.786666  1.470994  1.454924   \n",
       "\n",
       "             5         6         7  ...       121       122       123  \\\n",
       "91    0.284767  1.077477  0.259401  ...  1.158398  1.229319  1.003509   \n",
       "481   0.346397  1.001105  0.442630  ...  1.298430  1.348829  0.895133   \n",
       "7161  0.186212  1.166819  0.054682  ...  1.289511  1.328410  0.771532   \n",
       "891   0.360950  1.003351  0.376731  ...  1.298767  1.321133  0.897990   \n",
       "5443  0.493291  0.957174  0.469957  ...  1.311529  1.521461  0.581401   \n",
       "...        ...       ...       ...  ...       ...       ...       ...   \n",
       "7803  0.563396  0.247240  1.282142  ...  0.936844  1.578323  1.496615   \n",
       "7835  0.568691  0.241287  1.294569  ...  0.670923  2.139343  1.676840   \n",
       "9921  0.561803  0.255171  1.274519  ...  0.484217  1.309980  1.421823   \n",
       "4453  0.000000  0.540753  0.127646  ...  0.516011  0.000000  1.660408   \n",
       "3444  0.578770  0.232916  1.286177  ...  0.376170  1.215955  1.281091   \n",
       "\n",
       "           124       125       126       127  Cosine Similarity  \\\n",
       "91    1.394807  1.413197  1.510301  1.169228           1.000000   \n",
       "481   1.326998  1.371920  1.464219  1.229681           0.990194   \n",
       "7161  1.360553  1.592199  1.469453  1.266751           0.988013   \n",
       "891   1.106992  1.343759  1.706415  1.254274           0.987624   \n",
       "5443  1.163436  1.603574  1.527905  1.197173           0.987136   \n",
       "...        ...       ...       ...       ...                ...   \n",
       "7803  2.459167  1.973677  0.533972  2.226960           0.795929   \n",
       "7835  2.349479  1.747053  1.148406  1.960929           0.842111   \n",
       "9921  2.292808  2.037745  0.333749  1.573088           0.788865   \n",
       "4453  1.946223  0.055736  0.798045  0.901429           0.708277   \n",
       "3444  2.018826  1.726038  0.114789  1.534329           0.745738   \n",
       "\n",
       "      Cosine Distance  Euclidean Distance  \n",
       "91           0.000000            0.000000  \n",
       "481          0.009806            1.877779  \n",
       "7161         0.011987            2.079574  \n",
       "891          0.012376            2.116760  \n",
       "5443         0.012864            2.147659  \n",
       "...               ...                 ...  \n",
       "7803         0.204071            9.370027  \n",
       "7835         0.157889            9.372849  \n",
       "9921         0.211135            9.437674  \n",
       "4453         0.291723            9.627804  \n",
       "3444         0.254262           10.008043  \n",
       "\n",
       "[10000 rows x 133 columns]"
      ]
     },
     "execution_count": 34,
     "metadata": {},
     "output_type": "execute_result"
    }
   ],
   "source": [
    "final_encoded_test_data_df['Euclidean Distance'] = euclidean_distance\n",
    "final_encoded_test_data_df.sort_values(by = ['Euclidean Distance'])"
   ]
  },
  {
   "cell_type": "code",
   "execution_count": 35,
   "metadata": {},
   "outputs": [
    {
     "data": {
      "image/png": "[encoded data removed]",
      "text/plain": [
       "<Figure size 144x144 with 1 Axes>"
      ]
     },
     "metadata": {
      "needs_background": "light"
     },
     "output_type": "display_data"
    },
    {
     "data": {
      "image/png": "[encoded data removed]",
      "text/plain": [
       "<Figure size 144x144 with 1 Axes>"
      ]
     },
     "metadata": {
      "needs_background": "light"
     },
     "output_type": "display_data"
    },
    {
     "data": {
      "image/png": "[encoded data removed]",
      "text/plain": [
       "<Figure size 144x144 with 1 Axes>"
      ]
     },
     "metadata": {
      "needs_background": "light"
     },
     "output_type": "display_data"
    },
    {
     "data": {
      "image/png": "[encoded data removed]",
      "text/plain": [
       "<Figure size 144x144 with 1 Axes>"
      ]
     },
     "metadata": {
      "needs_background": "light"
     },
     "output_type": "display_data"
    },
    {
     "data": {
      "image/png": "[encoded data removed]",
      "text/plain": [
       "<Figure size 144x144 with 1 Axes>"
      ]
     },
     "metadata": {
      "needs_background": "light"
     },
     "output_type": "display_data"
    },
    {
     "data": {
      "image/png": "[encoded data removed]",
      "text/plain": [
       "<Figure size 144x144 with 1 Axes>"
      ]
     },
     "metadata": {
      "needs_background": "light"
     },
     "output_type": "display_data"
    },
    {
     "data": {
      "image/png": "[encoded data removed]",
      "text/plain": [
       "<Figure size 144x144 with 1 Axes>"
      ]
     },
     "metadata": {
      "needs_background": "light"
     },
     "output_type": "display_data"
    },
    {
     "data": {
      "image/png": "[encoded data removed]",
      "text/plain": [
       "<Figure size 144x144 with 1 Axes>"
      ]
     },
     "metadata": {
      "needs_background": "light"
     },
     "output_type": "display_data"
    },
    {
     "data": {
      "image/png": "[encoded data removed]",
      "text/plain": [
       "<Figure size 144x144 with 1 Axes>"
      ]
     },
     "metadata": {
      "needs_background": "light"
     },
     "output_type": "display_data"
    },
    {
     "data": {
      "image/png": "[encoded data removed]",
      "text/plain": [
       "<Figure size 144x144 with 1 Axes>"
      ]
     },
     "metadata": {
      "needs_background": "light"
     },
     "output_type": "display_data"
    }
   ],
   "source": [
    "euclidean_index = final_encoded_test_data_df.sort_values(by = ['Euclidean Distance']).head(10).index\n",
    "\n",
    "for i in euclidean_index:\n",
    "    plt.figure(figsize = (2, 2))\n",
    "    plt.imshow(x_test[i].reshape(32, 32, 3))\n",
    "    plt.xlabel(final_encoded_test_data_df['Class Name'][i] + ' with an Euclidean Distance of ' + str(final_encoded_test_data_df['Euclidean Distance'][i]) + ' from the queried image.')\n",
    "    plt.show()"
   ]
  },
  {
   "cell_type": "code",
   "execution_count": null,
   "metadata": {},
   "outputs": [],
   "source": []
  }
 ],
 "metadata": {
  "kernelspec": {
   "display_name": "Python 3",
   "language": "python",
   "name": "python3"
  },
  "language_info": {
   "codemirror_mode": {
    "name": "ipython",
    "version": 3
   },
   "file_extension": ".py",
   "mimetype": "text/x-python",
   "name": "python",
   "nbconvert_exporter": "python",
   "pygments_lexer": "ipython3",
   "version": "3.6.9"
  }
 },
 "nbformat": 4,
 "nbformat_minor": 2
}
