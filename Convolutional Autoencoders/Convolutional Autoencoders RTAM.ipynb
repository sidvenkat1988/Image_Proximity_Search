{
 "cells": [
  {
   "cell_type": "code",
   "execution_count": 2,
   "metadata": {},
   "outputs": [],
   "source": [
    "from keras.layers import Input, Dense, Conv2D, MaxPooling2D, UpSampling2D\n",
    "from keras.models import Model\n",
    "\n",
    "import numpy as np\n",
    "import pandas as pd\n",
    "import matplotlib.pyplot as plt\n",
    "%matplotlib inline"
   ]
  },
  {
   "cell_type": "code",
   "execution_count": 3,
   "metadata": {},
   "outputs": [
    {
     "name": "stdout",
     "output_type": "stream",
     "text": [
      "(50000, 3074)\n",
      "(10000, 3074)\n"
     ]
    }
   ],
   "source": [
    "datadir = '/Users/sidv88/Documents/Data_Management_2/Data/'\n",
    "train_data = pd.read_csv(datadir + 'train_rgb.csv')\n",
    "test_data = pd.read_csv(datadir + 'test_rgb.csv')\n",
    "print(train_data.shape)\n",
    "print(test_data.shape)"
   ]
  },
  {
   "cell_type": "code",
   "execution_count": 4,
   "metadata": {},
   "outputs": [
    {
     "data": {
      "text/html": [
       "<div>\n",
       "<style scoped>\n",
       "    .dataframe tbody tr th:only-of-type {\n",
       "        vertical-align: middle;\n",
       "    }\n",
       "\n",
       "    .dataframe tbody tr th {\n",
       "        vertical-align: top;\n",
       "    }\n",
       "\n",
       "    .dataframe thead th {\n",
       "        text-align: right;\n",
       "    }\n",
       "</style>\n",
       "<table border=\"1\" class=\"dataframe\">\n",
       "  <thead>\n",
       "    <tr style=\"text-align: right;\">\n",
       "      <th></th>\n",
       "      <th>Class</th>\n",
       "      <th>Class Name</th>\n",
       "      <th>0</th>\n",
       "      <th>1</th>\n",
       "      <th>2</th>\n",
       "      <th>3</th>\n",
       "      <th>4</th>\n",
       "      <th>5</th>\n",
       "      <th>6</th>\n",
       "      <th>7</th>\n",
       "      <th>...</th>\n",
       "      <th>3062</th>\n",
       "      <th>3063</th>\n",
       "      <th>3064</th>\n",
       "      <th>3065</th>\n",
       "      <th>3066</th>\n",
       "      <th>3067</th>\n",
       "      <th>3068</th>\n",
       "      <th>3069</th>\n",
       "      <th>3070</th>\n",
       "      <th>3071</th>\n",
       "    </tr>\n",
       "  </thead>\n",
       "  <tbody>\n",
       "    <tr>\n",
       "      <th>0</th>\n",
       "      <td>6</td>\n",
       "      <td>frog</td>\n",
       "      <td>59</td>\n",
       "      <td>62</td>\n",
       "      <td>63</td>\n",
       "      <td>43</td>\n",
       "      <td>46</td>\n",
       "      <td>45</td>\n",
       "      <td>50</td>\n",
       "      <td>48</td>\n",
       "      <td>...</td>\n",
       "      <td>104</td>\n",
       "      <td>216</td>\n",
       "      <td>184</td>\n",
       "      <td>140</td>\n",
       "      <td>151</td>\n",
       "      <td>118</td>\n",
       "      <td>84</td>\n",
       "      <td>123</td>\n",
       "      <td>92</td>\n",
       "      <td>72</td>\n",
       "    </tr>\n",
       "    <tr>\n",
       "      <th>1</th>\n",
       "      <td>9</td>\n",
       "      <td>truck</td>\n",
       "      <td>154</td>\n",
       "      <td>177</td>\n",
       "      <td>187</td>\n",
       "      <td>126</td>\n",
       "      <td>137</td>\n",
       "      <td>136</td>\n",
       "      <td>105</td>\n",
       "      <td>104</td>\n",
       "      <td>...</td>\n",
       "      <td>136</td>\n",
       "      <td>143</td>\n",
       "      <td>133</td>\n",
       "      <td>139</td>\n",
       "      <td>143</td>\n",
       "      <td>134</td>\n",
       "      <td>142</td>\n",
       "      <td>143</td>\n",
       "      <td>133</td>\n",
       "      <td>144</td>\n",
       "    </tr>\n",
       "    <tr>\n",
       "      <th>2</th>\n",
       "      <td>9</td>\n",
       "      <td>truck</td>\n",
       "      <td>255</td>\n",
       "      <td>255</td>\n",
       "      <td>255</td>\n",
       "      <td>253</td>\n",
       "      <td>253</td>\n",
       "      <td>253</td>\n",
       "      <td>253</td>\n",
       "      <td>253</td>\n",
       "      <td>...</td>\n",
       "      <td>79</td>\n",
       "      <td>78</td>\n",
       "      <td>85</td>\n",
       "      <td>83</td>\n",
       "      <td>79</td>\n",
       "      <td>85</td>\n",
       "      <td>83</td>\n",
       "      <td>80</td>\n",
       "      <td>86</td>\n",
       "      <td>84</td>\n",
       "    </tr>\n",
       "    <tr>\n",
       "      <th>3</th>\n",
       "      <td>4</td>\n",
       "      <td>deer</td>\n",
       "      <td>28</td>\n",
       "      <td>25</td>\n",
       "      <td>10</td>\n",
       "      <td>37</td>\n",
       "      <td>34</td>\n",
       "      <td>19</td>\n",
       "      <td>38</td>\n",
       "      <td>35</td>\n",
       "      <td>...</td>\n",
       "      <td>38</td>\n",
       "      <td>54</td>\n",
       "      <td>47</td>\n",
       "      <td>28</td>\n",
       "      <td>63</td>\n",
       "      <td>56</td>\n",
       "      <td>37</td>\n",
       "      <td>72</td>\n",
       "      <td>65</td>\n",
       "      <td>46</td>\n",
       "    </tr>\n",
       "    <tr>\n",
       "      <th>4</th>\n",
       "      <td>1</td>\n",
       "      <td>automobile</td>\n",
       "      <td>170</td>\n",
       "      <td>180</td>\n",
       "      <td>198</td>\n",
       "      <td>168</td>\n",
       "      <td>178</td>\n",
       "      <td>196</td>\n",
       "      <td>177</td>\n",
       "      <td>185</td>\n",
       "      <td>...</td>\n",
       "      <td>78</td>\n",
       "      <td>75</td>\n",
       "      <td>79</td>\n",
       "      <td>82</td>\n",
       "      <td>71</td>\n",
       "      <td>75</td>\n",
       "      <td>78</td>\n",
       "      <td>73</td>\n",
       "      <td>77</td>\n",
       "      <td>80</td>\n",
       "    </tr>\n",
       "  </tbody>\n",
       "</table>\n",
       "<p>5 rows × 3074 columns</p>\n",
       "</div>"
      ],
      "text/plain": [
       "   Class  Class Name    0    1    2    3    4    5    6    7  ...  3062  3063  \\\n",
       "0      6        frog   59   62   63   43   46   45   50   48  ...   104   216   \n",
       "1      9       truck  154  177  187  126  137  136  105  104  ...   136   143   \n",
       "2      9       truck  255  255  255  253  253  253  253  253  ...    79    78   \n",
       "3      4        deer   28   25   10   37   34   19   38   35  ...    38    54   \n",
       "4      1  automobile  170  180  198  168  178  196  177  185  ...    78    75   \n",
       "\n",
       "   3064  3065  3066  3067  3068  3069  3070  3071  \n",
       "0   184   140   151   118    84   123    92    72  \n",
       "1   133   139   143   134   142   143   133   144  \n",
       "2    85    83    79    85    83    80    86    84  \n",
       "3    47    28    63    56    37    72    65    46  \n",
       "4    79    82    71    75    78    73    77    80  \n",
       "\n",
       "[5 rows x 3074 columns]"
      ]
     },
     "execution_count": 4,
     "metadata": {},
     "output_type": "execute_result"
    }
   ],
   "source": [
    "train_data.head()"
   ]
  },
  {
   "cell_type": "code",
   "execution_count": 5,
   "metadata": {},
   "outputs": [
    {
     "data": {
      "text/html": [
       "<div>\n",
       "<style scoped>\n",
       "    .dataframe tbody tr th:only-of-type {\n",
       "        vertical-align: middle;\n",
       "    }\n",
       "\n",
       "    .dataframe tbody tr th {\n",
       "        vertical-align: top;\n",
       "    }\n",
       "\n",
       "    .dataframe thead th {\n",
       "        text-align: right;\n",
       "    }\n",
       "</style>\n",
       "<table border=\"1\" class=\"dataframe\">\n",
       "  <thead>\n",
       "    <tr style=\"text-align: right;\">\n",
       "      <th></th>\n",
       "      <th>Class</th>\n",
       "      <th>Class Name</th>\n",
       "      <th>0</th>\n",
       "      <th>1</th>\n",
       "      <th>2</th>\n",
       "      <th>3</th>\n",
       "      <th>4</th>\n",
       "      <th>5</th>\n",
       "      <th>6</th>\n",
       "      <th>7</th>\n",
       "      <th>...</th>\n",
       "      <th>3062</th>\n",
       "      <th>3063</th>\n",
       "      <th>3064</th>\n",
       "      <th>3065</th>\n",
       "      <th>3066</th>\n",
       "      <th>3067</th>\n",
       "      <th>3068</th>\n",
       "      <th>3069</th>\n",
       "      <th>3070</th>\n",
       "      <th>3071</th>\n",
       "    </tr>\n",
       "  </thead>\n",
       "  <tbody>\n",
       "    <tr>\n",
       "      <th>0</th>\n",
       "      <td>3</td>\n",
       "      <td>cat</td>\n",
       "      <td>158</td>\n",
       "      <td>112</td>\n",
       "      <td>49</td>\n",
       "      <td>159</td>\n",
       "      <td>111</td>\n",
       "      <td>47</td>\n",
       "      <td>165</td>\n",
       "      <td>116</td>\n",
       "      <td>...</td>\n",
       "      <td>145</td>\n",
       "      <td>24</td>\n",
       "      <td>77</td>\n",
       "      <td>124</td>\n",
       "      <td>34</td>\n",
       "      <td>84</td>\n",
       "      <td>129</td>\n",
       "      <td>21</td>\n",
       "      <td>67</td>\n",
       "      <td>110</td>\n",
       "    </tr>\n",
       "    <tr>\n",
       "      <th>1</th>\n",
       "      <td>8</td>\n",
       "      <td>ship</td>\n",
       "      <td>235</td>\n",
       "      <td>235</td>\n",
       "      <td>235</td>\n",
       "      <td>231</td>\n",
       "      <td>231</td>\n",
       "      <td>231</td>\n",
       "      <td>232</td>\n",
       "      <td>232</td>\n",
       "      <td>...</td>\n",
       "      <td>163</td>\n",
       "      <td>168</td>\n",
       "      <td>183</td>\n",
       "      <td>178</td>\n",
       "      <td>180</td>\n",
       "      <td>195</td>\n",
       "      <td>191</td>\n",
       "      <td>186</td>\n",
       "      <td>200</td>\n",
       "      <td>199</td>\n",
       "    </tr>\n",
       "    <tr>\n",
       "      <th>2</th>\n",
       "      <td>8</td>\n",
       "      <td>ship</td>\n",
       "      <td>158</td>\n",
       "      <td>190</td>\n",
       "      <td>222</td>\n",
       "      <td>158</td>\n",
       "      <td>187</td>\n",
       "      <td>218</td>\n",
       "      <td>139</td>\n",
       "      <td>166</td>\n",
       "      <td>...</td>\n",
       "      <td>37</td>\n",
       "      <td>5</td>\n",
       "      <td>6</td>\n",
       "      <td>8</td>\n",
       "      <td>4</td>\n",
       "      <td>5</td>\n",
       "      <td>3</td>\n",
       "      <td>7</td>\n",
       "      <td>8</td>\n",
       "      <td>7</td>\n",
       "    </tr>\n",
       "    <tr>\n",
       "      <th>3</th>\n",
       "      <td>0</td>\n",
       "      <td>airplane</td>\n",
       "      <td>155</td>\n",
       "      <td>156</td>\n",
       "      <td>149</td>\n",
       "      <td>167</td>\n",
       "      <td>176</td>\n",
       "      <td>187</td>\n",
       "      <td>176</td>\n",
       "      <td>179</td>\n",
       "      <td>...</td>\n",
       "      <td>53</td>\n",
       "      <td>60</td>\n",
       "      <td>63</td>\n",
       "      <td>50</td>\n",
       "      <td>64</td>\n",
       "      <td>65</td>\n",
       "      <td>52</td>\n",
       "      <td>73</td>\n",
       "      <td>68</td>\n",
       "      <td>50</td>\n",
       "    </tr>\n",
       "    <tr>\n",
       "      <th>4</th>\n",
       "      <td>6</td>\n",
       "      <td>frog</td>\n",
       "      <td>65</td>\n",
       "      <td>68</td>\n",
       "      <td>50</td>\n",
       "      <td>70</td>\n",
       "      <td>81</td>\n",
       "      <td>64</td>\n",
       "      <td>48</td>\n",
       "      <td>64</td>\n",
       "      <td>...</td>\n",
       "      <td>147</td>\n",
       "      <td>143</td>\n",
       "      <td>179</td>\n",
       "      <td>136</td>\n",
       "      <td>154</td>\n",
       "      <td>185</td>\n",
       "      <td>146</td>\n",
       "      <td>128</td>\n",
       "      <td>156</td>\n",
       "      <td>117</td>\n",
       "    </tr>\n",
       "  </tbody>\n",
       "</table>\n",
       "<p>5 rows × 3074 columns</p>\n",
       "</div>"
      ],
      "text/plain": [
       "   Class Class Name    0    1    2    3    4    5    6    7  ...  3062  3063  \\\n",
       "0      3        cat  158  112   49  159  111   47  165  116  ...   145    24   \n",
       "1      8       ship  235  235  235  231  231  231  232  232  ...   163   168   \n",
       "2      8       ship  158  190  222  158  187  218  139  166  ...    37     5   \n",
       "3      0   airplane  155  156  149  167  176  187  176  179  ...    53    60   \n",
       "4      6       frog   65   68   50   70   81   64   48   64  ...   147   143   \n",
       "\n",
       "   3064  3065  3066  3067  3068  3069  3070  3071  \n",
       "0    77   124    34    84   129    21    67   110  \n",
       "1   183   178   180   195   191   186   200   199  \n",
       "2     6     8     4     5     3     7     8     7  \n",
       "3    63    50    64    65    52    73    68    50  \n",
       "4   179   136   154   185   146   128   156   117  \n",
       "\n",
       "[5 rows x 3074 columns]"
      ]
     },
     "execution_count": 5,
     "metadata": {},
     "output_type": "execute_result"
    }
   ],
   "source": [
    "test_data.head()"
   ]
  },
  {
   "cell_type": "code",
   "execution_count": 6,
   "metadata": {},
   "outputs": [
    {
     "name": "stdout",
     "output_type": "stream",
     "text": [
      "(50000, 3072)\n",
      "(50000, 2)\n"
     ]
    }
   ],
   "source": [
    "x_train = train_data.iloc[:, 2:]\n",
    "print(x_train.shape)\n",
    "y_train = train_data.iloc[:, [0, 1]]\n",
    "print(y_train.shape)"
   ]
  },
  {
   "cell_type": "code",
   "execution_count": 7,
   "metadata": {},
   "outputs": [
    {
     "name": "stdout",
     "output_type": "stream",
     "text": [
      "(10000, 3072)\n",
      "(10000, 2)\n"
     ]
    }
   ],
   "source": [
    "x_test = test_data.iloc[:, 2:]\n",
    "print(x_test.shape)\n",
    "y_test = test_data.iloc[:, [0, 1]]\n",
    "print(y_test.shape)"
   ]
  },
  {
   "cell_type": "code",
   "execution_count": 8,
   "metadata": {},
   "outputs": [],
   "source": [
    "x_train = np.array(x_train)\n",
    "x_test = np.array(x_test)"
   ]
  },
  {
   "cell_type": "code",
   "execution_count": 9,
   "metadata": {},
   "outputs": [
    {
     "name": "stdout",
     "output_type": "stream",
     "text": [
      "(50000, 3072)\n",
      "(10000, 3072)\n"
     ]
    }
   ],
   "source": [
    "print(x_train.shape)\n",
    "print(x_test.shape)"
   ]
  },
  {
   "cell_type": "code",
   "execution_count": 10,
   "metadata": {},
   "outputs": [
    {
     "name": "stdout",
     "output_type": "stream",
     "text": [
      "(50000, 32, 32, 3)\n",
      "(10000, 32, 32, 3)\n"
     ]
    }
   ],
   "source": [
    "x_train = x_train.reshape(len(x_train), 32, 32, 3)\n",
    "x_test = x_test.reshape(len(x_test), 32, 32, 3)\n",
    "print(x_train.shape)\n",
    "print(x_test.shape)"
   ]
  },
  {
   "cell_type": "code",
   "execution_count": 11,
   "metadata": {},
   "outputs": [
    {
     "name": "stdout",
     "output_type": "stream",
     "text": [
      "(50000, 32, 32, 3)\n",
      "(10000, 32, 32, 3)\n"
     ]
    }
   ],
   "source": [
    "x_train = x_train.astype('float32')/255\n",
    "x_test = x_test.astype('float32')/255\n",
    "print(x_train.shape)\n",
    "print(x_test.shape)"
   ]
  },
  {
   "cell_type": "code",
   "execution_count": 12,
   "metadata": {},
   "outputs": [],
   "source": [
    "input_img = Input(shape = (32, 32, 3))\n",
    "\n",
    "\n",
    "encoded = Conv2D(16, (3, 3), activation = 'relu', padding = 'same')(input_img)\n",
    "encoded = MaxPooling2D((2, 2), padding = 'same')(encoded)\n",
    "encoded = Conv2D(8, (3, 3), activation = 'relu', padding = 'same')(encoded)\n",
    "encoded = MaxPooling2D((2, 2), padding = 'same')(encoded)\n",
    "encoded = Conv2D(8, (3, 3), activation = 'relu', padding = 'same')(encoded)\n",
    "encoded = MaxPooling2D((2, 2), padding = 'same')(encoded)\n",
    "\n",
    "decoded = Conv2D(8, (3, 3), activation = 'relu', padding = 'same')(encoded)\n",
    "decoded = UpSampling2D((2, 2))(decoded)\n",
    "decoded = Conv2D(8, (3, 3), activation = 'relu', padding = 'same')(decoded)\n",
    "decoded = UpSampling2D((2, 2))(decoded)\n",
    "decoded = Conv2D(16, (3, 3), activation = 'relu', padding = 'same')(decoded)\n",
    "decoded = UpSampling2D((2, 2))(decoded)\n",
    "\n",
    "decoded = Conv2D(3, (3, 3), activation = 'tanh', padding = 'same')(decoded)"
   ]
  },
  {
   "cell_type": "code",
   "execution_count": 13,
   "metadata": {},
   "outputs": [],
   "source": [
    "autoencoder = Model(input_img, decoded)\n",
    "encoder = Model(input_img, encoded)"
   ]
  },
  {
   "cell_type": "code",
   "execution_count": 14,
   "metadata": {
    "scrolled": true
   },
   "outputs": [
    {
     "name": "stdout",
     "output_type": "stream",
     "text": [
      "Model: \"model_1\"\n",
      "_________________________________________________________________\n",
      "Layer (type)                 Output Shape              Param #   \n",
      "=================================================================\n",
      "input_1 (InputLayer)         (None, 32, 32, 3)         0         \n",
      "_________________________________________________________________\n",
      "conv2d_1 (Conv2D)            (None, 32, 32, 16)        448       \n",
      "_________________________________________________________________\n",
      "max_pooling2d_1 (MaxPooling2 (None, 16, 16, 16)        0         \n",
      "_________________________________________________________________\n",
      "conv2d_2 (Conv2D)            (None, 16, 16, 8)         1160      \n",
      "_________________________________________________________________\n",
      "max_pooling2d_2 (MaxPooling2 (None, 8, 8, 8)           0         \n",
      "_________________________________________________________________\n",
      "conv2d_3 (Conv2D)            (None, 8, 8, 8)           584       \n",
      "_________________________________________________________________\n",
      "max_pooling2d_3 (MaxPooling2 (None, 4, 4, 8)           0         \n",
      "_________________________________________________________________\n",
      "conv2d_4 (Conv2D)            (None, 4, 4, 8)           584       \n",
      "_________________________________________________________________\n",
      "up_sampling2d_1 (UpSampling2 (None, 8, 8, 8)           0         \n",
      "_________________________________________________________________\n",
      "conv2d_5 (Conv2D)            (None, 8, 8, 8)           584       \n",
      "_________________________________________________________________\n",
      "up_sampling2d_2 (UpSampling2 (None, 16, 16, 8)         0         \n",
      "_________________________________________________________________\n",
      "conv2d_6 (Conv2D)            (None, 16, 16, 16)        1168      \n",
      "_________________________________________________________________\n",
      "up_sampling2d_3 (UpSampling2 (None, 32, 32, 16)        0         \n",
      "_________________________________________________________________\n",
      "conv2d_7 (Conv2D)            (None, 32, 32, 3)         435       \n",
      "=================================================================\n",
      "Total params: 4,963\n",
      "Trainable params: 4,963\n",
      "Non-trainable params: 0\n",
      "_________________________________________________________________\n"
     ]
    }
   ],
   "source": [
    "autoencoder.summary()"
   ]
  },
  {
   "cell_type": "code",
   "execution_count": 15,
   "metadata": {
    "scrolled": true
   },
   "outputs": [
    {
     "name": "stdout",
     "output_type": "stream",
     "text": [
      "Model: \"model_2\"\n",
      "_________________________________________________________________\n",
      "Layer (type)                 Output Shape              Param #   \n",
      "=================================================================\n",
      "input_1 (InputLayer)         (None, 32, 32, 3)         0         \n",
      "_________________________________________________________________\n",
      "conv2d_1 (Conv2D)            (None, 32, 32, 16)        448       \n",
      "_________________________________________________________________\n",
      "max_pooling2d_1 (MaxPooling2 (None, 16, 16, 16)        0         \n",
      "_________________________________________________________________\n",
      "conv2d_2 (Conv2D)            (None, 16, 16, 8)         1160      \n",
      "_________________________________________________________________\n",
      "max_pooling2d_2 (MaxPooling2 (None, 8, 8, 8)           0         \n",
      "_________________________________________________________________\n",
      "conv2d_3 (Conv2D)            (None, 8, 8, 8)           584       \n",
      "_________________________________________________________________\n",
      "max_pooling2d_3 (MaxPooling2 (None, 4, 4, 8)           0         \n",
      "=================================================================\n",
      "Total params: 2,192\n",
      "Trainable params: 2,192\n",
      "Non-trainable params: 0\n",
      "_________________________________________________________________\n"
     ]
    }
   ],
   "source": [
    "encoder.summary()"
   ]
  },
  {
   "cell_type": "code",
   "execution_count": 16,
   "metadata": {
    "scrolled": true
   },
   "outputs": [
    {
     "name": "stdout",
     "output_type": "stream",
     "text": [
      "Train on 50000 samples, validate on 10000 samples\n",
      "Epoch 1/50\n",
      "50000/50000 [==============================] - 80s 2ms/step - loss: 0.0539 - accuracy: 0.3774 - val_loss: 0.0272 - val_accuracy: 0.3895\n",
      "Epoch 2/50\n",
      "50000/50000 [==============================] - 80s 2ms/step - loss: 0.0243 - accuracy: 0.4427 - val_loss: 0.0217 - val_accuracy: 0.5066\n",
      "Epoch 3/50\n",
      "50000/50000 [==============================] - 80s 2ms/step - loss: 0.0205 - accuracy: 0.5370 - val_loss: 0.0194 - val_accuracy: 0.5595\n",
      "Epoch 4/50\n",
      "50000/50000 [==============================] - 81s 2ms/step - loss: 0.0188 - accuracy: 0.5608 - val_loss: 0.0183 - val_accuracy: 0.5618\n",
      "Epoch 5/50\n",
      "50000/50000 [==============================] - 81s 2ms/step - loss: 0.0178 - accuracy: 0.5752 - val_loss: 0.0174 - val_accuracy: 0.5727\n",
      "Epoch 6/50\n",
      "50000/50000 [==============================] - 80s 2ms/step - loss: 0.0171 - accuracy: 0.5856 - val_loss: 0.0169 - val_accuracy: 0.5781\n",
      "Epoch 7/50\n",
      "50000/50000 [==============================] - 80s 2ms/step - loss: 0.0166 - accuracy: 0.5955 - val_loss: 0.0163 - val_accuracy: 0.5986\n",
      "Epoch 8/50\n",
      "50000/50000 [==============================] - 80s 2ms/step - loss: 0.0161 - accuracy: 0.6036 - val_loss: 0.0160 - val_accuracy: 0.6093\n",
      "Epoch 9/50\n",
      "50000/50000 [==============================] - 80s 2ms/step - loss: 0.0158 - accuracy: 0.6099 - val_loss: 0.0155 - val_accuracy: 0.6032\n",
      "Epoch 10/50\n",
      "50000/50000 [==============================] - 87s 2ms/step - loss: 0.0155 - accuracy: 0.6149 - val_loss: 0.0153 - val_accuracy: 0.6200\n",
      "Epoch 11/50\n",
      "50000/50000 [==============================] - 87s 2ms/step - loss: 0.0152 - accuracy: 0.6194 - val_loss: 0.0150 - val_accuracy: 0.6224\n",
      "Epoch 12/50\n",
      "50000/50000 [==============================] - 88s 2ms/step - loss: 0.0150 - accuracy: 0.6230 - val_loss: 0.0148 - val_accuracy: 0.6175\n",
      "Epoch 13/50\n",
      "50000/50000 [==============================] - 91s 2ms/step - loss: 0.0148 - accuracy: 0.6250 - val_loss: 0.0146 - val_accuracy: 0.6350\n",
      "Epoch 14/50\n",
      "50000/50000 [==============================] - 101s 2ms/step - loss: 0.0146 - accuracy: 0.6276 - val_loss: 0.0145 - val_accuracy: 0.6244\n",
      "Epoch 15/50\n",
      "50000/50000 [==============================] - 89s 2ms/step - loss: 0.0145 - accuracy: 0.6300 - val_loss: 0.0144 - val_accuracy: 0.6336\n",
      "Epoch 16/50\n",
      "50000/50000 [==============================] - 84s 2ms/step - loss: 0.0143 - accuracy: 0.6317 - val_loss: 0.0142 - val_accuracy: 0.6412\n",
      "Epoch 17/50\n",
      "50000/50000 [==============================] - 86s 2ms/step - loss: 0.0142 - accuracy: 0.6328 - val_loss: 0.0141 - val_accuracy: 0.6420\n",
      "Epoch 18/50\n",
      "50000/50000 [==============================] - 84s 2ms/step - loss: 0.0141 - accuracy: 0.6338 - val_loss: 0.0140 - val_accuracy: 0.6364\n",
      "Epoch 19/50\n",
      "50000/50000 [==============================] - 82s 2ms/step - loss: 0.0140 - accuracy: 0.6346 - val_loss: 0.0139 - val_accuracy: 0.6431\n",
      "Epoch 20/50\n",
      "50000/50000 [==============================] - 85s 2ms/step - loss: 0.0139 - accuracy: 0.6351 - val_loss: 0.0139 - val_accuracy: 0.6413\n",
      "Epoch 21/50\n",
      "50000/50000 [==============================] - 87s 2ms/step - loss: 0.0138 - accuracy: 0.6363 - val_loss: 0.0140 - val_accuracy: 0.6439\n",
      "Epoch 22/50\n",
      "50000/50000 [==============================] - 80s 2ms/step - loss: 0.0137 - accuracy: 0.6364 - val_loss: 0.0137 - val_accuracy: 0.6413\n",
      "Epoch 23/50\n",
      "50000/50000 [==============================] - 80s 2ms/step - loss: 0.0137 - accuracy: 0.6374 - val_loss: 0.0136 - val_accuracy: 0.6354\n",
      "Epoch 24/50\n",
      "50000/50000 [==============================] - 85s 2ms/step - loss: 0.0136 - accuracy: 0.6383 - val_loss: 0.0135 - val_accuracy: 0.6459\n",
      "Epoch 25/50\n",
      "50000/50000 [==============================] - 84s 2ms/step - loss: 0.0135 - accuracy: 0.6389 - val_loss: 0.0136 - val_accuracy: 0.6447\n",
      "Epoch 26/50\n",
      "50000/50000 [==============================] - 87s 2ms/step - loss: 0.0135 - accuracy: 0.6390 - val_loss: 0.0136 - val_accuracy: 0.6472\n",
      "Epoch 27/50\n",
      "50000/50000 [==============================] - 85s 2ms/step - loss: 0.0134 - accuracy: 0.6394 - val_loss: 0.0133 - val_accuracy: 0.6491\n",
      "Epoch 28/50\n",
      "50000/50000 [==============================] - 84s 2ms/step - loss: 0.0134 - accuracy: 0.6404 - val_loss: 0.0133 - val_accuracy: 0.6326\n",
      "Epoch 29/50\n",
      "50000/50000 [==============================] - 93s 2ms/step - loss: 0.0134 - accuracy: 0.6409 - val_loss: 0.0133 - val_accuracy: 0.6432\n",
      "Epoch 30/50\n",
      "50000/50000 [==============================] - 88s 2ms/step - loss: 0.0133 - accuracy: 0.6408 - val_loss: 0.0132 - val_accuracy: 0.6420\n",
      "Epoch 31/50\n",
      "50000/50000 [==============================] - 85s 2ms/step - loss: 0.0132 - accuracy: 0.6419 - val_loss: 0.0132 - val_accuracy: 0.6498\n",
      "Epoch 32/50\n",
      "50000/50000 [==============================] - 80s 2ms/step - loss: 0.0132 - accuracy: 0.6424 - val_loss: 0.0131 - val_accuracy: 0.6525\n",
      "Epoch 33/50\n",
      "50000/50000 [==============================] - 80s 2ms/step - loss: 0.0132 - accuracy: 0.6421 - val_loss: 0.0132 - val_accuracy: 0.6488\n",
      "Epoch 34/50\n",
      "50000/50000 [==============================] - 80s 2ms/step - loss: 0.0131 - accuracy: 0.6434 - val_loss: 0.0133 - val_accuracy: 0.6513\n",
      "Epoch 35/50\n",
      "50000/50000 [==============================] - 80s 2ms/step - loss: 0.0131 - accuracy: 0.6435 - val_loss: 0.0131 - val_accuracy: 0.6328\n",
      "Epoch 36/50\n",
      "50000/50000 [==============================] - 80s 2ms/step - loss: 0.0131 - accuracy: 0.6426 - val_loss: 0.0129 - val_accuracy: 0.6529\n",
      "Epoch 37/50\n",
      "50000/50000 [==============================] - 80s 2ms/step - loss: 0.0130 - accuracy: 0.6429 - val_loss: 0.0130 - val_accuracy: 0.6310\n",
      "Epoch 38/50\n",
      "50000/50000 [==============================] - 80s 2ms/step - loss: 0.0130 - accuracy: 0.6436 - val_loss: 0.0129 - val_accuracy: 0.6441\n",
      "Epoch 39/50\n",
      "50000/50000 [==============================] - 80s 2ms/step - loss: 0.0130 - accuracy: 0.6444 - val_loss: 0.0129 - val_accuracy: 0.6580\n",
      "Epoch 40/50\n",
      "50000/50000 [==============================] - 80s 2ms/step - loss: 0.0129 - accuracy: 0.6449 - val_loss: 0.0128 - val_accuracy: 0.6384\n",
      "Epoch 41/50\n",
      "50000/50000 [==============================] - 81s 2ms/step - loss: 0.0129 - accuracy: 0.6442 - val_loss: 0.0129 - val_accuracy: 0.6501\n",
      "Epoch 42/50\n",
      "50000/50000 [==============================] - 84s 2ms/step - loss: 0.0129 - accuracy: 0.6445 - val_loss: 0.0130 - val_accuracy: 0.6464\n",
      "Epoch 43/50\n",
      "50000/50000 [==============================] - 86s 2ms/step - loss: 0.0128 - accuracy: 0.6455 - val_loss: 0.0128 - val_accuracy: 0.6326\n",
      "Epoch 44/50\n",
      "50000/50000 [==============================] - 87s 2ms/step - loss: 0.0128 - accuracy: 0.6452 - val_loss: 0.0128 - val_accuracy: 0.6520\n",
      "Epoch 45/50\n",
      "50000/50000 [==============================] - 85s 2ms/step - loss: 0.0128 - accuracy: 0.6447 - val_loss: 0.0127 - val_accuracy: 0.6469\n",
      "Epoch 46/50\n",
      "50000/50000 [==============================] - 85s 2ms/step - loss: 0.0128 - accuracy: 0.6460 - val_loss: 0.0128 - val_accuracy: 0.6425\n",
      "Epoch 47/50\n",
      "50000/50000 [==============================] - 81s 2ms/step - loss: 0.0127 - accuracy: 0.6462 - val_loss: 0.0129 - val_accuracy: 0.6470\n",
      "Epoch 48/50\n",
      "50000/50000 [==============================] - 81s 2ms/step - loss: 0.0127 - accuracy: 0.6457 - val_loss: 0.0127 - val_accuracy: 0.6547\n",
      "Epoch 49/50\n",
      "50000/50000 [==============================] - 80s 2ms/step - loss: 0.0127 - accuracy: 0.6457 - val_loss: 0.0127 - val_accuracy: 0.6542\n",
      "Epoch 50/50\n",
      "50000/50000 [==============================] - 80s 2ms/step - loss: 0.0127 - accuracy: 0.6461 - val_loss: 0.0127 - val_accuracy: 0.6311\n"
     ]
    },
    {
     "data": {
      "text/plain": [
       "<keras.callbacks.callbacks.History at 0x141972d68>"
      ]
     },
     "execution_count": 16,
     "metadata": {},
     "output_type": "execute_result"
    }
   ],
   "source": [
    "autoencoder.compile(optimizer = 'adam', loss = 'mse', metrics = ['accuracy'])\n",
    "autoencoder.fit(x_train, x_train, epochs = 50, batch_size = 256, shuffle = True, validation_data = [x_test, x_test])"
   ]
  },
  {
   "cell_type": "code",
   "execution_count": 17,
   "metadata": {},
   "outputs": [],
   "source": [
    "encoded_test_data = encoder.predict(x_test)\n",
    "predicted_test_data = autoencoder.predict(x_test)"
   ]
  },
  {
   "cell_type": "code",
   "execution_count": 18,
   "metadata": {},
   "outputs": [
    {
     "data": {
      "text/plain": [
       "(10000, 4, 4, 8)"
      ]
     },
     "execution_count": 18,
     "metadata": {},
     "output_type": "execute_result"
    }
   ],
   "source": [
    "encoded_test_data.shape"
   ]
  },
  {
   "cell_type": "code",
   "execution_count": 19,
   "metadata": {},
   "outputs": [],
   "source": [
    "encoded_test_data = encoded_test_data.reshape(len(encoded_test_data), np.prod(encoded_test_data.shape[1:]))"
   ]
  },
  {
   "cell_type": "code",
   "execution_count": 20,
   "metadata": {},
   "outputs": [
    {
     "data": {
      "text/plain": [
       "(10000, 128)"
      ]
     },
     "execution_count": 20,
     "metadata": {},
     "output_type": "execute_result"
    }
   ],
   "source": [
    "encoded_test_data.shape"
   ]
  },
  {
   "cell_type": "code",
   "execution_count": 21,
   "metadata": {},
   "outputs": [
    {
     "data": {
      "text/html": [
       "<div>\n",
       "<style scoped>\n",
       "    .dataframe tbody tr th:only-of-type {\n",
       "        vertical-align: middle;\n",
       "    }\n",
       "\n",
       "    .dataframe tbody tr th {\n",
       "        vertical-align: top;\n",
       "    }\n",
       "\n",
       "    .dataframe thead th {\n",
       "        text-align: right;\n",
       "    }\n",
       "</style>\n",
       "<table border=\"1\" class=\"dataframe\">\n",
       "  <thead>\n",
       "    <tr style=\"text-align: right;\">\n",
       "      <th></th>\n",
       "      <th>Class</th>\n",
       "      <th>Class Name</th>\n",
       "    </tr>\n",
       "  </thead>\n",
       "  <tbody>\n",
       "    <tr>\n",
       "      <th>0</th>\n",
       "      <td>3</td>\n",
       "      <td>cat</td>\n",
       "    </tr>\n",
       "    <tr>\n",
       "      <th>1</th>\n",
       "      <td>8</td>\n",
       "      <td>ship</td>\n",
       "    </tr>\n",
       "    <tr>\n",
       "      <th>2</th>\n",
       "      <td>8</td>\n",
       "      <td>ship</td>\n",
       "    </tr>\n",
       "    <tr>\n",
       "      <th>3</th>\n",
       "      <td>0</td>\n",
       "      <td>airplane</td>\n",
       "    </tr>\n",
       "    <tr>\n",
       "      <th>4</th>\n",
       "      <td>6</td>\n",
       "      <td>frog</td>\n",
       "    </tr>\n",
       "    <tr>\n",
       "      <th>...</th>\n",
       "      <td>...</td>\n",
       "      <td>...</td>\n",
       "    </tr>\n",
       "    <tr>\n",
       "      <th>9995</th>\n",
       "      <td>8</td>\n",
       "      <td>ship</td>\n",
       "    </tr>\n",
       "    <tr>\n",
       "      <th>9996</th>\n",
       "      <td>3</td>\n",
       "      <td>cat</td>\n",
       "    </tr>\n",
       "    <tr>\n",
       "      <th>9997</th>\n",
       "      <td>5</td>\n",
       "      <td>dog</td>\n",
       "    </tr>\n",
       "    <tr>\n",
       "      <th>9998</th>\n",
       "      <td>1</td>\n",
       "      <td>automobile</td>\n",
       "    </tr>\n",
       "    <tr>\n",
       "      <th>9999</th>\n",
       "      <td>7</td>\n",
       "      <td>horse</td>\n",
       "    </tr>\n",
       "  </tbody>\n",
       "</table>\n",
       "<p>10000 rows × 2 columns</p>\n",
       "</div>"
      ],
      "text/plain": [
       "      Class  Class Name\n",
       "0         3         cat\n",
       "1         8        ship\n",
       "2         8        ship\n",
       "3         0    airplane\n",
       "4         6        frog\n",
       "...     ...         ...\n",
       "9995      8        ship\n",
       "9996      3         cat\n",
       "9997      5         dog\n",
       "9998      1  automobile\n",
       "9999      7       horse\n",
       "\n",
       "[10000 rows x 2 columns]"
      ]
     },
     "execution_count": 21,
     "metadata": {},
     "output_type": "execute_result"
    }
   ],
   "source": [
    "y_test"
   ]
  },
  {
   "cell_type": "code",
   "execution_count": 22,
   "metadata": {},
   "outputs": [
    {
     "data": {
      "text/plain": [
       "(10000, 130)"
      ]
     },
     "execution_count": 22,
     "metadata": {},
     "output_type": "execute_result"
    }
   ],
   "source": [
    "encoded_test_data_df = pd.DataFrame(encoded_test_data)\n",
    "final_encoded_test_data_df = pd.concat([y_test, encoded_test_data_df], axis = 1)\n",
    "final_encoded_test_data_df.shape"
   ]
  },
  {
   "cell_type": "code",
   "execution_count": 23,
   "metadata": {},
   "outputs": [],
   "source": [
    "datadir = '/Users/sidv88/Documents/Data_Management_2/Convolutional_Encoded_Data/'\n",
    "final_encoded_test_data_df.to_csv(datadir + 'Convolutional_Encoded_Test_RTAM.csv', index = False)"
   ]
  },
  {
   "cell_type": "code",
   "execution_count": 24,
   "metadata": {},
   "outputs": [
    {
     "name": "stdout",
     "output_type": "stream",
     "text": [
      "Enter one of these values ['cat' 'ship' 'airplane' 'frog' 'automobile' 'truck' 'dog' 'horse' 'deer'\n",
      " 'bird'] : deer\n"
     ]
    }
   ],
   "source": [
    "input_val = input(\"Enter one of these values {} : \".format(final_encoded_test_data_df['Class Name'].unique()))"
   ]
  },
  {
   "cell_type": "code",
   "execution_count": 25,
   "metadata": {},
   "outputs": [
    {
     "name": "stdout",
     "output_type": "stream",
     "text": [
      "Enter a number between 0 and 999 : 4\n"
     ]
    }
   ],
   "source": [
    "input_num = input(\"Enter a number between 0 and 999 : \")"
   ]
  },
  {
   "cell_type": "code",
   "execution_count": 26,
   "metadata": {},
   "outputs": [
    {
     "name": "stdout",
     "output_type": "stream",
     "text": [
      "10000\n",
      "10000\n"
     ]
    }
   ],
   "source": [
    "from numpy import dot\n",
    "from numpy.linalg import norm\n",
    "\n",
    "cosine_similarity = []\n",
    "cosine_distance = []\n",
    "\n",
    "for i in range(len(x_test)):\n",
    "    a = final_encoded_test_data_df.loc[final_encoded_test_data_df['Class Name'] == input_val].iloc[int(input_num), 2:]\n",
    "    b = final_encoded_test_data_df.iloc[i, 2:]\n",
    "    cos_sim = dot(a, b)/(norm(a) * norm(b))\n",
    "    cos_dist = 1 - cos_sim\n",
    "    cosine_similarity.append(cos_sim)\n",
    "    cosine_distance.append(cos_dist)\n",
    "print(len(cosine_similarity))\n",
    "print(len(cosine_distance))"
   ]
  },
  {
   "cell_type": "code",
   "execution_count": 27,
   "metadata": {},
   "outputs": [],
   "source": [
    "final_encoded_test_data_df['Cosine Similarity'] = cosine_similarity\n",
    "final_encoded_test_data_df['Cosine Distance'] = cosine_distance"
   ]
  },
  {
   "cell_type": "code",
   "execution_count": 28,
   "metadata": {},
   "outputs": [
    {
     "data": {
      "text/html": [
       "<div>\n",
       "<style scoped>\n",
       "    .dataframe tbody tr th:only-of-type {\n",
       "        vertical-align: middle;\n",
       "    }\n",
       "\n",
       "    .dataframe tbody tr th {\n",
       "        vertical-align: top;\n",
       "    }\n",
       "\n",
       "    .dataframe thead th {\n",
       "        text-align: right;\n",
       "    }\n",
       "</style>\n",
       "<table border=\"1\" class=\"dataframe\">\n",
       "  <thead>\n",
       "    <tr style=\"text-align: right;\">\n",
       "      <th></th>\n",
       "      <th>Class</th>\n",
       "      <th>Class Name</th>\n",
       "      <th>0</th>\n",
       "      <th>1</th>\n",
       "      <th>2</th>\n",
       "      <th>3</th>\n",
       "      <th>4</th>\n",
       "      <th>5</th>\n",
       "      <th>6</th>\n",
       "      <th>7</th>\n",
       "      <th>...</th>\n",
       "      <th>120</th>\n",
       "      <th>121</th>\n",
       "      <th>122</th>\n",
       "      <th>123</th>\n",
       "      <th>124</th>\n",
       "      <th>125</th>\n",
       "      <th>126</th>\n",
       "      <th>127</th>\n",
       "      <th>Cosine Similarity</th>\n",
       "      <th>Cosine Distance</th>\n",
       "    </tr>\n",
       "  </thead>\n",
       "  <tbody>\n",
       "    <tr>\n",
       "      <th>40</th>\n",
       "      <td>4</td>\n",
       "      <td>deer</td>\n",
       "      <td>0.460064</td>\n",
       "      <td>0.659241</td>\n",
       "      <td>1.942648</td>\n",
       "      <td>0.721003</td>\n",
       "      <td>0.000000</td>\n",
       "      <td>0.207066</td>\n",
       "      <td>0.000000</td>\n",
       "      <td>0.594572</td>\n",
       "      <td>...</td>\n",
       "      <td>1.412103</td>\n",
       "      <td>1.777619</td>\n",
       "      <td>2.150979</td>\n",
       "      <td>0.882654</td>\n",
       "      <td>0.692893</td>\n",
       "      <td>1.187502</td>\n",
       "      <td>1.241942</td>\n",
       "      <td>0.910337</td>\n",
       "      <td>1.000000</td>\n",
       "      <td>0.000000</td>\n",
       "    </tr>\n",
       "    <tr>\n",
       "      <th>3870</th>\n",
       "      <td>8</td>\n",
       "      <td>ship</td>\n",
       "      <td>0.348889</td>\n",
       "      <td>0.635954</td>\n",
       "      <td>1.870495</td>\n",
       "      <td>0.406816</td>\n",
       "      <td>0.000000</td>\n",
       "      <td>0.166869</td>\n",
       "      <td>0.118444</td>\n",
       "      <td>0.841139</td>\n",
       "      <td>...</td>\n",
       "      <td>0.941239</td>\n",
       "      <td>1.429962</td>\n",
       "      <td>2.494362</td>\n",
       "      <td>0.854780</td>\n",
       "      <td>0.421624</td>\n",
       "      <td>0.690428</td>\n",
       "      <td>0.911555</td>\n",
       "      <td>1.039338</td>\n",
       "      <td>0.980544</td>\n",
       "      <td>0.019456</td>\n",
       "    </tr>\n",
       "    <tr>\n",
       "      <th>2245</th>\n",
       "      <td>8</td>\n",
       "      <td>ship</td>\n",
       "      <td>0.437869</td>\n",
       "      <td>0.563044</td>\n",
       "      <td>1.888232</td>\n",
       "      <td>0.454825</td>\n",
       "      <td>0.000000</td>\n",
       "      <td>0.192936</td>\n",
       "      <td>0.052038</td>\n",
       "      <td>0.786324</td>\n",
       "      <td>...</td>\n",
       "      <td>1.113814</td>\n",
       "      <td>1.428314</td>\n",
       "      <td>2.235055</td>\n",
       "      <td>0.814966</td>\n",
       "      <td>0.524603</td>\n",
       "      <td>0.955362</td>\n",
       "      <td>0.933715</td>\n",
       "      <td>1.226153</td>\n",
       "      <td>0.980199</td>\n",
       "      <td>0.019801</td>\n",
       "    </tr>\n",
       "    <tr>\n",
       "      <th>8103</th>\n",
       "      <td>7</td>\n",
       "      <td>horse</td>\n",
       "      <td>0.239223</td>\n",
       "      <td>0.731421</td>\n",
       "      <td>1.797131</td>\n",
       "      <td>0.578038</td>\n",
       "      <td>0.000000</td>\n",
       "      <td>0.061317</td>\n",
       "      <td>0.192821</td>\n",
       "      <td>0.731953</td>\n",
       "      <td>...</td>\n",
       "      <td>0.898522</td>\n",
       "      <td>1.662930</td>\n",
       "      <td>2.683459</td>\n",
       "      <td>0.871065</td>\n",
       "      <td>0.679463</td>\n",
       "      <td>0.704125</td>\n",
       "      <td>1.113498</td>\n",
       "      <td>1.207835</td>\n",
       "      <td>0.979554</td>\n",
       "      <td>0.020446</td>\n",
       "    </tr>\n",
       "    <tr>\n",
       "      <th>2110</th>\n",
       "      <td>0</td>\n",
       "      <td>airplane</td>\n",
       "      <td>0.344967</td>\n",
       "      <td>0.515556</td>\n",
       "      <td>1.601754</td>\n",
       "      <td>0.250804</td>\n",
       "      <td>0.000000</td>\n",
       "      <td>0.220699</td>\n",
       "      <td>0.415399</td>\n",
       "      <td>0.943354</td>\n",
       "      <td>...</td>\n",
       "      <td>0.998442</td>\n",
       "      <td>1.270162</td>\n",
       "      <td>2.196192</td>\n",
       "      <td>0.868788</td>\n",
       "      <td>0.499600</td>\n",
       "      <td>1.174477</td>\n",
       "      <td>1.134252</td>\n",
       "      <td>1.008217</td>\n",
       "      <td>0.979485</td>\n",
       "      <td>0.020515</td>\n",
       "    </tr>\n",
       "    <tr>\n",
       "      <th>...</th>\n",
       "      <td>...</td>\n",
       "      <td>...</td>\n",
       "      <td>...</td>\n",
       "      <td>...</td>\n",
       "      <td>...</td>\n",
       "      <td>...</td>\n",
       "      <td>...</td>\n",
       "      <td>...</td>\n",
       "      <td>...</td>\n",
       "      <td>...</td>\n",
       "      <td>...</td>\n",
       "      <td>...</td>\n",
       "      <td>...</td>\n",
       "      <td>...</td>\n",
       "      <td>...</td>\n",
       "      <td>...</td>\n",
       "      <td>...</td>\n",
       "      <td>...</td>\n",
       "      <td>...</td>\n",
       "      <td>...</td>\n",
       "      <td>...</td>\n",
       "    </tr>\n",
       "    <tr>\n",
       "      <th>6941</th>\n",
       "      <td>4</td>\n",
       "      <td>deer</td>\n",
       "      <td>0.476362</td>\n",
       "      <td>0.254263</td>\n",
       "      <td>0.265397</td>\n",
       "      <td>0.625542</td>\n",
       "      <td>0.039535</td>\n",
       "      <td>0.986407</td>\n",
       "      <td>0.610873</td>\n",
       "      <td>0.282841</td>\n",
       "      <td>...</td>\n",
       "      <td>1.176581</td>\n",
       "      <td>0.951869</td>\n",
       "      <td>0.957502</td>\n",
       "      <td>0.941357</td>\n",
       "      <td>0.681852</td>\n",
       "      <td>1.736957</td>\n",
       "      <td>1.163226</td>\n",
       "      <td>0.640106</td>\n",
       "      <td>0.807728</td>\n",
       "      <td>0.192272</td>\n",
       "    </tr>\n",
       "    <tr>\n",
       "      <th>9765</th>\n",
       "      <td>4</td>\n",
       "      <td>deer</td>\n",
       "      <td>0.378314</td>\n",
       "      <td>0.285992</td>\n",
       "      <td>0.060438</td>\n",
       "      <td>0.647390</td>\n",
       "      <td>0.264594</td>\n",
       "      <td>0.972172</td>\n",
       "      <td>0.572185</td>\n",
       "      <td>0.069883</td>\n",
       "      <td>...</td>\n",
       "      <td>1.019343</td>\n",
       "      <td>1.521636</td>\n",
       "      <td>1.484264</td>\n",
       "      <td>0.777081</td>\n",
       "      <td>0.596951</td>\n",
       "      <td>1.515852</td>\n",
       "      <td>1.232682</td>\n",
       "      <td>0.780854</td>\n",
       "      <td>0.805013</td>\n",
       "      <td>0.194987</td>\n",
       "    </tr>\n",
       "    <tr>\n",
       "      <th>872</th>\n",
       "      <td>4</td>\n",
       "      <td>deer</td>\n",
       "      <td>0.377485</td>\n",
       "      <td>0.289122</td>\n",
       "      <td>0.066855</td>\n",
       "      <td>0.649296</td>\n",
       "      <td>0.262711</td>\n",
       "      <td>0.969303</td>\n",
       "      <td>0.568640</td>\n",
       "      <td>0.071280</td>\n",
       "      <td>...</td>\n",
       "      <td>1.049210</td>\n",
       "      <td>1.191947</td>\n",
       "      <td>1.618512</td>\n",
       "      <td>0.808582</td>\n",
       "      <td>0.792402</td>\n",
       "      <td>1.372418</td>\n",
       "      <td>1.421334</td>\n",
       "      <td>0.907220</td>\n",
       "      <td>0.804928</td>\n",
       "      <td>0.195072</td>\n",
       "    </tr>\n",
       "    <tr>\n",
       "      <th>8244</th>\n",
       "      <td>4</td>\n",
       "      <td>deer</td>\n",
       "      <td>0.378420</td>\n",
       "      <td>0.287201</td>\n",
       "      <td>0.063033</td>\n",
       "      <td>0.647192</td>\n",
       "      <td>0.262762</td>\n",
       "      <td>0.970943</td>\n",
       "      <td>0.570839</td>\n",
       "      <td>0.072613</td>\n",
       "      <td>...</td>\n",
       "      <td>1.058726</td>\n",
       "      <td>1.198532</td>\n",
       "      <td>1.368087</td>\n",
       "      <td>0.959248</td>\n",
       "      <td>0.770070</td>\n",
       "      <td>1.689557</td>\n",
       "      <td>1.193952</td>\n",
       "      <td>1.011788</td>\n",
       "      <td>0.800025</td>\n",
       "      <td>0.199975</td>\n",
       "    </tr>\n",
       "    <tr>\n",
       "      <th>9246</th>\n",
       "      <td>3</td>\n",
       "      <td>cat</td>\n",
       "      <td>0.358758</td>\n",
       "      <td>0.330855</td>\n",
       "      <td>0.066722</td>\n",
       "      <td>0.630409</td>\n",
       "      <td>0.238322</td>\n",
       "      <td>0.975014</td>\n",
       "      <td>0.520413</td>\n",
       "      <td>0.090643</td>\n",
       "      <td>...</td>\n",
       "      <td>1.196440</td>\n",
       "      <td>0.909927</td>\n",
       "      <td>2.076183</td>\n",
       "      <td>0.794286</td>\n",
       "      <td>1.012298</td>\n",
       "      <td>2.012126</td>\n",
       "      <td>2.075639</td>\n",
       "      <td>1.414116</td>\n",
       "      <td>0.799980</td>\n",
       "      <td>0.200020</td>\n",
       "    </tr>\n",
       "  </tbody>\n",
       "</table>\n",
       "<p>10000 rows × 132 columns</p>\n",
       "</div>"
      ],
      "text/plain": [
       "      Class Class Name         0         1         2         3         4  \\\n",
       "40        4       deer  0.460064  0.659241  1.942648  0.721003  0.000000   \n",
       "3870      8       ship  0.348889  0.635954  1.870495  0.406816  0.000000   \n",
       "2245      8       ship  0.437869  0.563044  1.888232  0.454825  0.000000   \n",
       "8103      7      horse  0.239223  0.731421  1.797131  0.578038  0.000000   \n",
       "2110      0   airplane  0.344967  0.515556  1.601754  0.250804  0.000000   \n",
       "...     ...        ...       ...       ...       ...       ...       ...   \n",
       "6941      4       deer  0.476362  0.254263  0.265397  0.625542  0.039535   \n",
       "9765      4       deer  0.378314  0.285992  0.060438  0.647390  0.264594   \n",
       "872       4       deer  0.377485  0.289122  0.066855  0.649296  0.262711   \n",
       "8244      4       deer  0.378420  0.287201  0.063033  0.647192  0.262762   \n",
       "9246      3        cat  0.358758  0.330855  0.066722  0.630409  0.238322   \n",
       "\n",
       "             5         6         7  ...       120       121       122  \\\n",
       "40    0.207066  0.000000  0.594572  ...  1.412103  1.777619  2.150979   \n",
       "3870  0.166869  0.118444  0.841139  ...  0.941239  1.429962  2.494362   \n",
       "2245  0.192936  0.052038  0.786324  ...  1.113814  1.428314  2.235055   \n",
       "8103  0.061317  0.192821  0.731953  ...  0.898522  1.662930  2.683459   \n",
       "2110  0.220699  0.415399  0.943354  ...  0.998442  1.270162  2.196192   \n",
       "...        ...       ...       ...  ...       ...       ...       ...   \n",
       "6941  0.986407  0.610873  0.282841  ...  1.176581  0.951869  0.957502   \n",
       "9765  0.972172  0.572185  0.069883  ...  1.019343  1.521636  1.484264   \n",
       "872   0.969303  0.568640  0.071280  ...  1.049210  1.191947  1.618512   \n",
       "8244  0.970943  0.570839  0.072613  ...  1.058726  1.198532  1.368087   \n",
       "9246  0.975014  0.520413  0.090643  ...  1.196440  0.909927  2.076183   \n",
       "\n",
       "           123       124       125       126       127  Cosine Similarity  \\\n",
       "40    0.882654  0.692893  1.187502  1.241942  0.910337           1.000000   \n",
       "3870  0.854780  0.421624  0.690428  0.911555  1.039338           0.980544   \n",
       "2245  0.814966  0.524603  0.955362  0.933715  1.226153           0.980199   \n",
       "8103  0.871065  0.679463  0.704125  1.113498  1.207835           0.979554   \n",
       "2110  0.868788  0.499600  1.174477  1.134252  1.008217           0.979485   \n",
       "...        ...       ...       ...       ...       ...                ...   \n",
       "6941  0.941357  0.681852  1.736957  1.163226  0.640106           0.807728   \n",
       "9765  0.777081  0.596951  1.515852  1.232682  0.780854           0.805013   \n",
       "872   0.808582  0.792402  1.372418  1.421334  0.907220           0.804928   \n",
       "8244  0.959248  0.770070  1.689557  1.193952  1.011788           0.800025   \n",
       "9246  0.794286  1.012298  2.012126  2.075639  1.414116           0.799980   \n",
       "\n",
       "      Cosine Distance  \n",
       "40           0.000000  \n",
       "3870         0.019456  \n",
       "2245         0.019801  \n",
       "8103         0.020446  \n",
       "2110         0.020515  \n",
       "...               ...  \n",
       "6941         0.192272  \n",
       "9765         0.194987  \n",
       "872          0.195072  \n",
       "8244         0.199975  \n",
       "9246         0.200020  \n",
       "\n",
       "[10000 rows x 132 columns]"
      ]
     },
     "execution_count": 28,
     "metadata": {},
     "output_type": "execute_result"
    }
   ],
   "source": [
    "final_encoded_test_data_df.sort_values(by = ['Cosine Similarity'], ascending = False)"
   ]
  },
  {
   "cell_type": "code",
   "execution_count": 29,
   "metadata": {},
   "outputs": [],
   "source": [
    "cosine_index = final_encoded_test_data_df.sort_values(by = ['Cosine Similarity'], ascending = False).head(10).index"
   ]
  },
  {
   "cell_type": "code",
   "execution_count": 30,
   "metadata": {
    "scrolled": true
   },
   "outputs": [
    {
     "data": {
      "image/png": "[encoded data removed]",
      "text/plain": [
       "<Figure size 144x144 with 1 Axes>"
      ]
     },
     "metadata": {
      "needs_background": "light"
     },
     "output_type": "display_data"
    },
    {
     "data": {
      "image/png": "[encoded data removed]",
      "text/plain": [
       "<Figure size 144x144 with 1 Axes>"
      ]
     },
     "metadata": {
      "needs_background": "light"
     },
     "output_type": "display_data"
    },
    {
     "data": {
      "image/png": "[encoded data removed]",
      "text/plain": [
       "<Figure size 144x144 with 1 Axes>"
      ]
     },
     "metadata": {
      "needs_background": "light"
     },
     "output_type": "display_data"
    },
    {
     "data": {
      "image/png": "[encoded data removed]",
      "text/plain": [
       "<Figure size 144x144 with 1 Axes>"
      ]
     },
     "metadata": {
      "needs_background": "light"
     },
     "output_type": "display_data"
    },
    {
     "data": {
      "image/png": "[encoded data removed]",
      "text/plain": [
       "<Figure size 144x144 with 1 Axes>"
      ]
     },
     "metadata": {
      "needs_background": "light"
     },
     "output_type": "display_data"
    },
    {
     "data": {
      "image/png": "[encoded data removed]",
      "text/plain": [
       "<Figure size 144x144 with 1 Axes>"
      ]
     },
     "metadata": {
      "needs_background": "light"
     },
     "output_type": "display_data"
    },
    {
     "data": {
      "image/png": "[encoded data removed]",
      "text/plain": [
       "<Figure size 144x144 with 1 Axes>"
      ]
     },
     "metadata": {
      "needs_background": "light"
     },
     "output_type": "display_data"
    },
    {
     "data": {
      "image/png": "[encoded data removed]",
      "text/plain": [
       "<Figure size 144x144 with 1 Axes>"
      ]
     },
     "metadata": {
      "needs_background": "light"
     },
     "output_type": "display_data"
    },
    {
     "data": {
      "image/png": "[encoded data removed]",
      "text/plain": [
       "<Figure size 144x144 with 1 Axes>"
      ]
     },
     "metadata": {
      "needs_background": "light"
     },
     "output_type": "display_data"
    },
    {
     "data": {
      "image/png": "[encoded data removed]",
      "text/plain": [
       "<Figure size 144x144 with 1 Axes>"
      ]
     },
     "metadata": {
      "needs_background": "light"
     },
     "output_type": "display_data"
    }
   ],
   "source": [
    "for i in cosine_index:\n",
    "    plt.figure(figsize = (2, 2))\n",
    "    plt.imshow(x_test[i].reshape(32, 32, 3))\n",
    "    plt.xlabel(final_encoded_test_data_df['Class Name'][i] + ' with a Cosine Similarity of ' + str(final_encoded_test_data_df['Cosine Similarity'][i]) + ' from the queried image.')\n",
    "    plt.show()"
   ]
  },
  {
   "cell_type": "code",
   "execution_count": 31,
   "metadata": {},
   "outputs": [
    {
     "name": "stdout",
     "output_type": "stream",
     "text": [
      "10000\n"
     ]
    }
   ],
   "source": [
    "euclidean_distance = []\n",
    "\n",
    "for i in range(len(x_test)):\n",
    "    a = final_encoded_test_data_df.loc[final_encoded_test_data_df['Class Name'] == input_val].iloc[int(input_num), 2:]\n",
    "    b = final_encoded_test_data_df.iloc[i, 2:]\n",
    "    euc_dist = np.linalg.norm(a-b)\n",
    "    euclidean_distance.append(euc_dist)\n",
    "print(len(euclidean_distance))"
   ]
  },
  {
   "cell_type": "code",
   "execution_count": 32,
   "metadata": {},
   "outputs": [
    {
     "data": {
      "text/html": [
       "<div>\n",
       "<style scoped>\n",
       "    .dataframe tbody tr th:only-of-type {\n",
       "        vertical-align: middle;\n",
       "    }\n",
       "\n",
       "    .dataframe tbody tr th {\n",
       "        vertical-align: top;\n",
       "    }\n",
       "\n",
       "    .dataframe thead th {\n",
       "        text-align: right;\n",
       "    }\n",
       "</style>\n",
       "<table border=\"1\" class=\"dataframe\">\n",
       "  <thead>\n",
       "    <tr style=\"text-align: right;\">\n",
       "      <th></th>\n",
       "      <th>Class</th>\n",
       "      <th>Class Name</th>\n",
       "      <th>0</th>\n",
       "      <th>1</th>\n",
       "      <th>2</th>\n",
       "      <th>3</th>\n",
       "      <th>4</th>\n",
       "      <th>5</th>\n",
       "      <th>6</th>\n",
       "      <th>7</th>\n",
       "      <th>...</th>\n",
       "      <th>121</th>\n",
       "      <th>122</th>\n",
       "      <th>123</th>\n",
       "      <th>124</th>\n",
       "      <th>125</th>\n",
       "      <th>126</th>\n",
       "      <th>127</th>\n",
       "      <th>Cosine Similarity</th>\n",
       "      <th>Cosine Distance</th>\n",
       "      <th>Euclidean Distance</th>\n",
       "    </tr>\n",
       "  </thead>\n",
       "  <tbody>\n",
       "    <tr>\n",
       "      <th>40</th>\n",
       "      <td>4</td>\n",
       "      <td>deer</td>\n",
       "      <td>0.460064</td>\n",
       "      <td>0.659241</td>\n",
       "      <td>1.942648</td>\n",
       "      <td>0.721003</td>\n",
       "      <td>0.000000</td>\n",
       "      <td>0.207066</td>\n",
       "      <td>0.000000</td>\n",
       "      <td>0.594572</td>\n",
       "      <td>...</td>\n",
       "      <td>1.777619</td>\n",
       "      <td>2.150979</td>\n",
       "      <td>0.882654</td>\n",
       "      <td>0.692893</td>\n",
       "      <td>1.187502</td>\n",
       "      <td>1.241942</td>\n",
       "      <td>0.910337</td>\n",
       "      <td>1.000000</td>\n",
       "      <td>0.000000</td>\n",
       "      <td>0.000000</td>\n",
       "    </tr>\n",
       "    <tr>\n",
       "      <th>8103</th>\n",
       "      <td>7</td>\n",
       "      <td>horse</td>\n",
       "      <td>0.239223</td>\n",
       "      <td>0.731421</td>\n",
       "      <td>1.797131</td>\n",
       "      <td>0.578038</td>\n",
       "      <td>0.000000</td>\n",
       "      <td>0.061317</td>\n",
       "      <td>0.192821</td>\n",
       "      <td>0.731953</td>\n",
       "      <td>...</td>\n",
       "      <td>1.662930</td>\n",
       "      <td>2.683459</td>\n",
       "      <td>0.871065</td>\n",
       "      <td>0.679463</td>\n",
       "      <td>0.704125</td>\n",
       "      <td>1.113498</td>\n",
       "      <td>1.207835</td>\n",
       "      <td>0.979554</td>\n",
       "      <td>0.020446</td>\n",
       "      <td>3.010317</td>\n",
       "    </tr>\n",
       "    <tr>\n",
       "      <th>2548</th>\n",
       "      <td>0</td>\n",
       "      <td>airplane</td>\n",
       "      <td>0.560040</td>\n",
       "      <td>0.488280</td>\n",
       "      <td>2.215963</td>\n",
       "      <td>0.668560</td>\n",
       "      <td>0.000000</td>\n",
       "      <td>0.034476</td>\n",
       "      <td>0.013064</td>\n",
       "      <td>0.703387</td>\n",
       "      <td>...</td>\n",
       "      <td>1.533251</td>\n",
       "      <td>2.545718</td>\n",
       "      <td>0.881902</td>\n",
       "      <td>0.623635</td>\n",
       "      <td>1.150604</td>\n",
       "      <td>1.071995</td>\n",
       "      <td>1.192792</td>\n",
       "      <td>0.978906</td>\n",
       "      <td>0.021094</td>\n",
       "      <td>3.076466</td>\n",
       "    </tr>\n",
       "    <tr>\n",
       "      <th>2616</th>\n",
       "      <td>1</td>\n",
       "      <td>automobile</td>\n",
       "      <td>0.473527</td>\n",
       "      <td>0.416610</td>\n",
       "      <td>2.472712</td>\n",
       "      <td>0.220013</td>\n",
       "      <td>0.000000</td>\n",
       "      <td>0.000000</td>\n",
       "      <td>0.254719</td>\n",
       "      <td>1.090311</td>\n",
       "      <td>...</td>\n",
       "      <td>1.292732</td>\n",
       "      <td>2.452774</td>\n",
       "      <td>1.174711</td>\n",
       "      <td>0.947916</td>\n",
       "      <td>1.310028</td>\n",
       "      <td>0.896080</td>\n",
       "      <td>0.781654</td>\n",
       "      <td>0.977786</td>\n",
       "      <td>0.022214</td>\n",
       "      <td>3.124811</td>\n",
       "    </tr>\n",
       "    <tr>\n",
       "      <th>2109</th>\n",
       "      <td>0</td>\n",
       "      <td>airplane</td>\n",
       "      <td>0.594020</td>\n",
       "      <td>0.414587</td>\n",
       "      <td>2.194545</td>\n",
       "      <td>0.501250</td>\n",
       "      <td>0.000000</td>\n",
       "      <td>0.101886</td>\n",
       "      <td>0.075868</td>\n",
       "      <td>0.851737</td>\n",
       "      <td>...</td>\n",
       "      <td>1.461340</td>\n",
       "      <td>2.300244</td>\n",
       "      <td>0.763049</td>\n",
       "      <td>0.373926</td>\n",
       "      <td>1.003745</td>\n",
       "      <td>1.013785</td>\n",
       "      <td>1.024396</td>\n",
       "      <td>0.979264</td>\n",
       "      <td>0.020736</td>\n",
       "      <td>3.140076</td>\n",
       "    </tr>\n",
       "    <tr>\n",
       "      <th>...</th>\n",
       "      <td>...</td>\n",
       "      <td>...</td>\n",
       "      <td>...</td>\n",
       "      <td>...</td>\n",
       "      <td>...</td>\n",
       "      <td>...</td>\n",
       "      <td>...</td>\n",
       "      <td>...</td>\n",
       "      <td>...</td>\n",
       "      <td>...</td>\n",
       "      <td>...</td>\n",
       "      <td>...</td>\n",
       "      <td>...</td>\n",
       "      <td>...</td>\n",
       "      <td>...</td>\n",
       "      <td>...</td>\n",
       "      <td>...</td>\n",
       "      <td>...</td>\n",
       "      <td>...</td>\n",
       "      <td>...</td>\n",
       "      <td>...</td>\n",
       "    </tr>\n",
       "    <tr>\n",
       "      <th>6941</th>\n",
       "      <td>4</td>\n",
       "      <td>deer</td>\n",
       "      <td>0.476362</td>\n",
       "      <td>0.254263</td>\n",
       "      <td>0.265397</td>\n",
       "      <td>0.625542</td>\n",
       "      <td>0.039535</td>\n",
       "      <td>0.986407</td>\n",
       "      <td>0.610873</td>\n",
       "      <td>0.282841</td>\n",
       "      <td>...</td>\n",
       "      <td>0.951869</td>\n",
       "      <td>0.957502</td>\n",
       "      <td>0.941357</td>\n",
       "      <td>0.681852</td>\n",
       "      <td>1.736957</td>\n",
       "      <td>1.163226</td>\n",
       "      <td>0.640106</td>\n",
       "      <td>0.807728</td>\n",
       "      <td>0.192272</td>\n",
       "      <td>8.949936</td>\n",
       "    </tr>\n",
       "    <tr>\n",
       "      <th>9246</th>\n",
       "      <td>3</td>\n",
       "      <td>cat</td>\n",
       "      <td>0.358758</td>\n",
       "      <td>0.330855</td>\n",
       "      <td>0.066722</td>\n",
       "      <td>0.630409</td>\n",
       "      <td>0.238322</td>\n",
       "      <td>0.975014</td>\n",
       "      <td>0.520413</td>\n",
       "      <td>0.090643</td>\n",
       "      <td>...</td>\n",
       "      <td>0.909927</td>\n",
       "      <td>2.076183</td>\n",
       "      <td>0.794286</td>\n",
       "      <td>1.012298</td>\n",
       "      <td>2.012126</td>\n",
       "      <td>2.075639</td>\n",
       "      <td>1.414116</td>\n",
       "      <td>0.799980</td>\n",
       "      <td>0.200020</td>\n",
       "      <td>8.963187</td>\n",
       "    </tr>\n",
       "    <tr>\n",
       "      <th>9765</th>\n",
       "      <td>4</td>\n",
       "      <td>deer</td>\n",
       "      <td>0.378314</td>\n",
       "      <td>0.285992</td>\n",
       "      <td>0.060438</td>\n",
       "      <td>0.647390</td>\n",
       "      <td>0.264594</td>\n",
       "      <td>0.972172</td>\n",
       "      <td>0.572185</td>\n",
       "      <td>0.069883</td>\n",
       "      <td>...</td>\n",
       "      <td>1.521636</td>\n",
       "      <td>1.484264</td>\n",
       "      <td>0.777081</td>\n",
       "      <td>0.596951</td>\n",
       "      <td>1.515852</td>\n",
       "      <td>1.232682</td>\n",
       "      <td>0.780854</td>\n",
       "      <td>0.805013</td>\n",
       "      <td>0.194987</td>\n",
       "      <td>9.051278</td>\n",
       "    </tr>\n",
       "    <tr>\n",
       "      <th>872</th>\n",
       "      <td>4</td>\n",
       "      <td>deer</td>\n",
       "      <td>0.377485</td>\n",
       "      <td>0.289122</td>\n",
       "      <td>0.066855</td>\n",
       "      <td>0.649296</td>\n",
       "      <td>0.262711</td>\n",
       "      <td>0.969303</td>\n",
       "      <td>0.568640</td>\n",
       "      <td>0.071280</td>\n",
       "      <td>...</td>\n",
       "      <td>1.191947</td>\n",
       "      <td>1.618512</td>\n",
       "      <td>0.808582</td>\n",
       "      <td>0.792402</td>\n",
       "      <td>1.372418</td>\n",
       "      <td>1.421334</td>\n",
       "      <td>0.907220</td>\n",
       "      <td>0.804928</td>\n",
       "      <td>0.195072</td>\n",
       "      <td>9.062824</td>\n",
       "    </tr>\n",
       "    <tr>\n",
       "      <th>8244</th>\n",
       "      <td>4</td>\n",
       "      <td>deer</td>\n",
       "      <td>0.378420</td>\n",
       "      <td>0.287201</td>\n",
       "      <td>0.063033</td>\n",
       "      <td>0.647192</td>\n",
       "      <td>0.262762</td>\n",
       "      <td>0.970943</td>\n",
       "      <td>0.570839</td>\n",
       "      <td>0.072613</td>\n",
       "      <td>...</td>\n",
       "      <td>1.198532</td>\n",
       "      <td>1.368087</td>\n",
       "      <td>0.959248</td>\n",
       "      <td>0.770070</td>\n",
       "      <td>1.689557</td>\n",
       "      <td>1.193952</td>\n",
       "      <td>1.011788</td>\n",
       "      <td>0.800025</td>\n",
       "      <td>0.199975</td>\n",
       "      <td>9.082923</td>\n",
       "    </tr>\n",
       "  </tbody>\n",
       "</table>\n",
       "<p>10000 rows × 133 columns</p>\n",
       "</div>"
      ],
      "text/plain": [
       "      Class  Class Name         0         1         2         3         4  \\\n",
       "40        4        deer  0.460064  0.659241  1.942648  0.721003  0.000000   \n",
       "8103      7       horse  0.239223  0.731421  1.797131  0.578038  0.000000   \n",
       "2548      0    airplane  0.560040  0.488280  2.215963  0.668560  0.000000   \n",
       "2616      1  automobile  0.473527  0.416610  2.472712  0.220013  0.000000   \n",
       "2109      0    airplane  0.594020  0.414587  2.194545  0.501250  0.000000   \n",
       "...     ...         ...       ...       ...       ...       ...       ...   \n",
       "6941      4        deer  0.476362  0.254263  0.265397  0.625542  0.039535   \n",
       "9246      3         cat  0.358758  0.330855  0.066722  0.630409  0.238322   \n",
       "9765      4        deer  0.378314  0.285992  0.060438  0.647390  0.264594   \n",
       "872       4        deer  0.377485  0.289122  0.066855  0.649296  0.262711   \n",
       "8244      4        deer  0.378420  0.287201  0.063033  0.647192  0.262762   \n",
       "\n",
       "             5         6         7  ...       121       122       123  \\\n",
       "40    0.207066  0.000000  0.594572  ...  1.777619  2.150979  0.882654   \n",
       "8103  0.061317  0.192821  0.731953  ...  1.662930  2.683459  0.871065   \n",
       "2548  0.034476  0.013064  0.703387  ...  1.533251  2.545718  0.881902   \n",
       "2616  0.000000  0.254719  1.090311  ...  1.292732  2.452774  1.174711   \n",
       "2109  0.101886  0.075868  0.851737  ...  1.461340  2.300244  0.763049   \n",
       "...        ...       ...       ...  ...       ...       ...       ...   \n",
       "6941  0.986407  0.610873  0.282841  ...  0.951869  0.957502  0.941357   \n",
       "9246  0.975014  0.520413  0.090643  ...  0.909927  2.076183  0.794286   \n",
       "9765  0.972172  0.572185  0.069883  ...  1.521636  1.484264  0.777081   \n",
       "872   0.969303  0.568640  0.071280  ...  1.191947  1.618512  0.808582   \n",
       "8244  0.970943  0.570839  0.072613  ...  1.198532  1.368087  0.959248   \n",
       "\n",
       "           124       125       126       127  Cosine Similarity  \\\n",
       "40    0.692893  1.187502  1.241942  0.910337           1.000000   \n",
       "8103  0.679463  0.704125  1.113498  1.207835           0.979554   \n",
       "2548  0.623635  1.150604  1.071995  1.192792           0.978906   \n",
       "2616  0.947916  1.310028  0.896080  0.781654           0.977786   \n",
       "2109  0.373926  1.003745  1.013785  1.024396           0.979264   \n",
       "...        ...       ...       ...       ...                ...   \n",
       "6941  0.681852  1.736957  1.163226  0.640106           0.807728   \n",
       "9246  1.012298  2.012126  2.075639  1.414116           0.799980   \n",
       "9765  0.596951  1.515852  1.232682  0.780854           0.805013   \n",
       "872   0.792402  1.372418  1.421334  0.907220           0.804928   \n",
       "8244  0.770070  1.689557  1.193952  1.011788           0.800025   \n",
       "\n",
       "      Cosine Distance  Euclidean Distance  \n",
       "40           0.000000            0.000000  \n",
       "8103         0.020446            3.010317  \n",
       "2548         0.021094            3.076466  \n",
       "2616         0.022214            3.124811  \n",
       "2109         0.020736            3.140076  \n",
       "...               ...                 ...  \n",
       "6941         0.192272            8.949936  \n",
       "9246         0.200020            8.963187  \n",
       "9765         0.194987            9.051278  \n",
       "872          0.195072            9.062824  \n",
       "8244         0.199975            9.082923  \n",
       "\n",
       "[10000 rows x 133 columns]"
      ]
     },
     "execution_count": 32,
     "metadata": {},
     "output_type": "execute_result"
    }
   ],
   "source": [
    "final_encoded_test_data_df['Euclidean Distance'] = euclidean_distance\n",
    "final_encoded_test_data_df.sort_values(by = ['Euclidean Distance'])"
   ]
  },
  {
   "cell_type": "code",
   "execution_count": 33,
   "metadata": {
    "scrolled": true
   },
   "outputs": [
    {
     "data": {
      "image/png": "[encoded data removed]",
      "text/plain": [
       "<Figure size 144x144 with 1 Axes>"
      ]
     },
     "metadata": {
      "needs_background": "light"
     },
     "output_type": "display_data"
    },
    {
     "data": {
      "image/png": "[encoded data removed]",
      "text/plain": [
       "<Figure size 144x144 with 1 Axes>"
      ]
     },
     "metadata": {
      "needs_background": "light"
     },
     "output_type": "display_data"
    },
    {
     "data": {
      "image/png": "[encoded data removed]",
      "text/plain": [
       "<Figure size 144x144 with 1 Axes>"
      ]
     },
     "metadata": {
      "needs_background": "light"
     },
     "output_type": "display_data"
    },
    {
     "data": {
      "image/png": "[encoded data removed]",
      "text/plain": [
       "<Figure size 144x144 with 1 Axes>"
      ]
     },
     "metadata": {
      "needs_background": "light"
     },
     "output_type": "display_data"
    },
    {
     "data": {
      "image/png": "[encoded data removed]",
      "text/plain": [
       "<Figure size 144x144 with 1 Axes>"
      ]
     },
     "metadata": {
      "needs_background": "light"
     },
     "output_type": "display_data"
    },
    {
     "data": {
      "image/png": "[encoded data removed]",
      "text/plain": [
       "<Figure size 144x144 with 1 Axes>"
      ]
     },
     "metadata": {
      "needs_background": "light"
     },
     "output_type": "display_data"
    },
    {
     "data": {
      "image/png": "[encoded data removed]",
      "text/plain": [
       "<Figure size 144x144 with 1 Axes>"
      ]
     },
     "metadata": {
      "needs_background": "light"
     },
     "output_type": "display_data"
    },
    {
     "data": {
      "image/png": "[encoded data removed]",
      "text/plain": [
       "<Figure size 144x144 with 1 Axes>"
      ]
     },
     "metadata": {
      "needs_background": "light"
     },
     "output_type": "display_data"
    },
    {
     "data": {
      "image/png": "[encoded data removed]",
      "text/plain": [
       "<Figure size 144x144 with 1 Axes>"
      ]
     },
     "metadata": {
      "needs_background": "light"
     },
     "output_type": "display_data"
    },
    {
     "data": {
      "image/png": "[encoded data removed]",
      "text/plain": [
       "<Figure size 144x144 with 1 Axes>"
      ]
     },
     "metadata": {
      "needs_background": "light"
     },
     "output_type": "display_data"
    }
   ],
   "source": [
    "euclidean_index = final_encoded_test_data_df.sort_values(by = ['Euclidean Distance']).head(10).index\n",
    "\n",
    "for i in euclidean_index:\n",
    "    plt.figure(figsize = (2, 2))\n",
    "    plt.imshow(x_test[i].reshape(32, 32, 3))\n",
    "    plt.xlabel(final_encoded_test_data_df['Class Name'][i] + ' with an Euclidean Distance of ' + str(final_encoded_test_data_df['Euclidean Distance'][i]) + ' from the queried image.')\n",
    "    plt.show()"
   ]
  },
  {
   "cell_type": "code",
   "execution_count": null,
   "metadata": {},
   "outputs": [],
   "source": []
  }
 ],
 "metadata": {
  "kernelspec": {
   "display_name": "Python 3",
   "language": "python",
   "name": "python3"
  },
  "language_info": {
   "codemirror_mode": {
    "name": "ipython",
    "version": 3
   },
   "file_extension": ".py",
   "mimetype": "text/x-python",
   "name": "python",
   "nbconvert_exporter": "python",
   "pygments_lexer": "ipython3",
   "version": "3.6.9"
  }
 },
 "nbformat": 4,
 "nbformat_minor": 2
}
