{
 "cells": [
  {
   "cell_type": "code",
   "execution_count": 2,
   "metadata": {},
   "outputs": [],
   "source": [
    "from keras.layers import Input, Dense, Conv2D, MaxPooling2D, UpSampling2D\n",
    "from keras.models import Model\n",
    "\n",
    "import numpy as np\n",
    "import pandas as pd\n",
    "import matplotlib.pyplot as plt\n",
    "%matplotlib inline"
   ]
  },
  {
   "cell_type": "code",
   "execution_count": 3,
   "metadata": {},
   "outputs": [
    {
     "name": "stdout",
     "output_type": "stream",
     "text": [
      "(50000, 3074)\n",
      "(10000, 3074)\n"
     ]
    }
   ],
   "source": [
    "datadir = '/Users/sidv88/Documents/Data_Management_2/Data/'\n",
    "train_data = pd.read_csv(datadir + 'train_rgb.csv')\n",
    "test_data = pd.read_csv(datadir + 'test_rgb.csv')\n",
    "print(train_data.shape)\n",
    "print(test_data.shape)"
   ]
  },
  {
   "cell_type": "code",
   "execution_count": 4,
   "metadata": {},
   "outputs": [
    {
     "data": {
      "text/html": [
       "<div>\n",
       "<style scoped>\n",
       "    .dataframe tbody tr th:only-of-type {\n",
       "        vertical-align: middle;\n",
       "    }\n",
       "\n",
       "    .dataframe tbody tr th {\n",
       "        vertical-align: top;\n",
       "    }\n",
       "\n",
       "    .dataframe thead th {\n",
       "        text-align: right;\n",
       "    }\n",
       "</style>\n",
       "<table border=\"1\" class=\"dataframe\">\n",
       "  <thead>\n",
       "    <tr style=\"text-align: right;\">\n",
       "      <th></th>\n",
       "      <th>Class</th>\n",
       "      <th>Class Name</th>\n",
       "      <th>0</th>\n",
       "      <th>1</th>\n",
       "      <th>2</th>\n",
       "      <th>3</th>\n",
       "      <th>4</th>\n",
       "      <th>5</th>\n",
       "      <th>6</th>\n",
       "      <th>7</th>\n",
       "      <th>...</th>\n",
       "      <th>3062</th>\n",
       "      <th>3063</th>\n",
       "      <th>3064</th>\n",
       "      <th>3065</th>\n",
       "      <th>3066</th>\n",
       "      <th>3067</th>\n",
       "      <th>3068</th>\n",
       "      <th>3069</th>\n",
       "      <th>3070</th>\n",
       "      <th>3071</th>\n",
       "    </tr>\n",
       "  </thead>\n",
       "  <tbody>\n",
       "    <tr>\n",
       "      <th>0</th>\n",
       "      <td>6</td>\n",
       "      <td>frog</td>\n",
       "      <td>59</td>\n",
       "      <td>62</td>\n",
       "      <td>63</td>\n",
       "      <td>43</td>\n",
       "      <td>46</td>\n",
       "      <td>45</td>\n",
       "      <td>50</td>\n",
       "      <td>48</td>\n",
       "      <td>...</td>\n",
       "      <td>104</td>\n",
       "      <td>216</td>\n",
       "      <td>184</td>\n",
       "      <td>140</td>\n",
       "      <td>151</td>\n",
       "      <td>118</td>\n",
       "      <td>84</td>\n",
       "      <td>123</td>\n",
       "      <td>92</td>\n",
       "      <td>72</td>\n",
       "    </tr>\n",
       "    <tr>\n",
       "      <th>1</th>\n",
       "      <td>9</td>\n",
       "      <td>truck</td>\n",
       "      <td>154</td>\n",
       "      <td>177</td>\n",
       "      <td>187</td>\n",
       "      <td>126</td>\n",
       "      <td>137</td>\n",
       "      <td>136</td>\n",
       "      <td>105</td>\n",
       "      <td>104</td>\n",
       "      <td>...</td>\n",
       "      <td>136</td>\n",
       "      <td>143</td>\n",
       "      <td>133</td>\n",
       "      <td>139</td>\n",
       "      <td>143</td>\n",
       "      <td>134</td>\n",
       "      <td>142</td>\n",
       "      <td>143</td>\n",
       "      <td>133</td>\n",
       "      <td>144</td>\n",
       "    </tr>\n",
       "    <tr>\n",
       "      <th>2</th>\n",
       "      <td>9</td>\n",
       "      <td>truck</td>\n",
       "      <td>255</td>\n",
       "      <td>255</td>\n",
       "      <td>255</td>\n",
       "      <td>253</td>\n",
       "      <td>253</td>\n",
       "      <td>253</td>\n",
       "      <td>253</td>\n",
       "      <td>253</td>\n",
       "      <td>...</td>\n",
       "      <td>79</td>\n",
       "      <td>78</td>\n",
       "      <td>85</td>\n",
       "      <td>83</td>\n",
       "      <td>79</td>\n",
       "      <td>85</td>\n",
       "      <td>83</td>\n",
       "      <td>80</td>\n",
       "      <td>86</td>\n",
       "      <td>84</td>\n",
       "    </tr>\n",
       "    <tr>\n",
       "      <th>3</th>\n",
       "      <td>4</td>\n",
       "      <td>deer</td>\n",
       "      <td>28</td>\n",
       "      <td>25</td>\n",
       "      <td>10</td>\n",
       "      <td>37</td>\n",
       "      <td>34</td>\n",
       "      <td>19</td>\n",
       "      <td>38</td>\n",
       "      <td>35</td>\n",
       "      <td>...</td>\n",
       "      <td>38</td>\n",
       "      <td>54</td>\n",
       "      <td>47</td>\n",
       "      <td>28</td>\n",
       "      <td>63</td>\n",
       "      <td>56</td>\n",
       "      <td>37</td>\n",
       "      <td>72</td>\n",
       "      <td>65</td>\n",
       "      <td>46</td>\n",
       "    </tr>\n",
       "    <tr>\n",
       "      <th>4</th>\n",
       "      <td>1</td>\n",
       "      <td>automobile</td>\n",
       "      <td>170</td>\n",
       "      <td>180</td>\n",
       "      <td>198</td>\n",
       "      <td>168</td>\n",
       "      <td>178</td>\n",
       "      <td>196</td>\n",
       "      <td>177</td>\n",
       "      <td>185</td>\n",
       "      <td>...</td>\n",
       "      <td>78</td>\n",
       "      <td>75</td>\n",
       "      <td>79</td>\n",
       "      <td>82</td>\n",
       "      <td>71</td>\n",
       "      <td>75</td>\n",
       "      <td>78</td>\n",
       "      <td>73</td>\n",
       "      <td>77</td>\n",
       "      <td>80</td>\n",
       "    </tr>\n",
       "  </tbody>\n",
       "</table>\n",
       "<p>5 rows × 3074 columns</p>\n",
       "</div>"
      ],
      "text/plain": [
       "   Class  Class Name    0    1    2    3    4    5    6    7  ...  3062  3063  \\\n",
       "0      6        frog   59   62   63   43   46   45   50   48  ...   104   216   \n",
       "1      9       truck  154  177  187  126  137  136  105  104  ...   136   143   \n",
       "2      9       truck  255  255  255  253  253  253  253  253  ...    79    78   \n",
       "3      4        deer   28   25   10   37   34   19   38   35  ...    38    54   \n",
       "4      1  automobile  170  180  198  168  178  196  177  185  ...    78    75   \n",
       "\n",
       "   3064  3065  3066  3067  3068  3069  3070  3071  \n",
       "0   184   140   151   118    84   123    92    72  \n",
       "1   133   139   143   134   142   143   133   144  \n",
       "2    85    83    79    85    83    80    86    84  \n",
       "3    47    28    63    56    37    72    65    46  \n",
       "4    79    82    71    75    78    73    77    80  \n",
       "\n",
       "[5 rows x 3074 columns]"
      ]
     },
     "execution_count": 4,
     "metadata": {},
     "output_type": "execute_result"
    }
   ],
   "source": [
    "train_data.head()"
   ]
  },
  {
   "cell_type": "code",
   "execution_count": 5,
   "metadata": {},
   "outputs": [
    {
     "data": {
      "text/html": [
       "<div>\n",
       "<style scoped>\n",
       "    .dataframe tbody tr th:only-of-type {\n",
       "        vertical-align: middle;\n",
       "    }\n",
       "\n",
       "    .dataframe tbody tr th {\n",
       "        vertical-align: top;\n",
       "    }\n",
       "\n",
       "    .dataframe thead th {\n",
       "        text-align: right;\n",
       "    }\n",
       "</style>\n",
       "<table border=\"1\" class=\"dataframe\">\n",
       "  <thead>\n",
       "    <tr style=\"text-align: right;\">\n",
       "      <th></th>\n",
       "      <th>Class</th>\n",
       "      <th>Class Name</th>\n",
       "      <th>0</th>\n",
       "      <th>1</th>\n",
       "      <th>2</th>\n",
       "      <th>3</th>\n",
       "      <th>4</th>\n",
       "      <th>5</th>\n",
       "      <th>6</th>\n",
       "      <th>7</th>\n",
       "      <th>...</th>\n",
       "      <th>3062</th>\n",
       "      <th>3063</th>\n",
       "      <th>3064</th>\n",
       "      <th>3065</th>\n",
       "      <th>3066</th>\n",
       "      <th>3067</th>\n",
       "      <th>3068</th>\n",
       "      <th>3069</th>\n",
       "      <th>3070</th>\n",
       "      <th>3071</th>\n",
       "    </tr>\n",
       "  </thead>\n",
       "  <tbody>\n",
       "    <tr>\n",
       "      <th>0</th>\n",
       "      <td>3</td>\n",
       "      <td>cat</td>\n",
       "      <td>158</td>\n",
       "      <td>112</td>\n",
       "      <td>49</td>\n",
       "      <td>159</td>\n",
       "      <td>111</td>\n",
       "      <td>47</td>\n",
       "      <td>165</td>\n",
       "      <td>116</td>\n",
       "      <td>...</td>\n",
       "      <td>145</td>\n",
       "      <td>24</td>\n",
       "      <td>77</td>\n",
       "      <td>124</td>\n",
       "      <td>34</td>\n",
       "      <td>84</td>\n",
       "      <td>129</td>\n",
       "      <td>21</td>\n",
       "      <td>67</td>\n",
       "      <td>110</td>\n",
       "    </tr>\n",
       "    <tr>\n",
       "      <th>1</th>\n",
       "      <td>8</td>\n",
       "      <td>ship</td>\n",
       "      <td>235</td>\n",
       "      <td>235</td>\n",
       "      <td>235</td>\n",
       "      <td>231</td>\n",
       "      <td>231</td>\n",
       "      <td>231</td>\n",
       "      <td>232</td>\n",
       "      <td>232</td>\n",
       "      <td>...</td>\n",
       "      <td>163</td>\n",
       "      <td>168</td>\n",
       "      <td>183</td>\n",
       "      <td>178</td>\n",
       "      <td>180</td>\n",
       "      <td>195</td>\n",
       "      <td>191</td>\n",
       "      <td>186</td>\n",
       "      <td>200</td>\n",
       "      <td>199</td>\n",
       "    </tr>\n",
       "    <tr>\n",
       "      <th>2</th>\n",
       "      <td>8</td>\n",
       "      <td>ship</td>\n",
       "      <td>158</td>\n",
       "      <td>190</td>\n",
       "      <td>222</td>\n",
       "      <td>158</td>\n",
       "      <td>187</td>\n",
       "      <td>218</td>\n",
       "      <td>139</td>\n",
       "      <td>166</td>\n",
       "      <td>...</td>\n",
       "      <td>37</td>\n",
       "      <td>5</td>\n",
       "      <td>6</td>\n",
       "      <td>8</td>\n",
       "      <td>4</td>\n",
       "      <td>5</td>\n",
       "      <td>3</td>\n",
       "      <td>7</td>\n",
       "      <td>8</td>\n",
       "      <td>7</td>\n",
       "    </tr>\n",
       "    <tr>\n",
       "      <th>3</th>\n",
       "      <td>0</td>\n",
       "      <td>airplane</td>\n",
       "      <td>155</td>\n",
       "      <td>156</td>\n",
       "      <td>149</td>\n",
       "      <td>167</td>\n",
       "      <td>176</td>\n",
       "      <td>187</td>\n",
       "      <td>176</td>\n",
       "      <td>179</td>\n",
       "      <td>...</td>\n",
       "      <td>53</td>\n",
       "      <td>60</td>\n",
       "      <td>63</td>\n",
       "      <td>50</td>\n",
       "      <td>64</td>\n",
       "      <td>65</td>\n",
       "      <td>52</td>\n",
       "      <td>73</td>\n",
       "      <td>68</td>\n",
       "      <td>50</td>\n",
       "    </tr>\n",
       "    <tr>\n",
       "      <th>4</th>\n",
       "      <td>6</td>\n",
       "      <td>frog</td>\n",
       "      <td>65</td>\n",
       "      <td>68</td>\n",
       "      <td>50</td>\n",
       "      <td>70</td>\n",
       "      <td>81</td>\n",
       "      <td>64</td>\n",
       "      <td>48</td>\n",
       "      <td>64</td>\n",
       "      <td>...</td>\n",
       "      <td>147</td>\n",
       "      <td>143</td>\n",
       "      <td>179</td>\n",
       "      <td>136</td>\n",
       "      <td>154</td>\n",
       "      <td>185</td>\n",
       "      <td>146</td>\n",
       "      <td>128</td>\n",
       "      <td>156</td>\n",
       "      <td>117</td>\n",
       "    </tr>\n",
       "  </tbody>\n",
       "</table>\n",
       "<p>5 rows × 3074 columns</p>\n",
       "</div>"
      ],
      "text/plain": [
       "   Class Class Name    0    1    2    3    4    5    6    7  ...  3062  3063  \\\n",
       "0      3        cat  158  112   49  159  111   47  165  116  ...   145    24   \n",
       "1      8       ship  235  235  235  231  231  231  232  232  ...   163   168   \n",
       "2      8       ship  158  190  222  158  187  218  139  166  ...    37     5   \n",
       "3      0   airplane  155  156  149  167  176  187  176  179  ...    53    60   \n",
       "4      6       frog   65   68   50   70   81   64   48   64  ...   147   143   \n",
       "\n",
       "   3064  3065  3066  3067  3068  3069  3070  3071  \n",
       "0    77   124    34    84   129    21    67   110  \n",
       "1   183   178   180   195   191   186   200   199  \n",
       "2     6     8     4     5     3     7     8     7  \n",
       "3    63    50    64    65    52    73    68    50  \n",
       "4   179   136   154   185   146   128   156   117  \n",
       "\n",
       "[5 rows x 3074 columns]"
      ]
     },
     "execution_count": 5,
     "metadata": {},
     "output_type": "execute_result"
    }
   ],
   "source": [
    "test_data.head()"
   ]
  },
  {
   "cell_type": "code",
   "execution_count": 6,
   "metadata": {},
   "outputs": [
    {
     "name": "stdout",
     "output_type": "stream",
     "text": [
      "(50000, 3072)\n",
      "(50000, 2)\n"
     ]
    }
   ],
   "source": [
    "x_train = train_data.iloc[:, 2:]\n",
    "print(x_train.shape)\n",
    "y_train = train_data.iloc[:, [0, 1]]\n",
    "print(y_train.shape)"
   ]
  },
  {
   "cell_type": "code",
   "execution_count": 7,
   "metadata": {},
   "outputs": [
    {
     "name": "stdout",
     "output_type": "stream",
     "text": [
      "(10000, 3072)\n",
      "(10000, 2)\n"
     ]
    }
   ],
   "source": [
    "x_test = test_data.iloc[:, 2:]\n",
    "print(x_test.shape)\n",
    "y_test = test_data.iloc[:, [0, 1]]\n",
    "print(y_test.shape)"
   ]
  },
  {
   "cell_type": "code",
   "execution_count": 8,
   "metadata": {},
   "outputs": [],
   "source": [
    "x_train = np.array(x_train)\n",
    "x_test = np.array(x_test)"
   ]
  },
  {
   "cell_type": "code",
   "execution_count": 9,
   "metadata": {},
   "outputs": [
    {
     "name": "stdout",
     "output_type": "stream",
     "text": [
      "(50000, 3072)\n",
      "(10000, 3072)\n"
     ]
    }
   ],
   "source": [
    "print(x_train.shape)\n",
    "print(x_test.shape)"
   ]
  },
  {
   "cell_type": "code",
   "execution_count": 10,
   "metadata": {},
   "outputs": [
    {
     "name": "stdout",
     "output_type": "stream",
     "text": [
      "(50000, 32, 32, 3)\n",
      "(10000, 32, 32, 3)\n"
     ]
    }
   ],
   "source": [
    "x_train = x_train.reshape(len(x_train), 32, 32, 3)\n",
    "x_test = x_test.reshape(len(x_test), 32, 32, 3)\n",
    "print(x_train.shape)\n",
    "print(x_test.shape)"
   ]
  },
  {
   "cell_type": "code",
   "execution_count": 11,
   "metadata": {},
   "outputs": [
    {
     "name": "stdout",
     "output_type": "stream",
     "text": [
      "(50000, 32, 32, 3)\n",
      "(10000, 32, 32, 3)\n"
     ]
    }
   ],
   "source": [
    "x_train = x_train.astype('float32')/255\n",
    "x_test = x_test.astype('float32')/255\n",
    "print(x_train.shape)\n",
    "print(x_test.shape)"
   ]
  },
  {
   "cell_type": "code",
   "execution_count": 12,
   "metadata": {},
   "outputs": [],
   "source": [
    "input_img = Input(shape = (32, 32, 3))\n",
    "\n",
    "\n",
    "encoded = Conv2D(16, (3, 3), activation = 'relu', padding = 'same')(input_img)\n",
    "encoded = MaxPooling2D((2, 2), padding = 'same')(encoded)\n",
    "encoded = Conv2D(8, (3, 3), activation = 'relu', padding = 'same')(encoded)\n",
    "encoded = MaxPooling2D((2, 2), padding = 'same')(encoded)\n",
    "encoded = Conv2D(8, (3, 3), activation = 'relu', padding = 'same')(encoded)\n",
    "encoded = MaxPooling2D((2, 2), padding = 'same')(encoded)\n",
    "\n",
    "decoded = Conv2D(8, (3, 3), activation = 'relu', padding = 'same')(encoded)\n",
    "decoded = UpSampling2D((2, 2))(decoded)\n",
    "decoded = Conv2D(8, (3, 3), activation = 'relu', padding = 'same')(decoded)\n",
    "decoded = UpSampling2D((2, 2))(decoded)\n",
    "decoded = Conv2D(16, (3, 3), activation = 'relu', padding = 'same')(decoded)\n",
    "decoded = UpSampling2D((2, 2))(decoded)\n",
    "\n",
    "decoded = Conv2D(3, (3, 3), activation = 'sigmoid', padding = 'same')(decoded)"
   ]
  },
  {
   "cell_type": "code",
   "execution_count": 13,
   "metadata": {},
   "outputs": [],
   "source": [
    "autoencoder = Model(input_img, decoded)\n",
    "encoder = Model(input_img, encoded)"
   ]
  },
  {
   "cell_type": "code",
   "execution_count": 14,
   "metadata": {
    "scrolled": true
   },
   "outputs": [
    {
     "name": "stdout",
     "output_type": "stream",
     "text": [
      "Model: \"model_1\"\n",
      "_________________________________________________________________\n",
      "Layer (type)                 Output Shape              Param #   \n",
      "=================================================================\n",
      "input_1 (InputLayer)         (None, 32, 32, 3)         0         \n",
      "_________________________________________________________________\n",
      "conv2d_1 (Conv2D)            (None, 32, 32, 16)        448       \n",
      "_________________________________________________________________\n",
      "max_pooling2d_1 (MaxPooling2 (None, 16, 16, 16)        0         \n",
      "_________________________________________________________________\n",
      "conv2d_2 (Conv2D)            (None, 16, 16, 8)         1160      \n",
      "_________________________________________________________________\n",
      "max_pooling2d_2 (MaxPooling2 (None, 8, 8, 8)           0         \n",
      "_________________________________________________________________\n",
      "conv2d_3 (Conv2D)            (None, 8, 8, 8)           584       \n",
      "_________________________________________________________________\n",
      "max_pooling2d_3 (MaxPooling2 (None, 4, 4, 8)           0         \n",
      "_________________________________________________________________\n",
      "conv2d_4 (Conv2D)            (None, 4, 4, 8)           584       \n",
      "_________________________________________________________________\n",
      "up_sampling2d_1 (UpSampling2 (None, 8, 8, 8)           0         \n",
      "_________________________________________________________________\n",
      "conv2d_5 (Conv2D)            (None, 8, 8, 8)           584       \n",
      "_________________________________________________________________\n",
      "up_sampling2d_2 (UpSampling2 (None, 16, 16, 8)         0         \n",
      "_________________________________________________________________\n",
      "conv2d_6 (Conv2D)            (None, 16, 16, 16)        1168      \n",
      "_________________________________________________________________\n",
      "up_sampling2d_3 (UpSampling2 (None, 32, 32, 16)        0         \n",
      "_________________________________________________________________\n",
      "conv2d_7 (Conv2D)            (None, 32, 32, 3)         435       \n",
      "=================================================================\n",
      "Total params: 4,963\n",
      "Trainable params: 4,963\n",
      "Non-trainable params: 0\n",
      "_________________________________________________________________\n"
     ]
    }
   ],
   "source": [
    "autoencoder.summary()"
   ]
  },
  {
   "cell_type": "code",
   "execution_count": 15,
   "metadata": {
    "scrolled": true
   },
   "outputs": [
    {
     "name": "stdout",
     "output_type": "stream",
     "text": [
      "Model: \"model_2\"\n",
      "_________________________________________________________________\n",
      "Layer (type)                 Output Shape              Param #   \n",
      "=================================================================\n",
      "input_1 (InputLayer)         (None, 32, 32, 3)         0         \n",
      "_________________________________________________________________\n",
      "conv2d_1 (Conv2D)            (None, 32, 32, 16)        448       \n",
      "_________________________________________________________________\n",
      "max_pooling2d_1 (MaxPooling2 (None, 16, 16, 16)        0         \n",
      "_________________________________________________________________\n",
      "conv2d_2 (Conv2D)            (None, 16, 16, 8)         1160      \n",
      "_________________________________________________________________\n",
      "max_pooling2d_2 (MaxPooling2 (None, 8, 8, 8)           0         \n",
      "_________________________________________________________________\n",
      "conv2d_3 (Conv2D)            (None, 8, 8, 8)           584       \n",
      "_________________________________________________________________\n",
      "max_pooling2d_3 (MaxPooling2 (None, 4, 4, 8)           0         \n",
      "=================================================================\n",
      "Total params: 2,192\n",
      "Trainable params: 2,192\n",
      "Non-trainable params: 0\n",
      "_________________________________________________________________\n"
     ]
    }
   ],
   "source": [
    "encoder.summary()"
   ]
  },
  {
   "cell_type": "code",
   "execution_count": 16,
   "metadata": {
    "scrolled": true
   },
   "outputs": [
    {
     "name": "stdout",
     "output_type": "stream",
     "text": [
      "Train on 50000 samples, validate on 10000 samples\n",
      "Epoch 1/50\n",
      "50000/50000 [==============================] - 97s 2ms/step - loss: 0.6365 - accuracy: 0.0098 - val_loss: 0.6086 - val_accuracy: 0.0118\n",
      "Epoch 2/50\n",
      "50000/50000 [==============================] - 82s 2ms/step - loss: 0.6020 - accuracy: 0.0118 - val_loss: 0.5985 - val_accuracy: 0.0119\n",
      "Epoch 3/50\n",
      "50000/50000 [==============================] - 82s 2ms/step - loss: 0.5955 - accuracy: 0.0119 - val_loss: 0.5943 - val_accuracy: 0.0120\n",
      "Epoch 4/50\n",
      "50000/50000 [==============================] - 82s 2ms/step - loss: 0.5928 - accuracy: 0.0119 - val_loss: 0.5965 - val_accuracy: 0.0120\n",
      "Epoch 5/50\n",
      "50000/50000 [==============================] - 82s 2ms/step - loss: 0.5912 - accuracy: 0.0119 - val_loss: 0.5915 - val_accuracy: 0.0120\n",
      "Epoch 6/50\n",
      "50000/50000 [==============================] - 82s 2ms/step - loss: 0.5899 - accuracy: 0.0119 - val_loss: 0.5902 - val_accuracy: 0.0120\n",
      "Epoch 7/50\n",
      "50000/50000 [==============================] - 82s 2ms/step - loss: 0.5890 - accuracy: 0.0120 - val_loss: 0.5894 - val_accuracy: 0.0120\n",
      "Epoch 8/50\n",
      "50000/50000 [==============================] - 82s 2ms/step - loss: 0.5882 - accuracy: 0.0120 - val_loss: 0.5890 - val_accuracy: 0.0120\n",
      "Epoch 9/50\n",
      "50000/50000 [==============================] - 85s 2ms/step - loss: 0.5876 - accuracy: 0.0120 - val_loss: 0.5882 - val_accuracy: 0.0120\n",
      "Epoch 10/50\n",
      "50000/50000 [==============================] - 83s 2ms/step - loss: 0.5870 - accuracy: 0.0120 - val_loss: 0.5873 - val_accuracy: 0.0120\n",
      "Epoch 11/50\n",
      "50000/50000 [==============================] - 88s 2ms/step - loss: 0.5865 - accuracy: 0.0120 - val_loss: 0.5874 - val_accuracy: 0.0121\n",
      "Epoch 12/50\n",
      "50000/50000 [==============================] - 88s 2ms/step - loss: 0.5861 - accuracy: 0.0120 - val_loss: 0.5864 - val_accuracy: 0.0121\n",
      "Epoch 13/50\n",
      "50000/50000 [==============================] - 84s 2ms/step - loss: 0.5856 - accuracy: 0.0120 - val_loss: 0.5864 - val_accuracy: 0.0120\n",
      "Epoch 14/50\n",
      "50000/50000 [==============================] - 83s 2ms/step - loss: 0.5852 - accuracy: 0.0120 - val_loss: 0.5857 - val_accuracy: 0.0121\n",
      "Epoch 15/50\n",
      "50000/50000 [==============================] - 82s 2ms/step - loss: 0.5848 - accuracy: 0.0120 - val_loss: 0.5858 - val_accuracy: 0.0121\n",
      "Epoch 16/50\n",
      "50000/50000 [==============================] - 82s 2ms/step - loss: 0.5845 - accuracy: 0.0120 - val_loss: 0.5853 - val_accuracy: 0.0121\n",
      "Epoch 17/50\n",
      "50000/50000 [==============================] - 85s 2ms/step - loss: 0.5842 - accuracy: 0.0120 - val_loss: 0.5850 - val_accuracy: 0.0121\n",
      "Epoch 18/50\n",
      "50000/50000 [==============================] - 84s 2ms/step - loss: 0.5839 - accuracy: 0.0120 - val_loss: 0.5845 - val_accuracy: 0.0121\n",
      "Epoch 19/50\n",
      "50000/50000 [==============================] - 82s 2ms/step - loss: 0.5837 - accuracy: 0.0120 - val_loss: 0.5847 - val_accuracy: 0.0121\n",
      "Epoch 20/50\n",
      "50000/50000 [==============================] - 82s 2ms/step - loss: 0.5835 - accuracy: 0.0120 - val_loss: 0.5840 - val_accuracy: 0.0121\n",
      "Epoch 21/50\n",
      "50000/50000 [==============================] - 82s 2ms/step - loss: 0.5831 - accuracy: 0.0120 - val_loss: 0.5840 - val_accuracy: 0.0121\n",
      "Epoch 22/50\n",
      "50000/50000 [==============================] - 83s 2ms/step - loss: 0.5829 - accuracy: 0.0120 - val_loss: 0.5835 - val_accuracy: 0.0121\n",
      "Epoch 23/50\n",
      "50000/50000 [==============================] - 85s 2ms/step - loss: 0.5827 - accuracy: 0.0120 - val_loss: 0.5834 - val_accuracy: 0.0121\n",
      "Epoch 24/50\n",
      "50000/50000 [==============================] - 86s 2ms/step - loss: 0.5826 - accuracy: 0.0120 - val_loss: 0.5837 - val_accuracy: 0.0121\n",
      "Epoch 25/50\n",
      "50000/50000 [==============================] - 82s 2ms/step - loss: 0.5824 - accuracy: 0.0120 - val_loss: 0.5847 - val_accuracy: 0.0121\n",
      "Epoch 26/50\n",
      "50000/50000 [==============================] - 82s 2ms/step - loss: 0.5823 - accuracy: 0.0120 - val_loss: 0.5828 - val_accuracy: 0.0121\n",
      "Epoch 27/50\n",
      "50000/50000 [==============================] - 88s 2ms/step - loss: 0.5821 - accuracy: 0.0120 - val_loss: 0.5827 - val_accuracy: 0.0121\n",
      "Epoch 28/50\n",
      "50000/50000 [==============================] - 84s 2ms/step - loss: 0.5819 - accuracy: 0.0120 - val_loss: 0.5826 - val_accuracy: 0.0121\n",
      "Epoch 29/50\n",
      "50000/50000 [==============================] - 88s 2ms/step - loss: 0.5818 - accuracy: 0.0120 - val_loss: 0.5824 - val_accuracy: 0.0121\n",
      "Epoch 30/50\n",
      "50000/50000 [==============================] - 82s 2ms/step - loss: 0.5818 - accuracy: 0.0120 - val_loss: 0.5831 - val_accuracy: 0.0121\n",
      "Epoch 31/50\n",
      "50000/50000 [==============================] - 82s 2ms/step - loss: 0.5816 - accuracy: 0.0120 - val_loss: 0.5826 - val_accuracy: 0.0121\n",
      "Epoch 32/50\n",
      "50000/50000 [==============================] - 82s 2ms/step - loss: 0.5816 - accuracy: 0.0120 - val_loss: 0.5821 - val_accuracy: 0.0121\n",
      "Epoch 33/50\n",
      "50000/50000 [==============================] - 84s 2ms/step - loss: 0.5814 - accuracy: 0.0120 - val_loss: 0.5821 - val_accuracy: 0.0121\n",
      "Epoch 34/50\n",
      "50000/50000 [==============================] - 87s 2ms/step - loss: 0.5813 - accuracy: 0.0120 - val_loss: 0.5820 - val_accuracy: 0.0121\n",
      "Epoch 35/50\n",
      "50000/50000 [==============================] - 85s 2ms/step - loss: 0.5812 - accuracy: 0.0120 - val_loss: 0.5818 - val_accuracy: 0.0121\n",
      "Epoch 36/50\n",
      "50000/50000 [==============================] - 82s 2ms/step - loss: 0.5812 - accuracy: 0.0120 - val_loss: 0.5818 - val_accuracy: 0.0121\n",
      "Epoch 37/50\n",
      "50000/50000 [==============================] - 82s 2ms/step - loss: 0.5810 - accuracy: 0.0120 - val_loss: 0.5817 - val_accuracy: 0.0121\n",
      "Epoch 38/50\n",
      "50000/50000 [==============================] - 86s 2ms/step - loss: 0.5810 - accuracy: 0.0120 - val_loss: 0.5817 - val_accuracy: 0.0121\n",
      "Epoch 39/50\n",
      "50000/50000 [==============================] - 88s 2ms/step - loss: 0.5809 - accuracy: 0.0120 - val_loss: 0.5815 - val_accuracy: 0.0121\n",
      "Epoch 40/50\n",
      "50000/50000 [==============================] - 95s 2ms/step - loss: 0.5808 - accuracy: 0.0120 - val_loss: 0.5815 - val_accuracy: 0.0121\n",
      "Epoch 41/50\n",
      "50000/50000 [==============================] - 101s 2ms/step - loss: 0.5807 - accuracy: 0.0120 - val_loss: 0.5813 - val_accuracy: 0.0121\n",
      "Epoch 42/50\n",
      "50000/50000 [==============================] - 89s 2ms/step - loss: 0.5807 - accuracy: 0.0120 - val_loss: 0.5817 - val_accuracy: 0.0121\n",
      "Epoch 43/50\n",
      "50000/50000 [==============================] - 87s 2ms/step - loss: 0.5805 - accuracy: 0.0120 - val_loss: 0.5819 - val_accuracy: 0.0121\n",
      "Epoch 44/50\n",
      "50000/50000 [==============================] - 85s 2ms/step - loss: 0.5805 - accuracy: 0.0120 - val_loss: 0.5814 - val_accuracy: 0.0121\n",
      "Epoch 45/50\n",
      "50000/50000 [==============================] - 82s 2ms/step - loss: 0.5805 - accuracy: 0.0120 - val_loss: 0.5812 - val_accuracy: 0.0121\n",
      "Epoch 46/50\n",
      "50000/50000 [==============================] - 82s 2ms/step - loss: 0.5803 - accuracy: 0.0120 - val_loss: 0.5810 - val_accuracy: 0.0121\n",
      "Epoch 47/50\n",
      "50000/50000 [==============================] - 82s 2ms/step - loss: 0.5803 - accuracy: 0.0120 - val_loss: 0.5814 - val_accuracy: 0.0121\n",
      "Epoch 48/50\n",
      "50000/50000 [==============================] - 82s 2ms/step - loss: 0.5802 - accuracy: 0.0120 - val_loss: 0.5809 - val_accuracy: 0.0121\n",
      "Epoch 49/50\n",
      "50000/50000 [==============================] - 82s 2ms/step - loss: 0.5802 - accuracy: 0.0120 - val_loss: 0.5808 - val_accuracy: 0.0121\n",
      "Epoch 50/50\n",
      "50000/50000 [==============================] - 82s 2ms/step - loss: 0.5801 - accuracy: 0.0120 - val_loss: 0.5813 - val_accuracy: 0.0121\n"
     ]
    },
    {
     "data": {
      "text/plain": [
       "<keras.callbacks.callbacks.History at 0x13750ceb8>"
      ]
     },
     "execution_count": 16,
     "metadata": {},
     "output_type": "execute_result"
    }
   ],
   "source": [
    "autoencoder.compile(optimizer = 'adam', loss = 'binary_crossentropy', metrics = ['accuracy'])\n",
    "autoencoder.fit(x_train, x_train, epochs = 50, batch_size = 256, shuffle = True, validation_data = [x_test, x_test])"
   ]
  },
  {
   "cell_type": "code",
   "execution_count": 17,
   "metadata": {},
   "outputs": [],
   "source": [
    "encoded_test_data = encoder.predict(x_test)\n",
    "predicted_test_data = autoencoder.predict(x_test)"
   ]
  },
  {
   "cell_type": "code",
   "execution_count": 18,
   "metadata": {},
   "outputs": [
    {
     "data": {
      "text/plain": [
       "(10000, 4, 4, 8)"
      ]
     },
     "execution_count": 18,
     "metadata": {},
     "output_type": "execute_result"
    }
   ],
   "source": [
    "encoded_test_data.shape"
   ]
  },
  {
   "cell_type": "code",
   "execution_count": 19,
   "metadata": {},
   "outputs": [],
   "source": [
    "encoded_test_data = encoded_test_data.reshape(len(encoded_test_data), np.prod(encoded_test_data.shape[1:]))"
   ]
  },
  {
   "cell_type": "code",
   "execution_count": 20,
   "metadata": {},
   "outputs": [
    {
     "data": {
      "text/plain": [
       "(10000, 128)"
      ]
     },
     "execution_count": 20,
     "metadata": {},
     "output_type": "execute_result"
    }
   ],
   "source": [
    "encoded_test_data.shape"
   ]
  },
  {
   "cell_type": "code",
   "execution_count": 21,
   "metadata": {},
   "outputs": [
    {
     "data": {
      "text/html": [
       "<div>\n",
       "<style scoped>\n",
       "    .dataframe tbody tr th:only-of-type {\n",
       "        vertical-align: middle;\n",
       "    }\n",
       "\n",
       "    .dataframe tbody tr th {\n",
       "        vertical-align: top;\n",
       "    }\n",
       "\n",
       "    .dataframe thead th {\n",
       "        text-align: right;\n",
       "    }\n",
       "</style>\n",
       "<table border=\"1\" class=\"dataframe\">\n",
       "  <thead>\n",
       "    <tr style=\"text-align: right;\">\n",
       "      <th></th>\n",
       "      <th>Class</th>\n",
       "      <th>Class Name</th>\n",
       "    </tr>\n",
       "  </thead>\n",
       "  <tbody>\n",
       "    <tr>\n",
       "      <th>0</th>\n",
       "      <td>3</td>\n",
       "      <td>cat</td>\n",
       "    </tr>\n",
       "    <tr>\n",
       "      <th>1</th>\n",
       "      <td>8</td>\n",
       "      <td>ship</td>\n",
       "    </tr>\n",
       "    <tr>\n",
       "      <th>2</th>\n",
       "      <td>8</td>\n",
       "      <td>ship</td>\n",
       "    </tr>\n",
       "    <tr>\n",
       "      <th>3</th>\n",
       "      <td>0</td>\n",
       "      <td>airplane</td>\n",
       "    </tr>\n",
       "    <tr>\n",
       "      <th>4</th>\n",
       "      <td>6</td>\n",
       "      <td>frog</td>\n",
       "    </tr>\n",
       "    <tr>\n",
       "      <th>...</th>\n",
       "      <td>...</td>\n",
       "      <td>...</td>\n",
       "    </tr>\n",
       "    <tr>\n",
       "      <th>9995</th>\n",
       "      <td>8</td>\n",
       "      <td>ship</td>\n",
       "    </tr>\n",
       "    <tr>\n",
       "      <th>9996</th>\n",
       "      <td>3</td>\n",
       "      <td>cat</td>\n",
       "    </tr>\n",
       "    <tr>\n",
       "      <th>9997</th>\n",
       "      <td>5</td>\n",
       "      <td>dog</td>\n",
       "    </tr>\n",
       "    <tr>\n",
       "      <th>9998</th>\n",
       "      <td>1</td>\n",
       "      <td>automobile</td>\n",
       "    </tr>\n",
       "    <tr>\n",
       "      <th>9999</th>\n",
       "      <td>7</td>\n",
       "      <td>horse</td>\n",
       "    </tr>\n",
       "  </tbody>\n",
       "</table>\n",
       "<p>10000 rows × 2 columns</p>\n",
       "</div>"
      ],
      "text/plain": [
       "      Class  Class Name\n",
       "0         3         cat\n",
       "1         8        ship\n",
       "2         8        ship\n",
       "3         0    airplane\n",
       "4         6        frog\n",
       "...     ...         ...\n",
       "9995      8        ship\n",
       "9996      3         cat\n",
       "9997      5         dog\n",
       "9998      1  automobile\n",
       "9999      7       horse\n",
       "\n",
       "[10000 rows x 2 columns]"
      ]
     },
     "execution_count": 21,
     "metadata": {},
     "output_type": "execute_result"
    }
   ],
   "source": [
    "y_test"
   ]
  },
  {
   "cell_type": "code",
   "execution_count": 22,
   "metadata": {},
   "outputs": [
    {
     "data": {
      "text/plain": [
       "(10000, 130)"
      ]
     },
     "execution_count": 22,
     "metadata": {},
     "output_type": "execute_result"
    }
   ],
   "source": [
    "encoded_test_data_df = pd.DataFrame(encoded_test_data)\n",
    "final_encoded_test_data_df = pd.concat([y_test, encoded_test_data_df], axis = 1)\n",
    "final_encoded_test_data_df.shape"
   ]
  },
  {
   "cell_type": "code",
   "execution_count": 23,
   "metadata": {},
   "outputs": [],
   "source": [
    "datadir = '/Users/sidv88/Documents/Data_Management_2/Convolutional_Encoded_Data/'\n",
    "final_encoded_test_data_df.to_csv(datadir + 'Convolutional_Encoded_Test_RSAB.csv', index = False)"
   ]
  },
  {
   "cell_type": "code",
   "execution_count": 24,
   "metadata": {},
   "outputs": [
    {
     "name": "stdout",
     "output_type": "stream",
     "text": [
      "Enter one of these values ['cat' 'ship' 'airplane' 'frog' 'automobile' 'truck' 'dog' 'horse' 'deer'\n",
      " 'bird'] : dog\n"
     ]
    }
   ],
   "source": [
    "input_val = input(\"Enter one of these values {} : \".format(final_encoded_test_data_df['Class Name'].unique()))"
   ]
  },
  {
   "cell_type": "code",
   "execution_count": 25,
   "metadata": {},
   "outputs": [
    {
     "name": "stdout",
     "output_type": "stream",
     "text": [
      "Enter a number between 0 and 999 : 5\n"
     ]
    }
   ],
   "source": [
    "input_num = input(\"Enter a number between 0 and 999 : \")"
   ]
  },
  {
   "cell_type": "code",
   "execution_count": 26,
   "metadata": {},
   "outputs": [
    {
     "name": "stdout",
     "output_type": "stream",
     "text": [
      "10000\n",
      "10000\n"
     ]
    }
   ],
   "source": [
    "from numpy import dot\n",
    "from numpy.linalg import norm\n",
    "\n",
    "cosine_similarity = []\n",
    "cosine_distance = []\n",
    "\n",
    "for i in range(len(x_test)):\n",
    "    a = final_encoded_test_data_df.loc[final_encoded_test_data_df['Class Name'] == input_val].iloc[int(input_num), 2:]\n",
    "    b = final_encoded_test_data_df.iloc[i, 2:]\n",
    "    cos_sim = dot(a, b)/(norm(a) * norm(b))\n",
    "    cos_dist = 1 - cos_sim\n",
    "    cosine_similarity.append(cos_sim)\n",
    "    cosine_distance.append(cos_dist)\n",
    "print(len(cosine_similarity))\n",
    "print(len(cosine_distance))"
   ]
  },
  {
   "cell_type": "code",
   "execution_count": 27,
   "metadata": {},
   "outputs": [],
   "source": [
    "final_encoded_test_data_df['Cosine Similarity'] = cosine_similarity\n",
    "final_encoded_test_data_df['Cosine Distance'] = cosine_distance"
   ]
  },
  {
   "cell_type": "code",
   "execution_count": 28,
   "metadata": {},
   "outputs": [
    {
     "data": {
      "text/html": [
       "<div>\n",
       "<style scoped>\n",
       "    .dataframe tbody tr th:only-of-type {\n",
       "        vertical-align: middle;\n",
       "    }\n",
       "\n",
       "    .dataframe tbody tr th {\n",
       "        vertical-align: top;\n",
       "    }\n",
       "\n",
       "    .dataframe thead th {\n",
       "        text-align: right;\n",
       "    }\n",
       "</style>\n",
       "<table border=\"1\" class=\"dataframe\">\n",
       "  <thead>\n",
       "    <tr style=\"text-align: right;\">\n",
       "      <th></th>\n",
       "      <th>Class</th>\n",
       "      <th>Class Name</th>\n",
       "      <th>0</th>\n",
       "      <th>1</th>\n",
       "      <th>2</th>\n",
       "      <th>3</th>\n",
       "      <th>4</th>\n",
       "      <th>5</th>\n",
       "      <th>6</th>\n",
       "      <th>7</th>\n",
       "      <th>...</th>\n",
       "      <th>120</th>\n",
       "      <th>121</th>\n",
       "      <th>122</th>\n",
       "      <th>123</th>\n",
       "      <th>124</th>\n",
       "      <th>125</th>\n",
       "      <th>126</th>\n",
       "      <th>127</th>\n",
       "      <th>Cosine Similarity</th>\n",
       "      <th>Cosine Distance</th>\n",
       "    </tr>\n",
       "  </thead>\n",
       "  <tbody>\n",
       "    <tr>\n",
       "      <th>39</th>\n",
       "      <td>5</td>\n",
       "      <td>dog</td>\n",
       "      <td>2.382606</td>\n",
       "      <td>1.784982</td>\n",
       "      <td>1.185012</td>\n",
       "      <td>0.000000</td>\n",
       "      <td>1.494251</td>\n",
       "      <td>0.886070</td>\n",
       "      <td>2.108913</td>\n",
       "      <td>1.329783</td>\n",
       "      <td>...</td>\n",
       "      <td>1.832516</td>\n",
       "      <td>2.295978</td>\n",
       "      <td>2.025373</td>\n",
       "      <td>1.003138</td>\n",
       "      <td>2.508198</td>\n",
       "      <td>3.693679</td>\n",
       "      <td>1.538881</td>\n",
       "      <td>2.404269</td>\n",
       "      <td>1.000000</td>\n",
       "      <td>0.000000</td>\n",
       "    </tr>\n",
       "    <tr>\n",
       "      <th>432</th>\n",
       "      <td>3</td>\n",
       "      <td>cat</td>\n",
       "      <td>1.831363</td>\n",
       "      <td>1.634291</td>\n",
       "      <td>1.085680</td>\n",
       "      <td>0.000000</td>\n",
       "      <td>1.352543</td>\n",
       "      <td>1.499816</td>\n",
       "      <td>1.649180</td>\n",
       "      <td>1.530312</td>\n",
       "      <td>...</td>\n",
       "      <td>1.792128</td>\n",
       "      <td>1.763659</td>\n",
       "      <td>1.725131</td>\n",
       "      <td>1.820224</td>\n",
       "      <td>2.096953</td>\n",
       "      <td>2.908866</td>\n",
       "      <td>1.740444</td>\n",
       "      <td>2.417376</td>\n",
       "      <td>0.979013</td>\n",
       "      <td>0.020987</td>\n",
       "    </tr>\n",
       "    <tr>\n",
       "      <th>5850</th>\n",
       "      <td>6</td>\n",
       "      <td>frog</td>\n",
       "      <td>2.061147</td>\n",
       "      <td>1.675348</td>\n",
       "      <td>0.744610</td>\n",
       "      <td>0.000000</td>\n",
       "      <td>1.080861</td>\n",
       "      <td>1.428613</td>\n",
       "      <td>1.519166</td>\n",
       "      <td>1.506693</td>\n",
       "      <td>...</td>\n",
       "      <td>1.690235</td>\n",
       "      <td>1.759091</td>\n",
       "      <td>1.388679</td>\n",
       "      <td>1.664712</td>\n",
       "      <td>1.772143</td>\n",
       "      <td>2.603862</td>\n",
       "      <td>1.170150</td>\n",
       "      <td>1.842833</td>\n",
       "      <td>0.978954</td>\n",
       "      <td>0.021046</td>\n",
       "    </tr>\n",
       "    <tr>\n",
       "      <th>5377</th>\n",
       "      <td>5</td>\n",
       "      <td>dog</td>\n",
       "      <td>2.516607</td>\n",
       "      <td>1.847670</td>\n",
       "      <td>1.249732</td>\n",
       "      <td>0.206515</td>\n",
       "      <td>1.157556</td>\n",
       "      <td>0.480416</td>\n",
       "      <td>2.311464</td>\n",
       "      <td>1.201774</td>\n",
       "      <td>...</td>\n",
       "      <td>1.803878</td>\n",
       "      <td>2.327665</td>\n",
       "      <td>2.523160</td>\n",
       "      <td>1.788758</td>\n",
       "      <td>2.216475</td>\n",
       "      <td>2.610617</td>\n",
       "      <td>1.771101</td>\n",
       "      <td>2.067973</td>\n",
       "      <td>0.978768</td>\n",
       "      <td>0.021232</td>\n",
       "    </tr>\n",
       "    <tr>\n",
       "      <th>3956</th>\n",
       "      <td>3</td>\n",
       "      <td>cat</td>\n",
       "      <td>2.558020</td>\n",
       "      <td>2.144721</td>\n",
       "      <td>0.940941</td>\n",
       "      <td>0.237536</td>\n",
       "      <td>1.147658</td>\n",
       "      <td>0.645534</td>\n",
       "      <td>2.213346</td>\n",
       "      <td>1.130844</td>\n",
       "      <td>...</td>\n",
       "      <td>2.020285</td>\n",
       "      <td>1.422091</td>\n",
       "      <td>1.391942</td>\n",
       "      <td>1.276182</td>\n",
       "      <td>2.023290</td>\n",
       "      <td>2.739161</td>\n",
       "      <td>1.198175</td>\n",
       "      <td>2.243062</td>\n",
       "      <td>0.978738</td>\n",
       "      <td>0.021262</td>\n",
       "    </tr>\n",
       "    <tr>\n",
       "      <th>...</th>\n",
       "      <td>...</td>\n",
       "      <td>...</td>\n",
       "      <td>...</td>\n",
       "      <td>...</td>\n",
       "      <td>...</td>\n",
       "      <td>...</td>\n",
       "      <td>...</td>\n",
       "      <td>...</td>\n",
       "      <td>...</td>\n",
       "      <td>...</td>\n",
       "      <td>...</td>\n",
       "      <td>...</td>\n",
       "      <td>...</td>\n",
       "      <td>...</td>\n",
       "      <td>...</td>\n",
       "      <td>...</td>\n",
       "      <td>...</td>\n",
       "      <td>...</td>\n",
       "      <td>...</td>\n",
       "      <td>...</td>\n",
       "      <td>...</td>\n",
       "    </tr>\n",
       "    <tr>\n",
       "      <th>8244</th>\n",
       "      <td>4</td>\n",
       "      <td>deer</td>\n",
       "      <td>2.543058</td>\n",
       "      <td>3.034819</td>\n",
       "      <td>1.062613</td>\n",
       "      <td>1.886724</td>\n",
       "      <td>0.687527</td>\n",
       "      <td>0.000000</td>\n",
       "      <td>2.943013</td>\n",
       "      <td>0.000000</td>\n",
       "      <td>...</td>\n",
       "      <td>2.448298</td>\n",
       "      <td>2.904446</td>\n",
       "      <td>2.431557</td>\n",
       "      <td>3.349819</td>\n",
       "      <td>1.783025</td>\n",
       "      <td>1.097287</td>\n",
       "      <td>2.649828</td>\n",
       "      <td>1.442618</td>\n",
       "      <td>0.818107</td>\n",
       "      <td>0.181893</td>\n",
       "    </tr>\n",
       "    <tr>\n",
       "      <th>9765</th>\n",
       "      <td>4</td>\n",
       "      <td>deer</td>\n",
       "      <td>2.530421</td>\n",
       "      <td>3.041003</td>\n",
       "      <td>1.058736</td>\n",
       "      <td>1.898130</td>\n",
       "      <td>0.672363</td>\n",
       "      <td>0.000000</td>\n",
       "      <td>2.943514</td>\n",
       "      <td>0.000000</td>\n",
       "      <td>...</td>\n",
       "      <td>2.750940</td>\n",
       "      <td>2.782242</td>\n",
       "      <td>2.049478</td>\n",
       "      <td>2.815552</td>\n",
       "      <td>2.066168</td>\n",
       "      <td>1.797522</td>\n",
       "      <td>2.499000</td>\n",
       "      <td>1.648894</td>\n",
       "      <td>0.817523</td>\n",
       "      <td>0.182477</td>\n",
       "    </tr>\n",
       "    <tr>\n",
       "      <th>5263</th>\n",
       "      <td>8</td>\n",
       "      <td>ship</td>\n",
       "      <td>0.325883</td>\n",
       "      <td>0.075030</td>\n",
       "      <td>0.714728</td>\n",
       "      <td>0.000000</td>\n",
       "      <td>2.052827</td>\n",
       "      <td>3.993124</td>\n",
       "      <td>0.036379</td>\n",
       "      <td>3.471761</td>\n",
       "      <td>...</td>\n",
       "      <td>3.128952</td>\n",
       "      <td>3.263037</td>\n",
       "      <td>2.123693</td>\n",
       "      <td>2.176032</td>\n",
       "      <td>3.171407</td>\n",
       "      <td>2.221729</td>\n",
       "      <td>2.679164</td>\n",
       "      <td>2.099769</td>\n",
       "      <td>0.817297</td>\n",
       "      <td>0.182703</td>\n",
       "    </tr>\n",
       "    <tr>\n",
       "      <th>3444</th>\n",
       "      <td>0</td>\n",
       "      <td>airplane</td>\n",
       "      <td>0.357718</td>\n",
       "      <td>0.089336</td>\n",
       "      <td>0.703577</td>\n",
       "      <td>0.000000</td>\n",
       "      <td>2.047428</td>\n",
       "      <td>4.004621</td>\n",
       "      <td>0.011712</td>\n",
       "      <td>3.446677</td>\n",
       "      <td>...</td>\n",
       "      <td>1.600559</td>\n",
       "      <td>0.218897</td>\n",
       "      <td>0.808440</td>\n",
       "      <td>0.101086</td>\n",
       "      <td>2.723161</td>\n",
       "      <td>3.459382</td>\n",
       "      <td>0.419825</td>\n",
       "      <td>2.909419</td>\n",
       "      <td>0.816598</td>\n",
       "      <td>0.183402</td>\n",
       "    </tr>\n",
       "    <tr>\n",
       "      <th>9246</th>\n",
       "      <td>3</td>\n",
       "      <td>cat</td>\n",
       "      <td>2.585530</td>\n",
       "      <td>2.939103</td>\n",
       "      <td>1.045098</td>\n",
       "      <td>1.872883</td>\n",
       "      <td>0.761573</td>\n",
       "      <td>0.000000</td>\n",
       "      <td>2.947077</td>\n",
       "      <td>0.000000</td>\n",
       "      <td>...</td>\n",
       "      <td>2.287882</td>\n",
       "      <td>3.540643</td>\n",
       "      <td>2.513856</td>\n",
       "      <td>3.516645</td>\n",
       "      <td>1.674065</td>\n",
       "      <td>3.269023</td>\n",
       "      <td>3.177504</td>\n",
       "      <td>1.405564</td>\n",
       "      <td>0.815913</td>\n",
       "      <td>0.184087</td>\n",
       "    </tr>\n",
       "  </tbody>\n",
       "</table>\n",
       "<p>10000 rows × 132 columns</p>\n",
       "</div>"
      ],
      "text/plain": [
       "      Class Class Name         0         1         2         3         4  \\\n",
       "39        5        dog  2.382606  1.784982  1.185012  0.000000  1.494251   \n",
       "432       3        cat  1.831363  1.634291  1.085680  0.000000  1.352543   \n",
       "5850      6       frog  2.061147  1.675348  0.744610  0.000000  1.080861   \n",
       "5377      5        dog  2.516607  1.847670  1.249732  0.206515  1.157556   \n",
       "3956      3        cat  2.558020  2.144721  0.940941  0.237536  1.147658   \n",
       "...     ...        ...       ...       ...       ...       ...       ...   \n",
       "8244      4       deer  2.543058  3.034819  1.062613  1.886724  0.687527   \n",
       "9765      4       deer  2.530421  3.041003  1.058736  1.898130  0.672363   \n",
       "5263      8       ship  0.325883  0.075030  0.714728  0.000000  2.052827   \n",
       "3444      0   airplane  0.357718  0.089336  0.703577  0.000000  2.047428   \n",
       "9246      3        cat  2.585530  2.939103  1.045098  1.872883  0.761573   \n",
       "\n",
       "             5         6         7  ...       120       121       122  \\\n",
       "39    0.886070  2.108913  1.329783  ...  1.832516  2.295978  2.025373   \n",
       "432   1.499816  1.649180  1.530312  ...  1.792128  1.763659  1.725131   \n",
       "5850  1.428613  1.519166  1.506693  ...  1.690235  1.759091  1.388679   \n",
       "5377  0.480416  2.311464  1.201774  ...  1.803878  2.327665  2.523160   \n",
       "3956  0.645534  2.213346  1.130844  ...  2.020285  1.422091  1.391942   \n",
       "...        ...       ...       ...  ...       ...       ...       ...   \n",
       "8244  0.000000  2.943013  0.000000  ...  2.448298  2.904446  2.431557   \n",
       "9765  0.000000  2.943514  0.000000  ...  2.750940  2.782242  2.049478   \n",
       "5263  3.993124  0.036379  3.471761  ...  3.128952  3.263037  2.123693   \n",
       "3444  4.004621  0.011712  3.446677  ...  1.600559  0.218897  0.808440   \n",
       "9246  0.000000  2.947077  0.000000  ...  2.287882  3.540643  2.513856   \n",
       "\n",
       "           123       124       125       126       127  Cosine Similarity  \\\n",
       "39    1.003138  2.508198  3.693679  1.538881  2.404269           1.000000   \n",
       "432   1.820224  2.096953  2.908866  1.740444  2.417376           0.979013   \n",
       "5850  1.664712  1.772143  2.603862  1.170150  1.842833           0.978954   \n",
       "5377  1.788758  2.216475  2.610617  1.771101  2.067973           0.978768   \n",
       "3956  1.276182  2.023290  2.739161  1.198175  2.243062           0.978738   \n",
       "...        ...       ...       ...       ...       ...                ...   \n",
       "8244  3.349819  1.783025  1.097287  2.649828  1.442618           0.818107   \n",
       "9765  2.815552  2.066168  1.797522  2.499000  1.648894           0.817523   \n",
       "5263  2.176032  3.171407  2.221729  2.679164  2.099769           0.817297   \n",
       "3444  0.101086  2.723161  3.459382  0.419825  2.909419           0.816598   \n",
       "9246  3.516645  1.674065  3.269023  3.177504  1.405564           0.815913   \n",
       "\n",
       "      Cosine Distance  \n",
       "39           0.000000  \n",
       "432          0.020987  \n",
       "5850         0.021046  \n",
       "5377         0.021232  \n",
       "3956         0.021262  \n",
       "...               ...  \n",
       "8244         0.181893  \n",
       "9765         0.182477  \n",
       "5263         0.182703  \n",
       "3444         0.183402  \n",
       "9246         0.184087  \n",
       "\n",
       "[10000 rows x 132 columns]"
      ]
     },
     "execution_count": 28,
     "metadata": {},
     "output_type": "execute_result"
    }
   ],
   "source": [
    "final_encoded_test_data_df.sort_values(by = ['Cosine Similarity'], ascending = False)"
   ]
  },
  {
   "cell_type": "code",
   "execution_count": 29,
   "metadata": {},
   "outputs": [],
   "source": [
    "cosine_index = final_encoded_test_data_df.sort_values(by = ['Cosine Similarity'], ascending = False).head(10).index"
   ]
  },
  {
   "cell_type": "code",
   "execution_count": 30,
   "metadata": {
    "scrolled": true
   },
   "outputs": [
    {
     "data": {
      "image/png": "[encoded data removed]",
      "text/plain": [
       "<Figure size 144x144 with 1 Axes>"
      ]
     },
     "metadata": {
      "needs_background": "light"
     },
     "output_type": "display_data"
    },
    {
     "data": {
      "image/png": "[encoded data removed]",
      "text/plain": [
       "<Figure size 144x144 with 1 Axes>"
      ]
     },
     "metadata": {
      "needs_background": "light"
     },
     "output_type": "display_data"
    },
    {
     "data": {
      "image/png": "[encoded data removed]",
      "text/plain": [
       "<Figure size 144x144 with 1 Axes>"
      ]
     },
     "metadata": {
      "needs_background": "light"
     },
     "output_type": "display_data"
    },
    {
     "data": {
      "image/png": "[encoded data removed]",
      "text/plain": [
       "<Figure size 144x144 with 1 Axes>"
      ]
     },
     "metadata": {
      "needs_background": "light"
     },
     "output_type": "display_data"
    },
    {
     "data": {
      "image/png": "[encoded data removed]",
      "text/plain": [
       "<Figure size 144x144 with 1 Axes>"
      ]
     },
     "metadata": {
      "needs_background": "light"
     },
     "output_type": "display_data"
    },
    {
     "data": {
      "image/png": "[encoded data removed]",
      "text/plain": [
       "<Figure size 144x144 with 1 Axes>"
      ]
     },
     "metadata": {
      "needs_background": "light"
     },
     "output_type": "display_data"
    },
    {
     "data": {
      "image/png": "[encoded data removed]",
      "text/plain": [
       "<Figure size 144x144 with 1 Axes>"
      ]
     },
     "metadata": {
      "needs_background": "light"
     },
     "output_type": "display_data"
    },
    {
     "data": {
      "image/png": "[encoded data removed]",
      "text/plain": [
       "<Figure size 144x144 with 1 Axes>"
      ]
     },
     "metadata": {
      "needs_background": "light"
     },
     "output_type": "display_data"
    },
    {
     "data": {
      "image/png": "[encoded data removed]",
      "text/plain": [
       "<Figure size 144x144 with 1 Axes>"
      ]
     },
     "metadata": {
      "needs_background": "light"
     },
     "output_type": "display_data"
    },
    {
     "data": {
      "image/png": "[encoded data removed]",
      "text/plain": [
       "<Figure size 144x144 with 1 Axes>"
      ]
     },
     "metadata": {
      "needs_background": "light"
     },
     "output_type": "display_data"
    }
   ],
   "source": [
    "for i in cosine_index:\n",
    "    plt.figure(figsize = (2, 2))\n",
    "    plt.imshow(x_test[i].reshape(32, 32, 3))\n",
    "    plt.xlabel(final_encoded_test_data_df['Class Name'][i] + ' with a Cosine Similarity of ' + str(final_encoded_test_data_df['Cosine Similarity'][i]) + ' from the queried image.')\n",
    "    plt.show()"
   ]
  },
  {
   "cell_type": "code",
   "execution_count": 31,
   "metadata": {},
   "outputs": [
    {
     "name": "stdout",
     "output_type": "stream",
     "text": [
      "10000\n"
     ]
    }
   ],
   "source": [
    "euclidean_distance = []\n",
    "\n",
    "for i in range(len(x_test)):\n",
    "    a = final_encoded_test_data_df.loc[final_encoded_test_data_df['Class Name'] == input_val].iloc[int(input_num), 2:]\n",
    "    b = final_encoded_test_data_df.iloc[i, 2:]\n",
    "    euc_dist = np.linalg.norm(a-b)\n",
    "    euclidean_distance.append(euc_dist)\n",
    "print(len(euclidean_distance))"
   ]
  },
  {
   "cell_type": "code",
   "execution_count": 32,
   "metadata": {},
   "outputs": [
    {
     "data": {
      "text/html": [
       "<div>\n",
       "<style scoped>\n",
       "    .dataframe tbody tr th:only-of-type {\n",
       "        vertical-align: middle;\n",
       "    }\n",
       "\n",
       "    .dataframe tbody tr th {\n",
       "        vertical-align: top;\n",
       "    }\n",
       "\n",
       "    .dataframe thead th {\n",
       "        text-align: right;\n",
       "    }\n",
       "</style>\n",
       "<table border=\"1\" class=\"dataframe\">\n",
       "  <thead>\n",
       "    <tr style=\"text-align: right;\">\n",
       "      <th></th>\n",
       "      <th>Class</th>\n",
       "      <th>Class Name</th>\n",
       "      <th>0</th>\n",
       "      <th>1</th>\n",
       "      <th>2</th>\n",
       "      <th>3</th>\n",
       "      <th>4</th>\n",
       "      <th>5</th>\n",
       "      <th>6</th>\n",
       "      <th>7</th>\n",
       "      <th>...</th>\n",
       "      <th>121</th>\n",
       "      <th>122</th>\n",
       "      <th>123</th>\n",
       "      <th>124</th>\n",
       "      <th>125</th>\n",
       "      <th>126</th>\n",
       "      <th>127</th>\n",
       "      <th>Cosine Similarity</th>\n",
       "      <th>Cosine Distance</th>\n",
       "      <th>Euclidean Distance</th>\n",
       "    </tr>\n",
       "  </thead>\n",
       "  <tbody>\n",
       "    <tr>\n",
       "      <th>39</th>\n",
       "      <td>5</td>\n",
       "      <td>dog</td>\n",
       "      <td>2.382606</td>\n",
       "      <td>1.784982</td>\n",
       "      <td>1.185012</td>\n",
       "      <td>0.000000</td>\n",
       "      <td>1.494251</td>\n",
       "      <td>0.886070</td>\n",
       "      <td>2.108913</td>\n",
       "      <td>1.329783</td>\n",
       "      <td>...</td>\n",
       "      <td>2.295978</td>\n",
       "      <td>2.025373</td>\n",
       "      <td>1.003138</td>\n",
       "      <td>2.508198</td>\n",
       "      <td>3.693679</td>\n",
       "      <td>1.538881</td>\n",
       "      <td>2.404269</td>\n",
       "      <td>1.000000</td>\n",
       "      <td>0.000000</td>\n",
       "      <td>0.000000</td>\n",
       "    </tr>\n",
       "    <tr>\n",
       "      <th>5377</th>\n",
       "      <td>5</td>\n",
       "      <td>dog</td>\n",
       "      <td>2.516607</td>\n",
       "      <td>1.847670</td>\n",
       "      <td>1.249732</td>\n",
       "      <td>0.206515</td>\n",
       "      <td>1.157556</td>\n",
       "      <td>0.480416</td>\n",
       "      <td>2.311464</td>\n",
       "      <td>1.201774</td>\n",
       "      <td>...</td>\n",
       "      <td>2.327665</td>\n",
       "      <td>2.523160</td>\n",
       "      <td>1.788758</td>\n",
       "      <td>2.216475</td>\n",
       "      <td>2.610617</td>\n",
       "      <td>1.771101</td>\n",
       "      <td>2.067973</td>\n",
       "      <td>0.978768</td>\n",
       "      <td>0.021232</td>\n",
       "      <td>5.026016</td>\n",
       "    </tr>\n",
       "    <tr>\n",
       "      <th>7667</th>\n",
       "      <td>6</td>\n",
       "      <td>frog</td>\n",
       "      <td>1.754581</td>\n",
       "      <td>1.303807</td>\n",
       "      <td>1.102054</td>\n",
       "      <td>0.000000</td>\n",
       "      <td>1.470792</td>\n",
       "      <td>1.089743</td>\n",
       "      <td>1.927843</td>\n",
       "      <td>1.711494</td>\n",
       "      <td>...</td>\n",
       "      <td>1.490196</td>\n",
       "      <td>1.704182</td>\n",
       "      <td>1.480741</td>\n",
       "      <td>2.422014</td>\n",
       "      <td>2.671359</td>\n",
       "      <td>1.339538</td>\n",
       "      <td>2.237586</td>\n",
       "      <td>0.977717</td>\n",
       "      <td>0.022283</td>\n",
       "      <td>5.108320</td>\n",
       "    </tr>\n",
       "    <tr>\n",
       "      <th>6888</th>\n",
       "      <td>4</td>\n",
       "      <td>deer</td>\n",
       "      <td>2.072735</td>\n",
       "      <td>1.760827</td>\n",
       "      <td>1.374231</td>\n",
       "      <td>0.000000</td>\n",
       "      <td>1.556642</td>\n",
       "      <td>0.995154</td>\n",
       "      <td>2.026825</td>\n",
       "      <td>1.302640</td>\n",
       "      <td>...</td>\n",
       "      <td>1.650964</td>\n",
       "      <td>1.430311</td>\n",
       "      <td>1.699327</td>\n",
       "      <td>2.072960</td>\n",
       "      <td>2.519578</td>\n",
       "      <td>1.526977</td>\n",
       "      <td>1.848870</td>\n",
       "      <td>0.978690</td>\n",
       "      <td>0.021310</td>\n",
       "      <td>5.201993</td>\n",
       "    </tr>\n",
       "    <tr>\n",
       "      <th>6280</th>\n",
       "      <td>8</td>\n",
       "      <td>ship</td>\n",
       "      <td>1.978571</td>\n",
       "      <td>2.284570</td>\n",
       "      <td>1.257286</td>\n",
       "      <td>0.028902</td>\n",
       "      <td>0.942112</td>\n",
       "      <td>0.853430</td>\n",
       "      <td>2.122790</td>\n",
       "      <td>0.995145</td>\n",
       "      <td>...</td>\n",
       "      <td>1.583807</td>\n",
       "      <td>1.744325</td>\n",
       "      <td>2.161471</td>\n",
       "      <td>2.022890</td>\n",
       "      <td>2.222761</td>\n",
       "      <td>2.042866</td>\n",
       "      <td>2.210153</td>\n",
       "      <td>0.975780</td>\n",
       "      <td>0.024220</td>\n",
       "      <td>5.304517</td>\n",
       "    </tr>\n",
       "    <tr>\n",
       "      <th>...</th>\n",
       "      <td>...</td>\n",
       "      <td>...</td>\n",
       "      <td>...</td>\n",
       "      <td>...</td>\n",
       "      <td>...</td>\n",
       "      <td>...</td>\n",
       "      <td>...</td>\n",
       "      <td>...</td>\n",
       "      <td>...</td>\n",
       "      <td>...</td>\n",
       "      <td>...</td>\n",
       "      <td>...</td>\n",
       "      <td>...</td>\n",
       "      <td>...</td>\n",
       "      <td>...</td>\n",
       "      <td>...</td>\n",
       "      <td>...</td>\n",
       "      <td>...</td>\n",
       "      <td>...</td>\n",
       "      <td>...</td>\n",
       "      <td>...</td>\n",
       "    </tr>\n",
       "    <tr>\n",
       "      <th>4753</th>\n",
       "      <td>2</td>\n",
       "      <td>bird</td>\n",
       "      <td>0.318991</td>\n",
       "      <td>0.074682</td>\n",
       "      <td>0.690115</td>\n",
       "      <td>0.000000</td>\n",
       "      <td>2.035363</td>\n",
       "      <td>4.018249</td>\n",
       "      <td>0.008816</td>\n",
       "      <td>3.477047</td>\n",
       "      <td>...</td>\n",
       "      <td>2.380357</td>\n",
       "      <td>2.400049</td>\n",
       "      <td>3.317264</td>\n",
       "      <td>3.130814</td>\n",
       "      <td>1.631291</td>\n",
       "      <td>2.754287</td>\n",
       "      <td>1.934540</td>\n",
       "      <td>0.847635</td>\n",
       "      <td>0.152365</td>\n",
       "      <td>15.285489</td>\n",
       "    </tr>\n",
       "    <tr>\n",
       "      <th>9246</th>\n",
       "      <td>3</td>\n",
       "      <td>cat</td>\n",
       "      <td>2.585530</td>\n",
       "      <td>2.939103</td>\n",
       "      <td>1.045098</td>\n",
       "      <td>1.872883</td>\n",
       "      <td>0.761573</td>\n",
       "      <td>0.000000</td>\n",
       "      <td>2.947077</td>\n",
       "      <td>0.000000</td>\n",
       "      <td>...</td>\n",
       "      <td>3.540643</td>\n",
       "      <td>2.513856</td>\n",
       "      <td>3.516645</td>\n",
       "      <td>1.674065</td>\n",
       "      <td>3.269023</td>\n",
       "      <td>3.177504</td>\n",
       "      <td>1.405564</td>\n",
       "      <td>0.815913</td>\n",
       "      <td>0.184087</td>\n",
       "      <td>15.354363</td>\n",
       "    </tr>\n",
       "    <tr>\n",
       "      <th>6675</th>\n",
       "      <td>2</td>\n",
       "      <td>bird</td>\n",
       "      <td>0.309615</td>\n",
       "      <td>0.086350</td>\n",
       "      <td>0.703197</td>\n",
       "      <td>0.000000</td>\n",
       "      <td>2.022758</td>\n",
       "      <td>4.002507</td>\n",
       "      <td>0.023779</td>\n",
       "      <td>3.472934</td>\n",
       "      <td>...</td>\n",
       "      <td>1.837588</td>\n",
       "      <td>1.240677</td>\n",
       "      <td>0.639859</td>\n",
       "      <td>3.952198</td>\n",
       "      <td>4.772568</td>\n",
       "      <td>0.820035</td>\n",
       "      <td>3.380073</td>\n",
       "      <td>0.848041</td>\n",
       "      <td>0.151959</td>\n",
       "      <td>15.422114</td>\n",
       "    </tr>\n",
       "    <tr>\n",
       "      <th>6234</th>\n",
       "      <td>7</td>\n",
       "      <td>horse</td>\n",
       "      <td>2.526850</td>\n",
       "      <td>3.030902</td>\n",
       "      <td>1.075323</td>\n",
       "      <td>1.884395</td>\n",
       "      <td>0.690974</td>\n",
       "      <td>0.000000</td>\n",
       "      <td>2.944667</td>\n",
       "      <td>0.000000</td>\n",
       "      <td>...</td>\n",
       "      <td>3.425441</td>\n",
       "      <td>2.964941</td>\n",
       "      <td>3.419310</td>\n",
       "      <td>1.553760</td>\n",
       "      <td>0.624112</td>\n",
       "      <td>2.836468</td>\n",
       "      <td>0.213527</td>\n",
       "      <td>0.828507</td>\n",
       "      <td>0.171493</td>\n",
       "      <td>15.616857</td>\n",
       "    </tr>\n",
       "    <tr>\n",
       "      <th>2940</th>\n",
       "      <td>3</td>\n",
       "      <td>cat</td>\n",
       "      <td>2.405746</td>\n",
       "      <td>2.176478</td>\n",
       "      <td>0.829414</td>\n",
       "      <td>0.669937</td>\n",
       "      <td>1.442014</td>\n",
       "      <td>0.049220</td>\n",
       "      <td>2.696366</td>\n",
       "      <td>1.221963</td>\n",
       "      <td>...</td>\n",
       "      <td>3.062592</td>\n",
       "      <td>2.496812</td>\n",
       "      <td>3.409495</td>\n",
       "      <td>1.492592</td>\n",
       "      <td>0.370837</td>\n",
       "      <td>2.710295</td>\n",
       "      <td>0.298700</td>\n",
       "      <td>0.835096</td>\n",
       "      <td>0.164904</td>\n",
       "      <td>15.807838</td>\n",
       "    </tr>\n",
       "  </tbody>\n",
       "</table>\n",
       "<p>10000 rows × 133 columns</p>\n",
       "</div>"
      ],
      "text/plain": [
       "      Class Class Name         0         1         2         3         4  \\\n",
       "39        5        dog  2.382606  1.784982  1.185012  0.000000  1.494251   \n",
       "5377      5        dog  2.516607  1.847670  1.249732  0.206515  1.157556   \n",
       "7667      6       frog  1.754581  1.303807  1.102054  0.000000  1.470792   \n",
       "6888      4       deer  2.072735  1.760827  1.374231  0.000000  1.556642   \n",
       "6280      8       ship  1.978571  2.284570  1.257286  0.028902  0.942112   \n",
       "...     ...        ...       ...       ...       ...       ...       ...   \n",
       "4753      2       bird  0.318991  0.074682  0.690115  0.000000  2.035363   \n",
       "9246      3        cat  2.585530  2.939103  1.045098  1.872883  0.761573   \n",
       "6675      2       bird  0.309615  0.086350  0.703197  0.000000  2.022758   \n",
       "6234      7      horse  2.526850  3.030902  1.075323  1.884395  0.690974   \n",
       "2940      3        cat  2.405746  2.176478  0.829414  0.669937  1.442014   \n",
       "\n",
       "             5         6         7  ...       121       122       123  \\\n",
       "39    0.886070  2.108913  1.329783  ...  2.295978  2.025373  1.003138   \n",
       "5377  0.480416  2.311464  1.201774  ...  2.327665  2.523160  1.788758   \n",
       "7667  1.089743  1.927843  1.711494  ...  1.490196  1.704182  1.480741   \n",
       "6888  0.995154  2.026825  1.302640  ...  1.650964  1.430311  1.699327   \n",
       "6280  0.853430  2.122790  0.995145  ...  1.583807  1.744325  2.161471   \n",
       "...        ...       ...       ...  ...       ...       ...       ...   \n",
       "4753  4.018249  0.008816  3.477047  ...  2.380357  2.400049  3.317264   \n",
       "9246  0.000000  2.947077  0.000000  ...  3.540643  2.513856  3.516645   \n",
       "6675  4.002507  0.023779  3.472934  ...  1.837588  1.240677  0.639859   \n",
       "6234  0.000000  2.944667  0.000000  ...  3.425441  2.964941  3.419310   \n",
       "2940  0.049220  2.696366  1.221963  ...  3.062592  2.496812  3.409495   \n",
       "\n",
       "           124       125       126       127  Cosine Similarity  \\\n",
       "39    2.508198  3.693679  1.538881  2.404269           1.000000   \n",
       "5377  2.216475  2.610617  1.771101  2.067973           0.978768   \n",
       "7667  2.422014  2.671359  1.339538  2.237586           0.977717   \n",
       "6888  2.072960  2.519578  1.526977  1.848870           0.978690   \n",
       "6280  2.022890  2.222761  2.042866  2.210153           0.975780   \n",
       "...        ...       ...       ...       ...                ...   \n",
       "4753  3.130814  1.631291  2.754287  1.934540           0.847635   \n",
       "9246  1.674065  3.269023  3.177504  1.405564           0.815913   \n",
       "6675  3.952198  4.772568  0.820035  3.380073           0.848041   \n",
       "6234  1.553760  0.624112  2.836468  0.213527           0.828507   \n",
       "2940  1.492592  0.370837  2.710295  0.298700           0.835096   \n",
       "\n",
       "      Cosine Distance  Euclidean Distance  \n",
       "39           0.000000            0.000000  \n",
       "5377         0.021232            5.026016  \n",
       "7667         0.022283            5.108320  \n",
       "6888         0.021310            5.201993  \n",
       "6280         0.024220            5.304517  \n",
       "...               ...                 ...  \n",
       "4753         0.152365           15.285489  \n",
       "9246         0.184087           15.354363  \n",
       "6675         0.151959           15.422114  \n",
       "6234         0.171493           15.616857  \n",
       "2940         0.164904           15.807838  \n",
       "\n",
       "[10000 rows x 133 columns]"
      ]
     },
     "execution_count": 32,
     "metadata": {},
     "output_type": "execute_result"
    }
   ],
   "source": [
    "final_encoded_test_data_df['Euclidean Distance'] = euclidean_distance\n",
    "final_encoded_test_data_df.sort_values(by = ['Euclidean Distance'])"
   ]
  },
  {
   "cell_type": "code",
   "execution_count": 33,
   "metadata": {
    "scrolled": true
   },
   "outputs": [
    {
     "data": {
      "image/png": "[encoded data removed]",
      "text/plain": [
       "<Figure size 144x144 with 1 Axes>"
      ]
     },
     "metadata": {
      "needs_background": "light"
     },
     "output_type": "display_data"
    },
    {
     "data": {
      "image/png": "[encoded data removed]",
      "text/plain": [
       "<Figure size 144x144 with 1 Axes>"
      ]
     },
     "metadata": {
      "needs_background": "light"
     },
     "output_type": "display_data"
    },
    {
     "data": {
      "image/png": "[encoded data removed]",
      "text/plain": [
       "<Figure size 144x144 with 1 Axes>"
      ]
     },
     "metadata": {
      "needs_background": "light"
     },
     "output_type": "display_data"
    },
    {
     "data": {
      "image/png": "[encoded data removed]",
      "text/plain": [
       "<Figure size 144x144 with 1 Axes>"
      ]
     },
     "metadata": {
      "needs_background": "light"
     },
     "output_type": "display_data"
    },
    {
     "data": {
      "image/png": "[encoded data removed]",
      "text/plain": [
       "<Figure size 144x144 with 1 Axes>"
      ]
     },
     "metadata": {
      "needs_background": "light"
     },
     "output_type": "display_data"
    },
    {
     "data": {
      "image/png": "[encoded data removed]",
      "text/plain": [
       "<Figure size 144x144 with 1 Axes>"
      ]
     },
     "metadata": {
      "needs_background": "light"
     },
     "output_type": "display_data"
    },
    {
     "data": {
      "image/png": "[encoded data removed]",
      "text/plain": [
       "<Figure size 144x144 with 1 Axes>"
      ]
     },
     "metadata": {
      "needs_background": "light"
     },
     "output_type": "display_data"
    },
    {
     "data": {
      "image/png": "[encoded data removed]",
      "text/plain": [
       "<Figure size 144x144 with 1 Axes>"
      ]
     },
     "metadata": {
      "needs_background": "light"
     },
     "output_type": "display_data"
    },
    {
     "data": {
      "image/png": "[encoded data removed]",
      "text/plain": [
       "<Figure size 144x144 with 1 Axes>"
      ]
     },
     "metadata": {
      "needs_background": "light"
     },
     "output_type": "display_data"
    },
    {
     "data": {
      "image/png": "[encoded data removed]",
      "text/plain": [
       "<Figure size 144x144 with 1 Axes>"
      ]
     },
     "metadata": {
      "needs_background": "light"
     },
     "output_type": "display_data"
    }
   ],
   "source": [
    "euclidean_index = final_encoded_test_data_df.sort_values(by = ['Euclidean Distance']).head(10).index\n",
    "\n",
    "for i in euclidean_index:\n",
    "    plt.figure(figsize = (2, 2))\n",
    "    plt.imshow(x_test[i].reshape(32, 32, 3))\n",
    "    plt.xlabel(final_encoded_test_data_df['Class Name'][i] + ' with an Euclidean Distance of ' + str(final_encoded_test_data_df['Euclidean Distance'][i]) + ' from the queried image.')\n",
    "    plt.show()"
   ]
  },
  {
   "cell_type": "code",
   "execution_count": null,
   "metadata": {},
   "outputs": [],
   "source": []
  }
 ],
 "metadata": {
  "kernelspec": {
   "display_name": "Python 3",
   "language": "python",
   "name": "python3"
  },
  "language_info": {
   "codemirror_mode": {
    "name": "ipython",
    "version": 3
   },
   "file_extension": ".py",
   "mimetype": "text/x-python",
   "name": "python",
   "nbconvert_exporter": "python",
   "pygments_lexer": "ipython3",
   "version": "3.6.9"
  }
 },
 "nbformat": 4,
 "nbformat_minor": 2
}
