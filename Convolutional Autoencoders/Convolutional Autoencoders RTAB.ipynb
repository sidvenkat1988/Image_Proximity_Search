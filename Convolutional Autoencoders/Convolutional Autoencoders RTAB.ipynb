{
 "cells": [
  {
   "cell_type": "code",
   "execution_count": 2,
   "metadata": {},
   "outputs": [],
   "source": [
    "from keras.layers import Input, Dense, Conv2D, MaxPooling2D, UpSampling2D\n",
    "from keras.models import Model\n",
    "\n",
    "import numpy as np\n",
    "import pandas as pd\n",
    "import matplotlib.pyplot as plt\n",
    "%matplotlib inline"
   ]
  },
  {
   "cell_type": "code",
   "execution_count": 3,
   "metadata": {},
   "outputs": [
    {
     "name": "stdout",
     "output_type": "stream",
     "text": [
      "(50000, 3074)\n",
      "(10000, 3074)\n"
     ]
    }
   ],
   "source": [
    "datadir = '/Users/sidv88/Documents/Data_Management_2/Data/'\n",
    "train_data = pd.read_csv(datadir + 'train_rgb.csv')\n",
    "test_data = pd.read_csv(datadir + 'test_rgb.csv')\n",
    "print(train_data.shape)\n",
    "print(test_data.shape)"
   ]
  },
  {
   "cell_type": "code",
   "execution_count": 4,
   "metadata": {},
   "outputs": [
    {
     "data": {
      "text/html": [
       "<div>\n",
       "<style scoped>\n",
       "    .dataframe tbody tr th:only-of-type {\n",
       "        vertical-align: middle;\n",
       "    }\n",
       "\n",
       "    .dataframe tbody tr th {\n",
       "        vertical-align: top;\n",
       "    }\n",
       "\n",
       "    .dataframe thead th {\n",
       "        text-align: right;\n",
       "    }\n",
       "</style>\n",
       "<table border=\"1\" class=\"dataframe\">\n",
       "  <thead>\n",
       "    <tr style=\"text-align: right;\">\n",
       "      <th></th>\n",
       "      <th>Class</th>\n",
       "      <th>Class Name</th>\n",
       "      <th>0</th>\n",
       "      <th>1</th>\n",
       "      <th>2</th>\n",
       "      <th>3</th>\n",
       "      <th>4</th>\n",
       "      <th>5</th>\n",
       "      <th>6</th>\n",
       "      <th>7</th>\n",
       "      <th>...</th>\n",
       "      <th>3062</th>\n",
       "      <th>3063</th>\n",
       "      <th>3064</th>\n",
       "      <th>3065</th>\n",
       "      <th>3066</th>\n",
       "      <th>3067</th>\n",
       "      <th>3068</th>\n",
       "      <th>3069</th>\n",
       "      <th>3070</th>\n",
       "      <th>3071</th>\n",
       "    </tr>\n",
       "  </thead>\n",
       "  <tbody>\n",
       "    <tr>\n",
       "      <th>0</th>\n",
       "      <td>6</td>\n",
       "      <td>frog</td>\n",
       "      <td>59</td>\n",
       "      <td>62</td>\n",
       "      <td>63</td>\n",
       "      <td>43</td>\n",
       "      <td>46</td>\n",
       "      <td>45</td>\n",
       "      <td>50</td>\n",
       "      <td>48</td>\n",
       "      <td>...</td>\n",
       "      <td>104</td>\n",
       "      <td>216</td>\n",
       "      <td>184</td>\n",
       "      <td>140</td>\n",
       "      <td>151</td>\n",
       "      <td>118</td>\n",
       "      <td>84</td>\n",
       "      <td>123</td>\n",
       "      <td>92</td>\n",
       "      <td>72</td>\n",
       "    </tr>\n",
       "    <tr>\n",
       "      <th>1</th>\n",
       "      <td>9</td>\n",
       "      <td>truck</td>\n",
       "      <td>154</td>\n",
       "      <td>177</td>\n",
       "      <td>187</td>\n",
       "      <td>126</td>\n",
       "      <td>137</td>\n",
       "      <td>136</td>\n",
       "      <td>105</td>\n",
       "      <td>104</td>\n",
       "      <td>...</td>\n",
       "      <td>136</td>\n",
       "      <td>143</td>\n",
       "      <td>133</td>\n",
       "      <td>139</td>\n",
       "      <td>143</td>\n",
       "      <td>134</td>\n",
       "      <td>142</td>\n",
       "      <td>143</td>\n",
       "      <td>133</td>\n",
       "      <td>144</td>\n",
       "    </tr>\n",
       "    <tr>\n",
       "      <th>2</th>\n",
       "      <td>9</td>\n",
       "      <td>truck</td>\n",
       "      <td>255</td>\n",
       "      <td>255</td>\n",
       "      <td>255</td>\n",
       "      <td>253</td>\n",
       "      <td>253</td>\n",
       "      <td>253</td>\n",
       "      <td>253</td>\n",
       "      <td>253</td>\n",
       "      <td>...</td>\n",
       "      <td>79</td>\n",
       "      <td>78</td>\n",
       "      <td>85</td>\n",
       "      <td>83</td>\n",
       "      <td>79</td>\n",
       "      <td>85</td>\n",
       "      <td>83</td>\n",
       "      <td>80</td>\n",
       "      <td>86</td>\n",
       "      <td>84</td>\n",
       "    </tr>\n",
       "    <tr>\n",
       "      <th>3</th>\n",
       "      <td>4</td>\n",
       "      <td>deer</td>\n",
       "      <td>28</td>\n",
       "      <td>25</td>\n",
       "      <td>10</td>\n",
       "      <td>37</td>\n",
       "      <td>34</td>\n",
       "      <td>19</td>\n",
       "      <td>38</td>\n",
       "      <td>35</td>\n",
       "      <td>...</td>\n",
       "      <td>38</td>\n",
       "      <td>54</td>\n",
       "      <td>47</td>\n",
       "      <td>28</td>\n",
       "      <td>63</td>\n",
       "      <td>56</td>\n",
       "      <td>37</td>\n",
       "      <td>72</td>\n",
       "      <td>65</td>\n",
       "      <td>46</td>\n",
       "    </tr>\n",
       "    <tr>\n",
       "      <th>4</th>\n",
       "      <td>1</td>\n",
       "      <td>automobile</td>\n",
       "      <td>170</td>\n",
       "      <td>180</td>\n",
       "      <td>198</td>\n",
       "      <td>168</td>\n",
       "      <td>178</td>\n",
       "      <td>196</td>\n",
       "      <td>177</td>\n",
       "      <td>185</td>\n",
       "      <td>...</td>\n",
       "      <td>78</td>\n",
       "      <td>75</td>\n",
       "      <td>79</td>\n",
       "      <td>82</td>\n",
       "      <td>71</td>\n",
       "      <td>75</td>\n",
       "      <td>78</td>\n",
       "      <td>73</td>\n",
       "      <td>77</td>\n",
       "      <td>80</td>\n",
       "    </tr>\n",
       "  </tbody>\n",
       "</table>\n",
       "<p>5 rows × 3074 columns</p>\n",
       "</div>"
      ],
      "text/plain": [
       "   Class  Class Name    0    1    2    3    4    5    6    7  ...  3062  3063  \\\n",
       "0      6        frog   59   62   63   43   46   45   50   48  ...   104   216   \n",
       "1      9       truck  154  177  187  126  137  136  105  104  ...   136   143   \n",
       "2      9       truck  255  255  255  253  253  253  253  253  ...    79    78   \n",
       "3      4        deer   28   25   10   37   34   19   38   35  ...    38    54   \n",
       "4      1  automobile  170  180  198  168  178  196  177  185  ...    78    75   \n",
       "\n",
       "   3064  3065  3066  3067  3068  3069  3070  3071  \n",
       "0   184   140   151   118    84   123    92    72  \n",
       "1   133   139   143   134   142   143   133   144  \n",
       "2    85    83    79    85    83    80    86    84  \n",
       "3    47    28    63    56    37    72    65    46  \n",
       "4    79    82    71    75    78    73    77    80  \n",
       "\n",
       "[5 rows x 3074 columns]"
      ]
     },
     "execution_count": 4,
     "metadata": {},
     "output_type": "execute_result"
    }
   ],
   "source": [
    "train_data.head()"
   ]
  },
  {
   "cell_type": "code",
   "execution_count": 5,
   "metadata": {},
   "outputs": [
    {
     "data": {
      "text/html": [
       "<div>\n",
       "<style scoped>\n",
       "    .dataframe tbody tr th:only-of-type {\n",
       "        vertical-align: middle;\n",
       "    }\n",
       "\n",
       "    .dataframe tbody tr th {\n",
       "        vertical-align: top;\n",
       "    }\n",
       "\n",
       "    .dataframe thead th {\n",
       "        text-align: right;\n",
       "    }\n",
       "</style>\n",
       "<table border=\"1\" class=\"dataframe\">\n",
       "  <thead>\n",
       "    <tr style=\"text-align: right;\">\n",
       "      <th></th>\n",
       "      <th>Class</th>\n",
       "      <th>Class Name</th>\n",
       "      <th>0</th>\n",
       "      <th>1</th>\n",
       "      <th>2</th>\n",
       "      <th>3</th>\n",
       "      <th>4</th>\n",
       "      <th>5</th>\n",
       "      <th>6</th>\n",
       "      <th>7</th>\n",
       "      <th>...</th>\n",
       "      <th>3062</th>\n",
       "      <th>3063</th>\n",
       "      <th>3064</th>\n",
       "      <th>3065</th>\n",
       "      <th>3066</th>\n",
       "      <th>3067</th>\n",
       "      <th>3068</th>\n",
       "      <th>3069</th>\n",
       "      <th>3070</th>\n",
       "      <th>3071</th>\n",
       "    </tr>\n",
       "  </thead>\n",
       "  <tbody>\n",
       "    <tr>\n",
       "      <th>0</th>\n",
       "      <td>3</td>\n",
       "      <td>cat</td>\n",
       "      <td>158</td>\n",
       "      <td>112</td>\n",
       "      <td>49</td>\n",
       "      <td>159</td>\n",
       "      <td>111</td>\n",
       "      <td>47</td>\n",
       "      <td>165</td>\n",
       "      <td>116</td>\n",
       "      <td>...</td>\n",
       "      <td>145</td>\n",
       "      <td>24</td>\n",
       "      <td>77</td>\n",
       "      <td>124</td>\n",
       "      <td>34</td>\n",
       "      <td>84</td>\n",
       "      <td>129</td>\n",
       "      <td>21</td>\n",
       "      <td>67</td>\n",
       "      <td>110</td>\n",
       "    </tr>\n",
       "    <tr>\n",
       "      <th>1</th>\n",
       "      <td>8</td>\n",
       "      <td>ship</td>\n",
       "      <td>235</td>\n",
       "      <td>235</td>\n",
       "      <td>235</td>\n",
       "      <td>231</td>\n",
       "      <td>231</td>\n",
       "      <td>231</td>\n",
       "      <td>232</td>\n",
       "      <td>232</td>\n",
       "      <td>...</td>\n",
       "      <td>163</td>\n",
       "      <td>168</td>\n",
       "      <td>183</td>\n",
       "      <td>178</td>\n",
       "      <td>180</td>\n",
       "      <td>195</td>\n",
       "      <td>191</td>\n",
       "      <td>186</td>\n",
       "      <td>200</td>\n",
       "      <td>199</td>\n",
       "    </tr>\n",
       "    <tr>\n",
       "      <th>2</th>\n",
       "      <td>8</td>\n",
       "      <td>ship</td>\n",
       "      <td>158</td>\n",
       "      <td>190</td>\n",
       "      <td>222</td>\n",
       "      <td>158</td>\n",
       "      <td>187</td>\n",
       "      <td>218</td>\n",
       "      <td>139</td>\n",
       "      <td>166</td>\n",
       "      <td>...</td>\n",
       "      <td>37</td>\n",
       "      <td>5</td>\n",
       "      <td>6</td>\n",
       "      <td>8</td>\n",
       "      <td>4</td>\n",
       "      <td>5</td>\n",
       "      <td>3</td>\n",
       "      <td>7</td>\n",
       "      <td>8</td>\n",
       "      <td>7</td>\n",
       "    </tr>\n",
       "    <tr>\n",
       "      <th>3</th>\n",
       "      <td>0</td>\n",
       "      <td>airplane</td>\n",
       "      <td>155</td>\n",
       "      <td>156</td>\n",
       "      <td>149</td>\n",
       "      <td>167</td>\n",
       "      <td>176</td>\n",
       "      <td>187</td>\n",
       "      <td>176</td>\n",
       "      <td>179</td>\n",
       "      <td>...</td>\n",
       "      <td>53</td>\n",
       "      <td>60</td>\n",
       "      <td>63</td>\n",
       "      <td>50</td>\n",
       "      <td>64</td>\n",
       "      <td>65</td>\n",
       "      <td>52</td>\n",
       "      <td>73</td>\n",
       "      <td>68</td>\n",
       "      <td>50</td>\n",
       "    </tr>\n",
       "    <tr>\n",
       "      <th>4</th>\n",
       "      <td>6</td>\n",
       "      <td>frog</td>\n",
       "      <td>65</td>\n",
       "      <td>68</td>\n",
       "      <td>50</td>\n",
       "      <td>70</td>\n",
       "      <td>81</td>\n",
       "      <td>64</td>\n",
       "      <td>48</td>\n",
       "      <td>64</td>\n",
       "      <td>...</td>\n",
       "      <td>147</td>\n",
       "      <td>143</td>\n",
       "      <td>179</td>\n",
       "      <td>136</td>\n",
       "      <td>154</td>\n",
       "      <td>185</td>\n",
       "      <td>146</td>\n",
       "      <td>128</td>\n",
       "      <td>156</td>\n",
       "      <td>117</td>\n",
       "    </tr>\n",
       "  </tbody>\n",
       "</table>\n",
       "<p>5 rows × 3074 columns</p>\n",
       "</div>"
      ],
      "text/plain": [
       "   Class Class Name    0    1    2    3    4    5    6    7  ...  3062  3063  \\\n",
       "0      3        cat  158  112   49  159  111   47  165  116  ...   145    24   \n",
       "1      8       ship  235  235  235  231  231  231  232  232  ...   163   168   \n",
       "2      8       ship  158  190  222  158  187  218  139  166  ...    37     5   \n",
       "3      0   airplane  155  156  149  167  176  187  176  179  ...    53    60   \n",
       "4      6       frog   65   68   50   70   81   64   48   64  ...   147   143   \n",
       "\n",
       "   3064  3065  3066  3067  3068  3069  3070  3071  \n",
       "0    77   124    34    84   129    21    67   110  \n",
       "1   183   178   180   195   191   186   200   199  \n",
       "2     6     8     4     5     3     7     8     7  \n",
       "3    63    50    64    65    52    73    68    50  \n",
       "4   179   136   154   185   146   128   156   117  \n",
       "\n",
       "[5 rows x 3074 columns]"
      ]
     },
     "execution_count": 5,
     "metadata": {},
     "output_type": "execute_result"
    }
   ],
   "source": [
    "test_data.head()"
   ]
  },
  {
   "cell_type": "code",
   "execution_count": 6,
   "metadata": {},
   "outputs": [
    {
     "name": "stdout",
     "output_type": "stream",
     "text": [
      "(50000, 3072)\n",
      "(50000, 2)\n"
     ]
    }
   ],
   "source": [
    "x_train = train_data.iloc[:, 2:]\n",
    "print(x_train.shape)\n",
    "y_train = train_data.iloc[:, [0, 1]]\n",
    "print(y_train.shape)"
   ]
  },
  {
   "cell_type": "code",
   "execution_count": 7,
   "metadata": {},
   "outputs": [
    {
     "name": "stdout",
     "output_type": "stream",
     "text": [
      "(10000, 3072)\n",
      "(10000, 2)\n"
     ]
    }
   ],
   "source": [
    "x_test = test_data.iloc[:, 2:]\n",
    "print(x_test.shape)\n",
    "y_test = test_data.iloc[:, [0, 1]]\n",
    "print(y_test.shape)"
   ]
  },
  {
   "cell_type": "code",
   "execution_count": 8,
   "metadata": {},
   "outputs": [],
   "source": [
    "x_train = np.array(x_train)\n",
    "x_test = np.array(x_test)"
   ]
  },
  {
   "cell_type": "code",
   "execution_count": 9,
   "metadata": {},
   "outputs": [
    {
     "name": "stdout",
     "output_type": "stream",
     "text": [
      "(50000, 3072)\n",
      "(10000, 3072)\n"
     ]
    }
   ],
   "source": [
    "print(x_train.shape)\n",
    "print(x_test.shape)"
   ]
  },
  {
   "cell_type": "code",
   "execution_count": 10,
   "metadata": {},
   "outputs": [
    {
     "name": "stdout",
     "output_type": "stream",
     "text": [
      "(50000, 32, 32, 3)\n",
      "(10000, 32, 32, 3)\n"
     ]
    }
   ],
   "source": [
    "x_train = x_train.reshape(len(x_train), 32, 32, 3)\n",
    "x_test = x_test.reshape(len(x_test), 32, 32, 3)\n",
    "print(x_train.shape)\n",
    "print(x_test.shape)"
   ]
  },
  {
   "cell_type": "code",
   "execution_count": 11,
   "metadata": {},
   "outputs": [
    {
     "name": "stdout",
     "output_type": "stream",
     "text": [
      "(50000, 32, 32, 3)\n",
      "(10000, 32, 32, 3)\n"
     ]
    }
   ],
   "source": [
    "x_train = x_train.astype('float32')/255\n",
    "x_test = x_test.astype('float32')/255\n",
    "print(x_train.shape)\n",
    "print(x_test.shape)"
   ]
  },
  {
   "cell_type": "code",
   "execution_count": 12,
   "metadata": {},
   "outputs": [],
   "source": [
    "input_img = Input(shape = (32, 32, 3))\n",
    "\n",
    "\n",
    "encoded = Conv2D(16, (3, 3), activation = 'relu', padding = 'same')(input_img)\n",
    "encoded = MaxPooling2D((2, 2), padding = 'same')(encoded)\n",
    "encoded = Conv2D(8, (3, 3), activation = 'relu', padding = 'same')(encoded)\n",
    "encoded = MaxPooling2D((2, 2), padding = 'same')(encoded)\n",
    "encoded = Conv2D(8, (3, 3), activation = 'relu', padding = 'same')(encoded)\n",
    "encoded = MaxPooling2D((2, 2), padding = 'same')(encoded)\n",
    "\n",
    "decoded = Conv2D(8, (3, 3), activation = 'relu', padding = 'same')(encoded)\n",
    "decoded = UpSampling2D((2, 2))(decoded)\n",
    "decoded = Conv2D(8, (3, 3), activation = 'relu', padding = 'same')(decoded)\n",
    "decoded = UpSampling2D((2, 2))(decoded)\n",
    "decoded = Conv2D(16, (3, 3), activation = 'relu', padding = 'same')(decoded)\n",
    "decoded = UpSampling2D((2, 2))(decoded)\n",
    "\n",
    "decoded = Conv2D(3, (3, 3), activation = 'tanh', padding = 'same')(decoded)"
   ]
  },
  {
   "cell_type": "code",
   "execution_count": 13,
   "metadata": {},
   "outputs": [],
   "source": [
    "autoencoder = Model(input_img, decoded)\n",
    "encoder = Model(input_img, encoded)"
   ]
  },
  {
   "cell_type": "code",
   "execution_count": 14,
   "metadata": {
    "scrolled": true
   },
   "outputs": [
    {
     "name": "stdout",
     "output_type": "stream",
     "text": [
      "Model: \"model_1\"\n",
      "_________________________________________________________________\n",
      "Layer (type)                 Output Shape              Param #   \n",
      "=================================================================\n",
      "input_1 (InputLayer)         (None, 32, 32, 3)         0         \n",
      "_________________________________________________________________\n",
      "conv2d_1 (Conv2D)            (None, 32, 32, 16)        448       \n",
      "_________________________________________________________________\n",
      "max_pooling2d_1 (MaxPooling2 (None, 16, 16, 16)        0         \n",
      "_________________________________________________________________\n",
      "conv2d_2 (Conv2D)            (None, 16, 16, 8)         1160      \n",
      "_________________________________________________________________\n",
      "max_pooling2d_2 (MaxPooling2 (None, 8, 8, 8)           0         \n",
      "_________________________________________________________________\n",
      "conv2d_3 (Conv2D)            (None, 8, 8, 8)           584       \n",
      "_________________________________________________________________\n",
      "max_pooling2d_3 (MaxPooling2 (None, 4, 4, 8)           0         \n",
      "_________________________________________________________________\n",
      "conv2d_4 (Conv2D)            (None, 4, 4, 8)           584       \n",
      "_________________________________________________________________\n",
      "up_sampling2d_1 (UpSampling2 (None, 8, 8, 8)           0         \n",
      "_________________________________________________________________\n",
      "conv2d_5 (Conv2D)            (None, 8, 8, 8)           584       \n",
      "_________________________________________________________________\n",
      "up_sampling2d_2 (UpSampling2 (None, 16, 16, 8)         0         \n",
      "_________________________________________________________________\n",
      "conv2d_6 (Conv2D)            (None, 16, 16, 16)        1168      \n",
      "_________________________________________________________________\n",
      "up_sampling2d_3 (UpSampling2 (None, 32, 32, 16)        0         \n",
      "_________________________________________________________________\n",
      "conv2d_7 (Conv2D)            (None, 32, 32, 3)         435       \n",
      "=================================================================\n",
      "Total params: 4,963\n",
      "Trainable params: 4,963\n",
      "Non-trainable params: 0\n",
      "_________________________________________________________________\n"
     ]
    }
   ],
   "source": [
    "autoencoder.summary()"
   ]
  },
  {
   "cell_type": "code",
   "execution_count": 15,
   "metadata": {
    "scrolled": true
   },
   "outputs": [
    {
     "name": "stdout",
     "output_type": "stream",
     "text": [
      "Model: \"model_2\"\n",
      "_________________________________________________________________\n",
      "Layer (type)                 Output Shape              Param #   \n",
      "=================================================================\n",
      "input_1 (InputLayer)         (None, 32, 32, 3)         0         \n",
      "_________________________________________________________________\n",
      "conv2d_1 (Conv2D)            (None, 32, 32, 16)        448       \n",
      "_________________________________________________________________\n",
      "max_pooling2d_1 (MaxPooling2 (None, 16, 16, 16)        0         \n",
      "_________________________________________________________________\n",
      "conv2d_2 (Conv2D)            (None, 16, 16, 8)         1160      \n",
      "_________________________________________________________________\n",
      "max_pooling2d_2 (MaxPooling2 (None, 8, 8, 8)           0         \n",
      "_________________________________________________________________\n",
      "conv2d_3 (Conv2D)            (None, 8, 8, 8)           584       \n",
      "_________________________________________________________________\n",
      "max_pooling2d_3 (MaxPooling2 (None, 4, 4, 8)           0         \n",
      "=================================================================\n",
      "Total params: 2,192\n",
      "Trainable params: 2,192\n",
      "Non-trainable params: 0\n",
      "_________________________________________________________________\n"
     ]
    }
   ],
   "source": [
    "encoder.summary()"
   ]
  },
  {
   "cell_type": "code",
   "execution_count": 16,
   "metadata": {
    "scrolled": true
   },
   "outputs": [
    {
     "name": "stdout",
     "output_type": "stream",
     "text": [
      "Train on 50000 samples, validate on 10000 samples\n",
      "Epoch 1/50\n",
      "50000/50000 [==============================] - 83s 2ms/step - loss: 0.8419 - accuracy: 0.0079 - val_loss: 0.6433 - val_accuracy: 0.0112\n",
      "Epoch 2/50\n",
      "50000/50000 [==============================] - 81s 2ms/step - loss: 0.6230 - accuracy: 0.0116 - val_loss: 0.6148 - val_accuracy: 0.0118\n",
      "Epoch 3/50\n",
      "50000/50000 [==============================] - 81s 2ms/step - loss: 0.6101 - accuracy: 0.0118 - val_loss: 0.6087 - val_accuracy: 0.0119\n",
      "Epoch 4/50\n",
      "50000/50000 [==============================] - 81s 2ms/step - loss: 0.6063 - accuracy: 0.0119 - val_loss: 0.6061 - val_accuracy: 0.0119\n",
      "Epoch 5/50\n",
      "50000/50000 [==============================] - 81s 2ms/step - loss: 0.6038 - accuracy: 0.0119 - val_loss: 0.6035 - val_accuracy: 0.0120\n",
      "Epoch 6/50\n",
      "50000/50000 [==============================] - 81s 2ms/step - loss: 0.6015 - accuracy: 0.0119 - val_loss: 0.6015 - val_accuracy: 0.0120\n",
      "Epoch 7/50\n",
      "50000/50000 [==============================] - 81s 2ms/step - loss: 0.5996 - accuracy: 0.0119 - val_loss: 0.5996 - val_accuracy: 0.0120\n",
      "Epoch 8/50\n",
      "50000/50000 [==============================] - 81s 2ms/step - loss: 0.5978 - accuracy: 0.0119 - val_loss: 0.5977 - val_accuracy: 0.0120\n",
      "Epoch 9/50\n",
      "50000/50000 [==============================] - 81s 2ms/step - loss: 0.5958 - accuracy: 0.0119 - val_loss: 0.5958 - val_accuracy: 0.0120\n",
      "Epoch 10/50\n",
      "50000/50000 [==============================] - 81s 2ms/step - loss: 0.5940 - accuracy: 0.0120 - val_loss: 0.5942 - val_accuracy: 0.0120\n",
      "Epoch 11/50\n",
      "50000/50000 [==============================] - 83s 2ms/step - loss: 0.5917 - accuracy: 0.0120 - val_loss: 0.5917 - val_accuracy: 0.0120\n",
      "Epoch 12/50\n",
      "50000/50000 [==============================] - 83s 2ms/step - loss: 0.5904 - accuracy: 0.0120 - val_loss: 0.5911 - val_accuracy: 0.0120\n",
      "Epoch 13/50\n",
      "50000/50000 [==============================] - 82s 2ms/step - loss: 0.5891 - accuracy: 0.0120 - val_loss: 0.5896 - val_accuracy: 0.0120\n",
      "Epoch 14/50\n",
      "50000/50000 [==============================] - 82s 2ms/step - loss: 0.5885 - accuracy: 0.0120 - val_loss: 0.5922 - val_accuracy: 0.0120\n",
      "Epoch 15/50\n",
      "50000/50000 [==============================] - 82s 2ms/step - loss: 0.5879 - accuracy: 0.0120 - val_loss: 0.5882 - val_accuracy: 0.0120\n",
      "Epoch 16/50\n",
      "50000/50000 [==============================] - 86s 2ms/step - loss: 0.5873 - accuracy: 0.0120 - val_loss: 0.5878 - val_accuracy: 0.0120\n",
      "Epoch 17/50\n",
      "50000/50000 [==============================] - 82s 2ms/step - loss: 0.5868 - accuracy: 0.0120 - val_loss: 0.5877 - val_accuracy: 0.0121\n",
      "Epoch 18/50\n",
      "50000/50000 [==============================] - 82s 2ms/step - loss: 0.5864 - accuracy: 0.0120 - val_loss: 0.5872 - val_accuracy: 0.0121\n",
      "Epoch 19/50\n",
      "50000/50000 [==============================] - 82s 2ms/step - loss: 0.5882 - accuracy: 0.0120 - val_loss: 0.5872 - val_accuracy: 0.0120\n",
      "Epoch 20/50\n",
      "50000/50000 [==============================] - 82s 2ms/step - loss: 0.5859 - accuracy: 0.0120 - val_loss: 0.5865 - val_accuracy: 0.0121\n",
      "Epoch 21/50\n",
      "50000/50000 [==============================] - 82s 2ms/step - loss: 0.5855 - accuracy: 0.0120 - val_loss: 0.5862 - val_accuracy: 0.0121\n",
      "Epoch 22/50\n",
      "50000/50000 [==============================] - 82s 2ms/step - loss: 0.5853 - accuracy: 0.0120 - val_loss: 0.5859 - val_accuracy: 0.0121\n",
      "Epoch 23/50\n",
      "50000/50000 [==============================] - 82s 2ms/step - loss: 0.5851 - accuracy: 0.0120 - val_loss: 0.5856 - val_accuracy: 0.0121\n",
      "Epoch 24/50\n",
      "50000/50000 [==============================] - 82s 2ms/step - loss: 0.5848 - accuracy: 0.0120 - val_loss: 0.5854 - val_accuracy: 0.0121\n",
      "Epoch 25/50\n",
      "50000/50000 [==============================] - 82s 2ms/step - loss: 0.5846 - accuracy: 0.0120 - val_loss: 0.5852 - val_accuracy: 0.0121\n",
      "Epoch 26/50\n",
      "50000/50000 [==============================] - 82s 2ms/step - loss: 0.5843 - accuracy: 0.0120 - val_loss: 0.5853 - val_accuracy: 0.0121\n",
      "Epoch 27/50\n",
      "50000/50000 [==============================] - 82s 2ms/step - loss: 0.5841 - accuracy: 0.0120 - val_loss: 0.5848 - val_accuracy: 0.0121\n",
      "Epoch 28/50\n",
      "50000/50000 [==============================] - 83s 2ms/step - loss: 0.5839 - accuracy: 0.0120 - val_loss: 0.5848 - val_accuracy: 0.0121\n",
      "Epoch 29/50\n",
      "50000/50000 [==============================] - 82s 2ms/step - loss: 0.5837 - accuracy: 0.0120 - val_loss: 0.5845 - val_accuracy: 0.0121\n",
      "Epoch 30/50\n",
      "50000/50000 [==============================] - 83s 2ms/step - loss: 0.5835 - accuracy: 0.0120 - val_loss: 0.5843 - val_accuracy: 0.0121\n",
      "Epoch 31/50\n",
      "50000/50000 [==============================] - 82s 2ms/step - loss: 0.5834 - accuracy: 0.0120 - val_loss: 0.5842 - val_accuracy: 0.0121\n",
      "Epoch 32/50\n",
      "50000/50000 [==============================] - 82s 2ms/step - loss: 0.5831 - accuracy: 0.0120 - val_loss: 0.5839 - val_accuracy: 0.0121\n",
      "Epoch 33/50\n",
      "50000/50000 [==============================] - 82s 2ms/step - loss: 0.5830 - accuracy: 0.0120 - val_loss: 0.5839 - val_accuracy: 0.0121\n",
      "Epoch 34/50\n",
      "50000/50000 [==============================] - 82s 2ms/step - loss: 0.5829 - accuracy: 0.0120 - val_loss: 0.5836 - val_accuracy: 0.0121\n",
      "Epoch 35/50\n",
      "50000/50000 [==============================] - 82s 2ms/step - loss: 0.5827 - accuracy: 0.0120 - val_loss: 0.5834 - val_accuracy: 0.0121\n",
      "Epoch 36/50\n",
      "50000/50000 [==============================] - 82s 2ms/step - loss: 0.5832 - accuracy: 0.0120 - val_loss: 0.5833 - val_accuracy: 0.0121\n",
      "Epoch 37/50\n",
      "50000/50000 [==============================] - 82s 2ms/step - loss: 0.5824 - accuracy: 0.0120 - val_loss: 0.5832 - val_accuracy: 0.0121\n",
      "Epoch 38/50\n",
      "50000/50000 [==============================] - 83s 2ms/step - loss: 0.5823 - accuracy: 0.0120 - val_loss: 0.5830 - val_accuracy: 0.0121\n",
      "Epoch 39/50\n",
      "50000/50000 [==============================] - 82s 2ms/step - loss: 0.5822 - accuracy: 0.0120 - val_loss: 0.5828 - val_accuracy: 0.0121\n",
      "Epoch 40/50\n",
      "50000/50000 [==============================] - 82s 2ms/step - loss: 0.5820 - accuracy: 0.0120 - val_loss: 0.5829 - val_accuracy: 0.0121\n",
      "Epoch 41/50\n",
      "50000/50000 [==============================] - 83s 2ms/step - loss: 0.5819 - accuracy: 0.0120 - val_loss: 0.5829 - val_accuracy: 0.0121\n",
      "Epoch 42/50\n",
      "50000/50000 [==============================] - 83s 2ms/step - loss: 0.5860 - accuracy: 0.0120 - val_loss: 0.5836 - val_accuracy: 0.0121\n",
      "Epoch 43/50\n",
      "50000/50000 [==============================] - 89s 2ms/step - loss: 0.5823 - accuracy: 0.0120 - val_loss: 0.5829 - val_accuracy: 0.0121\n",
      "Epoch 44/50\n",
      "50000/50000 [==============================] - 85s 2ms/step - loss: 0.5819 - accuracy: 0.0120 - val_loss: 0.5830 - val_accuracy: 0.0121\n",
      "Epoch 45/50\n",
      "50000/50000 [==============================] - 83s 2ms/step - loss: 0.5817 - accuracy: 0.0120 - val_loss: 0.5826 - val_accuracy: 0.0121\n",
      "Epoch 46/50\n",
      "50000/50000 [==============================] - 82s 2ms/step - loss: 0.5860 - accuracy: 0.0120 - val_loss: 0.5874 - val_accuracy: 0.0121\n",
      "Epoch 47/50\n",
      "50000/50000 [==============================] - 82s 2ms/step - loss: 0.5826 - accuracy: 0.0120 - val_loss: 0.5826 - val_accuracy: 0.0121\n",
      "Epoch 48/50\n",
      "50000/50000 [==============================] - 83s 2ms/step - loss: 0.5815 - accuracy: 0.0120 - val_loss: 0.5823 - val_accuracy: 0.0121\n",
      "Epoch 49/50\n",
      "50000/50000 [==============================] - 82s 2ms/step - loss: 0.5814 - accuracy: 0.0120 - val_loss: 0.5822 - val_accuracy: 0.0121\n",
      "Epoch 50/50\n",
      "50000/50000 [==============================] - 83s 2ms/step - loss: 0.5812 - accuracy: 0.0120 - val_loss: 0.5822 - val_accuracy: 0.0121\n"
     ]
    },
    {
     "data": {
      "text/plain": [
       "<keras.callbacks.callbacks.History at 0x13dc49ef0>"
      ]
     },
     "execution_count": 16,
     "metadata": {},
     "output_type": "execute_result"
    }
   ],
   "source": [
    "autoencoder.compile(optimizer = 'adam', loss = 'binary_crossentropy', metrics = ['accuracy'])\n",
    "autoencoder.fit(x_train, x_train, epochs = 50, batch_size = 256, shuffle = True, validation_data = [x_test, x_test])"
   ]
  },
  {
   "cell_type": "code",
   "execution_count": 17,
   "metadata": {},
   "outputs": [],
   "source": [
    "encoded_test_data = encoder.predict(x_test)\n",
    "predicted_test_data = autoencoder.predict(x_test)"
   ]
  },
  {
   "cell_type": "code",
   "execution_count": 18,
   "metadata": {},
   "outputs": [
    {
     "data": {
      "text/plain": [
       "(10000, 4, 4, 8)"
      ]
     },
     "execution_count": 18,
     "metadata": {},
     "output_type": "execute_result"
    }
   ],
   "source": [
    "encoded_test_data.shape"
   ]
  },
  {
   "cell_type": "code",
   "execution_count": 19,
   "metadata": {},
   "outputs": [],
   "source": [
    "encoded_test_data = encoded_test_data.reshape(len(encoded_test_data), np.prod(encoded_test_data.shape[1:]))"
   ]
  },
  {
   "cell_type": "code",
   "execution_count": 20,
   "metadata": {},
   "outputs": [
    {
     "data": {
      "text/plain": [
       "(10000, 128)"
      ]
     },
     "execution_count": 20,
     "metadata": {},
     "output_type": "execute_result"
    }
   ],
   "source": [
    "encoded_test_data.shape"
   ]
  },
  {
   "cell_type": "code",
   "execution_count": 21,
   "metadata": {},
   "outputs": [
    {
     "data": {
      "text/html": [
       "<div>\n",
       "<style scoped>\n",
       "    .dataframe tbody tr th:only-of-type {\n",
       "        vertical-align: middle;\n",
       "    }\n",
       "\n",
       "    .dataframe tbody tr th {\n",
       "        vertical-align: top;\n",
       "    }\n",
       "\n",
       "    .dataframe thead th {\n",
       "        text-align: right;\n",
       "    }\n",
       "</style>\n",
       "<table border=\"1\" class=\"dataframe\">\n",
       "  <thead>\n",
       "    <tr style=\"text-align: right;\">\n",
       "      <th></th>\n",
       "      <th>Class</th>\n",
       "      <th>Class Name</th>\n",
       "    </tr>\n",
       "  </thead>\n",
       "  <tbody>\n",
       "    <tr>\n",
       "      <th>0</th>\n",
       "      <td>3</td>\n",
       "      <td>cat</td>\n",
       "    </tr>\n",
       "    <tr>\n",
       "      <th>1</th>\n",
       "      <td>8</td>\n",
       "      <td>ship</td>\n",
       "    </tr>\n",
       "    <tr>\n",
       "      <th>2</th>\n",
       "      <td>8</td>\n",
       "      <td>ship</td>\n",
       "    </tr>\n",
       "    <tr>\n",
       "      <th>3</th>\n",
       "      <td>0</td>\n",
       "      <td>airplane</td>\n",
       "    </tr>\n",
       "    <tr>\n",
       "      <th>4</th>\n",
       "      <td>6</td>\n",
       "      <td>frog</td>\n",
       "    </tr>\n",
       "    <tr>\n",
       "      <th>...</th>\n",
       "      <td>...</td>\n",
       "      <td>...</td>\n",
       "    </tr>\n",
       "    <tr>\n",
       "      <th>9995</th>\n",
       "      <td>8</td>\n",
       "      <td>ship</td>\n",
       "    </tr>\n",
       "    <tr>\n",
       "      <th>9996</th>\n",
       "      <td>3</td>\n",
       "      <td>cat</td>\n",
       "    </tr>\n",
       "    <tr>\n",
       "      <th>9997</th>\n",
       "      <td>5</td>\n",
       "      <td>dog</td>\n",
       "    </tr>\n",
       "    <tr>\n",
       "      <th>9998</th>\n",
       "      <td>1</td>\n",
       "      <td>automobile</td>\n",
       "    </tr>\n",
       "    <tr>\n",
       "      <th>9999</th>\n",
       "      <td>7</td>\n",
       "      <td>horse</td>\n",
       "    </tr>\n",
       "  </tbody>\n",
       "</table>\n",
       "<p>10000 rows × 2 columns</p>\n",
       "</div>"
      ],
      "text/plain": [
       "      Class  Class Name\n",
       "0         3         cat\n",
       "1         8        ship\n",
       "2         8        ship\n",
       "3         0    airplane\n",
       "4         6        frog\n",
       "...     ...         ...\n",
       "9995      8        ship\n",
       "9996      3         cat\n",
       "9997      5         dog\n",
       "9998      1  automobile\n",
       "9999      7       horse\n",
       "\n",
       "[10000 rows x 2 columns]"
      ]
     },
     "execution_count": 21,
     "metadata": {},
     "output_type": "execute_result"
    }
   ],
   "source": [
    "y_test"
   ]
  },
  {
   "cell_type": "code",
   "execution_count": 22,
   "metadata": {},
   "outputs": [
    {
     "data": {
      "text/plain": [
       "(10000, 130)"
      ]
     },
     "execution_count": 22,
     "metadata": {},
     "output_type": "execute_result"
    }
   ],
   "source": [
    "encoded_test_data_df = pd.DataFrame(encoded_test_data)\n",
    "final_encoded_test_data_df = pd.concat([y_test, encoded_test_data_df], axis = 1)\n",
    "final_encoded_test_data_df.shape"
   ]
  },
  {
   "cell_type": "code",
   "execution_count": 23,
   "metadata": {},
   "outputs": [],
   "source": [
    "datadir = '/Users/sidv88/Documents/Data_Management_2/Convolutional_Encoded_Data/'\n",
    "final_encoded_test_data_df.to_csv(datadir + 'Convolutional_Encoded_Test_RTAB.csv', index = False)"
   ]
  },
  {
   "cell_type": "code",
   "execution_count": 24,
   "metadata": {},
   "outputs": [
    {
     "name": "stdout",
     "output_type": "stream",
     "text": [
      "Enter one of these values ['cat' 'ship' 'airplane' 'frog' 'automobile' 'truck' 'dog' 'horse' 'deer'\n",
      " 'bird'] : frog\n"
     ]
    }
   ],
   "source": [
    "input_val = input(\"Enter one of these values {} : \".format(final_encoded_test_data_df['Class Name'].unique()))"
   ]
  },
  {
   "cell_type": "code",
   "execution_count": 25,
   "metadata": {},
   "outputs": [
    {
     "name": "stdout",
     "output_type": "stream",
     "text": [
      "Enter a number between 0 and 999 : 7\n"
     ]
    }
   ],
   "source": [
    "input_num = input(\"Enter a number between 0 and 999 : \")"
   ]
  },
  {
   "cell_type": "code",
   "execution_count": 26,
   "metadata": {},
   "outputs": [
    {
     "name": "stdout",
     "output_type": "stream",
     "text": [
      "10000\n",
      "10000\n"
     ]
    }
   ],
   "source": [
    "from numpy import dot\n",
    "from numpy.linalg import norm\n",
    "\n",
    "cosine_similarity = []\n",
    "cosine_distance = []\n",
    "\n",
    "for i in range(len(x_test)):\n",
    "    a = final_encoded_test_data_df.loc[final_encoded_test_data_df['Class Name'] == input_val].iloc[int(input_num), 2:]\n",
    "    b = final_encoded_test_data_df.iloc[i, 2:]\n",
    "    cos_sim = dot(a, b)/(norm(a) * norm(b))\n",
    "    cos_dist = 1 - cos_sim\n",
    "    cosine_similarity.append(cos_sim)\n",
    "    cosine_distance.append(cos_dist)\n",
    "print(len(cosine_similarity))\n",
    "print(len(cosine_distance))"
   ]
  },
  {
   "cell_type": "code",
   "execution_count": 27,
   "metadata": {},
   "outputs": [],
   "source": [
    "final_encoded_test_data_df['Cosine Similarity'] = cosine_similarity\n",
    "final_encoded_test_data_df['Cosine Distance'] = cosine_distance"
   ]
  },
  {
   "cell_type": "code",
   "execution_count": 28,
   "metadata": {},
   "outputs": [
    {
     "data": {
      "text/html": [
       "<div>\n",
       "<style scoped>\n",
       "    .dataframe tbody tr th:only-of-type {\n",
       "        vertical-align: middle;\n",
       "    }\n",
       "\n",
       "    .dataframe tbody tr th {\n",
       "        vertical-align: top;\n",
       "    }\n",
       "\n",
       "    .dataframe thead th {\n",
       "        text-align: right;\n",
       "    }\n",
       "</style>\n",
       "<table border=\"1\" class=\"dataframe\">\n",
       "  <thead>\n",
       "    <tr style=\"text-align: right;\">\n",
       "      <th></th>\n",
       "      <th>Class</th>\n",
       "      <th>Class Name</th>\n",
       "      <th>0</th>\n",
       "      <th>1</th>\n",
       "      <th>2</th>\n",
       "      <th>3</th>\n",
       "      <th>4</th>\n",
       "      <th>5</th>\n",
       "      <th>6</th>\n",
       "      <th>7</th>\n",
       "      <th>...</th>\n",
       "      <th>120</th>\n",
       "      <th>121</th>\n",
       "      <th>122</th>\n",
       "      <th>123</th>\n",
       "      <th>124</th>\n",
       "      <th>125</th>\n",
       "      <th>126</th>\n",
       "      <th>127</th>\n",
       "      <th>Cosine Similarity</th>\n",
       "      <th>Cosine Distance</th>\n",
       "    </tr>\n",
       "  </thead>\n",
       "  <tbody>\n",
       "    <tr>\n",
       "      <th>43</th>\n",
       "      <td>6</td>\n",
       "      <td>frog</td>\n",
       "      <td>0.314353</td>\n",
       "      <td>0.000000</td>\n",
       "      <td>0.0</td>\n",
       "      <td>0.738291</td>\n",
       "      <td>1.091396</td>\n",
       "      <td>0.206023</td>\n",
       "      <td>0.308092</td>\n",
       "      <td>0.000000</td>\n",
       "      <td>...</td>\n",
       "      <td>0.633776</td>\n",
       "      <td>0.648587</td>\n",
       "      <td>0.0</td>\n",
       "      <td>0.740500</td>\n",
       "      <td>1.422547</td>\n",
       "      <td>0.442037</td>\n",
       "      <td>1.087540</td>\n",
       "      <td>0.393826</td>\n",
       "      <td>1.000000</td>\n",
       "      <td>1.192093e-07</td>\n",
       "    </tr>\n",
       "    <tr>\n",
       "      <th>7344</th>\n",
       "      <td>4</td>\n",
       "      <td>deer</td>\n",
       "      <td>0.098178</td>\n",
       "      <td>0.000000</td>\n",
       "      <td>0.0</td>\n",
       "      <td>0.417737</td>\n",
       "      <td>1.162022</td>\n",
       "      <td>0.469572</td>\n",
       "      <td>0.282775</td>\n",
       "      <td>0.025943</td>\n",
       "      <td>...</td>\n",
       "      <td>0.633709</td>\n",
       "      <td>0.588978</td>\n",
       "      <td>0.0</td>\n",
       "      <td>0.612704</td>\n",
       "      <td>1.622961</td>\n",
       "      <td>0.267458</td>\n",
       "      <td>1.055493</td>\n",
       "      <td>0.482001</td>\n",
       "      <td>0.984810</td>\n",
       "      <td>1.519001e-02</td>\n",
       "    </tr>\n",
       "    <tr>\n",
       "      <th>3197</th>\n",
       "      <td>6</td>\n",
       "      <td>frog</td>\n",
       "      <td>0.098742</td>\n",
       "      <td>0.000000</td>\n",
       "      <td>0.0</td>\n",
       "      <td>0.703847</td>\n",
       "      <td>1.049663</td>\n",
       "      <td>0.443728</td>\n",
       "      <td>0.467981</td>\n",
       "      <td>0.099789</td>\n",
       "      <td>...</td>\n",
       "      <td>0.710220</td>\n",
       "      <td>0.600092</td>\n",
       "      <td>0.0</td>\n",
       "      <td>0.673921</td>\n",
       "      <td>1.524587</td>\n",
       "      <td>0.578763</td>\n",
       "      <td>1.001345</td>\n",
       "      <td>0.584512</td>\n",
       "      <td>0.982123</td>\n",
       "      <td>1.787651e-02</td>\n",
       "    </tr>\n",
       "    <tr>\n",
       "      <th>2939</th>\n",
       "      <td>2</td>\n",
       "      <td>bird</td>\n",
       "      <td>0.166797</td>\n",
       "      <td>0.000000</td>\n",
       "      <td>0.0</td>\n",
       "      <td>0.592089</td>\n",
       "      <td>1.082988</td>\n",
       "      <td>0.404687</td>\n",
       "      <td>0.413903</td>\n",
       "      <td>0.115411</td>\n",
       "      <td>...</td>\n",
       "      <td>0.730914</td>\n",
       "      <td>0.550584</td>\n",
       "      <td>0.0</td>\n",
       "      <td>0.622285</td>\n",
       "      <td>1.829166</td>\n",
       "      <td>0.272281</td>\n",
       "      <td>1.143840</td>\n",
       "      <td>0.549899</td>\n",
       "      <td>0.981814</td>\n",
       "      <td>1.818562e-02</td>\n",
       "    </tr>\n",
       "    <tr>\n",
       "      <th>3716</th>\n",
       "      <td>3</td>\n",
       "      <td>cat</td>\n",
       "      <td>0.367276</td>\n",
       "      <td>0.000000</td>\n",
       "      <td>0.0</td>\n",
       "      <td>0.604415</td>\n",
       "      <td>0.994751</td>\n",
       "      <td>0.089203</td>\n",
       "      <td>0.305825</td>\n",
       "      <td>0.170338</td>\n",
       "      <td>...</td>\n",
       "      <td>0.617944</td>\n",
       "      <td>0.860618</td>\n",
       "      <td>0.0</td>\n",
       "      <td>0.657519</td>\n",
       "      <td>1.452356</td>\n",
       "      <td>0.685025</td>\n",
       "      <td>0.911246</td>\n",
       "      <td>0.615431</td>\n",
       "      <td>0.981762</td>\n",
       "      <td>1.823848e-02</td>\n",
       "    </tr>\n",
       "    <tr>\n",
       "      <th>...</th>\n",
       "      <td>...</td>\n",
       "      <td>...</td>\n",
       "      <td>...</td>\n",
       "      <td>...</td>\n",
       "      <td>...</td>\n",
       "      <td>...</td>\n",
       "      <td>...</td>\n",
       "      <td>...</td>\n",
       "      <td>...</td>\n",
       "      <td>...</td>\n",
       "      <td>...</td>\n",
       "      <td>...</td>\n",
       "      <td>...</td>\n",
       "      <td>...</td>\n",
       "      <td>...</td>\n",
       "      <td>...</td>\n",
       "      <td>...</td>\n",
       "      <td>...</td>\n",
       "      <td>...</td>\n",
       "      <td>...</td>\n",
       "      <td>...</td>\n",
       "    </tr>\n",
       "    <tr>\n",
       "      <th>4453</th>\n",
       "      <td>0</td>\n",
       "      <td>airplane</td>\n",
       "      <td>0.368573</td>\n",
       "      <td>0.000000</td>\n",
       "      <td>0.0</td>\n",
       "      <td>0.000000</td>\n",
       "      <td>1.809318</td>\n",
       "      <td>0.147106</td>\n",
       "      <td>0.000000</td>\n",
       "      <td>0.000000</td>\n",
       "      <td>...</td>\n",
       "      <td>0.574777</td>\n",
       "      <td>0.293411</td>\n",
       "      <td>0.0</td>\n",
       "      <td>0.000000</td>\n",
       "      <td>1.994842</td>\n",
       "      <td>0.264689</td>\n",
       "      <td>0.300975</td>\n",
       "      <td>0.372843</td>\n",
       "      <td>0.825232</td>\n",
       "      <td>1.747676e-01</td>\n",
       "    </tr>\n",
       "    <tr>\n",
       "      <th>1833</th>\n",
       "      <td>8</td>\n",
       "      <td>ship</td>\n",
       "      <td>0.401146</td>\n",
       "      <td>0.000000</td>\n",
       "      <td>0.0</td>\n",
       "      <td>0.129449</td>\n",
       "      <td>3.390571</td>\n",
       "      <td>0.003670</td>\n",
       "      <td>1.438305</td>\n",
       "      <td>0.000000</td>\n",
       "      <td>...</td>\n",
       "      <td>0.750368</td>\n",
       "      <td>0.877468</td>\n",
       "      <td>0.0</td>\n",
       "      <td>0.455152</td>\n",
       "      <td>1.535957</td>\n",
       "      <td>0.658124</td>\n",
       "      <td>0.732671</td>\n",
       "      <td>0.438928</td>\n",
       "      <td>0.825102</td>\n",
       "      <td>1.748976e-01</td>\n",
       "    </tr>\n",
       "    <tr>\n",
       "      <th>3582</th>\n",
       "      <td>6</td>\n",
       "      <td>frog</td>\n",
       "      <td>0.111761</td>\n",
       "      <td>0.389757</td>\n",
       "      <td>0.0</td>\n",
       "      <td>0.720299</td>\n",
       "      <td>0.226290</td>\n",
       "      <td>0.238824</td>\n",
       "      <td>0.000000</td>\n",
       "      <td>0.466660</td>\n",
       "      <td>...</td>\n",
       "      <td>0.292915</td>\n",
       "      <td>1.407551</td>\n",
       "      <td>0.0</td>\n",
       "      <td>0.642827</td>\n",
       "      <td>0.804836</td>\n",
       "      <td>0.603351</td>\n",
       "      <td>0.577652</td>\n",
       "      <td>0.652613</td>\n",
       "      <td>0.824096</td>\n",
       "      <td>1.759043e-01</td>\n",
       "    </tr>\n",
       "    <tr>\n",
       "      <th>815</th>\n",
       "      <td>8</td>\n",
       "      <td>ship</td>\n",
       "      <td>0.540500</td>\n",
       "      <td>0.000000</td>\n",
       "      <td>0.0</td>\n",
       "      <td>0.162036</td>\n",
       "      <td>2.442394</td>\n",
       "      <td>0.041373</td>\n",
       "      <td>0.786299</td>\n",
       "      <td>0.000000</td>\n",
       "      <td>...</td>\n",
       "      <td>0.517277</td>\n",
       "      <td>1.384040</td>\n",
       "      <td>0.0</td>\n",
       "      <td>0.635841</td>\n",
       "      <td>1.345383</td>\n",
       "      <td>0.904356</td>\n",
       "      <td>0.677899</td>\n",
       "      <td>0.467852</td>\n",
       "      <td>0.821817</td>\n",
       "      <td>1.781827e-01</td>\n",
       "    </tr>\n",
       "    <tr>\n",
       "      <th>5263</th>\n",
       "      <td>8</td>\n",
       "      <td>ship</td>\n",
       "      <td>0.389533</td>\n",
       "      <td>0.000000</td>\n",
       "      <td>0.0</td>\n",
       "      <td>0.122165</td>\n",
       "      <td>3.407760</td>\n",
       "      <td>0.018461</td>\n",
       "      <td>1.437313</td>\n",
       "      <td>0.000000</td>\n",
       "      <td>...</td>\n",
       "      <td>0.740289</td>\n",
       "      <td>1.252798</td>\n",
       "      <td>0.0</td>\n",
       "      <td>0.707697</td>\n",
       "      <td>1.452322</td>\n",
       "      <td>0.508375</td>\n",
       "      <td>0.838152</td>\n",
       "      <td>0.473082</td>\n",
       "      <td>0.798508</td>\n",
       "      <td>2.014924e-01</td>\n",
       "    </tr>\n",
       "  </tbody>\n",
       "</table>\n",
       "<p>10000 rows × 132 columns</p>\n",
       "</div>"
      ],
      "text/plain": [
       "      Class Class Name         0         1    2         3         4         5  \\\n",
       "43        6       frog  0.314353  0.000000  0.0  0.738291  1.091396  0.206023   \n",
       "7344      4       deer  0.098178  0.000000  0.0  0.417737  1.162022  0.469572   \n",
       "3197      6       frog  0.098742  0.000000  0.0  0.703847  1.049663  0.443728   \n",
       "2939      2       bird  0.166797  0.000000  0.0  0.592089  1.082988  0.404687   \n",
       "3716      3        cat  0.367276  0.000000  0.0  0.604415  0.994751  0.089203   \n",
       "...     ...        ...       ...       ...  ...       ...       ...       ...   \n",
       "4453      0   airplane  0.368573  0.000000  0.0  0.000000  1.809318  0.147106   \n",
       "1833      8       ship  0.401146  0.000000  0.0  0.129449  3.390571  0.003670   \n",
       "3582      6       frog  0.111761  0.389757  0.0  0.720299  0.226290  0.238824   \n",
       "815       8       ship  0.540500  0.000000  0.0  0.162036  2.442394  0.041373   \n",
       "5263      8       ship  0.389533  0.000000  0.0  0.122165  3.407760  0.018461   \n",
       "\n",
       "             6         7  ...       120       121  122       123       124  \\\n",
       "43    0.308092  0.000000  ...  0.633776  0.648587  0.0  0.740500  1.422547   \n",
       "7344  0.282775  0.025943  ...  0.633709  0.588978  0.0  0.612704  1.622961   \n",
       "3197  0.467981  0.099789  ...  0.710220  0.600092  0.0  0.673921  1.524587   \n",
       "2939  0.413903  0.115411  ...  0.730914  0.550584  0.0  0.622285  1.829166   \n",
       "3716  0.305825  0.170338  ...  0.617944  0.860618  0.0  0.657519  1.452356   \n",
       "...        ...       ...  ...       ...       ...  ...       ...       ...   \n",
       "4453  0.000000  0.000000  ...  0.574777  0.293411  0.0  0.000000  1.994842   \n",
       "1833  1.438305  0.000000  ...  0.750368  0.877468  0.0  0.455152  1.535957   \n",
       "3582  0.000000  0.466660  ...  0.292915  1.407551  0.0  0.642827  0.804836   \n",
       "815   0.786299  0.000000  ...  0.517277  1.384040  0.0  0.635841  1.345383   \n",
       "5263  1.437313  0.000000  ...  0.740289  1.252798  0.0  0.707697  1.452322   \n",
       "\n",
       "           125       126       127  Cosine Similarity  Cosine Distance  \n",
       "43    0.442037  1.087540  0.393826           1.000000     1.192093e-07  \n",
       "7344  0.267458  1.055493  0.482001           0.984810     1.519001e-02  \n",
       "3197  0.578763  1.001345  0.584512           0.982123     1.787651e-02  \n",
       "2939  0.272281  1.143840  0.549899           0.981814     1.818562e-02  \n",
       "3716  0.685025  0.911246  0.615431           0.981762     1.823848e-02  \n",
       "...        ...       ...       ...                ...              ...  \n",
       "4453  0.264689  0.300975  0.372843           0.825232     1.747676e-01  \n",
       "1833  0.658124  0.732671  0.438928           0.825102     1.748976e-01  \n",
       "3582  0.603351  0.577652  0.652613           0.824096     1.759043e-01  \n",
       "815   0.904356  0.677899  0.467852           0.821817     1.781827e-01  \n",
       "5263  0.508375  0.838152  0.473082           0.798508     2.014924e-01  \n",
       "\n",
       "[10000 rows x 132 columns]"
      ]
     },
     "execution_count": 28,
     "metadata": {},
     "output_type": "execute_result"
    }
   ],
   "source": [
    "final_encoded_test_data_df.sort_values(by = ['Cosine Similarity'], ascending = False)"
   ]
  },
  {
   "cell_type": "code",
   "execution_count": 29,
   "metadata": {},
   "outputs": [],
   "source": [
    "cosine_index = final_encoded_test_data_df.sort_values(by = ['Cosine Similarity'], ascending = False).head(10).index"
   ]
  },
  {
   "cell_type": "code",
   "execution_count": 30,
   "metadata": {
    "scrolled": true
   },
   "outputs": [
    {
     "data": {
      "image/png": "[encoded data removed]",
      "text/plain": [
       "<Figure size 144x144 with 1 Axes>"
      ]
     },
     "metadata": {
      "needs_background": "light"
     },
     "output_type": "display_data"
    },
    {
     "data": {
      "image/png": "[encoded data removed]",
      "text/plain": [
       "<Figure size 144x144 with 1 Axes>"
      ]
     },
     "metadata": {
      "needs_background": "light"
     },
     "output_type": "display_data"
    },
    {
     "data": {
      "image/png": "[encoded data removed]",
      "text/plain": [
       "<Figure size 144x144 with 1 Axes>"
      ]
     },
     "metadata": {
      "needs_background": "light"
     },
     "output_type": "display_data"
    },
    {
     "data": {
      "image/png": "[encoded data removed]",
      "text/plain": [
       "<Figure size 144x144 with 1 Axes>"
      ]
     },
     "metadata": {
      "needs_background": "light"
     },
     "output_type": "display_data"
    },
    {
     "data": {
      "image/png": "[encoded data removed]",
      "text/plain": [
       "<Figure size 144x144 with 1 Axes>"
      ]
     },
     "metadata": {
      "needs_background": "light"
     },
     "output_type": "display_data"
    },
    {
     "data": {
      "image/png": "[encoded data removed]",
      "text/plain": [
       "<Figure size 144x144 with 1 Axes>"
      ]
     },
     "metadata": {
      "needs_background": "light"
     },
     "output_type": "display_data"
    },
    {
     "data": {
      "image/png": "[encoded data removed]",
      "text/plain": [
       "<Figure size 144x144 with 1 Axes>"
      ]
     },
     "metadata": {
      "needs_background": "light"
     },
     "output_type": "display_data"
    },
    {
     "data": {
      "image/png": "[encoded data removed]",
      "text/plain": [
       "<Figure size 144x144 with 1 Axes>"
      ]
     },
     "metadata": {
      "needs_background": "light"
     },
     "output_type": "display_data"
    },
    {
     "data": {
      "image/png": "[encoded data removed]",
      "text/plain": [
       "<Figure size 144x144 with 1 Axes>"
      ]
     },
     "metadata": {
      "needs_background": "light"
     },
     "output_type": "display_data"
    },
    {
     "data": {
      "image/png": "[encoded data removed]",
      "text/plain": [
       "<Figure size 144x144 with 1 Axes>"
      ]
     },
     "metadata": {
      "needs_background": "light"
     },
     "output_type": "display_data"
    }
   ],
   "source": [
    "for i in cosine_index:\n",
    "    plt.figure(figsize = (2, 2))\n",
    "    plt.imshow(x_test[i].reshape(32, 32, 3))\n",
    "    plt.xlabel(final_encoded_test_data_df['Class Name'][i] + ' with a Cosine Similarity of ' + str(final_encoded_test_data_df['Cosine Similarity'][i]) + ' from the queried image.')\n",
    "    plt.show()"
   ]
  },
  {
   "cell_type": "code",
   "execution_count": 31,
   "metadata": {},
   "outputs": [
    {
     "name": "stdout",
     "output_type": "stream",
     "text": [
      "10000\n"
     ]
    }
   ],
   "source": [
    "euclidean_distance = []\n",
    "\n",
    "for i in range(len(x_test)):\n",
    "    a = final_encoded_test_data_df.loc[final_encoded_test_data_df['Class Name'] == input_val].iloc[int(input_num), 2:]\n",
    "    b = final_encoded_test_data_df.iloc[i, 2:]\n",
    "    euc_dist = np.linalg.norm(a-b)\n",
    "    euclidean_distance.append(euc_dist)\n",
    "print(len(euclidean_distance))"
   ]
  },
  {
   "cell_type": "code",
   "execution_count": 32,
   "metadata": {},
   "outputs": [
    {
     "data": {
      "text/html": [
       "<div>\n",
       "<style scoped>\n",
       "    .dataframe tbody tr th:only-of-type {\n",
       "        vertical-align: middle;\n",
       "    }\n",
       "\n",
       "    .dataframe tbody tr th {\n",
       "        vertical-align: top;\n",
       "    }\n",
       "\n",
       "    .dataframe thead th {\n",
       "        text-align: right;\n",
       "    }\n",
       "</style>\n",
       "<table border=\"1\" class=\"dataframe\">\n",
       "  <thead>\n",
       "    <tr style=\"text-align: right;\">\n",
       "      <th></th>\n",
       "      <th>Class</th>\n",
       "      <th>Class Name</th>\n",
       "      <th>0</th>\n",
       "      <th>1</th>\n",
       "      <th>2</th>\n",
       "      <th>3</th>\n",
       "      <th>4</th>\n",
       "      <th>5</th>\n",
       "      <th>6</th>\n",
       "      <th>7</th>\n",
       "      <th>...</th>\n",
       "      <th>121</th>\n",
       "      <th>122</th>\n",
       "      <th>123</th>\n",
       "      <th>124</th>\n",
       "      <th>125</th>\n",
       "      <th>126</th>\n",
       "      <th>127</th>\n",
       "      <th>Cosine Similarity</th>\n",
       "      <th>Cosine Distance</th>\n",
       "      <th>Euclidean Distance</th>\n",
       "    </tr>\n",
       "  </thead>\n",
       "  <tbody>\n",
       "    <tr>\n",
       "      <th>43</th>\n",
       "      <td>6</td>\n",
       "      <td>frog</td>\n",
       "      <td>0.314353</td>\n",
       "      <td>0.0</td>\n",
       "      <td>0.0</td>\n",
       "      <td>0.738291</td>\n",
       "      <td>1.091396</td>\n",
       "      <td>0.206023</td>\n",
       "      <td>0.308092</td>\n",
       "      <td>0.000000</td>\n",
       "      <td>...</td>\n",
       "      <td>0.648587</td>\n",
       "      <td>0.0</td>\n",
       "      <td>0.740500</td>\n",
       "      <td>1.422547</td>\n",
       "      <td>0.442037</td>\n",
       "      <td>1.087540</td>\n",
       "      <td>0.393826</td>\n",
       "      <td>1.000000</td>\n",
       "      <td>1.192093e-07</td>\n",
       "      <td>0.000000</td>\n",
       "    </tr>\n",
       "    <tr>\n",
       "      <th>7344</th>\n",
       "      <td>4</td>\n",
       "      <td>deer</td>\n",
       "      <td>0.098178</td>\n",
       "      <td>0.0</td>\n",
       "      <td>0.0</td>\n",
       "      <td>0.417737</td>\n",
       "      <td>1.162022</td>\n",
       "      <td>0.469572</td>\n",
       "      <td>0.282775</td>\n",
       "      <td>0.025943</td>\n",
       "      <td>...</td>\n",
       "      <td>0.588978</td>\n",
       "      <td>0.0</td>\n",
       "      <td>0.612704</td>\n",
       "      <td>1.622961</td>\n",
       "      <td>0.267458</td>\n",
       "      <td>1.055493</td>\n",
       "      <td>0.482001</td>\n",
       "      <td>0.984810</td>\n",
       "      <td>1.519001e-02</td>\n",
       "      <td>1.543140</td>\n",
       "    </tr>\n",
       "    <tr>\n",
       "      <th>3197</th>\n",
       "      <td>6</td>\n",
       "      <td>frog</td>\n",
       "      <td>0.098742</td>\n",
       "      <td>0.0</td>\n",
       "      <td>0.0</td>\n",
       "      <td>0.703847</td>\n",
       "      <td>1.049663</td>\n",
       "      <td>0.443728</td>\n",
       "      <td>0.467981</td>\n",
       "      <td>0.099789</td>\n",
       "      <td>...</td>\n",
       "      <td>0.600092</td>\n",
       "      <td>0.0</td>\n",
       "      <td>0.673921</td>\n",
       "      <td>1.524587</td>\n",
       "      <td>0.578763</td>\n",
       "      <td>1.001345</td>\n",
       "      <td>0.584512</td>\n",
       "      <td>0.982123</td>\n",
       "      <td>1.787651e-02</td>\n",
       "      <td>1.596898</td>\n",
       "    </tr>\n",
       "    <tr>\n",
       "      <th>2939</th>\n",
       "      <td>2</td>\n",
       "      <td>bird</td>\n",
       "      <td>0.166797</td>\n",
       "      <td>0.0</td>\n",
       "      <td>0.0</td>\n",
       "      <td>0.592089</td>\n",
       "      <td>1.082988</td>\n",
       "      <td>0.404687</td>\n",
       "      <td>0.413903</td>\n",
       "      <td>0.115411</td>\n",
       "      <td>...</td>\n",
       "      <td>0.550584</td>\n",
       "      <td>0.0</td>\n",
       "      <td>0.622285</td>\n",
       "      <td>1.829166</td>\n",
       "      <td>0.272281</td>\n",
       "      <td>1.143840</td>\n",
       "      <td>0.549899</td>\n",
       "      <td>0.981814</td>\n",
       "      <td>1.818562e-02</td>\n",
       "      <td>1.601188</td>\n",
       "    </tr>\n",
       "    <tr>\n",
       "      <th>3716</th>\n",
       "      <td>3</td>\n",
       "      <td>cat</td>\n",
       "      <td>0.367276</td>\n",
       "      <td>0.0</td>\n",
       "      <td>0.0</td>\n",
       "      <td>0.604415</td>\n",
       "      <td>0.994751</td>\n",
       "      <td>0.089203</td>\n",
       "      <td>0.305825</td>\n",
       "      <td>0.170338</td>\n",
       "      <td>...</td>\n",
       "      <td>0.860618</td>\n",
       "      <td>0.0</td>\n",
       "      <td>0.657519</td>\n",
       "      <td>1.452356</td>\n",
       "      <td>0.685025</td>\n",
       "      <td>0.911246</td>\n",
       "      <td>0.615431</td>\n",
       "      <td>0.981762</td>\n",
       "      <td>1.823848e-02</td>\n",
       "      <td>1.603100</td>\n",
       "    </tr>\n",
       "    <tr>\n",
       "      <th>...</th>\n",
       "      <td>...</td>\n",
       "      <td>...</td>\n",
       "      <td>...</td>\n",
       "      <td>...</td>\n",
       "      <td>...</td>\n",
       "      <td>...</td>\n",
       "      <td>...</td>\n",
       "      <td>...</td>\n",
       "      <td>...</td>\n",
       "      <td>...</td>\n",
       "      <td>...</td>\n",
       "      <td>...</td>\n",
       "      <td>...</td>\n",
       "      <td>...</td>\n",
       "      <td>...</td>\n",
       "      <td>...</td>\n",
       "      <td>...</td>\n",
       "      <td>...</td>\n",
       "      <td>...</td>\n",
       "      <td>...</td>\n",
       "      <td>...</td>\n",
       "    </tr>\n",
       "    <tr>\n",
       "      <th>4753</th>\n",
       "      <td>2</td>\n",
       "      <td>bird</td>\n",
       "      <td>0.388729</td>\n",
       "      <td>0.0</td>\n",
       "      <td>0.0</td>\n",
       "      <td>0.125407</td>\n",
       "      <td>3.429570</td>\n",
       "      <td>0.021801</td>\n",
       "      <td>1.450765</td>\n",
       "      <td>0.000000</td>\n",
       "      <td>...</td>\n",
       "      <td>1.238871</td>\n",
       "      <td>0.0</td>\n",
       "      <td>0.619532</td>\n",
       "      <td>1.652882</td>\n",
       "      <td>0.202024</td>\n",
       "      <td>0.953815</td>\n",
       "      <td>0.952646</td>\n",
       "      <td>0.868403</td>\n",
       "      <td>1.315970e-01</td>\n",
       "      <td>7.214783</td>\n",
       "    </tr>\n",
       "    <tr>\n",
       "      <th>1078</th>\n",
       "      <td>0</td>\n",
       "      <td>airplane</td>\n",
       "      <td>0.391162</td>\n",
       "      <td>0.0</td>\n",
       "      <td>0.0</td>\n",
       "      <td>0.120136</td>\n",
       "      <td>3.432703</td>\n",
       "      <td>0.003944</td>\n",
       "      <td>1.460726</td>\n",
       "      <td>0.000000</td>\n",
       "      <td>...</td>\n",
       "      <td>0.000000</td>\n",
       "      <td>0.0</td>\n",
       "      <td>0.345289</td>\n",
       "      <td>2.616128</td>\n",
       "      <td>0.339350</td>\n",
       "      <td>1.610521</td>\n",
       "      <td>0.000000</td>\n",
       "      <td>0.853330</td>\n",
       "      <td>1.466701e-01</td>\n",
       "      <td>7.249863</td>\n",
       "    </tr>\n",
       "    <tr>\n",
       "      <th>5263</th>\n",
       "      <td>8</td>\n",
       "      <td>ship</td>\n",
       "      <td>0.389533</td>\n",
       "      <td>0.0</td>\n",
       "      <td>0.0</td>\n",
       "      <td>0.122165</td>\n",
       "      <td>3.407760</td>\n",
       "      <td>0.018461</td>\n",
       "      <td>1.437313</td>\n",
       "      <td>0.000000</td>\n",
       "      <td>...</td>\n",
       "      <td>1.252798</td>\n",
       "      <td>0.0</td>\n",
       "      <td>0.707697</td>\n",
       "      <td>1.452322</td>\n",
       "      <td>0.508375</td>\n",
       "      <td>0.838152</td>\n",
       "      <td>0.473082</td>\n",
       "      <td>0.798508</td>\n",
       "      <td>2.014924e-01</td>\n",
       "      <td>7.271650</td>\n",
       "    </tr>\n",
       "    <tr>\n",
       "      <th>3444</th>\n",
       "      <td>0</td>\n",
       "      <td>airplane</td>\n",
       "      <td>0.408306</td>\n",
       "      <td>0.0</td>\n",
       "      <td>0.0</td>\n",
       "      <td>0.139348</td>\n",
       "      <td>3.407924</td>\n",
       "      <td>0.000000</td>\n",
       "      <td>1.441578</td>\n",
       "      <td>0.000000</td>\n",
       "      <td>...</td>\n",
       "      <td>0.000000</td>\n",
       "      <td>0.0</td>\n",
       "      <td>0.316725</td>\n",
       "      <td>2.309541</td>\n",
       "      <td>0.000000</td>\n",
       "      <td>1.501013</td>\n",
       "      <td>0.000000</td>\n",
       "      <td>0.835922</td>\n",
       "      <td>1.640783e-01</td>\n",
       "      <td>7.353969</td>\n",
       "    </tr>\n",
       "    <tr>\n",
       "      <th>7835</th>\n",
       "      <td>0</td>\n",
       "      <td>airplane</td>\n",
       "      <td>0.391149</td>\n",
       "      <td>0.0</td>\n",
       "      <td>0.0</td>\n",
       "      <td>0.119997</td>\n",
       "      <td>3.432521</td>\n",
       "      <td>0.003577</td>\n",
       "      <td>1.460725</td>\n",
       "      <td>0.000000</td>\n",
       "      <td>...</td>\n",
       "      <td>0.055355</td>\n",
       "      <td>0.0</td>\n",
       "      <td>0.311916</td>\n",
       "      <td>2.860095</td>\n",
       "      <td>0.832389</td>\n",
       "      <td>2.023399</td>\n",
       "      <td>0.000000</td>\n",
       "      <td>0.885199</td>\n",
       "      <td>1.148010e-01</td>\n",
       "      <td>7.672568</td>\n",
       "    </tr>\n",
       "  </tbody>\n",
       "</table>\n",
       "<p>10000 rows × 133 columns</p>\n",
       "</div>"
      ],
      "text/plain": [
       "      Class Class Name         0    1    2         3         4         5  \\\n",
       "43        6       frog  0.314353  0.0  0.0  0.738291  1.091396  0.206023   \n",
       "7344      4       deer  0.098178  0.0  0.0  0.417737  1.162022  0.469572   \n",
       "3197      6       frog  0.098742  0.0  0.0  0.703847  1.049663  0.443728   \n",
       "2939      2       bird  0.166797  0.0  0.0  0.592089  1.082988  0.404687   \n",
       "3716      3        cat  0.367276  0.0  0.0  0.604415  0.994751  0.089203   \n",
       "...     ...        ...       ...  ...  ...       ...       ...       ...   \n",
       "4753      2       bird  0.388729  0.0  0.0  0.125407  3.429570  0.021801   \n",
       "1078      0   airplane  0.391162  0.0  0.0  0.120136  3.432703  0.003944   \n",
       "5263      8       ship  0.389533  0.0  0.0  0.122165  3.407760  0.018461   \n",
       "3444      0   airplane  0.408306  0.0  0.0  0.139348  3.407924  0.000000   \n",
       "7835      0   airplane  0.391149  0.0  0.0  0.119997  3.432521  0.003577   \n",
       "\n",
       "             6         7  ...       121  122       123       124       125  \\\n",
       "43    0.308092  0.000000  ...  0.648587  0.0  0.740500  1.422547  0.442037   \n",
       "7344  0.282775  0.025943  ...  0.588978  0.0  0.612704  1.622961  0.267458   \n",
       "3197  0.467981  0.099789  ...  0.600092  0.0  0.673921  1.524587  0.578763   \n",
       "2939  0.413903  0.115411  ...  0.550584  0.0  0.622285  1.829166  0.272281   \n",
       "3716  0.305825  0.170338  ...  0.860618  0.0  0.657519  1.452356  0.685025   \n",
       "...        ...       ...  ...       ...  ...       ...       ...       ...   \n",
       "4753  1.450765  0.000000  ...  1.238871  0.0  0.619532  1.652882  0.202024   \n",
       "1078  1.460726  0.000000  ...  0.000000  0.0  0.345289  2.616128  0.339350   \n",
       "5263  1.437313  0.000000  ...  1.252798  0.0  0.707697  1.452322  0.508375   \n",
       "3444  1.441578  0.000000  ...  0.000000  0.0  0.316725  2.309541  0.000000   \n",
       "7835  1.460725  0.000000  ...  0.055355  0.0  0.311916  2.860095  0.832389   \n",
       "\n",
       "           126       127  Cosine Similarity  Cosine Distance  \\\n",
       "43    1.087540  0.393826           1.000000     1.192093e-07   \n",
       "7344  1.055493  0.482001           0.984810     1.519001e-02   \n",
       "3197  1.001345  0.584512           0.982123     1.787651e-02   \n",
       "2939  1.143840  0.549899           0.981814     1.818562e-02   \n",
       "3716  0.911246  0.615431           0.981762     1.823848e-02   \n",
       "...        ...       ...                ...              ...   \n",
       "4753  0.953815  0.952646           0.868403     1.315970e-01   \n",
       "1078  1.610521  0.000000           0.853330     1.466701e-01   \n",
       "5263  0.838152  0.473082           0.798508     2.014924e-01   \n",
       "3444  1.501013  0.000000           0.835922     1.640783e-01   \n",
       "7835  2.023399  0.000000           0.885199     1.148010e-01   \n",
       "\n",
       "      Euclidean Distance  \n",
       "43              0.000000  \n",
       "7344            1.543140  \n",
       "3197            1.596898  \n",
       "2939            1.601188  \n",
       "3716            1.603100  \n",
       "...                  ...  \n",
       "4753            7.214783  \n",
       "1078            7.249863  \n",
       "5263            7.271650  \n",
       "3444            7.353969  \n",
       "7835            7.672568  \n",
       "\n",
       "[10000 rows x 133 columns]"
      ]
     },
     "execution_count": 32,
     "metadata": {},
     "output_type": "execute_result"
    }
   ],
   "source": [
    "final_encoded_test_data_df['Euclidean Distance'] = euclidean_distance\n",
    "final_encoded_test_data_df.sort_values(by = ['Euclidean Distance'])"
   ]
  },
  {
   "cell_type": "code",
   "execution_count": 33,
   "metadata": {
    "scrolled": true
   },
   "outputs": [
    {
     "data": {
      "image/png": "[encoded data removed]",
      "text/plain": [
       "<Figure size 144x144 with 1 Axes>"
      ]
     },
     "metadata": {
      "needs_background": "light"
     },
     "output_type": "display_data"
    },
    {
     "data": {
      "image/png": "[encoded data removed]",
      "text/plain": [
       "<Figure size 144x144 with 1 Axes>"
      ]
     },
     "metadata": {
      "needs_background": "light"
     },
     "output_type": "display_data"
    },
    {
     "data": {
      "image/png": "[encoded data removed]",
      "text/plain": [
       "<Figure size 144x144 with 1 Axes>"
      ]
     },
     "metadata": {
      "needs_background": "light"
     },
     "output_type": "display_data"
    },
    {
     "data": {
      "image/png": "[encoded data removed]",
      "text/plain": [
       "<Figure size 144x144 with 1 Axes>"
      ]
     },
     "metadata": {
      "needs_background": "light"
     },
     "output_type": "display_data"
    },
    {
     "data": {
      "image/png": "[encoded data removed]",
      "text/plain": [
       "<Figure size 144x144 with 1 Axes>"
      ]
     },
     "metadata": {
      "needs_background": "light"
     },
     "output_type": "display_data"
    },
    {
     "data": {
      "image/png": "[encoded data removed]",
      "text/plain": [
       "<Figure size 144x144 with 1 Axes>"
      ]
     },
     "metadata": {
      "needs_background": "light"
     },
     "output_type": "display_data"
    },
    {
     "data": {
      "image/png": "[encoded data removed]",
      "text/plain": [
       "<Figure size 144x144 with 1 Axes>"
      ]
     },
     "metadata": {
      "needs_background": "light"
     },
     "output_type": "display_data"
    },
    {
     "data": {
      "image/png": "[encoded data removed]",
      "text/plain": [
       "<Figure size 144x144 with 1 Axes>"
      ]
     },
     "metadata": {
      "needs_background": "light"
     },
     "output_type": "display_data"
    },
    {
     "data": {
      "image/png": "[encoded data removed]",
      "text/plain": [
       "<Figure size 144x144 with 1 Axes>"
      ]
     },
     "metadata": {
      "needs_background": "light"
     },
     "output_type": "display_data"
    },
    {
     "data": {
      "image/png": "[encoded data removed]",
      "text/plain": [
       "<Figure size 144x144 with 1 Axes>"
      ]
     },
     "metadata": {
      "needs_background": "light"
     },
     "output_type": "display_data"
    }
   ],
   "source": [
    "euclidean_index = final_encoded_test_data_df.sort_values(by = ['Euclidean Distance']).head(10).index\n",
    "\n",
    "for i in euclidean_index:\n",
    "    plt.figure(figsize = (2, 2))\n",
    "    plt.imshow(x_test[i].reshape(32, 32, 3))\n",
    "    plt.xlabel(final_encoded_test_data_df['Class Name'][i] + ' with an Euclidean Distance of ' + str(final_encoded_test_data_df['Euclidean Distance'][i]) + ' from the queried image.')\n",
    "    plt.show()"
   ]
  },
  {
   "cell_type": "code",
   "execution_count": null,
   "metadata": {},
   "outputs": [],
   "source": []
  }
 ],
 "metadata": {
  "kernelspec": {
   "display_name": "Python 3",
   "language": "python",
   "name": "python3"
  },
  "language_info": {
   "codemirror_mode": {
    "name": "ipython",
    "version": 3
   },
   "file_extension": ".py",
   "mimetype": "text/x-python",
   "name": "python",
   "nbconvert_exporter": "python",
   "pygments_lexer": "ipython3",
   "version": "3.6.9"
  }
 },
 "nbformat": 4,
 "nbformat_minor": 2
}
