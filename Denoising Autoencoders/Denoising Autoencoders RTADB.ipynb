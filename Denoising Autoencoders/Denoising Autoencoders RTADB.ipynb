{
 "cells": [
  {
   "cell_type": "code",
   "execution_count": 2,
   "metadata": {},
   "outputs": [],
   "source": [
    "from keras.layers import Input, Dense\n",
    "from keras.models import Model\n",
    "\n",
    "import numpy as np\n",
    "import pandas as pd\n",
    "import matplotlib.pyplot as plt\n",
    "%matplotlib inline"
   ]
  },
  {
   "cell_type": "code",
   "execution_count": 3,
   "metadata": {},
   "outputs": [
    {
     "name": "stdout",
     "output_type": "stream",
     "text": [
      "(50000, 3074)\n",
      "(10000, 3074)\n"
     ]
    }
   ],
   "source": [
    "datadir = '/Users/sidv88/Documents/Data_Management_2/Data/'\n",
    "train_data = pd.read_csv(datadir + 'train_rgb.csv')\n",
    "test_data = pd.read_csv(datadir + 'test_rgb.csv')\n",
    "print(train_data.shape)\n",
    "print(test_data.shape)"
   ]
  },
  {
   "cell_type": "code",
   "execution_count": 4,
   "metadata": {},
   "outputs": [
    {
     "data": {
      "text/html": [
       "<div>\n",
       "<style scoped>\n",
       "    .dataframe tbody tr th:only-of-type {\n",
       "        vertical-align: middle;\n",
       "    }\n",
       "\n",
       "    .dataframe tbody tr th {\n",
       "        vertical-align: top;\n",
       "    }\n",
       "\n",
       "    .dataframe thead th {\n",
       "        text-align: right;\n",
       "    }\n",
       "</style>\n",
       "<table border=\"1\" class=\"dataframe\">\n",
       "  <thead>\n",
       "    <tr style=\"text-align: right;\">\n",
       "      <th></th>\n",
       "      <th>Class</th>\n",
       "      <th>Class Name</th>\n",
       "      <th>0</th>\n",
       "      <th>1</th>\n",
       "      <th>2</th>\n",
       "      <th>3</th>\n",
       "      <th>4</th>\n",
       "      <th>5</th>\n",
       "      <th>6</th>\n",
       "      <th>7</th>\n",
       "      <th>...</th>\n",
       "      <th>3062</th>\n",
       "      <th>3063</th>\n",
       "      <th>3064</th>\n",
       "      <th>3065</th>\n",
       "      <th>3066</th>\n",
       "      <th>3067</th>\n",
       "      <th>3068</th>\n",
       "      <th>3069</th>\n",
       "      <th>3070</th>\n",
       "      <th>3071</th>\n",
       "    </tr>\n",
       "  </thead>\n",
       "  <tbody>\n",
       "    <tr>\n",
       "      <th>0</th>\n",
       "      <td>6</td>\n",
       "      <td>frog</td>\n",
       "      <td>59</td>\n",
       "      <td>62</td>\n",
       "      <td>63</td>\n",
       "      <td>43</td>\n",
       "      <td>46</td>\n",
       "      <td>45</td>\n",
       "      <td>50</td>\n",
       "      <td>48</td>\n",
       "      <td>...</td>\n",
       "      <td>104</td>\n",
       "      <td>216</td>\n",
       "      <td>184</td>\n",
       "      <td>140</td>\n",
       "      <td>151</td>\n",
       "      <td>118</td>\n",
       "      <td>84</td>\n",
       "      <td>123</td>\n",
       "      <td>92</td>\n",
       "      <td>72</td>\n",
       "    </tr>\n",
       "    <tr>\n",
       "      <th>1</th>\n",
       "      <td>9</td>\n",
       "      <td>truck</td>\n",
       "      <td>154</td>\n",
       "      <td>177</td>\n",
       "      <td>187</td>\n",
       "      <td>126</td>\n",
       "      <td>137</td>\n",
       "      <td>136</td>\n",
       "      <td>105</td>\n",
       "      <td>104</td>\n",
       "      <td>...</td>\n",
       "      <td>136</td>\n",
       "      <td>143</td>\n",
       "      <td>133</td>\n",
       "      <td>139</td>\n",
       "      <td>143</td>\n",
       "      <td>134</td>\n",
       "      <td>142</td>\n",
       "      <td>143</td>\n",
       "      <td>133</td>\n",
       "      <td>144</td>\n",
       "    </tr>\n",
       "    <tr>\n",
       "      <th>2</th>\n",
       "      <td>9</td>\n",
       "      <td>truck</td>\n",
       "      <td>255</td>\n",
       "      <td>255</td>\n",
       "      <td>255</td>\n",
       "      <td>253</td>\n",
       "      <td>253</td>\n",
       "      <td>253</td>\n",
       "      <td>253</td>\n",
       "      <td>253</td>\n",
       "      <td>...</td>\n",
       "      <td>79</td>\n",
       "      <td>78</td>\n",
       "      <td>85</td>\n",
       "      <td>83</td>\n",
       "      <td>79</td>\n",
       "      <td>85</td>\n",
       "      <td>83</td>\n",
       "      <td>80</td>\n",
       "      <td>86</td>\n",
       "      <td>84</td>\n",
       "    </tr>\n",
       "    <tr>\n",
       "      <th>3</th>\n",
       "      <td>4</td>\n",
       "      <td>deer</td>\n",
       "      <td>28</td>\n",
       "      <td>25</td>\n",
       "      <td>10</td>\n",
       "      <td>37</td>\n",
       "      <td>34</td>\n",
       "      <td>19</td>\n",
       "      <td>38</td>\n",
       "      <td>35</td>\n",
       "      <td>...</td>\n",
       "      <td>38</td>\n",
       "      <td>54</td>\n",
       "      <td>47</td>\n",
       "      <td>28</td>\n",
       "      <td>63</td>\n",
       "      <td>56</td>\n",
       "      <td>37</td>\n",
       "      <td>72</td>\n",
       "      <td>65</td>\n",
       "      <td>46</td>\n",
       "    </tr>\n",
       "    <tr>\n",
       "      <th>4</th>\n",
       "      <td>1</td>\n",
       "      <td>automobile</td>\n",
       "      <td>170</td>\n",
       "      <td>180</td>\n",
       "      <td>198</td>\n",
       "      <td>168</td>\n",
       "      <td>178</td>\n",
       "      <td>196</td>\n",
       "      <td>177</td>\n",
       "      <td>185</td>\n",
       "      <td>...</td>\n",
       "      <td>78</td>\n",
       "      <td>75</td>\n",
       "      <td>79</td>\n",
       "      <td>82</td>\n",
       "      <td>71</td>\n",
       "      <td>75</td>\n",
       "      <td>78</td>\n",
       "      <td>73</td>\n",
       "      <td>77</td>\n",
       "      <td>80</td>\n",
       "    </tr>\n",
       "  </tbody>\n",
       "</table>\n",
       "<p>5 rows × 3074 columns</p>\n",
       "</div>"
      ],
      "text/plain": [
       "   Class  Class Name    0    1    2    3    4    5    6    7  ...  3062  3063  \\\n",
       "0      6        frog   59   62   63   43   46   45   50   48  ...   104   216   \n",
       "1      9       truck  154  177  187  126  137  136  105  104  ...   136   143   \n",
       "2      9       truck  255  255  255  253  253  253  253  253  ...    79    78   \n",
       "3      4        deer   28   25   10   37   34   19   38   35  ...    38    54   \n",
       "4      1  automobile  170  180  198  168  178  196  177  185  ...    78    75   \n",
       "\n",
       "   3064  3065  3066  3067  3068  3069  3070  3071  \n",
       "0   184   140   151   118    84   123    92    72  \n",
       "1   133   139   143   134   142   143   133   144  \n",
       "2    85    83    79    85    83    80    86    84  \n",
       "3    47    28    63    56    37    72    65    46  \n",
       "4    79    82    71    75    78    73    77    80  \n",
       "\n",
       "[5 rows x 3074 columns]"
      ]
     },
     "execution_count": 4,
     "metadata": {},
     "output_type": "execute_result"
    }
   ],
   "source": [
    "train_data.head()"
   ]
  },
  {
   "cell_type": "code",
   "execution_count": 5,
   "metadata": {},
   "outputs": [
    {
     "data": {
      "text/html": [
       "<div>\n",
       "<style scoped>\n",
       "    .dataframe tbody tr th:only-of-type {\n",
       "        vertical-align: middle;\n",
       "    }\n",
       "\n",
       "    .dataframe tbody tr th {\n",
       "        vertical-align: top;\n",
       "    }\n",
       "\n",
       "    .dataframe thead th {\n",
       "        text-align: right;\n",
       "    }\n",
       "</style>\n",
       "<table border=\"1\" class=\"dataframe\">\n",
       "  <thead>\n",
       "    <tr style=\"text-align: right;\">\n",
       "      <th></th>\n",
       "      <th>Class</th>\n",
       "      <th>Class Name</th>\n",
       "      <th>0</th>\n",
       "      <th>1</th>\n",
       "      <th>2</th>\n",
       "      <th>3</th>\n",
       "      <th>4</th>\n",
       "      <th>5</th>\n",
       "      <th>6</th>\n",
       "      <th>7</th>\n",
       "      <th>...</th>\n",
       "      <th>3062</th>\n",
       "      <th>3063</th>\n",
       "      <th>3064</th>\n",
       "      <th>3065</th>\n",
       "      <th>3066</th>\n",
       "      <th>3067</th>\n",
       "      <th>3068</th>\n",
       "      <th>3069</th>\n",
       "      <th>3070</th>\n",
       "      <th>3071</th>\n",
       "    </tr>\n",
       "  </thead>\n",
       "  <tbody>\n",
       "    <tr>\n",
       "      <th>0</th>\n",
       "      <td>3</td>\n",
       "      <td>cat</td>\n",
       "      <td>158</td>\n",
       "      <td>112</td>\n",
       "      <td>49</td>\n",
       "      <td>159</td>\n",
       "      <td>111</td>\n",
       "      <td>47</td>\n",
       "      <td>165</td>\n",
       "      <td>116</td>\n",
       "      <td>...</td>\n",
       "      <td>145</td>\n",
       "      <td>24</td>\n",
       "      <td>77</td>\n",
       "      <td>124</td>\n",
       "      <td>34</td>\n",
       "      <td>84</td>\n",
       "      <td>129</td>\n",
       "      <td>21</td>\n",
       "      <td>67</td>\n",
       "      <td>110</td>\n",
       "    </tr>\n",
       "    <tr>\n",
       "      <th>1</th>\n",
       "      <td>8</td>\n",
       "      <td>ship</td>\n",
       "      <td>235</td>\n",
       "      <td>235</td>\n",
       "      <td>235</td>\n",
       "      <td>231</td>\n",
       "      <td>231</td>\n",
       "      <td>231</td>\n",
       "      <td>232</td>\n",
       "      <td>232</td>\n",
       "      <td>...</td>\n",
       "      <td>163</td>\n",
       "      <td>168</td>\n",
       "      <td>183</td>\n",
       "      <td>178</td>\n",
       "      <td>180</td>\n",
       "      <td>195</td>\n",
       "      <td>191</td>\n",
       "      <td>186</td>\n",
       "      <td>200</td>\n",
       "      <td>199</td>\n",
       "    </tr>\n",
       "    <tr>\n",
       "      <th>2</th>\n",
       "      <td>8</td>\n",
       "      <td>ship</td>\n",
       "      <td>158</td>\n",
       "      <td>190</td>\n",
       "      <td>222</td>\n",
       "      <td>158</td>\n",
       "      <td>187</td>\n",
       "      <td>218</td>\n",
       "      <td>139</td>\n",
       "      <td>166</td>\n",
       "      <td>...</td>\n",
       "      <td>37</td>\n",
       "      <td>5</td>\n",
       "      <td>6</td>\n",
       "      <td>8</td>\n",
       "      <td>4</td>\n",
       "      <td>5</td>\n",
       "      <td>3</td>\n",
       "      <td>7</td>\n",
       "      <td>8</td>\n",
       "      <td>7</td>\n",
       "    </tr>\n",
       "    <tr>\n",
       "      <th>3</th>\n",
       "      <td>0</td>\n",
       "      <td>airplane</td>\n",
       "      <td>155</td>\n",
       "      <td>156</td>\n",
       "      <td>149</td>\n",
       "      <td>167</td>\n",
       "      <td>176</td>\n",
       "      <td>187</td>\n",
       "      <td>176</td>\n",
       "      <td>179</td>\n",
       "      <td>...</td>\n",
       "      <td>53</td>\n",
       "      <td>60</td>\n",
       "      <td>63</td>\n",
       "      <td>50</td>\n",
       "      <td>64</td>\n",
       "      <td>65</td>\n",
       "      <td>52</td>\n",
       "      <td>73</td>\n",
       "      <td>68</td>\n",
       "      <td>50</td>\n",
       "    </tr>\n",
       "    <tr>\n",
       "      <th>4</th>\n",
       "      <td>6</td>\n",
       "      <td>frog</td>\n",
       "      <td>65</td>\n",
       "      <td>68</td>\n",
       "      <td>50</td>\n",
       "      <td>70</td>\n",
       "      <td>81</td>\n",
       "      <td>64</td>\n",
       "      <td>48</td>\n",
       "      <td>64</td>\n",
       "      <td>...</td>\n",
       "      <td>147</td>\n",
       "      <td>143</td>\n",
       "      <td>179</td>\n",
       "      <td>136</td>\n",
       "      <td>154</td>\n",
       "      <td>185</td>\n",
       "      <td>146</td>\n",
       "      <td>128</td>\n",
       "      <td>156</td>\n",
       "      <td>117</td>\n",
       "    </tr>\n",
       "  </tbody>\n",
       "</table>\n",
       "<p>5 rows × 3074 columns</p>\n",
       "</div>"
      ],
      "text/plain": [
       "   Class Class Name    0    1    2    3    4    5    6    7  ...  3062  3063  \\\n",
       "0      3        cat  158  112   49  159  111   47  165  116  ...   145    24   \n",
       "1      8       ship  235  235  235  231  231  231  232  232  ...   163   168   \n",
       "2      8       ship  158  190  222  158  187  218  139  166  ...    37     5   \n",
       "3      0   airplane  155  156  149  167  176  187  176  179  ...    53    60   \n",
       "4      6       frog   65   68   50   70   81   64   48   64  ...   147   143   \n",
       "\n",
       "   3064  3065  3066  3067  3068  3069  3070  3071  \n",
       "0    77   124    34    84   129    21    67   110  \n",
       "1   183   178   180   195   191   186   200   199  \n",
       "2     6     8     4     5     3     7     8     7  \n",
       "3    63    50    64    65    52    73    68    50  \n",
       "4   179   136   154   185   146   128   156   117  \n",
       "\n",
       "[5 rows x 3074 columns]"
      ]
     },
     "execution_count": 5,
     "metadata": {},
     "output_type": "execute_result"
    }
   ],
   "source": [
    "test_data.head()"
   ]
  },
  {
   "cell_type": "code",
   "execution_count": 6,
   "metadata": {},
   "outputs": [
    {
     "name": "stdout",
     "output_type": "stream",
     "text": [
      "(50000, 3072)\n",
      "(50000, 2)\n"
     ]
    }
   ],
   "source": [
    "x_train = train_data.iloc[:, 2:]\n",
    "print(x_train.shape)\n",
    "y_train = train_data.iloc[:, [0, 1]]\n",
    "print(y_train.shape)"
   ]
  },
  {
   "cell_type": "code",
   "execution_count": 7,
   "metadata": {},
   "outputs": [
    {
     "name": "stdout",
     "output_type": "stream",
     "text": [
      "(10000, 3072)\n",
      "(10000, 2)\n"
     ]
    }
   ],
   "source": [
    "x_test = test_data.iloc[:, 2:]\n",
    "print(x_test.shape)\n",
    "y_test = test_data.iloc[:, [0, 1]]\n",
    "print(y_test.shape)"
   ]
  },
  {
   "cell_type": "code",
   "execution_count": 8,
   "metadata": {},
   "outputs": [],
   "source": [
    "x_train = np.array(x_train)\n",
    "x_test = np.array(x_test)"
   ]
  },
  {
   "cell_type": "code",
   "execution_count": 9,
   "metadata": {},
   "outputs": [
    {
     "name": "stdout",
     "output_type": "stream",
     "text": [
      "(50000, 3072)\n",
      "(10000, 3072)\n"
     ]
    }
   ],
   "source": [
    "print(x_train.shape)\n",
    "print(x_test.shape)"
   ]
  },
  {
   "cell_type": "code",
   "execution_count": 10,
   "metadata": {
    "scrolled": true
   },
   "outputs": [
    {
     "name": "stdout",
     "output_type": "stream",
     "text": [
      "(50000, 3072)\n",
      "(10000, 3072)\n"
     ]
    }
   ],
   "source": [
    "x_train = x_train.astype('float32')/255\n",
    "x_test = x_test.astype('float32')/255\n",
    "print(x_train.shape)\n",
    "print(x_test.shape)"
   ]
  },
  {
   "cell_type": "markdown",
   "metadata": {},
   "source": [
    "## Adding some noise"
   ]
  },
  {
   "cell_type": "code",
   "execution_count": 11,
   "metadata": {},
   "outputs": [
    {
     "name": "stdout",
     "output_type": "stream",
     "text": [
      "(50000, 3072)\n",
      "(10000, 3072)\n"
     ]
    }
   ],
   "source": [
    "x_train_noisy = x_train + np.random.normal(loc = 0.0, scale = 0.5, size = x_train.shape)\n",
    "x_train_noisy = np.clip(x_train_noisy, 0., 1.)\n",
    "\n",
    "x_test_noisy = x_test + np.random.normal(loc = 0.0, scale = 0.5, size = x_test.shape)\n",
    "x_test_noisy = np.clip(x_test_noisy, 0., 1.)\n",
    "\n",
    "print(x_train_noisy.shape)\n",
    "print(x_test_noisy.shape)"
   ]
  },
  {
   "cell_type": "code",
   "execution_count": 12,
   "metadata": {},
   "outputs": [],
   "source": [
    "input_img = Input(shape = (3072, ))\n",
    "encoded = Dense(units = 128, activation = 'relu')(input_img)\n",
    "encoded = Dense(units = 128, activation = 'relu')(encoded)\n",
    "encoded = Dense(units = 128, activation = 'relu')(encoded)\n",
    "encoded = Dense(units = 64, activation = 'relu')(encoded)\n",
    "encoded = Dense(units = 64, activation = 'relu')(encoded)\n",
    "encoded = Dense(units = 64, activation = 'relu')(encoded)\n",
    "encoded = Dense(units = 32, activation = 'relu')(encoded)\n",
    "decoded = Dense(units = 64, activation = 'relu')(encoded)\n",
    "decoded = Dense(units = 64, activation = 'relu')(decoded)\n",
    "decoded = Dense(units = 64, activation = 'relu')(decoded)\n",
    "decoded = Dense(units = 128, activation = 'relu')(decoded)\n",
    "decoded = Dense(units = 128, activation = 'relu')(decoded)\n",
    "decoded = Dense(units = 128, activation = 'relu')(decoded)\n",
    "decoded = Dense(units = 3072, activation = 'tanh')(decoded)"
   ]
  },
  {
   "cell_type": "code",
   "execution_count": 13,
   "metadata": {},
   "outputs": [],
   "source": [
    "autoencoder = Model(input_img, decoded)\n",
    "encoder = Model(input_img, encoded)"
   ]
  },
  {
   "cell_type": "code",
   "execution_count": 14,
   "metadata": {
    "scrolled": true
   },
   "outputs": [
    {
     "name": "stdout",
     "output_type": "stream",
     "text": [
      "Model: \"model_1\"\n",
      "_________________________________________________________________\n",
      "Layer (type)                 Output Shape              Param #   \n",
      "=================================================================\n",
      "input_1 (InputLayer)         (None, 3072)              0         \n",
      "_________________________________________________________________\n",
      "dense_1 (Dense)              (None, 128)               393344    \n",
      "_________________________________________________________________\n",
      "dense_2 (Dense)              (None, 128)               16512     \n",
      "_________________________________________________________________\n",
      "dense_3 (Dense)              (None, 128)               16512     \n",
      "_________________________________________________________________\n",
      "dense_4 (Dense)              (None, 64)                8256      \n",
      "_________________________________________________________________\n",
      "dense_5 (Dense)              (None, 64)                4160      \n",
      "_________________________________________________________________\n",
      "dense_6 (Dense)              (None, 64)                4160      \n",
      "_________________________________________________________________\n",
      "dense_7 (Dense)              (None, 32)                2080      \n",
      "_________________________________________________________________\n",
      "dense_8 (Dense)              (None, 64)                2112      \n",
      "_________________________________________________________________\n",
      "dense_9 (Dense)              (None, 64)                4160      \n",
      "_________________________________________________________________\n",
      "dense_10 (Dense)             (None, 64)                4160      \n",
      "_________________________________________________________________\n",
      "dense_11 (Dense)             (None, 128)               8320      \n",
      "_________________________________________________________________\n",
      "dense_12 (Dense)             (None, 128)               16512     \n",
      "_________________________________________________________________\n",
      "dense_13 (Dense)             (None, 128)               16512     \n",
      "_________________________________________________________________\n",
      "dense_14 (Dense)             (None, 3072)              396288    \n",
      "=================================================================\n",
      "Total params: 893,088\n",
      "Trainable params: 893,088\n",
      "Non-trainable params: 0\n",
      "_________________________________________________________________\n"
     ]
    }
   ],
   "source": [
    "autoencoder.summary()"
   ]
  },
  {
   "cell_type": "code",
   "execution_count": 15,
   "metadata": {
    "scrolled": true
   },
   "outputs": [
    {
     "name": "stdout",
     "output_type": "stream",
     "text": [
      "Model: \"model_2\"\n",
      "_________________________________________________________________\n",
      "Layer (type)                 Output Shape              Param #   \n",
      "=================================================================\n",
      "input_1 (InputLayer)         (None, 3072)              0         \n",
      "_________________________________________________________________\n",
      "dense_1 (Dense)              (None, 128)               393344    \n",
      "_________________________________________________________________\n",
      "dense_2 (Dense)              (None, 128)               16512     \n",
      "_________________________________________________________________\n",
      "dense_3 (Dense)              (None, 128)               16512     \n",
      "_________________________________________________________________\n",
      "dense_4 (Dense)              (None, 64)                8256      \n",
      "_________________________________________________________________\n",
      "dense_5 (Dense)              (None, 64)                4160      \n",
      "_________________________________________________________________\n",
      "dense_6 (Dense)              (None, 64)                4160      \n",
      "_________________________________________________________________\n",
      "dense_7 (Dense)              (None, 32)                2080      \n",
      "=================================================================\n",
      "Total params: 445,024\n",
      "Trainable params: 445,024\n",
      "Non-trainable params: 0\n",
      "_________________________________________________________________\n"
     ]
    }
   ],
   "source": [
    "encoder.summary()"
   ]
  },
  {
   "cell_type": "code",
   "execution_count": 16,
   "metadata": {
    "scrolled": true
   },
   "outputs": [
    {
     "name": "stdout",
     "output_type": "stream",
     "text": [
      "Train on 50000 samples, validate on 10000 samples\n",
      "Epoch 1/50\n",
      "50000/50000 [==============================] - 12s 232us/step - loss: 2.5865 - accuracy: 0.1965 - val_loss: 2.3096 - val_accuracy: 0.1946\n",
      "Epoch 2/50\n",
      "50000/50000 [==============================] - 13s 255us/step - loss: 2.2992 - accuracy: 0.1902 - val_loss: 2.3055 - val_accuracy: 0.1996\n",
      "Epoch 3/50\n",
      "50000/50000 [==============================] - 12s 231us/step - loss: 2.2454 - accuracy: 0.1978 - val_loss: 1.9986 - val_accuracy: 0.2166\n",
      "Epoch 4/50\n",
      "50000/50000 [==============================] - 13s 255us/step - loss: 1.9939 - accuracy: 0.2046 - val_loss: 2.0045 - val_accuracy: 0.2038\n",
      "Epoch 5/50\n",
      "50000/50000 [==============================] - 13s 255us/step - loss: 1.9960 - accuracy: 0.2017 - val_loss: 2.0032 - val_accuracy: 0.2060\n",
      "Epoch 6/50\n",
      "50000/50000 [==============================] - 12s 244us/step - loss: 1.9940 - accuracy: 0.2059 - val_loss: 2.0005 - val_accuracy: 0.2102\n",
      "Epoch 7/50\n",
      "50000/50000 [==============================] - 12s 232us/step - loss: 1.9931 - accuracy: 0.2083 - val_loss: 1.9982 - val_accuracy: 0.2147\n",
      "Epoch 8/50\n",
      "50000/50000 [==============================] - 12s 232us/step - loss: 1.9921 - accuracy: 0.2107 - val_loss: 1.9958 - val_accuracy: 0.2200\n",
      "Epoch 9/50\n",
      "50000/50000 [==============================] - 12s 232us/step - loss: 1.9917 - accuracy: 0.2120 - val_loss: 1.9988 - val_accuracy: 0.2141\n",
      "Epoch 10/50\n",
      "50000/50000 [==============================] - 12s 233us/step - loss: 1.9911 - accuracy: 0.2139 - val_loss: 1.9982 - val_accuracy: 0.2158\n",
      "Epoch 11/50\n",
      "50000/50000 [==============================] - 12s 233us/step - loss: 1.9909 - accuracy: 0.2145 - val_loss: 1.9984 - val_accuracy: 0.2156\n",
      "Epoch 12/50\n",
      "50000/50000 [==============================] - 12s 234us/step - loss: 1.9908 - accuracy: 0.2150 - val_loss: 1.9988 - val_accuracy: 0.2145\n",
      "Epoch 13/50\n",
      "50000/50000 [==============================] - 12s 240us/step - loss: 1.9897 - accuracy: 0.2157 - val_loss: 1.9953 - val_accuracy: 0.2177\n",
      "Epoch 14/50\n",
      "50000/50000 [==============================] - 13s 250us/step - loss: 1.9880 - accuracy: 0.2168 - val_loss: 1.9934 - val_accuracy: 0.2223\n",
      "Epoch 15/50\n",
      "50000/50000 [==============================] - 12s 245us/step - loss: 1.9877 - accuracy: 0.2178 - val_loss: 1.9934 - val_accuracy: 0.2224\n",
      "Epoch 16/50\n",
      "50000/50000 [==============================] - 12s 242us/step - loss: 1.9880 - accuracy: 0.2169 - val_loss: 1.9983 - val_accuracy: 0.2119\n",
      "Epoch 17/50\n",
      "50000/50000 [==============================] - 12s 236us/step - loss: 1.9872 - accuracy: 0.2181 - val_loss: 1.9924 - val_accuracy: 0.2193\n",
      "Epoch 18/50\n",
      "50000/50000 [==============================] - 12s 232us/step - loss: 1.9854 - accuracy: 0.2176 - val_loss: 1.9943 - val_accuracy: 0.2152\n",
      "Epoch 19/50\n",
      "50000/50000 [==============================] - 12s 231us/step - loss: 1.9851 - accuracy: 0.2186 - val_loss: 1.9915 - val_accuracy: 0.2210\n",
      "Epoch 20/50\n",
      "50000/50000 [==============================] - 12s 231us/step - loss: 1.9847 - accuracy: 0.2185 - val_loss: 1.9899 - val_accuracy: 0.2202\n",
      "Epoch 21/50\n",
      "50000/50000 [==============================] - 12s 233us/step - loss: 1.9827 - accuracy: 0.2192 - val_loss: 1.9906 - val_accuracy: 0.2183\n",
      "Epoch 22/50\n",
      "50000/50000 [==============================] - 12s 234us/step - loss: 1.9825 - accuracy: 0.2198 - val_loss: 1.9907 - val_accuracy: 0.2182\n",
      "Epoch 23/50\n",
      "50000/50000 [==============================] - 12s 244us/step - loss: 1.9811 - accuracy: 0.2194 - val_loss: 1.9860 - val_accuracy: 0.2236\n",
      "Epoch 24/50\n",
      "50000/50000 [==============================] - 12s 239us/step - loss: 1.9802 - accuracy: 0.2195 - val_loss: 1.9846 - val_accuracy: 0.2261\n",
      "Epoch 25/50\n",
      "50000/50000 [==============================] - 12s 239us/step - loss: 1.9798 - accuracy: 0.2204 - val_loss: 1.9852 - val_accuracy: 0.2251\n",
      "Epoch 26/50\n",
      "50000/50000 [==============================] - 12s 231us/step - loss: 1.9795 - accuracy: 0.2209 - val_loss: 1.9873 - val_accuracy: 0.2205\n",
      "Epoch 27/50\n",
      "50000/50000 [==============================] - 12s 231us/step - loss: 1.9796 - accuracy: 0.2208 - val_loss: 1.9867 - val_accuracy: 0.2220\n",
      "Epoch 28/50\n",
      "50000/50000 [==============================] - 12s 230us/step - loss: 1.9794 - accuracy: 0.2211 - val_loss: 1.9837 - val_accuracy: 0.2274\n",
      "Epoch 29/50\n",
      "50000/50000 [==============================] - 11s 230us/step - loss: 1.9795 - accuracy: 0.2208 - val_loss: 1.9856 - val_accuracy: 0.2238\n",
      "Epoch 30/50\n",
      "50000/50000 [==============================] - 12s 230us/step - loss: 1.9707 - accuracy: 0.2224 - val_loss: 1.9737 - val_accuracy: 0.2238\n",
      "Epoch 31/50\n",
      "50000/50000 [==============================] - 12s 249us/step - loss: 1.9406 - accuracy: 0.2235 - val_loss: 1.8948 - val_accuracy: 0.2257\n",
      "Epoch 32/50\n",
      "50000/50000 [==============================] - 12s 244us/step - loss: 1.8874 - accuracy: 0.2228 - val_loss: 1.8887 - val_accuracy: 0.2259\n",
      "Epoch 33/50\n",
      "50000/50000 [==============================] - 12s 238us/step - loss: 1.8754 - accuracy: 0.2222 - val_loss: 1.8785 - val_accuracy: 0.2233\n",
      "Epoch 34/50\n",
      "50000/50000 [==============================] - 12s 235us/step - loss: 1.8703 - accuracy: 0.2233 - val_loss: 1.8736 - val_accuracy: 0.2235\n",
      "Epoch 35/50\n",
      "50000/50000 [==============================] - 12s 239us/step - loss: 1.8659 - accuracy: 0.2267 - val_loss: 1.8700 - val_accuracy: 0.2305\n",
      "Epoch 36/50\n",
      "50000/50000 [==============================] - 12s 237us/step - loss: 1.8640 - accuracy: 0.2287 - val_loss: 1.8696 - val_accuracy: 0.2306\n",
      "Epoch 37/50\n",
      "50000/50000 [==============================] - 12s 234us/step - loss: 1.8519 - accuracy: 0.2293 - val_loss: 1.8531 - val_accuracy: 0.2324\n",
      "Epoch 38/50\n",
      "50000/50000 [==============================] - 13s 254us/step - loss: 1.8454 - accuracy: 0.2309 - val_loss: 1.8484 - val_accuracy: 0.2340\n",
      "Epoch 39/50\n",
      "50000/50000 [==============================] - 12s 248us/step - loss: 1.8440 - accuracy: 0.2303 - val_loss: 1.8501 - val_accuracy: 0.2298\n",
      "Epoch 40/50\n",
      "50000/50000 [==============================] - 17s 338us/step - loss: 1.8405 - accuracy: 0.2303 - val_loss: 1.8390 - val_accuracy: 0.2328\n",
      "Epoch 41/50\n",
      "50000/50000 [==============================] - 17s 343us/step - loss: 1.8334 - accuracy: 0.2310 - val_loss: 1.8378 - val_accuracy: 0.2325\n",
      "Epoch 42/50\n",
      "50000/50000 [==============================] - 13s 269us/step - loss: 1.8294 - accuracy: 0.2312 - val_loss: 1.8337 - val_accuracy: 0.2314\n",
      "Epoch 43/50\n",
      "50000/50000 [==============================] - 12s 241us/step - loss: 1.8235 - accuracy: 0.2312 - val_loss: 1.8283 - val_accuracy: 0.2336\n",
      "Epoch 44/50\n",
      "50000/50000 [==============================] - 13s 254us/step - loss: 1.8228 - accuracy: 0.2316 - val_loss: 1.8267 - val_accuracy: 0.2357\n",
      "Epoch 45/50\n",
      "50000/50000 [==============================] - 13s 250us/step - loss: 1.8226 - accuracy: 0.2320 - val_loss: 1.8268 - val_accuracy: 0.2350\n",
      "Epoch 46/50\n",
      "50000/50000 [==============================] - 13s 251us/step - loss: 1.8227 - accuracy: 0.2320 - val_loss: 1.8285 - val_accuracy: 0.2331\n",
      "Epoch 47/50\n",
      "50000/50000 [==============================] - 12s 236us/step - loss: 1.8204 - accuracy: 0.2323 - val_loss: 1.8252 - val_accuracy: 0.2346\n",
      "Epoch 48/50\n",
      "50000/50000 [==============================] - 12s 234us/step - loss: 1.8203 - accuracy: 0.2325 - val_loss: 1.8264 - val_accuracy: 0.2322\n",
      "Epoch 49/50\n",
      "50000/50000 [==============================] - 12s 235us/step - loss: 1.8202 - accuracy: 0.2326 - val_loss: 1.8260 - val_accuracy: 0.2325\n",
      "Epoch 50/50\n",
      "50000/50000 [==============================] - 12s 235us/step - loss: 1.8201 - accuracy: 0.2329 - val_loss: 1.8269 - val_accuracy: 0.2323\n"
     ]
    },
    {
     "data": {
      "text/plain": [
       "<keras.callbacks.callbacks.History at 0x1432bf7f0>"
      ]
     },
     "execution_count": 16,
     "metadata": {},
     "output_type": "execute_result"
    }
   ],
   "source": [
    "autoencoder.compile(optimizer = 'adadelta', loss = 'binary_crossentropy', metrics = ['accuracy'])\n",
    "autoencoder.fit(x_train_noisy, x_train_noisy, epochs = 50, batch_size = 256, shuffle = True, validation_data = [x_test_noisy, x_test_noisy])"
   ]
  },
  {
   "cell_type": "code",
   "execution_count": 17,
   "metadata": {},
   "outputs": [],
   "source": [
    "encoded_test_data = encoder.predict(x_test_noisy)\n",
    "predicted_test_data = autoencoder.predict(x_test_noisy)"
   ]
  },
  {
   "cell_type": "code",
   "execution_count": 18,
   "metadata": {},
   "outputs": [
    {
     "data": {
      "text/plain": [
       "(10000, 32)"
      ]
     },
     "execution_count": 18,
     "metadata": {},
     "output_type": "execute_result"
    }
   ],
   "source": [
    "encoded_test_data.shape"
   ]
  },
  {
   "cell_type": "code",
   "execution_count": 19,
   "metadata": {
    "scrolled": true
   },
   "outputs": [
    {
     "data": {
      "text/html": [
       "<div>\n",
       "<style scoped>\n",
       "    .dataframe tbody tr th:only-of-type {\n",
       "        vertical-align: middle;\n",
       "    }\n",
       "\n",
       "    .dataframe tbody tr th {\n",
       "        vertical-align: top;\n",
       "    }\n",
       "\n",
       "    .dataframe thead th {\n",
       "        text-align: right;\n",
       "    }\n",
       "</style>\n",
       "<table border=\"1\" class=\"dataframe\">\n",
       "  <thead>\n",
       "    <tr style=\"text-align: right;\">\n",
       "      <th></th>\n",
       "      <th>Class</th>\n",
       "      <th>Class Name</th>\n",
       "    </tr>\n",
       "  </thead>\n",
       "  <tbody>\n",
       "    <tr>\n",
       "      <th>0</th>\n",
       "      <td>3</td>\n",
       "      <td>cat</td>\n",
       "    </tr>\n",
       "    <tr>\n",
       "      <th>1</th>\n",
       "      <td>8</td>\n",
       "      <td>ship</td>\n",
       "    </tr>\n",
       "    <tr>\n",
       "      <th>2</th>\n",
       "      <td>8</td>\n",
       "      <td>ship</td>\n",
       "    </tr>\n",
       "    <tr>\n",
       "      <th>3</th>\n",
       "      <td>0</td>\n",
       "      <td>airplane</td>\n",
       "    </tr>\n",
       "    <tr>\n",
       "      <th>4</th>\n",
       "      <td>6</td>\n",
       "      <td>frog</td>\n",
       "    </tr>\n",
       "    <tr>\n",
       "      <th>...</th>\n",
       "      <td>...</td>\n",
       "      <td>...</td>\n",
       "    </tr>\n",
       "    <tr>\n",
       "      <th>9995</th>\n",
       "      <td>8</td>\n",
       "      <td>ship</td>\n",
       "    </tr>\n",
       "    <tr>\n",
       "      <th>9996</th>\n",
       "      <td>3</td>\n",
       "      <td>cat</td>\n",
       "    </tr>\n",
       "    <tr>\n",
       "      <th>9997</th>\n",
       "      <td>5</td>\n",
       "      <td>dog</td>\n",
       "    </tr>\n",
       "    <tr>\n",
       "      <th>9998</th>\n",
       "      <td>1</td>\n",
       "      <td>automobile</td>\n",
       "    </tr>\n",
       "    <tr>\n",
       "      <th>9999</th>\n",
       "      <td>7</td>\n",
       "      <td>horse</td>\n",
       "    </tr>\n",
       "  </tbody>\n",
       "</table>\n",
       "<p>10000 rows × 2 columns</p>\n",
       "</div>"
      ],
      "text/plain": [
       "      Class  Class Name\n",
       "0         3         cat\n",
       "1         8        ship\n",
       "2         8        ship\n",
       "3         0    airplane\n",
       "4         6        frog\n",
       "...     ...         ...\n",
       "9995      8        ship\n",
       "9996      3         cat\n",
       "9997      5         dog\n",
       "9998      1  automobile\n",
       "9999      7       horse\n",
       "\n",
       "[10000 rows x 2 columns]"
      ]
     },
     "execution_count": 19,
     "metadata": {},
     "output_type": "execute_result"
    }
   ],
   "source": [
    "y_test"
   ]
  },
  {
   "cell_type": "code",
   "execution_count": 20,
   "metadata": {},
   "outputs": [
    {
     "data": {
      "text/plain": [
       "(10000, 34)"
      ]
     },
     "execution_count": 20,
     "metadata": {},
     "output_type": "execute_result"
    }
   ],
   "source": [
    "encoded_test_data_df = pd.DataFrame(encoded_test_data)\n",
    "final_encoded_test_data_df = pd.concat([y_test, encoded_test_data_df], axis = 1)\n",
    "final_encoded_test_data_df.shape"
   ]
  },
  {
   "cell_type": "code",
   "execution_count": 21,
   "metadata": {},
   "outputs": [],
   "source": [
    "datadir = '/Users/sidv88/Documents/Data_Management_2/Denoised_Encoded_Data/'\n",
    "final_encoded_test_data_df.to_csv(datadir + 'Denoising_Encoders_Test_RTADB.csv', index = False)"
   ]
  },
  {
   "cell_type": "code",
   "execution_count": 22,
   "metadata": {},
   "outputs": [
    {
     "name": "stdout",
     "output_type": "stream",
     "text": [
      "Enter one of these values ['cat' 'ship' 'airplane' 'frog' 'automobile' 'truck' 'dog' 'horse' 'deer'\n",
      " 'bird'] : airplane\n"
     ]
    }
   ],
   "source": [
    "input_val = input(\"Enter one of these values {} : \".format(final_encoded_test_data_df['Class Name'].unique()))"
   ]
  },
  {
   "cell_type": "code",
   "execution_count": 23,
   "metadata": {},
   "outputs": [
    {
     "name": "stdout",
     "output_type": "stream",
     "text": [
      "Enter a number between 0 and 999 : 1\n"
     ]
    }
   ],
   "source": [
    "input_num = input(\"Enter a number between 0 and 999 : \")"
   ]
  },
  {
   "cell_type": "code",
   "execution_count": 24,
   "metadata": {},
   "outputs": [
    {
     "name": "stdout",
     "output_type": "stream",
     "text": [
      "10000\n",
      "10000\n"
     ]
    }
   ],
   "source": [
    "from numpy import dot\n",
    "from numpy.linalg import norm\n",
    "\n",
    "cosine_similarity = []\n",
    "cosine_distance = []\n",
    "\n",
    "for i in range(len(x_test_noisy)):\n",
    "    a = final_encoded_test_data_df.loc[final_encoded_test_data_df['Class Name'] == input_val].iloc[int(input_num), 2:]\n",
    "    b = final_encoded_test_data_df.iloc[i, 2:]\n",
    "    cos_sim = dot(a, b)/(norm(a) * norm(b))\n",
    "    cos_dist = 1 - cos_sim\n",
    "    cosine_similarity.append(cos_sim)\n",
    "    cosine_distance.append(cos_dist)\n",
    "print(len(cosine_similarity))\n",
    "print(len(cosine_distance))"
   ]
  },
  {
   "cell_type": "code",
   "execution_count": 25,
   "metadata": {},
   "outputs": [],
   "source": [
    "final_encoded_test_data_df['Cosine Similarity'] = cosine_similarity\n",
    "final_encoded_test_data_df['Cosine Distance'] = cosine_distance"
   ]
  },
  {
   "cell_type": "code",
   "execution_count": 26,
   "metadata": {},
   "outputs": [
    {
     "data": {
      "text/html": [
       "<div>\n",
       "<style scoped>\n",
       "    .dataframe tbody tr th:only-of-type {\n",
       "        vertical-align: middle;\n",
       "    }\n",
       "\n",
       "    .dataframe tbody tr th {\n",
       "        vertical-align: top;\n",
       "    }\n",
       "\n",
       "    .dataframe thead th {\n",
       "        text-align: right;\n",
       "    }\n",
       "</style>\n",
       "<table border=\"1\" class=\"dataframe\">\n",
       "  <thead>\n",
       "    <tr style=\"text-align: right;\">\n",
       "      <th></th>\n",
       "      <th>Class</th>\n",
       "      <th>Class Name</th>\n",
       "      <th>0</th>\n",
       "      <th>1</th>\n",
       "      <th>2</th>\n",
       "      <th>3</th>\n",
       "      <th>4</th>\n",
       "      <th>5</th>\n",
       "      <th>6</th>\n",
       "      <th>7</th>\n",
       "      <th>...</th>\n",
       "      <th>24</th>\n",
       "      <th>25</th>\n",
       "      <th>26</th>\n",
       "      <th>27</th>\n",
       "      <th>28</th>\n",
       "      <th>29</th>\n",
       "      <th>30</th>\n",
       "      <th>31</th>\n",
       "      <th>Cosine Similarity</th>\n",
       "      <th>Cosine Distance</th>\n",
       "    </tr>\n",
       "  </thead>\n",
       "  <tbody>\n",
       "    <tr>\n",
       "      <th>10</th>\n",
       "      <td>0</td>\n",
       "      <td>airplane</td>\n",
       "      <td>0.0</td>\n",
       "      <td>0.0</td>\n",
       "      <td>0.0</td>\n",
       "      <td>0.0</td>\n",
       "      <td>0.0</td>\n",
       "      <td>0.0</td>\n",
       "      <td>1.578148</td>\n",
       "      <td>0.000000</td>\n",
       "      <td>...</td>\n",
       "      <td>0.768088</td>\n",
       "      <td>0.0</td>\n",
       "      <td>5.962734</td>\n",
       "      <td>0.012670</td>\n",
       "      <td>0.0</td>\n",
       "      <td>0.0</td>\n",
       "      <td>0.0</td>\n",
       "      <td>0.000000</td>\n",
       "      <td>1.000000</td>\n",
       "      <td>0.000000</td>\n",
       "    </tr>\n",
       "    <tr>\n",
       "      <th>3164</th>\n",
       "      <td>0</td>\n",
       "      <td>airplane</td>\n",
       "      <td>0.0</td>\n",
       "      <td>0.0</td>\n",
       "      <td>0.0</td>\n",
       "      <td>0.0</td>\n",
       "      <td>0.0</td>\n",
       "      <td>0.0</td>\n",
       "      <td>1.417072</td>\n",
       "      <td>0.000000</td>\n",
       "      <td>...</td>\n",
       "      <td>0.684689</td>\n",
       "      <td>0.0</td>\n",
       "      <td>5.306494</td>\n",
       "      <td>0.001310</td>\n",
       "      <td>0.0</td>\n",
       "      <td>0.0</td>\n",
       "      <td>0.0</td>\n",
       "      <td>0.000000</td>\n",
       "      <td>0.999993</td>\n",
       "      <td>0.000007</td>\n",
       "    </tr>\n",
       "    <tr>\n",
       "      <th>2913</th>\n",
       "      <td>0</td>\n",
       "      <td>airplane</td>\n",
       "      <td>0.0</td>\n",
       "      <td>0.0</td>\n",
       "      <td>0.0</td>\n",
       "      <td>0.0</td>\n",
       "      <td>0.0</td>\n",
       "      <td>0.0</td>\n",
       "      <td>1.551975</td>\n",
       "      <td>0.000000</td>\n",
       "      <td>...</td>\n",
       "      <td>0.739408</td>\n",
       "      <td>0.0</td>\n",
       "      <td>5.796243</td>\n",
       "      <td>0.023763</td>\n",
       "      <td>0.0</td>\n",
       "      <td>0.0</td>\n",
       "      <td>0.0</td>\n",
       "      <td>0.000000</td>\n",
       "      <td>0.999993</td>\n",
       "      <td>0.000007</td>\n",
       "    </tr>\n",
       "    <tr>\n",
       "      <th>3319</th>\n",
       "      <td>2</td>\n",
       "      <td>bird</td>\n",
       "      <td>0.0</td>\n",
       "      <td>0.0</td>\n",
       "      <td>0.0</td>\n",
       "      <td>0.0</td>\n",
       "      <td>0.0</td>\n",
       "      <td>0.0</td>\n",
       "      <td>1.461591</td>\n",
       "      <td>0.000000</td>\n",
       "      <td>...</td>\n",
       "      <td>0.710370</td>\n",
       "      <td>0.0</td>\n",
       "      <td>5.538655</td>\n",
       "      <td>0.005754</td>\n",
       "      <td>0.0</td>\n",
       "      <td>0.0</td>\n",
       "      <td>0.0</td>\n",
       "      <td>0.000000</td>\n",
       "      <td>0.999991</td>\n",
       "      <td>0.000009</td>\n",
       "    </tr>\n",
       "    <tr>\n",
       "      <th>6573</th>\n",
       "      <td>7</td>\n",
       "      <td>horse</td>\n",
       "      <td>0.0</td>\n",
       "      <td>0.0</td>\n",
       "      <td>0.0</td>\n",
       "      <td>0.0</td>\n",
       "      <td>0.0</td>\n",
       "      <td>0.0</td>\n",
       "      <td>1.767049</td>\n",
       "      <td>0.000000</td>\n",
       "      <td>...</td>\n",
       "      <td>0.876306</td>\n",
       "      <td>0.0</td>\n",
       "      <td>6.751917</td>\n",
       "      <td>0.000000</td>\n",
       "      <td>0.0</td>\n",
       "      <td>0.0</td>\n",
       "      <td>0.0</td>\n",
       "      <td>0.000000</td>\n",
       "      <td>0.999989</td>\n",
       "      <td>0.000011</td>\n",
       "    </tr>\n",
       "    <tr>\n",
       "      <th>...</th>\n",
       "      <td>...</td>\n",
       "      <td>...</td>\n",
       "      <td>...</td>\n",
       "      <td>...</td>\n",
       "      <td>...</td>\n",
       "      <td>...</td>\n",
       "      <td>...</td>\n",
       "      <td>...</td>\n",
       "      <td>...</td>\n",
       "      <td>...</td>\n",
       "      <td>...</td>\n",
       "      <td>...</td>\n",
       "      <td>...</td>\n",
       "      <td>...</td>\n",
       "      <td>...</td>\n",
       "      <td>...</td>\n",
       "      <td>...</td>\n",
       "      <td>...</td>\n",
       "      <td>...</td>\n",
       "      <td>...</td>\n",
       "      <td>...</td>\n",
       "    </tr>\n",
       "    <tr>\n",
       "      <th>1180</th>\n",
       "      <td>3</td>\n",
       "      <td>cat</td>\n",
       "      <td>0.0</td>\n",
       "      <td>0.0</td>\n",
       "      <td>0.0</td>\n",
       "      <td>0.0</td>\n",
       "      <td>0.0</td>\n",
       "      <td>0.0</td>\n",
       "      <td>1.505497</td>\n",
       "      <td>0.000000</td>\n",
       "      <td>...</td>\n",
       "      <td>0.000000</td>\n",
       "      <td>0.0</td>\n",
       "      <td>4.117096</td>\n",
       "      <td>2.766248</td>\n",
       "      <td>0.0</td>\n",
       "      <td>0.0</td>\n",
       "      <td>0.0</td>\n",
       "      <td>0.010076</td>\n",
       "      <td>0.760875</td>\n",
       "      <td>0.239125</td>\n",
       "    </tr>\n",
       "    <tr>\n",
       "      <th>906</th>\n",
       "      <td>1</td>\n",
       "      <td>automobile</td>\n",
       "      <td>0.0</td>\n",
       "      <td>0.0</td>\n",
       "      <td>0.0</td>\n",
       "      <td>0.0</td>\n",
       "      <td>0.0</td>\n",
       "      <td>0.0</td>\n",
       "      <td>1.562185</td>\n",
       "      <td>0.000000</td>\n",
       "      <td>...</td>\n",
       "      <td>0.000000</td>\n",
       "      <td>0.0</td>\n",
       "      <td>4.039298</td>\n",
       "      <td>2.763552</td>\n",
       "      <td>0.0</td>\n",
       "      <td>0.0</td>\n",
       "      <td>0.0</td>\n",
       "      <td>0.013871</td>\n",
       "      <td>0.760228</td>\n",
       "      <td>0.239772</td>\n",
       "    </tr>\n",
       "    <tr>\n",
       "      <th>6574</th>\n",
       "      <td>0</td>\n",
       "      <td>airplane</td>\n",
       "      <td>0.0</td>\n",
       "      <td>0.0</td>\n",
       "      <td>0.0</td>\n",
       "      <td>0.0</td>\n",
       "      <td>0.0</td>\n",
       "      <td>0.0</td>\n",
       "      <td>0.804239</td>\n",
       "      <td>0.001503</td>\n",
       "      <td>...</td>\n",
       "      <td>0.000000</td>\n",
       "      <td>0.0</td>\n",
       "      <td>2.160752</td>\n",
       "      <td>1.497167</td>\n",
       "      <td>0.0</td>\n",
       "      <td>0.0</td>\n",
       "      <td>0.0</td>\n",
       "      <td>0.000000</td>\n",
       "      <td>0.758080</td>\n",
       "      <td>0.241920</td>\n",
       "    </tr>\n",
       "    <tr>\n",
       "      <th>5361</th>\n",
       "      <td>3</td>\n",
       "      <td>cat</td>\n",
       "      <td>0.0</td>\n",
       "      <td>0.0</td>\n",
       "      <td>0.0</td>\n",
       "      <td>0.0</td>\n",
       "      <td>0.0</td>\n",
       "      <td>0.0</td>\n",
       "      <td>1.491668</td>\n",
       "      <td>0.000000</td>\n",
       "      <td>...</td>\n",
       "      <td>0.000000</td>\n",
       "      <td>0.0</td>\n",
       "      <td>3.905192</td>\n",
       "      <td>2.713232</td>\n",
       "      <td>0.0</td>\n",
       "      <td>0.0</td>\n",
       "      <td>0.0</td>\n",
       "      <td>0.015221</td>\n",
       "      <td>0.753636</td>\n",
       "      <td>0.246364</td>\n",
       "    </tr>\n",
       "    <tr>\n",
       "      <th>6538</th>\n",
       "      <td>3</td>\n",
       "      <td>cat</td>\n",
       "      <td>0.0</td>\n",
       "      <td>0.0</td>\n",
       "      <td>0.0</td>\n",
       "      <td>0.0</td>\n",
       "      <td>0.0</td>\n",
       "      <td>0.0</td>\n",
       "      <td>1.116242</td>\n",
       "      <td>0.000000</td>\n",
       "      <td>...</td>\n",
       "      <td>0.000000</td>\n",
       "      <td>0.0</td>\n",
       "      <td>2.933329</td>\n",
       "      <td>2.096853</td>\n",
       "      <td>0.0</td>\n",
       "      <td>0.0</td>\n",
       "      <td>0.0</td>\n",
       "      <td>0.000000</td>\n",
       "      <td>0.750481</td>\n",
       "      <td>0.249519</td>\n",
       "    </tr>\n",
       "  </tbody>\n",
       "</table>\n",
       "<p>10000 rows × 36 columns</p>\n",
       "</div>"
      ],
      "text/plain": [
       "      Class  Class Name    0    1    2    3    4    5         6         7  \\\n",
       "10        0    airplane  0.0  0.0  0.0  0.0  0.0  0.0  1.578148  0.000000   \n",
       "3164      0    airplane  0.0  0.0  0.0  0.0  0.0  0.0  1.417072  0.000000   \n",
       "2913      0    airplane  0.0  0.0  0.0  0.0  0.0  0.0  1.551975  0.000000   \n",
       "3319      2        bird  0.0  0.0  0.0  0.0  0.0  0.0  1.461591  0.000000   \n",
       "6573      7       horse  0.0  0.0  0.0  0.0  0.0  0.0  1.767049  0.000000   \n",
       "...     ...         ...  ...  ...  ...  ...  ...  ...       ...       ...   \n",
       "1180      3         cat  0.0  0.0  0.0  0.0  0.0  0.0  1.505497  0.000000   \n",
       "906       1  automobile  0.0  0.0  0.0  0.0  0.0  0.0  1.562185  0.000000   \n",
       "6574      0    airplane  0.0  0.0  0.0  0.0  0.0  0.0  0.804239  0.001503   \n",
       "5361      3         cat  0.0  0.0  0.0  0.0  0.0  0.0  1.491668  0.000000   \n",
       "6538      3         cat  0.0  0.0  0.0  0.0  0.0  0.0  1.116242  0.000000   \n",
       "\n",
       "      ...        24   25        26        27   28   29   30        31  \\\n",
       "10    ...  0.768088  0.0  5.962734  0.012670  0.0  0.0  0.0  0.000000   \n",
       "3164  ...  0.684689  0.0  5.306494  0.001310  0.0  0.0  0.0  0.000000   \n",
       "2913  ...  0.739408  0.0  5.796243  0.023763  0.0  0.0  0.0  0.000000   \n",
       "3319  ...  0.710370  0.0  5.538655  0.005754  0.0  0.0  0.0  0.000000   \n",
       "6573  ...  0.876306  0.0  6.751917  0.000000  0.0  0.0  0.0  0.000000   \n",
       "...   ...       ...  ...       ...       ...  ...  ...  ...       ...   \n",
       "1180  ...  0.000000  0.0  4.117096  2.766248  0.0  0.0  0.0  0.010076   \n",
       "906   ...  0.000000  0.0  4.039298  2.763552  0.0  0.0  0.0  0.013871   \n",
       "6574  ...  0.000000  0.0  2.160752  1.497167  0.0  0.0  0.0  0.000000   \n",
       "5361  ...  0.000000  0.0  3.905192  2.713232  0.0  0.0  0.0  0.015221   \n",
       "6538  ...  0.000000  0.0  2.933329  2.096853  0.0  0.0  0.0  0.000000   \n",
       "\n",
       "      Cosine Similarity  Cosine Distance  \n",
       "10             1.000000         0.000000  \n",
       "3164           0.999993         0.000007  \n",
       "2913           0.999993         0.000007  \n",
       "3319           0.999991         0.000009  \n",
       "6573           0.999989         0.000011  \n",
       "...                 ...              ...  \n",
       "1180           0.760875         0.239125  \n",
       "906            0.760228         0.239772  \n",
       "6574           0.758080         0.241920  \n",
       "5361           0.753636         0.246364  \n",
       "6538           0.750481         0.249519  \n",
       "\n",
       "[10000 rows x 36 columns]"
      ]
     },
     "execution_count": 26,
     "metadata": {},
     "output_type": "execute_result"
    }
   ],
   "source": [
    "final_encoded_test_data_df.sort_values(by = ['Cosine Similarity'], ascending = False)"
   ]
  },
  {
   "cell_type": "code",
   "execution_count": 27,
   "metadata": {},
   "outputs": [],
   "source": [
    "cosine_index = final_encoded_test_data_df.sort_values(by = ['Cosine Similarity'], ascending = False).head(10).index"
   ]
  },
  {
   "cell_type": "code",
   "execution_count": 28,
   "metadata": {
    "scrolled": true
   },
   "outputs": [
    {
     "data": {
      "image/png": "[encoded data removed]",
      "text/plain": [
       "<Figure size 144x144 with 1 Axes>"
      ]
     },
     "metadata": {
      "needs_background": "light"
     },
     "output_type": "display_data"
    },
    {
     "data": {
      "image/png": "[encoded data removed]",
      "text/plain": [
       "<Figure size 144x144 with 1 Axes>"
      ]
     },
     "metadata": {
      "needs_background": "light"
     },
     "output_type": "display_data"
    },
    {
     "data": {
      "image/png": "[encoded data removed]",
      "text/plain": [
       "<Figure size 144x144 with 1 Axes>"
      ]
     },
     "metadata": {
      "needs_background": "light"
     },
     "output_type": "display_data"
    },
    {
     "data": {
      "image/png": "[encoded data removed]",
      "text/plain": [
       "<Figure size 144x144 with 1 Axes>"
      ]
     },
     "metadata": {
      "needs_background": "light"
     },
     "output_type": "display_data"
    },
    {
     "data": {
      "image/png": "[encoded data removed]",
      "text/plain": [
       "<Figure size 144x144 with 1 Axes>"
      ]
     },
     "metadata": {
      "needs_background": "light"
     },
     "output_type": "display_data"
    },
    {
     "data": {
      "image/png": "[encoded data removed]",
      "text/plain": [
       "<Figure size 144x144 with 1 Axes>"
      ]
     },
     "metadata": {
      "needs_background": "light"
     },
     "output_type": "display_data"
    },
    {
     "data": {
      "image/png": "[encoded data removed]",
      "text/plain": [
       "<Figure size 144x144 with 1 Axes>"
      ]
     },
     "metadata": {
      "needs_background": "light"
     },
     "output_type": "display_data"
    },
    {
     "data": {
      "image/png": "[encoded data removed]",
      "text/plain": [
       "<Figure size 144x144 with 1 Axes>"
      ]
     },
     "metadata": {
      "needs_background": "light"
     },
     "output_type": "display_data"
    },
    {
     "data": {
      "image/png": "[encoded data removed]",
      "text/plain": [
       "<Figure size 144x144 with 1 Axes>"
      ]
     },
     "metadata": {
      "needs_background": "light"
     },
     "output_type": "display_data"
    },
    {
     "data": {
      "image/png": "[encoded data removed]",
      "text/plain": [
       "<Figure size 144x144 with 1 Axes>"
      ]
     },
     "metadata": {
      "needs_background": "light"
     },
     "output_type": "display_data"
    }
   ],
   "source": [
    "for i in cosine_index:\n",
    "    plt.figure(figsize = (2, 2))\n",
    "    plt.imshow(x_test[i].reshape(32, 32, 3))\n",
    "    plt.xlabel(final_encoded_test_data_df['Class Name'][i] + ' with a Cosine Similarity of ' + str(final_encoded_test_data_df['Cosine Similarity'][i]) + ' from the queried image.')\n",
    "    plt.show()"
   ]
  },
  {
   "cell_type": "code",
   "execution_count": 29,
   "metadata": {},
   "outputs": [
    {
     "name": "stdout",
     "output_type": "stream",
     "text": [
      "10000\n"
     ]
    }
   ],
   "source": [
    "euclidean_distance = []\n",
    "\n",
    "for i in range(len(x_test)):\n",
    "    a = final_encoded_test_data_df.loc[final_encoded_test_data_df['Class Name'] == input_val].iloc[int(input_num), 2:]\n",
    "    b = final_encoded_test_data_df.iloc[i, 2:]\n",
    "    euc_dist = np.linalg.norm(a-b)\n",
    "    euclidean_distance.append(euc_dist)\n",
    "print(len(euclidean_distance))"
   ]
  },
  {
   "cell_type": "code",
   "execution_count": 30,
   "metadata": {},
   "outputs": [
    {
     "data": {
      "text/html": [
       "<div>\n",
       "<style scoped>\n",
       "    .dataframe tbody tr th:only-of-type {\n",
       "        vertical-align: middle;\n",
       "    }\n",
       "\n",
       "    .dataframe tbody tr th {\n",
       "        vertical-align: top;\n",
       "    }\n",
       "\n",
       "    .dataframe thead th {\n",
       "        text-align: right;\n",
       "    }\n",
       "</style>\n",
       "<table border=\"1\" class=\"dataframe\">\n",
       "  <thead>\n",
       "    <tr style=\"text-align: right;\">\n",
       "      <th></th>\n",
       "      <th>Class</th>\n",
       "      <th>Class Name</th>\n",
       "      <th>0</th>\n",
       "      <th>1</th>\n",
       "      <th>2</th>\n",
       "      <th>3</th>\n",
       "      <th>4</th>\n",
       "      <th>5</th>\n",
       "      <th>6</th>\n",
       "      <th>7</th>\n",
       "      <th>...</th>\n",
       "      <th>25</th>\n",
       "      <th>26</th>\n",
       "      <th>27</th>\n",
       "      <th>28</th>\n",
       "      <th>29</th>\n",
       "      <th>30</th>\n",
       "      <th>31</th>\n",
       "      <th>Cosine Similarity</th>\n",
       "      <th>Cosine Distance</th>\n",
       "      <th>Euclidean Distance</th>\n",
       "    </tr>\n",
       "  </thead>\n",
       "  <tbody>\n",
       "    <tr>\n",
       "      <th>10</th>\n",
       "      <td>0</td>\n",
       "      <td>airplane</td>\n",
       "      <td>0.0</td>\n",
       "      <td>0.000000</td>\n",
       "      <td>0.0</td>\n",
       "      <td>0.0</td>\n",
       "      <td>0.0</td>\n",
       "      <td>0.0</td>\n",
       "      <td>1.578148</td>\n",
       "      <td>0.0</td>\n",
       "      <td>...</td>\n",
       "      <td>0.0</td>\n",
       "      <td>5.962734</td>\n",
       "      <td>0.012670</td>\n",
       "      <td>0.0</td>\n",
       "      <td>0.0</td>\n",
       "      <td>0.0</td>\n",
       "      <td>0.0</td>\n",
       "      <td>1.000000</td>\n",
       "      <td>0.000000</td>\n",
       "      <td>0.000000</td>\n",
       "    </tr>\n",
       "    <tr>\n",
       "      <th>1233</th>\n",
       "      <td>4</td>\n",
       "      <td>deer</td>\n",
       "      <td>0.0</td>\n",
       "      <td>0.000000</td>\n",
       "      <td>0.0</td>\n",
       "      <td>0.0</td>\n",
       "      <td>0.0</td>\n",
       "      <td>0.0</td>\n",
       "      <td>1.549244</td>\n",
       "      <td>0.0</td>\n",
       "      <td>...</td>\n",
       "      <td>0.0</td>\n",
       "      <td>5.903481</td>\n",
       "      <td>0.000000</td>\n",
       "      <td>0.0</td>\n",
       "      <td>0.0</td>\n",
       "      <td>0.0</td>\n",
       "      <td>0.0</td>\n",
       "      <td>0.999983</td>\n",
       "      <td>0.000017</td>\n",
       "      <td>0.079624</td>\n",
       "    </tr>\n",
       "    <tr>\n",
       "      <th>3588</th>\n",
       "      <td>6</td>\n",
       "      <td>frog</td>\n",
       "      <td>0.0</td>\n",
       "      <td>0.000000</td>\n",
       "      <td>0.0</td>\n",
       "      <td>0.0</td>\n",
       "      <td>0.0</td>\n",
       "      <td>0.0</td>\n",
       "      <td>1.581976</td>\n",
       "      <td>0.0</td>\n",
       "      <td>...</td>\n",
       "      <td>0.0</td>\n",
       "      <td>5.894299</td>\n",
       "      <td>0.000000</td>\n",
       "      <td>0.0</td>\n",
       "      <td>0.0</td>\n",
       "      <td>0.0</td>\n",
       "      <td>0.0</td>\n",
       "      <td>0.999964</td>\n",
       "      <td>0.000036</td>\n",
       "      <td>0.082171</td>\n",
       "    </tr>\n",
       "    <tr>\n",
       "      <th>8038</th>\n",
       "      <td>6</td>\n",
       "      <td>frog</td>\n",
       "      <td>0.0</td>\n",
       "      <td>0.000000</td>\n",
       "      <td>0.0</td>\n",
       "      <td>0.0</td>\n",
       "      <td>0.0</td>\n",
       "      <td>0.0</td>\n",
       "      <td>1.542092</td>\n",
       "      <td>0.0</td>\n",
       "      <td>...</td>\n",
       "      <td>0.0</td>\n",
       "      <td>5.946043</td>\n",
       "      <td>0.000000</td>\n",
       "      <td>0.0</td>\n",
       "      <td>0.0</td>\n",
       "      <td>0.0</td>\n",
       "      <td>0.0</td>\n",
       "      <td>0.999928</td>\n",
       "      <td>0.000072</td>\n",
       "      <td>0.089348</td>\n",
       "    </tr>\n",
       "    <tr>\n",
       "      <th>6330</th>\n",
       "      <td>6</td>\n",
       "      <td>frog</td>\n",
       "      <td>0.0</td>\n",
       "      <td>0.000000</td>\n",
       "      <td>0.0</td>\n",
       "      <td>0.0</td>\n",
       "      <td>0.0</td>\n",
       "      <td>0.0</td>\n",
       "      <td>1.584682</td>\n",
       "      <td>0.0</td>\n",
       "      <td>...</td>\n",
       "      <td>0.0</td>\n",
       "      <td>5.968143</td>\n",
       "      <td>0.066620</td>\n",
       "      <td>0.0</td>\n",
       "      <td>0.0</td>\n",
       "      <td>0.0</td>\n",
       "      <td>0.0</td>\n",
       "      <td>0.999929</td>\n",
       "      <td>0.000071</td>\n",
       "      <td>0.090155</td>\n",
       "    </tr>\n",
       "    <tr>\n",
       "      <th>...</th>\n",
       "      <td>...</td>\n",
       "      <td>...</td>\n",
       "      <td>...</td>\n",
       "      <td>...</td>\n",
       "      <td>...</td>\n",
       "      <td>...</td>\n",
       "      <td>...</td>\n",
       "      <td>...</td>\n",
       "      <td>...</td>\n",
       "      <td>...</td>\n",
       "      <td>...</td>\n",
       "      <td>...</td>\n",
       "      <td>...</td>\n",
       "      <td>...</td>\n",
       "      <td>...</td>\n",
       "      <td>...</td>\n",
       "      <td>...</td>\n",
       "      <td>...</td>\n",
       "      <td>...</td>\n",
       "      <td>...</td>\n",
       "      <td>...</td>\n",
       "    </tr>\n",
       "    <tr>\n",
       "      <th>2754</th>\n",
       "      <td>9</td>\n",
       "      <td>truck</td>\n",
       "      <td>0.0</td>\n",
       "      <td>0.030524</td>\n",
       "      <td>0.0</td>\n",
       "      <td>0.0</td>\n",
       "      <td>0.0</td>\n",
       "      <td>0.0</td>\n",
       "      <td>0.069400</td>\n",
       "      <td>0.0</td>\n",
       "      <td>...</td>\n",
       "      <td>0.0</td>\n",
       "      <td>0.982182</td>\n",
       "      <td>0.000000</td>\n",
       "      <td>0.0</td>\n",
       "      <td>0.0</td>\n",
       "      <td>0.0</td>\n",
       "      <td>0.0</td>\n",
       "      <td>0.911532</td>\n",
       "      <td>0.088468</td>\n",
       "      <td>6.142762</td>\n",
       "    </tr>\n",
       "    <tr>\n",
       "      <th>6234</th>\n",
       "      <td>7</td>\n",
       "      <td>horse</td>\n",
       "      <td>0.0</td>\n",
       "      <td>0.028501</td>\n",
       "      <td>0.0</td>\n",
       "      <td>0.0</td>\n",
       "      <td>0.0</td>\n",
       "      <td>0.0</td>\n",
       "      <td>0.000000</td>\n",
       "      <td>0.0</td>\n",
       "      <td>...</td>\n",
       "      <td>0.0</td>\n",
       "      <td>1.010905</td>\n",
       "      <td>0.000000</td>\n",
       "      <td>0.0</td>\n",
       "      <td>0.0</td>\n",
       "      <td>0.0</td>\n",
       "      <td>0.0</td>\n",
       "      <td>0.888565</td>\n",
       "      <td>0.111435</td>\n",
       "      <td>6.147613</td>\n",
       "    </tr>\n",
       "    <tr>\n",
       "      <th>1078</th>\n",
       "      <td>0</td>\n",
       "      <td>airplane</td>\n",
       "      <td>0.0</td>\n",
       "      <td>0.000000</td>\n",
       "      <td>0.0</td>\n",
       "      <td>0.0</td>\n",
       "      <td>0.0</td>\n",
       "      <td>0.0</td>\n",
       "      <td>3.065618</td>\n",
       "      <td>0.0</td>\n",
       "      <td>...</td>\n",
       "      <td>0.0</td>\n",
       "      <td>11.144792</td>\n",
       "      <td>0.886268</td>\n",
       "      <td>0.0</td>\n",
       "      <td>0.0</td>\n",
       "      <td>0.0</td>\n",
       "      <td>0.0</td>\n",
       "      <td>0.995899</td>\n",
       "      <td>0.004101</td>\n",
       "      <td>6.217515</td>\n",
       "    </tr>\n",
       "    <tr>\n",
       "      <th>8448</th>\n",
       "      <td>4</td>\n",
       "      <td>deer</td>\n",
       "      <td>0.0</td>\n",
       "      <td>0.007859</td>\n",
       "      <td>0.0</td>\n",
       "      <td>0.0</td>\n",
       "      <td>0.0</td>\n",
       "      <td>0.0</td>\n",
       "      <td>0.028283</td>\n",
       "      <td>0.0</td>\n",
       "      <td>...</td>\n",
       "      <td>0.0</td>\n",
       "      <td>0.866245</td>\n",
       "      <td>0.000000</td>\n",
       "      <td>0.0</td>\n",
       "      <td>0.0</td>\n",
       "      <td>0.0</td>\n",
       "      <td>0.0</td>\n",
       "      <td>0.882968</td>\n",
       "      <td>0.117032</td>\n",
       "      <td>6.260284</td>\n",
       "    </tr>\n",
       "    <tr>\n",
       "      <th>7794</th>\n",
       "      <td>5</td>\n",
       "      <td>dog</td>\n",
       "      <td>0.0</td>\n",
       "      <td>0.000000</td>\n",
       "      <td>0.0</td>\n",
       "      <td>0.0</td>\n",
       "      <td>0.0</td>\n",
       "      <td>0.0</td>\n",
       "      <td>0.288075</td>\n",
       "      <td>0.0</td>\n",
       "      <td>...</td>\n",
       "      <td>0.0</td>\n",
       "      <td>0.804532</td>\n",
       "      <td>0.000000</td>\n",
       "      <td>0.0</td>\n",
       "      <td>0.0</td>\n",
       "      <td>0.0</td>\n",
       "      <td>0.0</td>\n",
       "      <td>0.981687</td>\n",
       "      <td>0.018313</td>\n",
       "      <td>6.286345</td>\n",
       "    </tr>\n",
       "  </tbody>\n",
       "</table>\n",
       "<p>10000 rows × 37 columns</p>\n",
       "</div>"
      ],
      "text/plain": [
       "      Class Class Name    0         1    2    3    4    5         6    7  ...  \\\n",
       "10        0   airplane  0.0  0.000000  0.0  0.0  0.0  0.0  1.578148  0.0  ...   \n",
       "1233      4       deer  0.0  0.000000  0.0  0.0  0.0  0.0  1.549244  0.0  ...   \n",
       "3588      6       frog  0.0  0.000000  0.0  0.0  0.0  0.0  1.581976  0.0  ...   \n",
       "8038      6       frog  0.0  0.000000  0.0  0.0  0.0  0.0  1.542092  0.0  ...   \n",
       "6330      6       frog  0.0  0.000000  0.0  0.0  0.0  0.0  1.584682  0.0  ...   \n",
       "...     ...        ...  ...       ...  ...  ...  ...  ...       ...  ...  ...   \n",
       "2754      9      truck  0.0  0.030524  0.0  0.0  0.0  0.0  0.069400  0.0  ...   \n",
       "6234      7      horse  0.0  0.028501  0.0  0.0  0.0  0.0  0.000000  0.0  ...   \n",
       "1078      0   airplane  0.0  0.000000  0.0  0.0  0.0  0.0  3.065618  0.0  ...   \n",
       "8448      4       deer  0.0  0.007859  0.0  0.0  0.0  0.0  0.028283  0.0  ...   \n",
       "7794      5        dog  0.0  0.000000  0.0  0.0  0.0  0.0  0.288075  0.0  ...   \n",
       "\n",
       "       25         26        27   28   29   30   31  Cosine Similarity  \\\n",
       "10    0.0   5.962734  0.012670  0.0  0.0  0.0  0.0           1.000000   \n",
       "1233  0.0   5.903481  0.000000  0.0  0.0  0.0  0.0           0.999983   \n",
       "3588  0.0   5.894299  0.000000  0.0  0.0  0.0  0.0           0.999964   \n",
       "8038  0.0   5.946043  0.000000  0.0  0.0  0.0  0.0           0.999928   \n",
       "6330  0.0   5.968143  0.066620  0.0  0.0  0.0  0.0           0.999929   \n",
       "...   ...        ...       ...  ...  ...  ...  ...                ...   \n",
       "2754  0.0   0.982182  0.000000  0.0  0.0  0.0  0.0           0.911532   \n",
       "6234  0.0   1.010905  0.000000  0.0  0.0  0.0  0.0           0.888565   \n",
       "1078  0.0  11.144792  0.886268  0.0  0.0  0.0  0.0           0.995899   \n",
       "8448  0.0   0.866245  0.000000  0.0  0.0  0.0  0.0           0.882968   \n",
       "7794  0.0   0.804532  0.000000  0.0  0.0  0.0  0.0           0.981687   \n",
       "\n",
       "      Cosine Distance  Euclidean Distance  \n",
       "10           0.000000            0.000000  \n",
       "1233         0.000017            0.079624  \n",
       "3588         0.000036            0.082171  \n",
       "8038         0.000072            0.089348  \n",
       "6330         0.000071            0.090155  \n",
       "...               ...                 ...  \n",
       "2754         0.088468            6.142762  \n",
       "6234         0.111435            6.147613  \n",
       "1078         0.004101            6.217515  \n",
       "8448         0.117032            6.260284  \n",
       "7794         0.018313            6.286345  \n",
       "\n",
       "[10000 rows x 37 columns]"
      ]
     },
     "execution_count": 30,
     "metadata": {},
     "output_type": "execute_result"
    }
   ],
   "source": [
    "final_encoded_test_data_df['Euclidean Distance'] = euclidean_distance\n",
    "final_encoded_test_data_df.sort_values(by = ['Euclidean Distance'])"
   ]
  },
  {
   "cell_type": "code",
   "execution_count": 31,
   "metadata": {
    "scrolled": true
   },
   "outputs": [
    {
     "data": {
      "image/png": "[encoded data removed]",
      "text/plain": [
       "<Figure size 144x144 with 1 Axes>"
      ]
     },
     "metadata": {
      "needs_background": "light"
     },
     "output_type": "display_data"
    },
    {
     "data": {
      "image/png": "[encoded data removed]",
      "text/plain": [
       "<Figure size 144x144 with 1 Axes>"
      ]
     },
     "metadata": {
      "needs_background": "light"
     },
     "output_type": "display_data"
    },
    {
     "data": {
      "image/png": "[encoded data removed]",
      "text/plain": [
       "<Figure size 144x144 with 1 Axes>"
      ]
     },
     "metadata": {
      "needs_background": "light"
     },
     "output_type": "display_data"
    },
    {
     "data": {
      "image/png": "[encoded data removed]",
      "text/plain": [
       "<Figure size 144x144 with 1 Axes>"
      ]
     },
     "metadata": {
      "needs_background": "light"
     },
     "output_type": "display_data"
    },
    {
     "data": {
      "image/png": "[encoded data removed]",
      "text/plain": [
       "<Figure size 144x144 with 1 Axes>"
      ]
     },
     "metadata": {
      "needs_background": "light"
     },
     "output_type": "display_data"
    },
    {
     "data": {
      "image/png": "[encoded data removed]",
      "text/plain": [
       "<Figure size 144x144 with 1 Axes>"
      ]
     },
     "metadata": {
      "needs_background": "light"
     },
     "output_type": "display_data"
    },
    {
     "data": {
      "image/png": "[encoded data removed]",
      "text/plain": [
       "<Figure size 144x144 with 1 Axes>"
      ]
     },
     "metadata": {
      "needs_background": "light"
     },
     "output_type": "display_data"
    },
    {
     "data": {
      "image/png": "[encoded data removed]",
      "text/plain": [
       "<Figure size 144x144 with 1 Axes>"
      ]
     },
     "metadata": {
      "needs_background": "light"
     },
     "output_type": "display_data"
    },
    {
     "data": {
      "image/png": "[encoded data removed]",
      "text/plain": [
       "<Figure size 144x144 with 1 Axes>"
      ]
     },
     "metadata": {
      "needs_background": "light"
     },
     "output_type": "display_data"
    },
    {
     "data": {
      "image/png": "[encoded data removed]",
      "text/plain": [
       "<Figure size 144x144 with 1 Axes>"
      ]
     },
     "metadata": {
      "needs_background": "light"
     },
     "output_type": "display_data"
    }
   ],
   "source": [
    "euclidean_index = final_encoded_test_data_df.sort_values(by = ['Euclidean Distance']).head(10).index\n",
    "\n",
    "for i in euclidean_index:\n",
    "    plt.figure(figsize = (2, 2))\n",
    "    plt.imshow(x_test[i].reshape(32, 32, 3))\n",
    "    plt.xlabel(final_encoded_test_data_df['Class Name'][i] + ' with an Euclidean Distance of ' + str(final_encoded_test_data_df['Euclidean Distance'][i]) + ' from the queried image.')\n",
    "    plt.show()"
   ]
  },
  {
   "cell_type": "code",
   "execution_count": null,
   "metadata": {},
   "outputs": [],
   "source": []
  }
 ],
 "metadata": {
  "kernelspec": {
   "display_name": "Python 3",
   "language": "python",
   "name": "python3"
  },
  "language_info": {
   "codemirror_mode": {
    "name": "ipython",
    "version": 3
   },
   "file_extension": ".py",
   "mimetype": "text/x-python",
   "name": "python",
   "nbconvert_exporter": "python",
   "pygments_lexer": "ipython3",
   "version": "3.6.9"
  }
 },
 "nbformat": 4,
 "nbformat_minor": 2
}
