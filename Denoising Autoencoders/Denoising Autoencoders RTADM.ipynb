{
 "cells": [
  {
   "cell_type": "code",
   "execution_count": 2,
   "metadata": {},
   "outputs": [],
   "source": [
    "from keras.layers import Input, Dense\n",
    "from keras.models import Model\n",
    "\n",
    "import numpy as np\n",
    "import pandas as pd\n",
    "import matplotlib.pyplot as plt\n",
    "%matplotlib inline"
   ]
  },
  {
   "cell_type": "code",
   "execution_count": 3,
   "metadata": {},
   "outputs": [
    {
     "name": "stdout",
     "output_type": "stream",
     "text": [
      "(50000, 3074)\n",
      "(10000, 3074)\n"
     ]
    }
   ],
   "source": [
    "datadir = '/Users/sidv88/Documents/Data_Management_2/Data/'\n",
    "train_data = pd.read_csv(datadir + 'train_rgb.csv')\n",
    "test_data = pd.read_csv(datadir + 'test_rgb.csv')\n",
    "print(train_data.shape)\n",
    "print(test_data.shape)"
   ]
  },
  {
   "cell_type": "code",
   "execution_count": 4,
   "metadata": {},
   "outputs": [
    {
     "data": {
      "text/html": [
       "<div>\n",
       "<style scoped>\n",
       "    .dataframe tbody tr th:only-of-type {\n",
       "        vertical-align: middle;\n",
       "    }\n",
       "\n",
       "    .dataframe tbody tr th {\n",
       "        vertical-align: top;\n",
       "    }\n",
       "\n",
       "    .dataframe thead th {\n",
       "        text-align: right;\n",
       "    }\n",
       "</style>\n",
       "<table border=\"1\" class=\"dataframe\">\n",
       "  <thead>\n",
       "    <tr style=\"text-align: right;\">\n",
       "      <th></th>\n",
       "      <th>Class</th>\n",
       "      <th>Class Name</th>\n",
       "      <th>0</th>\n",
       "      <th>1</th>\n",
       "      <th>2</th>\n",
       "      <th>3</th>\n",
       "      <th>4</th>\n",
       "      <th>5</th>\n",
       "      <th>6</th>\n",
       "      <th>7</th>\n",
       "      <th>...</th>\n",
       "      <th>3062</th>\n",
       "      <th>3063</th>\n",
       "      <th>3064</th>\n",
       "      <th>3065</th>\n",
       "      <th>3066</th>\n",
       "      <th>3067</th>\n",
       "      <th>3068</th>\n",
       "      <th>3069</th>\n",
       "      <th>3070</th>\n",
       "      <th>3071</th>\n",
       "    </tr>\n",
       "  </thead>\n",
       "  <tbody>\n",
       "    <tr>\n",
       "      <th>0</th>\n",
       "      <td>6</td>\n",
       "      <td>frog</td>\n",
       "      <td>59</td>\n",
       "      <td>62</td>\n",
       "      <td>63</td>\n",
       "      <td>43</td>\n",
       "      <td>46</td>\n",
       "      <td>45</td>\n",
       "      <td>50</td>\n",
       "      <td>48</td>\n",
       "      <td>...</td>\n",
       "      <td>104</td>\n",
       "      <td>216</td>\n",
       "      <td>184</td>\n",
       "      <td>140</td>\n",
       "      <td>151</td>\n",
       "      <td>118</td>\n",
       "      <td>84</td>\n",
       "      <td>123</td>\n",
       "      <td>92</td>\n",
       "      <td>72</td>\n",
       "    </tr>\n",
       "    <tr>\n",
       "      <th>1</th>\n",
       "      <td>9</td>\n",
       "      <td>truck</td>\n",
       "      <td>154</td>\n",
       "      <td>177</td>\n",
       "      <td>187</td>\n",
       "      <td>126</td>\n",
       "      <td>137</td>\n",
       "      <td>136</td>\n",
       "      <td>105</td>\n",
       "      <td>104</td>\n",
       "      <td>...</td>\n",
       "      <td>136</td>\n",
       "      <td>143</td>\n",
       "      <td>133</td>\n",
       "      <td>139</td>\n",
       "      <td>143</td>\n",
       "      <td>134</td>\n",
       "      <td>142</td>\n",
       "      <td>143</td>\n",
       "      <td>133</td>\n",
       "      <td>144</td>\n",
       "    </tr>\n",
       "    <tr>\n",
       "      <th>2</th>\n",
       "      <td>9</td>\n",
       "      <td>truck</td>\n",
       "      <td>255</td>\n",
       "      <td>255</td>\n",
       "      <td>255</td>\n",
       "      <td>253</td>\n",
       "      <td>253</td>\n",
       "      <td>253</td>\n",
       "      <td>253</td>\n",
       "      <td>253</td>\n",
       "      <td>...</td>\n",
       "      <td>79</td>\n",
       "      <td>78</td>\n",
       "      <td>85</td>\n",
       "      <td>83</td>\n",
       "      <td>79</td>\n",
       "      <td>85</td>\n",
       "      <td>83</td>\n",
       "      <td>80</td>\n",
       "      <td>86</td>\n",
       "      <td>84</td>\n",
       "    </tr>\n",
       "    <tr>\n",
       "      <th>3</th>\n",
       "      <td>4</td>\n",
       "      <td>deer</td>\n",
       "      <td>28</td>\n",
       "      <td>25</td>\n",
       "      <td>10</td>\n",
       "      <td>37</td>\n",
       "      <td>34</td>\n",
       "      <td>19</td>\n",
       "      <td>38</td>\n",
       "      <td>35</td>\n",
       "      <td>...</td>\n",
       "      <td>38</td>\n",
       "      <td>54</td>\n",
       "      <td>47</td>\n",
       "      <td>28</td>\n",
       "      <td>63</td>\n",
       "      <td>56</td>\n",
       "      <td>37</td>\n",
       "      <td>72</td>\n",
       "      <td>65</td>\n",
       "      <td>46</td>\n",
       "    </tr>\n",
       "    <tr>\n",
       "      <th>4</th>\n",
       "      <td>1</td>\n",
       "      <td>automobile</td>\n",
       "      <td>170</td>\n",
       "      <td>180</td>\n",
       "      <td>198</td>\n",
       "      <td>168</td>\n",
       "      <td>178</td>\n",
       "      <td>196</td>\n",
       "      <td>177</td>\n",
       "      <td>185</td>\n",
       "      <td>...</td>\n",
       "      <td>78</td>\n",
       "      <td>75</td>\n",
       "      <td>79</td>\n",
       "      <td>82</td>\n",
       "      <td>71</td>\n",
       "      <td>75</td>\n",
       "      <td>78</td>\n",
       "      <td>73</td>\n",
       "      <td>77</td>\n",
       "      <td>80</td>\n",
       "    </tr>\n",
       "  </tbody>\n",
       "</table>\n",
       "<p>5 rows × 3074 columns</p>\n",
       "</div>"
      ],
      "text/plain": [
       "   Class  Class Name    0    1    2    3    4    5    6    7  ...  3062  3063  \\\n",
       "0      6        frog   59   62   63   43   46   45   50   48  ...   104   216   \n",
       "1      9       truck  154  177  187  126  137  136  105  104  ...   136   143   \n",
       "2      9       truck  255  255  255  253  253  253  253  253  ...    79    78   \n",
       "3      4        deer   28   25   10   37   34   19   38   35  ...    38    54   \n",
       "4      1  automobile  170  180  198  168  178  196  177  185  ...    78    75   \n",
       "\n",
       "   3064  3065  3066  3067  3068  3069  3070  3071  \n",
       "0   184   140   151   118    84   123    92    72  \n",
       "1   133   139   143   134   142   143   133   144  \n",
       "2    85    83    79    85    83    80    86    84  \n",
       "3    47    28    63    56    37    72    65    46  \n",
       "4    79    82    71    75    78    73    77    80  \n",
       "\n",
       "[5 rows x 3074 columns]"
      ]
     },
     "execution_count": 4,
     "metadata": {},
     "output_type": "execute_result"
    }
   ],
   "source": [
    "train_data.head()"
   ]
  },
  {
   "cell_type": "code",
   "execution_count": 5,
   "metadata": {},
   "outputs": [
    {
     "data": {
      "text/html": [
       "<div>\n",
       "<style scoped>\n",
       "    .dataframe tbody tr th:only-of-type {\n",
       "        vertical-align: middle;\n",
       "    }\n",
       "\n",
       "    .dataframe tbody tr th {\n",
       "        vertical-align: top;\n",
       "    }\n",
       "\n",
       "    .dataframe thead th {\n",
       "        text-align: right;\n",
       "    }\n",
       "</style>\n",
       "<table border=\"1\" class=\"dataframe\">\n",
       "  <thead>\n",
       "    <tr style=\"text-align: right;\">\n",
       "      <th></th>\n",
       "      <th>Class</th>\n",
       "      <th>Class Name</th>\n",
       "      <th>0</th>\n",
       "      <th>1</th>\n",
       "      <th>2</th>\n",
       "      <th>3</th>\n",
       "      <th>4</th>\n",
       "      <th>5</th>\n",
       "      <th>6</th>\n",
       "      <th>7</th>\n",
       "      <th>...</th>\n",
       "      <th>3062</th>\n",
       "      <th>3063</th>\n",
       "      <th>3064</th>\n",
       "      <th>3065</th>\n",
       "      <th>3066</th>\n",
       "      <th>3067</th>\n",
       "      <th>3068</th>\n",
       "      <th>3069</th>\n",
       "      <th>3070</th>\n",
       "      <th>3071</th>\n",
       "    </tr>\n",
       "  </thead>\n",
       "  <tbody>\n",
       "    <tr>\n",
       "      <th>0</th>\n",
       "      <td>3</td>\n",
       "      <td>cat</td>\n",
       "      <td>158</td>\n",
       "      <td>112</td>\n",
       "      <td>49</td>\n",
       "      <td>159</td>\n",
       "      <td>111</td>\n",
       "      <td>47</td>\n",
       "      <td>165</td>\n",
       "      <td>116</td>\n",
       "      <td>...</td>\n",
       "      <td>145</td>\n",
       "      <td>24</td>\n",
       "      <td>77</td>\n",
       "      <td>124</td>\n",
       "      <td>34</td>\n",
       "      <td>84</td>\n",
       "      <td>129</td>\n",
       "      <td>21</td>\n",
       "      <td>67</td>\n",
       "      <td>110</td>\n",
       "    </tr>\n",
       "    <tr>\n",
       "      <th>1</th>\n",
       "      <td>8</td>\n",
       "      <td>ship</td>\n",
       "      <td>235</td>\n",
       "      <td>235</td>\n",
       "      <td>235</td>\n",
       "      <td>231</td>\n",
       "      <td>231</td>\n",
       "      <td>231</td>\n",
       "      <td>232</td>\n",
       "      <td>232</td>\n",
       "      <td>...</td>\n",
       "      <td>163</td>\n",
       "      <td>168</td>\n",
       "      <td>183</td>\n",
       "      <td>178</td>\n",
       "      <td>180</td>\n",
       "      <td>195</td>\n",
       "      <td>191</td>\n",
       "      <td>186</td>\n",
       "      <td>200</td>\n",
       "      <td>199</td>\n",
       "    </tr>\n",
       "    <tr>\n",
       "      <th>2</th>\n",
       "      <td>8</td>\n",
       "      <td>ship</td>\n",
       "      <td>158</td>\n",
       "      <td>190</td>\n",
       "      <td>222</td>\n",
       "      <td>158</td>\n",
       "      <td>187</td>\n",
       "      <td>218</td>\n",
       "      <td>139</td>\n",
       "      <td>166</td>\n",
       "      <td>...</td>\n",
       "      <td>37</td>\n",
       "      <td>5</td>\n",
       "      <td>6</td>\n",
       "      <td>8</td>\n",
       "      <td>4</td>\n",
       "      <td>5</td>\n",
       "      <td>3</td>\n",
       "      <td>7</td>\n",
       "      <td>8</td>\n",
       "      <td>7</td>\n",
       "    </tr>\n",
       "    <tr>\n",
       "      <th>3</th>\n",
       "      <td>0</td>\n",
       "      <td>airplane</td>\n",
       "      <td>155</td>\n",
       "      <td>156</td>\n",
       "      <td>149</td>\n",
       "      <td>167</td>\n",
       "      <td>176</td>\n",
       "      <td>187</td>\n",
       "      <td>176</td>\n",
       "      <td>179</td>\n",
       "      <td>...</td>\n",
       "      <td>53</td>\n",
       "      <td>60</td>\n",
       "      <td>63</td>\n",
       "      <td>50</td>\n",
       "      <td>64</td>\n",
       "      <td>65</td>\n",
       "      <td>52</td>\n",
       "      <td>73</td>\n",
       "      <td>68</td>\n",
       "      <td>50</td>\n",
       "    </tr>\n",
       "    <tr>\n",
       "      <th>4</th>\n",
       "      <td>6</td>\n",
       "      <td>frog</td>\n",
       "      <td>65</td>\n",
       "      <td>68</td>\n",
       "      <td>50</td>\n",
       "      <td>70</td>\n",
       "      <td>81</td>\n",
       "      <td>64</td>\n",
       "      <td>48</td>\n",
       "      <td>64</td>\n",
       "      <td>...</td>\n",
       "      <td>147</td>\n",
       "      <td>143</td>\n",
       "      <td>179</td>\n",
       "      <td>136</td>\n",
       "      <td>154</td>\n",
       "      <td>185</td>\n",
       "      <td>146</td>\n",
       "      <td>128</td>\n",
       "      <td>156</td>\n",
       "      <td>117</td>\n",
       "    </tr>\n",
       "  </tbody>\n",
       "</table>\n",
       "<p>5 rows × 3074 columns</p>\n",
       "</div>"
      ],
      "text/plain": [
       "   Class Class Name    0    1    2    3    4    5    6    7  ...  3062  3063  \\\n",
       "0      3        cat  158  112   49  159  111   47  165  116  ...   145    24   \n",
       "1      8       ship  235  235  235  231  231  231  232  232  ...   163   168   \n",
       "2      8       ship  158  190  222  158  187  218  139  166  ...    37     5   \n",
       "3      0   airplane  155  156  149  167  176  187  176  179  ...    53    60   \n",
       "4      6       frog   65   68   50   70   81   64   48   64  ...   147   143   \n",
       "\n",
       "   3064  3065  3066  3067  3068  3069  3070  3071  \n",
       "0    77   124    34    84   129    21    67   110  \n",
       "1   183   178   180   195   191   186   200   199  \n",
       "2     6     8     4     5     3     7     8     7  \n",
       "3    63    50    64    65    52    73    68    50  \n",
       "4   179   136   154   185   146   128   156   117  \n",
       "\n",
       "[5 rows x 3074 columns]"
      ]
     },
     "execution_count": 5,
     "metadata": {},
     "output_type": "execute_result"
    }
   ],
   "source": [
    "test_data.head()"
   ]
  },
  {
   "cell_type": "code",
   "execution_count": 6,
   "metadata": {},
   "outputs": [
    {
     "name": "stdout",
     "output_type": "stream",
     "text": [
      "(50000, 3072)\n",
      "(50000, 2)\n"
     ]
    }
   ],
   "source": [
    "x_train = train_data.iloc[:, 2:]\n",
    "print(x_train.shape)\n",
    "y_train = train_data.iloc[:, [0, 1]]\n",
    "print(y_train.shape)"
   ]
  },
  {
   "cell_type": "code",
   "execution_count": 7,
   "metadata": {},
   "outputs": [
    {
     "name": "stdout",
     "output_type": "stream",
     "text": [
      "(10000, 3072)\n",
      "(10000, 2)\n"
     ]
    }
   ],
   "source": [
    "x_test = test_data.iloc[:, 2:]\n",
    "print(x_test.shape)\n",
    "y_test = test_data.iloc[:, [0, 1]]\n",
    "print(y_test.shape)"
   ]
  },
  {
   "cell_type": "code",
   "execution_count": 8,
   "metadata": {},
   "outputs": [],
   "source": [
    "x_train = np.array(x_train)\n",
    "x_test = np.array(x_test)"
   ]
  },
  {
   "cell_type": "code",
   "execution_count": 9,
   "metadata": {},
   "outputs": [
    {
     "name": "stdout",
     "output_type": "stream",
     "text": [
      "(50000, 3072)\n",
      "(10000, 3072)\n"
     ]
    }
   ],
   "source": [
    "print(x_train.shape)\n",
    "print(x_test.shape)"
   ]
  },
  {
   "cell_type": "code",
   "execution_count": 10,
   "metadata": {
    "scrolled": true
   },
   "outputs": [
    {
     "name": "stdout",
     "output_type": "stream",
     "text": [
      "(50000, 3072)\n",
      "(10000, 3072)\n"
     ]
    }
   ],
   "source": [
    "x_train = x_train.astype('float32')/255\n",
    "x_test = x_test.astype('float32')/255\n",
    "print(x_train.shape)\n",
    "print(x_test.shape)"
   ]
  },
  {
   "cell_type": "markdown",
   "metadata": {},
   "source": [
    "## Adding some noise"
   ]
  },
  {
   "cell_type": "code",
   "execution_count": 11,
   "metadata": {},
   "outputs": [
    {
     "name": "stdout",
     "output_type": "stream",
     "text": [
      "(50000, 3072)\n",
      "(10000, 3072)\n"
     ]
    }
   ],
   "source": [
    "x_train_noisy = x_train + np.random.normal(loc = 0.0, scale = 0.5, size = x_train.shape)\n",
    "x_train_noisy = np.clip(x_train_noisy, 0., 1.)\n",
    "\n",
    "x_test_noisy = x_test + np.random.normal(loc = 0.0, scale = 0.5, size = x_test.shape)\n",
    "x_test_noisy = np.clip(x_test_noisy, 0., 1.)\n",
    "\n",
    "print(x_train_noisy.shape)\n",
    "print(x_test_noisy.shape)"
   ]
  },
  {
   "cell_type": "code",
   "execution_count": 12,
   "metadata": {},
   "outputs": [],
   "source": [
    "input_img = Input(shape = (3072, ))\n",
    "encoded = Dense(units = 128, activation = 'relu')(input_img)\n",
    "encoded = Dense(units = 128, activation = 'relu')(encoded)\n",
    "encoded = Dense(units = 128, activation = 'relu')(encoded)\n",
    "encoded = Dense(units = 64, activation = 'relu')(encoded)\n",
    "encoded = Dense(units = 64, activation = 'relu')(encoded)\n",
    "encoded = Dense(units = 64, activation = 'relu')(encoded)\n",
    "encoded = Dense(units = 32, activation = 'relu')(encoded)\n",
    "decoded = Dense(units = 64, activation = 'relu')(encoded)\n",
    "decoded = Dense(units = 64, activation = 'relu')(decoded)\n",
    "decoded = Dense(units = 64, activation = 'relu')(decoded)\n",
    "decoded = Dense(units = 128, activation = 'relu')(decoded)\n",
    "decoded = Dense(units = 128, activation = 'relu')(decoded)\n",
    "decoded = Dense(units = 128, activation = 'relu')(decoded)\n",
    "decoded = Dense(units = 3072, activation = 'tanh')(decoded)"
   ]
  },
  {
   "cell_type": "code",
   "execution_count": 13,
   "metadata": {},
   "outputs": [],
   "source": [
    "autoencoder = Model(input_img, decoded)\n",
    "encoder = Model(input_img, encoded)"
   ]
  },
  {
   "cell_type": "code",
   "execution_count": 14,
   "metadata": {
    "scrolled": true
   },
   "outputs": [
    {
     "name": "stdout",
     "output_type": "stream",
     "text": [
      "Model: \"model_1\"\n",
      "_________________________________________________________________\n",
      "Layer (type)                 Output Shape              Param #   \n",
      "=================================================================\n",
      "input_1 (InputLayer)         (None, 3072)              0         \n",
      "_________________________________________________________________\n",
      "dense_1 (Dense)              (None, 128)               393344    \n",
      "_________________________________________________________________\n",
      "dense_2 (Dense)              (None, 128)               16512     \n",
      "_________________________________________________________________\n",
      "dense_3 (Dense)              (None, 128)               16512     \n",
      "_________________________________________________________________\n",
      "dense_4 (Dense)              (None, 64)                8256      \n",
      "_________________________________________________________________\n",
      "dense_5 (Dense)              (None, 64)                4160      \n",
      "_________________________________________________________________\n",
      "dense_6 (Dense)              (None, 64)                4160      \n",
      "_________________________________________________________________\n",
      "dense_7 (Dense)              (None, 32)                2080      \n",
      "_________________________________________________________________\n",
      "dense_8 (Dense)              (None, 64)                2112      \n",
      "_________________________________________________________________\n",
      "dense_9 (Dense)              (None, 64)                4160      \n",
      "_________________________________________________________________\n",
      "dense_10 (Dense)             (None, 64)                4160      \n",
      "_________________________________________________________________\n",
      "dense_11 (Dense)             (None, 128)               8320      \n",
      "_________________________________________________________________\n",
      "dense_12 (Dense)             (None, 128)               16512     \n",
      "_________________________________________________________________\n",
      "dense_13 (Dense)             (None, 128)               16512     \n",
      "_________________________________________________________________\n",
      "dense_14 (Dense)             (None, 3072)              396288    \n",
      "=================================================================\n",
      "Total params: 893,088\n",
      "Trainable params: 893,088\n",
      "Non-trainable params: 0\n",
      "_________________________________________________________________\n"
     ]
    }
   ],
   "source": [
    "autoencoder.summary()"
   ]
  },
  {
   "cell_type": "code",
   "execution_count": 15,
   "metadata": {
    "scrolled": true
   },
   "outputs": [
    {
     "name": "stdout",
     "output_type": "stream",
     "text": [
      "Model: \"model_2\"\n",
      "_________________________________________________________________\n",
      "Layer (type)                 Output Shape              Param #   \n",
      "=================================================================\n",
      "input_1 (InputLayer)         (None, 3072)              0         \n",
      "_________________________________________________________________\n",
      "dense_1 (Dense)              (None, 128)               393344    \n",
      "_________________________________________________________________\n",
      "dense_2 (Dense)              (None, 128)               16512     \n",
      "_________________________________________________________________\n",
      "dense_3 (Dense)              (None, 128)               16512     \n",
      "_________________________________________________________________\n",
      "dense_4 (Dense)              (None, 64)                8256      \n",
      "_________________________________________________________________\n",
      "dense_5 (Dense)              (None, 64)                4160      \n",
      "_________________________________________________________________\n",
      "dense_6 (Dense)              (None, 64)                4160      \n",
      "_________________________________________________________________\n",
      "dense_7 (Dense)              (None, 32)                2080      \n",
      "=================================================================\n",
      "Total params: 445,024\n",
      "Trainable params: 445,024\n",
      "Non-trainable params: 0\n",
      "_________________________________________________________________\n"
     ]
    }
   ],
   "source": [
    "encoder.summary()"
   ]
  },
  {
   "cell_type": "code",
   "execution_count": 16,
   "metadata": {
    "scrolled": true
   },
   "outputs": [
    {
     "name": "stdout",
     "output_type": "stream",
     "text": [
      "Train on 50000 samples, validate on 10000 samples\n",
      "Epoch 1/50\n",
      "50000/50000 [==============================] - 14s 280us/step - loss: 0.2112 - accuracy: 2.2000e-04 - val_loss: 0.1449 - val_accuracy: 0.0014\n",
      "Epoch 2/50\n",
      "50000/50000 [==============================] - 14s 271us/step - loss: 0.1421 - accuracy: 0.0012 - val_loss: 0.1428 - val_accuracy: 2.0000e-04\n",
      "Epoch 3/50\n",
      "50000/50000 [==============================] - 14s 275us/step - loss: 0.1390 - accuracy: 0.0011 - val_loss: 0.1358 - val_accuracy: 7.0000e-04\n",
      "Epoch 4/50\n",
      "50000/50000 [==============================] - 14s 275us/step - loss: 0.1378 - accuracy: 9.8000e-04 - val_loss: 0.1364 - val_accuracy: 0.0027\n",
      "Epoch 5/50\n",
      "50000/50000 [==============================] - 10s 199us/step - loss: 0.1371 - accuracy: 0.0011 - val_loss: 0.1374 - val_accuracy: 2.0000e-04\n",
      "Epoch 6/50\n",
      "50000/50000 [==============================] - 9s 180us/step - loss: 0.1369 - accuracy: 9.8000e-04 - val_loss: 0.1359 - val_accuracy: 0.0040\n",
      "Epoch 7/50\n",
      "50000/50000 [==============================] - 9s 174us/step - loss: 0.1366 - accuracy: 0.0010 - val_loss: 0.1367 - val_accuracy: 8.0000e-04\n",
      "Epoch 8/50\n",
      "50000/50000 [==============================] - 12s 233us/step - loss: 0.1364 - accuracy: 9.4000e-04 - val_loss: 0.1371 - val_accuracy: 9.0000e-04\n",
      "Epoch 9/50\n",
      "50000/50000 [==============================] - 12s 244us/step - loss: 0.1363 - accuracy: 0.0013 - val_loss: 0.1369 - val_accuracy: 4.0000e-04\n",
      "Epoch 10/50\n",
      "50000/50000 [==============================] - 12s 234us/step - loss: 0.1362 - accuracy: 8.4000e-04 - val_loss: 0.1346 - val_accuracy: 0.0000e+00\n",
      "Epoch 11/50\n",
      "50000/50000 [==============================] - 13s 266us/step - loss: 0.1361 - accuracy: 9.8000e-04 - val_loss: 0.1354 - val_accuracy: 7.0000e-04\n",
      "Epoch 12/50\n",
      "50000/50000 [==============================] - 13s 260us/step - loss: 0.1359 - accuracy: 0.0011 - val_loss: 0.1368 - val_accuracy: 3.0000e-04\n",
      "Epoch 13/50\n",
      "50000/50000 [==============================] - 12s 243us/step - loss: 0.1358 - accuracy: 0.0013 - val_loss: 0.1364 - val_accuracy: 0.0033\n",
      "Epoch 14/50\n",
      "50000/50000 [==============================] - 9s 186us/step - loss: 0.1358 - accuracy: 0.0013 - val_loss: 0.1345 - val_accuracy: 6.0000e-04\n",
      "Epoch 15/50\n",
      "50000/50000 [==============================] - 9s 179us/step - loss: 0.1358 - accuracy: 0.0013 - val_loss: 0.1364 - val_accuracy: 7.0000e-04\n",
      "Epoch 16/50\n",
      "50000/50000 [==============================] - 10s 192us/step - loss: 0.1358 - accuracy: 8.0000e-04 - val_loss: 0.1352 - val_accuracy: 9.0000e-04\n",
      "Epoch 17/50\n",
      "50000/50000 [==============================] - 10s 194us/step - loss: 0.1358 - accuracy: 8.2000e-04 - val_loss: 0.1356 - val_accuracy: 6.0000e-04\n",
      "Epoch 18/50\n",
      "50000/50000 [==============================] - 9s 186us/step - loss: 0.1357 - accuracy: 0.0010 - val_loss: 0.1360 - val_accuracy: 7.0000e-04\n",
      "Epoch 19/50\n",
      "50000/50000 [==============================] - 9s 180us/step - loss: 0.1356 - accuracy: 0.0010 - val_loss: 0.1353 - val_accuracy: 7.0000e-04\n",
      "Epoch 20/50\n",
      "50000/50000 [==============================] - 9s 178us/step - loss: 0.1356 - accuracy: 8.4000e-04 - val_loss: 0.1355 - val_accuracy: 0.0034\n",
      "Epoch 21/50\n",
      "50000/50000 [==============================] - 9s 182us/step - loss: 0.1354 - accuracy: 0.0014 - val_loss: 0.1345 - val_accuracy: 1.0000e-04\n",
      "Epoch 22/50\n",
      "50000/50000 [==============================] - 10s 192us/step - loss: 0.1353 - accuracy: 5.4000e-04 - val_loss: 0.1350 - val_accuracy: 3.0000e-04\n",
      "Epoch 23/50\n",
      "50000/50000 [==============================] - 18s 356us/step - loss: 0.1354 - accuracy: 0.0012 - val_loss: 0.1343 - val_accuracy: 1.0000e-04\n",
      "Epoch 24/50\n",
      "50000/50000 [==============================] - 18s 356us/step - loss: 0.1353 - accuracy: 8.8000e-04 - val_loss: 0.1356 - val_accuracy: 0.0022\n",
      "Epoch 25/50\n",
      "50000/50000 [==============================] - 11s 215us/step - loss: 0.1352 - accuracy: 0.0012 - val_loss: 0.1359 - val_accuracy: 0.0013\n",
      "Epoch 26/50\n",
      "50000/50000 [==============================] - 11s 225us/step - loss: 0.1353 - accuracy: 5.2000e-04 - val_loss: 0.1346 - val_accuracy: 0.0014\n",
      "Epoch 27/50\n",
      "50000/50000 [==============================] - 13s 260us/step - loss: 0.1352 - accuracy: 8.4000e-04 - val_loss: 0.1349 - val_accuracy: 0.0000e+00\n",
      "Epoch 28/50\n",
      "50000/50000 [==============================] - 12s 243us/step - loss: 0.1351 - accuracy: 6.6000e-04 - val_loss: 0.1352 - val_accuracy: 0.0013\n",
      "Epoch 29/50\n",
      "50000/50000 [==============================] - 12s 249us/step - loss: 0.1350 - accuracy: 8.8000e-04 - val_loss: 0.1351 - val_accuracy: 1.0000e-04\n",
      "Epoch 30/50\n",
      "50000/50000 [==============================] - 13s 257us/step - loss: 0.1351 - accuracy: 7.2000e-04 - val_loss: 0.1348 - val_accuracy: 0.0014\n",
      "Epoch 31/50\n",
      "50000/50000 [==============================] - 12s 247us/step - loss: 0.1349 - accuracy: 9.6000e-04 - val_loss: 0.1341 - val_accuracy: 3.0000e-04\n",
      "Epoch 32/50\n",
      "50000/50000 [==============================] - 14s 276us/step - loss: 0.1349 - accuracy: 3.6000e-04 - val_loss: 0.1341 - val_accuracy: 0.0017\n",
      "Epoch 33/50\n",
      "50000/50000 [==============================] - 14s 280us/step - loss: 0.1349 - accuracy: 5.4000e-04 - val_loss: 0.1342 - val_accuracy: 0.0010\n",
      "Epoch 34/50\n",
      "50000/50000 [==============================] - 14s 276us/step - loss: 0.1347 - accuracy: 5.2000e-04 - val_loss: 0.1345 - val_accuracy: 0.0013\n",
      "Epoch 35/50\n",
      "50000/50000 [==============================] - 15s 295us/step - loss: 0.1346 - accuracy: 4.4000e-04 - val_loss: 0.1344 - val_accuracy: 5.0000e-04\n",
      "Epoch 36/50\n",
      "50000/50000 [==============================] - 15s 296us/step - loss: 0.1345 - accuracy: 1.0000e-04 - val_loss: 0.1339 - val_accuracy: 0.0000e+00\n",
      "Epoch 37/50\n",
      "50000/50000 [==============================] - 14s 272us/step - loss: 0.1342 - accuracy: 2.6000e-04 - val_loss: 0.1333 - val_accuracy: 0.0000e+00\n",
      "Epoch 38/50\n",
      "50000/50000 [==============================] - 13s 269us/step - loss: 0.1337 - accuracy: 2.0000e-05 - val_loss: 0.1347 - val_accuracy: 1.0000e-04\n",
      "Epoch 39/50\n",
      "50000/50000 [==============================] - 13s 269us/step - loss: 0.1331 - accuracy: 8.0000e-05 - val_loss: 0.1323 - val_accuracy: 1.0000e-04\n",
      "Epoch 40/50\n",
      "50000/50000 [==============================] - 13s 269us/step - loss: 0.1326 - accuracy: 1.0000e-04 - val_loss: 0.1325 - val_accuracy: 2.0000e-04\n",
      "Epoch 41/50\n",
      "50000/50000 [==============================] - 14s 273us/step - loss: 0.1323 - accuracy: 1.6000e-04 - val_loss: 0.1322 - val_accuracy: 0.0000e+00\n",
      "Epoch 42/50\n",
      "50000/50000 [==============================] - 13s 270us/step - loss: 0.1320 - accuracy: 1.6000e-04 - val_loss: 0.1325 - val_accuracy: 0.0000e+00\n",
      "Epoch 43/50\n",
      "50000/50000 [==============================] - 14s 272us/step - loss: 0.1319 - accuracy: 1.8000e-04 - val_loss: 0.1313 - val_accuracy: 0.0000e+00\n",
      "Epoch 44/50\n",
      "50000/50000 [==============================] - 13s 270us/step - loss: 0.1316 - accuracy: 1.6000e-04 - val_loss: 0.1318 - val_accuracy: 0.0000e+00\n",
      "Epoch 45/50\n",
      "50000/50000 [==============================] - 14s 271us/step - loss: 0.1315 - accuracy: 8.0000e-05 - val_loss: 0.1311 - val_accuracy: 2.0000e-04\n",
      "Epoch 46/50\n",
      "50000/50000 [==============================] - 13s 269us/step - loss: 0.1315 - accuracy: 1.6000e-04 - val_loss: 0.1314 - val_accuracy: 0.0000e+00\n",
      "Epoch 47/50\n",
      "50000/50000 [==============================] - 14s 270us/step - loss: 0.1315 - accuracy: 6.0000e-05 - val_loss: 0.1325 - val_accuracy: 1.0000e-04\n",
      "Epoch 48/50\n",
      "50000/50000 [==============================] - 14s 289us/step - loss: 0.1314 - accuracy: 1.2000e-04 - val_loss: 0.1312 - val_accuracy: 3.0000e-04\n",
      "Epoch 49/50\n",
      "50000/50000 [==============================] - 14s 289us/step - loss: 0.1314 - accuracy: 1.2000e-04 - val_loss: 0.1310 - val_accuracy: 0.0000e+00\n",
      "Epoch 50/50\n",
      "50000/50000 [==============================] - 14s 279us/step - loss: 0.1314 - accuracy: 2.0000e-04 - val_loss: 0.1311 - val_accuracy: 0.0000e+00\n"
     ]
    },
    {
     "data": {
      "text/plain": [
       "<keras.callbacks.callbacks.History at 0x13bcb8550>"
      ]
     },
     "execution_count": 16,
     "metadata": {},
     "output_type": "execute_result"
    }
   ],
   "source": [
    "autoencoder.compile(optimizer = 'adadelta', loss = 'mse', metrics = ['accuracy'])\n",
    "autoencoder.fit(x_train_noisy, x_train_noisy, epochs = 50, batch_size = 256, shuffle = True, validation_data = [x_test_noisy, x_test_noisy])"
   ]
  },
  {
   "cell_type": "code",
   "execution_count": 17,
   "metadata": {},
   "outputs": [],
   "source": [
    "encoded_test_data = encoder.predict(x_test_noisy)\n",
    "predicted_test_data = autoencoder.predict(x_test_noisy)"
   ]
  },
  {
   "cell_type": "code",
   "execution_count": 18,
   "metadata": {},
   "outputs": [
    {
     "data": {
      "text/plain": [
       "(10000, 32)"
      ]
     },
     "execution_count": 18,
     "metadata": {},
     "output_type": "execute_result"
    }
   ],
   "source": [
    "encoded_test_data.shape"
   ]
  },
  {
   "cell_type": "code",
   "execution_count": 19,
   "metadata": {
    "scrolled": true
   },
   "outputs": [
    {
     "data": {
      "text/html": [
       "<div>\n",
       "<style scoped>\n",
       "    .dataframe tbody tr th:only-of-type {\n",
       "        vertical-align: middle;\n",
       "    }\n",
       "\n",
       "    .dataframe tbody tr th {\n",
       "        vertical-align: top;\n",
       "    }\n",
       "\n",
       "    .dataframe thead th {\n",
       "        text-align: right;\n",
       "    }\n",
       "</style>\n",
       "<table border=\"1\" class=\"dataframe\">\n",
       "  <thead>\n",
       "    <tr style=\"text-align: right;\">\n",
       "      <th></th>\n",
       "      <th>Class</th>\n",
       "      <th>Class Name</th>\n",
       "    </tr>\n",
       "  </thead>\n",
       "  <tbody>\n",
       "    <tr>\n",
       "      <th>0</th>\n",
       "      <td>3</td>\n",
       "      <td>cat</td>\n",
       "    </tr>\n",
       "    <tr>\n",
       "      <th>1</th>\n",
       "      <td>8</td>\n",
       "      <td>ship</td>\n",
       "    </tr>\n",
       "    <tr>\n",
       "      <th>2</th>\n",
       "      <td>8</td>\n",
       "      <td>ship</td>\n",
       "    </tr>\n",
       "    <tr>\n",
       "      <th>3</th>\n",
       "      <td>0</td>\n",
       "      <td>airplane</td>\n",
       "    </tr>\n",
       "    <tr>\n",
       "      <th>4</th>\n",
       "      <td>6</td>\n",
       "      <td>frog</td>\n",
       "    </tr>\n",
       "    <tr>\n",
       "      <th>...</th>\n",
       "      <td>...</td>\n",
       "      <td>...</td>\n",
       "    </tr>\n",
       "    <tr>\n",
       "      <th>9995</th>\n",
       "      <td>8</td>\n",
       "      <td>ship</td>\n",
       "    </tr>\n",
       "    <tr>\n",
       "      <th>9996</th>\n",
       "      <td>3</td>\n",
       "      <td>cat</td>\n",
       "    </tr>\n",
       "    <tr>\n",
       "      <th>9997</th>\n",
       "      <td>5</td>\n",
       "      <td>dog</td>\n",
       "    </tr>\n",
       "    <tr>\n",
       "      <th>9998</th>\n",
       "      <td>1</td>\n",
       "      <td>automobile</td>\n",
       "    </tr>\n",
       "    <tr>\n",
       "      <th>9999</th>\n",
       "      <td>7</td>\n",
       "      <td>horse</td>\n",
       "    </tr>\n",
       "  </tbody>\n",
       "</table>\n",
       "<p>10000 rows × 2 columns</p>\n",
       "</div>"
      ],
      "text/plain": [
       "      Class  Class Name\n",
       "0         3         cat\n",
       "1         8        ship\n",
       "2         8        ship\n",
       "3         0    airplane\n",
       "4         6        frog\n",
       "...     ...         ...\n",
       "9995      8        ship\n",
       "9996      3         cat\n",
       "9997      5         dog\n",
       "9998      1  automobile\n",
       "9999      7       horse\n",
       "\n",
       "[10000 rows x 2 columns]"
      ]
     },
     "execution_count": 19,
     "metadata": {},
     "output_type": "execute_result"
    }
   ],
   "source": [
    "y_test"
   ]
  },
  {
   "cell_type": "code",
   "execution_count": 20,
   "metadata": {},
   "outputs": [
    {
     "data": {
      "text/plain": [
       "(10000, 34)"
      ]
     },
     "execution_count": 20,
     "metadata": {},
     "output_type": "execute_result"
    }
   ],
   "source": [
    "encoded_test_data_df = pd.DataFrame(encoded_test_data)\n",
    "final_encoded_test_data_df = pd.concat([y_test, encoded_test_data_df], axis = 1)\n",
    "final_encoded_test_data_df.shape"
   ]
  },
  {
   "cell_type": "code",
   "execution_count": 21,
   "metadata": {},
   "outputs": [],
   "source": [
    "datadir = '/Users/sidv88/Documents/Data_Management_2/Denoised_Encoded_Data/'\n",
    "final_encoded_test_data_df.to_csv(datadir + 'Denoising_Encoders_Test_RTADM.csv', index = False)"
   ]
  },
  {
   "cell_type": "code",
   "execution_count": 22,
   "metadata": {},
   "outputs": [
    {
     "name": "stdout",
     "output_type": "stream",
     "text": [
      "Enter one of these values ['cat' 'ship' 'airplane' 'frog' 'automobile' 'truck' 'dog' 'horse' 'deer'\n",
      " 'bird'] : frog\n"
     ]
    }
   ],
   "source": [
    "input_val = input(\"Enter one of these values {} : \".format(final_encoded_test_data_df['Class Name'].unique()))"
   ]
  },
  {
   "cell_type": "code",
   "execution_count": 23,
   "metadata": {},
   "outputs": [
    {
     "name": "stdout",
     "output_type": "stream",
     "text": [
      "Enter a number between 0 and 999 : 7\n"
     ]
    }
   ],
   "source": [
    "input_num = input(\"Enter a number between 0 and 999 : \")"
   ]
  },
  {
   "cell_type": "code",
   "execution_count": 24,
   "metadata": {},
   "outputs": [
    {
     "name": "stdout",
     "output_type": "stream",
     "text": [
      "10000\n",
      "10000\n"
     ]
    }
   ],
   "source": [
    "from numpy import dot\n",
    "from numpy.linalg import norm\n",
    "\n",
    "cosine_similarity = []\n",
    "cosine_distance = []\n",
    "\n",
    "for i in range(len(x_test_noisy)):\n",
    "    a = final_encoded_test_data_df.loc[final_encoded_test_data_df['Class Name'] == input_val].iloc[int(input_num), 2:]\n",
    "    b = final_encoded_test_data_df.iloc[i, 2:]\n",
    "    cos_sim = dot(a, b)/(norm(a) * norm(b))\n",
    "    cos_dist = 1 - cos_sim\n",
    "    cosine_similarity.append(cos_sim)\n",
    "    cosine_distance.append(cos_dist)\n",
    "print(len(cosine_similarity))\n",
    "print(len(cosine_distance))"
   ]
  },
  {
   "cell_type": "code",
   "execution_count": 25,
   "metadata": {},
   "outputs": [],
   "source": [
    "final_encoded_test_data_df['Cosine Similarity'] = cosine_similarity\n",
    "final_encoded_test_data_df['Cosine Distance'] = cosine_distance"
   ]
  },
  {
   "cell_type": "code",
   "execution_count": 26,
   "metadata": {},
   "outputs": [
    {
     "data": {
      "text/html": [
       "<div>\n",
       "<style scoped>\n",
       "    .dataframe tbody tr th:only-of-type {\n",
       "        vertical-align: middle;\n",
       "    }\n",
       "\n",
       "    .dataframe tbody tr th {\n",
       "        vertical-align: top;\n",
       "    }\n",
       "\n",
       "    .dataframe thead th {\n",
       "        text-align: right;\n",
       "    }\n",
       "</style>\n",
       "<table border=\"1\" class=\"dataframe\">\n",
       "  <thead>\n",
       "    <tr style=\"text-align: right;\">\n",
       "      <th></th>\n",
       "      <th>Class</th>\n",
       "      <th>Class Name</th>\n",
       "      <th>0</th>\n",
       "      <th>1</th>\n",
       "      <th>2</th>\n",
       "      <th>3</th>\n",
       "      <th>4</th>\n",
       "      <th>5</th>\n",
       "      <th>6</th>\n",
       "      <th>7</th>\n",
       "      <th>...</th>\n",
       "      <th>24</th>\n",
       "      <th>25</th>\n",
       "      <th>26</th>\n",
       "      <th>27</th>\n",
       "      <th>28</th>\n",
       "      <th>29</th>\n",
       "      <th>30</th>\n",
       "      <th>31</th>\n",
       "      <th>Cosine Similarity</th>\n",
       "      <th>Cosine Distance</th>\n",
       "    </tr>\n",
       "  </thead>\n",
       "  <tbody>\n",
       "    <tr>\n",
       "      <th>43</th>\n",
       "      <td>6</td>\n",
       "      <td>frog</td>\n",
       "      <td>0.0</td>\n",
       "      <td>0.553508</td>\n",
       "      <td>1.294668</td>\n",
       "      <td>0.257238</td>\n",
       "      <td>0.0</td>\n",
       "      <td>0.876145</td>\n",
       "      <td>1.585949</td>\n",
       "      <td>0.000000</td>\n",
       "      <td>...</td>\n",
       "      <td>0.028824</td>\n",
       "      <td>0.883991</td>\n",
       "      <td>0.0</td>\n",
       "      <td>0.107154</td>\n",
       "      <td>0.0</td>\n",
       "      <td>0.0</td>\n",
       "      <td>0.015883</td>\n",
       "      <td>0.0</td>\n",
       "      <td>1.000000</td>\n",
       "      <td>-1.192093e-07</td>\n",
       "    </tr>\n",
       "    <tr>\n",
       "      <th>2263</th>\n",
       "      <td>6</td>\n",
       "      <td>frog</td>\n",
       "      <td>0.0</td>\n",
       "      <td>0.645225</td>\n",
       "      <td>1.449646</td>\n",
       "      <td>0.276364</td>\n",
       "      <td>0.0</td>\n",
       "      <td>1.011810</td>\n",
       "      <td>1.786875</td>\n",
       "      <td>0.000000</td>\n",
       "      <td>...</td>\n",
       "      <td>0.048275</td>\n",
       "      <td>1.011123</td>\n",
       "      <td>0.0</td>\n",
       "      <td>0.108155</td>\n",
       "      <td>0.0</td>\n",
       "      <td>0.0</td>\n",
       "      <td>0.036074</td>\n",
       "      <td>0.0</td>\n",
       "      <td>0.999927</td>\n",
       "      <td>7.295609e-05</td>\n",
       "    </tr>\n",
       "    <tr>\n",
       "      <th>9945</th>\n",
       "      <td>7</td>\n",
       "      <td>horse</td>\n",
       "      <td>0.0</td>\n",
       "      <td>0.614197</td>\n",
       "      <td>1.402679</td>\n",
       "      <td>0.298496</td>\n",
       "      <td>0.0</td>\n",
       "      <td>0.967564</td>\n",
       "      <td>1.711186</td>\n",
       "      <td>0.000000</td>\n",
       "      <td>...</td>\n",
       "      <td>0.016674</td>\n",
       "      <td>0.935052</td>\n",
       "      <td>0.0</td>\n",
       "      <td>0.086991</td>\n",
       "      <td>0.0</td>\n",
       "      <td>0.0</td>\n",
       "      <td>0.036762</td>\n",
       "      <td>0.0</td>\n",
       "      <td>0.999875</td>\n",
       "      <td>1.249909e-04</td>\n",
       "    </tr>\n",
       "    <tr>\n",
       "      <th>7256</th>\n",
       "      <td>4</td>\n",
       "      <td>deer</td>\n",
       "      <td>0.0</td>\n",
       "      <td>0.598101</td>\n",
       "      <td>1.326708</td>\n",
       "      <td>0.230031</td>\n",
       "      <td>0.0</td>\n",
       "      <td>0.898448</td>\n",
       "      <td>1.587486</td>\n",
       "      <td>0.000000</td>\n",
       "      <td>...</td>\n",
       "      <td>0.044969</td>\n",
       "      <td>0.892830</td>\n",
       "      <td>0.0</td>\n",
       "      <td>0.112752</td>\n",
       "      <td>0.0</td>\n",
       "      <td>0.0</td>\n",
       "      <td>0.029985</td>\n",
       "      <td>0.0</td>\n",
       "      <td>0.999850</td>\n",
       "      <td>1.499653e-04</td>\n",
       "    </tr>\n",
       "    <tr>\n",
       "      <th>9007</th>\n",
       "      <td>2</td>\n",
       "      <td>bird</td>\n",
       "      <td>0.0</td>\n",
       "      <td>0.572111</td>\n",
       "      <td>1.303407</td>\n",
       "      <td>0.213293</td>\n",
       "      <td>0.0</td>\n",
       "      <td>0.867361</td>\n",
       "      <td>1.582174</td>\n",
       "      <td>0.000000</td>\n",
       "      <td>...</td>\n",
       "      <td>0.051000</td>\n",
       "      <td>0.900356</td>\n",
       "      <td>0.0</td>\n",
       "      <td>0.087793</td>\n",
       "      <td>0.0</td>\n",
       "      <td>0.0</td>\n",
       "      <td>0.026164</td>\n",
       "      <td>0.0</td>\n",
       "      <td>0.999839</td>\n",
       "      <td>1.614690e-04</td>\n",
       "    </tr>\n",
       "    <tr>\n",
       "      <th>...</th>\n",
       "      <td>...</td>\n",
       "      <td>...</td>\n",
       "      <td>...</td>\n",
       "      <td>...</td>\n",
       "      <td>...</td>\n",
       "      <td>...</td>\n",
       "      <td>...</td>\n",
       "      <td>...</td>\n",
       "      <td>...</td>\n",
       "      <td>...</td>\n",
       "      <td>...</td>\n",
       "      <td>...</td>\n",
       "      <td>...</td>\n",
       "      <td>...</td>\n",
       "      <td>...</td>\n",
       "      <td>...</td>\n",
       "      <td>...</td>\n",
       "      <td>...</td>\n",
       "      <td>...</td>\n",
       "      <td>...</td>\n",
       "      <td>...</td>\n",
       "    </tr>\n",
       "    <tr>\n",
       "      <th>2460</th>\n",
       "      <td>9</td>\n",
       "      <td>truck</td>\n",
       "      <td>0.0</td>\n",
       "      <td>0.324677</td>\n",
       "      <td>0.465318</td>\n",
       "      <td>0.039111</td>\n",
       "      <td>0.0</td>\n",
       "      <td>1.656587</td>\n",
       "      <td>0.602059</td>\n",
       "      <td>0.000000</td>\n",
       "      <td>...</td>\n",
       "      <td>0.000000</td>\n",
       "      <td>0.000000</td>\n",
       "      <td>0.0</td>\n",
       "      <td>0.000000</td>\n",
       "      <td>0.0</td>\n",
       "      <td>0.0</td>\n",
       "      <td>0.312394</td>\n",
       "      <td>0.0</td>\n",
       "      <td>0.768013</td>\n",
       "      <td>2.319866e-01</td>\n",
       "    </tr>\n",
       "    <tr>\n",
       "      <th>3169</th>\n",
       "      <td>9</td>\n",
       "      <td>truck</td>\n",
       "      <td>0.0</td>\n",
       "      <td>0.330686</td>\n",
       "      <td>0.381126</td>\n",
       "      <td>0.049286</td>\n",
       "      <td>0.0</td>\n",
       "      <td>1.370718</td>\n",
       "      <td>0.484825</td>\n",
       "      <td>0.000000</td>\n",
       "      <td>...</td>\n",
       "      <td>0.028451</td>\n",
       "      <td>0.000000</td>\n",
       "      <td>0.0</td>\n",
       "      <td>0.000000</td>\n",
       "      <td>0.0</td>\n",
       "      <td>0.0</td>\n",
       "      <td>0.246201</td>\n",
       "      <td>0.0</td>\n",
       "      <td>0.762162</td>\n",
       "      <td>2.378378e-01</td>\n",
       "    </tr>\n",
       "    <tr>\n",
       "      <th>6538</th>\n",
       "      <td>3</td>\n",
       "      <td>cat</td>\n",
       "      <td>0.0</td>\n",
       "      <td>0.332143</td>\n",
       "      <td>0.394530</td>\n",
       "      <td>0.097117</td>\n",
       "      <td>0.0</td>\n",
       "      <td>1.383688</td>\n",
       "      <td>0.473516</td>\n",
       "      <td>0.000000</td>\n",
       "      <td>...</td>\n",
       "      <td>0.000000</td>\n",
       "      <td>0.000000</td>\n",
       "      <td>0.0</td>\n",
       "      <td>0.000000</td>\n",
       "      <td>0.0</td>\n",
       "      <td>0.0</td>\n",
       "      <td>0.305912</td>\n",
       "      <td>0.0</td>\n",
       "      <td>0.761777</td>\n",
       "      <td>2.382227e-01</td>\n",
       "    </tr>\n",
       "    <tr>\n",
       "      <th>1180</th>\n",
       "      <td>3</td>\n",
       "      <td>cat</td>\n",
       "      <td>0.0</td>\n",
       "      <td>0.446504</td>\n",
       "      <td>0.467956</td>\n",
       "      <td>0.045951</td>\n",
       "      <td>0.0</td>\n",
       "      <td>1.762851</td>\n",
       "      <td>0.624240</td>\n",
       "      <td>0.000000</td>\n",
       "      <td>...</td>\n",
       "      <td>0.046852</td>\n",
       "      <td>0.000000</td>\n",
       "      <td>0.0</td>\n",
       "      <td>0.000000</td>\n",
       "      <td>0.0</td>\n",
       "      <td>0.0</td>\n",
       "      <td>0.346705</td>\n",
       "      <td>0.0</td>\n",
       "      <td>0.760876</td>\n",
       "      <td>2.391238e-01</td>\n",
       "    </tr>\n",
       "    <tr>\n",
       "      <th>5927</th>\n",
       "      <td>6</td>\n",
       "      <td>frog</td>\n",
       "      <td>0.0</td>\n",
       "      <td>0.115877</td>\n",
       "      <td>0.104153</td>\n",
       "      <td>0.000000</td>\n",
       "      <td>0.0</td>\n",
       "      <td>0.187814</td>\n",
       "      <td>0.043518</td>\n",
       "      <td>0.016005</td>\n",
       "      <td>...</td>\n",
       "      <td>0.000000</td>\n",
       "      <td>0.000000</td>\n",
       "      <td>0.0</td>\n",
       "      <td>0.000000</td>\n",
       "      <td>0.0</td>\n",
       "      <td>0.0</td>\n",
       "      <td>0.087590</td>\n",
       "      <td>0.0</td>\n",
       "      <td>0.714654</td>\n",
       "      <td>2.853459e-01</td>\n",
       "    </tr>\n",
       "  </tbody>\n",
       "</table>\n",
       "<p>10000 rows × 36 columns</p>\n",
       "</div>"
      ],
      "text/plain": [
       "      Class Class Name    0         1         2         3    4         5  \\\n",
       "43        6       frog  0.0  0.553508  1.294668  0.257238  0.0  0.876145   \n",
       "2263      6       frog  0.0  0.645225  1.449646  0.276364  0.0  1.011810   \n",
       "9945      7      horse  0.0  0.614197  1.402679  0.298496  0.0  0.967564   \n",
       "7256      4       deer  0.0  0.598101  1.326708  0.230031  0.0  0.898448   \n",
       "9007      2       bird  0.0  0.572111  1.303407  0.213293  0.0  0.867361   \n",
       "...     ...        ...  ...       ...       ...       ...  ...       ...   \n",
       "2460      9      truck  0.0  0.324677  0.465318  0.039111  0.0  1.656587   \n",
       "3169      9      truck  0.0  0.330686  0.381126  0.049286  0.0  1.370718   \n",
       "6538      3        cat  0.0  0.332143  0.394530  0.097117  0.0  1.383688   \n",
       "1180      3        cat  0.0  0.446504  0.467956  0.045951  0.0  1.762851   \n",
       "5927      6       frog  0.0  0.115877  0.104153  0.000000  0.0  0.187814   \n",
       "\n",
       "             6         7  ...        24        25   26        27   28   29  \\\n",
       "43    1.585949  0.000000  ...  0.028824  0.883991  0.0  0.107154  0.0  0.0   \n",
       "2263  1.786875  0.000000  ...  0.048275  1.011123  0.0  0.108155  0.0  0.0   \n",
       "9945  1.711186  0.000000  ...  0.016674  0.935052  0.0  0.086991  0.0  0.0   \n",
       "7256  1.587486  0.000000  ...  0.044969  0.892830  0.0  0.112752  0.0  0.0   \n",
       "9007  1.582174  0.000000  ...  0.051000  0.900356  0.0  0.087793  0.0  0.0   \n",
       "...        ...       ...  ...       ...       ...  ...       ...  ...  ...   \n",
       "2460  0.602059  0.000000  ...  0.000000  0.000000  0.0  0.000000  0.0  0.0   \n",
       "3169  0.484825  0.000000  ...  0.028451  0.000000  0.0  0.000000  0.0  0.0   \n",
       "6538  0.473516  0.000000  ...  0.000000  0.000000  0.0  0.000000  0.0  0.0   \n",
       "1180  0.624240  0.000000  ...  0.046852  0.000000  0.0  0.000000  0.0  0.0   \n",
       "5927  0.043518  0.016005  ...  0.000000  0.000000  0.0  0.000000  0.0  0.0   \n",
       "\n",
       "            30   31  Cosine Similarity  Cosine Distance  \n",
       "43    0.015883  0.0           1.000000    -1.192093e-07  \n",
       "2263  0.036074  0.0           0.999927     7.295609e-05  \n",
       "9945  0.036762  0.0           0.999875     1.249909e-04  \n",
       "7256  0.029985  0.0           0.999850     1.499653e-04  \n",
       "9007  0.026164  0.0           0.999839     1.614690e-04  \n",
       "...        ...  ...                ...              ...  \n",
       "2460  0.312394  0.0           0.768013     2.319866e-01  \n",
       "3169  0.246201  0.0           0.762162     2.378378e-01  \n",
       "6538  0.305912  0.0           0.761777     2.382227e-01  \n",
       "1180  0.346705  0.0           0.760876     2.391238e-01  \n",
       "5927  0.087590  0.0           0.714654     2.853459e-01  \n",
       "\n",
       "[10000 rows x 36 columns]"
      ]
     },
     "execution_count": 26,
     "metadata": {},
     "output_type": "execute_result"
    }
   ],
   "source": [
    "final_encoded_test_data_df.sort_values(by = ['Cosine Similarity'], ascending = False)"
   ]
  },
  {
   "cell_type": "code",
   "execution_count": 27,
   "metadata": {},
   "outputs": [],
   "source": [
    "cosine_index = final_encoded_test_data_df.sort_values(by = ['Cosine Similarity'], ascending = False).head(10).index"
   ]
  },
  {
   "cell_type": "code",
   "execution_count": 28,
   "metadata": {
    "scrolled": true
   },
   "outputs": [
    {
     "data": {
      "image/png": "[encoded data removed]",
      "text/plain": [
       "<Figure size 144x144 with 1 Axes>"
      ]
     },
     "metadata": {
      "needs_background": "light"
     },
     "output_type": "display_data"
    },
    {
     "data": {
      "image/png": "[encoded data removed]",
      "text/plain": [
       "<Figure size 144x144 with 1 Axes>"
      ]
     },
     "metadata": {
      "needs_background": "light"
     },
     "output_type": "display_data"
    },
    {
     "data": {
      "image/png": "[encoded data removed]",
      "text/plain": [
       "<Figure size 144x144 with 1 Axes>"
      ]
     },
     "metadata": {
      "needs_background": "light"
     },
     "output_type": "display_data"
    },
    {
     "data": {
      "image/png": "[encoded data removed]",
      "text/plain": [
       "<Figure size 144x144 with 1 Axes>"
      ]
     },
     "metadata": {
      "needs_background": "light"
     },
     "output_type": "display_data"
    },
    {
     "data": {
      "image/png": "[encoded data removed]",
      "text/plain": [
       "<Figure size 144x144 with 1 Axes>"
      ]
     },
     "metadata": {
      "needs_background": "light"
     },
     "output_type": "display_data"
    },
    {
     "data": {
      "image/png": "[encoded data removed]",
      "text/plain": [
       "<Figure size 144x144 with 1 Axes>"
      ]
     },
     "metadata": {
      "needs_background": "light"
     },
     "output_type": "display_data"
    },
    {
     "data": {
      "image/png": "[encoded data removed]",
      "text/plain": [
       "<Figure size 144x144 with 1 Axes>"
      ]
     },
     "metadata": {
      "needs_background": "light"
     },
     "output_type": "display_data"
    },
    {
     "data": {
      "image/png": "[encoded data removed]",
      "text/plain": [
       "<Figure size 144x144 with 1 Axes>"
      ]
     },
     "metadata": {
      "needs_background": "light"
     },
     "output_type": "display_data"
    },
    {
     "data": {
      "image/png": "[encoded data removed]",
      "text/plain": [
       "<Figure size 144x144 with 1 Axes>"
      ]
     },
     "metadata": {
      "needs_background": "light"
     },
     "output_type": "display_data"
    },
    {
     "data": {
      "image/png": "[encoded data removed]",
      "text/plain": [
       "<Figure size 144x144 with 1 Axes>"
      ]
     },
     "metadata": {
      "needs_background": "light"
     },
     "output_type": "display_data"
    }
   ],
   "source": [
    "for i in cosine_index:\n",
    "    plt.figure(figsize = (2, 2))\n",
    "    plt.imshow(x_test[i].reshape(32, 32, 3))\n",
    "    plt.xlabel(final_encoded_test_data_df['Class Name'][i] + ' with a Cosine Similarity of ' + str(final_encoded_test_data_df['Cosine Similarity'][i]) + ' from the queried image.')\n",
    "    plt.show()"
   ]
  },
  {
   "cell_type": "code",
   "execution_count": 29,
   "metadata": {},
   "outputs": [
    {
     "name": "stdout",
     "output_type": "stream",
     "text": [
      "10000\n"
     ]
    }
   ],
   "source": [
    "euclidean_distance = []\n",
    "\n",
    "for i in range(len(x_test)):\n",
    "    a = final_encoded_test_data_df.loc[final_encoded_test_data_df['Class Name'] == input_val].iloc[int(input_num), 2:]\n",
    "    b = final_encoded_test_data_df.iloc[i, 2:]\n",
    "    euc_dist = np.linalg.norm(a-b)\n",
    "    euclidean_distance.append(euc_dist)\n",
    "print(len(euclidean_distance))"
   ]
  },
  {
   "cell_type": "code",
   "execution_count": 30,
   "metadata": {},
   "outputs": [
    {
     "data": {
      "text/html": [
       "<div>\n",
       "<style scoped>\n",
       "    .dataframe tbody tr th:only-of-type {\n",
       "        vertical-align: middle;\n",
       "    }\n",
       "\n",
       "    .dataframe tbody tr th {\n",
       "        vertical-align: top;\n",
       "    }\n",
       "\n",
       "    .dataframe thead th {\n",
       "        text-align: right;\n",
       "    }\n",
       "</style>\n",
       "<table border=\"1\" class=\"dataframe\">\n",
       "  <thead>\n",
       "    <tr style=\"text-align: right;\">\n",
       "      <th></th>\n",
       "      <th>Class</th>\n",
       "      <th>Class Name</th>\n",
       "      <th>0</th>\n",
       "      <th>1</th>\n",
       "      <th>2</th>\n",
       "      <th>3</th>\n",
       "      <th>4</th>\n",
       "      <th>5</th>\n",
       "      <th>6</th>\n",
       "      <th>7</th>\n",
       "      <th>...</th>\n",
       "      <th>25</th>\n",
       "      <th>26</th>\n",
       "      <th>27</th>\n",
       "      <th>28</th>\n",
       "      <th>29</th>\n",
       "      <th>30</th>\n",
       "      <th>31</th>\n",
       "      <th>Cosine Similarity</th>\n",
       "      <th>Cosine Distance</th>\n",
       "      <th>Euclidean Distance</th>\n",
       "    </tr>\n",
       "  </thead>\n",
       "  <tbody>\n",
       "    <tr>\n",
       "      <th>43</th>\n",
       "      <td>6</td>\n",
       "      <td>frog</td>\n",
       "      <td>0.0</td>\n",
       "      <td>0.553508</td>\n",
       "      <td>1.294668</td>\n",
       "      <td>0.257238</td>\n",
       "      <td>0.0</td>\n",
       "      <td>0.876145</td>\n",
       "      <td>1.585949</td>\n",
       "      <td>0.0</td>\n",
       "      <td>...</td>\n",
       "      <td>0.883991</td>\n",
       "      <td>0.0</td>\n",
       "      <td>0.107154</td>\n",
       "      <td>0.0</td>\n",
       "      <td>0.0</td>\n",
       "      <td>0.015883</td>\n",
       "      <td>0.0</td>\n",
       "      <td>1.000000</td>\n",
       "      <td>-1.192093e-07</td>\n",
       "      <td>0.000000</td>\n",
       "    </tr>\n",
       "    <tr>\n",
       "      <th>9007</th>\n",
       "      <td>2</td>\n",
       "      <td>bird</td>\n",
       "      <td>0.0</td>\n",
       "      <td>0.572111</td>\n",
       "      <td>1.303407</td>\n",
       "      <td>0.213293</td>\n",
       "      <td>0.0</td>\n",
       "      <td>0.867361</td>\n",
       "      <td>1.582174</td>\n",
       "      <td>0.0</td>\n",
       "      <td>...</td>\n",
       "      <td>0.900356</td>\n",
       "      <td>0.0</td>\n",
       "      <td>0.087793</td>\n",
       "      <td>0.0</td>\n",
       "      <td>0.0</td>\n",
       "      <td>0.026164</td>\n",
       "      <td>0.0</td>\n",
       "      <td>0.999839</td>\n",
       "      <td>1.614690e-04</td>\n",
       "      <td>0.080354</td>\n",
       "    </tr>\n",
       "    <tr>\n",
       "      <th>7540</th>\n",
       "      <td>5</td>\n",
       "      <td>dog</td>\n",
       "      <td>0.0</td>\n",
       "      <td>0.557221</td>\n",
       "      <td>1.286017</td>\n",
       "      <td>0.232790</td>\n",
       "      <td>0.0</td>\n",
       "      <td>0.848942</td>\n",
       "      <td>1.552154</td>\n",
       "      <td>0.0</td>\n",
       "      <td>...</td>\n",
       "      <td>0.831849</td>\n",
       "      <td>0.0</td>\n",
       "      <td>0.105721</td>\n",
       "      <td>0.0</td>\n",
       "      <td>0.0</td>\n",
       "      <td>0.031828</td>\n",
       "      <td>0.0</td>\n",
       "      <td>0.999783</td>\n",
       "      <td>2.170205e-04</td>\n",
       "      <td>0.103578</td>\n",
       "    </tr>\n",
       "    <tr>\n",
       "      <th>6495</th>\n",
       "      <td>7</td>\n",
       "      <td>horse</td>\n",
       "      <td>0.0</td>\n",
       "      <td>0.533905</td>\n",
       "      <td>1.267181</td>\n",
       "      <td>0.276162</td>\n",
       "      <td>0.0</td>\n",
       "      <td>0.895263</td>\n",
       "      <td>1.596884</td>\n",
       "      <td>0.0</td>\n",
       "      <td>...</td>\n",
       "      <td>0.829594</td>\n",
       "      <td>0.0</td>\n",
       "      <td>0.163674</td>\n",
       "      <td>0.0</td>\n",
       "      <td>0.0</td>\n",
       "      <td>0.032096</td>\n",
       "      <td>0.0</td>\n",
       "      <td>0.999672</td>\n",
       "      <td>3.277659e-04</td>\n",
       "      <td>0.108499</td>\n",
       "    </tr>\n",
       "    <tr>\n",
       "      <th>7256</th>\n",
       "      <td>4</td>\n",
       "      <td>deer</td>\n",
       "      <td>0.0</td>\n",
       "      <td>0.598101</td>\n",
       "      <td>1.326708</td>\n",
       "      <td>0.230031</td>\n",
       "      <td>0.0</td>\n",
       "      <td>0.898448</td>\n",
       "      <td>1.587486</td>\n",
       "      <td>0.0</td>\n",
       "      <td>...</td>\n",
       "      <td>0.892830</td>\n",
       "      <td>0.0</td>\n",
       "      <td>0.112752</td>\n",
       "      <td>0.0</td>\n",
       "      <td>0.0</td>\n",
       "      <td>0.029985</td>\n",
       "      <td>0.0</td>\n",
       "      <td>0.999850</td>\n",
       "      <td>1.499653e-04</td>\n",
       "      <td>0.113506</td>\n",
       "    </tr>\n",
       "    <tr>\n",
       "      <th>...</th>\n",
       "      <td>...</td>\n",
       "      <td>...</td>\n",
       "      <td>...</td>\n",
       "      <td>...</td>\n",
       "      <td>...</td>\n",
       "      <td>...</td>\n",
       "      <td>...</td>\n",
       "      <td>...</td>\n",
       "      <td>...</td>\n",
       "      <td>...</td>\n",
       "      <td>...</td>\n",
       "      <td>...</td>\n",
       "      <td>...</td>\n",
       "      <td>...</td>\n",
       "      <td>...</td>\n",
       "      <td>...</td>\n",
       "      <td>...</td>\n",
       "      <td>...</td>\n",
       "      <td>...</td>\n",
       "      <td>...</td>\n",
       "      <td>...</td>\n",
       "    </tr>\n",
       "    <tr>\n",
       "      <th>2456</th>\n",
       "      <td>8</td>\n",
       "      <td>ship</td>\n",
       "      <td>0.0</td>\n",
       "      <td>1.188999</td>\n",
       "      <td>2.499032</td>\n",
       "      <td>0.780584</td>\n",
       "      <td>0.0</td>\n",
       "      <td>3.904706</td>\n",
       "      <td>3.209142</td>\n",
       "      <td>0.0</td>\n",
       "      <td>...</td>\n",
       "      <td>1.321728</td>\n",
       "      <td>0.0</td>\n",
       "      <td>0.000000</td>\n",
       "      <td>0.0</td>\n",
       "      <td>0.0</td>\n",
       "      <td>0.593217</td>\n",
       "      <td>0.0</td>\n",
       "      <td>0.940605</td>\n",
       "      <td>5.939454e-02</td>\n",
       "      <td>6.935221</td>\n",
       "    </tr>\n",
       "    <tr>\n",
       "      <th>8903</th>\n",
       "      <td>0</td>\n",
       "      <td>airplane</td>\n",
       "      <td>0.0</td>\n",
       "      <td>1.225430</td>\n",
       "      <td>2.784202</td>\n",
       "      <td>0.740534</td>\n",
       "      <td>0.0</td>\n",
       "      <td>3.650062</td>\n",
       "      <td>3.701632</td>\n",
       "      <td>0.0</td>\n",
       "      <td>...</td>\n",
       "      <td>1.601249</td>\n",
       "      <td>0.0</td>\n",
       "      <td>0.047915</td>\n",
       "      <td>0.0</td>\n",
       "      <td>0.0</td>\n",
       "      <td>0.425410</td>\n",
       "      <td>0.0</td>\n",
       "      <td>0.967940</td>\n",
       "      <td>3.206003e-02</td>\n",
       "      <td>6.966875</td>\n",
       "    </tr>\n",
       "    <tr>\n",
       "      <th>1664</th>\n",
       "      <td>0</td>\n",
       "      <td>airplane</td>\n",
       "      <td>0.0</td>\n",
       "      <td>1.242484</td>\n",
       "      <td>2.804533</td>\n",
       "      <td>0.776815</td>\n",
       "      <td>0.0</td>\n",
       "      <td>3.624944</td>\n",
       "      <td>3.732230</td>\n",
       "      <td>0.0</td>\n",
       "      <td>...</td>\n",
       "      <td>1.613238</td>\n",
       "      <td>0.0</td>\n",
       "      <td>0.075040</td>\n",
       "      <td>0.0</td>\n",
       "      <td>0.0</td>\n",
       "      <td>0.435067</td>\n",
       "      <td>0.0</td>\n",
       "      <td>0.969737</td>\n",
       "      <td>3.026253e-02</td>\n",
       "      <td>6.976357</td>\n",
       "    </tr>\n",
       "    <tr>\n",
       "      <th>3444</th>\n",
       "      <td>0</td>\n",
       "      <td>airplane</td>\n",
       "      <td>0.0</td>\n",
       "      <td>1.289576</td>\n",
       "      <td>3.005929</td>\n",
       "      <td>0.761462</td>\n",
       "      <td>0.0</td>\n",
       "      <td>3.557236</td>\n",
       "      <td>3.923761</td>\n",
       "      <td>0.0</td>\n",
       "      <td>...</td>\n",
       "      <td>1.746005</td>\n",
       "      <td>0.0</td>\n",
       "      <td>0.048017</td>\n",
       "      <td>0.0</td>\n",
       "      <td>0.0</td>\n",
       "      <td>0.414354</td>\n",
       "      <td>0.0</td>\n",
       "      <td>0.976858</td>\n",
       "      <td>2.314186e-02</td>\n",
       "      <td>7.214303</td>\n",
       "    </tr>\n",
       "    <tr>\n",
       "      <th>1078</th>\n",
       "      <td>0</td>\n",
       "      <td>airplane</td>\n",
       "      <td>0.0</td>\n",
       "      <td>1.287112</td>\n",
       "      <td>2.864211</td>\n",
       "      <td>0.773027</td>\n",
       "      <td>0.0</td>\n",
       "      <td>3.723434</td>\n",
       "      <td>3.832628</td>\n",
       "      <td>0.0</td>\n",
       "      <td>...</td>\n",
       "      <td>1.630940</td>\n",
       "      <td>0.0</td>\n",
       "      <td>0.095168</td>\n",
       "      <td>0.0</td>\n",
       "      <td>0.0</td>\n",
       "      <td>0.405084</td>\n",
       "      <td>0.0</td>\n",
       "      <td>0.969642</td>\n",
       "      <td>3.035790e-02</td>\n",
       "      <td>7.274117</td>\n",
       "    </tr>\n",
       "  </tbody>\n",
       "</table>\n",
       "<p>10000 rows × 37 columns</p>\n",
       "</div>"
      ],
      "text/plain": [
       "      Class Class Name    0         1         2         3    4         5  \\\n",
       "43        6       frog  0.0  0.553508  1.294668  0.257238  0.0  0.876145   \n",
       "9007      2       bird  0.0  0.572111  1.303407  0.213293  0.0  0.867361   \n",
       "7540      5        dog  0.0  0.557221  1.286017  0.232790  0.0  0.848942   \n",
       "6495      7      horse  0.0  0.533905  1.267181  0.276162  0.0  0.895263   \n",
       "7256      4       deer  0.0  0.598101  1.326708  0.230031  0.0  0.898448   \n",
       "...     ...        ...  ...       ...       ...       ...  ...       ...   \n",
       "2456      8       ship  0.0  1.188999  2.499032  0.780584  0.0  3.904706   \n",
       "8903      0   airplane  0.0  1.225430  2.784202  0.740534  0.0  3.650062   \n",
       "1664      0   airplane  0.0  1.242484  2.804533  0.776815  0.0  3.624944   \n",
       "3444      0   airplane  0.0  1.289576  3.005929  0.761462  0.0  3.557236   \n",
       "1078      0   airplane  0.0  1.287112  2.864211  0.773027  0.0  3.723434   \n",
       "\n",
       "             6    7  ...        25   26        27   28   29        30   31  \\\n",
       "43    1.585949  0.0  ...  0.883991  0.0  0.107154  0.0  0.0  0.015883  0.0   \n",
       "9007  1.582174  0.0  ...  0.900356  0.0  0.087793  0.0  0.0  0.026164  0.0   \n",
       "7540  1.552154  0.0  ...  0.831849  0.0  0.105721  0.0  0.0  0.031828  0.0   \n",
       "6495  1.596884  0.0  ...  0.829594  0.0  0.163674  0.0  0.0  0.032096  0.0   \n",
       "7256  1.587486  0.0  ...  0.892830  0.0  0.112752  0.0  0.0  0.029985  0.0   \n",
       "...        ...  ...  ...       ...  ...       ...  ...  ...       ...  ...   \n",
       "2456  3.209142  0.0  ...  1.321728  0.0  0.000000  0.0  0.0  0.593217  0.0   \n",
       "8903  3.701632  0.0  ...  1.601249  0.0  0.047915  0.0  0.0  0.425410  0.0   \n",
       "1664  3.732230  0.0  ...  1.613238  0.0  0.075040  0.0  0.0  0.435067  0.0   \n",
       "3444  3.923761  0.0  ...  1.746005  0.0  0.048017  0.0  0.0  0.414354  0.0   \n",
       "1078  3.832628  0.0  ...  1.630940  0.0  0.095168  0.0  0.0  0.405084  0.0   \n",
       "\n",
       "      Cosine Similarity  Cosine Distance  Euclidean Distance  \n",
       "43             1.000000    -1.192093e-07            0.000000  \n",
       "9007           0.999839     1.614690e-04            0.080354  \n",
       "7540           0.999783     2.170205e-04            0.103578  \n",
       "6495           0.999672     3.277659e-04            0.108499  \n",
       "7256           0.999850     1.499653e-04            0.113506  \n",
       "...                 ...              ...                 ...  \n",
       "2456           0.940605     5.939454e-02            6.935221  \n",
       "8903           0.967940     3.206003e-02            6.966875  \n",
       "1664           0.969737     3.026253e-02            6.976357  \n",
       "3444           0.976858     2.314186e-02            7.214303  \n",
       "1078           0.969642     3.035790e-02            7.274117  \n",
       "\n",
       "[10000 rows x 37 columns]"
      ]
     },
     "execution_count": 30,
     "metadata": {},
     "output_type": "execute_result"
    }
   ],
   "source": [
    "final_encoded_test_data_df['Euclidean Distance'] = euclidean_distance\n",
    "final_encoded_test_data_df.sort_values(by = ['Euclidean Distance'])"
   ]
  },
  {
   "cell_type": "code",
   "execution_count": 31,
   "metadata": {
    "scrolled": true
   },
   "outputs": [
    {
     "data": {
      "image/png": "[encoded data removed]",
      "text/plain": [
       "<Figure size 144x144 with 1 Axes>"
      ]
     },
     "metadata": {
      "needs_background": "light"
     },
     "output_type": "display_data"
    },
    {
     "data": {
      "image/png": "[encoded data removed]",
      "text/plain": [
       "<Figure size 144x144 with 1 Axes>"
      ]
     },
     "metadata": {
      "needs_background": "light"
     },
     "output_type": "display_data"
    },
    {
     "data": {
      "image/png": "[encoded data removed]",
      "text/plain": [
       "<Figure size 144x144 with 1 Axes>"
      ]
     },
     "metadata": {
      "needs_background": "light"
     },
     "output_type": "display_data"
    },
    {
     "data": {
      "image/png": "[encoded data removed]",
      "text/plain": [
       "<Figure size 144x144 with 1 Axes>"
      ]
     },
     "metadata": {
      "needs_background": "light"
     },
     "output_type": "display_data"
    },
    {
     "data": {
      "image/png": "[encoded data removed]",
      "text/plain": [
       "<Figure size 144x144 with 1 Axes>"
      ]
     },
     "metadata": {
      "needs_background": "light"
     },
     "output_type": "display_data"
    },
    {
     "data": {
      "image/png": "[encoded data removed]",
      "text/plain": [
       "<Figure size 144x144 with 1 Axes>"
      ]
     },
     "metadata": {
      "needs_background": "light"
     },
     "output_type": "display_data"
    },
    {
     "data": {
      "image/png": "[encoded data removed]",
      "text/plain": [
       "<Figure size 144x144 with 1 Axes>"
      ]
     },
     "metadata": {
      "needs_background": "light"
     },
     "output_type": "display_data"
    },
    {
     "data": {
      "image/png": "[encoded data removed]",
      "text/plain": [
       "<Figure size 144x144 with 1 Axes>"
      ]
     },
     "metadata": {
      "needs_background": "light"
     },
     "output_type": "display_data"
    },
    {
     "data": {
      "image/png": "[encoded data removed]",
      "text/plain": [
       "<Figure size 144x144 with 1 Axes>"
      ]
     },
     "metadata": {
      "needs_background": "light"
     },
     "output_type": "display_data"
    },
    {
     "data": {
      "image/png": "[encoded data removed]",
      "text/plain": [
       "<Figure size 144x144 with 1 Axes>"
      ]
     },
     "metadata": {
      "needs_background": "light"
     },
     "output_type": "display_data"
    }
   ],
   "source": [
    "euclidean_index = final_encoded_test_data_df.sort_values(by = ['Euclidean Distance']).head(10).index\n",
    "\n",
    "for i in euclidean_index:\n",
    "    plt.figure(figsize = (2, 2))\n",
    "    plt.imshow(x_test[i].reshape(32, 32, 3))\n",
    "    plt.xlabel(final_encoded_test_data_df['Class Name'][i] + ' with an Euclidean Distance of ' + str(final_encoded_test_data_df['Euclidean Distance'][i]) + ' from the queried image.')\n",
    "    plt.show()"
   ]
  },
  {
   "cell_type": "code",
   "execution_count": null,
   "metadata": {},
   "outputs": [],
   "source": []
  }
 ],
 "metadata": {
  "kernelspec": {
   "display_name": "Python 3",
   "language": "python",
   "name": "python3"
  },
  "language_info": {
   "codemirror_mode": {
    "name": "ipython",
    "version": 3
   },
   "file_extension": ".py",
   "mimetype": "text/x-python",
   "name": "python",
   "nbconvert_exporter": "python",
   "pygments_lexer": "ipython3",
   "version": "3.6.9"
  }
 },
 "nbformat": 4,
 "nbformat_minor": 2
}
