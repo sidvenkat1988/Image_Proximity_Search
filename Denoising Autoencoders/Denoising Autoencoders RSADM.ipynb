{
 "cells": [
  {
   "cell_type": "code",
   "execution_count": 2,
   "metadata": {},
   "outputs": [],
   "source": [
    "from keras.layers import Input, Dense\n",
    "from keras.models import Model\n",
    "\n",
    "import numpy as np\n",
    "import pandas as pd\n",
    "import matplotlib.pyplot as plt\n",
    "%matplotlib inline"
   ]
  },
  {
   "cell_type": "code",
   "execution_count": 3,
   "metadata": {},
   "outputs": [
    {
     "name": "stdout",
     "output_type": "stream",
     "text": [
      "(50000, 3074)\n",
      "(10000, 3074)\n"
     ]
    }
   ],
   "source": [
    "datadir = '/Users/sidv88/Documents/Data_Management_2/Data/'\n",
    "train_data = pd.read_csv(datadir + 'train_rgb.csv')\n",
    "test_data = pd.read_csv(datadir + 'test_rgb.csv')\n",
    "print(train_data.shape)\n",
    "print(test_data.shape)"
   ]
  },
  {
   "cell_type": "code",
   "execution_count": 4,
   "metadata": {},
   "outputs": [
    {
     "data": {
      "text/html": [
       "<div>\n",
       "<style scoped>\n",
       "    .dataframe tbody tr th:only-of-type {\n",
       "        vertical-align: middle;\n",
       "    }\n",
       "\n",
       "    .dataframe tbody tr th {\n",
       "        vertical-align: top;\n",
       "    }\n",
       "\n",
       "    .dataframe thead th {\n",
       "        text-align: right;\n",
       "    }\n",
       "</style>\n",
       "<table border=\"1\" class=\"dataframe\">\n",
       "  <thead>\n",
       "    <tr style=\"text-align: right;\">\n",
       "      <th></th>\n",
       "      <th>Class</th>\n",
       "      <th>Class Name</th>\n",
       "      <th>0</th>\n",
       "      <th>1</th>\n",
       "      <th>2</th>\n",
       "      <th>3</th>\n",
       "      <th>4</th>\n",
       "      <th>5</th>\n",
       "      <th>6</th>\n",
       "      <th>7</th>\n",
       "      <th>...</th>\n",
       "      <th>3062</th>\n",
       "      <th>3063</th>\n",
       "      <th>3064</th>\n",
       "      <th>3065</th>\n",
       "      <th>3066</th>\n",
       "      <th>3067</th>\n",
       "      <th>3068</th>\n",
       "      <th>3069</th>\n",
       "      <th>3070</th>\n",
       "      <th>3071</th>\n",
       "    </tr>\n",
       "  </thead>\n",
       "  <tbody>\n",
       "    <tr>\n",
       "      <th>0</th>\n",
       "      <td>6</td>\n",
       "      <td>frog</td>\n",
       "      <td>59</td>\n",
       "      <td>62</td>\n",
       "      <td>63</td>\n",
       "      <td>43</td>\n",
       "      <td>46</td>\n",
       "      <td>45</td>\n",
       "      <td>50</td>\n",
       "      <td>48</td>\n",
       "      <td>...</td>\n",
       "      <td>104</td>\n",
       "      <td>216</td>\n",
       "      <td>184</td>\n",
       "      <td>140</td>\n",
       "      <td>151</td>\n",
       "      <td>118</td>\n",
       "      <td>84</td>\n",
       "      <td>123</td>\n",
       "      <td>92</td>\n",
       "      <td>72</td>\n",
       "    </tr>\n",
       "    <tr>\n",
       "      <th>1</th>\n",
       "      <td>9</td>\n",
       "      <td>truck</td>\n",
       "      <td>154</td>\n",
       "      <td>177</td>\n",
       "      <td>187</td>\n",
       "      <td>126</td>\n",
       "      <td>137</td>\n",
       "      <td>136</td>\n",
       "      <td>105</td>\n",
       "      <td>104</td>\n",
       "      <td>...</td>\n",
       "      <td>136</td>\n",
       "      <td>143</td>\n",
       "      <td>133</td>\n",
       "      <td>139</td>\n",
       "      <td>143</td>\n",
       "      <td>134</td>\n",
       "      <td>142</td>\n",
       "      <td>143</td>\n",
       "      <td>133</td>\n",
       "      <td>144</td>\n",
       "    </tr>\n",
       "    <tr>\n",
       "      <th>2</th>\n",
       "      <td>9</td>\n",
       "      <td>truck</td>\n",
       "      <td>255</td>\n",
       "      <td>255</td>\n",
       "      <td>255</td>\n",
       "      <td>253</td>\n",
       "      <td>253</td>\n",
       "      <td>253</td>\n",
       "      <td>253</td>\n",
       "      <td>253</td>\n",
       "      <td>...</td>\n",
       "      <td>79</td>\n",
       "      <td>78</td>\n",
       "      <td>85</td>\n",
       "      <td>83</td>\n",
       "      <td>79</td>\n",
       "      <td>85</td>\n",
       "      <td>83</td>\n",
       "      <td>80</td>\n",
       "      <td>86</td>\n",
       "      <td>84</td>\n",
       "    </tr>\n",
       "    <tr>\n",
       "      <th>3</th>\n",
       "      <td>4</td>\n",
       "      <td>deer</td>\n",
       "      <td>28</td>\n",
       "      <td>25</td>\n",
       "      <td>10</td>\n",
       "      <td>37</td>\n",
       "      <td>34</td>\n",
       "      <td>19</td>\n",
       "      <td>38</td>\n",
       "      <td>35</td>\n",
       "      <td>...</td>\n",
       "      <td>38</td>\n",
       "      <td>54</td>\n",
       "      <td>47</td>\n",
       "      <td>28</td>\n",
       "      <td>63</td>\n",
       "      <td>56</td>\n",
       "      <td>37</td>\n",
       "      <td>72</td>\n",
       "      <td>65</td>\n",
       "      <td>46</td>\n",
       "    </tr>\n",
       "    <tr>\n",
       "      <th>4</th>\n",
       "      <td>1</td>\n",
       "      <td>automobile</td>\n",
       "      <td>170</td>\n",
       "      <td>180</td>\n",
       "      <td>198</td>\n",
       "      <td>168</td>\n",
       "      <td>178</td>\n",
       "      <td>196</td>\n",
       "      <td>177</td>\n",
       "      <td>185</td>\n",
       "      <td>...</td>\n",
       "      <td>78</td>\n",
       "      <td>75</td>\n",
       "      <td>79</td>\n",
       "      <td>82</td>\n",
       "      <td>71</td>\n",
       "      <td>75</td>\n",
       "      <td>78</td>\n",
       "      <td>73</td>\n",
       "      <td>77</td>\n",
       "      <td>80</td>\n",
       "    </tr>\n",
       "  </tbody>\n",
       "</table>\n",
       "<p>5 rows × 3074 columns</p>\n",
       "</div>"
      ],
      "text/plain": [
       "   Class  Class Name    0    1    2    3    4    5    6    7  ...  3062  3063  \\\n",
       "0      6        frog   59   62   63   43   46   45   50   48  ...   104   216   \n",
       "1      9       truck  154  177  187  126  137  136  105  104  ...   136   143   \n",
       "2      9       truck  255  255  255  253  253  253  253  253  ...    79    78   \n",
       "3      4        deer   28   25   10   37   34   19   38   35  ...    38    54   \n",
       "4      1  automobile  170  180  198  168  178  196  177  185  ...    78    75   \n",
       "\n",
       "   3064  3065  3066  3067  3068  3069  3070  3071  \n",
       "0   184   140   151   118    84   123    92    72  \n",
       "1   133   139   143   134   142   143   133   144  \n",
       "2    85    83    79    85    83    80    86    84  \n",
       "3    47    28    63    56    37    72    65    46  \n",
       "4    79    82    71    75    78    73    77    80  \n",
       "\n",
       "[5 rows x 3074 columns]"
      ]
     },
     "execution_count": 4,
     "metadata": {},
     "output_type": "execute_result"
    }
   ],
   "source": [
    "train_data.head()"
   ]
  },
  {
   "cell_type": "code",
   "execution_count": 5,
   "metadata": {},
   "outputs": [
    {
     "data": {
      "text/html": [
       "<div>\n",
       "<style scoped>\n",
       "    .dataframe tbody tr th:only-of-type {\n",
       "        vertical-align: middle;\n",
       "    }\n",
       "\n",
       "    .dataframe tbody tr th {\n",
       "        vertical-align: top;\n",
       "    }\n",
       "\n",
       "    .dataframe thead th {\n",
       "        text-align: right;\n",
       "    }\n",
       "</style>\n",
       "<table border=\"1\" class=\"dataframe\">\n",
       "  <thead>\n",
       "    <tr style=\"text-align: right;\">\n",
       "      <th></th>\n",
       "      <th>Class</th>\n",
       "      <th>Class Name</th>\n",
       "      <th>0</th>\n",
       "      <th>1</th>\n",
       "      <th>2</th>\n",
       "      <th>3</th>\n",
       "      <th>4</th>\n",
       "      <th>5</th>\n",
       "      <th>6</th>\n",
       "      <th>7</th>\n",
       "      <th>...</th>\n",
       "      <th>3062</th>\n",
       "      <th>3063</th>\n",
       "      <th>3064</th>\n",
       "      <th>3065</th>\n",
       "      <th>3066</th>\n",
       "      <th>3067</th>\n",
       "      <th>3068</th>\n",
       "      <th>3069</th>\n",
       "      <th>3070</th>\n",
       "      <th>3071</th>\n",
       "    </tr>\n",
       "  </thead>\n",
       "  <tbody>\n",
       "    <tr>\n",
       "      <th>0</th>\n",
       "      <td>3</td>\n",
       "      <td>cat</td>\n",
       "      <td>158</td>\n",
       "      <td>112</td>\n",
       "      <td>49</td>\n",
       "      <td>159</td>\n",
       "      <td>111</td>\n",
       "      <td>47</td>\n",
       "      <td>165</td>\n",
       "      <td>116</td>\n",
       "      <td>...</td>\n",
       "      <td>145</td>\n",
       "      <td>24</td>\n",
       "      <td>77</td>\n",
       "      <td>124</td>\n",
       "      <td>34</td>\n",
       "      <td>84</td>\n",
       "      <td>129</td>\n",
       "      <td>21</td>\n",
       "      <td>67</td>\n",
       "      <td>110</td>\n",
       "    </tr>\n",
       "    <tr>\n",
       "      <th>1</th>\n",
       "      <td>8</td>\n",
       "      <td>ship</td>\n",
       "      <td>235</td>\n",
       "      <td>235</td>\n",
       "      <td>235</td>\n",
       "      <td>231</td>\n",
       "      <td>231</td>\n",
       "      <td>231</td>\n",
       "      <td>232</td>\n",
       "      <td>232</td>\n",
       "      <td>...</td>\n",
       "      <td>163</td>\n",
       "      <td>168</td>\n",
       "      <td>183</td>\n",
       "      <td>178</td>\n",
       "      <td>180</td>\n",
       "      <td>195</td>\n",
       "      <td>191</td>\n",
       "      <td>186</td>\n",
       "      <td>200</td>\n",
       "      <td>199</td>\n",
       "    </tr>\n",
       "    <tr>\n",
       "      <th>2</th>\n",
       "      <td>8</td>\n",
       "      <td>ship</td>\n",
       "      <td>158</td>\n",
       "      <td>190</td>\n",
       "      <td>222</td>\n",
       "      <td>158</td>\n",
       "      <td>187</td>\n",
       "      <td>218</td>\n",
       "      <td>139</td>\n",
       "      <td>166</td>\n",
       "      <td>...</td>\n",
       "      <td>37</td>\n",
       "      <td>5</td>\n",
       "      <td>6</td>\n",
       "      <td>8</td>\n",
       "      <td>4</td>\n",
       "      <td>5</td>\n",
       "      <td>3</td>\n",
       "      <td>7</td>\n",
       "      <td>8</td>\n",
       "      <td>7</td>\n",
       "    </tr>\n",
       "    <tr>\n",
       "      <th>3</th>\n",
       "      <td>0</td>\n",
       "      <td>airplane</td>\n",
       "      <td>155</td>\n",
       "      <td>156</td>\n",
       "      <td>149</td>\n",
       "      <td>167</td>\n",
       "      <td>176</td>\n",
       "      <td>187</td>\n",
       "      <td>176</td>\n",
       "      <td>179</td>\n",
       "      <td>...</td>\n",
       "      <td>53</td>\n",
       "      <td>60</td>\n",
       "      <td>63</td>\n",
       "      <td>50</td>\n",
       "      <td>64</td>\n",
       "      <td>65</td>\n",
       "      <td>52</td>\n",
       "      <td>73</td>\n",
       "      <td>68</td>\n",
       "      <td>50</td>\n",
       "    </tr>\n",
       "    <tr>\n",
       "      <th>4</th>\n",
       "      <td>6</td>\n",
       "      <td>frog</td>\n",
       "      <td>65</td>\n",
       "      <td>68</td>\n",
       "      <td>50</td>\n",
       "      <td>70</td>\n",
       "      <td>81</td>\n",
       "      <td>64</td>\n",
       "      <td>48</td>\n",
       "      <td>64</td>\n",
       "      <td>...</td>\n",
       "      <td>147</td>\n",
       "      <td>143</td>\n",
       "      <td>179</td>\n",
       "      <td>136</td>\n",
       "      <td>154</td>\n",
       "      <td>185</td>\n",
       "      <td>146</td>\n",
       "      <td>128</td>\n",
       "      <td>156</td>\n",
       "      <td>117</td>\n",
       "    </tr>\n",
       "  </tbody>\n",
       "</table>\n",
       "<p>5 rows × 3074 columns</p>\n",
       "</div>"
      ],
      "text/plain": [
       "   Class Class Name    0    1    2    3    4    5    6    7  ...  3062  3063  \\\n",
       "0      3        cat  158  112   49  159  111   47  165  116  ...   145    24   \n",
       "1      8       ship  235  235  235  231  231  231  232  232  ...   163   168   \n",
       "2      8       ship  158  190  222  158  187  218  139  166  ...    37     5   \n",
       "3      0   airplane  155  156  149  167  176  187  176  179  ...    53    60   \n",
       "4      6       frog   65   68   50   70   81   64   48   64  ...   147   143   \n",
       "\n",
       "   3064  3065  3066  3067  3068  3069  3070  3071  \n",
       "0    77   124    34    84   129    21    67   110  \n",
       "1   183   178   180   195   191   186   200   199  \n",
       "2     6     8     4     5     3     7     8     7  \n",
       "3    63    50    64    65    52    73    68    50  \n",
       "4   179   136   154   185   146   128   156   117  \n",
       "\n",
       "[5 rows x 3074 columns]"
      ]
     },
     "execution_count": 5,
     "metadata": {},
     "output_type": "execute_result"
    }
   ],
   "source": [
    "test_data.head()"
   ]
  },
  {
   "cell_type": "code",
   "execution_count": 6,
   "metadata": {},
   "outputs": [
    {
     "name": "stdout",
     "output_type": "stream",
     "text": [
      "(50000, 3072)\n",
      "(50000, 2)\n"
     ]
    }
   ],
   "source": [
    "x_train = train_data.iloc[:, 2:]\n",
    "print(x_train.shape)\n",
    "y_train = train_data.iloc[:, [0, 1]]\n",
    "print(y_train.shape)"
   ]
  },
  {
   "cell_type": "code",
   "execution_count": 7,
   "metadata": {},
   "outputs": [
    {
     "name": "stdout",
     "output_type": "stream",
     "text": [
      "(10000, 3072)\n",
      "(10000, 2)\n"
     ]
    }
   ],
   "source": [
    "x_test = test_data.iloc[:, 2:]\n",
    "print(x_test.shape)\n",
    "y_test = test_data.iloc[:, [0, 1]]\n",
    "print(y_test.shape)"
   ]
  },
  {
   "cell_type": "code",
   "execution_count": 8,
   "metadata": {},
   "outputs": [],
   "source": [
    "x_train = np.array(x_train)\n",
    "x_test = np.array(x_test)"
   ]
  },
  {
   "cell_type": "code",
   "execution_count": 9,
   "metadata": {},
   "outputs": [
    {
     "name": "stdout",
     "output_type": "stream",
     "text": [
      "(50000, 3072)\n",
      "(10000, 3072)\n"
     ]
    }
   ],
   "source": [
    "print(x_train.shape)\n",
    "print(x_test.shape)"
   ]
  },
  {
   "cell_type": "code",
   "execution_count": 10,
   "metadata": {
    "scrolled": true
   },
   "outputs": [
    {
     "name": "stdout",
     "output_type": "stream",
     "text": [
      "(50000, 3072)\n",
      "(10000, 3072)\n"
     ]
    }
   ],
   "source": [
    "x_train = x_train.astype('float32')/255\n",
    "x_test = x_test.astype('float32')/255\n",
    "print(x_train.shape)\n",
    "print(x_test.shape)"
   ]
  },
  {
   "cell_type": "markdown",
   "metadata": {},
   "source": [
    "## Adding some noise"
   ]
  },
  {
   "cell_type": "code",
   "execution_count": 11,
   "metadata": {},
   "outputs": [
    {
     "name": "stdout",
     "output_type": "stream",
     "text": [
      "(50000, 3072)\n",
      "(10000, 3072)\n"
     ]
    }
   ],
   "source": [
    "x_train_noisy = x_train + np.random.normal(loc = 0.0, scale = 0.5, size = x_train.shape)\n",
    "x_train_noisy = np.clip(x_train_noisy, 0., 1.)\n",
    "\n",
    "x_test_noisy = x_test + np.random.normal(loc = 0.0, scale = 0.5, size = x_test.shape)\n",
    "x_test_noisy = np.clip(x_test_noisy, 0., 1.)\n",
    "\n",
    "print(x_train_noisy.shape)\n",
    "print(x_test_noisy.shape)"
   ]
  },
  {
   "cell_type": "code",
   "execution_count": 12,
   "metadata": {},
   "outputs": [],
   "source": [
    "input_img = Input(shape = (3072, ))\n",
    "encoded = Dense(units = 128, activation = 'relu')(input_img)\n",
    "encoded = Dense(units = 128, activation = 'relu')(encoded)\n",
    "encoded = Dense(units = 128, activation = 'relu')(encoded)\n",
    "encoded = Dense(units = 64, activation = 'relu')(encoded)\n",
    "encoded = Dense(units = 64, activation = 'relu')(encoded)\n",
    "encoded = Dense(units = 64, activation = 'relu')(encoded)\n",
    "encoded = Dense(units = 32, activation = 'relu')(encoded)\n",
    "decoded = Dense(units = 64, activation = 'relu')(encoded)\n",
    "decoded = Dense(units = 64, activation = 'relu')(decoded)\n",
    "decoded = Dense(units = 64, activation = 'relu')(decoded)\n",
    "decoded = Dense(units = 128, activation = 'relu')(decoded)\n",
    "decoded = Dense(units = 128, activation = 'relu')(decoded)\n",
    "decoded = Dense(units = 128, activation = 'relu')(decoded)\n",
    "decoded = Dense(units = 3072, activation = 'sigmoid')(decoded)"
   ]
  },
  {
   "cell_type": "code",
   "execution_count": 13,
   "metadata": {},
   "outputs": [],
   "source": [
    "autoencoder = Model(input_img, decoded)\n",
    "encoder = Model(input_img, encoded)"
   ]
  },
  {
   "cell_type": "code",
   "execution_count": 14,
   "metadata": {
    "scrolled": true
   },
   "outputs": [
    {
     "name": "stdout",
     "output_type": "stream",
     "text": [
      "Model: \"model_1\"\n",
      "_________________________________________________________________\n",
      "Layer (type)                 Output Shape              Param #   \n",
      "=================================================================\n",
      "input_1 (InputLayer)         (None, 3072)              0         \n",
      "_________________________________________________________________\n",
      "dense_1 (Dense)              (None, 128)               393344    \n",
      "_________________________________________________________________\n",
      "dense_2 (Dense)              (None, 128)               16512     \n",
      "_________________________________________________________________\n",
      "dense_3 (Dense)              (None, 128)               16512     \n",
      "_________________________________________________________________\n",
      "dense_4 (Dense)              (None, 64)                8256      \n",
      "_________________________________________________________________\n",
      "dense_5 (Dense)              (None, 64)                4160      \n",
      "_________________________________________________________________\n",
      "dense_6 (Dense)              (None, 64)                4160      \n",
      "_________________________________________________________________\n",
      "dense_7 (Dense)              (None, 32)                2080      \n",
      "_________________________________________________________________\n",
      "dense_8 (Dense)              (None, 64)                2112      \n",
      "_________________________________________________________________\n",
      "dense_9 (Dense)              (None, 64)                4160      \n",
      "_________________________________________________________________\n",
      "dense_10 (Dense)             (None, 64)                4160      \n",
      "_________________________________________________________________\n",
      "dense_11 (Dense)             (None, 128)               8320      \n",
      "_________________________________________________________________\n",
      "dense_12 (Dense)             (None, 128)               16512     \n",
      "_________________________________________________________________\n",
      "dense_13 (Dense)             (None, 128)               16512     \n",
      "_________________________________________________________________\n",
      "dense_14 (Dense)             (None, 3072)              396288    \n",
      "=================================================================\n",
      "Total params: 893,088\n",
      "Trainable params: 893,088\n",
      "Non-trainable params: 0\n",
      "_________________________________________________________________\n"
     ]
    }
   ],
   "source": [
    "autoencoder.summary()"
   ]
  },
  {
   "cell_type": "code",
   "execution_count": 15,
   "metadata": {
    "scrolled": true
   },
   "outputs": [
    {
     "name": "stdout",
     "output_type": "stream",
     "text": [
      "Model: \"model_2\"\n",
      "_________________________________________________________________\n",
      "Layer (type)                 Output Shape              Param #   \n",
      "=================================================================\n",
      "input_1 (InputLayer)         (None, 3072)              0         \n",
      "_________________________________________________________________\n",
      "dense_1 (Dense)              (None, 128)               393344    \n",
      "_________________________________________________________________\n",
      "dense_2 (Dense)              (None, 128)               16512     \n",
      "_________________________________________________________________\n",
      "dense_3 (Dense)              (None, 128)               16512     \n",
      "_________________________________________________________________\n",
      "dense_4 (Dense)              (None, 64)                8256      \n",
      "_________________________________________________________________\n",
      "dense_5 (Dense)              (None, 64)                4160      \n",
      "_________________________________________________________________\n",
      "dense_6 (Dense)              (None, 64)                4160      \n",
      "_________________________________________________________________\n",
      "dense_7 (Dense)              (None, 32)                2080      \n",
      "=================================================================\n",
      "Total params: 445,024\n",
      "Trainable params: 445,024\n",
      "Non-trainable params: 0\n",
      "_________________________________________________________________\n"
     ]
    }
   ],
   "source": [
    "encoder.summary()"
   ]
  },
  {
   "cell_type": "code",
   "execution_count": 16,
   "metadata": {
    "scrolled": true
   },
   "outputs": [
    {
     "name": "stdout",
     "output_type": "stream",
     "text": [
      "Train on 50000 samples, validate on 10000 samples\n",
      "Epoch 1/50\n",
      "50000/50000 [==============================] - 12s 246us/step - loss: 0.1404 - accuracy: 4.4000e-04 - val_loss: 0.1404 - val_accuracy: 8.0000e-04\n",
      "Epoch 2/50\n",
      "50000/50000 [==============================] - 12s 237us/step - loss: 0.1404 - accuracy: 0.0015 - val_loss: 0.1404 - val_accuracy: 0.0022\n",
      "Epoch 3/50\n",
      "50000/50000 [==============================] - 9s 183us/step - loss: 0.1404 - accuracy: 0.0026 - val_loss: 0.1404 - val_accuracy: 0.0027\n",
      "Epoch 4/50\n",
      "50000/50000 [==============================] - 8s 151us/step - loss: 0.1404 - accuracy: 0.0028 - val_loss: 0.1404 - val_accuracy: 0.0027\n",
      "Epoch 5/50\n",
      "50000/50000 [==============================] - 7s 150us/step - loss: 0.1404 - accuracy: 0.0029 - val_loss: 0.1403 - val_accuracy: 0.0027\n",
      "Epoch 6/50\n",
      "50000/50000 [==============================] - 7s 150us/step - loss: 0.1404 - accuracy: 0.0029 - val_loss: 0.1403 - val_accuracy: 0.0027\n",
      "Epoch 7/50\n",
      "50000/50000 [==============================] - 8s 150us/step - loss: 0.1404 - accuracy: 0.0029 - val_loss: 0.1403 - val_accuracy: 0.0027\n",
      "Epoch 8/50\n",
      "50000/50000 [==============================] - 8s 151us/step - loss: 0.1404 - accuracy: 0.0029 - val_loss: 0.1403 - val_accuracy: 0.0027\n",
      "Epoch 9/50\n",
      "50000/50000 [==============================] - 8s 151us/step - loss: 0.1403 - accuracy: 0.0029 - val_loss: 0.1403 - val_accuracy: 0.0027\n",
      "Epoch 10/50\n",
      "50000/50000 [==============================] - 8s 152us/step - loss: 0.1403 - accuracy: 0.0029 - val_loss: 0.1403 - val_accuracy: 0.0027\n",
      "Epoch 11/50\n",
      "50000/50000 [==============================] - 8s 152us/step - loss: 0.1403 - accuracy: 0.0029 - val_loss: 0.1403 - val_accuracy: 0.0027\n",
      "Epoch 12/50\n",
      "50000/50000 [==============================] - 8s 154us/step - loss: 0.1403 - accuracy: 0.0029 - val_loss: 0.1403 - val_accuracy: 0.0027\n",
      "Epoch 13/50\n",
      "50000/50000 [==============================] - 8s 153us/step - loss: 0.1403 - accuracy: 0.0029 - val_loss: 0.1403 - val_accuracy: 0.0027\n",
      "Epoch 14/50\n",
      "50000/50000 [==============================] - 8s 156us/step - loss: 0.1403 - accuracy: 0.0029 - val_loss: 0.1402 - val_accuracy: 0.0027\n",
      "Epoch 15/50\n",
      "50000/50000 [==============================] - 9s 180us/step - loss: 0.1403 - accuracy: 0.0029 - val_loss: 0.1402 - val_accuracy: 0.0027\n",
      "Epoch 16/50\n",
      "50000/50000 [==============================] - 10s 208us/step - loss: 0.1403 - accuracy: 0.0029 - val_loss: 0.1402 - val_accuracy: 0.0027\n",
      "Epoch 17/50\n",
      "50000/50000 [==============================] - 10s 208us/step - loss: 0.1402 - accuracy: 0.0029 - val_loss: 0.1402 - val_accuracy: 0.0027\n",
      "Epoch 18/50\n",
      "50000/50000 [==============================] - 11s 215us/step - loss: 0.1402 - accuracy: 0.0029 - val_loss: 0.1402 - val_accuracy: 0.0027\n",
      "Epoch 19/50\n",
      "50000/50000 [==============================] - 10s 209us/step - loss: 0.1402 - accuracy: 0.0029 - val_loss: 0.1402 - val_accuracy: 0.0027\n",
      "Epoch 20/50\n",
      "50000/50000 [==============================] - 11s 216us/step - loss: 0.1402 - accuracy: 0.0029 - val_loss: 0.1402 - val_accuracy: 0.0027\n",
      "Epoch 21/50\n",
      "50000/50000 [==============================] - 10s 201us/step - loss: 0.1402 - accuracy: 0.0029 - val_loss: 0.1402 - val_accuracy: 0.0027\n",
      "Epoch 22/50\n",
      "50000/50000 [==============================] - 8s 157us/step - loss: 0.1402 - accuracy: 0.0029 - val_loss: 0.1402 - val_accuracy: 0.0027\n",
      "Epoch 23/50\n",
      "50000/50000 [==============================] - 8s 158us/step - loss: 0.1402 - accuracy: 0.0029 - val_loss: 0.1401 - val_accuracy: 0.0027\n",
      "Epoch 24/50\n",
      "50000/50000 [==============================] - 8s 164us/step - loss: 0.1402 - accuracy: 0.0029 - val_loss: 0.1401 - val_accuracy: 0.0027\n",
      "Epoch 25/50\n",
      "50000/50000 [==============================] - 10s 197us/step - loss: 0.1402 - accuracy: 0.0029 - val_loss: 0.1401 - val_accuracy: 0.0027\n",
      "Epoch 26/50\n",
      "50000/50000 [==============================] - 9s 190us/step - loss: 0.1401 - accuracy: 0.0029 - val_loss: 0.1401 - val_accuracy: 0.0027\n",
      "Epoch 27/50\n",
      "50000/50000 [==============================] - 8s 169us/step - loss: 0.1401 - accuracy: 0.0029 - val_loss: 0.1401 - val_accuracy: 0.0027\n",
      "Epoch 28/50\n",
      "50000/50000 [==============================] - 8s 165us/step - loss: 0.1401 - accuracy: 0.0029 - val_loss: 0.1401 - val_accuracy: 0.0027\n",
      "Epoch 29/50\n",
      "50000/50000 [==============================] - 8s 165us/step - loss: 0.1401 - accuracy: 0.0029 - val_loss: 0.1401 - val_accuracy: 0.0027\n",
      "Epoch 30/50\n",
      "50000/50000 [==============================] - 10s 205us/step - loss: 0.1401 - accuracy: 0.0029 - val_loss: 0.1401 - val_accuracy: 0.0027\n",
      "Epoch 31/50\n",
      "50000/50000 [==============================] - 9s 178us/step - loss: 0.1401 - accuracy: 0.0029 - val_loss: 0.1401 - val_accuracy: 0.0027\n",
      "Epoch 32/50\n",
      "50000/50000 [==============================] - 9s 171us/step - loss: 0.1401 - accuracy: 0.0029 - val_loss: 0.1400 - val_accuracy: 0.0027\n",
      "Epoch 33/50\n",
      "50000/50000 [==============================] - 9s 185us/step - loss: 0.1401 - accuracy: 0.0029 - val_loss: 0.1400 - val_accuracy: 0.0027\n",
      "Epoch 34/50\n",
      "50000/50000 [==============================] - 8s 167us/step - loss: 0.1400 - accuracy: 0.0029 - val_loss: 0.1400 - val_accuracy: 0.0027\n",
      "Epoch 35/50\n",
      "50000/50000 [==============================] - 8s 169us/step - loss: 0.1400 - accuracy: 0.0029 - val_loss: 0.1400 - val_accuracy: 0.0027\n",
      "Epoch 36/50\n",
      "50000/50000 [==============================] - 10s 197us/step - loss: 0.1400 - accuracy: 0.0029 - val_loss: 0.1400 - val_accuracy: 0.0027\n",
      "Epoch 37/50\n",
      "50000/50000 [==============================] - 9s 176us/step - loss: 0.1400 - accuracy: 0.0029 - val_loss: 0.1400 - val_accuracy: 0.0027\n",
      "Epoch 38/50\n",
      "50000/50000 [==============================] - 8s 168us/step - loss: 0.1400 - accuracy: 0.0029 - val_loss: 0.1400 - val_accuracy: 0.0027\n",
      "Epoch 39/50\n",
      "50000/50000 [==============================] - 10s 196us/step - loss: 0.1400 - accuracy: 0.0029 - val_loss: 0.1399 - val_accuracy: 0.0027\n",
      "Epoch 40/50\n",
      "50000/50000 [==============================] - 9s 178us/step - loss: 0.1399 - accuracy: 0.0029 - val_loss: 0.1399 - val_accuracy: 0.0027\n",
      "Epoch 41/50\n",
      "50000/50000 [==============================] - 12s 235us/step - loss: 0.1399 - accuracy: 0.0029 - val_loss: 0.1399 - val_accuracy: 0.0027\n",
      "Epoch 42/50\n",
      "50000/50000 [==============================] - 12s 233us/step - loss: 0.1398 - accuracy: 0.0029 - val_loss: 0.1398 - val_accuracy: 0.0027\n",
      "Epoch 43/50\n",
      "50000/50000 [==============================] - 12s 230us/step - loss: 0.1397 - accuracy: 0.0029 - val_loss: 0.1396 - val_accuracy: 0.0027\n",
      "Epoch 44/50\n",
      "50000/50000 [==============================] - 13s 250us/step - loss: 0.1395 - accuracy: 0.0029 - val_loss: 0.1393 - val_accuracy: 0.0027\n",
      "Epoch 45/50\n",
      "50000/50000 [==============================] - 12s 234us/step - loss: 0.1391 - accuracy: 0.0029 - val_loss: 0.1388 - val_accuracy: 0.0027\n",
      "Epoch 46/50\n",
      "50000/50000 [==============================] - 13s 266us/step - loss: 0.1386 - accuracy: 0.0029 - val_loss: 0.1383 - val_accuracy: 0.0027\n",
      "Epoch 47/50\n",
      "50000/50000 [==============================] - 13s 270us/step - loss: 0.1381 - accuracy: 0.0029 - val_loss: 0.1378 - val_accuracy: 0.0027\n",
      "Epoch 48/50\n",
      "50000/50000 [==============================] - 14s 271us/step - loss: 0.1377 - accuracy: 0.0020 - val_loss: 0.1375 - val_accuracy: 0.0015\n",
      "Epoch 49/50\n",
      "50000/50000 [==============================] - 14s 272us/step - loss: 0.1375 - accuracy: 9.2000e-04 - val_loss: 0.1373 - val_accuracy: 9.0000e-04\n",
      "Epoch 50/50\n",
      "50000/50000 [==============================] - 14s 272us/step - loss: 0.1373 - accuracy: 6.0000e-04 - val_loss: 0.1372 - val_accuracy: 6.0000e-04\n"
     ]
    },
    {
     "data": {
      "text/plain": [
       "<keras.callbacks.callbacks.History at 0x136727208>"
      ]
     },
     "execution_count": 16,
     "metadata": {},
     "output_type": "execute_result"
    }
   ],
   "source": [
    "autoencoder.compile(optimizer = 'adadelta', loss = 'mse', metrics = ['accuracy'])\n",
    "autoencoder.fit(x_train_noisy, x_train_noisy, epochs = 50, batch_size = 256, shuffle = True, validation_data = [x_test_noisy, x_test_noisy])"
   ]
  },
  {
   "cell_type": "code",
   "execution_count": 17,
   "metadata": {},
   "outputs": [],
   "source": [
    "encoded_test_data = encoder.predict(x_test_noisy)\n",
    "predicted_test_data = autoencoder.predict(x_test_noisy)"
   ]
  },
  {
   "cell_type": "code",
   "execution_count": 18,
   "metadata": {},
   "outputs": [
    {
     "data": {
      "text/plain": [
       "(10000, 32)"
      ]
     },
     "execution_count": 18,
     "metadata": {},
     "output_type": "execute_result"
    }
   ],
   "source": [
    "encoded_test_data.shape"
   ]
  },
  {
   "cell_type": "code",
   "execution_count": 19,
   "metadata": {
    "scrolled": true
   },
   "outputs": [
    {
     "data": {
      "text/html": [
       "<div>\n",
       "<style scoped>\n",
       "    .dataframe tbody tr th:only-of-type {\n",
       "        vertical-align: middle;\n",
       "    }\n",
       "\n",
       "    .dataframe tbody tr th {\n",
       "        vertical-align: top;\n",
       "    }\n",
       "\n",
       "    .dataframe thead th {\n",
       "        text-align: right;\n",
       "    }\n",
       "</style>\n",
       "<table border=\"1\" class=\"dataframe\">\n",
       "  <thead>\n",
       "    <tr style=\"text-align: right;\">\n",
       "      <th></th>\n",
       "      <th>Class</th>\n",
       "      <th>Class Name</th>\n",
       "    </tr>\n",
       "  </thead>\n",
       "  <tbody>\n",
       "    <tr>\n",
       "      <th>0</th>\n",
       "      <td>3</td>\n",
       "      <td>cat</td>\n",
       "    </tr>\n",
       "    <tr>\n",
       "      <th>1</th>\n",
       "      <td>8</td>\n",
       "      <td>ship</td>\n",
       "    </tr>\n",
       "    <tr>\n",
       "      <th>2</th>\n",
       "      <td>8</td>\n",
       "      <td>ship</td>\n",
       "    </tr>\n",
       "    <tr>\n",
       "      <th>3</th>\n",
       "      <td>0</td>\n",
       "      <td>airplane</td>\n",
       "    </tr>\n",
       "    <tr>\n",
       "      <th>4</th>\n",
       "      <td>6</td>\n",
       "      <td>frog</td>\n",
       "    </tr>\n",
       "    <tr>\n",
       "      <th>...</th>\n",
       "      <td>...</td>\n",
       "      <td>...</td>\n",
       "    </tr>\n",
       "    <tr>\n",
       "      <th>9995</th>\n",
       "      <td>8</td>\n",
       "      <td>ship</td>\n",
       "    </tr>\n",
       "    <tr>\n",
       "      <th>9996</th>\n",
       "      <td>3</td>\n",
       "      <td>cat</td>\n",
       "    </tr>\n",
       "    <tr>\n",
       "      <th>9997</th>\n",
       "      <td>5</td>\n",
       "      <td>dog</td>\n",
       "    </tr>\n",
       "    <tr>\n",
       "      <th>9998</th>\n",
       "      <td>1</td>\n",
       "      <td>automobile</td>\n",
       "    </tr>\n",
       "    <tr>\n",
       "      <th>9999</th>\n",
       "      <td>7</td>\n",
       "      <td>horse</td>\n",
       "    </tr>\n",
       "  </tbody>\n",
       "</table>\n",
       "<p>10000 rows × 2 columns</p>\n",
       "</div>"
      ],
      "text/plain": [
       "      Class  Class Name\n",
       "0         3         cat\n",
       "1         8        ship\n",
       "2         8        ship\n",
       "3         0    airplane\n",
       "4         6        frog\n",
       "...     ...         ...\n",
       "9995      8        ship\n",
       "9996      3         cat\n",
       "9997      5         dog\n",
       "9998      1  automobile\n",
       "9999      7       horse\n",
       "\n",
       "[10000 rows x 2 columns]"
      ]
     },
     "execution_count": 19,
     "metadata": {},
     "output_type": "execute_result"
    }
   ],
   "source": [
    "y_test"
   ]
  },
  {
   "cell_type": "code",
   "execution_count": 20,
   "metadata": {},
   "outputs": [
    {
     "data": {
      "text/plain": [
       "(10000, 34)"
      ]
     },
     "execution_count": 20,
     "metadata": {},
     "output_type": "execute_result"
    }
   ],
   "source": [
    "encoded_test_data_df = pd.DataFrame(encoded_test_data)\n",
    "final_encoded_test_data_df = pd.concat([y_test, encoded_test_data_df], axis = 1)\n",
    "final_encoded_test_data_df.shape"
   ]
  },
  {
   "cell_type": "code",
   "execution_count": 21,
   "metadata": {},
   "outputs": [],
   "source": [
    "datadir = '/Users/sidv88/Documents/Data_Management_2/Denoised_Encoded_Data/'\n",
    "final_encoded_test_data_df.to_csv(datadir + 'Denoising_Encoders_Test_RSADM.csv', index = False)"
   ]
  },
  {
   "cell_type": "code",
   "execution_count": 25,
   "metadata": {},
   "outputs": [
    {
     "name": "stdout",
     "output_type": "stream",
     "text": [
      "Enter one of these values ['cat' 'ship' 'airplane' 'frog' 'automobile' 'truck' 'dog' 'horse' 'deer'\n",
      " 'bird'] : truck\n"
     ]
    }
   ],
   "source": [
    "input_val = input(\"Enter one of these values {} : \".format(final_encoded_test_data_df['Class Name'].unique()))"
   ]
  },
  {
   "cell_type": "code",
   "execution_count": 26,
   "metadata": {},
   "outputs": [
    {
     "name": "stdout",
     "output_type": "stream",
     "text": [
      "Enter a number between 0 and 999 : 5\n"
     ]
    }
   ],
   "source": [
    "input_num = input(\"Enter a number between 0 and 999 : \")"
   ]
  },
  {
   "cell_type": "code",
   "execution_count": 27,
   "metadata": {},
   "outputs": [
    {
     "name": "stdout",
     "output_type": "stream",
     "text": [
      "10000\n",
      "10000\n"
     ]
    }
   ],
   "source": [
    "from numpy import dot\n",
    "from numpy.linalg import norm\n",
    "\n",
    "cosine_similarity = []\n",
    "cosine_distance = []\n",
    "\n",
    "for i in range(len(x_test_noisy)):\n",
    "    a = final_encoded_test_data_df.loc[final_encoded_test_data_df['Class Name'] == input_val].iloc[int(input_num), 2:]\n",
    "    b = final_encoded_test_data_df.iloc[i, 2:]\n",
    "    cos_sim = dot(a, b)/(norm(a) * norm(b))\n",
    "    cos_dist = 1 - cos_sim\n",
    "    cosine_similarity.append(cos_sim)\n",
    "    cosine_distance.append(cos_dist)\n",
    "print(len(cosine_similarity))\n",
    "print(len(cosine_distance))"
   ]
  },
  {
   "cell_type": "code",
   "execution_count": 28,
   "metadata": {},
   "outputs": [],
   "source": [
    "final_encoded_test_data_df['Cosine Similarity'] = cosine_similarity\n",
    "final_encoded_test_data_df['Cosine Distance'] = cosine_distance"
   ]
  },
  {
   "cell_type": "code",
   "execution_count": 29,
   "metadata": {},
   "outputs": [
    {
     "data": {
      "text/html": [
       "<div>\n",
       "<style scoped>\n",
       "    .dataframe tbody tr th:only-of-type {\n",
       "        vertical-align: middle;\n",
       "    }\n",
       "\n",
       "    .dataframe tbody tr th {\n",
       "        vertical-align: top;\n",
       "    }\n",
       "\n",
       "    .dataframe thead th {\n",
       "        text-align: right;\n",
       "    }\n",
       "</style>\n",
       "<table border=\"1\" class=\"dataframe\">\n",
       "  <thead>\n",
       "    <tr style=\"text-align: right;\">\n",
       "      <th></th>\n",
       "      <th>Class</th>\n",
       "      <th>Class Name</th>\n",
       "      <th>0</th>\n",
       "      <th>1</th>\n",
       "      <th>2</th>\n",
       "      <th>3</th>\n",
       "      <th>4</th>\n",
       "      <th>5</th>\n",
       "      <th>6</th>\n",
       "      <th>7</th>\n",
       "      <th>...</th>\n",
       "      <th>24</th>\n",
       "      <th>25</th>\n",
       "      <th>26</th>\n",
       "      <th>27</th>\n",
       "      <th>28</th>\n",
       "      <th>29</th>\n",
       "      <th>30</th>\n",
       "      <th>31</th>\n",
       "      <th>Cosine Similarity</th>\n",
       "      <th>Cosine Distance</th>\n",
       "    </tr>\n",
       "  </thead>\n",
       "  <tbody>\n",
       "    <tr>\n",
       "      <th>38</th>\n",
       "      <td>9</td>\n",
       "      <td>truck</td>\n",
       "      <td>1.951150</td>\n",
       "      <td>0.394481</td>\n",
       "      <td>2.952944</td>\n",
       "      <td>0.065717</td>\n",
       "      <td>1.766907</td>\n",
       "      <td>0.0</td>\n",
       "      <td>0.000000</td>\n",
       "      <td>0.0</td>\n",
       "      <td>...</td>\n",
       "      <td>2.527892</td>\n",
       "      <td>0.0</td>\n",
       "      <td>0.0</td>\n",
       "      <td>0.452569</td>\n",
       "      <td>2.745191</td>\n",
       "      <td>0.0</td>\n",
       "      <td>3.100175</td>\n",
       "      <td>0.060734</td>\n",
       "      <td>1.000000</td>\n",
       "      <td>1.192093e-07</td>\n",
       "    </tr>\n",
       "    <tr>\n",
       "      <th>4233</th>\n",
       "      <td>9</td>\n",
       "      <td>truck</td>\n",
       "      <td>1.675167</td>\n",
       "      <td>0.375730</td>\n",
       "      <td>2.375069</td>\n",
       "      <td>0.033235</td>\n",
       "      <td>1.377262</td>\n",
       "      <td>0.0</td>\n",
       "      <td>0.011944</td>\n",
       "      <td>0.0</td>\n",
       "      <td>...</td>\n",
       "      <td>2.053916</td>\n",
       "      <td>0.0</td>\n",
       "      <td>0.0</td>\n",
       "      <td>0.386959</td>\n",
       "      <td>2.179469</td>\n",
       "      <td>0.0</td>\n",
       "      <td>2.426366</td>\n",
       "      <td>0.039958</td>\n",
       "      <td>0.999688</td>\n",
       "      <td>3.116131e-04</td>\n",
       "    </tr>\n",
       "    <tr>\n",
       "      <th>4821</th>\n",
       "      <td>4</td>\n",
       "      <td>deer</td>\n",
       "      <td>1.906944</td>\n",
       "      <td>0.422456</td>\n",
       "      <td>2.909292</td>\n",
       "      <td>0.028318</td>\n",
       "      <td>1.730489</td>\n",
       "      <td>0.0</td>\n",
       "      <td>0.000000</td>\n",
       "      <td>0.0</td>\n",
       "      <td>...</td>\n",
       "      <td>2.403300</td>\n",
       "      <td>0.0</td>\n",
       "      <td>0.0</td>\n",
       "      <td>0.472559</td>\n",
       "      <td>2.695241</td>\n",
       "      <td>0.0</td>\n",
       "      <td>2.951924</td>\n",
       "      <td>0.000000</td>\n",
       "      <td>0.999652</td>\n",
       "      <td>3.480315e-04</td>\n",
       "    </tr>\n",
       "    <tr>\n",
       "      <th>6355</th>\n",
       "      <td>0</td>\n",
       "      <td>airplane</td>\n",
       "      <td>2.149742</td>\n",
       "      <td>0.434716</td>\n",
       "      <td>3.263461</td>\n",
       "      <td>0.046896</td>\n",
       "      <td>2.038952</td>\n",
       "      <td>0.0</td>\n",
       "      <td>0.017219</td>\n",
       "      <td>0.0</td>\n",
       "      <td>...</td>\n",
       "      <td>2.839746</td>\n",
       "      <td>0.0</td>\n",
       "      <td>0.0</td>\n",
       "      <td>0.494749</td>\n",
       "      <td>2.912821</td>\n",
       "      <td>0.0</td>\n",
       "      <td>3.481771</td>\n",
       "      <td>0.161358</td>\n",
       "      <td>0.999593</td>\n",
       "      <td>4.071593e-04</td>\n",
       "    </tr>\n",
       "    <tr>\n",
       "      <th>4406</th>\n",
       "      <td>5</td>\n",
       "      <td>dog</td>\n",
       "      <td>2.063992</td>\n",
       "      <td>0.447100</td>\n",
       "      <td>3.002681</td>\n",
       "      <td>0.008759</td>\n",
       "      <td>1.800852</td>\n",
       "      <td>0.0</td>\n",
       "      <td>0.000000</td>\n",
       "      <td>0.0</td>\n",
       "      <td>...</td>\n",
       "      <td>2.633141</td>\n",
       "      <td>0.0</td>\n",
       "      <td>0.0</td>\n",
       "      <td>0.461513</td>\n",
       "      <td>2.707824</td>\n",
       "      <td>0.0</td>\n",
       "      <td>3.182075</td>\n",
       "      <td>0.028066</td>\n",
       "      <td>0.999581</td>\n",
       "      <td>4.186034e-04</td>\n",
       "    </tr>\n",
       "    <tr>\n",
       "      <th>...</th>\n",
       "      <td>...</td>\n",
       "      <td>...</td>\n",
       "      <td>...</td>\n",
       "      <td>...</td>\n",
       "      <td>...</td>\n",
       "      <td>...</td>\n",
       "      <td>...</td>\n",
       "      <td>...</td>\n",
       "      <td>...</td>\n",
       "      <td>...</td>\n",
       "      <td>...</td>\n",
       "      <td>...</td>\n",
       "      <td>...</td>\n",
       "      <td>...</td>\n",
       "      <td>...</td>\n",
       "      <td>...</td>\n",
       "      <td>...</td>\n",
       "      <td>...</td>\n",
       "      <td>...</td>\n",
       "      <td>...</td>\n",
       "      <td>...</td>\n",
       "    </tr>\n",
       "    <tr>\n",
       "      <th>3617</th>\n",
       "      <td>3</td>\n",
       "      <td>cat</td>\n",
       "      <td>0.000000</td>\n",
       "      <td>0.000000</td>\n",
       "      <td>0.653116</td>\n",
       "      <td>0.239758</td>\n",
       "      <td>0.000000</td>\n",
       "      <td>0.0</td>\n",
       "      <td>0.005204</td>\n",
       "      <td>0.0</td>\n",
       "      <td>...</td>\n",
       "      <td>0.000000</td>\n",
       "      <td>0.0</td>\n",
       "      <td>0.0</td>\n",
       "      <td>0.000000</td>\n",
       "      <td>0.336102</td>\n",
       "      <td>0.0</td>\n",
       "      <td>0.000000</td>\n",
       "      <td>0.000000</td>\n",
       "      <td>0.504291</td>\n",
       "      <td>4.957089e-01</td>\n",
       "    </tr>\n",
       "    <tr>\n",
       "      <th>8462</th>\n",
       "      <td>2</td>\n",
       "      <td>bird</td>\n",
       "      <td>0.000000</td>\n",
       "      <td>0.000000</td>\n",
       "      <td>0.787602</td>\n",
       "      <td>0.119867</td>\n",
       "      <td>0.000000</td>\n",
       "      <td>0.0</td>\n",
       "      <td>0.119275</td>\n",
       "      <td>0.0</td>\n",
       "      <td>...</td>\n",
       "      <td>0.000000</td>\n",
       "      <td>0.0</td>\n",
       "      <td>0.0</td>\n",
       "      <td>0.000000</td>\n",
       "      <td>0.552236</td>\n",
       "      <td>0.0</td>\n",
       "      <td>0.000000</td>\n",
       "      <td>0.000000</td>\n",
       "      <td>0.503101</td>\n",
       "      <td>4.968989e-01</td>\n",
       "    </tr>\n",
       "    <tr>\n",
       "      <th>5290</th>\n",
       "      <td>3</td>\n",
       "      <td>cat</td>\n",
       "      <td>0.000000</td>\n",
       "      <td>0.000000</td>\n",
       "      <td>0.645334</td>\n",
       "      <td>0.218846</td>\n",
       "      <td>0.000000</td>\n",
       "      <td>0.0</td>\n",
       "      <td>0.047019</td>\n",
       "      <td>0.0</td>\n",
       "      <td>...</td>\n",
       "      <td>0.000000</td>\n",
       "      <td>0.0</td>\n",
       "      <td>0.0</td>\n",
       "      <td>0.000000</td>\n",
       "      <td>0.287197</td>\n",
       "      <td>0.0</td>\n",
       "      <td>0.000000</td>\n",
       "      <td>0.000000</td>\n",
       "      <td>0.503083</td>\n",
       "      <td>4.969171e-01</td>\n",
       "    </tr>\n",
       "    <tr>\n",
       "      <th>9909</th>\n",
       "      <td>1</td>\n",
       "      <td>automobile</td>\n",
       "      <td>0.000000</td>\n",
       "      <td>0.000000</td>\n",
       "      <td>0.479055</td>\n",
       "      <td>0.234983</td>\n",
       "      <td>0.000000</td>\n",
       "      <td>0.0</td>\n",
       "      <td>0.237757</td>\n",
       "      <td>0.0</td>\n",
       "      <td>...</td>\n",
       "      <td>0.000000</td>\n",
       "      <td>0.0</td>\n",
       "      <td>0.0</td>\n",
       "      <td>0.000000</td>\n",
       "      <td>0.424710</td>\n",
       "      <td>0.0</td>\n",
       "      <td>0.000000</td>\n",
       "      <td>0.000000</td>\n",
       "      <td>0.502402</td>\n",
       "      <td>4.975979e-01</td>\n",
       "    </tr>\n",
       "    <tr>\n",
       "      <th>6455</th>\n",
       "      <td>6</td>\n",
       "      <td>frog</td>\n",
       "      <td>0.000000</td>\n",
       "      <td>0.000000</td>\n",
       "      <td>0.497440</td>\n",
       "      <td>0.216518</td>\n",
       "      <td>0.000000</td>\n",
       "      <td>0.0</td>\n",
       "      <td>0.228622</td>\n",
       "      <td>0.0</td>\n",
       "      <td>...</td>\n",
       "      <td>0.000000</td>\n",
       "      <td>0.0</td>\n",
       "      <td>0.0</td>\n",
       "      <td>0.000000</td>\n",
       "      <td>0.419846</td>\n",
       "      <td>0.0</td>\n",
       "      <td>0.000000</td>\n",
       "      <td>0.000000</td>\n",
       "      <td>0.500720</td>\n",
       "      <td>4.992797e-01</td>\n",
       "    </tr>\n",
       "  </tbody>\n",
       "</table>\n",
       "<p>10000 rows × 36 columns</p>\n",
       "</div>"
      ],
      "text/plain": [
       "      Class  Class Name         0         1         2         3         4  \\\n",
       "38        9       truck  1.951150  0.394481  2.952944  0.065717  1.766907   \n",
       "4233      9       truck  1.675167  0.375730  2.375069  0.033235  1.377262   \n",
       "4821      4        deer  1.906944  0.422456  2.909292  0.028318  1.730489   \n",
       "6355      0    airplane  2.149742  0.434716  3.263461  0.046896  2.038952   \n",
       "4406      5         dog  2.063992  0.447100  3.002681  0.008759  1.800852   \n",
       "...     ...         ...       ...       ...       ...       ...       ...   \n",
       "3617      3         cat  0.000000  0.000000  0.653116  0.239758  0.000000   \n",
       "8462      2        bird  0.000000  0.000000  0.787602  0.119867  0.000000   \n",
       "5290      3         cat  0.000000  0.000000  0.645334  0.218846  0.000000   \n",
       "9909      1  automobile  0.000000  0.000000  0.479055  0.234983  0.000000   \n",
       "6455      6        frog  0.000000  0.000000  0.497440  0.216518  0.000000   \n",
       "\n",
       "        5         6    7  ...        24   25   26        27        28   29  \\\n",
       "38    0.0  0.000000  0.0  ...  2.527892  0.0  0.0  0.452569  2.745191  0.0   \n",
       "4233  0.0  0.011944  0.0  ...  2.053916  0.0  0.0  0.386959  2.179469  0.0   \n",
       "4821  0.0  0.000000  0.0  ...  2.403300  0.0  0.0  0.472559  2.695241  0.0   \n",
       "6355  0.0  0.017219  0.0  ...  2.839746  0.0  0.0  0.494749  2.912821  0.0   \n",
       "4406  0.0  0.000000  0.0  ...  2.633141  0.0  0.0  0.461513  2.707824  0.0   \n",
       "...   ...       ...  ...  ...       ...  ...  ...       ...       ...  ...   \n",
       "3617  0.0  0.005204  0.0  ...  0.000000  0.0  0.0  0.000000  0.336102  0.0   \n",
       "8462  0.0  0.119275  0.0  ...  0.000000  0.0  0.0  0.000000  0.552236  0.0   \n",
       "5290  0.0  0.047019  0.0  ...  0.000000  0.0  0.0  0.000000  0.287197  0.0   \n",
       "9909  0.0  0.237757  0.0  ...  0.000000  0.0  0.0  0.000000  0.424710  0.0   \n",
       "6455  0.0  0.228622  0.0  ...  0.000000  0.0  0.0  0.000000  0.419846  0.0   \n",
       "\n",
       "            30        31  Cosine Similarity  Cosine Distance  \n",
       "38    3.100175  0.060734           1.000000     1.192093e-07  \n",
       "4233  2.426366  0.039958           0.999688     3.116131e-04  \n",
       "4821  2.951924  0.000000           0.999652     3.480315e-04  \n",
       "6355  3.481771  0.161358           0.999593     4.071593e-04  \n",
       "4406  3.182075  0.028066           0.999581     4.186034e-04  \n",
       "...        ...       ...                ...              ...  \n",
       "3617  0.000000  0.000000           0.504291     4.957089e-01  \n",
       "8462  0.000000  0.000000           0.503101     4.968989e-01  \n",
       "5290  0.000000  0.000000           0.503083     4.969171e-01  \n",
       "9909  0.000000  0.000000           0.502402     4.975979e-01  \n",
       "6455  0.000000  0.000000           0.500720     4.992797e-01  \n",
       "\n",
       "[10000 rows x 36 columns]"
      ]
     },
     "execution_count": 29,
     "metadata": {},
     "output_type": "execute_result"
    }
   ],
   "source": [
    "final_encoded_test_data_df.sort_values(by = ['Cosine Similarity'], ascending = False)"
   ]
  },
  {
   "cell_type": "code",
   "execution_count": 30,
   "metadata": {},
   "outputs": [],
   "source": [
    "cosine_index = final_encoded_test_data_df.sort_values(by = ['Cosine Similarity'], ascending = False).head(10).index"
   ]
  },
  {
   "cell_type": "code",
   "execution_count": 31,
   "metadata": {
    "scrolled": true
   },
   "outputs": [
    {
     "data": {
      "image/png": "[encoded data removed]",
      "text/plain": [
       "<Figure size 144x144 with 1 Axes>"
      ]
     },
     "metadata": {
      "needs_background": "light"
     },
     "output_type": "display_data"
    },
    {
     "data": {
      "image/png": "[encoded data removed]",
      "text/plain": [
       "<Figure size 144x144 with 1 Axes>"
      ]
     },
     "metadata": {
      "needs_background": "light"
     },
     "output_type": "display_data"
    },
    {
     "data": {
      "image/png": "[encoded data removed]",
      "text/plain": [
       "<Figure size 144x144 with 1 Axes>"
      ]
     },
     "metadata": {
      "needs_background": "light"
     },
     "output_type": "display_data"
    },
    {
     "data": {
      "image/png": "[encoded data removed]",
      "text/plain": [
       "<Figure size 144x144 with 1 Axes>"
      ]
     },
     "metadata": {
      "needs_background": "light"
     },
     "output_type": "display_data"
    },
    {
     "data": {
      "image/png": "[encoded data removed]",
      "text/plain": [
       "<Figure size 144x144 with 1 Axes>"
      ]
     },
     "metadata": {
      "needs_background": "light"
     },
     "output_type": "display_data"
    },
    {
     "data": {
      "image/png": "[encoded data removed]",
      "text/plain": [
       "<Figure size 144x144 with 1 Axes>"
      ]
     },
     "metadata": {
      "needs_background": "light"
     },
     "output_type": "display_data"
    },
    {
     "data": {
      "image/png": "[encoded data removed]",
      "text/plain": [
       "<Figure size 144x144 with 1 Axes>"
      ]
     },
     "metadata": {
      "needs_background": "light"
     },
     "output_type": "display_data"
    },
    {
     "data": {
      "image/png": "[encoded data removed]",
      "text/plain": [
       "<Figure size 144x144 with 1 Axes>"
      ]
     },
     "metadata": {
      "needs_background": "light"
     },
     "output_type": "display_data"
    },
    {
     "data": {
      "image/png": "[encoded data removed]",
      "text/plain": [
       "<Figure size 144x144 with 1 Axes>"
      ]
     },
     "metadata": {
      "needs_background": "light"
     },
     "output_type": "display_data"
    },
    {
     "data": {
      "image/png": "[encoded data removed]",
      "text/plain": [
       "<Figure size 144x144 with 1 Axes>"
      ]
     },
     "metadata": {
      "needs_background": "light"
     },
     "output_type": "display_data"
    }
   ],
   "source": [
    "for i in cosine_index:\n",
    "    plt.figure(figsize = (2, 2))\n",
    "    plt.imshow(x_test[i].reshape(32, 32, 3))\n",
    "    plt.xlabel(final_encoded_test_data_df['Class Name'][i] + ' with a Cosine Similarity of ' + str(final_encoded_test_data_df['Cosine Similarity'][i]) + ' from the queried image.')\n",
    "    plt.show()"
   ]
  },
  {
   "cell_type": "code",
   "execution_count": 32,
   "metadata": {},
   "outputs": [
    {
     "name": "stdout",
     "output_type": "stream",
     "text": [
      "10000\n"
     ]
    }
   ],
   "source": [
    "euclidean_distance = []\n",
    "\n",
    "for i in range(len(x_test)):\n",
    "    a = final_encoded_test_data_df.loc[final_encoded_test_data_df['Class Name'] == input_val].iloc[int(input_num), 2:]\n",
    "    b = final_encoded_test_data_df.iloc[i, 2:]\n",
    "    euc_dist = np.linalg.norm(a-b)\n",
    "    euclidean_distance.append(euc_dist)\n",
    "print(len(euclidean_distance))"
   ]
  },
  {
   "cell_type": "code",
   "execution_count": 33,
   "metadata": {},
   "outputs": [
    {
     "data": {
      "text/html": [
       "<div>\n",
       "<style scoped>\n",
       "    .dataframe tbody tr th:only-of-type {\n",
       "        vertical-align: middle;\n",
       "    }\n",
       "\n",
       "    .dataframe tbody tr th {\n",
       "        vertical-align: top;\n",
       "    }\n",
       "\n",
       "    .dataframe thead th {\n",
       "        text-align: right;\n",
       "    }\n",
       "</style>\n",
       "<table border=\"1\" class=\"dataframe\">\n",
       "  <thead>\n",
       "    <tr style=\"text-align: right;\">\n",
       "      <th></th>\n",
       "      <th>Class</th>\n",
       "      <th>Class Name</th>\n",
       "      <th>0</th>\n",
       "      <th>1</th>\n",
       "      <th>2</th>\n",
       "      <th>3</th>\n",
       "      <th>4</th>\n",
       "      <th>5</th>\n",
       "      <th>6</th>\n",
       "      <th>7</th>\n",
       "      <th>...</th>\n",
       "      <th>25</th>\n",
       "      <th>26</th>\n",
       "      <th>27</th>\n",
       "      <th>28</th>\n",
       "      <th>29</th>\n",
       "      <th>30</th>\n",
       "      <th>31</th>\n",
       "      <th>Cosine Similarity</th>\n",
       "      <th>Cosine Distance</th>\n",
       "      <th>Euclidean Distance</th>\n",
       "    </tr>\n",
       "  </thead>\n",
       "  <tbody>\n",
       "    <tr>\n",
       "      <th>38</th>\n",
       "      <td>9</td>\n",
       "      <td>truck</td>\n",
       "      <td>1.951150</td>\n",
       "      <td>0.394481</td>\n",
       "      <td>2.952944</td>\n",
       "      <td>0.065717</td>\n",
       "      <td>1.766907</td>\n",
       "      <td>0.0</td>\n",
       "      <td>0.000000</td>\n",
       "      <td>0.0</td>\n",
       "      <td>...</td>\n",
       "      <td>0.0</td>\n",
       "      <td>0.0</td>\n",
       "      <td>0.452569</td>\n",
       "      <td>2.745191</td>\n",
       "      <td>0.0</td>\n",
       "      <td>3.100175</td>\n",
       "      <td>0.060734</td>\n",
       "      <td>1.000000</td>\n",
       "      <td>1.192093e-07</td>\n",
       "      <td>0.000000</td>\n",
       "    </tr>\n",
       "    <tr>\n",
       "      <th>3435</th>\n",
       "      <td>6</td>\n",
       "      <td>frog</td>\n",
       "      <td>1.983245</td>\n",
       "      <td>0.363624</td>\n",
       "      <td>2.984898</td>\n",
       "      <td>0.069950</td>\n",
       "      <td>1.675350</td>\n",
       "      <td>0.0</td>\n",
       "      <td>0.056262</td>\n",
       "      <td>0.0</td>\n",
       "      <td>...</td>\n",
       "      <td>0.0</td>\n",
       "      <td>0.0</td>\n",
       "      <td>0.441270</td>\n",
       "      <td>2.798865</td>\n",
       "      <td>0.0</td>\n",
       "      <td>3.015285</td>\n",
       "      <td>0.079450</td>\n",
       "      <td>0.999571</td>\n",
       "      <td>4.289150e-04</td>\n",
       "      <td>0.260918</td>\n",
       "    </tr>\n",
       "    <tr>\n",
       "      <th>8405</th>\n",
       "      <td>0</td>\n",
       "      <td>airplane</td>\n",
       "      <td>2.008316</td>\n",
       "      <td>0.393173</td>\n",
       "      <td>2.901306</td>\n",
       "      <td>0.000000</td>\n",
       "      <td>1.699617</td>\n",
       "      <td>0.0</td>\n",
       "      <td>0.098652</td>\n",
       "      <td>0.0</td>\n",
       "      <td>...</td>\n",
       "      <td>0.0</td>\n",
       "      <td>0.0</td>\n",
       "      <td>0.364768</td>\n",
       "      <td>2.831624</td>\n",
       "      <td>0.0</td>\n",
       "      <td>3.104249</td>\n",
       "      <td>0.025207</td>\n",
       "      <td>0.999471</td>\n",
       "      <td>5.286932e-04</td>\n",
       "      <td>0.264811</td>\n",
       "    </tr>\n",
       "    <tr>\n",
       "      <th>4821</th>\n",
       "      <td>4</td>\n",
       "      <td>deer</td>\n",
       "      <td>1.906944</td>\n",
       "      <td>0.422456</td>\n",
       "      <td>2.909292</td>\n",
       "      <td>0.028318</td>\n",
       "      <td>1.730489</td>\n",
       "      <td>0.0</td>\n",
       "      <td>0.000000</td>\n",
       "      <td>0.0</td>\n",
       "      <td>...</td>\n",
       "      <td>0.0</td>\n",
       "      <td>0.0</td>\n",
       "      <td>0.472559</td>\n",
       "      <td>2.695241</td>\n",
       "      <td>0.0</td>\n",
       "      <td>2.951924</td>\n",
       "      <td>0.000000</td>\n",
       "      <td>0.999652</td>\n",
       "      <td>3.480315e-04</td>\n",
       "      <td>0.296607</td>\n",
       "    </tr>\n",
       "    <tr>\n",
       "      <th>4406</th>\n",
       "      <td>5</td>\n",
       "      <td>dog</td>\n",
       "      <td>2.063992</td>\n",
       "      <td>0.447100</td>\n",
       "      <td>3.002681</td>\n",
       "      <td>0.008759</td>\n",
       "      <td>1.800852</td>\n",
       "      <td>0.0</td>\n",
       "      <td>0.000000</td>\n",
       "      <td>0.0</td>\n",
       "      <td>...</td>\n",
       "      <td>0.0</td>\n",
       "      <td>0.0</td>\n",
       "      <td>0.461513</td>\n",
       "      <td>2.707824</td>\n",
       "      <td>0.0</td>\n",
       "      <td>3.182075</td>\n",
       "      <td>0.028066</td>\n",
       "      <td>0.999581</td>\n",
       "      <td>4.186034e-04</td>\n",
       "      <td>0.305535</td>\n",
       "    </tr>\n",
       "    <tr>\n",
       "      <th>...</th>\n",
       "      <td>...</td>\n",
       "      <td>...</td>\n",
       "      <td>...</td>\n",
       "      <td>...</td>\n",
       "      <td>...</td>\n",
       "      <td>...</td>\n",
       "      <td>...</td>\n",
       "      <td>...</td>\n",
       "      <td>...</td>\n",
       "      <td>...</td>\n",
       "      <td>...</td>\n",
       "      <td>...</td>\n",
       "      <td>...</td>\n",
       "      <td>...</td>\n",
       "      <td>...</td>\n",
       "      <td>...</td>\n",
       "      <td>...</td>\n",
       "      <td>...</td>\n",
       "      <td>...</td>\n",
       "      <td>...</td>\n",
       "      <td>...</td>\n",
       "    </tr>\n",
       "    <tr>\n",
       "      <th>4723</th>\n",
       "      <td>9</td>\n",
       "      <td>truck</td>\n",
       "      <td>5.098708</td>\n",
       "      <td>1.405971</td>\n",
       "      <td>5.374788</td>\n",
       "      <td>0.000000</td>\n",
       "      <td>4.229760</td>\n",
       "      <td>0.0</td>\n",
       "      <td>0.081834</td>\n",
       "      <td>0.0</td>\n",
       "      <td>...</td>\n",
       "      <td>0.0</td>\n",
       "      <td>0.0</td>\n",
       "      <td>1.923431</td>\n",
       "      <td>3.843076</td>\n",
       "      <td>0.0</td>\n",
       "      <td>6.780813</td>\n",
       "      <td>0.000000</td>\n",
       "      <td>0.983543</td>\n",
       "      <td>1.645750e-02</td>\n",
       "      <td>9.274010</td>\n",
       "    </tr>\n",
       "    <tr>\n",
       "      <th>1153</th>\n",
       "      <td>8</td>\n",
       "      <td>ship</td>\n",
       "      <td>5.026165</td>\n",
       "      <td>1.443039</td>\n",
       "      <td>5.424857</td>\n",
       "      <td>0.000000</td>\n",
       "      <td>4.298205</td>\n",
       "      <td>0.0</td>\n",
       "      <td>0.016743</td>\n",
       "      <td>0.0</td>\n",
       "      <td>...</td>\n",
       "      <td>0.0</td>\n",
       "      <td>0.0</td>\n",
       "      <td>2.132298</td>\n",
       "      <td>3.858448</td>\n",
       "      <td>0.0</td>\n",
       "      <td>6.774678</td>\n",
       "      <td>0.028653</td>\n",
       "      <td>0.982899</td>\n",
       "      <td>1.710135e-02</td>\n",
       "      <td>9.307121</td>\n",
       "    </tr>\n",
       "    <tr>\n",
       "      <th>7546</th>\n",
       "      <td>7</td>\n",
       "      <td>horse</td>\n",
       "      <td>5.173052</td>\n",
       "      <td>1.409462</td>\n",
       "      <td>5.396217</td>\n",
       "      <td>0.024993</td>\n",
       "      <td>4.165577</td>\n",
       "      <td>0.0</td>\n",
       "      <td>0.000000</td>\n",
       "      <td>0.0</td>\n",
       "      <td>...</td>\n",
       "      <td>0.0</td>\n",
       "      <td>0.0</td>\n",
       "      <td>1.994659</td>\n",
       "      <td>4.000679</td>\n",
       "      <td>0.0</td>\n",
       "      <td>6.839741</td>\n",
       "      <td>0.000000</td>\n",
       "      <td>0.983881</td>\n",
       "      <td>1.611948e-02</td>\n",
       "      <td>9.351493</td>\n",
       "    </tr>\n",
       "    <tr>\n",
       "      <th>8470</th>\n",
       "      <td>8</td>\n",
       "      <td>ship</td>\n",
       "      <td>5.113339</td>\n",
       "      <td>1.422034</td>\n",
       "      <td>5.389990</td>\n",
       "      <td>0.000000</td>\n",
       "      <td>4.214489</td>\n",
       "      <td>0.0</td>\n",
       "      <td>0.038810</td>\n",
       "      <td>0.0</td>\n",
       "      <td>...</td>\n",
       "      <td>0.0</td>\n",
       "      <td>0.0</td>\n",
       "      <td>1.965728</td>\n",
       "      <td>3.864364</td>\n",
       "      <td>0.0</td>\n",
       "      <td>6.801267</td>\n",
       "      <td>0.047965</td>\n",
       "      <td>0.983404</td>\n",
       "      <td>1.659608e-02</td>\n",
       "      <td>9.375271</td>\n",
       "    </tr>\n",
       "    <tr>\n",
       "      <th>8106</th>\n",
       "      <td>8</td>\n",
       "      <td>ship</td>\n",
       "      <td>5.308557</td>\n",
       "      <td>1.442851</td>\n",
       "      <td>5.554635</td>\n",
       "      <td>0.000000</td>\n",
       "      <td>4.286292</td>\n",
       "      <td>0.0</td>\n",
       "      <td>0.000000</td>\n",
       "      <td>0.0</td>\n",
       "      <td>...</td>\n",
       "      <td>0.0</td>\n",
       "      <td>0.0</td>\n",
       "      <td>1.876291</td>\n",
       "      <td>4.243038</td>\n",
       "      <td>0.0</td>\n",
       "      <td>7.026515</td>\n",
       "      <td>0.022265</td>\n",
       "      <td>0.986286</td>\n",
       "      <td>1.371396e-02</td>\n",
       "      <td>9.866171</td>\n",
       "    </tr>\n",
       "  </tbody>\n",
       "</table>\n",
       "<p>10000 rows × 37 columns</p>\n",
       "</div>"
      ],
      "text/plain": [
       "      Class Class Name         0         1         2         3         4    5  \\\n",
       "38        9      truck  1.951150  0.394481  2.952944  0.065717  1.766907  0.0   \n",
       "3435      6       frog  1.983245  0.363624  2.984898  0.069950  1.675350  0.0   \n",
       "8405      0   airplane  2.008316  0.393173  2.901306  0.000000  1.699617  0.0   \n",
       "4821      4       deer  1.906944  0.422456  2.909292  0.028318  1.730489  0.0   \n",
       "4406      5        dog  2.063992  0.447100  3.002681  0.008759  1.800852  0.0   \n",
       "...     ...        ...       ...       ...       ...       ...       ...  ...   \n",
       "4723      9      truck  5.098708  1.405971  5.374788  0.000000  4.229760  0.0   \n",
       "1153      8       ship  5.026165  1.443039  5.424857  0.000000  4.298205  0.0   \n",
       "7546      7      horse  5.173052  1.409462  5.396217  0.024993  4.165577  0.0   \n",
       "8470      8       ship  5.113339  1.422034  5.389990  0.000000  4.214489  0.0   \n",
       "8106      8       ship  5.308557  1.442851  5.554635  0.000000  4.286292  0.0   \n",
       "\n",
       "             6    7  ...   25   26        27        28   29        30  \\\n",
       "38    0.000000  0.0  ...  0.0  0.0  0.452569  2.745191  0.0  3.100175   \n",
       "3435  0.056262  0.0  ...  0.0  0.0  0.441270  2.798865  0.0  3.015285   \n",
       "8405  0.098652  0.0  ...  0.0  0.0  0.364768  2.831624  0.0  3.104249   \n",
       "4821  0.000000  0.0  ...  0.0  0.0  0.472559  2.695241  0.0  2.951924   \n",
       "4406  0.000000  0.0  ...  0.0  0.0  0.461513  2.707824  0.0  3.182075   \n",
       "...        ...  ...  ...  ...  ...       ...       ...  ...       ...   \n",
       "4723  0.081834  0.0  ...  0.0  0.0  1.923431  3.843076  0.0  6.780813   \n",
       "1153  0.016743  0.0  ...  0.0  0.0  2.132298  3.858448  0.0  6.774678   \n",
       "7546  0.000000  0.0  ...  0.0  0.0  1.994659  4.000679  0.0  6.839741   \n",
       "8470  0.038810  0.0  ...  0.0  0.0  1.965728  3.864364  0.0  6.801267   \n",
       "8106  0.000000  0.0  ...  0.0  0.0  1.876291  4.243038  0.0  7.026515   \n",
       "\n",
       "            31  Cosine Similarity  Cosine Distance  Euclidean Distance  \n",
       "38    0.060734           1.000000     1.192093e-07            0.000000  \n",
       "3435  0.079450           0.999571     4.289150e-04            0.260918  \n",
       "8405  0.025207           0.999471     5.286932e-04            0.264811  \n",
       "4821  0.000000           0.999652     3.480315e-04            0.296607  \n",
       "4406  0.028066           0.999581     4.186034e-04            0.305535  \n",
       "...        ...                ...              ...                 ...  \n",
       "4723  0.000000           0.983543     1.645750e-02            9.274010  \n",
       "1153  0.028653           0.982899     1.710135e-02            9.307121  \n",
       "7546  0.000000           0.983881     1.611948e-02            9.351493  \n",
       "8470  0.047965           0.983404     1.659608e-02            9.375271  \n",
       "8106  0.022265           0.986286     1.371396e-02            9.866171  \n",
       "\n",
       "[10000 rows x 37 columns]"
      ]
     },
     "execution_count": 33,
     "metadata": {},
     "output_type": "execute_result"
    }
   ],
   "source": [
    "final_encoded_test_data_df['Euclidean Distance'] = euclidean_distance\n",
    "final_encoded_test_data_df.sort_values(by = ['Euclidean Distance'])"
   ]
  },
  {
   "cell_type": "code",
   "execution_count": 34,
   "metadata": {
    "scrolled": true
   },
   "outputs": [
    {
     "data": {
      "image/png": "[encoded data removed]",
      "text/plain": [
       "<Figure size 144x144 with 1 Axes>"
      ]
     },
     "metadata": {
      "needs_background": "light"
     },
     "output_type": "display_data"
    },
    {
     "data": {
      "image/png": "[encoded data removed]",
      "text/plain": [
       "<Figure size 144x144 with 1 Axes>"
      ]
     },
     "metadata": {
      "needs_background": "light"
     },
     "output_type": "display_data"
    },
    {
     "data": {
      "image/png": "[encoded data removed]",
      "text/plain": [
       "<Figure size 144x144 with 1 Axes>"
      ]
     },
     "metadata": {
      "needs_background": "light"
     },
     "output_type": "display_data"
    },
    {
     "data": {
      "image/png": "[encoded data removed]",
      "text/plain": [
       "<Figure size 144x144 with 1 Axes>"
      ]
     },
     "metadata": {
      "needs_background": "light"
     },
     "output_type": "display_data"
    },
    {
     "data": {
      "image/png": "[encoded data removed]",
      "text/plain": [
       "<Figure size 144x144 with 1 Axes>"
      ]
     },
     "metadata": {
      "needs_background": "light"
     },
     "output_type": "display_data"
    },
    {
     "data": {
      "image/png": "[encoded data removed]",
      "text/plain": [
       "<Figure size 144x144 with 1 Axes>"
      ]
     },
     "metadata": {
      "needs_background": "light"
     },
     "output_type": "display_data"
    },
    {
     "data": {
      "image/png": "[encoded data removed]",
      "text/plain": [
       "<Figure size 144x144 with 1 Axes>"
      ]
     },
     "metadata": {
      "needs_background": "light"
     },
     "output_type": "display_data"
    },
    {
     "data": {
      "image/png": "[encoded data removed]",
      "text/plain": [
       "<Figure size 144x144 with 1 Axes>"
      ]
     },
     "metadata": {
      "needs_background": "light"
     },
     "output_type": "display_data"
    },
    {
     "data": {
      "image/png": "[encoded data removed]",
      "text/plain": [
       "<Figure size 144x144 with 1 Axes>"
      ]
     },
     "metadata": {
      "needs_background": "light"
     },
     "output_type": "display_data"
    },
    {
     "data": {
      "image/png": "[encoded data removed]",
      "text/plain": [
       "<Figure size 144x144 with 1 Axes>"
      ]
     },
     "metadata": {
      "needs_background": "light"
     },
     "output_type": "display_data"
    }
   ],
   "source": [
    "euclidean_index = final_encoded_test_data_df.sort_values(by = ['Euclidean Distance']).head(10).index\n",
    "\n",
    "for i in euclidean_index:\n",
    "    plt.figure(figsize = (2, 2))\n",
    "    plt.imshow(x_test[i].reshape(32, 32, 3))\n",
    "    plt.xlabel(final_encoded_test_data_df['Class Name'][i] + ' with an Euclidean Distance of ' + str(final_encoded_test_data_df['Euclidean Distance'][i]) + ' from the queried image.')\n",
    "    plt.show()"
   ]
  },
  {
   "cell_type": "code",
   "execution_count": null,
   "metadata": {},
   "outputs": [],
   "source": []
  }
 ],
 "metadata": {
  "kernelspec": {
   "display_name": "Python 3",
   "language": "python",
   "name": "python3"
  },
  "language_info": {
   "codemirror_mode": {
    "name": "ipython",
    "version": 3
   },
   "file_extension": ".py",
   "mimetype": "text/x-python",
   "name": "python",
   "nbconvert_exporter": "python",
   "pygments_lexer": "ipython3",
   "version": "3.6.9"
  }
 },
 "nbformat": 4,
 "nbformat_minor": 2
}
