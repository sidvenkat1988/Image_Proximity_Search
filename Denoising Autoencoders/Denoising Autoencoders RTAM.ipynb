{
 "cells": [
  {
   "cell_type": "code",
   "execution_count": 3,
   "metadata": {},
   "outputs": [],
   "source": [
    "from keras.layers import Input, Dense\n",
    "from keras.models import Model\n",
    "\n",
    "import numpy as np\n",
    "import pandas as pd\n",
    "import matplotlib.pyplot as plt\n",
    "%matplotlib inline"
   ]
  },
  {
   "cell_type": "code",
   "execution_count": 4,
   "metadata": {},
   "outputs": [
    {
     "name": "stdout",
     "output_type": "stream",
     "text": [
      "(50000, 3074)\n",
      "(10000, 3074)\n"
     ]
    }
   ],
   "source": [
    "datadir = '/Users/sidv88/Documents/Data_Management_2/Data/'\n",
    "train_data = pd.read_csv(datadir + 'train_rgb.csv')\n",
    "test_data = pd.read_csv(datadir + 'test_rgb.csv')\n",
    "print(train_data.shape)\n",
    "print(test_data.shape)"
   ]
  },
  {
   "cell_type": "code",
   "execution_count": 5,
   "metadata": {},
   "outputs": [
    {
     "data": {
      "text/html": [
       "<div>\n",
       "<style scoped>\n",
       "    .dataframe tbody tr th:only-of-type {\n",
       "        vertical-align: middle;\n",
       "    }\n",
       "\n",
       "    .dataframe tbody tr th {\n",
       "        vertical-align: top;\n",
       "    }\n",
       "\n",
       "    .dataframe thead th {\n",
       "        text-align: right;\n",
       "    }\n",
       "</style>\n",
       "<table border=\"1\" class=\"dataframe\">\n",
       "  <thead>\n",
       "    <tr style=\"text-align: right;\">\n",
       "      <th></th>\n",
       "      <th>Class</th>\n",
       "      <th>Class Name</th>\n",
       "      <th>0</th>\n",
       "      <th>1</th>\n",
       "      <th>2</th>\n",
       "      <th>3</th>\n",
       "      <th>4</th>\n",
       "      <th>5</th>\n",
       "      <th>6</th>\n",
       "      <th>7</th>\n",
       "      <th>...</th>\n",
       "      <th>3062</th>\n",
       "      <th>3063</th>\n",
       "      <th>3064</th>\n",
       "      <th>3065</th>\n",
       "      <th>3066</th>\n",
       "      <th>3067</th>\n",
       "      <th>3068</th>\n",
       "      <th>3069</th>\n",
       "      <th>3070</th>\n",
       "      <th>3071</th>\n",
       "    </tr>\n",
       "  </thead>\n",
       "  <tbody>\n",
       "    <tr>\n",
       "      <th>0</th>\n",
       "      <td>6</td>\n",
       "      <td>frog</td>\n",
       "      <td>59</td>\n",
       "      <td>62</td>\n",
       "      <td>63</td>\n",
       "      <td>43</td>\n",
       "      <td>46</td>\n",
       "      <td>45</td>\n",
       "      <td>50</td>\n",
       "      <td>48</td>\n",
       "      <td>...</td>\n",
       "      <td>104</td>\n",
       "      <td>216</td>\n",
       "      <td>184</td>\n",
       "      <td>140</td>\n",
       "      <td>151</td>\n",
       "      <td>118</td>\n",
       "      <td>84</td>\n",
       "      <td>123</td>\n",
       "      <td>92</td>\n",
       "      <td>72</td>\n",
       "    </tr>\n",
       "    <tr>\n",
       "      <th>1</th>\n",
       "      <td>9</td>\n",
       "      <td>truck</td>\n",
       "      <td>154</td>\n",
       "      <td>177</td>\n",
       "      <td>187</td>\n",
       "      <td>126</td>\n",
       "      <td>137</td>\n",
       "      <td>136</td>\n",
       "      <td>105</td>\n",
       "      <td>104</td>\n",
       "      <td>...</td>\n",
       "      <td>136</td>\n",
       "      <td>143</td>\n",
       "      <td>133</td>\n",
       "      <td>139</td>\n",
       "      <td>143</td>\n",
       "      <td>134</td>\n",
       "      <td>142</td>\n",
       "      <td>143</td>\n",
       "      <td>133</td>\n",
       "      <td>144</td>\n",
       "    </tr>\n",
       "    <tr>\n",
       "      <th>2</th>\n",
       "      <td>9</td>\n",
       "      <td>truck</td>\n",
       "      <td>255</td>\n",
       "      <td>255</td>\n",
       "      <td>255</td>\n",
       "      <td>253</td>\n",
       "      <td>253</td>\n",
       "      <td>253</td>\n",
       "      <td>253</td>\n",
       "      <td>253</td>\n",
       "      <td>...</td>\n",
       "      <td>79</td>\n",
       "      <td>78</td>\n",
       "      <td>85</td>\n",
       "      <td>83</td>\n",
       "      <td>79</td>\n",
       "      <td>85</td>\n",
       "      <td>83</td>\n",
       "      <td>80</td>\n",
       "      <td>86</td>\n",
       "      <td>84</td>\n",
       "    </tr>\n",
       "    <tr>\n",
       "      <th>3</th>\n",
       "      <td>4</td>\n",
       "      <td>deer</td>\n",
       "      <td>28</td>\n",
       "      <td>25</td>\n",
       "      <td>10</td>\n",
       "      <td>37</td>\n",
       "      <td>34</td>\n",
       "      <td>19</td>\n",
       "      <td>38</td>\n",
       "      <td>35</td>\n",
       "      <td>...</td>\n",
       "      <td>38</td>\n",
       "      <td>54</td>\n",
       "      <td>47</td>\n",
       "      <td>28</td>\n",
       "      <td>63</td>\n",
       "      <td>56</td>\n",
       "      <td>37</td>\n",
       "      <td>72</td>\n",
       "      <td>65</td>\n",
       "      <td>46</td>\n",
       "    </tr>\n",
       "    <tr>\n",
       "      <th>4</th>\n",
       "      <td>1</td>\n",
       "      <td>automobile</td>\n",
       "      <td>170</td>\n",
       "      <td>180</td>\n",
       "      <td>198</td>\n",
       "      <td>168</td>\n",
       "      <td>178</td>\n",
       "      <td>196</td>\n",
       "      <td>177</td>\n",
       "      <td>185</td>\n",
       "      <td>...</td>\n",
       "      <td>78</td>\n",
       "      <td>75</td>\n",
       "      <td>79</td>\n",
       "      <td>82</td>\n",
       "      <td>71</td>\n",
       "      <td>75</td>\n",
       "      <td>78</td>\n",
       "      <td>73</td>\n",
       "      <td>77</td>\n",
       "      <td>80</td>\n",
       "    </tr>\n",
       "  </tbody>\n",
       "</table>\n",
       "<p>5 rows × 3074 columns</p>\n",
       "</div>"
      ],
      "text/plain": [
       "   Class  Class Name    0    1    2    3    4    5    6    7  ...  3062  3063  \\\n",
       "0      6        frog   59   62   63   43   46   45   50   48  ...   104   216   \n",
       "1      9       truck  154  177  187  126  137  136  105  104  ...   136   143   \n",
       "2      9       truck  255  255  255  253  253  253  253  253  ...    79    78   \n",
       "3      4        deer   28   25   10   37   34   19   38   35  ...    38    54   \n",
       "4      1  automobile  170  180  198  168  178  196  177  185  ...    78    75   \n",
       "\n",
       "   3064  3065  3066  3067  3068  3069  3070  3071  \n",
       "0   184   140   151   118    84   123    92    72  \n",
       "1   133   139   143   134   142   143   133   144  \n",
       "2    85    83    79    85    83    80    86    84  \n",
       "3    47    28    63    56    37    72    65    46  \n",
       "4    79    82    71    75    78    73    77    80  \n",
       "\n",
       "[5 rows x 3074 columns]"
      ]
     },
     "execution_count": 5,
     "metadata": {},
     "output_type": "execute_result"
    }
   ],
   "source": [
    "train_data.head()"
   ]
  },
  {
   "cell_type": "code",
   "execution_count": 6,
   "metadata": {},
   "outputs": [
    {
     "data": {
      "text/html": [
       "<div>\n",
       "<style scoped>\n",
       "    .dataframe tbody tr th:only-of-type {\n",
       "        vertical-align: middle;\n",
       "    }\n",
       "\n",
       "    .dataframe tbody tr th {\n",
       "        vertical-align: top;\n",
       "    }\n",
       "\n",
       "    .dataframe thead th {\n",
       "        text-align: right;\n",
       "    }\n",
       "</style>\n",
       "<table border=\"1\" class=\"dataframe\">\n",
       "  <thead>\n",
       "    <tr style=\"text-align: right;\">\n",
       "      <th></th>\n",
       "      <th>Class</th>\n",
       "      <th>Class Name</th>\n",
       "      <th>0</th>\n",
       "      <th>1</th>\n",
       "      <th>2</th>\n",
       "      <th>3</th>\n",
       "      <th>4</th>\n",
       "      <th>5</th>\n",
       "      <th>6</th>\n",
       "      <th>7</th>\n",
       "      <th>...</th>\n",
       "      <th>3062</th>\n",
       "      <th>3063</th>\n",
       "      <th>3064</th>\n",
       "      <th>3065</th>\n",
       "      <th>3066</th>\n",
       "      <th>3067</th>\n",
       "      <th>3068</th>\n",
       "      <th>3069</th>\n",
       "      <th>3070</th>\n",
       "      <th>3071</th>\n",
       "    </tr>\n",
       "  </thead>\n",
       "  <tbody>\n",
       "    <tr>\n",
       "      <th>0</th>\n",
       "      <td>3</td>\n",
       "      <td>cat</td>\n",
       "      <td>158</td>\n",
       "      <td>112</td>\n",
       "      <td>49</td>\n",
       "      <td>159</td>\n",
       "      <td>111</td>\n",
       "      <td>47</td>\n",
       "      <td>165</td>\n",
       "      <td>116</td>\n",
       "      <td>...</td>\n",
       "      <td>145</td>\n",
       "      <td>24</td>\n",
       "      <td>77</td>\n",
       "      <td>124</td>\n",
       "      <td>34</td>\n",
       "      <td>84</td>\n",
       "      <td>129</td>\n",
       "      <td>21</td>\n",
       "      <td>67</td>\n",
       "      <td>110</td>\n",
       "    </tr>\n",
       "    <tr>\n",
       "      <th>1</th>\n",
       "      <td>8</td>\n",
       "      <td>ship</td>\n",
       "      <td>235</td>\n",
       "      <td>235</td>\n",
       "      <td>235</td>\n",
       "      <td>231</td>\n",
       "      <td>231</td>\n",
       "      <td>231</td>\n",
       "      <td>232</td>\n",
       "      <td>232</td>\n",
       "      <td>...</td>\n",
       "      <td>163</td>\n",
       "      <td>168</td>\n",
       "      <td>183</td>\n",
       "      <td>178</td>\n",
       "      <td>180</td>\n",
       "      <td>195</td>\n",
       "      <td>191</td>\n",
       "      <td>186</td>\n",
       "      <td>200</td>\n",
       "      <td>199</td>\n",
       "    </tr>\n",
       "    <tr>\n",
       "      <th>2</th>\n",
       "      <td>8</td>\n",
       "      <td>ship</td>\n",
       "      <td>158</td>\n",
       "      <td>190</td>\n",
       "      <td>222</td>\n",
       "      <td>158</td>\n",
       "      <td>187</td>\n",
       "      <td>218</td>\n",
       "      <td>139</td>\n",
       "      <td>166</td>\n",
       "      <td>...</td>\n",
       "      <td>37</td>\n",
       "      <td>5</td>\n",
       "      <td>6</td>\n",
       "      <td>8</td>\n",
       "      <td>4</td>\n",
       "      <td>5</td>\n",
       "      <td>3</td>\n",
       "      <td>7</td>\n",
       "      <td>8</td>\n",
       "      <td>7</td>\n",
       "    </tr>\n",
       "    <tr>\n",
       "      <th>3</th>\n",
       "      <td>0</td>\n",
       "      <td>airplane</td>\n",
       "      <td>155</td>\n",
       "      <td>156</td>\n",
       "      <td>149</td>\n",
       "      <td>167</td>\n",
       "      <td>176</td>\n",
       "      <td>187</td>\n",
       "      <td>176</td>\n",
       "      <td>179</td>\n",
       "      <td>...</td>\n",
       "      <td>53</td>\n",
       "      <td>60</td>\n",
       "      <td>63</td>\n",
       "      <td>50</td>\n",
       "      <td>64</td>\n",
       "      <td>65</td>\n",
       "      <td>52</td>\n",
       "      <td>73</td>\n",
       "      <td>68</td>\n",
       "      <td>50</td>\n",
       "    </tr>\n",
       "    <tr>\n",
       "      <th>4</th>\n",
       "      <td>6</td>\n",
       "      <td>frog</td>\n",
       "      <td>65</td>\n",
       "      <td>68</td>\n",
       "      <td>50</td>\n",
       "      <td>70</td>\n",
       "      <td>81</td>\n",
       "      <td>64</td>\n",
       "      <td>48</td>\n",
       "      <td>64</td>\n",
       "      <td>...</td>\n",
       "      <td>147</td>\n",
       "      <td>143</td>\n",
       "      <td>179</td>\n",
       "      <td>136</td>\n",
       "      <td>154</td>\n",
       "      <td>185</td>\n",
       "      <td>146</td>\n",
       "      <td>128</td>\n",
       "      <td>156</td>\n",
       "      <td>117</td>\n",
       "    </tr>\n",
       "  </tbody>\n",
       "</table>\n",
       "<p>5 rows × 3074 columns</p>\n",
       "</div>"
      ],
      "text/plain": [
       "   Class Class Name    0    1    2    3    4    5    6    7  ...  3062  3063  \\\n",
       "0      3        cat  158  112   49  159  111   47  165  116  ...   145    24   \n",
       "1      8       ship  235  235  235  231  231  231  232  232  ...   163   168   \n",
       "2      8       ship  158  190  222  158  187  218  139  166  ...    37     5   \n",
       "3      0   airplane  155  156  149  167  176  187  176  179  ...    53    60   \n",
       "4      6       frog   65   68   50   70   81   64   48   64  ...   147   143   \n",
       "\n",
       "   3064  3065  3066  3067  3068  3069  3070  3071  \n",
       "0    77   124    34    84   129    21    67   110  \n",
       "1   183   178   180   195   191   186   200   199  \n",
       "2     6     8     4     5     3     7     8     7  \n",
       "3    63    50    64    65    52    73    68    50  \n",
       "4   179   136   154   185   146   128   156   117  \n",
       "\n",
       "[5 rows x 3074 columns]"
      ]
     },
     "execution_count": 6,
     "metadata": {},
     "output_type": "execute_result"
    }
   ],
   "source": [
    "test_data.head()"
   ]
  },
  {
   "cell_type": "code",
   "execution_count": 7,
   "metadata": {},
   "outputs": [
    {
     "name": "stdout",
     "output_type": "stream",
     "text": [
      "(50000, 3072)\n",
      "(50000, 2)\n"
     ]
    }
   ],
   "source": [
    "x_train = train_data.iloc[:, 2:]\n",
    "print(x_train.shape)\n",
    "y_train = train_data.iloc[:, [0, 1]]\n",
    "print(y_train.shape)"
   ]
  },
  {
   "cell_type": "code",
   "execution_count": 8,
   "metadata": {},
   "outputs": [
    {
     "name": "stdout",
     "output_type": "stream",
     "text": [
      "(10000, 3072)\n",
      "(10000, 2)\n"
     ]
    }
   ],
   "source": [
    "x_test = test_data.iloc[:, 2:]\n",
    "print(x_test.shape)\n",
    "y_test = test_data.iloc[:, [0, 1]]\n",
    "print(y_test.shape)"
   ]
  },
  {
   "cell_type": "code",
   "execution_count": 9,
   "metadata": {},
   "outputs": [],
   "source": [
    "x_train = np.array(x_train)\n",
    "x_test = np.array(x_test)"
   ]
  },
  {
   "cell_type": "code",
   "execution_count": 10,
   "metadata": {},
   "outputs": [
    {
     "name": "stdout",
     "output_type": "stream",
     "text": [
      "(50000, 3072)\n",
      "(10000, 3072)\n"
     ]
    }
   ],
   "source": [
    "print(x_train.shape)\n",
    "print(x_test.shape)"
   ]
  },
  {
   "cell_type": "code",
   "execution_count": 11,
   "metadata": {
    "scrolled": true
   },
   "outputs": [
    {
     "name": "stdout",
     "output_type": "stream",
     "text": [
      "(50000, 3072)\n",
      "(10000, 3072)\n"
     ]
    }
   ],
   "source": [
    "x_train = x_train.astype('float32')/255\n",
    "x_test = x_test.astype('float32')/255\n",
    "print(x_train.shape)\n",
    "print(x_test.shape)"
   ]
  },
  {
   "cell_type": "markdown",
   "metadata": {},
   "source": [
    "## Adding some noise"
   ]
  },
  {
   "cell_type": "code",
   "execution_count": 12,
   "metadata": {},
   "outputs": [
    {
     "name": "stdout",
     "output_type": "stream",
     "text": [
      "(50000, 3072)\n",
      "(10000, 3072)\n"
     ]
    }
   ],
   "source": [
    "x_train_noisy = x_train + np.random.normal(loc = 0.0, scale = 0.5, size = x_train.shape)\n",
    "x_train_noisy = np.clip(x_train_noisy, 0., 1.)\n",
    "\n",
    "x_test_noisy = x_test + np.random.normal(loc = 0.0, scale = 0.5, size = x_test.shape)\n",
    "x_test_noisy = np.clip(x_test_noisy, 0., 1.)\n",
    "\n",
    "print(x_train_noisy.shape)\n",
    "print(x_test_noisy.shape)"
   ]
  },
  {
   "cell_type": "code",
   "execution_count": 13,
   "metadata": {},
   "outputs": [],
   "source": [
    "input_img = Input(shape = (3072, ))\n",
    "encoded = Dense(units = 128, activation = 'relu')(input_img)\n",
    "encoded = Dense(units = 128, activation = 'relu')(encoded)\n",
    "encoded = Dense(units = 128, activation = 'relu')(encoded)\n",
    "encoded = Dense(units = 64, activation = 'relu')(encoded)\n",
    "encoded = Dense(units = 64, activation = 'relu')(encoded)\n",
    "encoded = Dense(units = 64, activation = 'relu')(encoded)\n",
    "encoded = Dense(units = 32, activation = 'relu')(encoded)\n",
    "decoded = Dense(units = 64, activation = 'relu')(encoded)\n",
    "decoded = Dense(units = 64, activation = 'relu')(decoded)\n",
    "decoded = Dense(units = 64, activation = 'relu')(decoded)\n",
    "decoded = Dense(units = 128, activation = 'relu')(decoded)\n",
    "decoded = Dense(units = 128, activation = 'relu')(decoded)\n",
    "decoded = Dense(units = 128, activation = 'relu')(decoded)\n",
    "decoded = Dense(units = 3072, activation = 'tanh')(decoded)"
   ]
  },
  {
   "cell_type": "code",
   "execution_count": 14,
   "metadata": {},
   "outputs": [],
   "source": [
    "autoencoder = Model(input_img, decoded)\n",
    "encoder = Model(input_img, encoded)"
   ]
  },
  {
   "cell_type": "code",
   "execution_count": 15,
   "metadata": {
    "scrolled": true
   },
   "outputs": [
    {
     "name": "stdout",
     "output_type": "stream",
     "text": [
      "Model: \"model_1\"\n",
      "_________________________________________________________________\n",
      "Layer (type)                 Output Shape              Param #   \n",
      "=================================================================\n",
      "input_1 (InputLayer)         (None, 3072)              0         \n",
      "_________________________________________________________________\n",
      "dense_1 (Dense)              (None, 128)               393344    \n",
      "_________________________________________________________________\n",
      "dense_2 (Dense)              (None, 128)               16512     \n",
      "_________________________________________________________________\n",
      "dense_3 (Dense)              (None, 128)               16512     \n",
      "_________________________________________________________________\n",
      "dense_4 (Dense)              (None, 64)                8256      \n",
      "_________________________________________________________________\n",
      "dense_5 (Dense)              (None, 64)                4160      \n",
      "_________________________________________________________________\n",
      "dense_6 (Dense)              (None, 64)                4160      \n",
      "_________________________________________________________________\n",
      "dense_7 (Dense)              (None, 32)                2080      \n",
      "_________________________________________________________________\n",
      "dense_8 (Dense)              (None, 64)                2112      \n",
      "_________________________________________________________________\n",
      "dense_9 (Dense)              (None, 64)                4160      \n",
      "_________________________________________________________________\n",
      "dense_10 (Dense)             (None, 64)                4160      \n",
      "_________________________________________________________________\n",
      "dense_11 (Dense)             (None, 128)               8320      \n",
      "_________________________________________________________________\n",
      "dense_12 (Dense)             (None, 128)               16512     \n",
      "_________________________________________________________________\n",
      "dense_13 (Dense)             (None, 128)               16512     \n",
      "_________________________________________________________________\n",
      "dense_14 (Dense)             (None, 3072)              396288    \n",
      "=================================================================\n",
      "Total params: 893,088\n",
      "Trainable params: 893,088\n",
      "Non-trainable params: 0\n",
      "_________________________________________________________________\n"
     ]
    }
   ],
   "source": [
    "autoencoder.summary()"
   ]
  },
  {
   "cell_type": "code",
   "execution_count": 16,
   "metadata": {
    "scrolled": true
   },
   "outputs": [
    {
     "name": "stdout",
     "output_type": "stream",
     "text": [
      "Model: \"model_2\"\n",
      "_________________________________________________________________\n",
      "Layer (type)                 Output Shape              Param #   \n",
      "=================================================================\n",
      "input_1 (InputLayer)         (None, 3072)              0         \n",
      "_________________________________________________________________\n",
      "dense_1 (Dense)              (None, 128)               393344    \n",
      "_________________________________________________________________\n",
      "dense_2 (Dense)              (None, 128)               16512     \n",
      "_________________________________________________________________\n",
      "dense_3 (Dense)              (None, 128)               16512     \n",
      "_________________________________________________________________\n",
      "dense_4 (Dense)              (None, 64)                8256      \n",
      "_________________________________________________________________\n",
      "dense_5 (Dense)              (None, 64)                4160      \n",
      "_________________________________________________________________\n",
      "dense_6 (Dense)              (None, 64)                4160      \n",
      "_________________________________________________________________\n",
      "dense_7 (Dense)              (None, 32)                2080      \n",
      "=================================================================\n",
      "Total params: 445,024\n",
      "Trainable params: 445,024\n",
      "Non-trainable params: 0\n",
      "_________________________________________________________________\n"
     ]
    }
   ],
   "source": [
    "encoder.summary()"
   ]
  },
  {
   "cell_type": "code",
   "execution_count": 17,
   "metadata": {
    "scrolled": true
   },
   "outputs": [
    {
     "name": "stdout",
     "output_type": "stream",
     "text": [
      "Train on 50000 samples, validate on 10000 samples\n",
      "Epoch 1/50\n",
      "50000/50000 [==============================] - 8s 161us/step - loss: 0.1424 - accuracy: 0.0013 - val_loss: 0.1334 - val_accuracy: 1.0000e-04\n",
      "Epoch 2/50\n",
      "50000/50000 [==============================] - 8s 156us/step - loss: 0.1326 - accuracy: 4.8000e-04 - val_loss: 0.1302 - val_accuracy: 0.0000e+00\n",
      "Epoch 3/50\n",
      "50000/50000 [==============================] - 8s 154us/step - loss: 0.1299 - accuracy: 8.2000e-04 - val_loss: 0.1300 - val_accuracy: 0.0000e+00\n",
      "Epoch 4/50\n",
      "50000/50000 [==============================] - 12s 243us/step - loss: 0.1298 - accuracy: 2.8000e-04 - val_loss: 0.1293 - val_accuracy: 2.0000e-04\n",
      "Epoch 5/50\n",
      "50000/50000 [==============================] - 11s 221us/step - loss: 0.1282 - accuracy: 0.0015 - val_loss: 0.1279 - val_accuracy: 0.0000e+00\n",
      "Epoch 6/50\n",
      "50000/50000 [==============================] - 11s 222us/step - loss: 0.1278 - accuracy: 3.2000e-04 - val_loss: 0.1279 - val_accuracy: 2.0000e-04\n",
      "Epoch 7/50\n",
      "50000/50000 [==============================] - 11s 222us/step - loss: 0.1276 - accuracy: 3.2000e-04 - val_loss: 0.1270 - val_accuracy: 1.0000e-04\n",
      "Epoch 8/50\n",
      "50000/50000 [==============================] - 11s 224us/step - loss: 0.1269 - accuracy: 9.2000e-04 - val_loss: 0.1269 - val_accuracy: 1.0000e-04\n",
      "Epoch 9/50\n",
      "50000/50000 [==============================] - 11s 223us/step - loss: 0.1268 - accuracy: 8.4000e-04 - val_loss: 0.1269 - val_accuracy: 1.0000e-04\n",
      "Epoch 10/50\n",
      "50000/50000 [==============================] - 11s 223us/step - loss: 0.1262 - accuracy: 2.8000e-04 - val_loss: 0.1261 - val_accuracy: 4.0000e-04\n",
      "Epoch 11/50\n",
      "50000/50000 [==============================] - 11s 226us/step - loss: 0.1261 - accuracy: 4.8000e-04 - val_loss: 0.1261 - val_accuracy: 9.0000e-04\n",
      "Epoch 12/50\n",
      "50000/50000 [==============================] - 11s 228us/step - loss: 0.1257 - accuracy: 9.8000e-04 - val_loss: 0.1254 - val_accuracy: 0.0000e+00\n",
      "Epoch 13/50\n",
      "50000/50000 [==============================] - 11s 229us/step - loss: 0.1253 - accuracy: 2.6000e-04 - val_loss: 0.1254 - val_accuracy: 4.0000e-04\n",
      "Epoch 14/50\n",
      "50000/50000 [==============================] - 11s 229us/step - loss: 0.1252 - accuracy: 4.2000e-04 - val_loss: 0.1252 - val_accuracy: 8.0000e-04\n",
      "Epoch 15/50\n",
      "50000/50000 [==============================] - 11s 227us/step - loss: 0.1251 - accuracy: 5.2000e-04 - val_loss: 0.1262 - val_accuracy: 3.0000e-04\n",
      "Epoch 16/50\n",
      "50000/50000 [==============================] - 11s 227us/step - loss: 0.1246 - accuracy: 3.6000e-04 - val_loss: 0.1244 - val_accuracy: 1.0000e-04\n",
      "Epoch 17/50\n",
      "50000/50000 [==============================] - 11s 227us/step - loss: 0.1241 - accuracy: 0.0013 - val_loss: 0.1240 - val_accuracy: 3.0000e-04\n",
      "Epoch 18/50\n",
      "50000/50000 [==============================] - 11s 229us/step - loss: 0.1239 - accuracy: 0.0012 - val_loss: 0.1240 - val_accuracy: 0.0000e+00\n",
      "Epoch 19/50\n",
      "50000/50000 [==============================] - 12s 244us/step - loss: 0.1238 - accuracy: 0.0010 - val_loss: 0.1239 - val_accuracy: 4.0000e-04\n",
      "Epoch 20/50\n",
      "50000/50000 [==============================] - 12s 240us/step - loss: 0.1238 - accuracy: 9.8000e-04 - val_loss: 0.1240 - val_accuracy: 0.0029\n",
      "Epoch 21/50\n",
      "50000/50000 [==============================] - 12s 243us/step - loss: 0.1238 - accuracy: 9.6000e-04 - val_loss: 0.1239 - val_accuracy: 2.0000e-04\n",
      "Epoch 22/50\n",
      "50000/50000 [==============================] - 13s 252us/step - loss: 0.1237 - accuracy: 5.2000e-04 - val_loss: 0.1239 - val_accuracy: 5.0000e-04\n",
      "Epoch 23/50\n",
      "50000/50000 [==============================] - 12s 235us/step - loss: 0.1237 - accuracy: 0.0013 - val_loss: 0.1239 - val_accuracy: 0.0021\n",
      "Epoch 24/50\n",
      "50000/50000 [==============================] - 11s 228us/step - loss: 0.1237 - accuracy: 6.0000e-04 - val_loss: 0.1243 - val_accuracy: 9.0000e-04\n",
      "Epoch 25/50\n",
      "50000/50000 [==============================] - 11s 228us/step - loss: 0.1234 - accuracy: 9.0000e-04 - val_loss: 0.1234 - val_accuracy: 5.0000e-04\n",
      "Epoch 26/50\n",
      "50000/50000 [==============================] - 12s 232us/step - loss: 0.1232 - accuracy: 8.8000e-04 - val_loss: 0.1234 - val_accuracy: 5.0000e-04\n",
      "Epoch 27/50\n",
      "50000/50000 [==============================] - 12s 236us/step - loss: 0.1231 - accuracy: 5.8000e-04 - val_loss: 0.1233 - val_accuracy: 0.0000e+00\n",
      "Epoch 28/50\n",
      "50000/50000 [==============================] - 13s 257us/step - loss: 0.1231 - accuracy: 4.6000e-04 - val_loss: 0.1233 - val_accuracy: 7.0000e-04\n",
      "Epoch 29/50\n",
      "50000/50000 [==============================] - 12s 239us/step - loss: 0.1231 - accuracy: 0.0012 - val_loss: 0.1233 - val_accuracy: 7.0000e-04\n",
      "Epoch 30/50\n",
      "50000/50000 [==============================] - 13s 253us/step - loss: 0.1231 - accuracy: 8.4000e-04 - val_loss: 0.1232 - val_accuracy: 0.0011\n",
      "Epoch 31/50\n",
      "50000/50000 [==============================] - 12s 237us/step - loss: 0.1231 - accuracy: 8.6000e-04 - val_loss: 0.1233 - val_accuracy: 0.0011\n",
      "Epoch 32/50\n",
      "50000/50000 [==============================] - 13s 255us/step - loss: 0.1230 - accuracy: 7.4000e-04 - val_loss: 0.1233 - val_accuracy: 3.0000e-04\n",
      "Epoch 33/50\n",
      "50000/50000 [==============================] - 15s 292us/step - loss: 0.1230 - accuracy: 8.4000e-04 - val_loss: 0.1232 - val_accuracy: 0.0013\n",
      "Epoch 34/50\n",
      "50000/50000 [==============================] - 15s 293us/step - loss: 0.1230 - accuracy: 7.6000e-04 - val_loss: 0.1232 - val_accuracy: 3.0000e-04\n",
      "Epoch 35/50\n",
      "50000/50000 [==============================] - 16s 312us/step - loss: 0.1230 - accuracy: 8.6000e-04 - val_loss: 0.1233 - val_accuracy: 1.0000e-04\n",
      "Epoch 36/50\n",
      "50000/50000 [==============================] - 15s 298us/step - loss: 0.1230 - accuracy: 8.4000e-04 - val_loss: 0.1234 - val_accuracy: 2.0000e-04\n",
      "Epoch 37/50\n",
      "50000/50000 [==============================] - 17s 343us/step - loss: 0.1230 - accuracy: 6.8000e-04 - val_loss: 0.1232 - val_accuracy: 0.0013\n",
      "Epoch 38/50\n",
      "50000/50000 [==============================] - 13s 250us/step - loss: 0.1229 - accuracy: 6.6000e-04 - val_loss: 0.1234 - val_accuracy: 3.0000e-04\n",
      "Epoch 39/50\n",
      "50000/50000 [==============================] - 12s 239us/step - loss: 0.1230 - accuracy: 5.8000e-04 - val_loss: 0.1232 - val_accuracy: 0.0000e+00\n",
      "Epoch 40/50\n",
      "50000/50000 [==============================] - 12s 241us/step - loss: 0.1229 - accuracy: 5.6000e-04 - val_loss: 0.1229 - val_accuracy: 4.0000e-04\n",
      "Epoch 41/50\n",
      "50000/50000 [==============================] - 12s 241us/step - loss: 0.1227 - accuracy: 6.4000e-04 - val_loss: 0.1229 - val_accuracy: 3.0000e-04\n",
      "Epoch 42/50\n",
      "50000/50000 [==============================] - 12s 247us/step - loss: 0.1226 - accuracy: 4.8000e-04 - val_loss: 0.1229 - val_accuracy: 4.0000e-04\n",
      "Epoch 43/50\n",
      "50000/50000 [==============================] - 13s 266us/step - loss: 0.1226 - accuracy: 4.8000e-04 - val_loss: 0.1229 - val_accuracy: 4.0000e-04\n",
      "Epoch 44/50\n",
      "50000/50000 [==============================] - 13s 253us/step - loss: 0.1226 - accuracy: 5.6000e-04 - val_loss: 0.1228 - val_accuracy: 5.0000e-04\n",
      "Epoch 45/50\n",
      "50000/50000 [==============================] - 15s 301us/step - loss: 0.1226 - accuracy: 3.2000e-04 - val_loss: 0.1228 - val_accuracy: 0.0012\n",
      "Epoch 46/50\n",
      "50000/50000 [==============================] - 15s 304us/step - loss: 0.1226 - accuracy: 6.2000e-04 - val_loss: 0.1228 - val_accuracy: 4.0000e-04\n",
      "Epoch 47/50\n",
      "50000/50000 [==============================] - 16s 323us/step - loss: 0.1225 - accuracy: 6.4000e-04 - val_loss: 0.1229 - val_accuracy: 5.0000e-04\n",
      "Epoch 48/50\n",
      "50000/50000 [==============================] - 16s 310us/step - loss: 0.1225 - accuracy: 6.2000e-04 - val_loss: 0.1227 - val_accuracy: 3.0000e-04\n",
      "Epoch 49/50\n",
      "50000/50000 [==============================] - 17s 340us/step - loss: 0.1223 - accuracy: 8.6000e-04 - val_loss: 0.1226 - val_accuracy: 0.0024\n",
      "Epoch 50/50\n",
      "50000/50000 [==============================] - 18s 352us/step - loss: 0.1223 - accuracy: 5.8000e-04 - val_loss: 0.1225 - val_accuracy: 8.0000e-04\n"
     ]
    },
    {
     "data": {
      "text/plain": [
       "<keras.callbacks.callbacks.History at 0x135d31128>"
      ]
     },
     "execution_count": 17,
     "metadata": {},
     "output_type": "execute_result"
    }
   ],
   "source": [
    "autoencoder.compile(optimizer = 'adam', loss = 'mse', metrics = ['accuracy'])\n",
    "autoencoder.fit(x_train_noisy, x_train_noisy, epochs = 50, batch_size = 256, shuffle = True, validation_data = [x_test_noisy, x_test_noisy])"
   ]
  },
  {
   "cell_type": "code",
   "execution_count": 18,
   "metadata": {},
   "outputs": [],
   "source": [
    "encoded_test_data = encoder.predict(x_test_noisy)\n",
    "predicted_test_data = autoencoder.predict(x_test_noisy)"
   ]
  },
  {
   "cell_type": "code",
   "execution_count": 19,
   "metadata": {},
   "outputs": [
    {
     "data": {
      "text/plain": [
       "(10000, 32)"
      ]
     },
     "execution_count": 19,
     "metadata": {},
     "output_type": "execute_result"
    }
   ],
   "source": [
    "encoded_test_data.shape"
   ]
  },
  {
   "cell_type": "code",
   "execution_count": 20,
   "metadata": {
    "scrolled": true
   },
   "outputs": [
    {
     "data": {
      "text/html": [
       "<div>\n",
       "<style scoped>\n",
       "    .dataframe tbody tr th:only-of-type {\n",
       "        vertical-align: middle;\n",
       "    }\n",
       "\n",
       "    .dataframe tbody tr th {\n",
       "        vertical-align: top;\n",
       "    }\n",
       "\n",
       "    .dataframe thead th {\n",
       "        text-align: right;\n",
       "    }\n",
       "</style>\n",
       "<table border=\"1\" class=\"dataframe\">\n",
       "  <thead>\n",
       "    <tr style=\"text-align: right;\">\n",
       "      <th></th>\n",
       "      <th>Class</th>\n",
       "      <th>Class Name</th>\n",
       "    </tr>\n",
       "  </thead>\n",
       "  <tbody>\n",
       "    <tr>\n",
       "      <th>0</th>\n",
       "      <td>3</td>\n",
       "      <td>cat</td>\n",
       "    </tr>\n",
       "    <tr>\n",
       "      <th>1</th>\n",
       "      <td>8</td>\n",
       "      <td>ship</td>\n",
       "    </tr>\n",
       "    <tr>\n",
       "      <th>2</th>\n",
       "      <td>8</td>\n",
       "      <td>ship</td>\n",
       "    </tr>\n",
       "    <tr>\n",
       "      <th>3</th>\n",
       "      <td>0</td>\n",
       "      <td>airplane</td>\n",
       "    </tr>\n",
       "    <tr>\n",
       "      <th>4</th>\n",
       "      <td>6</td>\n",
       "      <td>frog</td>\n",
       "    </tr>\n",
       "    <tr>\n",
       "      <th>...</th>\n",
       "      <td>...</td>\n",
       "      <td>...</td>\n",
       "    </tr>\n",
       "    <tr>\n",
       "      <th>9995</th>\n",
       "      <td>8</td>\n",
       "      <td>ship</td>\n",
       "    </tr>\n",
       "    <tr>\n",
       "      <th>9996</th>\n",
       "      <td>3</td>\n",
       "      <td>cat</td>\n",
       "    </tr>\n",
       "    <tr>\n",
       "      <th>9997</th>\n",
       "      <td>5</td>\n",
       "      <td>dog</td>\n",
       "    </tr>\n",
       "    <tr>\n",
       "      <th>9998</th>\n",
       "      <td>1</td>\n",
       "      <td>automobile</td>\n",
       "    </tr>\n",
       "    <tr>\n",
       "      <th>9999</th>\n",
       "      <td>7</td>\n",
       "      <td>horse</td>\n",
       "    </tr>\n",
       "  </tbody>\n",
       "</table>\n",
       "<p>10000 rows × 2 columns</p>\n",
       "</div>"
      ],
      "text/plain": [
       "      Class  Class Name\n",
       "0         3         cat\n",
       "1         8        ship\n",
       "2         8        ship\n",
       "3         0    airplane\n",
       "4         6        frog\n",
       "...     ...         ...\n",
       "9995      8        ship\n",
       "9996      3         cat\n",
       "9997      5         dog\n",
       "9998      1  automobile\n",
       "9999      7       horse\n",
       "\n",
       "[10000 rows x 2 columns]"
      ]
     },
     "execution_count": 20,
     "metadata": {},
     "output_type": "execute_result"
    }
   ],
   "source": [
    "y_test"
   ]
  },
  {
   "cell_type": "code",
   "execution_count": 21,
   "metadata": {},
   "outputs": [
    {
     "data": {
      "text/plain": [
       "(10000, 34)"
      ]
     },
     "execution_count": 21,
     "metadata": {},
     "output_type": "execute_result"
    }
   ],
   "source": [
    "encoded_test_data_df = pd.DataFrame(encoded_test_data)\n",
    "final_encoded_test_data_df = pd.concat([y_test, encoded_test_data_df], axis = 1)\n",
    "final_encoded_test_data_df.shape"
   ]
  },
  {
   "cell_type": "code",
   "execution_count": 22,
   "metadata": {},
   "outputs": [],
   "source": [
    "datadir = '/Users/sidv88/Documents/Data_Management_2/Denoised_Encoded_Data/'\n",
    "final_encoded_test_data_df.to_csv(datadir + 'Denoising_Encoders_Test_RTAM.csv', index = False)"
   ]
  },
  {
   "cell_type": "code",
   "execution_count": 23,
   "metadata": {},
   "outputs": [
    {
     "name": "stdout",
     "output_type": "stream",
     "text": [
      "Enter one of these values ['cat' 'ship' 'airplane' 'frog' 'automobile' 'truck' 'dog' 'horse' 'deer'\n",
      " 'bird'] : ship\n"
     ]
    }
   ],
   "source": [
    "input_val = input(\"Enter one of these values {} : \".format(final_encoded_test_data_df['Class Name'].unique()))"
   ]
  },
  {
   "cell_type": "code",
   "execution_count": 24,
   "metadata": {},
   "outputs": [
    {
     "name": "stdout",
     "output_type": "stream",
     "text": [
      "Enter a number between 0 and 999 : 8\n"
     ]
    }
   ],
   "source": [
    "input_num = input(\"Enter a number between 0 and 999 : \")"
   ]
  },
  {
   "cell_type": "code",
   "execution_count": 25,
   "metadata": {},
   "outputs": [
    {
     "name": "stdout",
     "output_type": "stream",
     "text": [
      "10000\n",
      "10000\n"
     ]
    }
   ],
   "source": [
    "from numpy import dot\n",
    "from numpy.linalg import norm\n",
    "\n",
    "cosine_similarity = []\n",
    "cosine_distance = []\n",
    "\n",
    "for i in range(len(x_test_noisy)):\n",
    "    a = final_encoded_test_data_df.loc[final_encoded_test_data_df['Class Name'] == input_val].iloc[int(input_num), 2:]\n",
    "    b = final_encoded_test_data_df.iloc[i, 2:]\n",
    "    cos_sim = dot(a, b)/(norm(a) * norm(b))\n",
    "    cos_dist = 1 - cos_sim\n",
    "    cosine_similarity.append(cos_sim)\n",
    "    cosine_distance.append(cos_dist)\n",
    "print(len(cosine_similarity))\n",
    "print(len(cosine_distance))"
   ]
  },
  {
   "cell_type": "code",
   "execution_count": 26,
   "metadata": {},
   "outputs": [],
   "source": [
    "final_encoded_test_data_df['Cosine Similarity'] = cosine_similarity\n",
    "final_encoded_test_data_df['Cosine Distance'] = cosine_distance"
   ]
  },
  {
   "cell_type": "code",
   "execution_count": 27,
   "metadata": {},
   "outputs": [
    {
     "data": {
      "text/html": [
       "<div>\n",
       "<style scoped>\n",
       "    .dataframe tbody tr th:only-of-type {\n",
       "        vertical-align: middle;\n",
       "    }\n",
       "\n",
       "    .dataframe tbody tr th {\n",
       "        vertical-align: top;\n",
       "    }\n",
       "\n",
       "    .dataframe thead th {\n",
       "        text-align: right;\n",
       "    }\n",
       "</style>\n",
       "<table border=\"1\" class=\"dataframe\">\n",
       "  <thead>\n",
       "    <tr style=\"text-align: right;\">\n",
       "      <th></th>\n",
       "      <th>Class</th>\n",
       "      <th>Class Name</th>\n",
       "      <th>0</th>\n",
       "      <th>1</th>\n",
       "      <th>2</th>\n",
       "      <th>3</th>\n",
       "      <th>4</th>\n",
       "      <th>5</th>\n",
       "      <th>6</th>\n",
       "      <th>7</th>\n",
       "      <th>...</th>\n",
       "      <th>24</th>\n",
       "      <th>25</th>\n",
       "      <th>26</th>\n",
       "      <th>27</th>\n",
       "      <th>28</th>\n",
       "      <th>29</th>\n",
       "      <th>30</th>\n",
       "      <th>31</th>\n",
       "      <th>Cosine Similarity</th>\n",
       "      <th>Cosine Distance</th>\n",
       "    </tr>\n",
       "  </thead>\n",
       "  <tbody>\n",
       "    <tr>\n",
       "      <th>73</th>\n",
       "      <td>8</td>\n",
       "      <td>ship</td>\n",
       "      <td>0.0</td>\n",
       "      <td>2.423490</td>\n",
       "      <td>0.0</td>\n",
       "      <td>0.0</td>\n",
       "      <td>0.0</td>\n",
       "      <td>2.516330</td>\n",
       "      <td>5.750570</td>\n",
       "      <td>2.851629</td>\n",
       "      <td>...</td>\n",
       "      <td>2.899286</td>\n",
       "      <td>0.000000</td>\n",
       "      <td>0.0</td>\n",
       "      <td>3.179387</td>\n",
       "      <td>0.0</td>\n",
       "      <td>0.0</td>\n",
       "      <td>0.0</td>\n",
       "      <td>0.0</td>\n",
       "      <td>1.000000</td>\n",
       "      <td>0.000000</td>\n",
       "    </tr>\n",
       "    <tr>\n",
       "      <th>9619</th>\n",
       "      <td>8</td>\n",
       "      <td>ship</td>\n",
       "      <td>0.0</td>\n",
       "      <td>2.638308</td>\n",
       "      <td>0.0</td>\n",
       "      <td>0.0</td>\n",
       "      <td>0.0</td>\n",
       "      <td>2.814687</td>\n",
       "      <td>6.319755</td>\n",
       "      <td>3.083079</td>\n",
       "      <td>...</td>\n",
       "      <td>2.603668</td>\n",
       "      <td>0.000000</td>\n",
       "      <td>0.0</td>\n",
       "      <td>3.480982</td>\n",
       "      <td>0.0</td>\n",
       "      <td>0.0</td>\n",
       "      <td>0.0</td>\n",
       "      <td>0.0</td>\n",
       "      <td>0.997411</td>\n",
       "      <td>0.002589</td>\n",
       "    </tr>\n",
       "    <tr>\n",
       "      <th>9814</th>\n",
       "      <td>8</td>\n",
       "      <td>ship</td>\n",
       "      <td>0.0</td>\n",
       "      <td>3.155074</td>\n",
       "      <td>0.0</td>\n",
       "      <td>0.0</td>\n",
       "      <td>0.0</td>\n",
       "      <td>3.199063</td>\n",
       "      <td>6.883255</td>\n",
       "      <td>2.906261</td>\n",
       "      <td>...</td>\n",
       "      <td>3.026883</td>\n",
       "      <td>0.000000</td>\n",
       "      <td>0.0</td>\n",
       "      <td>4.105647</td>\n",
       "      <td>0.0</td>\n",
       "      <td>0.0</td>\n",
       "      <td>0.0</td>\n",
       "      <td>0.0</td>\n",
       "      <td>0.997189</td>\n",
       "      <td>0.002811</td>\n",
       "    </tr>\n",
       "    <tr>\n",
       "      <th>4742</th>\n",
       "      <td>8</td>\n",
       "      <td>ship</td>\n",
       "      <td>0.0</td>\n",
       "      <td>2.278781</td>\n",
       "      <td>0.0</td>\n",
       "      <td>0.0</td>\n",
       "      <td>0.0</td>\n",
       "      <td>3.212156</td>\n",
       "      <td>5.635116</td>\n",
       "      <td>3.065969</td>\n",
       "      <td>...</td>\n",
       "      <td>2.746975</td>\n",
       "      <td>0.000000</td>\n",
       "      <td>0.0</td>\n",
       "      <td>3.217443</td>\n",
       "      <td>0.0</td>\n",
       "      <td>0.0</td>\n",
       "      <td>0.0</td>\n",
       "      <td>0.0</td>\n",
       "      <td>0.996987</td>\n",
       "      <td>0.003013</td>\n",
       "    </tr>\n",
       "    <tr>\n",
       "      <th>4595</th>\n",
       "      <td>9</td>\n",
       "      <td>truck</td>\n",
       "      <td>0.0</td>\n",
       "      <td>1.749378</td>\n",
       "      <td>0.0</td>\n",
       "      <td>0.0</td>\n",
       "      <td>0.0</td>\n",
       "      <td>1.865143</td>\n",
       "      <td>4.029922</td>\n",
       "      <td>2.119104</td>\n",
       "      <td>...</td>\n",
       "      <td>1.702447</td>\n",
       "      <td>0.000000</td>\n",
       "      <td>0.0</td>\n",
       "      <td>2.464703</td>\n",
       "      <td>0.0</td>\n",
       "      <td>0.0</td>\n",
       "      <td>0.0</td>\n",
       "      <td>0.0</td>\n",
       "      <td>0.996519</td>\n",
       "      <td>0.003481</td>\n",
       "    </tr>\n",
       "    <tr>\n",
       "      <th>...</th>\n",
       "      <td>...</td>\n",
       "      <td>...</td>\n",
       "      <td>...</td>\n",
       "      <td>...</td>\n",
       "      <td>...</td>\n",
       "      <td>...</td>\n",
       "      <td>...</td>\n",
       "      <td>...</td>\n",
       "      <td>...</td>\n",
       "      <td>...</td>\n",
       "      <td>...</td>\n",
       "      <td>...</td>\n",
       "      <td>...</td>\n",
       "      <td>...</td>\n",
       "      <td>...</td>\n",
       "      <td>...</td>\n",
       "      <td>...</td>\n",
       "      <td>...</td>\n",
       "      <td>...</td>\n",
       "      <td>...</td>\n",
       "      <td>...</td>\n",
       "    </tr>\n",
       "    <tr>\n",
       "      <th>557</th>\n",
       "      <td>4</td>\n",
       "      <td>deer</td>\n",
       "      <td>0.0</td>\n",
       "      <td>1.009306</td>\n",
       "      <td>0.0</td>\n",
       "      <td>0.0</td>\n",
       "      <td>0.0</td>\n",
       "      <td>1.797909</td>\n",
       "      <td>1.302538</td>\n",
       "      <td>1.225505</td>\n",
       "      <td>...</td>\n",
       "      <td>2.437436</td>\n",
       "      <td>0.712308</td>\n",
       "      <td>0.0</td>\n",
       "      <td>1.740632</td>\n",
       "      <td>0.0</td>\n",
       "      <td>0.0</td>\n",
       "      <td>0.0</td>\n",
       "      <td>0.0</td>\n",
       "      <td>0.840035</td>\n",
       "      <td>0.159965</td>\n",
       "    </tr>\n",
       "    <tr>\n",
       "      <th>9801</th>\n",
       "      <td>6</td>\n",
       "      <td>frog</td>\n",
       "      <td>0.0</td>\n",
       "      <td>1.089702</td>\n",
       "      <td>0.0</td>\n",
       "      <td>0.0</td>\n",
       "      <td>0.0</td>\n",
       "      <td>1.489216</td>\n",
       "      <td>3.796138</td>\n",
       "      <td>0.619751</td>\n",
       "      <td>...</td>\n",
       "      <td>2.374951</td>\n",
       "      <td>0.000000</td>\n",
       "      <td>0.0</td>\n",
       "      <td>0.979415</td>\n",
       "      <td>0.0</td>\n",
       "      <td>0.0</td>\n",
       "      <td>0.0</td>\n",
       "      <td>0.0</td>\n",
       "      <td>0.839389</td>\n",
       "      <td>0.160611</td>\n",
       "    </tr>\n",
       "    <tr>\n",
       "      <th>1595</th>\n",
       "      <td>3</td>\n",
       "      <td>cat</td>\n",
       "      <td>0.0</td>\n",
       "      <td>1.893049</td>\n",
       "      <td>0.0</td>\n",
       "      <td>0.0</td>\n",
       "      <td>0.0</td>\n",
       "      <td>2.096120</td>\n",
       "      <td>1.272989</td>\n",
       "      <td>1.231608</td>\n",
       "      <td>...</td>\n",
       "      <td>2.068731</td>\n",
       "      <td>1.306174</td>\n",
       "      <td>0.0</td>\n",
       "      <td>5.628231</td>\n",
       "      <td>0.0</td>\n",
       "      <td>0.0</td>\n",
       "      <td>0.0</td>\n",
       "      <td>0.0</td>\n",
       "      <td>0.837717</td>\n",
       "      <td>0.162283</td>\n",
       "    </tr>\n",
       "    <tr>\n",
       "      <th>6656</th>\n",
       "      <td>6</td>\n",
       "      <td>frog</td>\n",
       "      <td>0.0</td>\n",
       "      <td>1.033455</td>\n",
       "      <td>0.0</td>\n",
       "      <td>0.0</td>\n",
       "      <td>0.0</td>\n",
       "      <td>1.991322</td>\n",
       "      <td>3.234732</td>\n",
       "      <td>0.629973</td>\n",
       "      <td>...</td>\n",
       "      <td>1.608055</td>\n",
       "      <td>0.000000</td>\n",
       "      <td>0.0</td>\n",
       "      <td>1.375870</td>\n",
       "      <td>0.0</td>\n",
       "      <td>0.0</td>\n",
       "      <td>0.0</td>\n",
       "      <td>0.0</td>\n",
       "      <td>0.837366</td>\n",
       "      <td>0.162634</td>\n",
       "    </tr>\n",
       "    <tr>\n",
       "      <th>9977</th>\n",
       "      <td>5</td>\n",
       "      <td>dog</td>\n",
       "      <td>0.0</td>\n",
       "      <td>1.324255</td>\n",
       "      <td>0.0</td>\n",
       "      <td>0.0</td>\n",
       "      <td>0.0</td>\n",
       "      <td>2.456527</td>\n",
       "      <td>2.999104</td>\n",
       "      <td>0.000000</td>\n",
       "      <td>...</td>\n",
       "      <td>2.911947</td>\n",
       "      <td>0.000000</td>\n",
       "      <td>0.0</td>\n",
       "      <td>0.978338</td>\n",
       "      <td>0.0</td>\n",
       "      <td>0.0</td>\n",
       "      <td>0.0</td>\n",
       "      <td>0.0</td>\n",
       "      <td>0.836293</td>\n",
       "      <td>0.163707</td>\n",
       "    </tr>\n",
       "  </tbody>\n",
       "</table>\n",
       "<p>10000 rows × 36 columns</p>\n",
       "</div>"
      ],
      "text/plain": [
       "      Class Class Name    0         1    2    3    4         5         6  \\\n",
       "73        8       ship  0.0  2.423490  0.0  0.0  0.0  2.516330  5.750570   \n",
       "9619      8       ship  0.0  2.638308  0.0  0.0  0.0  2.814687  6.319755   \n",
       "9814      8       ship  0.0  3.155074  0.0  0.0  0.0  3.199063  6.883255   \n",
       "4742      8       ship  0.0  2.278781  0.0  0.0  0.0  3.212156  5.635116   \n",
       "4595      9      truck  0.0  1.749378  0.0  0.0  0.0  1.865143  4.029922   \n",
       "...     ...        ...  ...       ...  ...  ...  ...       ...       ...   \n",
       "557       4       deer  0.0  1.009306  0.0  0.0  0.0  1.797909  1.302538   \n",
       "9801      6       frog  0.0  1.089702  0.0  0.0  0.0  1.489216  3.796138   \n",
       "1595      3        cat  0.0  1.893049  0.0  0.0  0.0  2.096120  1.272989   \n",
       "6656      6       frog  0.0  1.033455  0.0  0.0  0.0  1.991322  3.234732   \n",
       "9977      5        dog  0.0  1.324255  0.0  0.0  0.0  2.456527  2.999104   \n",
       "\n",
       "             7  ...        24        25   26        27   28   29   30   31  \\\n",
       "73    2.851629  ...  2.899286  0.000000  0.0  3.179387  0.0  0.0  0.0  0.0   \n",
       "9619  3.083079  ...  2.603668  0.000000  0.0  3.480982  0.0  0.0  0.0  0.0   \n",
       "9814  2.906261  ...  3.026883  0.000000  0.0  4.105647  0.0  0.0  0.0  0.0   \n",
       "4742  3.065969  ...  2.746975  0.000000  0.0  3.217443  0.0  0.0  0.0  0.0   \n",
       "4595  2.119104  ...  1.702447  0.000000  0.0  2.464703  0.0  0.0  0.0  0.0   \n",
       "...        ...  ...       ...       ...  ...       ...  ...  ...  ...  ...   \n",
       "557   1.225505  ...  2.437436  0.712308  0.0  1.740632  0.0  0.0  0.0  0.0   \n",
       "9801  0.619751  ...  2.374951  0.000000  0.0  0.979415  0.0  0.0  0.0  0.0   \n",
       "1595  1.231608  ...  2.068731  1.306174  0.0  5.628231  0.0  0.0  0.0  0.0   \n",
       "6656  0.629973  ...  1.608055  0.000000  0.0  1.375870  0.0  0.0  0.0  0.0   \n",
       "9977  0.000000  ...  2.911947  0.000000  0.0  0.978338  0.0  0.0  0.0  0.0   \n",
       "\n",
       "      Cosine Similarity  Cosine Distance  \n",
       "73             1.000000         0.000000  \n",
       "9619           0.997411         0.002589  \n",
       "9814           0.997189         0.002811  \n",
       "4742           0.996987         0.003013  \n",
       "4595           0.996519         0.003481  \n",
       "...                 ...              ...  \n",
       "557            0.840035         0.159965  \n",
       "9801           0.839389         0.160611  \n",
       "1595           0.837717         0.162283  \n",
       "6656           0.837366         0.162634  \n",
       "9977           0.836293         0.163707  \n",
       "\n",
       "[10000 rows x 36 columns]"
      ]
     },
     "execution_count": 27,
     "metadata": {},
     "output_type": "execute_result"
    }
   ],
   "source": [
    "final_encoded_test_data_df.sort_values(by = ['Cosine Similarity'], ascending = False)"
   ]
  },
  {
   "cell_type": "code",
   "execution_count": 28,
   "metadata": {},
   "outputs": [],
   "source": [
    "cosine_index = final_encoded_test_data_df.sort_values(by = ['Cosine Similarity'], ascending = False).head(10).index"
   ]
  },
  {
   "cell_type": "code",
   "execution_count": 29,
   "metadata": {
    "scrolled": true
   },
   "outputs": [
    {
     "data": {
      "image/png": "[encoded data removed]",
      "text/plain": [
       "<Figure size 144x144 with 1 Axes>"
      ]
     },
     "metadata": {
      "needs_background": "light"
     },
     "output_type": "display_data"
    },
    {
     "data": {
      "image/png": "[encoded data removed]",
      "text/plain": [
       "<Figure size 144x144 with 1 Axes>"
      ]
     },
     "metadata": {
      "needs_background": "light"
     },
     "output_type": "display_data"
    },
    {
     "data": {
      "image/png": "[encoded data removed]",
      "text/plain": [
       "<Figure size 144x144 with 1 Axes>"
      ]
     },
     "metadata": {
      "needs_background": "light"
     },
     "output_type": "display_data"
    },
    {
     "data": {
      "image/png": "[encoded data removed]",
      "text/plain": [
       "<Figure size 144x144 with 1 Axes>"
      ]
     },
     "metadata": {
      "needs_background": "light"
     },
     "output_type": "display_data"
    },
    {
     "data": {
      "image/png": "[encoded data removed]",
      "text/plain": [
       "<Figure size 144x144 with 1 Axes>"
      ]
     },
     "metadata": {
      "needs_background": "light"
     },
     "output_type": "display_data"
    },
    {
     "data": {
      "image/png": "[encoded data removed]",
      "text/plain": [
       "<Figure size 144x144 with 1 Axes>"
      ]
     },
     "metadata": {
      "needs_background": "light"
     },
     "output_type": "display_data"
    },
    {
     "data": {
      "image/png": "[encoded data removed]",
      "text/plain": [
       "<Figure size 144x144 with 1 Axes>"
      ]
     },
     "metadata": {
      "needs_background": "light"
     },
     "output_type": "display_data"
    },
    {
     "data": {
      "image/png": "[encoded data removed]",
      "text/plain": [
       "<Figure size 144x144 with 1 Axes>"
      ]
     },
     "metadata": {
      "needs_background": "light"
     },
     "output_type": "display_data"
    },
    {
     "data": {
      "image/png": "[encoded data removed]",
      "text/plain": [
       "<Figure size 144x144 with 1 Axes>"
      ]
     },
     "metadata": {
      "needs_background": "light"
     },
     "output_type": "display_data"
    },
    {
     "data": {
      "image/png": "[encoded data removed]",
      "text/plain": [
       "<Figure size 144x144 with 1 Axes>"
      ]
     },
     "metadata": {
      "needs_background": "light"
     },
     "output_type": "display_data"
    }
   ],
   "source": [
    "for i in cosine_index:\n",
    "    plt.figure(figsize = (2, 2))\n",
    "    plt.imshow(x_test[i].reshape(32, 32, 3))\n",
    "    plt.xlabel(final_encoded_test_data_df['Class Name'][i] + ' with a Cosine Similarity of ' + str(final_encoded_test_data_df['Cosine Similarity'][i]) + ' from the queried image.')\n",
    "    plt.show()"
   ]
  },
  {
   "cell_type": "code",
   "execution_count": 30,
   "metadata": {},
   "outputs": [
    {
     "name": "stdout",
     "output_type": "stream",
     "text": [
      "10000\n"
     ]
    }
   ],
   "source": [
    "euclidean_distance = []\n",
    "\n",
    "for i in range(len(x_test)):\n",
    "    a = final_encoded_test_data_df.loc[final_encoded_test_data_df['Class Name'] == input_val].iloc[int(input_num), 2:]\n",
    "    b = final_encoded_test_data_df.iloc[i, 2:]\n",
    "    euc_dist = np.linalg.norm(a-b)\n",
    "    euclidean_distance.append(euc_dist)\n",
    "print(len(euclidean_distance))"
   ]
  },
  {
   "cell_type": "code",
   "execution_count": 31,
   "metadata": {},
   "outputs": [
    {
     "data": {
      "text/html": [
       "<div>\n",
       "<style scoped>\n",
       "    .dataframe tbody tr th:only-of-type {\n",
       "        vertical-align: middle;\n",
       "    }\n",
       "\n",
       "    .dataframe tbody tr th {\n",
       "        vertical-align: top;\n",
       "    }\n",
       "\n",
       "    .dataframe thead th {\n",
       "        text-align: right;\n",
       "    }\n",
       "</style>\n",
       "<table border=\"1\" class=\"dataframe\">\n",
       "  <thead>\n",
       "    <tr style=\"text-align: right;\">\n",
       "      <th></th>\n",
       "      <th>Class</th>\n",
       "      <th>Class Name</th>\n",
       "      <th>0</th>\n",
       "      <th>1</th>\n",
       "      <th>2</th>\n",
       "      <th>3</th>\n",
       "      <th>4</th>\n",
       "      <th>5</th>\n",
       "      <th>6</th>\n",
       "      <th>7</th>\n",
       "      <th>...</th>\n",
       "      <th>25</th>\n",
       "      <th>26</th>\n",
       "      <th>27</th>\n",
       "      <th>28</th>\n",
       "      <th>29</th>\n",
       "      <th>30</th>\n",
       "      <th>31</th>\n",
       "      <th>Cosine Similarity</th>\n",
       "      <th>Cosine Distance</th>\n",
       "      <th>Euclidean Distance</th>\n",
       "    </tr>\n",
       "  </thead>\n",
       "  <tbody>\n",
       "    <tr>\n",
       "      <th>73</th>\n",
       "      <td>8</td>\n",
       "      <td>ship</td>\n",
       "      <td>0.0</td>\n",
       "      <td>2.423490</td>\n",
       "      <td>0.0</td>\n",
       "      <td>0.0</td>\n",
       "      <td>0.0</td>\n",
       "      <td>2.516330</td>\n",
       "      <td>5.750570</td>\n",
       "      <td>2.851629</td>\n",
       "      <td>...</td>\n",
       "      <td>0.0</td>\n",
       "      <td>0.0</td>\n",
       "      <td>3.179387</td>\n",
       "      <td>0.0</td>\n",
       "      <td>0.0</td>\n",
       "      <td>0.0</td>\n",
       "      <td>0.0</td>\n",
       "      <td>1.000000</td>\n",
       "      <td>0.000000</td>\n",
       "      <td>0.000000</td>\n",
       "    </tr>\n",
       "    <tr>\n",
       "      <th>4742</th>\n",
       "      <td>8</td>\n",
       "      <td>ship</td>\n",
       "      <td>0.0</td>\n",
       "      <td>2.278781</td>\n",
       "      <td>0.0</td>\n",
       "      <td>0.0</td>\n",
       "      <td>0.0</td>\n",
       "      <td>3.212156</td>\n",
       "      <td>5.635116</td>\n",
       "      <td>3.065969</td>\n",
       "      <td>...</td>\n",
       "      <td>0.0</td>\n",
       "      <td>0.0</td>\n",
       "      <td>3.217443</td>\n",
       "      <td>0.0</td>\n",
       "      <td>0.0</td>\n",
       "      <td>0.0</td>\n",
       "      <td>0.0</td>\n",
       "      <td>0.996987</td>\n",
       "      <td>0.003013</td>\n",
       "      <td>0.856305</td>\n",
       "    </tr>\n",
       "    <tr>\n",
       "      <th>4955</th>\n",
       "      <td>2</td>\n",
       "      <td>bird</td>\n",
       "      <td>0.0</td>\n",
       "      <td>2.813127</td>\n",
       "      <td>0.0</td>\n",
       "      <td>0.0</td>\n",
       "      <td>0.0</td>\n",
       "      <td>1.795093</td>\n",
       "      <td>5.290190</td>\n",
       "      <td>2.859666</td>\n",
       "      <td>...</td>\n",
       "      <td>0.0</td>\n",
       "      <td>0.0</td>\n",
       "      <td>3.313895</td>\n",
       "      <td>0.0</td>\n",
       "      <td>0.0</td>\n",
       "      <td>0.0</td>\n",
       "      <td>0.0</td>\n",
       "      <td>0.994806</td>\n",
       "      <td>0.005194</td>\n",
       "      <td>1.141517</td>\n",
       "    </tr>\n",
       "    <tr>\n",
       "      <th>4271</th>\n",
       "      <td>1</td>\n",
       "      <td>automobile</td>\n",
       "      <td>0.0</td>\n",
       "      <td>2.045625</td>\n",
       "      <td>0.0</td>\n",
       "      <td>0.0</td>\n",
       "      <td>0.0</td>\n",
       "      <td>2.279942</td>\n",
       "      <td>5.549023</td>\n",
       "      <td>3.261391</td>\n",
       "      <td>...</td>\n",
       "      <td>0.0</td>\n",
       "      <td>0.0</td>\n",
       "      <td>3.364407</td>\n",
       "      <td>0.0</td>\n",
       "      <td>0.0</td>\n",
       "      <td>0.0</td>\n",
       "      <td>0.0</td>\n",
       "      <td>0.993302</td>\n",
       "      <td>0.006698</td>\n",
       "      <td>1.261942</td>\n",
       "    </tr>\n",
       "    <tr>\n",
       "      <th>9619</th>\n",
       "      <td>8</td>\n",
       "      <td>ship</td>\n",
       "      <td>0.0</td>\n",
       "      <td>2.638308</td>\n",
       "      <td>0.0</td>\n",
       "      <td>0.0</td>\n",
       "      <td>0.0</td>\n",
       "      <td>2.814687</td>\n",
       "      <td>6.319755</td>\n",
       "      <td>3.083079</td>\n",
       "      <td>...</td>\n",
       "      <td>0.0</td>\n",
       "      <td>0.0</td>\n",
       "      <td>3.480982</td>\n",
       "      <td>0.0</td>\n",
       "      <td>0.0</td>\n",
       "      <td>0.0</td>\n",
       "      <td>0.0</td>\n",
       "      <td>0.997411</td>\n",
       "      <td>0.002589</td>\n",
       "      <td>1.305462</td>\n",
       "    </tr>\n",
       "    <tr>\n",
       "      <th>...</th>\n",
       "      <td>...</td>\n",
       "      <td>...</td>\n",
       "      <td>...</td>\n",
       "      <td>...</td>\n",
       "      <td>...</td>\n",
       "      <td>...</td>\n",
       "      <td>...</td>\n",
       "      <td>...</td>\n",
       "      <td>...</td>\n",
       "      <td>...</td>\n",
       "      <td>...</td>\n",
       "      <td>...</td>\n",
       "      <td>...</td>\n",
       "      <td>...</td>\n",
       "      <td>...</td>\n",
       "      <td>...</td>\n",
       "      <td>...</td>\n",
       "      <td>...</td>\n",
       "      <td>...</td>\n",
       "      <td>...</td>\n",
       "      <td>...</td>\n",
       "    </tr>\n",
       "    <tr>\n",
       "      <th>218</th>\n",
       "      <td>8</td>\n",
       "      <td>ship</td>\n",
       "      <td>0.0</td>\n",
       "      <td>3.162959</td>\n",
       "      <td>0.0</td>\n",
       "      <td>0.0</td>\n",
       "      <td>0.0</td>\n",
       "      <td>4.711321</td>\n",
       "      <td>7.169291</td>\n",
       "      <td>3.525975</td>\n",
       "      <td>...</td>\n",
       "      <td>0.0</td>\n",
       "      <td>0.0</td>\n",
       "      <td>6.348264</td>\n",
       "      <td>0.0</td>\n",
       "      <td>0.0</td>\n",
       "      <td>0.0</td>\n",
       "      <td>0.0</td>\n",
       "      <td>0.974539</td>\n",
       "      <td>0.025461</td>\n",
       "      <td>7.364845</td>\n",
       "    </tr>\n",
       "    <tr>\n",
       "      <th>9848</th>\n",
       "      <td>2</td>\n",
       "      <td>bird</td>\n",
       "      <td>0.0</td>\n",
       "      <td>3.216558</td>\n",
       "      <td>0.0</td>\n",
       "      <td>0.0</td>\n",
       "      <td>0.0</td>\n",
       "      <td>4.090710</td>\n",
       "      <td>7.203255</td>\n",
       "      <td>3.257225</td>\n",
       "      <td>...</td>\n",
       "      <td>0.0</td>\n",
       "      <td>0.0</td>\n",
       "      <td>6.490116</td>\n",
       "      <td>0.0</td>\n",
       "      <td>0.0</td>\n",
       "      <td>0.0</td>\n",
       "      <td>0.0</td>\n",
       "      <td>0.972884</td>\n",
       "      <td>0.027116</td>\n",
       "      <td>7.416131</td>\n",
       "    </tr>\n",
       "    <tr>\n",
       "      <th>9921</th>\n",
       "      <td>0</td>\n",
       "      <td>airplane</td>\n",
       "      <td>0.0</td>\n",
       "      <td>3.407528</td>\n",
       "      <td>0.0</td>\n",
       "      <td>0.0</td>\n",
       "      <td>0.0</td>\n",
       "      <td>4.053575</td>\n",
       "      <td>7.189600</td>\n",
       "      <td>3.727021</td>\n",
       "      <td>...</td>\n",
       "      <td>0.0</td>\n",
       "      <td>0.0</td>\n",
       "      <td>6.330639</td>\n",
       "      <td>0.0</td>\n",
       "      <td>0.0</td>\n",
       "      <td>0.0</td>\n",
       "      <td>0.0</td>\n",
       "      <td>0.978159</td>\n",
       "      <td>0.021841</td>\n",
       "      <td>7.473584</td>\n",
       "    </tr>\n",
       "    <tr>\n",
       "      <th>7835</th>\n",
       "      <td>0</td>\n",
       "      <td>airplane</td>\n",
       "      <td>0.0</td>\n",
       "      <td>1.892362</td>\n",
       "      <td>0.0</td>\n",
       "      <td>0.0</td>\n",
       "      <td>0.0</td>\n",
       "      <td>5.259849</td>\n",
       "      <td>6.453507</td>\n",
       "      <td>4.050606</td>\n",
       "      <td>...</td>\n",
       "      <td>0.0</td>\n",
       "      <td>0.0</td>\n",
       "      <td>7.564952</td>\n",
       "      <td>0.0</td>\n",
       "      <td>0.0</td>\n",
       "      <td>0.0</td>\n",
       "      <td>0.0</td>\n",
       "      <td>0.942359</td>\n",
       "      <td>0.057641</td>\n",
       "      <td>7.539982</td>\n",
       "    </tr>\n",
       "    <tr>\n",
       "      <th>3444</th>\n",
       "      <td>0</td>\n",
       "      <td>airplane</td>\n",
       "      <td>0.0</td>\n",
       "      <td>3.750580</td>\n",
       "      <td>0.0</td>\n",
       "      <td>0.0</td>\n",
       "      <td>0.0</td>\n",
       "      <td>4.520532</td>\n",
       "      <td>7.802921</td>\n",
       "      <td>3.340999</td>\n",
       "      <td>...</td>\n",
       "      <td>0.0</td>\n",
       "      <td>0.0</td>\n",
       "      <td>5.840994</td>\n",
       "      <td>0.0</td>\n",
       "      <td>0.0</td>\n",
       "      <td>0.0</td>\n",
       "      <td>0.0</td>\n",
       "      <td>0.981499</td>\n",
       "      <td>0.018501</td>\n",
       "      <td>7.848458</td>\n",
       "    </tr>\n",
       "  </tbody>\n",
       "</table>\n",
       "<p>10000 rows × 37 columns</p>\n",
       "</div>"
      ],
      "text/plain": [
       "      Class  Class Name    0         1    2    3    4         5         6  \\\n",
       "73        8        ship  0.0  2.423490  0.0  0.0  0.0  2.516330  5.750570   \n",
       "4742      8        ship  0.0  2.278781  0.0  0.0  0.0  3.212156  5.635116   \n",
       "4955      2        bird  0.0  2.813127  0.0  0.0  0.0  1.795093  5.290190   \n",
       "4271      1  automobile  0.0  2.045625  0.0  0.0  0.0  2.279942  5.549023   \n",
       "9619      8        ship  0.0  2.638308  0.0  0.0  0.0  2.814687  6.319755   \n",
       "...     ...         ...  ...       ...  ...  ...  ...       ...       ...   \n",
       "218       8        ship  0.0  3.162959  0.0  0.0  0.0  4.711321  7.169291   \n",
       "9848      2        bird  0.0  3.216558  0.0  0.0  0.0  4.090710  7.203255   \n",
       "9921      0    airplane  0.0  3.407528  0.0  0.0  0.0  4.053575  7.189600   \n",
       "7835      0    airplane  0.0  1.892362  0.0  0.0  0.0  5.259849  6.453507   \n",
       "3444      0    airplane  0.0  3.750580  0.0  0.0  0.0  4.520532  7.802921   \n",
       "\n",
       "             7  ...   25   26        27   28   29   30   31  \\\n",
       "73    2.851629  ...  0.0  0.0  3.179387  0.0  0.0  0.0  0.0   \n",
       "4742  3.065969  ...  0.0  0.0  3.217443  0.0  0.0  0.0  0.0   \n",
       "4955  2.859666  ...  0.0  0.0  3.313895  0.0  0.0  0.0  0.0   \n",
       "4271  3.261391  ...  0.0  0.0  3.364407  0.0  0.0  0.0  0.0   \n",
       "9619  3.083079  ...  0.0  0.0  3.480982  0.0  0.0  0.0  0.0   \n",
       "...        ...  ...  ...  ...       ...  ...  ...  ...  ...   \n",
       "218   3.525975  ...  0.0  0.0  6.348264  0.0  0.0  0.0  0.0   \n",
       "9848  3.257225  ...  0.0  0.0  6.490116  0.0  0.0  0.0  0.0   \n",
       "9921  3.727021  ...  0.0  0.0  6.330639  0.0  0.0  0.0  0.0   \n",
       "7835  4.050606  ...  0.0  0.0  7.564952  0.0  0.0  0.0  0.0   \n",
       "3444  3.340999  ...  0.0  0.0  5.840994  0.0  0.0  0.0  0.0   \n",
       "\n",
       "      Cosine Similarity  Cosine Distance  Euclidean Distance  \n",
       "73             1.000000         0.000000            0.000000  \n",
       "4742           0.996987         0.003013            0.856305  \n",
       "4955           0.994806         0.005194            1.141517  \n",
       "4271           0.993302         0.006698            1.261942  \n",
       "9619           0.997411         0.002589            1.305462  \n",
       "...                 ...              ...                 ...  \n",
       "218            0.974539         0.025461            7.364845  \n",
       "9848           0.972884         0.027116            7.416131  \n",
       "9921           0.978159         0.021841            7.473584  \n",
       "7835           0.942359         0.057641            7.539982  \n",
       "3444           0.981499         0.018501            7.848458  \n",
       "\n",
       "[10000 rows x 37 columns]"
      ]
     },
     "execution_count": 31,
     "metadata": {},
     "output_type": "execute_result"
    }
   ],
   "source": [
    "final_encoded_test_data_df['Euclidean Distance'] = euclidean_distance\n",
    "final_encoded_test_data_df.sort_values(by = ['Euclidean Distance'])"
   ]
  },
  {
   "cell_type": "code",
   "execution_count": 32,
   "metadata": {
    "scrolled": true
   },
   "outputs": [
    {
     "data": {
      "image/png": "[encoded data removed]",
      "text/plain": [
       "<Figure size 144x144 with 1 Axes>"
      ]
     },
     "metadata": {
      "needs_background": "light"
     },
     "output_type": "display_data"
    },
    {
     "data": {
      "image/png": "[encoded data removed]",
      "text/plain": [
       "<Figure size 144x144 with 1 Axes>"
      ]
     },
     "metadata": {
      "needs_background": "light"
     },
     "output_type": "display_data"
    },
    {
     "data": {
      "image/png": "[encoded data removed]",
      "text/plain": [
       "<Figure size 144x144 with 1 Axes>"
      ]
     },
     "metadata": {
      "needs_background": "light"
     },
     "output_type": "display_data"
    },
    {
     "data": {
      "image/png": "[encoded data removed]",
      "text/plain": [
       "<Figure size 144x144 with 1 Axes>"
      ]
     },
     "metadata": {
      "needs_background": "light"
     },
     "output_type": "display_data"
    },
    {
     "data": {
      "image/png": "[encoded data removed]",
      "text/plain": [
       "<Figure size 144x144 with 1 Axes>"
      ]
     },
     "metadata": {
      "needs_background": "light"
     },
     "output_type": "display_data"
    },
    {
     "data": {
      "image/png": "[encoded data removed]",
      "text/plain": [
       "<Figure size 144x144 with 1 Axes>"
      ]
     },
     "metadata": {
      "needs_background": "light"
     },
     "output_type": "display_data"
    },
    {
     "data": {
      "image/png": "[encoded data removed]",
      "text/plain": [
       "<Figure size 144x144 with 1 Axes>"
      ]
     },
     "metadata": {
      "needs_background": "light"
     },
     "output_type": "display_data"
    },
    {
     "data": {
      "image/png": "[encoded data removed]",
      "text/plain": [
       "<Figure size 144x144 with 1 Axes>"
      ]
     },
     "metadata": {
      "needs_background": "light"
     },
     "output_type": "display_data"
    },
    {
     "data": {
      "image/png": "[encoded data removed]",
      "text/plain": [
       "<Figure size 144x144 with 1 Axes>"
      ]
     },
     "metadata": {
      "needs_background": "light"
     },
     "output_type": "display_data"
    },
    {
     "data": {
      "image/png": "[encoded data removed]",
      "text/plain": [
       "<Figure size 144x144 with 1 Axes>"
      ]
     },
     "metadata": {
      "needs_background": "light"
     },
     "output_type": "display_data"
    }
   ],
   "source": [
    "euclidean_index = final_encoded_test_data_df.sort_values(by = ['Euclidean Distance']).head(10).index\n",
    "\n",
    "for i in euclidean_index:\n",
    "    plt.figure(figsize = (2, 2))\n",
    "    plt.imshow(x_test[i].reshape(32, 32, 3))\n",
    "    plt.xlabel(final_encoded_test_data_df['Class Name'][i] + ' with an Euclidean Distance of ' + str(final_encoded_test_data_df['Euclidean Distance'][i]) + ' from the queried image.')\n",
    "    plt.show()"
   ]
  },
  {
   "cell_type": "code",
   "execution_count": null,
   "metadata": {},
   "outputs": [],
   "source": []
  }
 ],
 "metadata": {
  "kernelspec": {
   "display_name": "Python 3",
   "language": "python",
   "name": "python3"
  },
  "language_info": {
   "codemirror_mode": {
    "name": "ipython",
    "version": 3
   },
   "file_extension": ".py",
   "mimetype": "text/x-python",
   "name": "python",
   "nbconvert_exporter": "python",
   "pygments_lexer": "ipython3",
   "version": "3.6.9"
  }
 },
 "nbformat": 4,
 "nbformat_minor": 2
}
