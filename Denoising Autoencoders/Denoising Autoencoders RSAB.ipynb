{
 "cells": [
  {
   "cell_type": "code",
   "execution_count": 2,
   "metadata": {},
   "outputs": [],
   "source": [
    "from keras.layers import Input, Dense\n",
    "from keras.models import Model\n",
    "\n",
    "import numpy as np\n",
    "import pandas as pd\n",
    "import matplotlib.pyplot as plt\n",
    "%matplotlib inline"
   ]
  },
  {
   "cell_type": "code",
   "execution_count": 3,
   "metadata": {},
   "outputs": [
    {
     "name": "stdout",
     "output_type": "stream",
     "text": [
      "(50000, 3074)\n",
      "(10000, 3074)\n"
     ]
    }
   ],
   "source": [
    "datadir = '/Users/sidv88/Documents/Data_Management_2/Data/'\n",
    "train_data = pd.read_csv(datadir + 'train_rgb.csv')\n",
    "test_data = pd.read_csv(datadir + 'test_rgb.csv')\n",
    "print(train_data.shape)\n",
    "print(test_data.shape)"
   ]
  },
  {
   "cell_type": "code",
   "execution_count": 4,
   "metadata": {},
   "outputs": [
    {
     "data": {
      "text/html": [
       "<div>\n",
       "<style scoped>\n",
       "    .dataframe tbody tr th:only-of-type {\n",
       "        vertical-align: middle;\n",
       "    }\n",
       "\n",
       "    .dataframe tbody tr th {\n",
       "        vertical-align: top;\n",
       "    }\n",
       "\n",
       "    .dataframe thead th {\n",
       "        text-align: right;\n",
       "    }\n",
       "</style>\n",
       "<table border=\"1\" class=\"dataframe\">\n",
       "  <thead>\n",
       "    <tr style=\"text-align: right;\">\n",
       "      <th></th>\n",
       "      <th>Class</th>\n",
       "      <th>Class Name</th>\n",
       "      <th>0</th>\n",
       "      <th>1</th>\n",
       "      <th>2</th>\n",
       "      <th>3</th>\n",
       "      <th>4</th>\n",
       "      <th>5</th>\n",
       "      <th>6</th>\n",
       "      <th>7</th>\n",
       "      <th>...</th>\n",
       "      <th>3062</th>\n",
       "      <th>3063</th>\n",
       "      <th>3064</th>\n",
       "      <th>3065</th>\n",
       "      <th>3066</th>\n",
       "      <th>3067</th>\n",
       "      <th>3068</th>\n",
       "      <th>3069</th>\n",
       "      <th>3070</th>\n",
       "      <th>3071</th>\n",
       "    </tr>\n",
       "  </thead>\n",
       "  <tbody>\n",
       "    <tr>\n",
       "      <th>0</th>\n",
       "      <td>6</td>\n",
       "      <td>frog</td>\n",
       "      <td>59</td>\n",
       "      <td>62</td>\n",
       "      <td>63</td>\n",
       "      <td>43</td>\n",
       "      <td>46</td>\n",
       "      <td>45</td>\n",
       "      <td>50</td>\n",
       "      <td>48</td>\n",
       "      <td>...</td>\n",
       "      <td>104</td>\n",
       "      <td>216</td>\n",
       "      <td>184</td>\n",
       "      <td>140</td>\n",
       "      <td>151</td>\n",
       "      <td>118</td>\n",
       "      <td>84</td>\n",
       "      <td>123</td>\n",
       "      <td>92</td>\n",
       "      <td>72</td>\n",
       "    </tr>\n",
       "    <tr>\n",
       "      <th>1</th>\n",
       "      <td>9</td>\n",
       "      <td>truck</td>\n",
       "      <td>154</td>\n",
       "      <td>177</td>\n",
       "      <td>187</td>\n",
       "      <td>126</td>\n",
       "      <td>137</td>\n",
       "      <td>136</td>\n",
       "      <td>105</td>\n",
       "      <td>104</td>\n",
       "      <td>...</td>\n",
       "      <td>136</td>\n",
       "      <td>143</td>\n",
       "      <td>133</td>\n",
       "      <td>139</td>\n",
       "      <td>143</td>\n",
       "      <td>134</td>\n",
       "      <td>142</td>\n",
       "      <td>143</td>\n",
       "      <td>133</td>\n",
       "      <td>144</td>\n",
       "    </tr>\n",
       "    <tr>\n",
       "      <th>2</th>\n",
       "      <td>9</td>\n",
       "      <td>truck</td>\n",
       "      <td>255</td>\n",
       "      <td>255</td>\n",
       "      <td>255</td>\n",
       "      <td>253</td>\n",
       "      <td>253</td>\n",
       "      <td>253</td>\n",
       "      <td>253</td>\n",
       "      <td>253</td>\n",
       "      <td>...</td>\n",
       "      <td>79</td>\n",
       "      <td>78</td>\n",
       "      <td>85</td>\n",
       "      <td>83</td>\n",
       "      <td>79</td>\n",
       "      <td>85</td>\n",
       "      <td>83</td>\n",
       "      <td>80</td>\n",
       "      <td>86</td>\n",
       "      <td>84</td>\n",
       "    </tr>\n",
       "    <tr>\n",
       "      <th>3</th>\n",
       "      <td>4</td>\n",
       "      <td>deer</td>\n",
       "      <td>28</td>\n",
       "      <td>25</td>\n",
       "      <td>10</td>\n",
       "      <td>37</td>\n",
       "      <td>34</td>\n",
       "      <td>19</td>\n",
       "      <td>38</td>\n",
       "      <td>35</td>\n",
       "      <td>...</td>\n",
       "      <td>38</td>\n",
       "      <td>54</td>\n",
       "      <td>47</td>\n",
       "      <td>28</td>\n",
       "      <td>63</td>\n",
       "      <td>56</td>\n",
       "      <td>37</td>\n",
       "      <td>72</td>\n",
       "      <td>65</td>\n",
       "      <td>46</td>\n",
       "    </tr>\n",
       "    <tr>\n",
       "      <th>4</th>\n",
       "      <td>1</td>\n",
       "      <td>automobile</td>\n",
       "      <td>170</td>\n",
       "      <td>180</td>\n",
       "      <td>198</td>\n",
       "      <td>168</td>\n",
       "      <td>178</td>\n",
       "      <td>196</td>\n",
       "      <td>177</td>\n",
       "      <td>185</td>\n",
       "      <td>...</td>\n",
       "      <td>78</td>\n",
       "      <td>75</td>\n",
       "      <td>79</td>\n",
       "      <td>82</td>\n",
       "      <td>71</td>\n",
       "      <td>75</td>\n",
       "      <td>78</td>\n",
       "      <td>73</td>\n",
       "      <td>77</td>\n",
       "      <td>80</td>\n",
       "    </tr>\n",
       "  </tbody>\n",
       "</table>\n",
       "<p>5 rows × 3074 columns</p>\n",
       "</div>"
      ],
      "text/plain": [
       "   Class  Class Name    0    1    2    3    4    5    6    7  ...  3062  3063  \\\n",
       "0      6        frog   59   62   63   43   46   45   50   48  ...   104   216   \n",
       "1      9       truck  154  177  187  126  137  136  105  104  ...   136   143   \n",
       "2      9       truck  255  255  255  253  253  253  253  253  ...    79    78   \n",
       "3      4        deer   28   25   10   37   34   19   38   35  ...    38    54   \n",
       "4      1  automobile  170  180  198  168  178  196  177  185  ...    78    75   \n",
       "\n",
       "   3064  3065  3066  3067  3068  3069  3070  3071  \n",
       "0   184   140   151   118    84   123    92    72  \n",
       "1   133   139   143   134   142   143   133   144  \n",
       "2    85    83    79    85    83    80    86    84  \n",
       "3    47    28    63    56    37    72    65    46  \n",
       "4    79    82    71    75    78    73    77    80  \n",
       "\n",
       "[5 rows x 3074 columns]"
      ]
     },
     "execution_count": 4,
     "metadata": {},
     "output_type": "execute_result"
    }
   ],
   "source": [
    "train_data.head()"
   ]
  },
  {
   "cell_type": "code",
   "execution_count": 5,
   "metadata": {},
   "outputs": [
    {
     "data": {
      "text/html": [
       "<div>\n",
       "<style scoped>\n",
       "    .dataframe tbody tr th:only-of-type {\n",
       "        vertical-align: middle;\n",
       "    }\n",
       "\n",
       "    .dataframe tbody tr th {\n",
       "        vertical-align: top;\n",
       "    }\n",
       "\n",
       "    .dataframe thead th {\n",
       "        text-align: right;\n",
       "    }\n",
       "</style>\n",
       "<table border=\"1\" class=\"dataframe\">\n",
       "  <thead>\n",
       "    <tr style=\"text-align: right;\">\n",
       "      <th></th>\n",
       "      <th>Class</th>\n",
       "      <th>Class Name</th>\n",
       "      <th>0</th>\n",
       "      <th>1</th>\n",
       "      <th>2</th>\n",
       "      <th>3</th>\n",
       "      <th>4</th>\n",
       "      <th>5</th>\n",
       "      <th>6</th>\n",
       "      <th>7</th>\n",
       "      <th>...</th>\n",
       "      <th>3062</th>\n",
       "      <th>3063</th>\n",
       "      <th>3064</th>\n",
       "      <th>3065</th>\n",
       "      <th>3066</th>\n",
       "      <th>3067</th>\n",
       "      <th>3068</th>\n",
       "      <th>3069</th>\n",
       "      <th>3070</th>\n",
       "      <th>3071</th>\n",
       "    </tr>\n",
       "  </thead>\n",
       "  <tbody>\n",
       "    <tr>\n",
       "      <th>0</th>\n",
       "      <td>3</td>\n",
       "      <td>cat</td>\n",
       "      <td>158</td>\n",
       "      <td>112</td>\n",
       "      <td>49</td>\n",
       "      <td>159</td>\n",
       "      <td>111</td>\n",
       "      <td>47</td>\n",
       "      <td>165</td>\n",
       "      <td>116</td>\n",
       "      <td>...</td>\n",
       "      <td>145</td>\n",
       "      <td>24</td>\n",
       "      <td>77</td>\n",
       "      <td>124</td>\n",
       "      <td>34</td>\n",
       "      <td>84</td>\n",
       "      <td>129</td>\n",
       "      <td>21</td>\n",
       "      <td>67</td>\n",
       "      <td>110</td>\n",
       "    </tr>\n",
       "    <tr>\n",
       "      <th>1</th>\n",
       "      <td>8</td>\n",
       "      <td>ship</td>\n",
       "      <td>235</td>\n",
       "      <td>235</td>\n",
       "      <td>235</td>\n",
       "      <td>231</td>\n",
       "      <td>231</td>\n",
       "      <td>231</td>\n",
       "      <td>232</td>\n",
       "      <td>232</td>\n",
       "      <td>...</td>\n",
       "      <td>163</td>\n",
       "      <td>168</td>\n",
       "      <td>183</td>\n",
       "      <td>178</td>\n",
       "      <td>180</td>\n",
       "      <td>195</td>\n",
       "      <td>191</td>\n",
       "      <td>186</td>\n",
       "      <td>200</td>\n",
       "      <td>199</td>\n",
       "    </tr>\n",
       "    <tr>\n",
       "      <th>2</th>\n",
       "      <td>8</td>\n",
       "      <td>ship</td>\n",
       "      <td>158</td>\n",
       "      <td>190</td>\n",
       "      <td>222</td>\n",
       "      <td>158</td>\n",
       "      <td>187</td>\n",
       "      <td>218</td>\n",
       "      <td>139</td>\n",
       "      <td>166</td>\n",
       "      <td>...</td>\n",
       "      <td>37</td>\n",
       "      <td>5</td>\n",
       "      <td>6</td>\n",
       "      <td>8</td>\n",
       "      <td>4</td>\n",
       "      <td>5</td>\n",
       "      <td>3</td>\n",
       "      <td>7</td>\n",
       "      <td>8</td>\n",
       "      <td>7</td>\n",
       "    </tr>\n",
       "    <tr>\n",
       "      <th>3</th>\n",
       "      <td>0</td>\n",
       "      <td>airplane</td>\n",
       "      <td>155</td>\n",
       "      <td>156</td>\n",
       "      <td>149</td>\n",
       "      <td>167</td>\n",
       "      <td>176</td>\n",
       "      <td>187</td>\n",
       "      <td>176</td>\n",
       "      <td>179</td>\n",
       "      <td>...</td>\n",
       "      <td>53</td>\n",
       "      <td>60</td>\n",
       "      <td>63</td>\n",
       "      <td>50</td>\n",
       "      <td>64</td>\n",
       "      <td>65</td>\n",
       "      <td>52</td>\n",
       "      <td>73</td>\n",
       "      <td>68</td>\n",
       "      <td>50</td>\n",
       "    </tr>\n",
       "    <tr>\n",
       "      <th>4</th>\n",
       "      <td>6</td>\n",
       "      <td>frog</td>\n",
       "      <td>65</td>\n",
       "      <td>68</td>\n",
       "      <td>50</td>\n",
       "      <td>70</td>\n",
       "      <td>81</td>\n",
       "      <td>64</td>\n",
       "      <td>48</td>\n",
       "      <td>64</td>\n",
       "      <td>...</td>\n",
       "      <td>147</td>\n",
       "      <td>143</td>\n",
       "      <td>179</td>\n",
       "      <td>136</td>\n",
       "      <td>154</td>\n",
       "      <td>185</td>\n",
       "      <td>146</td>\n",
       "      <td>128</td>\n",
       "      <td>156</td>\n",
       "      <td>117</td>\n",
       "    </tr>\n",
       "  </tbody>\n",
       "</table>\n",
       "<p>5 rows × 3074 columns</p>\n",
       "</div>"
      ],
      "text/plain": [
       "   Class Class Name    0    1    2    3    4    5    6    7  ...  3062  3063  \\\n",
       "0      3        cat  158  112   49  159  111   47  165  116  ...   145    24   \n",
       "1      8       ship  235  235  235  231  231  231  232  232  ...   163   168   \n",
       "2      8       ship  158  190  222  158  187  218  139  166  ...    37     5   \n",
       "3      0   airplane  155  156  149  167  176  187  176  179  ...    53    60   \n",
       "4      6       frog   65   68   50   70   81   64   48   64  ...   147   143   \n",
       "\n",
       "   3064  3065  3066  3067  3068  3069  3070  3071  \n",
       "0    77   124    34    84   129    21    67   110  \n",
       "1   183   178   180   195   191   186   200   199  \n",
       "2     6     8     4     5     3     7     8     7  \n",
       "3    63    50    64    65    52    73    68    50  \n",
       "4   179   136   154   185   146   128   156   117  \n",
       "\n",
       "[5 rows x 3074 columns]"
      ]
     },
     "execution_count": 5,
     "metadata": {},
     "output_type": "execute_result"
    }
   ],
   "source": [
    "test_data.head()"
   ]
  },
  {
   "cell_type": "code",
   "execution_count": 6,
   "metadata": {},
   "outputs": [
    {
     "name": "stdout",
     "output_type": "stream",
     "text": [
      "(50000, 3072)\n",
      "(50000, 2)\n"
     ]
    }
   ],
   "source": [
    "x_train = train_data.iloc[:, 2:]\n",
    "print(x_train.shape)\n",
    "y_train = train_data.iloc[:, [0, 1]]\n",
    "print(y_train.shape)"
   ]
  },
  {
   "cell_type": "code",
   "execution_count": 7,
   "metadata": {},
   "outputs": [
    {
     "name": "stdout",
     "output_type": "stream",
     "text": [
      "(10000, 3072)\n",
      "(10000, 2)\n"
     ]
    }
   ],
   "source": [
    "x_test = test_data.iloc[:, 2:]\n",
    "print(x_test.shape)\n",
    "y_test = test_data.iloc[:, [0, 1]]\n",
    "print(y_test.shape)"
   ]
  },
  {
   "cell_type": "code",
   "execution_count": 8,
   "metadata": {},
   "outputs": [],
   "source": [
    "x_train = np.array(x_train)\n",
    "x_test = np.array(x_test)"
   ]
  },
  {
   "cell_type": "code",
   "execution_count": 9,
   "metadata": {},
   "outputs": [
    {
     "name": "stdout",
     "output_type": "stream",
     "text": [
      "(50000, 3072)\n",
      "(10000, 3072)\n"
     ]
    }
   ],
   "source": [
    "print(x_train.shape)\n",
    "print(x_test.shape)"
   ]
  },
  {
   "cell_type": "code",
   "execution_count": 10,
   "metadata": {
    "scrolled": true
   },
   "outputs": [
    {
     "name": "stdout",
     "output_type": "stream",
     "text": [
      "(50000, 3072)\n",
      "(10000, 3072)\n"
     ]
    }
   ],
   "source": [
    "x_train = x_train.astype('float32')/255\n",
    "x_test = x_test.astype('float32')/255\n",
    "print(x_train.shape)\n",
    "print(x_test.shape)"
   ]
  },
  {
   "cell_type": "markdown",
   "metadata": {},
   "source": [
    "## Adding some noise"
   ]
  },
  {
   "cell_type": "code",
   "execution_count": 11,
   "metadata": {},
   "outputs": [
    {
     "name": "stdout",
     "output_type": "stream",
     "text": [
      "(50000, 3072)\n",
      "(10000, 3072)\n"
     ]
    }
   ],
   "source": [
    "x_train_noisy = x_train + np.random.normal(loc = 0.0, scale = 0.5, size = x_train.shape)\n",
    "x_train_noisy = np.clip(x_train_noisy, 0., 1.)\n",
    "\n",
    "x_test_noisy = x_test + np.random.normal(loc = 0.0, scale = 0.5, size = x_test.shape)\n",
    "x_test_noisy = np.clip(x_test_noisy, 0., 1.)\n",
    "\n",
    "print(x_train_noisy.shape)\n",
    "print(x_test_noisy.shape)"
   ]
  },
  {
   "cell_type": "code",
   "execution_count": 12,
   "metadata": {},
   "outputs": [],
   "source": [
    "input_img = Input(shape = (3072, ))\n",
    "encoded = Dense(units = 128, activation = 'relu')(input_img)\n",
    "encoded = Dense(units = 128, activation = 'relu')(encoded)\n",
    "encoded = Dense(units = 128, activation = 'relu')(encoded)\n",
    "encoded = Dense(units = 64, activation = 'relu')(encoded)\n",
    "encoded = Dense(units = 64, activation = 'relu')(encoded)\n",
    "encoded = Dense(units = 64, activation = 'relu')(encoded)\n",
    "encoded = Dense(units = 32, activation = 'relu')(encoded)\n",
    "decoded = Dense(units = 64, activation = 'relu')(encoded)\n",
    "decoded = Dense(units = 64, activation = 'relu')(decoded)\n",
    "decoded = Dense(units = 64, activation = 'relu')(decoded)\n",
    "decoded = Dense(units = 128, activation = 'relu')(decoded)\n",
    "decoded = Dense(units = 128, activation = 'relu')(decoded)\n",
    "decoded = Dense(units = 128, activation = 'relu')(decoded)\n",
    "decoded = Dense(units = 3072, activation = 'sigmoid')(decoded)"
   ]
  },
  {
   "cell_type": "code",
   "execution_count": 13,
   "metadata": {},
   "outputs": [],
   "source": [
    "autoencoder = Model(input_img, decoded)\n",
    "encoder = Model(input_img, encoded)"
   ]
  },
  {
   "cell_type": "code",
   "execution_count": 14,
   "metadata": {
    "scrolled": true
   },
   "outputs": [
    {
     "name": "stdout",
     "output_type": "stream",
     "text": [
      "Model: \"model_1\"\n",
      "_________________________________________________________________\n",
      "Layer (type)                 Output Shape              Param #   \n",
      "=================================================================\n",
      "input_1 (InputLayer)         (None, 3072)              0         \n",
      "_________________________________________________________________\n",
      "dense_1 (Dense)              (None, 128)               393344    \n",
      "_________________________________________________________________\n",
      "dense_2 (Dense)              (None, 128)               16512     \n",
      "_________________________________________________________________\n",
      "dense_3 (Dense)              (None, 128)               16512     \n",
      "_________________________________________________________________\n",
      "dense_4 (Dense)              (None, 64)                8256      \n",
      "_________________________________________________________________\n",
      "dense_5 (Dense)              (None, 64)                4160      \n",
      "_________________________________________________________________\n",
      "dense_6 (Dense)              (None, 64)                4160      \n",
      "_________________________________________________________________\n",
      "dense_7 (Dense)              (None, 32)                2080      \n",
      "_________________________________________________________________\n",
      "dense_8 (Dense)              (None, 64)                2112      \n",
      "_________________________________________________________________\n",
      "dense_9 (Dense)              (None, 64)                4160      \n",
      "_________________________________________________________________\n",
      "dense_10 (Dense)             (None, 64)                4160      \n",
      "_________________________________________________________________\n",
      "dense_11 (Dense)             (None, 128)               8320      \n",
      "_________________________________________________________________\n",
      "dense_12 (Dense)             (None, 128)               16512     \n",
      "_________________________________________________________________\n",
      "dense_13 (Dense)             (None, 128)               16512     \n",
      "_________________________________________________________________\n",
      "dense_14 (Dense)             (None, 3072)              396288    \n",
      "=================================================================\n",
      "Total params: 893,088\n",
      "Trainable params: 893,088\n",
      "Non-trainable params: 0\n",
      "_________________________________________________________________\n"
     ]
    }
   ],
   "source": [
    "autoencoder.summary()"
   ]
  },
  {
   "cell_type": "code",
   "execution_count": 15,
   "metadata": {
    "scrolled": true
   },
   "outputs": [
    {
     "name": "stdout",
     "output_type": "stream",
     "text": [
      "Model: \"model_2\"\n",
      "_________________________________________________________________\n",
      "Layer (type)                 Output Shape              Param #   \n",
      "=================================================================\n",
      "input_1 (InputLayer)         (None, 3072)              0         \n",
      "_________________________________________________________________\n",
      "dense_1 (Dense)              (None, 128)               393344    \n",
      "_________________________________________________________________\n",
      "dense_2 (Dense)              (None, 128)               16512     \n",
      "_________________________________________________________________\n",
      "dense_3 (Dense)              (None, 128)               16512     \n",
      "_________________________________________________________________\n",
      "dense_4 (Dense)              (None, 64)                8256      \n",
      "_________________________________________________________________\n",
      "dense_5 (Dense)              (None, 64)                4160      \n",
      "_________________________________________________________________\n",
      "dense_6 (Dense)              (None, 64)                4160      \n",
      "_________________________________________________________________\n",
      "dense_7 (Dense)              (None, 32)                2080      \n",
      "=================================================================\n",
      "Total params: 445,024\n",
      "Trainable params: 445,024\n",
      "Non-trainable params: 0\n",
      "_________________________________________________________________\n"
     ]
    }
   ],
   "source": [
    "encoder.summary()"
   ]
  },
  {
   "cell_type": "code",
   "execution_count": 16,
   "metadata": {
    "scrolled": true
   },
   "outputs": [
    {
     "name": "stdout",
     "output_type": "stream",
     "text": [
      "Train on 50000 samples, validate on 10000 samples\n",
      "Epoch 1/50\n",
      "50000/50000 [==============================] - 22s 444us/step - loss: 0.6807 - accuracy: 0.2291 - val_loss: 0.6714 - val_accuracy: 0.2474\n",
      "Epoch 2/50\n",
      "50000/50000 [==============================] - 21s 425us/step - loss: 0.6709 - accuracy: 0.2482 - val_loss: 0.6710 - val_accuracy: 0.2478\n",
      "Epoch 3/50\n",
      "50000/50000 [==============================] - 24s 471us/step - loss: 0.6695 - accuracy: 0.2507 - val_loss: 0.6677 - val_accuracy: 0.2541\n",
      "Epoch 4/50\n",
      "50000/50000 [==============================] - 26s 519us/step - loss: 0.6671 - accuracy: 0.2549 - val_loss: 0.6671 - val_accuracy: 0.2550\n",
      "Epoch 5/50\n",
      "50000/50000 [==============================] - 26s 529us/step - loss: 0.6663 - accuracy: 0.2563 - val_loss: 0.6653 - val_accuracy: 0.2579\n",
      "Epoch 6/50\n",
      "50000/50000 [==============================] - 26s 521us/step - loss: 0.6650 - accuracy: 0.2581 - val_loss: 0.6650 - val_accuracy: 0.2580\n",
      "Epoch 7/50\n",
      "50000/50000 [==============================] - 27s 530us/step - loss: 0.6648 - accuracy: 0.2583 - val_loss: 0.6650 - val_accuracy: 0.2581\n",
      "Epoch 8/50\n",
      "50000/50000 [==============================] - 27s 532us/step - loss: 0.6647 - accuracy: 0.2584 - val_loss: 0.6649 - val_accuracy: 0.2582\n",
      "Epoch 9/50\n",
      "50000/50000 [==============================] - 27s 542us/step - loss: 0.6646 - accuracy: 0.2585 - val_loss: 0.6648 - val_accuracy: 0.2583\n",
      "Epoch 10/50\n",
      "50000/50000 [==============================] - 28s 567us/step - loss: 0.6646 - accuracy: 0.2586 - val_loss: 0.6647 - val_accuracy: 0.2585\n",
      "Epoch 11/50\n",
      "50000/50000 [==============================] - 20s 400us/step - loss: 0.6639 - accuracy: 0.2595 - val_loss: 0.6636 - val_accuracy: 0.2599\n",
      "Epoch 12/50\n",
      "50000/50000 [==============================] - 25s 499us/step - loss: 0.6628 - accuracy: 0.2611 - val_loss: 0.6623 - val_accuracy: 0.2617\n",
      "Epoch 13/50\n",
      "50000/50000 [==============================] - 35s 694us/step - loss: 0.6618 - accuracy: 0.2625 - val_loss: 0.6620 - val_accuracy: 0.2621\n",
      "Epoch 14/50\n",
      "50000/50000 [==============================] - 28s 558us/step - loss: 0.6615 - accuracy: 0.2629 - val_loss: 0.6617 - val_accuracy: 0.2627\n",
      "Epoch 15/50\n",
      "50000/50000 [==============================] - 26s 520us/step - loss: 0.6612 - accuracy: 0.2633 - val_loss: 0.6621 - val_accuracy: 0.2624\n",
      "Epoch 16/50\n",
      "50000/50000 [==============================] - 26s 511us/step - loss: 0.6611 - accuracy: 0.2634 - val_loss: 0.6616 - val_accuracy: 0.2628\n",
      "Epoch 17/50\n",
      "50000/50000 [==============================] - 21s 414us/step - loss: 0.6610 - accuracy: 0.2635 - val_loss: 0.6616 - val_accuracy: 0.2629\n",
      "Epoch 18/50\n",
      "50000/50000 [==============================] - 26s 521us/step - loss: 0.6610 - accuracy: 0.2636 - val_loss: 0.6617 - val_accuracy: 0.2628\n",
      "Epoch 19/50\n",
      "50000/50000 [==============================] - 37s 749us/step - loss: 0.6604 - accuracy: 0.2645 - val_loss: 0.6601 - val_accuracy: 0.2648\n",
      "Epoch 20/50\n",
      "50000/50000 [==============================] - 29s 583us/step - loss: 0.6597 - accuracy: 0.2653 - val_loss: 0.6600 - val_accuracy: 0.2649\n",
      "Epoch 21/50\n",
      "50000/50000 [==============================] - 20s 393us/step - loss: 0.6596 - accuracy: 0.2655 - val_loss: 0.6604 - val_accuracy: 0.2645\n",
      "Epoch 22/50\n",
      "50000/50000 [==============================] - 17s 346us/step - loss: 0.6595 - accuracy: 0.2656 - val_loss: 0.6600 - val_accuracy: 0.2649\n",
      "Epoch 23/50\n",
      "50000/50000 [==============================] - 18s 365us/step - loss: 0.6594 - accuracy: 0.2657 - val_loss: 0.6601 - val_accuracy: 0.2651\n",
      "Epoch 24/50\n",
      "50000/50000 [==============================] - 17s 345us/step - loss: 0.6587 - accuracy: 0.2666 - val_loss: 0.6591 - val_accuracy: 0.2662\n",
      "Epoch 25/50\n",
      "50000/50000 [==============================] - 18s 357us/step - loss: 0.6585 - accuracy: 0.2669 - val_loss: 0.6589 - val_accuracy: 0.2664\n",
      "Epoch 26/50\n",
      "50000/50000 [==============================] - 17s 342us/step - loss: 0.6584 - accuracy: 0.2670 - val_loss: 0.6588 - val_accuracy: 0.2664\n",
      "Epoch 27/50\n",
      "50000/50000 [==============================] - 17s 350us/step - loss: 0.6584 - accuracy: 0.2670 - val_loss: 0.6590 - val_accuracy: 0.2662\n",
      "Epoch 28/50\n",
      "50000/50000 [==============================] - 17s 344us/step - loss: 0.6583 - accuracy: 0.2671 - val_loss: 0.6589 - val_accuracy: 0.2664\n",
      "Epoch 29/50\n",
      "50000/50000 [==============================] - 18s 362us/step - loss: 0.6583 - accuracy: 0.2671 - val_loss: 0.6589 - val_accuracy: 0.2663\n",
      "Epoch 30/50\n",
      "50000/50000 [==============================] - 17s 341us/step - loss: 0.6582 - accuracy: 0.2671 - val_loss: 0.6588 - val_accuracy: 0.2664\n",
      "Epoch 31/50\n",
      "50000/50000 [==============================] - 17s 346us/step - loss: 0.6582 - accuracy: 0.2671 - val_loss: 0.6589 - val_accuracy: 0.2663\n",
      "Epoch 32/50\n",
      "50000/50000 [==============================] - 17s 339us/step - loss: 0.6582 - accuracy: 0.2672 - val_loss: 0.6589 - val_accuracy: 0.2663\n",
      "Epoch 33/50\n",
      "50000/50000 [==============================] - 18s 360us/step - loss: 0.6581 - accuracy: 0.2672 - val_loss: 0.6589 - val_accuracy: 0.2664\n",
      "Epoch 34/50\n",
      "50000/50000 [==============================] - 18s 365us/step - loss: 0.6582 - accuracy: 0.2672 - val_loss: 0.6588 - val_accuracy: 0.2665\n",
      "Epoch 35/50\n",
      "50000/50000 [==============================] - 19s 379us/step - loss: 0.6581 - accuracy: 0.2673 - val_loss: 0.6589 - val_accuracy: 0.2664\n",
      "Epoch 36/50\n",
      "50000/50000 [==============================] - 19s 387us/step - loss: 0.6581 - accuracy: 0.2673 - val_loss: 0.6587 - val_accuracy: 0.2666\n",
      "Epoch 37/50\n",
      "50000/50000 [==============================] - 20s 394us/step - loss: 0.6581 - accuracy: 0.2673 - val_loss: 0.6586 - val_accuracy: 0.2671\n",
      "Epoch 38/50\n",
      "50000/50000 [==============================] - 19s 376us/step - loss: 0.6572 - accuracy: 0.2684 - val_loss: 0.6579 - val_accuracy: 0.2676\n",
      "Epoch 39/50\n",
      "50000/50000 [==============================] - 19s 380us/step - loss: 0.6570 - accuracy: 0.2686 - val_loss: 0.6577 - val_accuracy: 0.2678\n",
      "Epoch 40/50\n",
      "50000/50000 [==============================] - 19s 370us/step - loss: 0.6570 - accuracy: 0.2686 - val_loss: 0.6576 - val_accuracy: 0.2679\n",
      "Epoch 41/50\n",
      "50000/50000 [==============================] - 19s 383us/step - loss: 0.6569 - accuracy: 0.2687 - val_loss: 0.6577 - val_accuracy: 0.2678\n",
      "Epoch 42/50\n",
      "50000/50000 [==============================] - 19s 378us/step - loss: 0.6569 - accuracy: 0.2687 - val_loss: 0.6578 - val_accuracy: 0.2678\n",
      "Epoch 43/50\n",
      "50000/50000 [==============================] - 19s 378us/step - loss: 0.6568 - accuracy: 0.2687 - val_loss: 0.6577 - val_accuracy: 0.2679\n",
      "Epoch 44/50\n",
      "50000/50000 [==============================] - 19s 382us/step - loss: 0.6568 - accuracy: 0.2687 - val_loss: 0.6576 - val_accuracy: 0.2680\n",
      "Epoch 45/50\n",
      "50000/50000 [==============================] - 19s 381us/step - loss: 0.6568 - accuracy: 0.2688 - val_loss: 0.6576 - val_accuracy: 0.2679\n",
      "Epoch 46/50\n",
      "50000/50000 [==============================] - 18s 370us/step - loss: 0.6568 - accuracy: 0.2688 - val_loss: 0.6576 - val_accuracy: 0.2679\n",
      "Epoch 47/50\n",
      "50000/50000 [==============================] - 19s 372us/step - loss: 0.6568 - accuracy: 0.2688 - val_loss: 0.6577 - val_accuracy: 0.2679\n",
      "Epoch 48/50\n",
      "50000/50000 [==============================] - 19s 371us/step - loss: 0.6567 - accuracy: 0.2688 - val_loss: 0.6576 - val_accuracy: 0.2680\n",
      "Epoch 49/50\n",
      "50000/50000 [==============================] - 18s 358us/step - loss: 0.6567 - accuracy: 0.2689 - val_loss: 0.6576 - val_accuracy: 0.2679\n",
      "Epoch 50/50\n",
      "50000/50000 [==============================] - 18s 366us/step - loss: 0.6567 - accuracy: 0.2688 - val_loss: 0.6576 - val_accuracy: 0.2679\n"
     ]
    },
    {
     "data": {
      "text/plain": [
       "<keras.callbacks.callbacks.History at 0x14033a860>"
      ]
     },
     "execution_count": 16,
     "metadata": {},
     "output_type": "execute_result"
    }
   ],
   "source": [
    "autoencoder.compile(optimizer = 'adam', loss = 'binary_crossentropy', metrics = ['accuracy'])\n",
    "autoencoder.fit(x_train_noisy, x_train_noisy, epochs = 50, batch_size = 256, shuffle = True, validation_data = [x_test_noisy, x_test_noisy])"
   ]
  },
  {
   "cell_type": "code",
   "execution_count": 17,
   "metadata": {},
   "outputs": [],
   "source": [
    "encoded_test_data = encoder.predict(x_test_noisy)\n",
    "predicted_test_data = autoencoder.predict(x_test_noisy)"
   ]
  },
  {
   "cell_type": "code",
   "execution_count": 18,
   "metadata": {},
   "outputs": [
    {
     "data": {
      "text/plain": [
       "(10000, 32)"
      ]
     },
     "execution_count": 18,
     "metadata": {},
     "output_type": "execute_result"
    }
   ],
   "source": [
    "encoded_test_data.shape"
   ]
  },
  {
   "cell_type": "code",
   "execution_count": 19,
   "metadata": {
    "scrolled": true
   },
   "outputs": [
    {
     "data": {
      "text/html": [
       "<div>\n",
       "<style scoped>\n",
       "    .dataframe tbody tr th:only-of-type {\n",
       "        vertical-align: middle;\n",
       "    }\n",
       "\n",
       "    .dataframe tbody tr th {\n",
       "        vertical-align: top;\n",
       "    }\n",
       "\n",
       "    .dataframe thead th {\n",
       "        text-align: right;\n",
       "    }\n",
       "</style>\n",
       "<table border=\"1\" class=\"dataframe\">\n",
       "  <thead>\n",
       "    <tr style=\"text-align: right;\">\n",
       "      <th></th>\n",
       "      <th>Class</th>\n",
       "      <th>Class Name</th>\n",
       "    </tr>\n",
       "  </thead>\n",
       "  <tbody>\n",
       "    <tr>\n",
       "      <th>0</th>\n",
       "      <td>3</td>\n",
       "      <td>cat</td>\n",
       "    </tr>\n",
       "    <tr>\n",
       "      <th>1</th>\n",
       "      <td>8</td>\n",
       "      <td>ship</td>\n",
       "    </tr>\n",
       "    <tr>\n",
       "      <th>2</th>\n",
       "      <td>8</td>\n",
       "      <td>ship</td>\n",
       "    </tr>\n",
       "    <tr>\n",
       "      <th>3</th>\n",
       "      <td>0</td>\n",
       "      <td>airplane</td>\n",
       "    </tr>\n",
       "    <tr>\n",
       "      <th>4</th>\n",
       "      <td>6</td>\n",
       "      <td>frog</td>\n",
       "    </tr>\n",
       "    <tr>\n",
       "      <th>...</th>\n",
       "      <td>...</td>\n",
       "      <td>...</td>\n",
       "    </tr>\n",
       "    <tr>\n",
       "      <th>9995</th>\n",
       "      <td>8</td>\n",
       "      <td>ship</td>\n",
       "    </tr>\n",
       "    <tr>\n",
       "      <th>9996</th>\n",
       "      <td>3</td>\n",
       "      <td>cat</td>\n",
       "    </tr>\n",
       "    <tr>\n",
       "      <th>9997</th>\n",
       "      <td>5</td>\n",
       "      <td>dog</td>\n",
       "    </tr>\n",
       "    <tr>\n",
       "      <th>9998</th>\n",
       "      <td>1</td>\n",
       "      <td>automobile</td>\n",
       "    </tr>\n",
       "    <tr>\n",
       "      <th>9999</th>\n",
       "      <td>7</td>\n",
       "      <td>horse</td>\n",
       "    </tr>\n",
       "  </tbody>\n",
       "</table>\n",
       "<p>10000 rows × 2 columns</p>\n",
       "</div>"
      ],
      "text/plain": [
       "      Class  Class Name\n",
       "0         3         cat\n",
       "1         8        ship\n",
       "2         8        ship\n",
       "3         0    airplane\n",
       "4         6        frog\n",
       "...     ...         ...\n",
       "9995      8        ship\n",
       "9996      3         cat\n",
       "9997      5         dog\n",
       "9998      1  automobile\n",
       "9999      7       horse\n",
       "\n",
       "[10000 rows x 2 columns]"
      ]
     },
     "execution_count": 19,
     "metadata": {},
     "output_type": "execute_result"
    }
   ],
   "source": [
    "y_test"
   ]
  },
  {
   "cell_type": "code",
   "execution_count": 20,
   "metadata": {},
   "outputs": [
    {
     "data": {
      "text/plain": [
       "(10000, 34)"
      ]
     },
     "execution_count": 20,
     "metadata": {},
     "output_type": "execute_result"
    }
   ],
   "source": [
    "encoded_test_data_df = pd.DataFrame(encoded_test_data)\n",
    "final_encoded_test_data_df = pd.concat([y_test, encoded_test_data_df], axis = 1)\n",
    "final_encoded_test_data_df.shape"
   ]
  },
  {
   "cell_type": "code",
   "execution_count": 21,
   "metadata": {},
   "outputs": [],
   "source": [
    "datadir = '/Users/sidv88/Documents/Data_Management_2/Denoised_Encoded_Data/'\n",
    "final_encoded_test_data_df.to_csv(datadir + 'Denoising_Encoders_Test_RSAB.csv', index = False)"
   ]
  },
  {
   "cell_type": "code",
   "execution_count": 22,
   "metadata": {},
   "outputs": [
    {
     "name": "stdout",
     "output_type": "stream",
     "text": [
      "Enter one of these values ['cat' 'ship' 'airplane' 'frog' 'automobile' 'truck' 'dog' 'horse' 'deer'\n",
      " 'bird'] : dog\n"
     ]
    }
   ],
   "source": [
    "input_val = input(\"Enter one of these values {} : \".format(final_encoded_test_data_df['Class Name'].unique()))"
   ]
  },
  {
   "cell_type": "code",
   "execution_count": 23,
   "metadata": {},
   "outputs": [
    {
     "name": "stdout",
     "output_type": "stream",
     "text": [
      "Enter a number between 0 and 999 : 8\n"
     ]
    }
   ],
   "source": [
    "input_num = input(\"Enter a number between 0 and 999 : \")"
   ]
  },
  {
   "cell_type": "code",
   "execution_count": 24,
   "metadata": {},
   "outputs": [
    {
     "name": "stdout",
     "output_type": "stream",
     "text": [
      "10000\n",
      "10000\n"
     ]
    }
   ],
   "source": [
    "from numpy import dot\n",
    "from numpy.linalg import norm\n",
    "\n",
    "cosine_similarity = []\n",
    "cosine_distance = []\n",
    "\n",
    "for i in range(len(x_test_noisy)):\n",
    "    a = final_encoded_test_data_df.loc[final_encoded_test_data_df['Class Name'] == input_val].iloc[int(input_num), 2:]\n",
    "    b = final_encoded_test_data_df.iloc[i, 2:]\n",
    "    cos_sim = dot(a, b)/(norm(a) * norm(b))\n",
    "    cos_dist = 1 - cos_sim\n",
    "    cosine_similarity.append(cos_sim)\n",
    "    cosine_distance.append(cos_dist)\n",
    "print(len(cosine_similarity))\n",
    "print(len(cosine_distance))"
   ]
  },
  {
   "cell_type": "code",
   "execution_count": 25,
   "metadata": {},
   "outputs": [],
   "source": [
    "final_encoded_test_data_df['Cosine Similarity'] = cosine_similarity\n",
    "final_encoded_test_data_df['Cosine Distance'] = cosine_distance"
   ]
  },
  {
   "cell_type": "code",
   "execution_count": 26,
   "metadata": {},
   "outputs": [
    {
     "data": {
      "text/html": [
       "<div>\n",
       "<style scoped>\n",
       "    .dataframe tbody tr th:only-of-type {\n",
       "        vertical-align: middle;\n",
       "    }\n",
       "\n",
       "    .dataframe tbody tr th {\n",
       "        vertical-align: top;\n",
       "    }\n",
       "\n",
       "    .dataframe thead th {\n",
       "        text-align: right;\n",
       "    }\n",
       "</style>\n",
       "<table border=\"1\" class=\"dataframe\">\n",
       "  <thead>\n",
       "    <tr style=\"text-align: right;\">\n",
       "      <th></th>\n",
       "      <th>Class</th>\n",
       "      <th>Class Name</th>\n",
       "      <th>0</th>\n",
       "      <th>1</th>\n",
       "      <th>2</th>\n",
       "      <th>3</th>\n",
       "      <th>4</th>\n",
       "      <th>5</th>\n",
       "      <th>6</th>\n",
       "      <th>7</th>\n",
       "      <th>...</th>\n",
       "      <th>24</th>\n",
       "      <th>25</th>\n",
       "      <th>26</th>\n",
       "      <th>27</th>\n",
       "      <th>28</th>\n",
       "      <th>29</th>\n",
       "      <th>30</th>\n",
       "      <th>31</th>\n",
       "      <th>Cosine Similarity</th>\n",
       "      <th>Cosine Distance</th>\n",
       "    </tr>\n",
       "  </thead>\n",
       "  <tbody>\n",
       "    <tr>\n",
       "      <th>101</th>\n",
       "      <td>5</td>\n",
       "      <td>dog</td>\n",
       "      <td>0.0</td>\n",
       "      <td>1.211443</td>\n",
       "      <td>0.963854</td>\n",
       "      <td>0.900573</td>\n",
       "      <td>0.0</td>\n",
       "      <td>0.439992</td>\n",
       "      <td>1.558550</td>\n",
       "      <td>0.0</td>\n",
       "      <td>...</td>\n",
       "      <td>0.0</td>\n",
       "      <td>0.784574</td>\n",
       "      <td>0.0</td>\n",
       "      <td>0.0</td>\n",
       "      <td>1.518562</td>\n",
       "      <td>1.163304</td>\n",
       "      <td>1.083788</td>\n",
       "      <td>1.985177</td>\n",
       "      <td>1.000000</td>\n",
       "      <td>5.960464e-08</td>\n",
       "    </tr>\n",
       "    <tr>\n",
       "      <th>6312</th>\n",
       "      <td>2</td>\n",
       "      <td>bird</td>\n",
       "      <td>0.0</td>\n",
       "      <td>0.781410</td>\n",
       "      <td>0.689246</td>\n",
       "      <td>0.712552</td>\n",
       "      <td>0.0</td>\n",
       "      <td>0.283074</td>\n",
       "      <td>1.177684</td>\n",
       "      <td>0.0</td>\n",
       "      <td>...</td>\n",
       "      <td>0.0</td>\n",
       "      <td>0.784333</td>\n",
       "      <td>0.0</td>\n",
       "      <td>0.0</td>\n",
       "      <td>1.076713</td>\n",
       "      <td>0.993416</td>\n",
       "      <td>1.001287</td>\n",
       "      <td>1.600485</td>\n",
       "      <td>0.994094</td>\n",
       "      <td>5.906403e-03</td>\n",
       "    </tr>\n",
       "    <tr>\n",
       "      <th>2648</th>\n",
       "      <td>4</td>\n",
       "      <td>deer</td>\n",
       "      <td>0.0</td>\n",
       "      <td>0.974345</td>\n",
       "      <td>1.050847</td>\n",
       "      <td>0.781652</td>\n",
       "      <td>0.0</td>\n",
       "      <td>0.315235</td>\n",
       "      <td>1.295580</td>\n",
       "      <td>0.0</td>\n",
       "      <td>...</td>\n",
       "      <td>0.0</td>\n",
       "      <td>0.650488</td>\n",
       "      <td>0.0</td>\n",
       "      <td>0.0</td>\n",
       "      <td>1.306826</td>\n",
       "      <td>1.065481</td>\n",
       "      <td>0.938420</td>\n",
       "      <td>1.635409</td>\n",
       "      <td>0.994046</td>\n",
       "      <td>5.954206e-03</td>\n",
       "    </tr>\n",
       "    <tr>\n",
       "      <th>2728</th>\n",
       "      <td>2</td>\n",
       "      <td>bird</td>\n",
       "      <td>0.0</td>\n",
       "      <td>1.047006</td>\n",
       "      <td>0.690937</td>\n",
       "      <td>0.800691</td>\n",
       "      <td>0.0</td>\n",
       "      <td>0.269979</td>\n",
       "      <td>1.529139</td>\n",
       "      <td>0.0</td>\n",
       "      <td>...</td>\n",
       "      <td>0.0</td>\n",
       "      <td>1.047901</td>\n",
       "      <td>0.0</td>\n",
       "      <td>0.0</td>\n",
       "      <td>1.458112</td>\n",
       "      <td>1.237331</td>\n",
       "      <td>1.145297</td>\n",
       "      <td>2.105752</td>\n",
       "      <td>0.993040</td>\n",
       "      <td>6.959677e-03</td>\n",
       "    </tr>\n",
       "    <tr>\n",
       "      <th>7717</th>\n",
       "      <td>3</td>\n",
       "      <td>cat</td>\n",
       "      <td>0.0</td>\n",
       "      <td>0.887099</td>\n",
       "      <td>0.946956</td>\n",
       "      <td>0.675694</td>\n",
       "      <td>0.0</td>\n",
       "      <td>0.429206</td>\n",
       "      <td>1.206376</td>\n",
       "      <td>0.0</td>\n",
       "      <td>...</td>\n",
       "      <td>0.0</td>\n",
       "      <td>0.562480</td>\n",
       "      <td>0.0</td>\n",
       "      <td>0.0</td>\n",
       "      <td>1.064439</td>\n",
       "      <td>0.829431</td>\n",
       "      <td>0.936826</td>\n",
       "      <td>1.724109</td>\n",
       "      <td>0.992078</td>\n",
       "      <td>7.921875e-03</td>\n",
       "    </tr>\n",
       "    <tr>\n",
       "      <th>...</th>\n",
       "      <td>...</td>\n",
       "      <td>...</td>\n",
       "      <td>...</td>\n",
       "      <td>...</td>\n",
       "      <td>...</td>\n",
       "      <td>...</td>\n",
       "      <td>...</td>\n",
       "      <td>...</td>\n",
       "      <td>...</td>\n",
       "      <td>...</td>\n",
       "      <td>...</td>\n",
       "      <td>...</td>\n",
       "      <td>...</td>\n",
       "      <td>...</td>\n",
       "      <td>...</td>\n",
       "      <td>...</td>\n",
       "      <td>...</td>\n",
       "      <td>...</td>\n",
       "      <td>...</td>\n",
       "      <td>...</td>\n",
       "      <td>...</td>\n",
       "    </tr>\n",
       "    <tr>\n",
       "      <th>7145</th>\n",
       "      <td>3</td>\n",
       "      <td>cat</td>\n",
       "      <td>0.0</td>\n",
       "      <td>0.621497</td>\n",
       "      <td>1.211176</td>\n",
       "      <td>0.650638</td>\n",
       "      <td>0.0</td>\n",
       "      <td>0.628665</td>\n",
       "      <td>0.339132</td>\n",
       "      <td>0.0</td>\n",
       "      <td>...</td>\n",
       "      <td>0.0</td>\n",
       "      <td>0.000000</td>\n",
       "      <td>0.0</td>\n",
       "      <td>0.0</td>\n",
       "      <td>0.350462</td>\n",
       "      <td>0.140198</td>\n",
       "      <td>0.291703</td>\n",
       "      <td>0.424411</td>\n",
       "      <td>0.772508</td>\n",
       "      <td>2.274917e-01</td>\n",
       "    </tr>\n",
       "    <tr>\n",
       "      <th>925</th>\n",
       "      <td>5</td>\n",
       "      <td>dog</td>\n",
       "      <td>0.0</td>\n",
       "      <td>0.747652</td>\n",
       "      <td>1.343683</td>\n",
       "      <td>0.622792</td>\n",
       "      <td>0.0</td>\n",
       "      <td>0.941458</td>\n",
       "      <td>0.500176</td>\n",
       "      <td>0.0</td>\n",
       "      <td>...</td>\n",
       "      <td>0.0</td>\n",
       "      <td>0.000000</td>\n",
       "      <td>0.0</td>\n",
       "      <td>0.0</td>\n",
       "      <td>0.403022</td>\n",
       "      <td>0.090645</td>\n",
       "      <td>0.379538</td>\n",
       "      <td>0.717500</td>\n",
       "      <td>0.771985</td>\n",
       "      <td>2.280148e-01</td>\n",
       "    </tr>\n",
       "    <tr>\n",
       "      <th>1080</th>\n",
       "      <td>6</td>\n",
       "      <td>frog</td>\n",
       "      <td>0.0</td>\n",
       "      <td>0.906398</td>\n",
       "      <td>1.832278</td>\n",
       "      <td>1.056805</td>\n",
       "      <td>0.0</td>\n",
       "      <td>0.784682</td>\n",
       "      <td>0.439406</td>\n",
       "      <td>0.0</td>\n",
       "      <td>...</td>\n",
       "      <td>0.0</td>\n",
       "      <td>0.021079</td>\n",
       "      <td>0.0</td>\n",
       "      <td>0.0</td>\n",
       "      <td>0.463149</td>\n",
       "      <td>0.558216</td>\n",
       "      <td>0.559696</td>\n",
       "      <td>0.312881</td>\n",
       "      <td>0.769846</td>\n",
       "      <td>2.301540e-01</td>\n",
       "    </tr>\n",
       "    <tr>\n",
       "      <th>5084</th>\n",
       "      <td>3</td>\n",
       "      <td>cat</td>\n",
       "      <td>0.0</td>\n",
       "      <td>0.668423</td>\n",
       "      <td>1.671689</td>\n",
       "      <td>0.652074</td>\n",
       "      <td>0.0</td>\n",
       "      <td>0.930010</td>\n",
       "      <td>0.481687</td>\n",
       "      <td>0.0</td>\n",
       "      <td>...</td>\n",
       "      <td>0.0</td>\n",
       "      <td>0.000000</td>\n",
       "      <td>0.0</td>\n",
       "      <td>0.0</td>\n",
       "      <td>0.443743</td>\n",
       "      <td>0.067721</td>\n",
       "      <td>0.213706</td>\n",
       "      <td>0.619761</td>\n",
       "      <td>0.749161</td>\n",
       "      <td>2.508385e-01</td>\n",
       "    </tr>\n",
       "    <tr>\n",
       "      <th>1733</th>\n",
       "      <td>3</td>\n",
       "      <td>cat</td>\n",
       "      <td>0.0</td>\n",
       "      <td>0.519016</td>\n",
       "      <td>1.387082</td>\n",
       "      <td>0.949749</td>\n",
       "      <td>0.0</td>\n",
       "      <td>0.515702</td>\n",
       "      <td>0.307407</td>\n",
       "      <td>0.0</td>\n",
       "      <td>...</td>\n",
       "      <td>0.0</td>\n",
       "      <td>0.197025</td>\n",
       "      <td>0.0</td>\n",
       "      <td>0.0</td>\n",
       "      <td>0.590540</td>\n",
       "      <td>0.321410</td>\n",
       "      <td>0.426451</td>\n",
       "      <td>0.340971</td>\n",
       "      <td>0.740760</td>\n",
       "      <td>2.592400e-01</td>\n",
       "    </tr>\n",
       "  </tbody>\n",
       "</table>\n",
       "<p>10000 rows × 36 columns</p>\n",
       "</div>"
      ],
      "text/plain": [
       "      Class Class Name    0         1         2         3    4         5  \\\n",
       "101       5        dog  0.0  1.211443  0.963854  0.900573  0.0  0.439992   \n",
       "6312      2       bird  0.0  0.781410  0.689246  0.712552  0.0  0.283074   \n",
       "2648      4       deer  0.0  0.974345  1.050847  0.781652  0.0  0.315235   \n",
       "2728      2       bird  0.0  1.047006  0.690937  0.800691  0.0  0.269979   \n",
       "7717      3        cat  0.0  0.887099  0.946956  0.675694  0.0  0.429206   \n",
       "...     ...        ...  ...       ...       ...       ...  ...       ...   \n",
       "7145      3        cat  0.0  0.621497  1.211176  0.650638  0.0  0.628665   \n",
       "925       5        dog  0.0  0.747652  1.343683  0.622792  0.0  0.941458   \n",
       "1080      6       frog  0.0  0.906398  1.832278  1.056805  0.0  0.784682   \n",
       "5084      3        cat  0.0  0.668423  1.671689  0.652074  0.0  0.930010   \n",
       "1733      3        cat  0.0  0.519016  1.387082  0.949749  0.0  0.515702   \n",
       "\n",
       "             6    7  ...   24        25   26   27        28        29  \\\n",
       "101   1.558550  0.0  ...  0.0  0.784574  0.0  0.0  1.518562  1.163304   \n",
       "6312  1.177684  0.0  ...  0.0  0.784333  0.0  0.0  1.076713  0.993416   \n",
       "2648  1.295580  0.0  ...  0.0  0.650488  0.0  0.0  1.306826  1.065481   \n",
       "2728  1.529139  0.0  ...  0.0  1.047901  0.0  0.0  1.458112  1.237331   \n",
       "7717  1.206376  0.0  ...  0.0  0.562480  0.0  0.0  1.064439  0.829431   \n",
       "...        ...  ...  ...  ...       ...  ...  ...       ...       ...   \n",
       "7145  0.339132  0.0  ...  0.0  0.000000  0.0  0.0  0.350462  0.140198   \n",
       "925   0.500176  0.0  ...  0.0  0.000000  0.0  0.0  0.403022  0.090645   \n",
       "1080  0.439406  0.0  ...  0.0  0.021079  0.0  0.0  0.463149  0.558216   \n",
       "5084  0.481687  0.0  ...  0.0  0.000000  0.0  0.0  0.443743  0.067721   \n",
       "1733  0.307407  0.0  ...  0.0  0.197025  0.0  0.0  0.590540  0.321410   \n",
       "\n",
       "            30        31  Cosine Similarity  Cosine Distance  \n",
       "101   1.083788  1.985177           1.000000     5.960464e-08  \n",
       "6312  1.001287  1.600485           0.994094     5.906403e-03  \n",
       "2648  0.938420  1.635409           0.994046     5.954206e-03  \n",
       "2728  1.145297  2.105752           0.993040     6.959677e-03  \n",
       "7717  0.936826  1.724109           0.992078     7.921875e-03  \n",
       "...        ...       ...                ...              ...  \n",
       "7145  0.291703  0.424411           0.772508     2.274917e-01  \n",
       "925   0.379538  0.717500           0.771985     2.280148e-01  \n",
       "1080  0.559696  0.312881           0.769846     2.301540e-01  \n",
       "5084  0.213706  0.619761           0.749161     2.508385e-01  \n",
       "1733  0.426451  0.340971           0.740760     2.592400e-01  \n",
       "\n",
       "[10000 rows x 36 columns]"
      ]
     },
     "execution_count": 26,
     "metadata": {},
     "output_type": "execute_result"
    }
   ],
   "source": [
    "final_encoded_test_data_df.sort_values(by = ['Cosine Similarity'], ascending = False)"
   ]
  },
  {
   "cell_type": "code",
   "execution_count": 27,
   "metadata": {},
   "outputs": [],
   "source": [
    "cosine_index = final_encoded_test_data_df.sort_values(by = ['Cosine Similarity'], ascending = False).head(10).index"
   ]
  },
  {
   "cell_type": "code",
   "execution_count": 28,
   "metadata": {
    "scrolled": true
   },
   "outputs": [
    {
     "data": {
      "image/png": "[encoded data removed]",
      "text/plain": [
       "<Figure size 144x144 with 1 Axes>"
      ]
     },
     "metadata": {
      "needs_background": "light"
     },
     "output_type": "display_data"
    },
    {
     "data": {
      "image/png": "[encoded data removed]",
      "text/plain": [
       "<Figure size 144x144 with 1 Axes>"
      ]
     },
     "metadata": {
      "needs_background": "light"
     },
     "output_type": "display_data"
    },
    {
     "data": {
      "image/png": "[encoded data removed]",
      "text/plain": [
       "<Figure size 144x144 with 1 Axes>"
      ]
     },
     "metadata": {
      "needs_background": "light"
     },
     "output_type": "display_data"
    },
    {
     "data": {
      "image/png": "[encoded data removed]",
      "text/plain": [
       "<Figure size 144x144 with 1 Axes>"
      ]
     },
     "metadata": {
      "needs_background": "light"
     },
     "output_type": "display_data"
    },
    {
     "data": {
      "image/png": "[encoded data removed]",
      "text/plain": [
       "<Figure size 144x144 with 1 Axes>"
      ]
     },
     "metadata": {
      "needs_background": "light"
     },
     "output_type": "display_data"
    },
    {
     "data": {
      "image/png": "[encoded data removed]",
      "text/plain": [
       "<Figure size 144x144 with 1 Axes>"
      ]
     },
     "metadata": {
      "needs_background": "light"
     },
     "output_type": "display_data"
    },
    {
     "data": {
      "image/png": "[encoded data removed]",
      "text/plain": [
       "<Figure size 144x144 with 1 Axes>"
      ]
     },
     "metadata": {
      "needs_background": "light"
     },
     "output_type": "display_data"
    },
    {
     "data": {
      "image/png": "[encoded data removed]",
      "text/plain": [
       "<Figure size 144x144 with 1 Axes>"
      ]
     },
     "metadata": {
      "needs_background": "light"
     },
     "output_type": "display_data"
    },
    {
     "data": {
      "image/png": "[encoded data removed]",
      "text/plain": [
       "<Figure size 144x144 with 1 Axes>"
      ]
     },
     "metadata": {
      "needs_background": "light"
     },
     "output_type": "display_data"
    },
    {
     "data": {
      "image/png": "[encoded data removed]",
      "text/plain": [
       "<Figure size 144x144 with 1 Axes>"
      ]
     },
     "metadata": {
      "needs_background": "light"
     },
     "output_type": "display_data"
    }
   ],
   "source": [
    "for i in cosine_index:\n",
    "    plt.figure(figsize = (2, 2))\n",
    "    plt.imshow(x_test[i].reshape(32, 32, 3))\n",
    "    plt.xlabel(final_encoded_test_data_df['Class Name'][i] + ' with a Cosine Similarity of ' + str(final_encoded_test_data_df['Cosine Similarity'][i]) + ' from the queried image.')\n",
    "    plt.show()"
   ]
  },
  {
   "cell_type": "code",
   "execution_count": 29,
   "metadata": {},
   "outputs": [
    {
     "name": "stdout",
     "output_type": "stream",
     "text": [
      "10000\n"
     ]
    }
   ],
   "source": [
    "euclidean_distance = []\n",
    "\n",
    "for i in range(len(x_test)):\n",
    "    a = final_encoded_test_data_df.loc[final_encoded_test_data_df['Class Name'] == input_val].iloc[int(input_num), 2:]\n",
    "    b = final_encoded_test_data_df.iloc[i, 2:]\n",
    "    euc_dist = np.linalg.norm(a-b)\n",
    "    euclidean_distance.append(euc_dist)\n",
    "print(len(euclidean_distance))"
   ]
  },
  {
   "cell_type": "code",
   "execution_count": 30,
   "metadata": {},
   "outputs": [
    {
     "data": {
      "text/html": [
       "<div>\n",
       "<style scoped>\n",
       "    .dataframe tbody tr th:only-of-type {\n",
       "        vertical-align: middle;\n",
       "    }\n",
       "\n",
       "    .dataframe tbody tr th {\n",
       "        vertical-align: top;\n",
       "    }\n",
       "\n",
       "    .dataframe thead th {\n",
       "        text-align: right;\n",
       "    }\n",
       "</style>\n",
       "<table border=\"1\" class=\"dataframe\">\n",
       "  <thead>\n",
       "    <tr style=\"text-align: right;\">\n",
       "      <th></th>\n",
       "      <th>Class</th>\n",
       "      <th>Class Name</th>\n",
       "      <th>0</th>\n",
       "      <th>1</th>\n",
       "      <th>2</th>\n",
       "      <th>3</th>\n",
       "      <th>4</th>\n",
       "      <th>5</th>\n",
       "      <th>6</th>\n",
       "      <th>7</th>\n",
       "      <th>...</th>\n",
       "      <th>25</th>\n",
       "      <th>26</th>\n",
       "      <th>27</th>\n",
       "      <th>28</th>\n",
       "      <th>29</th>\n",
       "      <th>30</th>\n",
       "      <th>31</th>\n",
       "      <th>Cosine Similarity</th>\n",
       "      <th>Cosine Distance</th>\n",
       "      <th>Euclidean Distance</th>\n",
       "    </tr>\n",
       "  </thead>\n",
       "  <tbody>\n",
       "    <tr>\n",
       "      <th>101</th>\n",
       "      <td>5</td>\n",
       "      <td>dog</td>\n",
       "      <td>0.0</td>\n",
       "      <td>1.211443</td>\n",
       "      <td>0.963854</td>\n",
       "      <td>0.900573</td>\n",
       "      <td>0.0</td>\n",
       "      <td>0.439992</td>\n",
       "      <td>1.558550</td>\n",
       "      <td>0.0</td>\n",
       "      <td>...</td>\n",
       "      <td>0.784574</td>\n",
       "      <td>0.0</td>\n",
       "      <td>0.0</td>\n",
       "      <td>1.518562</td>\n",
       "      <td>1.163304</td>\n",
       "      <td>1.083788</td>\n",
       "      <td>1.985177</td>\n",
       "      <td>1.000000</td>\n",
       "      <td>5.960464e-08</td>\n",
       "      <td>0.000000</td>\n",
       "    </tr>\n",
       "    <tr>\n",
       "      <th>2728</th>\n",
       "      <td>2</td>\n",
       "      <td>bird</td>\n",
       "      <td>0.0</td>\n",
       "      <td>1.047006</td>\n",
       "      <td>0.690937</td>\n",
       "      <td>0.800691</td>\n",
       "      <td>0.0</td>\n",
       "      <td>0.269979</td>\n",
       "      <td>1.529139</td>\n",
       "      <td>0.0</td>\n",
       "      <td>...</td>\n",
       "      <td>1.047901</td>\n",
       "      <td>0.0</td>\n",
       "      <td>0.0</td>\n",
       "      <td>1.458112</td>\n",
       "      <td>1.237331</td>\n",
       "      <td>1.145297</td>\n",
       "      <td>2.105752</td>\n",
       "      <td>0.993040</td>\n",
       "      <td>6.959677e-03</td>\n",
       "      <td>0.597408</td>\n",
       "    </tr>\n",
       "    <tr>\n",
       "      <th>9123</th>\n",
       "      <td>2</td>\n",
       "      <td>bird</td>\n",
       "      <td>0.0</td>\n",
       "      <td>0.737880</td>\n",
       "      <td>0.990917</td>\n",
       "      <td>0.837508</td>\n",
       "      <td>0.0</td>\n",
       "      <td>0.292406</td>\n",
       "      <td>1.641099</td>\n",
       "      <td>0.0</td>\n",
       "      <td>...</td>\n",
       "      <td>0.864959</td>\n",
       "      <td>0.0</td>\n",
       "      <td>0.0</td>\n",
       "      <td>1.435200</td>\n",
       "      <td>1.263274</td>\n",
       "      <td>1.087169</td>\n",
       "      <td>1.905458</td>\n",
       "      <td>0.991562</td>\n",
       "      <td>8.437812e-03</td>\n",
       "      <td>0.638295</td>\n",
       "    </tr>\n",
       "    <tr>\n",
       "      <th>1163</th>\n",
       "      <td>3</td>\n",
       "      <td>cat</td>\n",
       "      <td>0.0</td>\n",
       "      <td>1.219257</td>\n",
       "      <td>0.853932</td>\n",
       "      <td>0.928831</td>\n",
       "      <td>0.0</td>\n",
       "      <td>0.396374</td>\n",
       "      <td>1.428108</td>\n",
       "      <td>0.0</td>\n",
       "      <td>...</td>\n",
       "      <td>0.873913</td>\n",
       "      <td>0.0</td>\n",
       "      <td>0.0</td>\n",
       "      <td>1.398895</td>\n",
       "      <td>1.131041</td>\n",
       "      <td>1.205431</td>\n",
       "      <td>1.860532</td>\n",
       "      <td>0.990569</td>\n",
       "      <td>9.431064e-03</td>\n",
       "      <td>0.676825</td>\n",
       "    </tr>\n",
       "    <tr>\n",
       "      <th>6457</th>\n",
       "      <td>2</td>\n",
       "      <td>bird</td>\n",
       "      <td>0.0</td>\n",
       "      <td>0.872107</td>\n",
       "      <td>1.021206</td>\n",
       "      <td>0.974704</td>\n",
       "      <td>0.0</td>\n",
       "      <td>0.204768</td>\n",
       "      <td>1.443659</td>\n",
       "      <td>0.0</td>\n",
       "      <td>...</td>\n",
       "      <td>0.771480</td>\n",
       "      <td>0.0</td>\n",
       "      <td>0.0</td>\n",
       "      <td>1.392821</td>\n",
       "      <td>1.117487</td>\n",
       "      <td>1.071312</td>\n",
       "      <td>1.722713</td>\n",
       "      <td>0.989686</td>\n",
       "      <td>1.031357e-02</td>\n",
       "      <td>0.693504</td>\n",
       "    </tr>\n",
       "    <tr>\n",
       "      <th>...</th>\n",
       "      <td>...</td>\n",
       "      <td>...</td>\n",
       "      <td>...</td>\n",
       "      <td>...</td>\n",
       "      <td>...</td>\n",
       "      <td>...</td>\n",
       "      <td>...</td>\n",
       "      <td>...</td>\n",
       "      <td>...</td>\n",
       "      <td>...</td>\n",
       "      <td>...</td>\n",
       "      <td>...</td>\n",
       "      <td>...</td>\n",
       "      <td>...</td>\n",
       "      <td>...</td>\n",
       "      <td>...</td>\n",
       "      <td>...</td>\n",
       "      <td>...</td>\n",
       "      <td>...</td>\n",
       "      <td>...</td>\n",
       "      <td>...</td>\n",
       "    </tr>\n",
       "    <tr>\n",
       "      <th>8448</th>\n",
       "      <td>4</td>\n",
       "      <td>deer</td>\n",
       "      <td>0.0</td>\n",
       "      <td>0.395132</td>\n",
       "      <td>0.507554</td>\n",
       "      <td>0.352839</td>\n",
       "      <td>0.0</td>\n",
       "      <td>0.316611</td>\n",
       "      <td>0.262607</td>\n",
       "      <td>0.0</td>\n",
       "      <td>...</td>\n",
       "      <td>0.124497</td>\n",
       "      <td>0.0</td>\n",
       "      <td>0.0</td>\n",
       "      <td>0.611826</td>\n",
       "      <td>0.035765</td>\n",
       "      <td>0.181271</td>\n",
       "      <td>0.416875</td>\n",
       "      <td>0.828317</td>\n",
       "      <td>1.716834e-01</td>\n",
       "      <td>3.486519</td>\n",
       "    </tr>\n",
       "    <tr>\n",
       "      <th>1240</th>\n",
       "      <td>2</td>\n",
       "      <td>bird</td>\n",
       "      <td>0.0</td>\n",
       "      <td>0.500079</td>\n",
       "      <td>0.641610</td>\n",
       "      <td>0.418355</td>\n",
       "      <td>0.0</td>\n",
       "      <td>0.243143</td>\n",
       "      <td>0.241784</td>\n",
       "      <td>0.0</td>\n",
       "      <td>...</td>\n",
       "      <td>0.000000</td>\n",
       "      <td>0.0</td>\n",
       "      <td>0.0</td>\n",
       "      <td>0.428420</td>\n",
       "      <td>0.121738</td>\n",
       "      <td>0.152888</td>\n",
       "      <td>0.303354</td>\n",
       "      <td>0.831668</td>\n",
       "      <td>1.683323e-01</td>\n",
       "      <td>3.492815</td>\n",
       "    </tr>\n",
       "    <tr>\n",
       "      <th>7794</th>\n",
       "      <td>5</td>\n",
       "      <td>dog</td>\n",
       "      <td>0.0</td>\n",
       "      <td>0.376966</td>\n",
       "      <td>0.685771</td>\n",
       "      <td>0.350507</td>\n",
       "      <td>0.0</td>\n",
       "      <td>0.237383</td>\n",
       "      <td>0.337792</td>\n",
       "      <td>0.0</td>\n",
       "      <td>...</td>\n",
       "      <td>0.000000</td>\n",
       "      <td>0.0</td>\n",
       "      <td>0.0</td>\n",
       "      <td>0.375879</td>\n",
       "      <td>0.152797</td>\n",
       "      <td>0.152525</td>\n",
       "      <td>0.291193</td>\n",
       "      <td>0.866216</td>\n",
       "      <td>1.337841e-01</td>\n",
       "      <td>3.524053</td>\n",
       "    </tr>\n",
       "    <tr>\n",
       "      <th>3724</th>\n",
       "      <td>6</td>\n",
       "      <td>frog</td>\n",
       "      <td>0.0</td>\n",
       "      <td>0.582904</td>\n",
       "      <td>0.670267</td>\n",
       "      <td>0.578955</td>\n",
       "      <td>0.0</td>\n",
       "      <td>0.226614</td>\n",
       "      <td>0.158237</td>\n",
       "      <td>0.0</td>\n",
       "      <td>...</td>\n",
       "      <td>0.074844</td>\n",
       "      <td>0.0</td>\n",
       "      <td>0.0</td>\n",
       "      <td>0.181589</td>\n",
       "      <td>0.221201</td>\n",
       "      <td>0.332224</td>\n",
       "      <td>0.247226</td>\n",
       "      <td>0.789450</td>\n",
       "      <td>2.105497e-01</td>\n",
       "      <td>3.527798</td>\n",
       "    </tr>\n",
       "    <tr>\n",
       "      <th>6941</th>\n",
       "      <td>4</td>\n",
       "      <td>deer</td>\n",
       "      <td>0.0</td>\n",
       "      <td>0.224636</td>\n",
       "      <td>0.448957</td>\n",
       "      <td>0.332399</td>\n",
       "      <td>0.0</td>\n",
       "      <td>0.183178</td>\n",
       "      <td>0.271623</td>\n",
       "      <td>0.0</td>\n",
       "      <td>...</td>\n",
       "      <td>0.090536</td>\n",
       "      <td>0.0</td>\n",
       "      <td>0.0</td>\n",
       "      <td>0.208438</td>\n",
       "      <td>0.118074</td>\n",
       "      <td>0.334407</td>\n",
       "      <td>0.510597</td>\n",
       "      <td>0.913214</td>\n",
       "      <td>8.678645e-02</td>\n",
       "      <td>3.571592</td>\n",
       "    </tr>\n",
       "  </tbody>\n",
       "</table>\n",
       "<p>10000 rows × 37 columns</p>\n",
       "</div>"
      ],
      "text/plain": [
       "      Class Class Name    0         1         2         3    4         5  \\\n",
       "101       5        dog  0.0  1.211443  0.963854  0.900573  0.0  0.439992   \n",
       "2728      2       bird  0.0  1.047006  0.690937  0.800691  0.0  0.269979   \n",
       "9123      2       bird  0.0  0.737880  0.990917  0.837508  0.0  0.292406   \n",
       "1163      3        cat  0.0  1.219257  0.853932  0.928831  0.0  0.396374   \n",
       "6457      2       bird  0.0  0.872107  1.021206  0.974704  0.0  0.204768   \n",
       "...     ...        ...  ...       ...       ...       ...  ...       ...   \n",
       "8448      4       deer  0.0  0.395132  0.507554  0.352839  0.0  0.316611   \n",
       "1240      2       bird  0.0  0.500079  0.641610  0.418355  0.0  0.243143   \n",
       "7794      5        dog  0.0  0.376966  0.685771  0.350507  0.0  0.237383   \n",
       "3724      6       frog  0.0  0.582904  0.670267  0.578955  0.0  0.226614   \n",
       "6941      4       deer  0.0  0.224636  0.448957  0.332399  0.0  0.183178   \n",
       "\n",
       "             6    7  ...        25   26   27        28        29        30  \\\n",
       "101   1.558550  0.0  ...  0.784574  0.0  0.0  1.518562  1.163304  1.083788   \n",
       "2728  1.529139  0.0  ...  1.047901  0.0  0.0  1.458112  1.237331  1.145297   \n",
       "9123  1.641099  0.0  ...  0.864959  0.0  0.0  1.435200  1.263274  1.087169   \n",
       "1163  1.428108  0.0  ...  0.873913  0.0  0.0  1.398895  1.131041  1.205431   \n",
       "6457  1.443659  0.0  ...  0.771480  0.0  0.0  1.392821  1.117487  1.071312   \n",
       "...        ...  ...  ...       ...  ...  ...       ...       ...       ...   \n",
       "8448  0.262607  0.0  ...  0.124497  0.0  0.0  0.611826  0.035765  0.181271   \n",
       "1240  0.241784  0.0  ...  0.000000  0.0  0.0  0.428420  0.121738  0.152888   \n",
       "7794  0.337792  0.0  ...  0.000000  0.0  0.0  0.375879  0.152797  0.152525   \n",
       "3724  0.158237  0.0  ...  0.074844  0.0  0.0  0.181589  0.221201  0.332224   \n",
       "6941  0.271623  0.0  ...  0.090536  0.0  0.0  0.208438  0.118074  0.334407   \n",
       "\n",
       "            31  Cosine Similarity  Cosine Distance  Euclidean Distance  \n",
       "101   1.985177           1.000000     5.960464e-08            0.000000  \n",
       "2728  2.105752           0.993040     6.959677e-03            0.597408  \n",
       "9123  1.905458           0.991562     8.437812e-03            0.638295  \n",
       "1163  1.860532           0.990569     9.431064e-03            0.676825  \n",
       "6457  1.722713           0.989686     1.031357e-02            0.693504  \n",
       "...        ...                ...              ...                 ...  \n",
       "8448  0.416875           0.828317     1.716834e-01            3.486519  \n",
       "1240  0.303354           0.831668     1.683323e-01            3.492815  \n",
       "7794  0.291193           0.866216     1.337841e-01            3.524053  \n",
       "3724  0.247226           0.789450     2.105497e-01            3.527798  \n",
       "6941  0.510597           0.913214     8.678645e-02            3.571592  \n",
       "\n",
       "[10000 rows x 37 columns]"
      ]
     },
     "execution_count": 30,
     "metadata": {},
     "output_type": "execute_result"
    }
   ],
   "source": [
    "final_encoded_test_data_df['Euclidean Distance'] = euclidean_distance\n",
    "final_encoded_test_data_df.sort_values(by = ['Euclidean Distance'])"
   ]
  },
  {
   "cell_type": "code",
   "execution_count": 31,
   "metadata": {
    "scrolled": true
   },
   "outputs": [
    {
     "data": {
      "image/png": "[encoded data removed]",
      "text/plain": [
       "<Figure size 144x144 with 1 Axes>"
      ]
     },
     "metadata": {
      "needs_background": "light"
     },
     "output_type": "display_data"
    },
    {
     "data": {
      "image/png": "[encoded data removed]",
      "text/plain": [
       "<Figure size 144x144 with 1 Axes>"
      ]
     },
     "metadata": {
      "needs_background": "light"
     },
     "output_type": "display_data"
    },
    {
     "data": {
      "image/png": "[encoded data removed]",
      "text/plain": [
       "<Figure size 144x144 with 1 Axes>"
      ]
     },
     "metadata": {
      "needs_background": "light"
     },
     "output_type": "display_data"
    },
    {
     "data": {
      "image/png": "[encoded data removed]",
      "text/plain": [
       "<Figure size 144x144 with 1 Axes>"
      ]
     },
     "metadata": {
      "needs_background": "light"
     },
     "output_type": "display_data"
    },
    {
     "data": {
      "image/png": "[encoded data removed]",
      "text/plain": [
       "<Figure size 144x144 with 1 Axes>"
      ]
     },
     "metadata": {
      "needs_background": "light"
     },
     "output_type": "display_data"
    },
    {
     "data": {
      "image/png": "[encoded data removed]",
      "text/plain": [
       "<Figure size 144x144 with 1 Axes>"
      ]
     },
     "metadata": {
      "needs_background": "light"
     },
     "output_type": "display_data"
    },
    {
     "data": {
      "image/png": "[encoded data removed]",
      "text/plain": [
       "<Figure size 144x144 with 1 Axes>"
      ]
     },
     "metadata": {
      "needs_background": "light"
     },
     "output_type": "display_data"
    },
    {
     "data": {
      "image/png": "[encoded data removed]",
      "text/plain": [
       "<Figure size 144x144 with 1 Axes>"
      ]
     },
     "metadata": {
      "needs_background": "light"
     },
     "output_type": "display_data"
    },
    {
     "data": {
      "image/png": "[encoded data removed]",
      "text/plain": [
       "<Figure size 144x144 with 1 Axes>"
      ]
     },
     "metadata": {
      "needs_background": "light"
     },
     "output_type": "display_data"
    },
    {
     "data": {
      "image/png": "[encoded data removed]",
      "text/plain": [
       "<Figure size 144x144 with 1 Axes>"
      ]
     },
     "metadata": {
      "needs_background": "light"
     },
     "output_type": "display_data"
    }
   ],
   "source": [
    "euclidean_index = final_encoded_test_data_df.sort_values(by = ['Euclidean Distance']).head(10).index\n",
    "\n",
    "for i in euclidean_index:\n",
    "    plt.figure(figsize = (2, 2))\n",
    "    plt.imshow(x_test[i].reshape(32, 32, 3))\n",
    "    plt.xlabel(final_encoded_test_data_df['Class Name'][i] + ' with an Euclidean Distance of ' + str(final_encoded_test_data_df['Euclidean Distance'][i]) + ' from the queried image.')\n",
    "    plt.show()"
   ]
  },
  {
   "cell_type": "code",
   "execution_count": null,
   "metadata": {},
   "outputs": [],
   "source": []
  }
 ],
 "metadata": {
  "kernelspec": {
   "display_name": "Python 3",
   "language": "python",
   "name": "python3"
  },
  "language_info": {
   "codemirror_mode": {
    "name": "ipython",
    "version": 3
   },
   "file_extension": ".py",
   "mimetype": "text/x-python",
   "name": "python",
   "nbconvert_exporter": "python",
   "pygments_lexer": "ipython3",
   "version": "3.6.9"
  }
 },
 "nbformat": 4,
 "nbformat_minor": 2
}
