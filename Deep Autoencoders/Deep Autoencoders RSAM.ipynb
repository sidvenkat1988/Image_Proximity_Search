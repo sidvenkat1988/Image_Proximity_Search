{
 "cells": [
  {
   "cell_type": "code",
   "execution_count": 2,
   "metadata": {},
   "outputs": [],
   "source": [
    "from keras.layers import Input, Dense\n",
    "from keras.models import Model\n",
    "\n",
    "import numpy as np\n",
    "import pandas as pd\n",
    "import matplotlib.pyplot as plt\n",
    "%matplotlib inline"
   ]
  },
  {
   "cell_type": "code",
   "execution_count": 3,
   "metadata": {},
   "outputs": [
    {
     "name": "stdout",
     "output_type": "stream",
     "text": [
      "(50000, 3074)\n",
      "(10000, 3074)\n"
     ]
    }
   ],
   "source": [
    "datadir = '/Users/sidv88/Documents/Data_Management_2/Data/'\n",
    "train_data = pd.read_csv(datadir + 'train_rgb.csv')\n",
    "test_data = pd.read_csv(datadir + 'test_rgb.csv')\n",
    "print(train_data.shape)\n",
    "print(test_data.shape)"
   ]
  },
  {
   "cell_type": "code",
   "execution_count": 4,
   "metadata": {},
   "outputs": [
    {
     "data": {
      "text/html": [
       "<div>\n",
       "<style scoped>\n",
       "    .dataframe tbody tr th:only-of-type {\n",
       "        vertical-align: middle;\n",
       "    }\n",
       "\n",
       "    .dataframe tbody tr th {\n",
       "        vertical-align: top;\n",
       "    }\n",
       "\n",
       "    .dataframe thead th {\n",
       "        text-align: right;\n",
       "    }\n",
       "</style>\n",
       "<table border=\"1\" class=\"dataframe\">\n",
       "  <thead>\n",
       "    <tr style=\"text-align: right;\">\n",
       "      <th></th>\n",
       "      <th>Class</th>\n",
       "      <th>Class Name</th>\n",
       "      <th>0</th>\n",
       "      <th>1</th>\n",
       "      <th>2</th>\n",
       "      <th>3</th>\n",
       "      <th>4</th>\n",
       "      <th>5</th>\n",
       "      <th>6</th>\n",
       "      <th>7</th>\n",
       "      <th>...</th>\n",
       "      <th>3062</th>\n",
       "      <th>3063</th>\n",
       "      <th>3064</th>\n",
       "      <th>3065</th>\n",
       "      <th>3066</th>\n",
       "      <th>3067</th>\n",
       "      <th>3068</th>\n",
       "      <th>3069</th>\n",
       "      <th>3070</th>\n",
       "      <th>3071</th>\n",
       "    </tr>\n",
       "  </thead>\n",
       "  <tbody>\n",
       "    <tr>\n",
       "      <th>0</th>\n",
       "      <td>6</td>\n",
       "      <td>frog</td>\n",
       "      <td>59</td>\n",
       "      <td>62</td>\n",
       "      <td>63</td>\n",
       "      <td>43</td>\n",
       "      <td>46</td>\n",
       "      <td>45</td>\n",
       "      <td>50</td>\n",
       "      <td>48</td>\n",
       "      <td>...</td>\n",
       "      <td>104</td>\n",
       "      <td>216</td>\n",
       "      <td>184</td>\n",
       "      <td>140</td>\n",
       "      <td>151</td>\n",
       "      <td>118</td>\n",
       "      <td>84</td>\n",
       "      <td>123</td>\n",
       "      <td>92</td>\n",
       "      <td>72</td>\n",
       "    </tr>\n",
       "    <tr>\n",
       "      <th>1</th>\n",
       "      <td>9</td>\n",
       "      <td>truck</td>\n",
       "      <td>154</td>\n",
       "      <td>177</td>\n",
       "      <td>187</td>\n",
       "      <td>126</td>\n",
       "      <td>137</td>\n",
       "      <td>136</td>\n",
       "      <td>105</td>\n",
       "      <td>104</td>\n",
       "      <td>...</td>\n",
       "      <td>136</td>\n",
       "      <td>143</td>\n",
       "      <td>133</td>\n",
       "      <td>139</td>\n",
       "      <td>143</td>\n",
       "      <td>134</td>\n",
       "      <td>142</td>\n",
       "      <td>143</td>\n",
       "      <td>133</td>\n",
       "      <td>144</td>\n",
       "    </tr>\n",
       "    <tr>\n",
       "      <th>2</th>\n",
       "      <td>9</td>\n",
       "      <td>truck</td>\n",
       "      <td>255</td>\n",
       "      <td>255</td>\n",
       "      <td>255</td>\n",
       "      <td>253</td>\n",
       "      <td>253</td>\n",
       "      <td>253</td>\n",
       "      <td>253</td>\n",
       "      <td>253</td>\n",
       "      <td>...</td>\n",
       "      <td>79</td>\n",
       "      <td>78</td>\n",
       "      <td>85</td>\n",
       "      <td>83</td>\n",
       "      <td>79</td>\n",
       "      <td>85</td>\n",
       "      <td>83</td>\n",
       "      <td>80</td>\n",
       "      <td>86</td>\n",
       "      <td>84</td>\n",
       "    </tr>\n",
       "    <tr>\n",
       "      <th>3</th>\n",
       "      <td>4</td>\n",
       "      <td>deer</td>\n",
       "      <td>28</td>\n",
       "      <td>25</td>\n",
       "      <td>10</td>\n",
       "      <td>37</td>\n",
       "      <td>34</td>\n",
       "      <td>19</td>\n",
       "      <td>38</td>\n",
       "      <td>35</td>\n",
       "      <td>...</td>\n",
       "      <td>38</td>\n",
       "      <td>54</td>\n",
       "      <td>47</td>\n",
       "      <td>28</td>\n",
       "      <td>63</td>\n",
       "      <td>56</td>\n",
       "      <td>37</td>\n",
       "      <td>72</td>\n",
       "      <td>65</td>\n",
       "      <td>46</td>\n",
       "    </tr>\n",
       "    <tr>\n",
       "      <th>4</th>\n",
       "      <td>1</td>\n",
       "      <td>automobile</td>\n",
       "      <td>170</td>\n",
       "      <td>180</td>\n",
       "      <td>198</td>\n",
       "      <td>168</td>\n",
       "      <td>178</td>\n",
       "      <td>196</td>\n",
       "      <td>177</td>\n",
       "      <td>185</td>\n",
       "      <td>...</td>\n",
       "      <td>78</td>\n",
       "      <td>75</td>\n",
       "      <td>79</td>\n",
       "      <td>82</td>\n",
       "      <td>71</td>\n",
       "      <td>75</td>\n",
       "      <td>78</td>\n",
       "      <td>73</td>\n",
       "      <td>77</td>\n",
       "      <td>80</td>\n",
       "    </tr>\n",
       "  </tbody>\n",
       "</table>\n",
       "<p>5 rows × 3074 columns</p>\n",
       "</div>"
      ],
      "text/plain": [
       "   Class  Class Name    0    1    2    3    4    5    6    7  ...  3062  3063  \\\n",
       "0      6        frog   59   62   63   43   46   45   50   48  ...   104   216   \n",
       "1      9       truck  154  177  187  126  137  136  105  104  ...   136   143   \n",
       "2      9       truck  255  255  255  253  253  253  253  253  ...    79    78   \n",
       "3      4        deer   28   25   10   37   34   19   38   35  ...    38    54   \n",
       "4      1  automobile  170  180  198  168  178  196  177  185  ...    78    75   \n",
       "\n",
       "   3064  3065  3066  3067  3068  3069  3070  3071  \n",
       "0   184   140   151   118    84   123    92    72  \n",
       "1   133   139   143   134   142   143   133   144  \n",
       "2    85    83    79    85    83    80    86    84  \n",
       "3    47    28    63    56    37    72    65    46  \n",
       "4    79    82    71    75    78    73    77    80  \n",
       "\n",
       "[5 rows x 3074 columns]"
      ]
     },
     "execution_count": 4,
     "metadata": {},
     "output_type": "execute_result"
    }
   ],
   "source": [
    "train_data.head()"
   ]
  },
  {
   "cell_type": "code",
   "execution_count": 5,
   "metadata": {},
   "outputs": [
    {
     "data": {
      "text/html": [
       "<div>\n",
       "<style scoped>\n",
       "    .dataframe tbody tr th:only-of-type {\n",
       "        vertical-align: middle;\n",
       "    }\n",
       "\n",
       "    .dataframe tbody tr th {\n",
       "        vertical-align: top;\n",
       "    }\n",
       "\n",
       "    .dataframe thead th {\n",
       "        text-align: right;\n",
       "    }\n",
       "</style>\n",
       "<table border=\"1\" class=\"dataframe\">\n",
       "  <thead>\n",
       "    <tr style=\"text-align: right;\">\n",
       "      <th></th>\n",
       "      <th>Class</th>\n",
       "      <th>Class Name</th>\n",
       "      <th>0</th>\n",
       "      <th>1</th>\n",
       "      <th>2</th>\n",
       "      <th>3</th>\n",
       "      <th>4</th>\n",
       "      <th>5</th>\n",
       "      <th>6</th>\n",
       "      <th>7</th>\n",
       "      <th>...</th>\n",
       "      <th>3062</th>\n",
       "      <th>3063</th>\n",
       "      <th>3064</th>\n",
       "      <th>3065</th>\n",
       "      <th>3066</th>\n",
       "      <th>3067</th>\n",
       "      <th>3068</th>\n",
       "      <th>3069</th>\n",
       "      <th>3070</th>\n",
       "      <th>3071</th>\n",
       "    </tr>\n",
       "  </thead>\n",
       "  <tbody>\n",
       "    <tr>\n",
       "      <th>0</th>\n",
       "      <td>3</td>\n",
       "      <td>cat</td>\n",
       "      <td>158</td>\n",
       "      <td>112</td>\n",
       "      <td>49</td>\n",
       "      <td>159</td>\n",
       "      <td>111</td>\n",
       "      <td>47</td>\n",
       "      <td>165</td>\n",
       "      <td>116</td>\n",
       "      <td>...</td>\n",
       "      <td>145</td>\n",
       "      <td>24</td>\n",
       "      <td>77</td>\n",
       "      <td>124</td>\n",
       "      <td>34</td>\n",
       "      <td>84</td>\n",
       "      <td>129</td>\n",
       "      <td>21</td>\n",
       "      <td>67</td>\n",
       "      <td>110</td>\n",
       "    </tr>\n",
       "    <tr>\n",
       "      <th>1</th>\n",
       "      <td>8</td>\n",
       "      <td>ship</td>\n",
       "      <td>235</td>\n",
       "      <td>235</td>\n",
       "      <td>235</td>\n",
       "      <td>231</td>\n",
       "      <td>231</td>\n",
       "      <td>231</td>\n",
       "      <td>232</td>\n",
       "      <td>232</td>\n",
       "      <td>...</td>\n",
       "      <td>163</td>\n",
       "      <td>168</td>\n",
       "      <td>183</td>\n",
       "      <td>178</td>\n",
       "      <td>180</td>\n",
       "      <td>195</td>\n",
       "      <td>191</td>\n",
       "      <td>186</td>\n",
       "      <td>200</td>\n",
       "      <td>199</td>\n",
       "    </tr>\n",
       "    <tr>\n",
       "      <th>2</th>\n",
       "      <td>8</td>\n",
       "      <td>ship</td>\n",
       "      <td>158</td>\n",
       "      <td>190</td>\n",
       "      <td>222</td>\n",
       "      <td>158</td>\n",
       "      <td>187</td>\n",
       "      <td>218</td>\n",
       "      <td>139</td>\n",
       "      <td>166</td>\n",
       "      <td>...</td>\n",
       "      <td>37</td>\n",
       "      <td>5</td>\n",
       "      <td>6</td>\n",
       "      <td>8</td>\n",
       "      <td>4</td>\n",
       "      <td>5</td>\n",
       "      <td>3</td>\n",
       "      <td>7</td>\n",
       "      <td>8</td>\n",
       "      <td>7</td>\n",
       "    </tr>\n",
       "    <tr>\n",
       "      <th>3</th>\n",
       "      <td>0</td>\n",
       "      <td>airplane</td>\n",
       "      <td>155</td>\n",
       "      <td>156</td>\n",
       "      <td>149</td>\n",
       "      <td>167</td>\n",
       "      <td>176</td>\n",
       "      <td>187</td>\n",
       "      <td>176</td>\n",
       "      <td>179</td>\n",
       "      <td>...</td>\n",
       "      <td>53</td>\n",
       "      <td>60</td>\n",
       "      <td>63</td>\n",
       "      <td>50</td>\n",
       "      <td>64</td>\n",
       "      <td>65</td>\n",
       "      <td>52</td>\n",
       "      <td>73</td>\n",
       "      <td>68</td>\n",
       "      <td>50</td>\n",
       "    </tr>\n",
       "    <tr>\n",
       "      <th>4</th>\n",
       "      <td>6</td>\n",
       "      <td>frog</td>\n",
       "      <td>65</td>\n",
       "      <td>68</td>\n",
       "      <td>50</td>\n",
       "      <td>70</td>\n",
       "      <td>81</td>\n",
       "      <td>64</td>\n",
       "      <td>48</td>\n",
       "      <td>64</td>\n",
       "      <td>...</td>\n",
       "      <td>147</td>\n",
       "      <td>143</td>\n",
       "      <td>179</td>\n",
       "      <td>136</td>\n",
       "      <td>154</td>\n",
       "      <td>185</td>\n",
       "      <td>146</td>\n",
       "      <td>128</td>\n",
       "      <td>156</td>\n",
       "      <td>117</td>\n",
       "    </tr>\n",
       "  </tbody>\n",
       "</table>\n",
       "<p>5 rows × 3074 columns</p>\n",
       "</div>"
      ],
      "text/plain": [
       "   Class Class Name    0    1    2    3    4    5    6    7  ...  3062  3063  \\\n",
       "0      3        cat  158  112   49  159  111   47  165  116  ...   145    24   \n",
       "1      8       ship  235  235  235  231  231  231  232  232  ...   163   168   \n",
       "2      8       ship  158  190  222  158  187  218  139  166  ...    37     5   \n",
       "3      0   airplane  155  156  149  167  176  187  176  179  ...    53    60   \n",
       "4      6       frog   65   68   50   70   81   64   48   64  ...   147   143   \n",
       "\n",
       "   3064  3065  3066  3067  3068  3069  3070  3071  \n",
       "0    77   124    34    84   129    21    67   110  \n",
       "1   183   178   180   195   191   186   200   199  \n",
       "2     6     8     4     5     3     7     8     7  \n",
       "3    63    50    64    65    52    73    68    50  \n",
       "4   179   136   154   185   146   128   156   117  \n",
       "\n",
       "[5 rows x 3074 columns]"
      ]
     },
     "execution_count": 5,
     "metadata": {},
     "output_type": "execute_result"
    }
   ],
   "source": [
    "test_data.head()"
   ]
  },
  {
   "cell_type": "code",
   "execution_count": 6,
   "metadata": {},
   "outputs": [
    {
     "name": "stdout",
     "output_type": "stream",
     "text": [
      "(50000, 3072)\n",
      "(50000, 2)\n"
     ]
    }
   ],
   "source": [
    "x_train = train_data.iloc[:, 2:]\n",
    "print(x_train.shape)\n",
    "y_train = train_data.iloc[:, [0, 1]]\n",
    "print(y_train.shape)"
   ]
  },
  {
   "cell_type": "code",
   "execution_count": 7,
   "metadata": {},
   "outputs": [
    {
     "name": "stdout",
     "output_type": "stream",
     "text": [
      "(10000, 3072)\n",
      "(10000, 2)\n"
     ]
    }
   ],
   "source": [
    "x_test = test_data.iloc[:, 2:]\n",
    "print(x_test.shape)\n",
    "y_test = test_data.iloc[:, [0, 1]]\n",
    "print(y_test.shape)"
   ]
  },
  {
   "cell_type": "code",
   "execution_count": 8,
   "metadata": {},
   "outputs": [],
   "source": [
    "x_train = np.array(x_train)\n",
    "x_test = np.array(x_test)"
   ]
  },
  {
   "cell_type": "code",
   "execution_count": 9,
   "metadata": {},
   "outputs": [
    {
     "name": "stdout",
     "output_type": "stream",
     "text": [
      "(50000, 3072)\n",
      "(10000, 3072)\n"
     ]
    }
   ],
   "source": [
    "print(x_train.shape)\n",
    "print(x_test.shape)"
   ]
  },
  {
   "cell_type": "code",
   "execution_count": 10,
   "metadata": {},
   "outputs": [
    {
     "name": "stdout",
     "output_type": "stream",
     "text": [
      "(50000, 3072)\n",
      "(10000, 3072)\n"
     ]
    }
   ],
   "source": [
    "x_train = x_train.astype('float32')/255\n",
    "x_test = x_test.astype('float32')/255\n",
    "print(x_train.shape)\n",
    "print(x_test.shape)"
   ]
  },
  {
   "cell_type": "code",
   "execution_count": 11,
   "metadata": {},
   "outputs": [],
   "source": [
    "input_img = Input(shape = (3072,))"
   ]
  },
  {
   "cell_type": "code",
   "execution_count": 12,
   "metadata": {},
   "outputs": [],
   "source": [
    "encoded = Dense(units = 128, activation = 'relu')(input_img)\n",
    "encoded = Dense(units = 128, activation = 'relu')(encoded)\n",
    "encoded = Dense(units = 64, activation = 'relu')(encoded)\n",
    "encoded = Dense(units = 64, activation = 'relu')(encoded)\n",
    "encoded = Dense(units = 32, activation = 'relu')(encoded)\n",
    "decoded = Dense(units = 64, activation = 'relu')(encoded)\n",
    "decoded = Dense(units = 64, activation = 'relu')(decoded)\n",
    "decoded = Dense(units = 128, activation = 'relu')(decoded)\n",
    "decoded = Dense(units = 128, activation = 'relu')(decoded)\n",
    "decoded = Dense(units = 3072, activation = 'sigmoid')(decoded)"
   ]
  },
  {
   "cell_type": "code",
   "execution_count": 13,
   "metadata": {},
   "outputs": [],
   "source": [
    "autoencoder = Model(input_img, decoded)\n",
    "encoder = Model(input_img, encoded)"
   ]
  },
  {
   "cell_type": "code",
   "execution_count": 14,
   "metadata": {},
   "outputs": [
    {
     "name": "stdout",
     "output_type": "stream",
     "text": [
      "Model: \"model_1\"\n",
      "_________________________________________________________________\n",
      "Layer (type)                 Output Shape              Param #   \n",
      "=================================================================\n",
      "input_1 (InputLayer)         (None, 3072)              0         \n",
      "_________________________________________________________________\n",
      "dense_1 (Dense)              (None, 128)               393344    \n",
      "_________________________________________________________________\n",
      "dense_2 (Dense)              (None, 128)               16512     \n",
      "_________________________________________________________________\n",
      "dense_3 (Dense)              (None, 64)                8256      \n",
      "_________________________________________________________________\n",
      "dense_4 (Dense)              (None, 64)                4160      \n",
      "_________________________________________________________________\n",
      "dense_5 (Dense)              (None, 32)                2080      \n",
      "_________________________________________________________________\n",
      "dense_6 (Dense)              (None, 64)                2112      \n",
      "_________________________________________________________________\n",
      "dense_7 (Dense)              (None, 64)                4160      \n",
      "_________________________________________________________________\n",
      "dense_8 (Dense)              (None, 128)               8320      \n",
      "_________________________________________________________________\n",
      "dense_9 (Dense)              (None, 128)               16512     \n",
      "_________________________________________________________________\n",
      "dense_10 (Dense)             (None, 3072)              396288    \n",
      "=================================================================\n",
      "Total params: 851,744\n",
      "Trainable params: 851,744\n",
      "Non-trainable params: 0\n",
      "_________________________________________________________________\n"
     ]
    }
   ],
   "source": [
    "autoencoder.summary()"
   ]
  },
  {
   "cell_type": "code",
   "execution_count": 15,
   "metadata": {},
   "outputs": [
    {
     "name": "stdout",
     "output_type": "stream",
     "text": [
      "Model: \"model_2\"\n",
      "_________________________________________________________________\n",
      "Layer (type)                 Output Shape              Param #   \n",
      "=================================================================\n",
      "input_1 (InputLayer)         (None, 3072)              0         \n",
      "_________________________________________________________________\n",
      "dense_1 (Dense)              (None, 128)               393344    \n",
      "_________________________________________________________________\n",
      "dense_2 (Dense)              (None, 128)               16512     \n",
      "_________________________________________________________________\n",
      "dense_3 (Dense)              (None, 64)                8256      \n",
      "_________________________________________________________________\n",
      "dense_4 (Dense)              (None, 64)                4160      \n",
      "_________________________________________________________________\n",
      "dense_5 (Dense)              (None, 32)                2080      \n",
      "=================================================================\n",
      "Total params: 424,352\n",
      "Trainable params: 424,352\n",
      "Non-trainable params: 0\n",
      "_________________________________________________________________\n"
     ]
    }
   ],
   "source": [
    "encoder.summary()"
   ]
  },
  {
   "cell_type": "code",
   "execution_count": 16,
   "metadata": {},
   "outputs": [],
   "source": [
    "autoencoder.compile(optimizer = 'adam', loss = 'mse', metrics = ['accuracy'])"
   ]
  },
  {
   "cell_type": "code",
   "execution_count": 17,
   "metadata": {
    "scrolled": true
   },
   "outputs": [
    {
     "name": "stdout",
     "output_type": "stream",
     "text": [
      "Train on 50000 samples, validate on 10000 samples\n",
      "Epoch 1/100\n",
      "50000/50000 [==============================] - 10s 204us/step - loss: 0.0454 - accuracy: 0.0023 - val_loss: 0.0328 - val_accuracy: 0.0019\n",
      "Epoch 2/100\n",
      "50000/50000 [==============================] - 10s 204us/step - loss: 0.0311 - accuracy: 0.0020 - val_loss: 0.0307 - val_accuracy: 0.0020\n",
      "Epoch 3/100\n",
      "50000/50000 [==============================] - 10s 201us/step - loss: 0.0305 - accuracy: 0.0017 - val_loss: 0.0292 - val_accuracy: 0.0020\n",
      "Epoch 4/100\n",
      "50000/50000 [==============================] - 13s 255us/step - loss: 0.0276 - accuracy: 0.0028 - val_loss: 0.0266 - val_accuracy: 0.0022\n",
      "Epoch 5/100\n",
      "50000/50000 [==============================] - 13s 257us/step - loss: 0.0261 - accuracy: 0.0024 - val_loss: 0.0250 - val_accuracy: 0.0034\n",
      "Epoch 6/100\n",
      "50000/50000 [==============================] - 13s 263us/step - loss: 0.0250 - accuracy: 0.0028 - val_loss: 0.0249 - val_accuracy: 0.0021\n",
      "Epoch 7/100\n",
      "50000/50000 [==============================] - 13s 256us/step - loss: 0.0247 - accuracy: 0.0026 - val_loss: 0.0242 - val_accuracy: 0.0027\n",
      "Epoch 8/100\n",
      "50000/50000 [==============================] - 13s 260us/step - loss: 0.0237 - accuracy: 0.0038 - val_loss: 0.0232 - val_accuracy: 0.0035\n",
      "Epoch 9/100\n",
      "50000/50000 [==============================] - 13s 263us/step - loss: 0.0225 - accuracy: 0.0036 - val_loss: 0.0224 - val_accuracy: 0.0040\n",
      "Epoch 10/100\n",
      "50000/50000 [==============================] - 13s 258us/step - loss: 0.0223 - accuracy: 0.0032 - val_loss: 0.0223 - val_accuracy: 0.0051\n",
      "Epoch 11/100\n",
      "50000/50000 [==============================] - 13s 266us/step - loss: 0.0220 - accuracy: 0.0034 - val_loss: 0.0217 - val_accuracy: 0.0038\n",
      "Epoch 12/100\n",
      "50000/50000 [==============================] - 13s 258us/step - loss: 0.0215 - accuracy: 0.0036 - val_loss: 0.0224 - val_accuracy: 0.0041\n",
      "Epoch 13/100\n",
      "50000/50000 [==============================] - 13s 259us/step - loss: 0.0211 - accuracy: 0.0039 - val_loss: 0.0209 - val_accuracy: 0.0034\n",
      "Epoch 14/100\n",
      "50000/50000 [==============================] - 13s 260us/step - loss: 0.0208 - accuracy: 0.0049 - val_loss: 0.0207 - val_accuracy: 0.0039\n",
      "Epoch 15/100\n",
      "50000/50000 [==============================] - 13s 260us/step - loss: 0.0206 - accuracy: 0.0039 - val_loss: 0.0207 - val_accuracy: 0.0040\n",
      "Epoch 16/100\n",
      "50000/50000 [==============================] - 13s 263us/step - loss: 0.0205 - accuracy: 0.0043 - val_loss: 0.0210 - val_accuracy: 0.0042\n",
      "Epoch 17/100\n",
      "50000/50000 [==============================] - 13s 259us/step - loss: 0.0204 - accuracy: 0.0042 - val_loss: 0.0202 - val_accuracy: 0.0057\n",
      "Epoch 18/100\n",
      "50000/50000 [==============================] - 13s 262us/step - loss: 0.0200 - accuracy: 0.0046 - val_loss: 0.0200 - val_accuracy: 0.0053\n",
      "Epoch 19/100\n",
      "50000/50000 [==============================] - 13s 258us/step - loss: 0.0199 - accuracy: 0.0042 - val_loss: 0.0203 - val_accuracy: 0.0054\n",
      "Epoch 20/100\n",
      "50000/50000 [==============================] - 13s 263us/step - loss: 0.0198 - accuracy: 0.0048 - val_loss: 0.0198 - val_accuracy: 0.0056\n",
      "Epoch 21/100\n",
      "50000/50000 [==============================] - 13s 261us/step - loss: 0.0197 - accuracy: 0.0046 - val_loss: 0.0195 - val_accuracy: 0.0041\n",
      "Epoch 22/100\n",
      "50000/50000 [==============================] - 13s 262us/step - loss: 0.0193 - accuracy: 0.0048 - val_loss: 0.0188 - val_accuracy: 0.0044\n",
      "Epoch 23/100\n",
      "50000/50000 [==============================] - 13s 259us/step - loss: 0.0189 - accuracy: 0.0046 - val_loss: 0.0189 - val_accuracy: 0.0053\n",
      "Epoch 24/100\n",
      "50000/50000 [==============================] - 13s 260us/step - loss: 0.0187 - accuracy: 0.0045 - val_loss: 0.0186 - val_accuracy: 0.0047\n",
      "Epoch 25/100\n",
      "50000/50000 [==============================] - 13s 261us/step - loss: 0.0186 - accuracy: 0.0049 - val_loss: 0.0187 - val_accuracy: 0.0044\n",
      "Epoch 26/100\n",
      "50000/50000 [==============================] - 13s 261us/step - loss: 0.0185 - accuracy: 0.0053 - val_loss: 0.0182 - val_accuracy: 0.0044\n",
      "Epoch 27/100\n",
      "50000/50000 [==============================] - 13s 260us/step - loss: 0.0181 - accuracy: 0.0050 - val_loss: 0.0183 - val_accuracy: 0.0049\n",
      "Epoch 28/100\n",
      "50000/50000 [==============================] - 14s 271us/step - loss: 0.0180 - accuracy: 0.0047 - val_loss: 0.0180 - val_accuracy: 0.0059\n",
      "Epoch 29/100\n",
      "50000/50000 [==============================] - 13s 261us/step - loss: 0.0180 - accuracy: 0.0047 - val_loss: 0.0178 - val_accuracy: 0.0036\n",
      "Epoch 30/100\n",
      "50000/50000 [==============================] - 13s 260us/step - loss: 0.0179 - accuracy: 0.0043 - val_loss: 0.0182 - val_accuracy: 0.0043\n",
      "Epoch 31/100\n",
      "50000/50000 [==============================] - 13s 257us/step - loss: 0.0176 - accuracy: 0.0044 - val_loss: 0.0176 - val_accuracy: 0.0046\n",
      "Epoch 32/100\n",
      "50000/50000 [==============================] - 13s 256us/step - loss: 0.0175 - accuracy: 0.0043 - val_loss: 0.0178 - val_accuracy: 0.0042\n",
      "Epoch 33/100\n",
      "50000/50000 [==============================] - 13s 266us/step - loss: 0.0175 - accuracy: 0.0048 - val_loss: 0.0175 - val_accuracy: 0.0044\n",
      "Epoch 34/100\n",
      "50000/50000 [==============================] - 13s 260us/step - loss: 0.0175 - accuracy: 0.0047 - val_loss: 0.0176 - val_accuracy: 0.0057\n",
      "Epoch 35/100\n",
      "50000/50000 [==============================] - 13s 259us/step - loss: 0.0174 - accuracy: 0.0043 - val_loss: 0.0175 - val_accuracy: 0.0048\n",
      "Epoch 36/100\n",
      "50000/50000 [==============================] - 13s 262us/step - loss: 0.0173 - accuracy: 0.0045 - val_loss: 0.0174 - val_accuracy: 0.0039\n",
      "Epoch 37/100\n",
      "50000/50000 [==============================] - 13s 259us/step - loss: 0.0171 - accuracy: 0.0048 - val_loss: 0.0172 - val_accuracy: 0.0055\n",
      "Epoch 38/100\n",
      "50000/50000 [==============================] - 13s 261us/step - loss: 0.0168 - accuracy: 0.0052 - val_loss: 0.0167 - val_accuracy: 0.0058\n",
      "Epoch 39/100\n",
      "50000/50000 [==============================] - 13s 263us/step - loss: 0.0165 - accuracy: 0.0051 - val_loss: 0.0165 - val_accuracy: 0.0053\n",
      "Epoch 40/100\n",
      "50000/50000 [==============================] - 13s 259us/step - loss: 0.0163 - accuracy: 0.0053 - val_loss: 0.0166 - val_accuracy: 0.0053\n",
      "Epoch 41/100\n",
      "50000/50000 [==============================] - 14s 273us/step - loss: 0.0163 - accuracy: 0.0054 - val_loss: 0.0162 - val_accuracy: 0.0052\n",
      "Epoch 42/100\n",
      "50000/50000 [==============================] - 13s 262us/step - loss: 0.0162 - accuracy: 0.0059 - val_loss: 0.0164 - val_accuracy: 0.0052\n",
      "Epoch 43/100\n",
      "50000/50000 [==============================] - 13s 261us/step - loss: 0.0162 - accuracy: 0.0055 - val_loss: 0.0163 - val_accuracy: 0.0064\n",
      "Epoch 44/100\n",
      "50000/50000 [==============================] - 13s 267us/step - loss: 0.0162 - accuracy: 0.0054 - val_loss: 0.0164 - val_accuracy: 0.0065\n",
      "Epoch 45/100\n",
      "50000/50000 [==============================] - 13s 260us/step - loss: 0.0162 - accuracy: 0.0059 - val_loss: 0.0163 - val_accuracy: 0.0050\n",
      "Epoch 46/100\n",
      "50000/50000 [==============================] - 13s 265us/step - loss: 0.0162 - accuracy: 0.0059 - val_loss: 0.0162 - val_accuracy: 0.0048\n",
      "Epoch 47/100\n",
      "50000/50000 [==============================] - 13s 260us/step - loss: 0.0161 - accuracy: 0.0058 - val_loss: 0.0161 - val_accuracy: 0.0057\n",
      "Epoch 48/100\n",
      "50000/50000 [==============================] - 13s 260us/step - loss: 0.0161 - accuracy: 0.0060 - val_loss: 0.0162 - val_accuracy: 0.0064\n",
      "Epoch 49/100\n",
      "50000/50000 [==============================] - 13s 263us/step - loss: 0.0161 - accuracy: 0.0055 - val_loss: 0.0162 - val_accuracy: 0.0056\n",
      "Epoch 50/100\n",
      "50000/50000 [==============================] - 13s 260us/step - loss: 0.0161 - accuracy: 0.0062 - val_loss: 0.0162 - val_accuracy: 0.0071\n",
      "Epoch 51/100\n",
      "50000/50000 [==============================] - 13s 269us/step - loss: 0.0161 - accuracy: 0.0054 - val_loss: 0.0162 - val_accuracy: 0.0055\n",
      "Epoch 52/100\n",
      "50000/50000 [==============================] - 14s 277us/step - loss: 0.0161 - accuracy: 0.0063 - val_loss: 0.0161 - val_accuracy: 0.0052\n",
      "Epoch 53/100\n",
      "50000/50000 [==============================] - 17s 341us/step - loss: 0.0160 - accuracy: 0.0058 - val_loss: 0.0163 - val_accuracy: 0.0050\n",
      "Epoch 54/100\n",
      "50000/50000 [==============================] - 20s 392us/step - loss: 0.0161 - accuracy: 0.0056 - val_loss: 0.0162 - val_accuracy: 0.0066\n"
     ]
    },
    {
     "name": "stdout",
     "output_type": "stream",
     "text": [
      "Epoch 55/100\n",
      "50000/50000 [==============================] - 16s 324us/step - loss: 0.0160 - accuracy: 0.0055 - val_loss: 0.0161 - val_accuracy: 0.0069\n",
      "Epoch 56/100\n",
      "50000/50000 [==============================] - 15s 297us/step - loss: 0.0160 - accuracy: 0.0058 - val_loss: 0.0160 - val_accuracy: 0.0059\n",
      "Epoch 57/100\n",
      "50000/50000 [==============================] - 14s 281us/step - loss: 0.0160 - accuracy: 0.0060 - val_loss: 0.0160 - val_accuracy: 0.0082\n",
      "Epoch 58/100\n",
      "50000/50000 [==============================] - 13s 258us/step - loss: 0.0159 - accuracy: 0.0058 - val_loss: 0.0159 - val_accuracy: 0.0066\n",
      "Epoch 59/100\n",
      "50000/50000 [==============================] - 13s 254us/step - loss: 0.0158 - accuracy: 0.0061 - val_loss: 0.0159 - val_accuracy: 0.0065\n",
      "Epoch 60/100\n",
      "50000/50000 [==============================] - 13s 253us/step - loss: 0.0158 - accuracy: 0.0059 - val_loss: 0.0159 - val_accuracy: 0.0069\n",
      "Epoch 61/100\n",
      "50000/50000 [==============================] - 13s 255us/step - loss: 0.0157 - accuracy: 0.0061 - val_loss: 0.0158 - val_accuracy: 0.0053\n",
      "Epoch 62/100\n",
      "50000/50000 [==============================] - 13s 256us/step - loss: 0.0157 - accuracy: 0.0060 - val_loss: 0.0158 - val_accuracy: 0.0063\n",
      "Epoch 63/100\n",
      "50000/50000 [==============================] - 13s 256us/step - loss: 0.0157 - accuracy: 0.0058 - val_loss: 0.0157 - val_accuracy: 0.0064\n",
      "Epoch 64/100\n",
      "50000/50000 [==============================] - 13s 264us/step - loss: 0.0157 - accuracy: 0.0056 - val_loss: 0.0158 - val_accuracy: 0.0064\n",
      "Epoch 65/100\n",
      "50000/50000 [==============================] - 14s 276us/step - loss: 0.0157 - accuracy: 0.0057 - val_loss: 0.0157 - val_accuracy: 0.0051\n",
      "Epoch 66/100\n",
      "50000/50000 [==============================] - 13s 259us/step - loss: 0.0157 - accuracy: 0.0062 - val_loss: 0.0159 - val_accuracy: 0.0047\n",
      "Epoch 67/100\n",
      "50000/50000 [==============================] - 13s 264us/step - loss: 0.0157 - accuracy: 0.0061 - val_loss: 0.0158 - val_accuracy: 0.0040\n",
      "Epoch 68/100\n",
      "50000/50000 [==============================] - 13s 262us/step - loss: 0.0157 - accuracy: 0.0060 - val_loss: 0.0158 - val_accuracy: 0.0060\n",
      "Epoch 69/100\n",
      "50000/50000 [==============================] - 13s 263us/step - loss: 0.0157 - accuracy: 0.0058 - val_loss: 0.0157 - val_accuracy: 0.0069\n",
      "Epoch 70/100\n",
      "50000/50000 [==============================] - 13s 261us/step - loss: 0.0156 - accuracy: 0.0060 - val_loss: 0.0159 - val_accuracy: 0.0069\n",
      "Epoch 71/100\n",
      "50000/50000 [==============================] - 13s 263us/step - loss: 0.0157 - accuracy: 0.0057 - val_loss: 0.0159 - val_accuracy: 0.0055\n",
      "Epoch 72/100\n",
      "50000/50000 [==============================] - 13s 263us/step - loss: 0.0157 - accuracy: 0.0059 - val_loss: 0.0157 - val_accuracy: 0.0060\n",
      "Epoch 73/100\n",
      "50000/50000 [==============================] - 13s 263us/step - loss: 0.0156 - accuracy: 0.0059 - val_loss: 0.0158 - val_accuracy: 0.0062\n",
      "Epoch 74/100\n",
      "50000/50000 [==============================] - 13s 269us/step - loss: 0.0156 - accuracy: 0.0058 - val_loss: 0.0158 - val_accuracy: 0.0053\n",
      "Epoch 75/100\n",
      "50000/50000 [==============================] - 13s 263us/step - loss: 0.0156 - accuracy: 0.0059 - val_loss: 0.0156 - val_accuracy: 0.0066\n",
      "Epoch 76/100\n",
      "50000/50000 [==============================] - 13s 262us/step - loss: 0.0156 - accuracy: 0.0058 - val_loss: 0.0159 - val_accuracy: 0.0059\n",
      "Epoch 77/100\n",
      "50000/50000 [==============================] - 13s 263us/step - loss: 0.0156 - accuracy: 0.0057 - val_loss: 0.0157 - val_accuracy: 0.0063\n",
      "Epoch 78/100\n",
      "50000/50000 [==============================] - 13s 263us/step - loss: 0.0154 - accuracy: 0.0060 - val_loss: 0.0155 - val_accuracy: 0.0062\n",
      "Epoch 79/100\n",
      "50000/50000 [==============================] - 13s 260us/step - loss: 0.0153 - accuracy: 0.0054 - val_loss: 0.0154 - val_accuracy: 0.0072\n",
      "Epoch 80/100\n",
      "50000/50000 [==============================] - 13s 265us/step - loss: 0.0153 - accuracy: 0.0059 - val_loss: 0.0154 - val_accuracy: 0.0071\n",
      "Epoch 81/100\n",
      "50000/50000 [==============================] - 13s 260us/step - loss: 0.0153 - accuracy: 0.0058 - val_loss: 0.0154 - val_accuracy: 0.0062\n",
      "Epoch 82/100\n",
      "50000/50000 [==============================] - 13s 264us/step - loss: 0.0153 - accuracy: 0.0056 - val_loss: 0.0155 - val_accuracy: 0.0066\n",
      "Epoch 83/100\n",
      "50000/50000 [==============================] - 13s 261us/step - loss: 0.0153 - accuracy: 0.0057 - val_loss: 0.0154 - val_accuracy: 0.0063\n",
      "Epoch 84/100\n",
      "50000/50000 [==============================] - 13s 259us/step - loss: 0.0152 - accuracy: 0.0058 - val_loss: 0.0153 - val_accuracy: 0.0049\n",
      "Epoch 85/100\n",
      "50000/50000 [==============================] - 13s 261us/step - loss: 0.0152 - accuracy: 0.0062 - val_loss: 0.0151 - val_accuracy: 0.0056\n",
      "Epoch 86/100\n",
      "50000/50000 [==============================] - 13s 264us/step - loss: 0.0151 - accuracy: 0.0057 - val_loss: 0.0151 - val_accuracy: 0.0068\n",
      "Epoch 87/100\n",
      "50000/50000 [==============================] - 13s 261us/step - loss: 0.0150 - accuracy: 0.0059 - val_loss: 0.0152 - val_accuracy: 0.0055\n",
      "Epoch 88/100\n",
      "50000/50000 [==============================] - 13s 263us/step - loss: 0.0150 - accuracy: 0.0062 - val_loss: 0.0151 - val_accuracy: 0.0056\n",
      "Epoch 89/100\n",
      "50000/50000 [==============================] - 13s 259us/step - loss: 0.0150 - accuracy: 0.0060 - val_loss: 0.0152 - val_accuracy: 0.0068\n",
      "Epoch 90/100\n",
      "50000/50000 [==============================] - 13s 262us/step - loss: 0.0150 - accuracy: 0.0062 - val_loss: 0.0150 - val_accuracy: 0.0068\n",
      "Epoch 91/100\n",
      "50000/50000 [==============================] - 13s 264us/step - loss: 0.0150 - accuracy: 0.0067 - val_loss: 0.0151 - val_accuracy: 0.0064\n",
      "Epoch 92/100\n",
      "50000/50000 [==============================] - 13s 262us/step - loss: 0.0149 - accuracy: 0.0063 - val_loss: 0.0151 - val_accuracy: 0.0063\n",
      "Epoch 93/100\n",
      "50000/50000 [==============================] - 13s 268us/step - loss: 0.0149 - accuracy: 0.0058 - val_loss: 0.0151 - val_accuracy: 0.0056\n",
      "Epoch 94/100\n",
      "50000/50000 [==============================] - 13s 263us/step - loss: 0.0149 - accuracy: 0.0068 - val_loss: 0.0152 - val_accuracy: 0.0060\n",
      "Epoch 95/100\n",
      "50000/50000 [==============================] - 13s 265us/step - loss: 0.0149 - accuracy: 0.0065 - val_loss: 0.0149 - val_accuracy: 0.0079\n",
      "Epoch 96/100\n",
      "50000/50000 [==============================] - 17s 330us/step - loss: 0.0148 - accuracy: 0.0066 - val_loss: 0.0149 - val_accuracy: 0.0069\n",
      "Epoch 97/100\n",
      "50000/50000 [==============================] - 13s 262us/step - loss: 0.0147 - accuracy: 0.0065 - val_loss: 0.0148 - val_accuracy: 0.0092\n",
      "Epoch 98/100\n",
      "50000/50000 [==============================] - 17s 339us/step - loss: 0.0147 - accuracy: 0.0065 - val_loss: 0.0148 - val_accuracy: 0.0075\n",
      "Epoch 99/100\n",
      "50000/50000 [==============================] - 16s 318us/step - loss: 0.0147 - accuracy: 0.0065 - val_loss: 0.0147 - val_accuracy: 0.0071\n",
      "Epoch 100/100\n",
      "50000/50000 [==============================] - 17s 336us/step - loss: 0.0146 - accuracy: 0.0067 - val_loss: 0.0147 - val_accuracy: 0.0076\n"
     ]
    },
    {
     "data": {
      "text/plain": [
       "<keras.callbacks.callbacks.History at 0x1405a1668>"
      ]
     },
     "execution_count": 17,
     "metadata": {},
     "output_type": "execute_result"
    }
   ],
   "source": [
    "autoencoder.fit(x_train, x_train, epochs = 100, batch_size = 256, shuffle = True, validation_data = [x_test, x_test])"
   ]
  },
  {
   "cell_type": "code",
   "execution_count": 18,
   "metadata": {},
   "outputs": [],
   "source": [
    "encoded_test_data = encoder.predict(x_test)\n",
    "predicted_test_data = autoencoder.predict(x_test)"
   ]
  },
  {
   "cell_type": "code",
   "execution_count": 19,
   "metadata": {},
   "outputs": [
    {
     "data": {
      "text/plain": [
       "(10000, 32)"
      ]
     },
     "execution_count": 19,
     "metadata": {},
     "output_type": "execute_result"
    }
   ],
   "source": [
    "encoded_test_data.shape"
   ]
  },
  {
   "cell_type": "code",
   "execution_count": 20,
   "metadata": {},
   "outputs": [],
   "source": [
    "encoded_test_data_df = pd.DataFrame(encoded_test_data)"
   ]
  },
  {
   "cell_type": "code",
   "execution_count": 21,
   "metadata": {},
   "outputs": [
    {
     "data": {
      "text/html": [
       "<div>\n",
       "<style scoped>\n",
       "    .dataframe tbody tr th:only-of-type {\n",
       "        vertical-align: middle;\n",
       "    }\n",
       "\n",
       "    .dataframe tbody tr th {\n",
       "        vertical-align: top;\n",
       "    }\n",
       "\n",
       "    .dataframe thead th {\n",
       "        text-align: right;\n",
       "    }\n",
       "</style>\n",
       "<table border=\"1\" class=\"dataframe\">\n",
       "  <thead>\n",
       "    <tr style=\"text-align: right;\">\n",
       "      <th></th>\n",
       "      <th>Class</th>\n",
       "      <th>Class Name</th>\n",
       "    </tr>\n",
       "  </thead>\n",
       "  <tbody>\n",
       "    <tr>\n",
       "      <th>0</th>\n",
       "      <td>3</td>\n",
       "      <td>cat</td>\n",
       "    </tr>\n",
       "    <tr>\n",
       "      <th>1</th>\n",
       "      <td>8</td>\n",
       "      <td>ship</td>\n",
       "    </tr>\n",
       "    <tr>\n",
       "      <th>2</th>\n",
       "      <td>8</td>\n",
       "      <td>ship</td>\n",
       "    </tr>\n",
       "    <tr>\n",
       "      <th>3</th>\n",
       "      <td>0</td>\n",
       "      <td>airplane</td>\n",
       "    </tr>\n",
       "    <tr>\n",
       "      <th>4</th>\n",
       "      <td>6</td>\n",
       "      <td>frog</td>\n",
       "    </tr>\n",
       "    <tr>\n",
       "      <th>...</th>\n",
       "      <td>...</td>\n",
       "      <td>...</td>\n",
       "    </tr>\n",
       "    <tr>\n",
       "      <th>9995</th>\n",
       "      <td>8</td>\n",
       "      <td>ship</td>\n",
       "    </tr>\n",
       "    <tr>\n",
       "      <th>9996</th>\n",
       "      <td>3</td>\n",
       "      <td>cat</td>\n",
       "    </tr>\n",
       "    <tr>\n",
       "      <th>9997</th>\n",
       "      <td>5</td>\n",
       "      <td>dog</td>\n",
       "    </tr>\n",
       "    <tr>\n",
       "      <th>9998</th>\n",
       "      <td>1</td>\n",
       "      <td>automobile</td>\n",
       "    </tr>\n",
       "    <tr>\n",
       "      <th>9999</th>\n",
       "      <td>7</td>\n",
       "      <td>horse</td>\n",
       "    </tr>\n",
       "  </tbody>\n",
       "</table>\n",
       "<p>10000 rows × 2 columns</p>\n",
       "</div>"
      ],
      "text/plain": [
       "      Class  Class Name\n",
       "0         3         cat\n",
       "1         8        ship\n",
       "2         8        ship\n",
       "3         0    airplane\n",
       "4         6        frog\n",
       "...     ...         ...\n",
       "9995      8        ship\n",
       "9996      3         cat\n",
       "9997      5         dog\n",
       "9998      1  automobile\n",
       "9999      7       horse\n",
       "\n",
       "[10000 rows x 2 columns]"
      ]
     },
     "execution_count": 21,
     "metadata": {},
     "output_type": "execute_result"
    }
   ],
   "source": [
    "y_test"
   ]
  },
  {
   "cell_type": "code",
   "execution_count": 23,
   "metadata": {},
   "outputs": [
    {
     "data": {
      "text/plain": [
       "(10000, 34)"
      ]
     },
     "execution_count": 23,
     "metadata": {},
     "output_type": "execute_result"
    }
   ],
   "source": [
    "final_encoded_test_data_df = pd.concat([y_test, encoded_test_data_df], axis = 1)\n",
    "final_encoded_test_data_df.shape"
   ]
  },
  {
   "cell_type": "code",
   "execution_count": 24,
   "metadata": {},
   "outputs": [],
   "source": [
    "datadir = '/Users/sidv88/Documents/Data_Management_2/Deep_Encoded_Data/'\n",
    "final_encoded_test_data_df.to_csv(datadir + 'Deep_Encoders_Test_RSAM.csv', index = False)"
   ]
  },
  {
   "cell_type": "code",
   "execution_count": 25,
   "metadata": {},
   "outputs": [
    {
     "name": "stdout",
     "output_type": "stream",
     "text": [
      "Enter one of these values ['cat' 'ship' 'airplane' 'frog' 'automobile' 'truck' 'dog' 'horse' 'deer'\n",
      " 'bird'] : cat\n"
     ]
    }
   ],
   "source": [
    "input_val = input(\"Enter one of these values {} : \".format(final_encoded_test_data_df['Class Name'].unique()))"
   ]
  },
  {
   "cell_type": "code",
   "execution_count": 26,
   "metadata": {},
   "outputs": [
    {
     "name": "stdout",
     "output_type": "stream",
     "text": [
      "Enter a number between 0 and 999 : 8\n"
     ]
    }
   ],
   "source": [
    "input_num = input(\"Enter a number between 0 and 999 : \")"
   ]
  },
  {
   "cell_type": "code",
   "execution_count": 28,
   "metadata": {},
   "outputs": [
    {
     "name": "stdout",
     "output_type": "stream",
     "text": [
      "10000\n",
      "10000\n"
     ]
    }
   ],
   "source": [
    "from numpy import dot\n",
    "from numpy.linalg import norm\n",
    "\n",
    "cosine_similarity = []\n",
    "cosine_distance = []\n",
    "\n",
    "for i in range(len(x_test)):\n",
    "    a = final_encoded_test_data_df.loc[final_encoded_test_data_df['Class Name'] == input_val].iloc[int(input_num), 2:]\n",
    "    b = final_encoded_test_data_df.iloc[i, 2:]\n",
    "    cos_sim = dot(a, b)/(norm(a) * norm(b))\n",
    "    cos_dist = 1 - cos_sim\n",
    "    cosine_similarity.append(cos_sim)\n",
    "    cosine_distance.append(cos_dist)\n",
    "print(len(cosine_similarity))\n",
    "print(len(cosine_distance))"
   ]
  },
  {
   "cell_type": "code",
   "execution_count": 29,
   "metadata": {},
   "outputs": [],
   "source": [
    "final_encoded_test_data_df['Cosine Similarity'] = cosine_similarity\n",
    "final_encoded_test_data_df['Cosine Distance'] = cosine_distance"
   ]
  },
  {
   "cell_type": "code",
   "execution_count": 31,
   "metadata": {},
   "outputs": [
    {
     "data": {
      "text/html": [
       "<div>\n",
       "<style scoped>\n",
       "    .dataframe tbody tr th:only-of-type {\n",
       "        vertical-align: middle;\n",
       "    }\n",
       "\n",
       "    .dataframe tbody tr th {\n",
       "        vertical-align: top;\n",
       "    }\n",
       "\n",
       "    .dataframe thead th {\n",
       "        text-align: right;\n",
       "    }\n",
       "</style>\n",
       "<table border=\"1\" class=\"dataframe\">\n",
       "  <thead>\n",
       "    <tr style=\"text-align: right;\">\n",
       "      <th></th>\n",
       "      <th>Class</th>\n",
       "      <th>Class Name</th>\n",
       "      <th>0</th>\n",
       "      <th>1</th>\n",
       "      <th>2</th>\n",
       "      <th>3</th>\n",
       "      <th>4</th>\n",
       "      <th>5</th>\n",
       "      <th>6</th>\n",
       "      <th>7</th>\n",
       "      <th>...</th>\n",
       "      <th>24</th>\n",
       "      <th>25</th>\n",
       "      <th>26</th>\n",
       "      <th>27</th>\n",
       "      <th>28</th>\n",
       "      <th>29</th>\n",
       "      <th>30</th>\n",
       "      <th>31</th>\n",
       "      <th>Cosine Similarity</th>\n",
       "      <th>Cosine Distance</th>\n",
       "    </tr>\n",
       "  </thead>\n",
       "  <tbody>\n",
       "    <tr>\n",
       "      <th>78</th>\n",
       "      <td>3</td>\n",
       "      <td>cat</td>\n",
       "      <td>6.640850</td>\n",
       "      <td>2.964600</td>\n",
       "      <td>0.0</td>\n",
       "      <td>0.0</td>\n",
       "      <td>5.612169</td>\n",
       "      <td>1.824859</td>\n",
       "      <td>0.0</td>\n",
       "      <td>1.914830</td>\n",
       "      <td>...</td>\n",
       "      <td>0.0</td>\n",
       "      <td>2.132102</td>\n",
       "      <td>3.481860</td>\n",
       "      <td>3.059533</td>\n",
       "      <td>2.024459</td>\n",
       "      <td>0.0</td>\n",
       "      <td>3.954248</td>\n",
       "      <td>1.970143</td>\n",
       "      <td>1.000000</td>\n",
       "      <td>1.192093e-07</td>\n",
       "    </tr>\n",
       "    <tr>\n",
       "      <th>5007</th>\n",
       "      <td>3</td>\n",
       "      <td>cat</td>\n",
       "      <td>7.300733</td>\n",
       "      <td>3.602438</td>\n",
       "      <td>0.0</td>\n",
       "      <td>0.0</td>\n",
       "      <td>5.851794</td>\n",
       "      <td>2.267994</td>\n",
       "      <td>0.0</td>\n",
       "      <td>2.387124</td>\n",
       "      <td>...</td>\n",
       "      <td>0.0</td>\n",
       "      <td>2.688529</td>\n",
       "      <td>4.231380</td>\n",
       "      <td>2.642400</td>\n",
       "      <td>2.293881</td>\n",
       "      <td>0.0</td>\n",
       "      <td>4.116699</td>\n",
       "      <td>3.659844</td>\n",
       "      <td>0.987693</td>\n",
       "      <td>1.230735e-02</td>\n",
       "    </tr>\n",
       "    <tr>\n",
       "      <th>1062</th>\n",
       "      <td>6</td>\n",
       "      <td>frog</td>\n",
       "      <td>4.575747</td>\n",
       "      <td>2.542161</td>\n",
       "      <td>0.0</td>\n",
       "      <td>0.0</td>\n",
       "      <td>3.707434</td>\n",
       "      <td>1.530236</td>\n",
       "      <td>0.0</td>\n",
       "      <td>1.084110</td>\n",
       "      <td>...</td>\n",
       "      <td>0.0</td>\n",
       "      <td>1.690898</td>\n",
       "      <td>2.200506</td>\n",
       "      <td>2.283003</td>\n",
       "      <td>1.958969</td>\n",
       "      <td>0.0</td>\n",
       "      <td>3.521726</td>\n",
       "      <td>2.264745</td>\n",
       "      <td>0.982814</td>\n",
       "      <td>1.718640e-02</td>\n",
       "    </tr>\n",
       "    <tr>\n",
       "      <th>8802</th>\n",
       "      <td>6</td>\n",
       "      <td>frog</td>\n",
       "      <td>6.272382</td>\n",
       "      <td>2.734352</td>\n",
       "      <td>0.0</td>\n",
       "      <td>0.0</td>\n",
       "      <td>3.607210</td>\n",
       "      <td>1.978663</td>\n",
       "      <td>0.0</td>\n",
       "      <td>2.254426</td>\n",
       "      <td>...</td>\n",
       "      <td>0.0</td>\n",
       "      <td>1.939586</td>\n",
       "      <td>3.781731</td>\n",
       "      <td>3.253941</td>\n",
       "      <td>2.834378</td>\n",
       "      <td>0.0</td>\n",
       "      <td>2.638288</td>\n",
       "      <td>2.660464</td>\n",
       "      <td>0.980523</td>\n",
       "      <td>1.947665e-02</td>\n",
       "    </tr>\n",
       "    <tr>\n",
       "      <th>7083</th>\n",
       "      <td>6</td>\n",
       "      <td>frog</td>\n",
       "      <td>5.549685</td>\n",
       "      <td>3.091393</td>\n",
       "      <td>0.0</td>\n",
       "      <td>0.0</td>\n",
       "      <td>4.002613</td>\n",
       "      <td>2.430524</td>\n",
       "      <td>0.0</td>\n",
       "      <td>2.489772</td>\n",
       "      <td>...</td>\n",
       "      <td>0.0</td>\n",
       "      <td>2.073582</td>\n",
       "      <td>3.022067</td>\n",
       "      <td>2.954539</td>\n",
       "      <td>2.973402</td>\n",
       "      <td>0.0</td>\n",
       "      <td>3.295546</td>\n",
       "      <td>2.542310</td>\n",
       "      <td>0.980272</td>\n",
       "      <td>1.972812e-02</td>\n",
       "    </tr>\n",
       "    <tr>\n",
       "      <th>...</th>\n",
       "      <td>...</td>\n",
       "      <td>...</td>\n",
       "      <td>...</td>\n",
       "      <td>...</td>\n",
       "      <td>...</td>\n",
       "      <td>...</td>\n",
       "      <td>...</td>\n",
       "      <td>...</td>\n",
       "      <td>...</td>\n",
       "      <td>...</td>\n",
       "      <td>...</td>\n",
       "      <td>...</td>\n",
       "      <td>...</td>\n",
       "      <td>...</td>\n",
       "      <td>...</td>\n",
       "      <td>...</td>\n",
       "      <td>...</td>\n",
       "      <td>...</td>\n",
       "      <td>...</td>\n",
       "      <td>...</td>\n",
       "      <td>...</td>\n",
       "    </tr>\n",
       "    <tr>\n",
       "      <th>2358</th>\n",
       "      <td>7</td>\n",
       "      <td>horse</td>\n",
       "      <td>4.354886</td>\n",
       "      <td>2.782332</td>\n",
       "      <td>0.0</td>\n",
       "      <td>0.0</td>\n",
       "      <td>2.007102</td>\n",
       "      <td>4.249287</td>\n",
       "      <td>0.0</td>\n",
       "      <td>4.249652</td>\n",
       "      <td>...</td>\n",
       "      <td>0.0</td>\n",
       "      <td>1.629199</td>\n",
       "      <td>2.720281</td>\n",
       "      <td>4.830334</td>\n",
       "      <td>3.665843</td>\n",
       "      <td>0.0</td>\n",
       "      <td>3.129249</td>\n",
       "      <td>4.849688</td>\n",
       "      <td>0.810659</td>\n",
       "      <td>1.893410e-01</td>\n",
       "    </tr>\n",
       "    <tr>\n",
       "      <th>8537</th>\n",
       "      <td>0</td>\n",
       "      <td>airplane</td>\n",
       "      <td>7.453012</td>\n",
       "      <td>1.446214</td>\n",
       "      <td>0.0</td>\n",
       "      <td>0.0</td>\n",
       "      <td>0.000000</td>\n",
       "      <td>2.433373</td>\n",
       "      <td>0.0</td>\n",
       "      <td>5.530651</td>\n",
       "      <td>...</td>\n",
       "      <td>0.0</td>\n",
       "      <td>4.264505</td>\n",
       "      <td>4.486315</td>\n",
       "      <td>3.560249</td>\n",
       "      <td>6.040124</td>\n",
       "      <td>0.0</td>\n",
       "      <td>0.063112</td>\n",
       "      <td>1.996634</td>\n",
       "      <td>0.808928</td>\n",
       "      <td>1.910725e-01</td>\n",
       "    </tr>\n",
       "    <tr>\n",
       "      <th>6133</th>\n",
       "      <td>0</td>\n",
       "      <td>airplane</td>\n",
       "      <td>4.352598</td>\n",
       "      <td>3.865803</td>\n",
       "      <td>0.0</td>\n",
       "      <td>0.0</td>\n",
       "      <td>2.554535</td>\n",
       "      <td>4.843008</td>\n",
       "      <td>0.0</td>\n",
       "      <td>4.864864</td>\n",
       "      <td>...</td>\n",
       "      <td>0.0</td>\n",
       "      <td>3.431576</td>\n",
       "      <td>2.612485</td>\n",
       "      <td>4.391548</td>\n",
       "      <td>7.320723</td>\n",
       "      <td>0.0</td>\n",
       "      <td>0.633079</td>\n",
       "      <td>2.963771</td>\n",
       "      <td>0.808695</td>\n",
       "      <td>1.913046e-01</td>\n",
       "    </tr>\n",
       "    <tr>\n",
       "      <th>1528</th>\n",
       "      <td>2</td>\n",
       "      <td>bird</td>\n",
       "      <td>3.082250</td>\n",
       "      <td>1.578037</td>\n",
       "      <td>0.0</td>\n",
       "      <td>0.0</td>\n",
       "      <td>3.185432</td>\n",
       "      <td>3.428673</td>\n",
       "      <td>0.0</td>\n",
       "      <td>6.065405</td>\n",
       "      <td>...</td>\n",
       "      <td>0.0</td>\n",
       "      <td>2.986881</td>\n",
       "      <td>2.140421</td>\n",
       "      <td>4.488883</td>\n",
       "      <td>7.881889</td>\n",
       "      <td>0.0</td>\n",
       "      <td>1.432328</td>\n",
       "      <td>1.826922</td>\n",
       "      <td>0.803052</td>\n",
       "      <td>1.969478e-01</td>\n",
       "    </tr>\n",
       "    <tr>\n",
       "      <th>6675</th>\n",
       "      <td>2</td>\n",
       "      <td>bird</td>\n",
       "      <td>4.973888</td>\n",
       "      <td>1.928248</td>\n",
       "      <td>0.0</td>\n",
       "      <td>0.0</td>\n",
       "      <td>3.137756</td>\n",
       "      <td>4.325415</td>\n",
       "      <td>0.0</td>\n",
       "      <td>5.948764</td>\n",
       "      <td>...</td>\n",
       "      <td>0.0</td>\n",
       "      <td>5.497303</td>\n",
       "      <td>2.621831</td>\n",
       "      <td>5.467240</td>\n",
       "      <td>8.887973</td>\n",
       "      <td>0.0</td>\n",
       "      <td>2.548173</td>\n",
       "      <td>0.530389</td>\n",
       "      <td>0.797687</td>\n",
       "      <td>2.023125e-01</td>\n",
       "    </tr>\n",
       "  </tbody>\n",
       "</table>\n",
       "<p>10000 rows × 36 columns</p>\n",
       "</div>"
      ],
      "text/plain": [
       "      Class Class Name         0         1    2    3         4         5    6  \\\n",
       "78        3        cat  6.640850  2.964600  0.0  0.0  5.612169  1.824859  0.0   \n",
       "5007      3        cat  7.300733  3.602438  0.0  0.0  5.851794  2.267994  0.0   \n",
       "1062      6       frog  4.575747  2.542161  0.0  0.0  3.707434  1.530236  0.0   \n",
       "8802      6       frog  6.272382  2.734352  0.0  0.0  3.607210  1.978663  0.0   \n",
       "7083      6       frog  5.549685  3.091393  0.0  0.0  4.002613  2.430524  0.0   \n",
       "...     ...        ...       ...       ...  ...  ...       ...       ...  ...   \n",
       "2358      7      horse  4.354886  2.782332  0.0  0.0  2.007102  4.249287  0.0   \n",
       "8537      0   airplane  7.453012  1.446214  0.0  0.0  0.000000  2.433373  0.0   \n",
       "6133      0   airplane  4.352598  3.865803  0.0  0.0  2.554535  4.843008  0.0   \n",
       "1528      2       bird  3.082250  1.578037  0.0  0.0  3.185432  3.428673  0.0   \n",
       "6675      2       bird  4.973888  1.928248  0.0  0.0  3.137756  4.325415  0.0   \n",
       "\n",
       "             7  ...   24        25        26        27        28   29  \\\n",
       "78    1.914830  ...  0.0  2.132102  3.481860  3.059533  2.024459  0.0   \n",
       "5007  2.387124  ...  0.0  2.688529  4.231380  2.642400  2.293881  0.0   \n",
       "1062  1.084110  ...  0.0  1.690898  2.200506  2.283003  1.958969  0.0   \n",
       "8802  2.254426  ...  0.0  1.939586  3.781731  3.253941  2.834378  0.0   \n",
       "7083  2.489772  ...  0.0  2.073582  3.022067  2.954539  2.973402  0.0   \n",
       "...        ...  ...  ...       ...       ...       ...       ...  ...   \n",
       "2358  4.249652  ...  0.0  1.629199  2.720281  4.830334  3.665843  0.0   \n",
       "8537  5.530651  ...  0.0  4.264505  4.486315  3.560249  6.040124  0.0   \n",
       "6133  4.864864  ...  0.0  3.431576  2.612485  4.391548  7.320723  0.0   \n",
       "1528  6.065405  ...  0.0  2.986881  2.140421  4.488883  7.881889  0.0   \n",
       "6675  5.948764  ...  0.0  5.497303  2.621831  5.467240  8.887973  0.0   \n",
       "\n",
       "            30        31  Cosine Similarity  Cosine Distance  \n",
       "78    3.954248  1.970143           1.000000     1.192093e-07  \n",
       "5007  4.116699  3.659844           0.987693     1.230735e-02  \n",
       "1062  3.521726  2.264745           0.982814     1.718640e-02  \n",
       "8802  2.638288  2.660464           0.980523     1.947665e-02  \n",
       "7083  3.295546  2.542310           0.980272     1.972812e-02  \n",
       "...        ...       ...                ...              ...  \n",
       "2358  3.129249  4.849688           0.810659     1.893410e-01  \n",
       "8537  0.063112  1.996634           0.808928     1.910725e-01  \n",
       "6133  0.633079  2.963771           0.808695     1.913046e-01  \n",
       "1528  1.432328  1.826922           0.803052     1.969478e-01  \n",
       "6675  2.548173  0.530389           0.797687     2.023125e-01  \n",
       "\n",
       "[10000 rows x 36 columns]"
      ]
     },
     "execution_count": 31,
     "metadata": {},
     "output_type": "execute_result"
    }
   ],
   "source": [
    "final_encoded_test_data_df.sort_values(by = ['Cosine Similarity'], ascending = False)"
   ]
  },
  {
   "cell_type": "code",
   "execution_count": 32,
   "metadata": {},
   "outputs": [],
   "source": [
    "cosine_index = final_encoded_test_data_df.sort_values(by = ['Cosine Similarity'], ascending = False).head(10).index"
   ]
  },
  {
   "cell_type": "code",
   "execution_count": 36,
   "metadata": {
    "scrolled": true
   },
   "outputs": [
    {
     "data": {
      "image/png": "[encoded data removed]",
      "text/plain": [
       "<Figure size 144x144 with 1 Axes>"
      ]
     },
     "metadata": {
      "needs_background": "light"
     },
     "output_type": "display_data"
    },
    {
     "data": {
      "image/png": "[encoded data removed]",
      "text/plain": [
       "<Figure size 144x144 with 1 Axes>"
      ]
     },
     "metadata": {
      "needs_background": "light"
     },
     "output_type": "display_data"
    },
    {
     "data": {
      "image/png": "[encoded data removed]",
      "text/plain": [
       "<Figure size 144x144 with 1 Axes>"
      ]
     },
     "metadata": {
      "needs_background": "light"
     },
     "output_type": "display_data"
    },
    {
     "data": {
      "image/png": "[encoded data removed]",
      "text/plain": [
       "<Figure size 144x144 with 1 Axes>"
      ]
     },
     "metadata": {
      "needs_background": "light"
     },
     "output_type": "display_data"
    },
    {
     "data": {
      "image/png": "[encoded data removed]",
      "text/plain": [
       "<Figure size 144x144 with 1 Axes>"
      ]
     },
     "metadata": {
      "needs_background": "light"
     },
     "output_type": "display_data"
    },
    {
     "data": {
      "image/png": "[encoded data removed]",
      "text/plain": [
       "<Figure size 144x144 with 1 Axes>"
      ]
     },
     "metadata": {
      "needs_background": "light"
     },
     "output_type": "display_data"
    },
    {
     "data": {
      "image/png": "[encoded data removed]",
      "text/plain": [
       "<Figure size 144x144 with 1 Axes>"
      ]
     },
     "metadata": {
      "needs_background": "light"
     },
     "output_type": "display_data"
    },
    {
     "data": {
      "image/png": "[encoded data removed]",
      "text/plain": [
       "<Figure size 144x144 with 1 Axes>"
      ]
     },
     "metadata": {
      "needs_background": "light"
     },
     "output_type": "display_data"
    },
    {
     "data": {
      "image/png": "[encoded data removed]",
      "text/plain": [
       "<Figure size 144x144 with 1 Axes>"
      ]
     },
     "metadata": {
      "needs_background": "light"
     },
     "output_type": "display_data"
    },
    {
     "data": {
      "image/png": "[encoded data removed]",
      "text/plain": [
       "<Figure size 144x144 with 1 Axes>"
      ]
     },
     "metadata": {
      "needs_background": "light"
     },
     "output_type": "display_data"
    }
   ],
   "source": [
    "for i in cosine_index:\n",
    "    plt.figure(figsize = (2, 2))\n",
    "    plt.imshow(x_test[i].reshape(32, 32, 3))\n",
    "    plt.xlabel(final_encoded_test_data_df['Class Name'][i] + ' with a Cosine Similarity of ' + str(final_encoded_test_data_df['Cosine Similarity'][i]) + ' from the queried image.')\n",
    "    plt.show()"
   ]
  },
  {
   "cell_type": "code",
   "execution_count": 37,
   "metadata": {},
   "outputs": [
    {
     "name": "stdout",
     "output_type": "stream",
     "text": [
      "10000\n"
     ]
    }
   ],
   "source": [
    "euclidean_distance = []\n",
    "\n",
    "for i in range(len(x_test)):\n",
    "    a = final_encoded_test_data_df.loc[final_encoded_test_data_df['Class Name'] == input_val].iloc[int(input_num), 2:]\n",
    "    b = final_encoded_test_data_df.iloc[i, 2:]\n",
    "    euc_dist = np.linalg.norm(a-b)\n",
    "    euclidean_distance.append(euc_dist)\n",
    "print(len(euclidean_distance))"
   ]
  },
  {
   "cell_type": "code",
   "execution_count": 38,
   "metadata": {},
   "outputs": [
    {
     "data": {
      "text/html": [
       "<div>\n",
       "<style scoped>\n",
       "    .dataframe tbody tr th:only-of-type {\n",
       "        vertical-align: middle;\n",
       "    }\n",
       "\n",
       "    .dataframe tbody tr th {\n",
       "        vertical-align: top;\n",
       "    }\n",
       "\n",
       "    .dataframe thead th {\n",
       "        text-align: right;\n",
       "    }\n",
       "</style>\n",
       "<table border=\"1\" class=\"dataframe\">\n",
       "  <thead>\n",
       "    <tr style=\"text-align: right;\">\n",
       "      <th></th>\n",
       "      <th>Class</th>\n",
       "      <th>Class Name</th>\n",
       "      <th>0</th>\n",
       "      <th>1</th>\n",
       "      <th>2</th>\n",
       "      <th>3</th>\n",
       "      <th>4</th>\n",
       "      <th>5</th>\n",
       "      <th>6</th>\n",
       "      <th>7</th>\n",
       "      <th>...</th>\n",
       "      <th>25</th>\n",
       "      <th>26</th>\n",
       "      <th>27</th>\n",
       "      <th>28</th>\n",
       "      <th>29</th>\n",
       "      <th>30</th>\n",
       "      <th>31</th>\n",
       "      <th>Cosine Similarity</th>\n",
       "      <th>Cosine Distance</th>\n",
       "      <th>Euclidean Distance</th>\n",
       "    </tr>\n",
       "  </thead>\n",
       "  <tbody>\n",
       "    <tr>\n",
       "      <th>78</th>\n",
       "      <td>3</td>\n",
       "      <td>cat</td>\n",
       "      <td>6.640850</td>\n",
       "      <td>2.964600</td>\n",
       "      <td>0.0</td>\n",
       "      <td>0.0</td>\n",
       "      <td>5.612169</td>\n",
       "      <td>1.824859</td>\n",
       "      <td>0.0</td>\n",
       "      <td>1.914830</td>\n",
       "      <td>...</td>\n",
       "      <td>2.132102</td>\n",
       "      <td>3.481860</td>\n",
       "      <td>3.059533</td>\n",
       "      <td>2.024459</td>\n",
       "      <td>0.0</td>\n",
       "      <td>3.954248</td>\n",
       "      <td>1.970143</td>\n",
       "      <td>1.000000</td>\n",
       "      <td>1.192093e-07</td>\n",
       "      <td>0.000000</td>\n",
       "    </tr>\n",
       "    <tr>\n",
       "      <th>5007</th>\n",
       "      <td>3</td>\n",
       "      <td>cat</td>\n",
       "      <td>7.300733</td>\n",
       "      <td>3.602438</td>\n",
       "      <td>0.0</td>\n",
       "      <td>0.0</td>\n",
       "      <td>5.851794</td>\n",
       "      <td>2.267994</td>\n",
       "      <td>0.0</td>\n",
       "      <td>2.387124</td>\n",
       "      <td>...</td>\n",
       "      <td>2.688529</td>\n",
       "      <td>4.231380</td>\n",
       "      <td>2.642400</td>\n",
       "      <td>2.293881</td>\n",
       "      <td>0.0</td>\n",
       "      <td>4.116699</td>\n",
       "      <td>3.659844</td>\n",
       "      <td>0.987693</td>\n",
       "      <td>1.230735e-02</td>\n",
       "      <td>3.150233</td>\n",
       "    </tr>\n",
       "    <tr>\n",
       "      <th>8802</th>\n",
       "      <td>6</td>\n",
       "      <td>frog</td>\n",
       "      <td>6.272382</td>\n",
       "      <td>2.734352</td>\n",
       "      <td>0.0</td>\n",
       "      <td>0.0</td>\n",
       "      <td>3.607210</td>\n",
       "      <td>1.978663</td>\n",
       "      <td>0.0</td>\n",
       "      <td>2.254426</td>\n",
       "      <td>...</td>\n",
       "      <td>1.939586</td>\n",
       "      <td>3.781731</td>\n",
       "      <td>3.253941</td>\n",
       "      <td>2.834378</td>\n",
       "      <td>0.0</td>\n",
       "      <td>2.638288</td>\n",
       "      <td>2.660464</td>\n",
       "      <td>0.980523</td>\n",
       "      <td>1.947665e-02</td>\n",
       "      <td>3.205886</td>\n",
       "    </tr>\n",
       "    <tr>\n",
       "      <th>7083</th>\n",
       "      <td>6</td>\n",
       "      <td>frog</td>\n",
       "      <td>5.549685</td>\n",
       "      <td>3.091393</td>\n",
       "      <td>0.0</td>\n",
       "      <td>0.0</td>\n",
       "      <td>4.002613</td>\n",
       "      <td>2.430524</td>\n",
       "      <td>0.0</td>\n",
       "      <td>2.489772</td>\n",
       "      <td>...</td>\n",
       "      <td>2.073582</td>\n",
       "      <td>3.022067</td>\n",
       "      <td>2.954539</td>\n",
       "      <td>2.973402</td>\n",
       "      <td>0.0</td>\n",
       "      <td>3.295546</td>\n",
       "      <td>2.542310</td>\n",
       "      <td>0.980272</td>\n",
       "      <td>1.972812e-02</td>\n",
       "      <td>3.251686</td>\n",
       "    </tr>\n",
       "    <tr>\n",
       "      <th>4886</th>\n",
       "      <td>3</td>\n",
       "      <td>cat</td>\n",
       "      <td>6.689804</td>\n",
       "      <td>3.376336</td>\n",
       "      <td>0.0</td>\n",
       "      <td>0.0</td>\n",
       "      <td>5.138989</td>\n",
       "      <td>2.575001</td>\n",
       "      <td>0.0</td>\n",
       "      <td>1.142852</td>\n",
       "      <td>...</td>\n",
       "      <td>1.965909</td>\n",
       "      <td>4.158572</td>\n",
       "      <td>3.046404</td>\n",
       "      <td>1.177577</td>\n",
       "      <td>0.0</td>\n",
       "      <td>3.915760</td>\n",
       "      <td>2.986712</td>\n",
       "      <td>0.978955</td>\n",
       "      <td>2.104539e-02</td>\n",
       "      <td>3.353100</td>\n",
       "    </tr>\n",
       "    <tr>\n",
       "      <th>...</th>\n",
       "      <td>...</td>\n",
       "      <td>...</td>\n",
       "      <td>...</td>\n",
       "      <td>...</td>\n",
       "      <td>...</td>\n",
       "      <td>...</td>\n",
       "      <td>...</td>\n",
       "      <td>...</td>\n",
       "      <td>...</td>\n",
       "      <td>...</td>\n",
       "      <td>...</td>\n",
       "      <td>...</td>\n",
       "      <td>...</td>\n",
       "      <td>...</td>\n",
       "      <td>...</td>\n",
       "      <td>...</td>\n",
       "      <td>...</td>\n",
       "      <td>...</td>\n",
       "      <td>...</td>\n",
       "      <td>...</td>\n",
       "      <td>...</td>\n",
       "    </tr>\n",
       "    <tr>\n",
       "      <th>1494</th>\n",
       "      <td>7</td>\n",
       "      <td>horse</td>\n",
       "      <td>12.295256</td>\n",
       "      <td>8.664811</td>\n",
       "      <td>0.0</td>\n",
       "      <td>0.0</td>\n",
       "      <td>5.895654</td>\n",
       "      <td>3.369156</td>\n",
       "      <td>0.0</td>\n",
       "      <td>1.611496</td>\n",
       "      <td>...</td>\n",
       "      <td>2.152839</td>\n",
       "      <td>2.983651</td>\n",
       "      <td>5.116788</td>\n",
       "      <td>5.546991</td>\n",
       "      <td>0.0</td>\n",
       "      <td>7.474122</td>\n",
       "      <td>5.965838</td>\n",
       "      <td>0.935718</td>\n",
       "      <td>6.428194e-02</td>\n",
       "      <td>16.345137</td>\n",
       "    </tr>\n",
       "    <tr>\n",
       "      <th>3561</th>\n",
       "      <td>7</td>\n",
       "      <td>horse</td>\n",
       "      <td>9.980555</td>\n",
       "      <td>9.571051</td>\n",
       "      <td>0.0</td>\n",
       "      <td>0.0</td>\n",
       "      <td>3.620441</td>\n",
       "      <td>5.980847</td>\n",
       "      <td>0.0</td>\n",
       "      <td>3.004792</td>\n",
       "      <td>...</td>\n",
       "      <td>2.718991</td>\n",
       "      <td>4.559947</td>\n",
       "      <td>6.854459</td>\n",
       "      <td>4.873492</td>\n",
       "      <td>0.0</td>\n",
       "      <td>6.855383</td>\n",
       "      <td>8.173753</td>\n",
       "      <td>0.925524</td>\n",
       "      <td>7.447582e-02</td>\n",
       "      <td>16.726460</td>\n",
       "    </tr>\n",
       "    <tr>\n",
       "      <th>9385</th>\n",
       "      <td>7</td>\n",
       "      <td>horse</td>\n",
       "      <td>12.243818</td>\n",
       "      <td>11.127270</td>\n",
       "      <td>0.0</td>\n",
       "      <td>0.0</td>\n",
       "      <td>6.634604</td>\n",
       "      <td>3.329263</td>\n",
       "      <td>0.0</td>\n",
       "      <td>1.887478</td>\n",
       "      <td>...</td>\n",
       "      <td>3.180704</td>\n",
       "      <td>4.586612</td>\n",
       "      <td>4.408925</td>\n",
       "      <td>3.356696</td>\n",
       "      <td>0.0</td>\n",
       "      <td>6.969890</td>\n",
       "      <td>7.667644</td>\n",
       "      <td>0.934547</td>\n",
       "      <td>6.545335e-02</td>\n",
       "      <td>17.652825</td>\n",
       "    </tr>\n",
       "    <tr>\n",
       "      <th>4634</th>\n",
       "      <td>7</td>\n",
       "      <td>horse</td>\n",
       "      <td>10.805875</td>\n",
       "      <td>10.932146</td>\n",
       "      <td>0.0</td>\n",
       "      <td>0.0</td>\n",
       "      <td>5.003939</td>\n",
       "      <td>7.256120</td>\n",
       "      <td>0.0</td>\n",
       "      <td>2.171016</td>\n",
       "      <td>...</td>\n",
       "      <td>3.405692</td>\n",
       "      <td>8.141213</td>\n",
       "      <td>4.599672</td>\n",
       "      <td>2.117185</td>\n",
       "      <td>0.0</td>\n",
       "      <td>6.842929</td>\n",
       "      <td>10.584331</td>\n",
       "      <td>0.902854</td>\n",
       "      <td>9.714597e-02</td>\n",
       "      <td>19.353331</td>\n",
       "    </tr>\n",
       "    <tr>\n",
       "      <th>5570</th>\n",
       "      <td>5</td>\n",
       "      <td>dog</td>\n",
       "      <td>13.953213</td>\n",
       "      <td>12.068544</td>\n",
       "      <td>0.0</td>\n",
       "      <td>0.0</td>\n",
       "      <td>6.643870</td>\n",
       "      <td>4.790935</td>\n",
       "      <td>0.0</td>\n",
       "      <td>3.573165</td>\n",
       "      <td>...</td>\n",
       "      <td>4.677644</td>\n",
       "      <td>8.989101</td>\n",
       "      <td>5.919094</td>\n",
       "      <td>4.513397</td>\n",
       "      <td>0.0</td>\n",
       "      <td>7.244457</td>\n",
       "      <td>9.351469</td>\n",
       "      <td>0.932362</td>\n",
       "      <td>6.763750e-02</td>\n",
       "      <td>22.412313</td>\n",
       "    </tr>\n",
       "  </tbody>\n",
       "</table>\n",
       "<p>10000 rows × 37 columns</p>\n",
       "</div>"
      ],
      "text/plain": [
       "      Class Class Name          0          1    2    3         4         5  \\\n",
       "78        3        cat   6.640850   2.964600  0.0  0.0  5.612169  1.824859   \n",
       "5007      3        cat   7.300733   3.602438  0.0  0.0  5.851794  2.267994   \n",
       "8802      6       frog   6.272382   2.734352  0.0  0.0  3.607210  1.978663   \n",
       "7083      6       frog   5.549685   3.091393  0.0  0.0  4.002613  2.430524   \n",
       "4886      3        cat   6.689804   3.376336  0.0  0.0  5.138989  2.575001   \n",
       "...     ...        ...        ...        ...  ...  ...       ...       ...   \n",
       "1494      7      horse  12.295256   8.664811  0.0  0.0  5.895654  3.369156   \n",
       "3561      7      horse   9.980555   9.571051  0.0  0.0  3.620441  5.980847   \n",
       "9385      7      horse  12.243818  11.127270  0.0  0.0  6.634604  3.329263   \n",
       "4634      7      horse  10.805875  10.932146  0.0  0.0  5.003939  7.256120   \n",
       "5570      5        dog  13.953213  12.068544  0.0  0.0  6.643870  4.790935   \n",
       "\n",
       "        6         7  ...        25        26        27        28   29  \\\n",
       "78    0.0  1.914830  ...  2.132102  3.481860  3.059533  2.024459  0.0   \n",
       "5007  0.0  2.387124  ...  2.688529  4.231380  2.642400  2.293881  0.0   \n",
       "8802  0.0  2.254426  ...  1.939586  3.781731  3.253941  2.834378  0.0   \n",
       "7083  0.0  2.489772  ...  2.073582  3.022067  2.954539  2.973402  0.0   \n",
       "4886  0.0  1.142852  ...  1.965909  4.158572  3.046404  1.177577  0.0   \n",
       "...   ...       ...  ...       ...       ...       ...       ...  ...   \n",
       "1494  0.0  1.611496  ...  2.152839  2.983651  5.116788  5.546991  0.0   \n",
       "3561  0.0  3.004792  ...  2.718991  4.559947  6.854459  4.873492  0.0   \n",
       "9385  0.0  1.887478  ...  3.180704  4.586612  4.408925  3.356696  0.0   \n",
       "4634  0.0  2.171016  ...  3.405692  8.141213  4.599672  2.117185  0.0   \n",
       "5570  0.0  3.573165  ...  4.677644  8.989101  5.919094  4.513397  0.0   \n",
       "\n",
       "            30         31  Cosine Similarity  Cosine Distance  \\\n",
       "78    3.954248   1.970143           1.000000     1.192093e-07   \n",
       "5007  4.116699   3.659844           0.987693     1.230735e-02   \n",
       "8802  2.638288   2.660464           0.980523     1.947665e-02   \n",
       "7083  3.295546   2.542310           0.980272     1.972812e-02   \n",
       "4886  3.915760   2.986712           0.978955     2.104539e-02   \n",
       "...        ...        ...                ...              ...   \n",
       "1494  7.474122   5.965838           0.935718     6.428194e-02   \n",
       "3561  6.855383   8.173753           0.925524     7.447582e-02   \n",
       "9385  6.969890   7.667644           0.934547     6.545335e-02   \n",
       "4634  6.842929  10.584331           0.902854     9.714597e-02   \n",
       "5570  7.244457   9.351469           0.932362     6.763750e-02   \n",
       "\n",
       "      Euclidean Distance  \n",
       "78              0.000000  \n",
       "5007            3.150233  \n",
       "8802            3.205886  \n",
       "7083            3.251686  \n",
       "4886            3.353100  \n",
       "...                  ...  \n",
       "1494           16.345137  \n",
       "3561           16.726460  \n",
       "9385           17.652825  \n",
       "4634           19.353331  \n",
       "5570           22.412313  \n",
       "\n",
       "[10000 rows x 37 columns]"
      ]
     },
     "execution_count": 38,
     "metadata": {},
     "output_type": "execute_result"
    }
   ],
   "source": [
    "final_encoded_test_data_df['Euclidean Distance'] = euclidean_distance\n",
    "final_encoded_test_data_df.sort_values(by = ['Euclidean Distance'])"
   ]
  },
  {
   "cell_type": "code",
   "execution_count": 39,
   "metadata": {},
   "outputs": [
    {
     "data": {
      "image/png": "[encoded data removed]",
      "text/plain": [
       "<Figure size 144x144 with 1 Axes>"
      ]
     },
     "metadata": {
      "needs_background": "light"
     },
     "output_type": "display_data"
    },
    {
     "data": {
      "image/png": "[encoded data removed]",
      "text/plain": [
       "<Figure size 144x144 with 1 Axes>"
      ]
     },
     "metadata": {
      "needs_background": "light"
     },
     "output_type": "display_data"
    },
    {
     "data": {
      "image/png": "[encoded data removed]",
      "text/plain": [
       "<Figure size 144x144 with 1 Axes>"
      ]
     },
     "metadata": {
      "needs_background": "light"
     },
     "output_type": "display_data"
    },
    {
     "data": {
      "image/png": "[encoded data removed]",
      "text/plain": [
       "<Figure size 144x144 with 1 Axes>"
      ]
     },
     "metadata": {
      "needs_background": "light"
     },
     "output_type": "display_data"
    },
    {
     "data": {
      "image/png": "[encoded data removed]",
      "text/plain": [
       "<Figure size 144x144 with 1 Axes>"
      ]
     },
     "metadata": {
      "needs_background": "light"
     },
     "output_type": "display_data"
    },
    {
     "data": {
      "image/png": "[encoded data removed]",
      "text/plain": [
       "<Figure size 144x144 with 1 Axes>"
      ]
     },
     "metadata": {
      "needs_background": "light"
     },
     "output_type": "display_data"
    },
    {
     "data": {
      "image/png": "[encoded data removed]",
      "text/plain": [
       "<Figure size 144x144 with 1 Axes>"
      ]
     },
     "metadata": {
      "needs_background": "light"
     },
     "output_type": "display_data"
    },
    {
     "data": {
      "image/png": "[encoded data removed]",
      "text/plain": [
       "<Figure size 144x144 with 1 Axes>"
      ]
     },
     "metadata": {
      "needs_background": "light"
     },
     "output_type": "display_data"
    },
    {
     "data": {
      "image/png": "[encoded data removed]",
      "text/plain": [
       "<Figure size 144x144 with 1 Axes>"
      ]
     },
     "metadata": {
      "needs_background": "light"
     },
     "output_type": "display_data"
    },
    {
     "data": {
      "image/png": "[encoded data removed]",
      "text/plain": [
       "<Figure size 144x144 with 1 Axes>"
      ]
     },
     "metadata": {
      "needs_background": "light"
     },
     "output_type": "display_data"
    }
   ],
   "source": [
    "euclidean_index = final_encoded_test_data_df.sort_values(by = ['Euclidean Distance']).head(10).index\n",
    "\n",
    "for i in euclidean_index:\n",
    "    plt.figure(figsize = (2, 2))\n",
    "    plt.imshow(x_test[i].reshape(32, 32, 3))\n",
    "    plt.xlabel(final_encoded_test_data_df['Class Name'][i] + ' with an Euclidean Distance of ' + str(final_encoded_test_data_df['Euclidean Distance'][i]) + ' from the queried image.')\n",
    "    plt.show()"
   ]
  },
  {
   "cell_type": "code",
   "execution_count": null,
   "metadata": {},
   "outputs": [],
   "source": []
  }
 ],
 "metadata": {
  "kernelspec": {
   "display_name": "Python 3",
   "language": "python",
   "name": "python3"
  },
  "language_info": {
   "codemirror_mode": {
    "name": "ipython",
    "version": 3
   },
   "file_extension": ".py",
   "mimetype": "text/x-python",
   "name": "python",
   "nbconvert_exporter": "python",
   "pygments_lexer": "ipython3",
   "version": "3.6.9"
  }
 },
 "nbformat": 4,
 "nbformat_minor": 2
}
