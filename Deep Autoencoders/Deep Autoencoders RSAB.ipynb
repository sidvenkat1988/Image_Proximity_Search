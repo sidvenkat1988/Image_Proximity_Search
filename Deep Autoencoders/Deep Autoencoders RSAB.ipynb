{
 "cells": [
  {
   "cell_type": "code",
   "execution_count": 2,
   "metadata": {},
   "outputs": [],
   "source": [
    "from keras.layers import Input, Dense\n",
    "from keras.models import Model\n",
    "\n",
    "import numpy as np\n",
    "import pandas as pd\n",
    "import matplotlib.pyplot as plt\n",
    "%matplotlib inline"
   ]
  },
  {
   "cell_type": "code",
   "execution_count": 3,
   "metadata": {},
   "outputs": [
    {
     "name": "stdout",
     "output_type": "stream",
     "text": [
      "(50000, 3074)\n",
      "(10000, 3074)\n"
     ]
    }
   ],
   "source": [
    "datadir = '/Users/sidv88/Documents/Data_Management_2/Data/'\n",
    "train_data = pd.read_csv(datadir + 'train_rgb.csv')\n",
    "test_data = pd.read_csv(datadir + 'test_rgb.csv')\n",
    "print(train_data.shape)\n",
    "print(test_data.shape)"
   ]
  },
  {
   "cell_type": "code",
   "execution_count": 4,
   "metadata": {},
   "outputs": [
    {
     "data": {
      "text/html": [
       "<div>\n",
       "<style scoped>\n",
       "    .dataframe tbody tr th:only-of-type {\n",
       "        vertical-align: middle;\n",
       "    }\n",
       "\n",
       "    .dataframe tbody tr th {\n",
       "        vertical-align: top;\n",
       "    }\n",
       "\n",
       "    .dataframe thead th {\n",
       "        text-align: right;\n",
       "    }\n",
       "</style>\n",
       "<table border=\"1\" class=\"dataframe\">\n",
       "  <thead>\n",
       "    <tr style=\"text-align: right;\">\n",
       "      <th></th>\n",
       "      <th>Class</th>\n",
       "      <th>Class Name</th>\n",
       "      <th>0</th>\n",
       "      <th>1</th>\n",
       "      <th>2</th>\n",
       "      <th>3</th>\n",
       "      <th>4</th>\n",
       "      <th>5</th>\n",
       "      <th>6</th>\n",
       "      <th>7</th>\n",
       "      <th>...</th>\n",
       "      <th>3062</th>\n",
       "      <th>3063</th>\n",
       "      <th>3064</th>\n",
       "      <th>3065</th>\n",
       "      <th>3066</th>\n",
       "      <th>3067</th>\n",
       "      <th>3068</th>\n",
       "      <th>3069</th>\n",
       "      <th>3070</th>\n",
       "      <th>3071</th>\n",
       "    </tr>\n",
       "  </thead>\n",
       "  <tbody>\n",
       "    <tr>\n",
       "      <th>0</th>\n",
       "      <td>6</td>\n",
       "      <td>frog</td>\n",
       "      <td>59</td>\n",
       "      <td>62</td>\n",
       "      <td>63</td>\n",
       "      <td>43</td>\n",
       "      <td>46</td>\n",
       "      <td>45</td>\n",
       "      <td>50</td>\n",
       "      <td>48</td>\n",
       "      <td>...</td>\n",
       "      <td>104</td>\n",
       "      <td>216</td>\n",
       "      <td>184</td>\n",
       "      <td>140</td>\n",
       "      <td>151</td>\n",
       "      <td>118</td>\n",
       "      <td>84</td>\n",
       "      <td>123</td>\n",
       "      <td>92</td>\n",
       "      <td>72</td>\n",
       "    </tr>\n",
       "    <tr>\n",
       "      <th>1</th>\n",
       "      <td>9</td>\n",
       "      <td>truck</td>\n",
       "      <td>154</td>\n",
       "      <td>177</td>\n",
       "      <td>187</td>\n",
       "      <td>126</td>\n",
       "      <td>137</td>\n",
       "      <td>136</td>\n",
       "      <td>105</td>\n",
       "      <td>104</td>\n",
       "      <td>...</td>\n",
       "      <td>136</td>\n",
       "      <td>143</td>\n",
       "      <td>133</td>\n",
       "      <td>139</td>\n",
       "      <td>143</td>\n",
       "      <td>134</td>\n",
       "      <td>142</td>\n",
       "      <td>143</td>\n",
       "      <td>133</td>\n",
       "      <td>144</td>\n",
       "    </tr>\n",
       "    <tr>\n",
       "      <th>2</th>\n",
       "      <td>9</td>\n",
       "      <td>truck</td>\n",
       "      <td>255</td>\n",
       "      <td>255</td>\n",
       "      <td>255</td>\n",
       "      <td>253</td>\n",
       "      <td>253</td>\n",
       "      <td>253</td>\n",
       "      <td>253</td>\n",
       "      <td>253</td>\n",
       "      <td>...</td>\n",
       "      <td>79</td>\n",
       "      <td>78</td>\n",
       "      <td>85</td>\n",
       "      <td>83</td>\n",
       "      <td>79</td>\n",
       "      <td>85</td>\n",
       "      <td>83</td>\n",
       "      <td>80</td>\n",
       "      <td>86</td>\n",
       "      <td>84</td>\n",
       "    </tr>\n",
       "    <tr>\n",
       "      <th>3</th>\n",
       "      <td>4</td>\n",
       "      <td>deer</td>\n",
       "      <td>28</td>\n",
       "      <td>25</td>\n",
       "      <td>10</td>\n",
       "      <td>37</td>\n",
       "      <td>34</td>\n",
       "      <td>19</td>\n",
       "      <td>38</td>\n",
       "      <td>35</td>\n",
       "      <td>...</td>\n",
       "      <td>38</td>\n",
       "      <td>54</td>\n",
       "      <td>47</td>\n",
       "      <td>28</td>\n",
       "      <td>63</td>\n",
       "      <td>56</td>\n",
       "      <td>37</td>\n",
       "      <td>72</td>\n",
       "      <td>65</td>\n",
       "      <td>46</td>\n",
       "    </tr>\n",
       "    <tr>\n",
       "      <th>4</th>\n",
       "      <td>1</td>\n",
       "      <td>automobile</td>\n",
       "      <td>170</td>\n",
       "      <td>180</td>\n",
       "      <td>198</td>\n",
       "      <td>168</td>\n",
       "      <td>178</td>\n",
       "      <td>196</td>\n",
       "      <td>177</td>\n",
       "      <td>185</td>\n",
       "      <td>...</td>\n",
       "      <td>78</td>\n",
       "      <td>75</td>\n",
       "      <td>79</td>\n",
       "      <td>82</td>\n",
       "      <td>71</td>\n",
       "      <td>75</td>\n",
       "      <td>78</td>\n",
       "      <td>73</td>\n",
       "      <td>77</td>\n",
       "      <td>80</td>\n",
       "    </tr>\n",
       "  </tbody>\n",
       "</table>\n",
       "<p>5 rows × 3074 columns</p>\n",
       "</div>"
      ],
      "text/plain": [
       "   Class  Class Name    0    1    2    3    4    5    6    7  ...  3062  3063  \\\n",
       "0      6        frog   59   62   63   43   46   45   50   48  ...   104   216   \n",
       "1      9       truck  154  177  187  126  137  136  105  104  ...   136   143   \n",
       "2      9       truck  255  255  255  253  253  253  253  253  ...    79    78   \n",
       "3      4        deer   28   25   10   37   34   19   38   35  ...    38    54   \n",
       "4      1  automobile  170  180  198  168  178  196  177  185  ...    78    75   \n",
       "\n",
       "   3064  3065  3066  3067  3068  3069  3070  3071  \n",
       "0   184   140   151   118    84   123    92    72  \n",
       "1   133   139   143   134   142   143   133   144  \n",
       "2    85    83    79    85    83    80    86    84  \n",
       "3    47    28    63    56    37    72    65    46  \n",
       "4    79    82    71    75    78    73    77    80  \n",
       "\n",
       "[5 rows x 3074 columns]"
      ]
     },
     "execution_count": 4,
     "metadata": {},
     "output_type": "execute_result"
    }
   ],
   "source": [
    "train_data.head()"
   ]
  },
  {
   "cell_type": "code",
   "execution_count": 5,
   "metadata": {},
   "outputs": [
    {
     "data": {
      "text/html": [
       "<div>\n",
       "<style scoped>\n",
       "    .dataframe tbody tr th:only-of-type {\n",
       "        vertical-align: middle;\n",
       "    }\n",
       "\n",
       "    .dataframe tbody tr th {\n",
       "        vertical-align: top;\n",
       "    }\n",
       "\n",
       "    .dataframe thead th {\n",
       "        text-align: right;\n",
       "    }\n",
       "</style>\n",
       "<table border=\"1\" class=\"dataframe\">\n",
       "  <thead>\n",
       "    <tr style=\"text-align: right;\">\n",
       "      <th></th>\n",
       "      <th>Class</th>\n",
       "      <th>Class Name</th>\n",
       "      <th>0</th>\n",
       "      <th>1</th>\n",
       "      <th>2</th>\n",
       "      <th>3</th>\n",
       "      <th>4</th>\n",
       "      <th>5</th>\n",
       "      <th>6</th>\n",
       "      <th>7</th>\n",
       "      <th>...</th>\n",
       "      <th>3062</th>\n",
       "      <th>3063</th>\n",
       "      <th>3064</th>\n",
       "      <th>3065</th>\n",
       "      <th>3066</th>\n",
       "      <th>3067</th>\n",
       "      <th>3068</th>\n",
       "      <th>3069</th>\n",
       "      <th>3070</th>\n",
       "      <th>3071</th>\n",
       "    </tr>\n",
       "  </thead>\n",
       "  <tbody>\n",
       "    <tr>\n",
       "      <th>0</th>\n",
       "      <td>3</td>\n",
       "      <td>cat</td>\n",
       "      <td>158</td>\n",
       "      <td>112</td>\n",
       "      <td>49</td>\n",
       "      <td>159</td>\n",
       "      <td>111</td>\n",
       "      <td>47</td>\n",
       "      <td>165</td>\n",
       "      <td>116</td>\n",
       "      <td>...</td>\n",
       "      <td>145</td>\n",
       "      <td>24</td>\n",
       "      <td>77</td>\n",
       "      <td>124</td>\n",
       "      <td>34</td>\n",
       "      <td>84</td>\n",
       "      <td>129</td>\n",
       "      <td>21</td>\n",
       "      <td>67</td>\n",
       "      <td>110</td>\n",
       "    </tr>\n",
       "    <tr>\n",
       "      <th>1</th>\n",
       "      <td>8</td>\n",
       "      <td>ship</td>\n",
       "      <td>235</td>\n",
       "      <td>235</td>\n",
       "      <td>235</td>\n",
       "      <td>231</td>\n",
       "      <td>231</td>\n",
       "      <td>231</td>\n",
       "      <td>232</td>\n",
       "      <td>232</td>\n",
       "      <td>...</td>\n",
       "      <td>163</td>\n",
       "      <td>168</td>\n",
       "      <td>183</td>\n",
       "      <td>178</td>\n",
       "      <td>180</td>\n",
       "      <td>195</td>\n",
       "      <td>191</td>\n",
       "      <td>186</td>\n",
       "      <td>200</td>\n",
       "      <td>199</td>\n",
       "    </tr>\n",
       "    <tr>\n",
       "      <th>2</th>\n",
       "      <td>8</td>\n",
       "      <td>ship</td>\n",
       "      <td>158</td>\n",
       "      <td>190</td>\n",
       "      <td>222</td>\n",
       "      <td>158</td>\n",
       "      <td>187</td>\n",
       "      <td>218</td>\n",
       "      <td>139</td>\n",
       "      <td>166</td>\n",
       "      <td>...</td>\n",
       "      <td>37</td>\n",
       "      <td>5</td>\n",
       "      <td>6</td>\n",
       "      <td>8</td>\n",
       "      <td>4</td>\n",
       "      <td>5</td>\n",
       "      <td>3</td>\n",
       "      <td>7</td>\n",
       "      <td>8</td>\n",
       "      <td>7</td>\n",
       "    </tr>\n",
       "    <tr>\n",
       "      <th>3</th>\n",
       "      <td>0</td>\n",
       "      <td>airplane</td>\n",
       "      <td>155</td>\n",
       "      <td>156</td>\n",
       "      <td>149</td>\n",
       "      <td>167</td>\n",
       "      <td>176</td>\n",
       "      <td>187</td>\n",
       "      <td>176</td>\n",
       "      <td>179</td>\n",
       "      <td>...</td>\n",
       "      <td>53</td>\n",
       "      <td>60</td>\n",
       "      <td>63</td>\n",
       "      <td>50</td>\n",
       "      <td>64</td>\n",
       "      <td>65</td>\n",
       "      <td>52</td>\n",
       "      <td>73</td>\n",
       "      <td>68</td>\n",
       "      <td>50</td>\n",
       "    </tr>\n",
       "    <tr>\n",
       "      <th>4</th>\n",
       "      <td>6</td>\n",
       "      <td>frog</td>\n",
       "      <td>65</td>\n",
       "      <td>68</td>\n",
       "      <td>50</td>\n",
       "      <td>70</td>\n",
       "      <td>81</td>\n",
       "      <td>64</td>\n",
       "      <td>48</td>\n",
       "      <td>64</td>\n",
       "      <td>...</td>\n",
       "      <td>147</td>\n",
       "      <td>143</td>\n",
       "      <td>179</td>\n",
       "      <td>136</td>\n",
       "      <td>154</td>\n",
       "      <td>185</td>\n",
       "      <td>146</td>\n",
       "      <td>128</td>\n",
       "      <td>156</td>\n",
       "      <td>117</td>\n",
       "    </tr>\n",
       "  </tbody>\n",
       "</table>\n",
       "<p>5 rows × 3074 columns</p>\n",
       "</div>"
      ],
      "text/plain": [
       "   Class Class Name    0    1    2    3    4    5    6    7  ...  3062  3063  \\\n",
       "0      3        cat  158  112   49  159  111   47  165  116  ...   145    24   \n",
       "1      8       ship  235  235  235  231  231  231  232  232  ...   163   168   \n",
       "2      8       ship  158  190  222  158  187  218  139  166  ...    37     5   \n",
       "3      0   airplane  155  156  149  167  176  187  176  179  ...    53    60   \n",
       "4      6       frog   65   68   50   70   81   64   48   64  ...   147   143   \n",
       "\n",
       "   3064  3065  3066  3067  3068  3069  3070  3071  \n",
       "0    77   124    34    84   129    21    67   110  \n",
       "1   183   178   180   195   191   186   200   199  \n",
       "2     6     8     4     5     3     7     8     7  \n",
       "3    63    50    64    65    52    73    68    50  \n",
       "4   179   136   154   185   146   128   156   117  \n",
       "\n",
       "[5 rows x 3074 columns]"
      ]
     },
     "execution_count": 5,
     "metadata": {},
     "output_type": "execute_result"
    }
   ],
   "source": [
    "test_data.head()"
   ]
  },
  {
   "cell_type": "code",
   "execution_count": 6,
   "metadata": {},
   "outputs": [
    {
     "name": "stdout",
     "output_type": "stream",
     "text": [
      "(50000, 3072)\n",
      "(50000, 2)\n"
     ]
    }
   ],
   "source": [
    "x_train = train_data.iloc[:, 2:]\n",
    "print(x_train.shape)\n",
    "y_train = train_data.iloc[:, [0, 1]]\n",
    "print(y_train.shape)"
   ]
  },
  {
   "cell_type": "code",
   "execution_count": 7,
   "metadata": {},
   "outputs": [
    {
     "name": "stdout",
     "output_type": "stream",
     "text": [
      "(10000, 3072)\n",
      "(10000, 2)\n"
     ]
    }
   ],
   "source": [
    "x_test = test_data.iloc[:, 2:]\n",
    "print(x_test.shape)\n",
    "y_test = test_data.iloc[:, [0, 1]]\n",
    "print(y_test.shape)"
   ]
  },
  {
   "cell_type": "code",
   "execution_count": 8,
   "metadata": {},
   "outputs": [],
   "source": [
    "x_train = np.array(x_train)\n",
    "x_test = np.array(x_test)"
   ]
  },
  {
   "cell_type": "code",
   "execution_count": 9,
   "metadata": {},
   "outputs": [
    {
     "name": "stdout",
     "output_type": "stream",
     "text": [
      "(50000, 3072)\n",
      "(10000, 3072)\n"
     ]
    }
   ],
   "source": [
    "print(x_train.shape)\n",
    "print(x_test.shape)"
   ]
  },
  {
   "cell_type": "code",
   "execution_count": 10,
   "metadata": {},
   "outputs": [
    {
     "name": "stdout",
     "output_type": "stream",
     "text": [
      "(50000, 3072)\n",
      "(10000, 3072)\n"
     ]
    }
   ],
   "source": [
    "x_train = x_train.astype('float32')/255\n",
    "x_test = x_test.astype('float32')/255\n",
    "print(x_train.shape)\n",
    "print(x_test.shape)"
   ]
  },
  {
   "cell_type": "code",
   "execution_count": 11,
   "metadata": {},
   "outputs": [],
   "source": [
    "input_img = Input(shape = (3072, ))\n",
    "encoded = Dense(units = 128, activation = 'relu')(input_img)\n",
    "encoded = Dense(units = 128, activation = 'relu')(encoded)\n",
    "encoded = Dense(units = 64, activation = 'relu')(encoded)\n",
    "encoded = Dense(units = 64, activation = 'relu')(encoded)\n",
    "encoded = Dense(units = 32, activation = 'relu')(encoded)\n",
    "decoded = Dense(units = 64, activation = 'relu')(encoded)\n",
    "decoded = Dense(units = 64, activation = 'relu')(decoded)\n",
    "decoded = Dense(units = 128, activation = 'relu')(decoded)\n",
    "decoded = Dense(units = 128, activation = 'relu')(decoded)\n",
    "decoded = Dense(units = 3072, activation = 'sigmoid')(decoded)"
   ]
  },
  {
   "cell_type": "code",
   "execution_count": 12,
   "metadata": {},
   "outputs": [],
   "source": [
    "autoencoder = Model(input_img, decoded)\n",
    "encoder = Model(input_img, encoded)"
   ]
  },
  {
   "cell_type": "code",
   "execution_count": 13,
   "metadata": {
    "scrolled": true
   },
   "outputs": [
    {
     "name": "stdout",
     "output_type": "stream",
     "text": [
      "Model: \"model_1\"\n",
      "_________________________________________________________________\n",
      "Layer (type)                 Output Shape              Param #   \n",
      "=================================================================\n",
      "input_1 (InputLayer)         (None, 3072)              0         \n",
      "_________________________________________________________________\n",
      "dense_1 (Dense)              (None, 128)               393344    \n",
      "_________________________________________________________________\n",
      "dense_2 (Dense)              (None, 128)               16512     \n",
      "_________________________________________________________________\n",
      "dense_3 (Dense)              (None, 64)                8256      \n",
      "_________________________________________________________________\n",
      "dense_4 (Dense)              (None, 64)                4160      \n",
      "_________________________________________________________________\n",
      "dense_5 (Dense)              (None, 32)                2080      \n",
      "_________________________________________________________________\n",
      "dense_6 (Dense)              (None, 64)                2112      \n",
      "_________________________________________________________________\n",
      "dense_7 (Dense)              (None, 64)                4160      \n",
      "_________________________________________________________________\n",
      "dense_8 (Dense)              (None, 128)               8320      \n",
      "_________________________________________________________________\n",
      "dense_9 (Dense)              (None, 128)               16512     \n",
      "_________________________________________________________________\n",
      "dense_10 (Dense)             (None, 3072)              396288    \n",
      "=================================================================\n",
      "Total params: 851,744\n",
      "Trainable params: 851,744\n",
      "Non-trainable params: 0\n",
      "_________________________________________________________________\n"
     ]
    }
   ],
   "source": [
    "autoencoder.summary()"
   ]
  },
  {
   "cell_type": "code",
   "execution_count": 14,
   "metadata": {
    "scrolled": true
   },
   "outputs": [
    {
     "name": "stdout",
     "output_type": "stream",
     "text": [
      "Model: \"model_2\"\n",
      "_________________________________________________________________\n",
      "Layer (type)                 Output Shape              Param #   \n",
      "=================================================================\n",
      "input_1 (InputLayer)         (None, 3072)              0         \n",
      "_________________________________________________________________\n",
      "dense_1 (Dense)              (None, 128)               393344    \n",
      "_________________________________________________________________\n",
      "dense_2 (Dense)              (None, 128)               16512     \n",
      "_________________________________________________________________\n",
      "dense_3 (Dense)              (None, 64)                8256      \n",
      "_________________________________________________________________\n",
      "dense_4 (Dense)              (None, 64)                4160      \n",
      "_________________________________________________________________\n",
      "dense_5 (Dense)              (None, 32)                2080      \n",
      "=================================================================\n",
      "Total params: 424,352\n",
      "Trainable params: 424,352\n",
      "Non-trainable params: 0\n",
      "_________________________________________________________________\n"
     ]
    }
   ],
   "source": [
    "encoder.summary()"
   ]
  },
  {
   "cell_type": "code",
   "execution_count": 15,
   "metadata": {
    "scrolled": true
   },
   "outputs": [
    {
     "name": "stdout",
     "output_type": "stream",
     "text": [
      "Train on 50000 samples, validate on 10000 samples\n",
      "Epoch 1/50\n",
      "50000/50000 [==============================] - 14s 281us/step - loss: 0.6511 - accuracy: 0.0106 - val_loss: 0.6270 - val_accuracy: 0.0116\n",
      "Epoch 2/50\n",
      "50000/50000 [==============================] - 14s 276us/step - loss: 0.6218 - accuracy: 0.0117 - val_loss: 0.6188 - val_accuracy: 0.0118\n",
      "Epoch 3/50\n",
      "50000/50000 [==============================] - 14s 287us/step - loss: 0.6163 - accuracy: 0.0117 - val_loss: 0.6167 - val_accuracy: 0.0118\n",
      "Epoch 4/50\n",
      "50000/50000 [==============================] - 16s 327us/step - loss: 0.6128 - accuracy: 0.0118 - val_loss: 0.6140 - val_accuracy: 0.0118\n",
      "Epoch 5/50\n",
      "50000/50000 [==============================] - 16s 329us/step - loss: 0.6093 - accuracy: 0.0118 - val_loss: 0.6089 - val_accuracy: 0.0119\n",
      "Epoch 6/50\n",
      "50000/50000 [==============================] - 16s 326us/step - loss: 0.6064 - accuracy: 0.0119 - val_loss: 0.6064 - val_accuracy: 0.0119\n",
      "Epoch 7/50\n",
      "50000/50000 [==============================] - 18s 352us/step - loss: 0.6055 - accuracy: 0.0119 - val_loss: 0.6064 - val_accuracy: 0.0119\n",
      "Epoch 8/50\n",
      "50000/50000 [==============================] - 16s 323us/step - loss: 0.6054 - accuracy: 0.0119 - val_loss: 0.6064 - val_accuracy: 0.0119\n",
      "Epoch 9/50\n",
      "50000/50000 [==============================] - 16s 322us/step - loss: 0.6044 - accuracy: 0.0119 - val_loss: 0.6038 - val_accuracy: 0.0120\n",
      "Epoch 10/50\n",
      "50000/50000 [==============================] - 18s 355us/step - loss: 0.6022 - accuracy: 0.0119 - val_loss: 0.6031 - val_accuracy: 0.0120\n",
      "Epoch 11/50\n",
      "50000/50000 [==============================] - 18s 360us/step - loss: 0.6019 - accuracy: 0.0119 - val_loss: 0.6027 - val_accuracy: 0.0120\n",
      "Epoch 12/50\n",
      "50000/50000 [==============================] - 17s 338us/step - loss: 0.6016 - accuracy: 0.0119 - val_loss: 0.6018 - val_accuracy: 0.0120\n",
      "Epoch 13/50\n",
      "50000/50000 [==============================] - 16s 323us/step - loss: 0.6002 - accuracy: 0.0119 - val_loss: 0.5999 - val_accuracy: 0.0120\n",
      "Epoch 14/50\n",
      "50000/50000 [==============================] - 17s 345us/step - loss: 0.5988 - accuracy: 0.0119 - val_loss: 0.5990 - val_accuracy: 0.0120\n",
      "Epoch 15/50\n",
      "50000/50000 [==============================] - 17s 336us/step - loss: 0.5981 - accuracy: 0.0119 - val_loss: 0.5983 - val_accuracy: 0.0120\n",
      "Epoch 16/50\n",
      "50000/50000 [==============================] - 17s 332us/step - loss: 0.5971 - accuracy: 0.0119 - val_loss: 0.5984 - val_accuracy: 0.0120\n",
      "Epoch 17/50\n",
      "50000/50000 [==============================] - 17s 332us/step - loss: 0.5967 - accuracy: 0.0119 - val_loss: 0.5976 - val_accuracy: 0.0120\n",
      "Epoch 18/50\n",
      "50000/50000 [==============================] - 17s 331us/step - loss: 0.5966 - accuracy: 0.0119 - val_loss: 0.5972 - val_accuracy: 0.0120\n",
      "Epoch 19/50\n",
      "50000/50000 [==============================] - 16s 330us/step - loss: 0.5963 - accuracy: 0.0119 - val_loss: 0.5973 - val_accuracy: 0.0120\n",
      "Epoch 20/50\n",
      "50000/50000 [==============================] - 16s 330us/step - loss: 0.5961 - accuracy: 0.0119 - val_loss: 0.5974 - val_accuracy: 0.0120\n",
      "Epoch 21/50\n",
      "50000/50000 [==============================] - 17s 331us/step - loss: 0.5962 - accuracy: 0.0119 - val_loss: 0.5969 - val_accuracy: 0.0120\n",
      "Epoch 22/50\n",
      "50000/50000 [==============================] - 17s 332us/step - loss: 0.5960 - accuracy: 0.0119 - val_loss: 0.5968 - val_accuracy: 0.0120\n",
      "Epoch 23/50\n",
      "50000/50000 [==============================] - 17s 330us/step - loss: 0.5961 - accuracy: 0.0119 - val_loss: 0.5964 - val_accuracy: 0.0120\n",
      "Epoch 24/50\n",
      "50000/50000 [==============================] - 16s 329us/step - loss: 0.5951 - accuracy: 0.0120 - val_loss: 0.5952 - val_accuracy: 0.0120\n",
      "Epoch 25/50\n",
      "50000/50000 [==============================] - 16s 327us/step - loss: 0.5941 - accuracy: 0.0120 - val_loss: 0.5952 - val_accuracy: 0.0120\n",
      "Epoch 26/50\n",
      "50000/50000 [==============================] - 17s 332us/step - loss: 0.5936 - accuracy: 0.0120 - val_loss: 0.5947 - val_accuracy: 0.0120\n",
      "Epoch 27/50\n",
      "50000/50000 [==============================] - 16s 327us/step - loss: 0.5929 - accuracy: 0.0120 - val_loss: 0.5939 - val_accuracy: 0.0120\n",
      "Epoch 28/50\n",
      "50000/50000 [==============================] - 16s 326us/step - loss: 0.5924 - accuracy: 0.0120 - val_loss: 0.5933 - val_accuracy: 0.0120\n",
      "Epoch 29/50\n",
      "50000/50000 [==============================] - 16s 326us/step - loss: 0.5922 - accuracy: 0.0120 - val_loss: 0.5929 - val_accuracy: 0.0120\n",
      "Epoch 30/50\n",
      "50000/50000 [==============================] - 16s 327us/step - loss: 0.5921 - accuracy: 0.0120 - val_loss: 0.5930 - val_accuracy: 0.0120\n",
      "Epoch 31/50\n",
      "50000/50000 [==============================] - 16s 330us/step - loss: 0.5919 - accuracy: 0.0120 - val_loss: 0.5930 - val_accuracy: 0.0120\n",
      "Epoch 32/50\n",
      "50000/50000 [==============================] - 16s 329us/step - loss: 0.5917 - accuracy: 0.0120 - val_loss: 0.5925 - val_accuracy: 0.0120\n",
      "Epoch 33/50\n",
      "50000/50000 [==============================] - 16s 328us/step - loss: 0.5913 - accuracy: 0.0120 - val_loss: 0.5916 - val_accuracy: 0.0120\n",
      "Epoch 34/50\n",
      "50000/50000 [==============================] - 17s 332us/step - loss: 0.5907 - accuracy: 0.0120 - val_loss: 0.5918 - val_accuracy: 0.0120\n",
      "Epoch 35/50\n",
      "50000/50000 [==============================] - 16s 327us/step - loss: 0.5902 - accuracy: 0.0120 - val_loss: 0.5917 - val_accuracy: 0.0120\n",
      "Epoch 36/50\n",
      "50000/50000 [==============================] - 16s 327us/step - loss: 0.5898 - accuracy: 0.0120 - val_loss: 0.5910 - val_accuracy: 0.0120\n",
      "Epoch 37/50\n",
      "50000/50000 [==============================] - 16s 328us/step - loss: 0.5897 - accuracy: 0.0120 - val_loss: 0.5905 - val_accuracy: 0.0120\n",
      "Epoch 38/50\n",
      "50000/50000 [==============================] - 16s 328us/step - loss: 0.5895 - accuracy: 0.0120 - val_loss: 0.5905 - val_accuracy: 0.0120\n",
      "Epoch 39/50\n",
      "50000/50000 [==============================] - 17s 332us/step - loss: 0.5894 - accuracy: 0.0120 - val_loss: 0.5917 - val_accuracy: 0.0120\n",
      "Epoch 40/50\n",
      "50000/50000 [==============================] - 17s 340us/step - loss: 0.5893 - accuracy: 0.0120 - val_loss: 0.5906 - val_accuracy: 0.0120\n",
      "Epoch 41/50\n",
      "50000/50000 [==============================] - 17s 331us/step - loss: 0.5895 - accuracy: 0.0120 - val_loss: 0.5908 - val_accuracy: 0.0120\n",
      "Epoch 42/50\n",
      "50000/50000 [==============================] - 17s 331us/step - loss: 0.5889 - accuracy: 0.0120 - val_loss: 0.5899 - val_accuracy: 0.0121\n",
      "Epoch 43/50\n",
      "50000/50000 [==============================] - 17s 330us/step - loss: 0.5886 - accuracy: 0.0120 - val_loss: 0.5895 - val_accuracy: 0.0120\n",
      "Epoch 44/50\n",
      "50000/50000 [==============================] - 16s 330us/step - loss: 0.5885 - accuracy: 0.0120 - val_loss: 0.5902 - val_accuracy: 0.0121\n",
      "Epoch 45/50\n",
      "50000/50000 [==============================] - 16s 329us/step - loss: 0.5885 - accuracy: 0.0120 - val_loss: 0.5896 - val_accuracy: 0.0121\n",
      "Epoch 46/50\n",
      "50000/50000 [==============================] - 17s 330us/step - loss: 0.5882 - accuracy: 0.0120 - val_loss: 0.5890 - val_accuracy: 0.0121\n",
      "Epoch 47/50\n",
      "50000/50000 [==============================] - 17s 330us/step - loss: 0.5881 - accuracy: 0.0120 - val_loss: 0.5891 - val_accuracy: 0.0121\n",
      "Epoch 48/50\n",
      "50000/50000 [==============================] - 17s 331us/step - loss: 0.5881 - accuracy: 0.0120 - val_loss: 0.5900 - val_accuracy: 0.0120\n",
      "Epoch 49/50\n",
      "50000/50000 [==============================] - 17s 331us/step - loss: 0.5880 - accuracy: 0.0120 - val_loss: 0.5891 - val_accuracy: 0.0121\n",
      "Epoch 50/50\n",
      "50000/50000 [==============================] - 17s 331us/step - loss: 0.5877 - accuracy: 0.0120 - val_loss: 0.5895 - val_accuracy: 0.0121\n"
     ]
    },
    {
     "data": {
      "text/plain": [
       "<keras.callbacks.callbacks.History at 0x1429cfe80>"
      ]
     },
     "execution_count": 15,
     "metadata": {},
     "output_type": "execute_result"
    }
   ],
   "source": [
    "autoencoder.compile(optimizer = 'adam', loss = 'binary_crossentropy', metrics = ['accuracy'])\n",
    "autoencoder.fit(x_train, x_train, epochs = 50, batch_size = 256, shuffle = True, validation_data = [x_test, x_test])"
   ]
  },
  {
   "cell_type": "code",
   "execution_count": 16,
   "metadata": {},
   "outputs": [],
   "source": [
    "encoded_test_data = encoder.predict(x_test)\n",
    "predicted_test_data = autoencoder.predict(x_test)"
   ]
  },
  {
   "cell_type": "code",
   "execution_count": 17,
   "metadata": {},
   "outputs": [
    {
     "data": {
      "text/plain": [
       "(10000, 32)"
      ]
     },
     "execution_count": 17,
     "metadata": {},
     "output_type": "execute_result"
    }
   ],
   "source": [
    "encoded_test_data.shape"
   ]
  },
  {
   "cell_type": "code",
   "execution_count": 18,
   "metadata": {
    "scrolled": true
   },
   "outputs": [
    {
     "data": {
      "text/html": [
       "<div>\n",
       "<style scoped>\n",
       "    .dataframe tbody tr th:only-of-type {\n",
       "        vertical-align: middle;\n",
       "    }\n",
       "\n",
       "    .dataframe tbody tr th {\n",
       "        vertical-align: top;\n",
       "    }\n",
       "\n",
       "    .dataframe thead th {\n",
       "        text-align: right;\n",
       "    }\n",
       "</style>\n",
       "<table border=\"1\" class=\"dataframe\">\n",
       "  <thead>\n",
       "    <tr style=\"text-align: right;\">\n",
       "      <th></th>\n",
       "      <th>Class</th>\n",
       "      <th>Class Name</th>\n",
       "    </tr>\n",
       "  </thead>\n",
       "  <tbody>\n",
       "    <tr>\n",
       "      <th>0</th>\n",
       "      <td>3</td>\n",
       "      <td>cat</td>\n",
       "    </tr>\n",
       "    <tr>\n",
       "      <th>1</th>\n",
       "      <td>8</td>\n",
       "      <td>ship</td>\n",
       "    </tr>\n",
       "    <tr>\n",
       "      <th>2</th>\n",
       "      <td>8</td>\n",
       "      <td>ship</td>\n",
       "    </tr>\n",
       "    <tr>\n",
       "      <th>3</th>\n",
       "      <td>0</td>\n",
       "      <td>airplane</td>\n",
       "    </tr>\n",
       "    <tr>\n",
       "      <th>4</th>\n",
       "      <td>6</td>\n",
       "      <td>frog</td>\n",
       "    </tr>\n",
       "    <tr>\n",
       "      <th>...</th>\n",
       "      <td>...</td>\n",
       "      <td>...</td>\n",
       "    </tr>\n",
       "    <tr>\n",
       "      <th>9995</th>\n",
       "      <td>8</td>\n",
       "      <td>ship</td>\n",
       "    </tr>\n",
       "    <tr>\n",
       "      <th>9996</th>\n",
       "      <td>3</td>\n",
       "      <td>cat</td>\n",
       "    </tr>\n",
       "    <tr>\n",
       "      <th>9997</th>\n",
       "      <td>5</td>\n",
       "      <td>dog</td>\n",
       "    </tr>\n",
       "    <tr>\n",
       "      <th>9998</th>\n",
       "      <td>1</td>\n",
       "      <td>automobile</td>\n",
       "    </tr>\n",
       "    <tr>\n",
       "      <th>9999</th>\n",
       "      <td>7</td>\n",
       "      <td>horse</td>\n",
       "    </tr>\n",
       "  </tbody>\n",
       "</table>\n",
       "<p>10000 rows × 2 columns</p>\n",
       "</div>"
      ],
      "text/plain": [
       "      Class  Class Name\n",
       "0         3         cat\n",
       "1         8        ship\n",
       "2         8        ship\n",
       "3         0    airplane\n",
       "4         6        frog\n",
       "...     ...         ...\n",
       "9995      8        ship\n",
       "9996      3         cat\n",
       "9997      5         dog\n",
       "9998      1  automobile\n",
       "9999      7       horse\n",
       "\n",
       "[10000 rows x 2 columns]"
      ]
     },
     "execution_count": 18,
     "metadata": {},
     "output_type": "execute_result"
    }
   ],
   "source": [
    "y_test"
   ]
  },
  {
   "cell_type": "code",
   "execution_count": 19,
   "metadata": {},
   "outputs": [
    {
     "data": {
      "text/plain": [
       "(10000, 34)"
      ]
     },
     "execution_count": 19,
     "metadata": {},
     "output_type": "execute_result"
    }
   ],
   "source": [
    "encoded_test_data_df = pd.DataFrame(encoded_test_data)\n",
    "final_encoded_test_data_df = pd.concat([y_test, encoded_test_data_df], axis = 1)\n",
    "final_encoded_test_data_df.shape"
   ]
  },
  {
   "cell_type": "code",
   "execution_count": 20,
   "metadata": {},
   "outputs": [],
   "source": [
    "datadir = '/Users/sidv88/Documents/Data_Management_2/Deep_Encoded_Data/'\n",
    "final_encoded_test_data_df.to_csv(datadir + 'Deep_Encoders_Test_RSAB.csv', index = False)"
   ]
  },
  {
   "cell_type": "code",
   "execution_count": 21,
   "metadata": {},
   "outputs": [
    {
     "name": "stdout",
     "output_type": "stream",
     "text": [
      "Enter one of these values ['cat' 'ship' 'airplane' 'frog' 'automobile' 'truck' 'dog' 'horse' 'deer'\n",
      " 'bird'] : cat\n"
     ]
    }
   ],
   "source": [
    "input_val = input(\"Enter one of these values {} : \".format(final_encoded_test_data_df['Class Name'].unique()))"
   ]
  },
  {
   "cell_type": "code",
   "execution_count": 22,
   "metadata": {},
   "outputs": [
    {
     "name": "stdout",
     "output_type": "stream",
     "text": [
      "Enter a number between 0 and 999 : 6\n"
     ]
    }
   ],
   "source": [
    "input_num = input(\"Enter a number between 0 and 999 : \")"
   ]
  },
  {
   "cell_type": "code",
   "execution_count": 23,
   "metadata": {},
   "outputs": [
    {
     "name": "stdout",
     "output_type": "stream",
     "text": [
      "10000\n",
      "10000\n"
     ]
    }
   ],
   "source": [
    "from numpy import dot\n",
    "from numpy.linalg import norm\n",
    "\n",
    "cosine_similarity = []\n",
    "cosine_distance = []\n",
    "\n",
    "for i in range(len(x_test)):\n",
    "    a = final_encoded_test_data_df.loc[final_encoded_test_data_df['Class Name'] == input_val].iloc[int(input_num), 2:]\n",
    "    b = final_encoded_test_data_df.iloc[i, 2:]\n",
    "    cos_sim = dot(a, b)/(norm(a) * norm(b))\n",
    "    cos_dist = 1 - cos_sim\n",
    "    cosine_similarity.append(cos_sim)\n",
    "    cosine_distance.append(cos_dist)\n",
    "print(len(cosine_similarity))\n",
    "print(len(cosine_distance))"
   ]
  },
  {
   "cell_type": "code",
   "execution_count": 24,
   "metadata": {},
   "outputs": [],
   "source": [
    "final_encoded_test_data_df['Cosine Similarity'] = cosine_similarity\n",
    "final_encoded_test_data_df['Cosine Distance'] = cosine_distance"
   ]
  },
  {
   "cell_type": "code",
   "execution_count": 25,
   "metadata": {},
   "outputs": [
    {
     "data": {
      "text/html": [
       "<div>\n",
       "<style scoped>\n",
       "    .dataframe tbody tr th:only-of-type {\n",
       "        vertical-align: middle;\n",
       "    }\n",
       "\n",
       "    .dataframe tbody tr th {\n",
       "        vertical-align: top;\n",
       "    }\n",
       "\n",
       "    .dataframe thead th {\n",
       "        text-align: right;\n",
       "    }\n",
       "</style>\n",
       "<table border=\"1\" class=\"dataframe\">\n",
       "  <thead>\n",
       "    <tr style=\"text-align: right;\">\n",
       "      <th></th>\n",
       "      <th>Class</th>\n",
       "      <th>Class Name</th>\n",
       "      <th>0</th>\n",
       "      <th>1</th>\n",
       "      <th>2</th>\n",
       "      <th>3</th>\n",
       "      <th>4</th>\n",
       "      <th>5</th>\n",
       "      <th>6</th>\n",
       "      <th>7</th>\n",
       "      <th>...</th>\n",
       "      <th>24</th>\n",
       "      <th>25</th>\n",
       "      <th>26</th>\n",
       "      <th>27</th>\n",
       "      <th>28</th>\n",
       "      <th>29</th>\n",
       "      <th>30</th>\n",
       "      <th>31</th>\n",
       "      <th>Cosine Similarity</th>\n",
       "      <th>Cosine Distance</th>\n",
       "    </tr>\n",
       "  </thead>\n",
       "  <tbody>\n",
       "    <tr>\n",
       "      <th>68</th>\n",
       "      <td>3</td>\n",
       "      <td>cat</td>\n",
       "      <td>3.296398</td>\n",
       "      <td>0.0</td>\n",
       "      <td>2.844953</td>\n",
       "      <td>3.298851</td>\n",
       "      <td>4.225753</td>\n",
       "      <td>2.466478</td>\n",
       "      <td>3.590758</td>\n",
       "      <td>0.0</td>\n",
       "      <td>...</td>\n",
       "      <td>2.048950</td>\n",
       "      <td>0.0</td>\n",
       "      <td>0.0</td>\n",
       "      <td>0.0</td>\n",
       "      <td>2.161148</td>\n",
       "      <td>2.488618</td>\n",
       "      <td>0.788361</td>\n",
       "      <td>0.0</td>\n",
       "      <td>1.000000</td>\n",
       "      <td>1.192093e-07</td>\n",
       "    </tr>\n",
       "    <tr>\n",
       "      <th>7918</th>\n",
       "      <td>4</td>\n",
       "      <td>deer</td>\n",
       "      <td>4.399259</td>\n",
       "      <td>0.0</td>\n",
       "      <td>3.042195</td>\n",
       "      <td>3.955928</td>\n",
       "      <td>4.703123</td>\n",
       "      <td>2.676510</td>\n",
       "      <td>3.902062</td>\n",
       "      <td>0.0</td>\n",
       "      <td>...</td>\n",
       "      <td>2.771405</td>\n",
       "      <td>0.0</td>\n",
       "      <td>0.0</td>\n",
       "      <td>0.0</td>\n",
       "      <td>3.170142</td>\n",
       "      <td>1.750464</td>\n",
       "      <td>0.903369</td>\n",
       "      <td>0.0</td>\n",
       "      <td>0.983216</td>\n",
       "      <td>1.678389e-02</td>\n",
       "    </tr>\n",
       "    <tr>\n",
       "      <th>614</th>\n",
       "      <td>5</td>\n",
       "      <td>dog</td>\n",
       "      <td>4.001855</td>\n",
       "      <td>0.0</td>\n",
       "      <td>2.210523</td>\n",
       "      <td>2.457414</td>\n",
       "      <td>5.135218</td>\n",
       "      <td>2.665833</td>\n",
       "      <td>2.537163</td>\n",
       "      <td>0.0</td>\n",
       "      <td>...</td>\n",
       "      <td>1.484941</td>\n",
       "      <td>0.0</td>\n",
       "      <td>0.0</td>\n",
       "      <td>0.0</td>\n",
       "      <td>2.518049</td>\n",
       "      <td>1.771911</td>\n",
       "      <td>1.005473</td>\n",
       "      <td>0.0</td>\n",
       "      <td>0.971662</td>\n",
       "      <td>2.833778e-02</td>\n",
       "    </tr>\n",
       "    <tr>\n",
       "      <th>4865</th>\n",
       "      <td>8</td>\n",
       "      <td>ship</td>\n",
       "      <td>5.866586</td>\n",
       "      <td>0.0</td>\n",
       "      <td>2.546844</td>\n",
       "      <td>3.330559</td>\n",
       "      <td>5.325206</td>\n",
       "      <td>3.575880</td>\n",
       "      <td>4.542340</td>\n",
       "      <td>0.0</td>\n",
       "      <td>...</td>\n",
       "      <td>1.766250</td>\n",
       "      <td>0.0</td>\n",
       "      <td>0.0</td>\n",
       "      <td>0.0</td>\n",
       "      <td>2.587922</td>\n",
       "      <td>3.159706</td>\n",
       "      <td>1.393708</td>\n",
       "      <td>0.0</td>\n",
       "      <td>0.969582</td>\n",
       "      <td>3.041786e-02</td>\n",
       "    </tr>\n",
       "    <tr>\n",
       "      <th>1577</th>\n",
       "      <td>5</td>\n",
       "      <td>dog</td>\n",
       "      <td>4.087200</td>\n",
       "      <td>0.0</td>\n",
       "      <td>2.104430</td>\n",
       "      <td>2.246150</td>\n",
       "      <td>4.578339</td>\n",
       "      <td>1.695856</td>\n",
       "      <td>2.597050</td>\n",
       "      <td>0.0</td>\n",
       "      <td>...</td>\n",
       "      <td>1.664665</td>\n",
       "      <td>0.0</td>\n",
       "      <td>0.0</td>\n",
       "      <td>0.0</td>\n",
       "      <td>1.929796</td>\n",
       "      <td>2.409111</td>\n",
       "      <td>1.904521</td>\n",
       "      <td>0.0</td>\n",
       "      <td>0.969397</td>\n",
       "      <td>3.060341e-02</td>\n",
       "    </tr>\n",
       "    <tr>\n",
       "      <th>...</th>\n",
       "      <td>...</td>\n",
       "      <td>...</td>\n",
       "      <td>...</td>\n",
       "      <td>...</td>\n",
       "      <td>...</td>\n",
       "      <td>...</td>\n",
       "      <td>...</td>\n",
       "      <td>...</td>\n",
       "      <td>...</td>\n",
       "      <td>...</td>\n",
       "      <td>...</td>\n",
       "      <td>...</td>\n",
       "      <td>...</td>\n",
       "      <td>...</td>\n",
       "      <td>...</td>\n",
       "      <td>...</td>\n",
       "      <td>...</td>\n",
       "      <td>...</td>\n",
       "      <td>...</td>\n",
       "      <td>...</td>\n",
       "      <td>...</td>\n",
       "    </tr>\n",
       "    <tr>\n",
       "      <th>654</th>\n",
       "      <td>9</td>\n",
       "      <td>truck</td>\n",
       "      <td>6.888531</td>\n",
       "      <td>0.0</td>\n",
       "      <td>2.009237</td>\n",
       "      <td>0.885226</td>\n",
       "      <td>3.986479</td>\n",
       "      <td>2.591630</td>\n",
       "      <td>3.187825</td>\n",
       "      <td>0.0</td>\n",
       "      <td>...</td>\n",
       "      <td>1.313882</td>\n",
       "      <td>0.0</td>\n",
       "      <td>0.0</td>\n",
       "      <td>0.0</td>\n",
       "      <td>0.963962</td>\n",
       "      <td>1.044221</td>\n",
       "      <td>0.937177</td>\n",
       "      <td>0.0</td>\n",
       "      <td>0.813830</td>\n",
       "      <td>1.861702e-01</td>\n",
       "    </tr>\n",
       "    <tr>\n",
       "      <th>4453</th>\n",
       "      <td>0</td>\n",
       "      <td>airplane</td>\n",
       "      <td>10.170266</td>\n",
       "      <td>0.0</td>\n",
       "      <td>2.559815</td>\n",
       "      <td>6.318613</td>\n",
       "      <td>5.793544</td>\n",
       "      <td>1.798386</td>\n",
       "      <td>3.553249</td>\n",
       "      <td>0.0</td>\n",
       "      <td>...</td>\n",
       "      <td>2.126058</td>\n",
       "      <td>0.0</td>\n",
       "      <td>0.0</td>\n",
       "      <td>0.0</td>\n",
       "      <td>3.697422</td>\n",
       "      <td>3.433194</td>\n",
       "      <td>4.052320</td>\n",
       "      <td>0.0</td>\n",
       "      <td>0.811061</td>\n",
       "      <td>1.889391e-01</td>\n",
       "    </tr>\n",
       "    <tr>\n",
       "      <th>2964</th>\n",
       "      <td>0</td>\n",
       "      <td>airplane</td>\n",
       "      <td>7.086511</td>\n",
       "      <td>0.0</td>\n",
       "      <td>2.103010</td>\n",
       "      <td>2.481065</td>\n",
       "      <td>4.569641</td>\n",
       "      <td>1.755021</td>\n",
       "      <td>2.309119</td>\n",
       "      <td>0.0</td>\n",
       "      <td>...</td>\n",
       "      <td>1.687791</td>\n",
       "      <td>0.0</td>\n",
       "      <td>0.0</td>\n",
       "      <td>0.0</td>\n",
       "      <td>1.370330</td>\n",
       "      <td>2.237924</td>\n",
       "      <td>3.345330</td>\n",
       "      <td>0.0</td>\n",
       "      <td>0.808438</td>\n",
       "      <td>1.915625e-01</td>\n",
       "    </tr>\n",
       "    <tr>\n",
       "      <th>776</th>\n",
       "      <td>2</td>\n",
       "      <td>bird</td>\n",
       "      <td>6.302533</td>\n",
       "      <td>0.0</td>\n",
       "      <td>0.223639</td>\n",
       "      <td>0.681934</td>\n",
       "      <td>4.083030</td>\n",
       "      <td>1.986957</td>\n",
       "      <td>2.722028</td>\n",
       "      <td>0.0</td>\n",
       "      <td>...</td>\n",
       "      <td>0.562570</td>\n",
       "      <td>0.0</td>\n",
       "      <td>0.0</td>\n",
       "      <td>0.0</td>\n",
       "      <td>1.023272</td>\n",
       "      <td>0.969308</td>\n",
       "      <td>1.209895</td>\n",
       "      <td>0.0</td>\n",
       "      <td>0.807325</td>\n",
       "      <td>1.926749e-01</td>\n",
       "    </tr>\n",
       "    <tr>\n",
       "      <th>4157</th>\n",
       "      <td>2</td>\n",
       "      <td>bird</td>\n",
       "      <td>10.080226</td>\n",
       "      <td>0.0</td>\n",
       "      <td>0.790569</td>\n",
       "      <td>3.385146</td>\n",
       "      <td>5.202886</td>\n",
       "      <td>3.585948</td>\n",
       "      <td>3.190608</td>\n",
       "      <td>0.0</td>\n",
       "      <td>...</td>\n",
       "      <td>0.867406</td>\n",
       "      <td>0.0</td>\n",
       "      <td>0.0</td>\n",
       "      <td>0.0</td>\n",
       "      <td>3.153260</td>\n",
       "      <td>1.943789</td>\n",
       "      <td>3.166806</td>\n",
       "      <td>0.0</td>\n",
       "      <td>0.806920</td>\n",
       "      <td>1.930799e-01</td>\n",
       "    </tr>\n",
       "  </tbody>\n",
       "</table>\n",
       "<p>10000 rows × 36 columns</p>\n",
       "</div>"
      ],
      "text/plain": [
       "      Class Class Name          0    1         2         3         4  \\\n",
       "68        3        cat   3.296398  0.0  2.844953  3.298851  4.225753   \n",
       "7918      4       deer   4.399259  0.0  3.042195  3.955928  4.703123   \n",
       "614       5        dog   4.001855  0.0  2.210523  2.457414  5.135218   \n",
       "4865      8       ship   5.866586  0.0  2.546844  3.330559  5.325206   \n",
       "1577      5        dog   4.087200  0.0  2.104430  2.246150  4.578339   \n",
       "...     ...        ...        ...  ...       ...       ...       ...   \n",
       "654       9      truck   6.888531  0.0  2.009237  0.885226  3.986479   \n",
       "4453      0   airplane  10.170266  0.0  2.559815  6.318613  5.793544   \n",
       "2964      0   airplane   7.086511  0.0  2.103010  2.481065  4.569641   \n",
       "776       2       bird   6.302533  0.0  0.223639  0.681934  4.083030   \n",
       "4157      2       bird  10.080226  0.0  0.790569  3.385146  5.202886   \n",
       "\n",
       "             5         6    7  ...        24   25   26   27        28  \\\n",
       "68    2.466478  3.590758  0.0  ...  2.048950  0.0  0.0  0.0  2.161148   \n",
       "7918  2.676510  3.902062  0.0  ...  2.771405  0.0  0.0  0.0  3.170142   \n",
       "614   2.665833  2.537163  0.0  ...  1.484941  0.0  0.0  0.0  2.518049   \n",
       "4865  3.575880  4.542340  0.0  ...  1.766250  0.0  0.0  0.0  2.587922   \n",
       "1577  1.695856  2.597050  0.0  ...  1.664665  0.0  0.0  0.0  1.929796   \n",
       "...        ...       ...  ...  ...       ...  ...  ...  ...       ...   \n",
       "654   2.591630  3.187825  0.0  ...  1.313882  0.0  0.0  0.0  0.963962   \n",
       "4453  1.798386  3.553249  0.0  ...  2.126058  0.0  0.0  0.0  3.697422   \n",
       "2964  1.755021  2.309119  0.0  ...  1.687791  0.0  0.0  0.0  1.370330   \n",
       "776   1.986957  2.722028  0.0  ...  0.562570  0.0  0.0  0.0  1.023272   \n",
       "4157  3.585948  3.190608  0.0  ...  0.867406  0.0  0.0  0.0  3.153260   \n",
       "\n",
       "            29        30   31  Cosine Similarity  Cosine Distance  \n",
       "68    2.488618  0.788361  0.0           1.000000     1.192093e-07  \n",
       "7918  1.750464  0.903369  0.0           0.983216     1.678389e-02  \n",
       "614   1.771911  1.005473  0.0           0.971662     2.833778e-02  \n",
       "4865  3.159706  1.393708  0.0           0.969582     3.041786e-02  \n",
       "1577  2.409111  1.904521  0.0           0.969397     3.060341e-02  \n",
       "...        ...       ...  ...                ...              ...  \n",
       "654   1.044221  0.937177  0.0           0.813830     1.861702e-01  \n",
       "4453  3.433194  4.052320  0.0           0.811061     1.889391e-01  \n",
       "2964  2.237924  3.345330  0.0           0.808438     1.915625e-01  \n",
       "776   0.969308  1.209895  0.0           0.807325     1.926749e-01  \n",
       "4157  1.943789  3.166806  0.0           0.806920     1.930799e-01  \n",
       "\n",
       "[10000 rows x 36 columns]"
      ]
     },
     "execution_count": 25,
     "metadata": {},
     "output_type": "execute_result"
    }
   ],
   "source": [
    "final_encoded_test_data_df.sort_values(by = ['Cosine Similarity'], ascending = False)"
   ]
  },
  {
   "cell_type": "code",
   "execution_count": 26,
   "metadata": {},
   "outputs": [],
   "source": [
    "cosine_index = final_encoded_test_data_df.sort_values(by = ['Cosine Similarity'], ascending = False).head(10).index"
   ]
  },
  {
   "cell_type": "code",
   "execution_count": 27,
   "metadata": {
    "scrolled": true
   },
   "outputs": [
    {
     "data": {
      "image/png": "[encoded data removed]",
      "text/plain": [
       "<Figure size 144x144 with 1 Axes>"
      ]
     },
     "metadata": {
      "needs_background": "light"
     },
     "output_type": "display_data"
    },
    {
     "data": {
      "image/png": "[encoded data removed]",
      "text/plain": [
       "<Figure size 144x144 with 1 Axes>"
      ]
     },
     "metadata": {
      "needs_background": "light"
     },
     "output_type": "display_data"
    },
    {
     "data": {
      "image/png": "[encoded data removed]",
      "text/plain": [
       "<Figure size 144x144 with 1 Axes>"
      ]
     },
     "metadata": {
      "needs_background": "light"
     },
     "output_type": "display_data"
    },
    {
     "data": {
      "image/png": "[encoded data removed]",
      "text/plain": [
       "<Figure size 144x144 with 1 Axes>"
      ]
     },
     "metadata": {
      "needs_background": "light"
     },
     "output_type": "display_data"
    },
    {
     "data": {
      "image/png": "[encoded data removed]",
      "text/plain": [
       "<Figure size 144x144 with 1 Axes>"
      ]
     },
     "metadata": {
      "needs_background": "light"
     },
     "output_type": "display_data"
    },
    {
     "data": {
      "image/png": "[encoded data removed]",
      "text/plain": [
       "<Figure size 144x144 with 1 Axes>"
      ]
     },
     "metadata": {
      "needs_background": "light"
     },
     "output_type": "display_data"
    },
    {
     "data": {
      "image/png": "[encoded data removed]",
      "text/plain": [
       "<Figure size 144x144 with 1 Axes>"
      ]
     },
     "metadata": {
      "needs_background": "light"
     },
     "output_type": "display_data"
    },
    {
     "data": {
      "image/png": "[encoded data removed]",
      "text/plain": [
       "<Figure size 144x144 with 1 Axes>"
      ]
     },
     "metadata": {
      "needs_background": "light"
     },
     "output_type": "display_data"
    },
    {
     "data": {
      "image/png": "[encoded data removed]",
      "text/plain": [
       "<Figure size 144x144 with 1 Axes>"
      ]
     },
     "metadata": {
      "needs_background": "light"
     },
     "output_type": "display_data"
    },
    {
     "data": {
      "image/png": "[encoded data removed]",
      "text/plain": [
       "<Figure size 144x144 with 1 Axes>"
      ]
     },
     "metadata": {
      "needs_background": "light"
     },
     "output_type": "display_data"
    }
   ],
   "source": [
    "for i in cosine_index:\n",
    "    plt.figure(figsize = (2, 2))\n",
    "    plt.imshow(x_test[i].reshape(32, 32, 3))\n",
    "    plt.xlabel(final_encoded_test_data_df['Class Name'][i] + ' with a Cosine Similarity of ' + str(final_encoded_test_data_df['Cosine Similarity'][i]) + ' from the queried image.')\n",
    "    plt.show()"
   ]
  },
  {
   "cell_type": "code",
   "execution_count": 28,
   "metadata": {},
   "outputs": [
    {
     "name": "stdout",
     "output_type": "stream",
     "text": [
      "10000\n"
     ]
    }
   ],
   "source": [
    "euclidean_distance = []\n",
    "\n",
    "for i in range(len(x_test)):\n",
    "    a = final_encoded_test_data_df.loc[final_encoded_test_data_df['Class Name'] == input_val].iloc[int(input_num), 2:]\n",
    "    b = final_encoded_test_data_df.iloc[i, 2:]\n",
    "    euc_dist = np.linalg.norm(a-b)\n",
    "    euclidean_distance.append(euc_dist)\n",
    "print(len(euclidean_distance))"
   ]
  },
  {
   "cell_type": "code",
   "execution_count": 29,
   "metadata": {},
   "outputs": [
    {
     "data": {
      "text/html": [
       "<div>\n",
       "<style scoped>\n",
       "    .dataframe tbody tr th:only-of-type {\n",
       "        vertical-align: middle;\n",
       "    }\n",
       "\n",
       "    .dataframe tbody tr th {\n",
       "        vertical-align: top;\n",
       "    }\n",
       "\n",
       "    .dataframe thead th {\n",
       "        text-align: right;\n",
       "    }\n",
       "</style>\n",
       "<table border=\"1\" class=\"dataframe\">\n",
       "  <thead>\n",
       "    <tr style=\"text-align: right;\">\n",
       "      <th></th>\n",
       "      <th>Class</th>\n",
       "      <th>Class Name</th>\n",
       "      <th>0</th>\n",
       "      <th>1</th>\n",
       "      <th>2</th>\n",
       "      <th>3</th>\n",
       "      <th>4</th>\n",
       "      <th>5</th>\n",
       "      <th>6</th>\n",
       "      <th>7</th>\n",
       "      <th>...</th>\n",
       "      <th>25</th>\n",
       "      <th>26</th>\n",
       "      <th>27</th>\n",
       "      <th>28</th>\n",
       "      <th>29</th>\n",
       "      <th>30</th>\n",
       "      <th>31</th>\n",
       "      <th>Cosine Similarity</th>\n",
       "      <th>Cosine Distance</th>\n",
       "      <th>Euclidean Distance</th>\n",
       "    </tr>\n",
       "  </thead>\n",
       "  <tbody>\n",
       "    <tr>\n",
       "      <th>68</th>\n",
       "      <td>3</td>\n",
       "      <td>cat</td>\n",
       "      <td>3.296398</td>\n",
       "      <td>0.0</td>\n",
       "      <td>2.844953</td>\n",
       "      <td>3.298851</td>\n",
       "      <td>4.225753</td>\n",
       "      <td>2.466478</td>\n",
       "      <td>3.590758</td>\n",
       "      <td>0.0</td>\n",
       "      <td>...</td>\n",
       "      <td>0.0</td>\n",
       "      <td>0.0</td>\n",
       "      <td>0.0</td>\n",
       "      <td>2.161148</td>\n",
       "      <td>2.488618</td>\n",
       "      <td>0.788361</td>\n",
       "      <td>0.0</td>\n",
       "      <td>1.000000</td>\n",
       "      <td>1.192093e-07</td>\n",
       "      <td>0.000000</td>\n",
       "    </tr>\n",
       "    <tr>\n",
       "      <th>614</th>\n",
       "      <td>5</td>\n",
       "      <td>dog</td>\n",
       "      <td>4.001855</td>\n",
       "      <td>0.0</td>\n",
       "      <td>2.210523</td>\n",
       "      <td>2.457414</td>\n",
       "      <td>5.135218</td>\n",
       "      <td>2.665833</td>\n",
       "      <td>2.537163</td>\n",
       "      <td>0.0</td>\n",
       "      <td>...</td>\n",
       "      <td>0.0</td>\n",
       "      <td>0.0</td>\n",
       "      <td>0.0</td>\n",
       "      <td>2.518049</td>\n",
       "      <td>1.771911</td>\n",
       "      <td>1.005473</td>\n",
       "      <td>0.0</td>\n",
       "      <td>0.971662</td>\n",
       "      <td>2.833778e-02</td>\n",
       "      <td>3.079755</td>\n",
       "    </tr>\n",
       "    <tr>\n",
       "      <th>7846</th>\n",
       "      <td>6</td>\n",
       "      <td>frog</td>\n",
       "      <td>3.169492</td>\n",
       "      <td>0.0</td>\n",
       "      <td>2.577035</td>\n",
       "      <td>1.954658</td>\n",
       "      <td>4.127039</td>\n",
       "      <td>1.244488</td>\n",
       "      <td>2.448023</td>\n",
       "      <td>0.0</td>\n",
       "      <td>...</td>\n",
       "      <td>0.0</td>\n",
       "      <td>0.0</td>\n",
       "      <td>0.0</td>\n",
       "      <td>2.132016</td>\n",
       "      <td>1.820659</td>\n",
       "      <td>0.782476</td>\n",
       "      <td>0.0</td>\n",
       "      <td>0.968726</td>\n",
       "      <td>3.127366e-02</td>\n",
       "      <td>3.232799</td>\n",
       "    </tr>\n",
       "    <tr>\n",
       "      <th>2854</th>\n",
       "      <td>9</td>\n",
       "      <td>truck</td>\n",
       "      <td>4.641001</td>\n",
       "      <td>0.0</td>\n",
       "      <td>3.067554</td>\n",
       "      <td>3.359636</td>\n",
       "      <td>5.076734</td>\n",
       "      <td>2.598425</td>\n",
       "      <td>3.415637</td>\n",
       "      <td>0.0</td>\n",
       "      <td>...</td>\n",
       "      <td>0.0</td>\n",
       "      <td>0.0</td>\n",
       "      <td>0.0</td>\n",
       "      <td>1.189255</td>\n",
       "      <td>2.525716</td>\n",
       "      <td>1.433203</td>\n",
       "      <td>0.0</td>\n",
       "      <td>0.969111</td>\n",
       "      <td>3.088892e-02</td>\n",
       "      <td>3.274676</td>\n",
       "    </tr>\n",
       "    <tr>\n",
       "      <th>1577</th>\n",
       "      <td>5</td>\n",
       "      <td>dog</td>\n",
       "      <td>4.087200</td>\n",
       "      <td>0.0</td>\n",
       "      <td>2.104430</td>\n",
       "      <td>2.246150</td>\n",
       "      <td>4.578339</td>\n",
       "      <td>1.695856</td>\n",
       "      <td>2.597050</td>\n",
       "      <td>0.0</td>\n",
       "      <td>...</td>\n",
       "      <td>0.0</td>\n",
       "      <td>0.0</td>\n",
       "      <td>0.0</td>\n",
       "      <td>1.929796</td>\n",
       "      <td>2.409111</td>\n",
       "      <td>1.904521</td>\n",
       "      <td>0.0</td>\n",
       "      <td>0.969397</td>\n",
       "      <td>3.060341e-02</td>\n",
       "      <td>3.374352</td>\n",
       "    </tr>\n",
       "    <tr>\n",
       "      <th>...</th>\n",
       "      <td>...</td>\n",
       "      <td>...</td>\n",
       "      <td>...</td>\n",
       "      <td>...</td>\n",
       "      <td>...</td>\n",
       "      <td>...</td>\n",
       "      <td>...</td>\n",
       "      <td>...</td>\n",
       "      <td>...</td>\n",
       "      <td>...</td>\n",
       "      <td>...</td>\n",
       "      <td>...</td>\n",
       "      <td>...</td>\n",
       "      <td>...</td>\n",
       "      <td>...</td>\n",
       "      <td>...</td>\n",
       "      <td>...</td>\n",
       "      <td>...</td>\n",
       "      <td>...</td>\n",
       "      <td>...</td>\n",
       "      <td>...</td>\n",
       "    </tr>\n",
       "    <tr>\n",
       "      <th>6234</th>\n",
       "      <td>7</td>\n",
       "      <td>horse</td>\n",
       "      <td>3.924372</td>\n",
       "      <td>0.0</td>\n",
       "      <td>3.396726</td>\n",
       "      <td>6.628153</td>\n",
       "      <td>10.533041</td>\n",
       "      <td>1.558800</td>\n",
       "      <td>3.099807</td>\n",
       "      <td>0.0</td>\n",
       "      <td>...</td>\n",
       "      <td>0.0</td>\n",
       "      <td>0.0</td>\n",
       "      <td>0.0</td>\n",
       "      <td>3.828417</td>\n",
       "      <td>2.498273</td>\n",
       "      <td>0.367633</td>\n",
       "      <td>0.0</td>\n",
       "      <td>0.883078</td>\n",
       "      <td>1.169217e-01</td>\n",
       "      <td>19.797719</td>\n",
       "    </tr>\n",
       "    <tr>\n",
       "      <th>1494</th>\n",
       "      <td>7</td>\n",
       "      <td>horse</td>\n",
       "      <td>9.141053</td>\n",
       "      <td>0.0</td>\n",
       "      <td>5.272693</td>\n",
       "      <td>3.150587</td>\n",
       "      <td>13.069836</td>\n",
       "      <td>3.037199</td>\n",
       "      <td>2.946002</td>\n",
       "      <td>0.0</td>\n",
       "      <td>...</td>\n",
       "      <td>0.0</td>\n",
       "      <td>0.0</td>\n",
       "      <td>0.0</td>\n",
       "      <td>2.997561</td>\n",
       "      <td>5.120746</td>\n",
       "      <td>2.765110</td>\n",
       "      <td>0.0</td>\n",
       "      <td>0.912047</td>\n",
       "      <td>8.795333e-02</td>\n",
       "      <td>20.875885</td>\n",
       "    </tr>\n",
       "    <tr>\n",
       "      <th>2754</th>\n",
       "      <td>9</td>\n",
       "      <td>truck</td>\n",
       "      <td>7.655860</td>\n",
       "      <td>0.0</td>\n",
       "      <td>2.991053</td>\n",
       "      <td>4.956799</td>\n",
       "      <td>12.043975</td>\n",
       "      <td>1.743257</td>\n",
       "      <td>5.631248</td>\n",
       "      <td>0.0</td>\n",
       "      <td>...</td>\n",
       "      <td>0.0</td>\n",
       "      <td>0.0</td>\n",
       "      <td>0.0</td>\n",
       "      <td>5.945540</td>\n",
       "      <td>2.246086</td>\n",
       "      <td>0.764658</td>\n",
       "      <td>0.0</td>\n",
       "      <td>0.873296</td>\n",
       "      <td>1.267036e-01</td>\n",
       "      <td>22.446197</td>\n",
       "    </tr>\n",
       "    <tr>\n",
       "      <th>6315</th>\n",
       "      <td>6</td>\n",
       "      <td>frog</td>\n",
       "      <td>9.374452</td>\n",
       "      <td>0.0</td>\n",
       "      <td>2.115446</td>\n",
       "      <td>4.159023</td>\n",
       "      <td>13.439722</td>\n",
       "      <td>2.010870</td>\n",
       "      <td>2.669912</td>\n",
       "      <td>0.0</td>\n",
       "      <td>...</td>\n",
       "      <td>0.0</td>\n",
       "      <td>0.0</td>\n",
       "      <td>0.0</td>\n",
       "      <td>7.050756</td>\n",
       "      <td>4.461030</td>\n",
       "      <td>3.216816</td>\n",
       "      <td>0.0</td>\n",
       "      <td>0.884348</td>\n",
       "      <td>1.156517e-01</td>\n",
       "      <td>25.753089</td>\n",
       "    </tr>\n",
       "    <tr>\n",
       "      <th>8595</th>\n",
       "      <td>1</td>\n",
       "      <td>automobile</td>\n",
       "      <td>10.011267</td>\n",
       "      <td>0.0</td>\n",
       "      <td>1.839080</td>\n",
       "      <td>4.630849</td>\n",
       "      <td>11.402830</td>\n",
       "      <td>2.580908</td>\n",
       "      <td>4.467840</td>\n",
       "      <td>0.0</td>\n",
       "      <td>...</td>\n",
       "      <td>0.0</td>\n",
       "      <td>0.0</td>\n",
       "      <td>0.0</td>\n",
       "      <td>6.677999</td>\n",
       "      <td>3.386723</td>\n",
       "      <td>2.583029</td>\n",
       "      <td>0.0</td>\n",
       "      <td>0.877270</td>\n",
       "      <td>1.227297e-01</td>\n",
       "      <td>26.114442</td>\n",
       "    </tr>\n",
       "  </tbody>\n",
       "</table>\n",
       "<p>10000 rows × 37 columns</p>\n",
       "</div>"
      ],
      "text/plain": [
       "      Class  Class Name          0    1         2         3          4  \\\n",
       "68        3         cat   3.296398  0.0  2.844953  3.298851   4.225753   \n",
       "614       5         dog   4.001855  0.0  2.210523  2.457414   5.135218   \n",
       "7846      6        frog   3.169492  0.0  2.577035  1.954658   4.127039   \n",
       "2854      9       truck   4.641001  0.0  3.067554  3.359636   5.076734   \n",
       "1577      5         dog   4.087200  0.0  2.104430  2.246150   4.578339   \n",
       "...     ...         ...        ...  ...       ...       ...        ...   \n",
       "6234      7       horse   3.924372  0.0  3.396726  6.628153  10.533041   \n",
       "1494      7       horse   9.141053  0.0  5.272693  3.150587  13.069836   \n",
       "2754      9       truck   7.655860  0.0  2.991053  4.956799  12.043975   \n",
       "6315      6        frog   9.374452  0.0  2.115446  4.159023  13.439722   \n",
       "8595      1  automobile  10.011267  0.0  1.839080  4.630849  11.402830   \n",
       "\n",
       "             5         6    7  ...   25   26   27        28        29  \\\n",
       "68    2.466478  3.590758  0.0  ...  0.0  0.0  0.0  2.161148  2.488618   \n",
       "614   2.665833  2.537163  0.0  ...  0.0  0.0  0.0  2.518049  1.771911   \n",
       "7846  1.244488  2.448023  0.0  ...  0.0  0.0  0.0  2.132016  1.820659   \n",
       "2854  2.598425  3.415637  0.0  ...  0.0  0.0  0.0  1.189255  2.525716   \n",
       "1577  1.695856  2.597050  0.0  ...  0.0  0.0  0.0  1.929796  2.409111   \n",
       "...        ...       ...  ...  ...  ...  ...  ...       ...       ...   \n",
       "6234  1.558800  3.099807  0.0  ...  0.0  0.0  0.0  3.828417  2.498273   \n",
       "1494  3.037199  2.946002  0.0  ...  0.0  0.0  0.0  2.997561  5.120746   \n",
       "2754  1.743257  5.631248  0.0  ...  0.0  0.0  0.0  5.945540  2.246086   \n",
       "6315  2.010870  2.669912  0.0  ...  0.0  0.0  0.0  7.050756  4.461030   \n",
       "8595  2.580908  4.467840  0.0  ...  0.0  0.0  0.0  6.677999  3.386723   \n",
       "\n",
       "            30   31  Cosine Similarity  Cosine Distance  Euclidean Distance  \n",
       "68    0.788361  0.0           1.000000     1.192093e-07            0.000000  \n",
       "614   1.005473  0.0           0.971662     2.833778e-02            3.079755  \n",
       "7846  0.782476  0.0           0.968726     3.127366e-02            3.232799  \n",
       "2854  1.433203  0.0           0.969111     3.088892e-02            3.274676  \n",
       "1577  1.904521  0.0           0.969397     3.060341e-02            3.374352  \n",
       "...        ...  ...                ...              ...                 ...  \n",
       "6234  0.367633  0.0           0.883078     1.169217e-01           19.797719  \n",
       "1494  2.765110  0.0           0.912047     8.795333e-02           20.875885  \n",
       "2754  0.764658  0.0           0.873296     1.267036e-01           22.446197  \n",
       "6315  3.216816  0.0           0.884348     1.156517e-01           25.753089  \n",
       "8595  2.583029  0.0           0.877270     1.227297e-01           26.114442  \n",
       "\n",
       "[10000 rows x 37 columns]"
      ]
     },
     "execution_count": 29,
     "metadata": {},
     "output_type": "execute_result"
    }
   ],
   "source": [
    "final_encoded_test_data_df['Euclidean Distance'] = euclidean_distance\n",
    "final_encoded_test_data_df.sort_values(by = ['Euclidean Distance'])"
   ]
  },
  {
   "cell_type": "code",
   "execution_count": 30,
   "metadata": {
    "scrolled": true
   },
   "outputs": [
    {
     "data": {
      "image/png": "[encoded data removed]",
      "text/plain": [
       "<Figure size 144x144 with 1 Axes>"
      ]
     },
     "metadata": {
      "needs_background": "light"
     },
     "output_type": "display_data"
    },
    {
     "data": {
      "image/png": "[encoded data removed]",
      "text/plain": [
       "<Figure size 144x144 with 1 Axes>"
      ]
     },
     "metadata": {
      "needs_background": "light"
     },
     "output_type": "display_data"
    },
    {
     "data": {
      "image/png": "[encoded data removed]",
      "text/plain": [
       "<Figure size 144x144 with 1 Axes>"
      ]
     },
     "metadata": {
      "needs_background": "light"
     },
     "output_type": "display_data"
    },
    {
     "data": {
      "image/png": "[encoded data removed]",
      "text/plain": [
       "<Figure size 144x144 with 1 Axes>"
      ]
     },
     "metadata": {
      "needs_background": "light"
     },
     "output_type": "display_data"
    },
    {
     "data": {
      "image/png": "[encoded data removed]",
      "text/plain": [
       "<Figure size 144x144 with 1 Axes>"
      ]
     },
     "metadata": {
      "needs_background": "light"
     },
     "output_type": "display_data"
    },
    {
     "data": {
      "image/png": "[encoded data removed]",
      "text/plain": [
       "<Figure size 144x144 with 1 Axes>"
      ]
     },
     "metadata": {
      "needs_background": "light"
     },
     "output_type": "display_data"
    },
    {
     "data": {
      "image/png": "[encoded data removed]",
      "text/plain": [
       "<Figure size 144x144 with 1 Axes>"
      ]
     },
     "metadata": {
      "needs_background": "light"
     },
     "output_type": "display_data"
    },
    {
     "data": {
      "image/png": "[encoded data removed]",
      "text/plain": [
       "<Figure size 144x144 with 1 Axes>"
      ]
     },
     "metadata": {
      "needs_background": "light"
     },
     "output_type": "display_data"
    },
    {
     "data": {
      "image/png": "[encoded data removed]",
      "text/plain": [
       "<Figure size 144x144 with 1 Axes>"
      ]
     },
     "metadata": {
      "needs_background": "light"
     },
     "output_type": "display_data"
    },
    {
     "data": {
      "image/png": "[encoded data removed]",
      "text/plain": [
       "<Figure size 144x144 with 1 Axes>"
      ]
     },
     "metadata": {
      "needs_background": "light"
     },
     "output_type": "display_data"
    }
   ],
   "source": [
    "euclidean_index = final_encoded_test_data_df.sort_values(by = ['Euclidean Distance']).head(10).index\n",
    "\n",
    "for i in euclidean_index:\n",
    "    plt.figure(figsize = (2, 2))\n",
    "    plt.imshow(x_test[i].reshape(32, 32, 3))\n",
    "    plt.xlabel(final_encoded_test_data_df['Class Name'][i] + ' with an Euclidean Distance of ' + str(final_encoded_test_data_df['Euclidean Distance'][i]) + ' from the queried image.')\n",
    "    plt.show()"
   ]
  },
  {
   "cell_type": "code",
   "execution_count": null,
   "metadata": {},
   "outputs": [],
   "source": []
  }
 ],
 "metadata": {
  "kernelspec": {
   "display_name": "Python 3",
   "language": "python",
   "name": "python3"
  },
  "language_info": {
   "codemirror_mode": {
    "name": "ipython",
    "version": 3
   },
   "file_extension": ".py",
   "mimetype": "text/x-python",
   "name": "python",
   "nbconvert_exporter": "python",
   "pygments_lexer": "ipython3",
   "version": "3.6.9"
  }
 },
 "nbformat": 4,
 "nbformat_minor": 2
}
