{
 "cells": [
  {
   "cell_type": "code",
   "execution_count": 2,
   "metadata": {},
   "outputs": [],
   "source": [
    "from keras.layers import Input, Dense\n",
    "from keras.models import Model\n",
    "\n",
    "import numpy as np\n",
    "import pandas as pd\n",
    "import matplotlib.pyplot as plt\n",
    "%matplotlib inline"
   ]
  },
  {
   "cell_type": "code",
   "execution_count": 3,
   "metadata": {},
   "outputs": [
    {
     "name": "stdout",
     "output_type": "stream",
     "text": [
      "(50000, 3074)\n",
      "(10000, 3074)\n"
     ]
    }
   ],
   "source": [
    "datadir = '/Users/sidv88/Documents/Data_Management_2/Data/'\n",
    "train_data = pd.read_csv(datadir + 'train_rgb.csv')\n",
    "test_data = pd.read_csv(datadir + 'test_rgb.csv')\n",
    "print(train_data.shape)\n",
    "print(test_data.shape)"
   ]
  },
  {
   "cell_type": "code",
   "execution_count": 4,
   "metadata": {},
   "outputs": [
    {
     "data": {
      "text/html": [
       "<div>\n",
       "<style scoped>\n",
       "    .dataframe tbody tr th:only-of-type {\n",
       "        vertical-align: middle;\n",
       "    }\n",
       "\n",
       "    .dataframe tbody tr th {\n",
       "        vertical-align: top;\n",
       "    }\n",
       "\n",
       "    .dataframe thead th {\n",
       "        text-align: right;\n",
       "    }\n",
       "</style>\n",
       "<table border=\"1\" class=\"dataframe\">\n",
       "  <thead>\n",
       "    <tr style=\"text-align: right;\">\n",
       "      <th></th>\n",
       "      <th>Class</th>\n",
       "      <th>Class Name</th>\n",
       "      <th>0</th>\n",
       "      <th>1</th>\n",
       "      <th>2</th>\n",
       "      <th>3</th>\n",
       "      <th>4</th>\n",
       "      <th>5</th>\n",
       "      <th>6</th>\n",
       "      <th>7</th>\n",
       "      <th>...</th>\n",
       "      <th>3062</th>\n",
       "      <th>3063</th>\n",
       "      <th>3064</th>\n",
       "      <th>3065</th>\n",
       "      <th>3066</th>\n",
       "      <th>3067</th>\n",
       "      <th>3068</th>\n",
       "      <th>3069</th>\n",
       "      <th>3070</th>\n",
       "      <th>3071</th>\n",
       "    </tr>\n",
       "  </thead>\n",
       "  <tbody>\n",
       "    <tr>\n",
       "      <th>0</th>\n",
       "      <td>6</td>\n",
       "      <td>frog</td>\n",
       "      <td>59</td>\n",
       "      <td>62</td>\n",
       "      <td>63</td>\n",
       "      <td>43</td>\n",
       "      <td>46</td>\n",
       "      <td>45</td>\n",
       "      <td>50</td>\n",
       "      <td>48</td>\n",
       "      <td>...</td>\n",
       "      <td>104</td>\n",
       "      <td>216</td>\n",
       "      <td>184</td>\n",
       "      <td>140</td>\n",
       "      <td>151</td>\n",
       "      <td>118</td>\n",
       "      <td>84</td>\n",
       "      <td>123</td>\n",
       "      <td>92</td>\n",
       "      <td>72</td>\n",
       "    </tr>\n",
       "    <tr>\n",
       "      <th>1</th>\n",
       "      <td>9</td>\n",
       "      <td>truck</td>\n",
       "      <td>154</td>\n",
       "      <td>177</td>\n",
       "      <td>187</td>\n",
       "      <td>126</td>\n",
       "      <td>137</td>\n",
       "      <td>136</td>\n",
       "      <td>105</td>\n",
       "      <td>104</td>\n",
       "      <td>...</td>\n",
       "      <td>136</td>\n",
       "      <td>143</td>\n",
       "      <td>133</td>\n",
       "      <td>139</td>\n",
       "      <td>143</td>\n",
       "      <td>134</td>\n",
       "      <td>142</td>\n",
       "      <td>143</td>\n",
       "      <td>133</td>\n",
       "      <td>144</td>\n",
       "    </tr>\n",
       "    <tr>\n",
       "      <th>2</th>\n",
       "      <td>9</td>\n",
       "      <td>truck</td>\n",
       "      <td>255</td>\n",
       "      <td>255</td>\n",
       "      <td>255</td>\n",
       "      <td>253</td>\n",
       "      <td>253</td>\n",
       "      <td>253</td>\n",
       "      <td>253</td>\n",
       "      <td>253</td>\n",
       "      <td>...</td>\n",
       "      <td>79</td>\n",
       "      <td>78</td>\n",
       "      <td>85</td>\n",
       "      <td>83</td>\n",
       "      <td>79</td>\n",
       "      <td>85</td>\n",
       "      <td>83</td>\n",
       "      <td>80</td>\n",
       "      <td>86</td>\n",
       "      <td>84</td>\n",
       "    </tr>\n",
       "    <tr>\n",
       "      <th>3</th>\n",
       "      <td>4</td>\n",
       "      <td>deer</td>\n",
       "      <td>28</td>\n",
       "      <td>25</td>\n",
       "      <td>10</td>\n",
       "      <td>37</td>\n",
       "      <td>34</td>\n",
       "      <td>19</td>\n",
       "      <td>38</td>\n",
       "      <td>35</td>\n",
       "      <td>...</td>\n",
       "      <td>38</td>\n",
       "      <td>54</td>\n",
       "      <td>47</td>\n",
       "      <td>28</td>\n",
       "      <td>63</td>\n",
       "      <td>56</td>\n",
       "      <td>37</td>\n",
       "      <td>72</td>\n",
       "      <td>65</td>\n",
       "      <td>46</td>\n",
       "    </tr>\n",
       "    <tr>\n",
       "      <th>4</th>\n",
       "      <td>1</td>\n",
       "      <td>automobile</td>\n",
       "      <td>170</td>\n",
       "      <td>180</td>\n",
       "      <td>198</td>\n",
       "      <td>168</td>\n",
       "      <td>178</td>\n",
       "      <td>196</td>\n",
       "      <td>177</td>\n",
       "      <td>185</td>\n",
       "      <td>...</td>\n",
       "      <td>78</td>\n",
       "      <td>75</td>\n",
       "      <td>79</td>\n",
       "      <td>82</td>\n",
       "      <td>71</td>\n",
       "      <td>75</td>\n",
       "      <td>78</td>\n",
       "      <td>73</td>\n",
       "      <td>77</td>\n",
       "      <td>80</td>\n",
       "    </tr>\n",
       "  </tbody>\n",
       "</table>\n",
       "<p>5 rows × 3074 columns</p>\n",
       "</div>"
      ],
      "text/plain": [
       "   Class  Class Name    0    1    2    3    4    5    6    7  ...  3062  3063  \\\n",
       "0      6        frog   59   62   63   43   46   45   50   48  ...   104   216   \n",
       "1      9       truck  154  177  187  126  137  136  105  104  ...   136   143   \n",
       "2      9       truck  255  255  255  253  253  253  253  253  ...    79    78   \n",
       "3      4        deer   28   25   10   37   34   19   38   35  ...    38    54   \n",
       "4      1  automobile  170  180  198  168  178  196  177  185  ...    78    75   \n",
       "\n",
       "   3064  3065  3066  3067  3068  3069  3070  3071  \n",
       "0   184   140   151   118    84   123    92    72  \n",
       "1   133   139   143   134   142   143   133   144  \n",
       "2    85    83    79    85    83    80    86    84  \n",
       "3    47    28    63    56    37    72    65    46  \n",
       "4    79    82    71    75    78    73    77    80  \n",
       "\n",
       "[5 rows x 3074 columns]"
      ]
     },
     "execution_count": 4,
     "metadata": {},
     "output_type": "execute_result"
    }
   ],
   "source": [
    "train_data.head()"
   ]
  },
  {
   "cell_type": "code",
   "execution_count": 5,
   "metadata": {},
   "outputs": [
    {
     "data": {
      "text/html": [
       "<div>\n",
       "<style scoped>\n",
       "    .dataframe tbody tr th:only-of-type {\n",
       "        vertical-align: middle;\n",
       "    }\n",
       "\n",
       "    .dataframe tbody tr th {\n",
       "        vertical-align: top;\n",
       "    }\n",
       "\n",
       "    .dataframe thead th {\n",
       "        text-align: right;\n",
       "    }\n",
       "</style>\n",
       "<table border=\"1\" class=\"dataframe\">\n",
       "  <thead>\n",
       "    <tr style=\"text-align: right;\">\n",
       "      <th></th>\n",
       "      <th>Class</th>\n",
       "      <th>Class Name</th>\n",
       "      <th>0</th>\n",
       "      <th>1</th>\n",
       "      <th>2</th>\n",
       "      <th>3</th>\n",
       "      <th>4</th>\n",
       "      <th>5</th>\n",
       "      <th>6</th>\n",
       "      <th>7</th>\n",
       "      <th>...</th>\n",
       "      <th>3062</th>\n",
       "      <th>3063</th>\n",
       "      <th>3064</th>\n",
       "      <th>3065</th>\n",
       "      <th>3066</th>\n",
       "      <th>3067</th>\n",
       "      <th>3068</th>\n",
       "      <th>3069</th>\n",
       "      <th>3070</th>\n",
       "      <th>3071</th>\n",
       "    </tr>\n",
       "  </thead>\n",
       "  <tbody>\n",
       "    <tr>\n",
       "      <th>0</th>\n",
       "      <td>3</td>\n",
       "      <td>cat</td>\n",
       "      <td>158</td>\n",
       "      <td>112</td>\n",
       "      <td>49</td>\n",
       "      <td>159</td>\n",
       "      <td>111</td>\n",
       "      <td>47</td>\n",
       "      <td>165</td>\n",
       "      <td>116</td>\n",
       "      <td>...</td>\n",
       "      <td>145</td>\n",
       "      <td>24</td>\n",
       "      <td>77</td>\n",
       "      <td>124</td>\n",
       "      <td>34</td>\n",
       "      <td>84</td>\n",
       "      <td>129</td>\n",
       "      <td>21</td>\n",
       "      <td>67</td>\n",
       "      <td>110</td>\n",
       "    </tr>\n",
       "    <tr>\n",
       "      <th>1</th>\n",
       "      <td>8</td>\n",
       "      <td>ship</td>\n",
       "      <td>235</td>\n",
       "      <td>235</td>\n",
       "      <td>235</td>\n",
       "      <td>231</td>\n",
       "      <td>231</td>\n",
       "      <td>231</td>\n",
       "      <td>232</td>\n",
       "      <td>232</td>\n",
       "      <td>...</td>\n",
       "      <td>163</td>\n",
       "      <td>168</td>\n",
       "      <td>183</td>\n",
       "      <td>178</td>\n",
       "      <td>180</td>\n",
       "      <td>195</td>\n",
       "      <td>191</td>\n",
       "      <td>186</td>\n",
       "      <td>200</td>\n",
       "      <td>199</td>\n",
       "    </tr>\n",
       "    <tr>\n",
       "      <th>2</th>\n",
       "      <td>8</td>\n",
       "      <td>ship</td>\n",
       "      <td>158</td>\n",
       "      <td>190</td>\n",
       "      <td>222</td>\n",
       "      <td>158</td>\n",
       "      <td>187</td>\n",
       "      <td>218</td>\n",
       "      <td>139</td>\n",
       "      <td>166</td>\n",
       "      <td>...</td>\n",
       "      <td>37</td>\n",
       "      <td>5</td>\n",
       "      <td>6</td>\n",
       "      <td>8</td>\n",
       "      <td>4</td>\n",
       "      <td>5</td>\n",
       "      <td>3</td>\n",
       "      <td>7</td>\n",
       "      <td>8</td>\n",
       "      <td>7</td>\n",
       "    </tr>\n",
       "    <tr>\n",
       "      <th>3</th>\n",
       "      <td>0</td>\n",
       "      <td>airplane</td>\n",
       "      <td>155</td>\n",
       "      <td>156</td>\n",
       "      <td>149</td>\n",
       "      <td>167</td>\n",
       "      <td>176</td>\n",
       "      <td>187</td>\n",
       "      <td>176</td>\n",
       "      <td>179</td>\n",
       "      <td>...</td>\n",
       "      <td>53</td>\n",
       "      <td>60</td>\n",
       "      <td>63</td>\n",
       "      <td>50</td>\n",
       "      <td>64</td>\n",
       "      <td>65</td>\n",
       "      <td>52</td>\n",
       "      <td>73</td>\n",
       "      <td>68</td>\n",
       "      <td>50</td>\n",
       "    </tr>\n",
       "    <tr>\n",
       "      <th>4</th>\n",
       "      <td>6</td>\n",
       "      <td>frog</td>\n",
       "      <td>65</td>\n",
       "      <td>68</td>\n",
       "      <td>50</td>\n",
       "      <td>70</td>\n",
       "      <td>81</td>\n",
       "      <td>64</td>\n",
       "      <td>48</td>\n",
       "      <td>64</td>\n",
       "      <td>...</td>\n",
       "      <td>147</td>\n",
       "      <td>143</td>\n",
       "      <td>179</td>\n",
       "      <td>136</td>\n",
       "      <td>154</td>\n",
       "      <td>185</td>\n",
       "      <td>146</td>\n",
       "      <td>128</td>\n",
       "      <td>156</td>\n",
       "      <td>117</td>\n",
       "    </tr>\n",
       "  </tbody>\n",
       "</table>\n",
       "<p>5 rows × 3074 columns</p>\n",
       "</div>"
      ],
      "text/plain": [
       "   Class Class Name    0    1    2    3    4    5    6    7  ...  3062  3063  \\\n",
       "0      3        cat  158  112   49  159  111   47  165  116  ...   145    24   \n",
       "1      8       ship  235  235  235  231  231  231  232  232  ...   163   168   \n",
       "2      8       ship  158  190  222  158  187  218  139  166  ...    37     5   \n",
       "3      0   airplane  155  156  149  167  176  187  176  179  ...    53    60   \n",
       "4      6       frog   65   68   50   70   81   64   48   64  ...   147   143   \n",
       "\n",
       "   3064  3065  3066  3067  3068  3069  3070  3071  \n",
       "0    77   124    34    84   129    21    67   110  \n",
       "1   183   178   180   195   191   186   200   199  \n",
       "2     6     8     4     5     3     7     8     7  \n",
       "3    63    50    64    65    52    73    68    50  \n",
       "4   179   136   154   185   146   128   156   117  \n",
       "\n",
       "[5 rows x 3074 columns]"
      ]
     },
     "execution_count": 5,
     "metadata": {},
     "output_type": "execute_result"
    }
   ],
   "source": [
    "test_data.head()"
   ]
  },
  {
   "cell_type": "code",
   "execution_count": 6,
   "metadata": {},
   "outputs": [
    {
     "name": "stdout",
     "output_type": "stream",
     "text": [
      "(50000, 3072)\n",
      "(50000, 2)\n"
     ]
    }
   ],
   "source": [
    "x_train = train_data.iloc[:, 2:]\n",
    "print(x_train.shape)\n",
    "y_train = train_data.iloc[:, [0, 1]]\n",
    "print(y_train.shape)"
   ]
  },
  {
   "cell_type": "code",
   "execution_count": 7,
   "metadata": {},
   "outputs": [
    {
     "name": "stdout",
     "output_type": "stream",
     "text": [
      "(10000, 3072)\n",
      "(10000, 2)\n"
     ]
    }
   ],
   "source": [
    "x_test = test_data.iloc[:, 2:]\n",
    "print(x_test.shape)\n",
    "y_test = test_data.iloc[:, [0, 1]]\n",
    "print(y_test.shape)"
   ]
  },
  {
   "cell_type": "code",
   "execution_count": 8,
   "metadata": {},
   "outputs": [],
   "source": [
    "x_train = np.array(x_train)\n",
    "x_test = np.array(x_test)"
   ]
  },
  {
   "cell_type": "code",
   "execution_count": 9,
   "metadata": {},
   "outputs": [
    {
     "name": "stdout",
     "output_type": "stream",
     "text": [
      "(50000, 3072)\n",
      "(10000, 3072)\n"
     ]
    }
   ],
   "source": [
    "print(x_train.shape)\n",
    "print(x_test.shape)"
   ]
  },
  {
   "cell_type": "code",
   "execution_count": 10,
   "metadata": {},
   "outputs": [
    {
     "name": "stdout",
     "output_type": "stream",
     "text": [
      "(50000, 3072)\n",
      "(10000, 3072)\n"
     ]
    }
   ],
   "source": [
    "x_train = x_train.astype('float32')/255\n",
    "x_test = x_test.astype('float32')/255\n",
    "print(x_train.shape)\n",
    "print(x_test.shape)"
   ]
  },
  {
   "cell_type": "code",
   "execution_count": 11,
   "metadata": {},
   "outputs": [],
   "source": [
    "input_img = Input(shape = (3072, ))\n",
    "encoded = Dense(units = 128, activation = 'relu')(input_img)\n",
    "encoded = Dense(units = 128, activation = 'relu')(encoded)\n",
    "encoded = Dense(units = 64, activation = 'relu')(encoded)\n",
    "encoded = Dense(units = 64, activation = 'relu')(encoded)\n",
    "encoded = Dense(units = 32, activation = 'relu')(encoded)\n",
    "decoded = Dense(units = 64, activation = 'relu')(encoded)\n",
    "decoded = Dense(units = 64, activation = 'relu')(decoded)\n",
    "decoded = Dense(units = 128, activation = 'relu')(decoded)\n",
    "decoded = Dense(units = 128, activation = 'relu')(decoded)\n",
    "decoded = Dense(units = 3072, activation = 'tanh')(decoded)"
   ]
  },
  {
   "cell_type": "code",
   "execution_count": 12,
   "metadata": {},
   "outputs": [],
   "source": [
    "autoencoder = Model(input_img, decoded)\n",
    "encoder = Model(input_img, encoded)"
   ]
  },
  {
   "cell_type": "code",
   "execution_count": 13,
   "metadata": {
    "scrolled": true
   },
   "outputs": [
    {
     "name": "stdout",
     "output_type": "stream",
     "text": [
      "Model: \"model_1\"\n",
      "_________________________________________________________________\n",
      "Layer (type)                 Output Shape              Param #   \n",
      "=================================================================\n",
      "input_1 (InputLayer)         (None, 3072)              0         \n",
      "_________________________________________________________________\n",
      "dense_1 (Dense)              (None, 128)               393344    \n",
      "_________________________________________________________________\n",
      "dense_2 (Dense)              (None, 128)               16512     \n",
      "_________________________________________________________________\n",
      "dense_3 (Dense)              (None, 64)                8256      \n",
      "_________________________________________________________________\n",
      "dense_4 (Dense)              (None, 64)                4160      \n",
      "_________________________________________________________________\n",
      "dense_5 (Dense)              (None, 32)                2080      \n",
      "_________________________________________________________________\n",
      "dense_6 (Dense)              (None, 64)                2112      \n",
      "_________________________________________________________________\n",
      "dense_7 (Dense)              (None, 64)                4160      \n",
      "_________________________________________________________________\n",
      "dense_8 (Dense)              (None, 128)               8320      \n",
      "_________________________________________________________________\n",
      "dense_9 (Dense)              (None, 128)               16512     \n",
      "_________________________________________________________________\n",
      "dense_10 (Dense)             (None, 3072)              396288    \n",
      "=================================================================\n",
      "Total params: 851,744\n",
      "Trainable params: 851,744\n",
      "Non-trainable params: 0\n",
      "_________________________________________________________________\n"
     ]
    }
   ],
   "source": [
    "autoencoder.summary()"
   ]
  },
  {
   "cell_type": "code",
   "execution_count": 14,
   "metadata": {
    "scrolled": true
   },
   "outputs": [
    {
     "name": "stdout",
     "output_type": "stream",
     "text": [
      "Model: \"model_2\"\n",
      "_________________________________________________________________\n",
      "Layer (type)                 Output Shape              Param #   \n",
      "=================================================================\n",
      "input_1 (InputLayer)         (None, 3072)              0         \n",
      "_________________________________________________________________\n",
      "dense_1 (Dense)              (None, 128)               393344    \n",
      "_________________________________________________________________\n",
      "dense_2 (Dense)              (None, 128)               16512     \n",
      "_________________________________________________________________\n",
      "dense_3 (Dense)              (None, 64)                8256      \n",
      "_________________________________________________________________\n",
      "dense_4 (Dense)              (None, 64)                4160      \n",
      "_________________________________________________________________\n",
      "dense_5 (Dense)              (None, 32)                2080      \n",
      "=================================================================\n",
      "Total params: 424,352\n",
      "Trainable params: 424,352\n",
      "Non-trainable params: 0\n",
      "_________________________________________________________________\n"
     ]
    }
   ],
   "source": [
    "encoder.summary()"
   ]
  },
  {
   "cell_type": "code",
   "execution_count": 15,
   "metadata": {
    "scrolled": true
   },
   "outputs": [
    {
     "name": "stdout",
     "output_type": "stream",
     "text": [
      "Train on 50000 samples, validate on 10000 samples\n",
      "Epoch 1/50\n",
      "50000/50000 [==============================] - 11s 221us/step - loss: 0.0515 - accuracy: 8.6000e-04 - val_loss: 0.0371 - val_accuracy: 0.0012\n",
      "Epoch 2/50\n",
      "50000/50000 [==============================] - 11s 210us/step - loss: 0.0338 - accuracy: 0.0015 - val_loss: 0.0329 - val_accuracy: 0.0010\n",
      "Epoch 3/50\n",
      "50000/50000 [==============================] - 11s 220us/step - loss: 0.0298 - accuracy: 0.0021 - val_loss: 0.0275 - val_accuracy: 0.0022\n",
      "Epoch 4/50\n",
      "50000/50000 [==============================] - 15s 295us/step - loss: 0.0261 - accuracy: 0.0023 - val_loss: 0.0258 - val_accuracy: 0.0020\n",
      "Epoch 5/50\n",
      "50000/50000 [==============================] - 14s 276us/step - loss: 0.0249 - accuracy: 0.0027 - val_loss: 0.0245 - val_accuracy: 0.0018\n",
      "Epoch 6/50\n",
      "50000/50000 [==============================] - 14s 279us/step - loss: 0.0243 - accuracy: 0.0031 - val_loss: 0.0244 - val_accuracy: 0.0028\n",
      "Epoch 7/50\n",
      "50000/50000 [==============================] - 14s 280us/step - loss: 0.0242 - accuracy: 0.0031 - val_loss: 0.0241 - val_accuracy: 0.0027\n",
      "Epoch 8/50\n",
      "50000/50000 [==============================] - 14s 280us/step - loss: 0.0228 - accuracy: 0.0027 - val_loss: 0.0222 - val_accuracy: 0.0033\n",
      "Epoch 9/50\n",
      "50000/50000 [==============================] - 14s 278us/step - loss: 0.0218 - accuracy: 0.0033 - val_loss: 0.0216 - val_accuracy: 0.0034\n",
      "Epoch 10/50\n",
      "50000/50000 [==============================] - 14s 280us/step - loss: 0.0214 - accuracy: 0.0033 - val_loss: 0.0214 - val_accuracy: 0.0035\n",
      "Epoch 11/50\n",
      "50000/50000 [==============================] - 14s 288us/step - loss: 0.0212 - accuracy: 0.0029 - val_loss: 0.0215 - val_accuracy: 0.0023\n",
      "Epoch 12/50\n",
      "50000/50000 [==============================] - 14s 287us/step - loss: 0.0206 - accuracy: 0.0030 - val_loss: 0.0203 - val_accuracy: 0.0040\n",
      "Epoch 13/50\n",
      "50000/50000 [==============================] - 14s 281us/step - loss: 0.0201 - accuracy: 0.0037 - val_loss: 0.0202 - val_accuracy: 0.0051\n",
      "Epoch 14/50\n",
      "50000/50000 [==============================] - 14s 281us/step - loss: 0.0197 - accuracy: 0.0036 - val_loss: 0.0195 - val_accuracy: 0.0033\n",
      "Epoch 15/50\n",
      "50000/50000 [==============================] - 14s 282us/step - loss: 0.0194 - accuracy: 0.0035 - val_loss: 0.0196 - val_accuracy: 0.0033\n",
      "Epoch 16/50\n",
      "50000/50000 [==============================] - 14s 283us/step - loss: 0.0192 - accuracy: 0.0034 - val_loss: 0.0191 - val_accuracy: 0.0053\n",
      "Epoch 17/50\n",
      "50000/50000 [==============================] - 14s 289us/step - loss: 0.0188 - accuracy: 0.0041 - val_loss: 0.0187 - val_accuracy: 0.0034\n",
      "Epoch 18/50\n",
      "50000/50000 [==============================] - 15s 304us/step - loss: 0.0186 - accuracy: 0.0040 - val_loss: 0.0185 - val_accuracy: 0.0061\n",
      "Epoch 19/50\n",
      "50000/50000 [==============================] - 18s 359us/step - loss: 0.0183 - accuracy: 0.0049 - val_loss: 0.0183 - val_accuracy: 0.0044\n",
      "Epoch 20/50\n",
      "50000/50000 [==============================] - 16s 321us/step - loss: 0.0181 - accuracy: 0.0043 - val_loss: 0.0181 - val_accuracy: 0.0042\n",
      "Epoch 21/50\n",
      "50000/50000 [==============================] - 15s 300us/step - loss: 0.0180 - accuracy: 0.0042 - val_loss: 0.0180 - val_accuracy: 0.0049\n",
      "Epoch 22/50\n",
      "50000/50000 [==============================] - 15s 302us/step - loss: 0.0180 - accuracy: 0.0043 - val_loss: 0.0181 - val_accuracy: 0.0052\n",
      "Epoch 23/50\n",
      "50000/50000 [==============================] - 16s 317us/step - loss: 0.0179 - accuracy: 0.0039 - val_loss: 0.0179 - val_accuracy: 0.0040\n",
      "Epoch 24/50\n",
      "50000/50000 [==============================] - 17s 332us/step - loss: 0.0178 - accuracy: 0.0045 - val_loss: 0.0180 - val_accuracy: 0.0050\n",
      "Epoch 25/50\n",
      "50000/50000 [==============================] - 15s 307us/step - loss: 0.0176 - accuracy: 0.0045 - val_loss: 0.0176 - val_accuracy: 0.0044\n",
      "Epoch 26/50\n",
      "50000/50000 [==============================] - 18s 365us/step - loss: 0.0175 - accuracy: 0.0042 - val_loss: 0.0178 - val_accuracy: 0.0038\n",
      "Epoch 27/50\n",
      "50000/50000 [==============================] - 21s 426us/step - loss: 0.0174 - accuracy: 0.0044 - val_loss: 0.0176 - val_accuracy: 0.0037\n",
      "Epoch 28/50\n",
      "50000/50000 [==============================] - 16s 325us/step - loss: 0.0173 - accuracy: 0.0048 - val_loss: 0.0175 - val_accuracy: 0.0053\n",
      "Epoch 29/50\n",
      "50000/50000 [==============================] - 16s 311us/step - loss: 0.0171 - accuracy: 0.0045 - val_loss: 0.0174 - val_accuracy: 0.0036\n",
      "Epoch 30/50\n",
      "50000/50000 [==============================] - 15s 304us/step - loss: 0.0170 - accuracy: 0.0042 - val_loss: 0.0173 - val_accuracy: 0.0045\n",
      "Epoch 31/50\n",
      "50000/50000 [==============================] - 15s 299us/step - loss: 0.0170 - accuracy: 0.0045 - val_loss: 0.0171 - val_accuracy: 0.0045\n",
      "Epoch 32/50\n",
      "50000/50000 [==============================] - 16s 329us/step - loss: 0.0170 - accuracy: 0.0046 - val_loss: 0.0175 - val_accuracy: 0.0041\n",
      "Epoch 33/50\n",
      "50000/50000 [==============================] - 15s 305us/step - loss: 0.0169 - accuracy: 0.0047 - val_loss: 0.0174 - val_accuracy: 0.0045\n",
      "Epoch 34/50\n",
      "50000/50000 [==============================] - 16s 326us/step - loss: 0.0169 - accuracy: 0.0047 - val_loss: 0.0170 - val_accuracy: 0.0049\n",
      "Epoch 35/50\n",
      "50000/50000 [==============================] - 15s 305us/step - loss: 0.0167 - accuracy: 0.0047 - val_loss: 0.0169 - val_accuracy: 0.0049\n",
      "Epoch 36/50\n",
      "50000/50000 [==============================] - 15s 305us/step - loss: 0.0166 - accuracy: 0.0051 - val_loss: 0.0167 - val_accuracy: 0.0049\n",
      "Epoch 37/50\n",
      "50000/50000 [==============================] - 15s 301us/step - loss: 0.0166 - accuracy: 0.0052 - val_loss: 0.0166 - val_accuracy: 0.0050\n",
      "Epoch 38/50\n",
      "50000/50000 [==============================] - 16s 315us/step - loss: 0.0165 - accuracy: 0.0046 - val_loss: 0.0165 - val_accuracy: 0.0052\n",
      "Epoch 39/50\n",
      "50000/50000 [==============================] - 16s 318us/step - loss: 0.0164 - accuracy: 0.0046 - val_loss: 0.0165 - val_accuracy: 0.0054\n",
      "Epoch 40/50\n",
      "50000/50000 [==============================] - 15s 297us/step - loss: 0.0163 - accuracy: 0.0053 - val_loss: 0.0163 - val_accuracy: 0.0043\n",
      "Epoch 41/50\n",
      "50000/50000 [==============================] - 15s 293us/step - loss: 0.0162 - accuracy: 0.0052 - val_loss: 0.0164 - val_accuracy: 0.0059\n",
      "Epoch 42/50\n",
      "50000/50000 [==============================] - 16s 315us/step - loss: 0.0162 - accuracy: 0.0053 - val_loss: 0.0163 - val_accuracy: 0.0063\n",
      "Epoch 43/50\n",
      "50000/50000 [==============================] - 15s 301us/step - loss: 0.0161 - accuracy: 0.0051 - val_loss: 0.0162 - val_accuracy: 0.0055\n",
      "Epoch 44/50\n",
      "50000/50000 [==============================] - 17s 341us/step - loss: 0.0161 - accuracy: 0.0056 - val_loss: 0.0163 - val_accuracy: 0.0062\n",
      "Epoch 45/50\n",
      "50000/50000 [==============================] - 16s 329us/step - loss: 0.0161 - accuracy: 0.0054 - val_loss: 0.0163 - val_accuracy: 0.0060\n",
      "Epoch 46/50\n",
      "50000/50000 [==============================] - 14s 289us/step - loss: 0.0161 - accuracy: 0.0050 - val_loss: 0.0163 - val_accuracy: 0.0063\n",
      "Epoch 47/50\n",
      "50000/50000 [==============================] - 14s 290us/step - loss: 0.0161 - accuracy: 0.0056 - val_loss: 0.0164 - val_accuracy: 0.0054\n",
      "Epoch 48/50\n",
      "50000/50000 [==============================] - 15s 298us/step - loss: 0.0161 - accuracy: 0.0056 - val_loss: 0.0162 - val_accuracy: 0.0056\n",
      "Epoch 49/50\n",
      "50000/50000 [==============================] - 15s 291us/step - loss: 0.0160 - accuracy: 0.0055 - val_loss: 0.0163 - val_accuracy: 0.0058\n",
      "Epoch 50/50\n",
      "50000/50000 [==============================] - 15s 292us/step - loss: 0.0160 - accuracy: 0.0058 - val_loss: 0.0163 - val_accuracy: 0.0074\n"
     ]
    },
    {
     "data": {
      "text/plain": [
       "<keras.callbacks.callbacks.History at 0x13e355080>"
      ]
     },
     "execution_count": 15,
     "metadata": {},
     "output_type": "execute_result"
    }
   ],
   "source": [
    "autoencoder.compile(optimizer = 'adam', loss = 'mse', metrics = ['accuracy'])\n",
    "autoencoder.fit(x_train, x_train, epochs = 50, batch_size = 256, shuffle = True, validation_data = [x_test, x_test])"
   ]
  },
  {
   "cell_type": "code",
   "execution_count": 16,
   "metadata": {},
   "outputs": [],
   "source": [
    "encoded_test_data = encoder.predict(x_test)\n",
    "predicted_test_data = autoencoder.predict(x_test)"
   ]
  },
  {
   "cell_type": "code",
   "execution_count": 17,
   "metadata": {},
   "outputs": [
    {
     "data": {
      "text/plain": [
       "(10000, 32)"
      ]
     },
     "execution_count": 17,
     "metadata": {},
     "output_type": "execute_result"
    }
   ],
   "source": [
    "encoded_test_data.shape"
   ]
  },
  {
   "cell_type": "code",
   "execution_count": 18,
   "metadata": {
    "scrolled": true
   },
   "outputs": [
    {
     "data": {
      "text/html": [
       "<div>\n",
       "<style scoped>\n",
       "    .dataframe tbody tr th:only-of-type {\n",
       "        vertical-align: middle;\n",
       "    }\n",
       "\n",
       "    .dataframe tbody tr th {\n",
       "        vertical-align: top;\n",
       "    }\n",
       "\n",
       "    .dataframe thead th {\n",
       "        text-align: right;\n",
       "    }\n",
       "</style>\n",
       "<table border=\"1\" class=\"dataframe\">\n",
       "  <thead>\n",
       "    <tr style=\"text-align: right;\">\n",
       "      <th></th>\n",
       "      <th>Class</th>\n",
       "      <th>Class Name</th>\n",
       "    </tr>\n",
       "  </thead>\n",
       "  <tbody>\n",
       "    <tr>\n",
       "      <th>0</th>\n",
       "      <td>3</td>\n",
       "      <td>cat</td>\n",
       "    </tr>\n",
       "    <tr>\n",
       "      <th>1</th>\n",
       "      <td>8</td>\n",
       "      <td>ship</td>\n",
       "    </tr>\n",
       "    <tr>\n",
       "      <th>2</th>\n",
       "      <td>8</td>\n",
       "      <td>ship</td>\n",
       "    </tr>\n",
       "    <tr>\n",
       "      <th>3</th>\n",
       "      <td>0</td>\n",
       "      <td>airplane</td>\n",
       "    </tr>\n",
       "    <tr>\n",
       "      <th>4</th>\n",
       "      <td>6</td>\n",
       "      <td>frog</td>\n",
       "    </tr>\n",
       "    <tr>\n",
       "      <th>...</th>\n",
       "      <td>...</td>\n",
       "      <td>...</td>\n",
       "    </tr>\n",
       "    <tr>\n",
       "      <th>9995</th>\n",
       "      <td>8</td>\n",
       "      <td>ship</td>\n",
       "    </tr>\n",
       "    <tr>\n",
       "      <th>9996</th>\n",
       "      <td>3</td>\n",
       "      <td>cat</td>\n",
       "    </tr>\n",
       "    <tr>\n",
       "      <th>9997</th>\n",
       "      <td>5</td>\n",
       "      <td>dog</td>\n",
       "    </tr>\n",
       "    <tr>\n",
       "      <th>9998</th>\n",
       "      <td>1</td>\n",
       "      <td>automobile</td>\n",
       "    </tr>\n",
       "    <tr>\n",
       "      <th>9999</th>\n",
       "      <td>7</td>\n",
       "      <td>horse</td>\n",
       "    </tr>\n",
       "  </tbody>\n",
       "</table>\n",
       "<p>10000 rows × 2 columns</p>\n",
       "</div>"
      ],
      "text/plain": [
       "      Class  Class Name\n",
       "0         3         cat\n",
       "1         8        ship\n",
       "2         8        ship\n",
       "3         0    airplane\n",
       "4         6        frog\n",
       "...     ...         ...\n",
       "9995      8        ship\n",
       "9996      3         cat\n",
       "9997      5         dog\n",
       "9998      1  automobile\n",
       "9999      7       horse\n",
       "\n",
       "[10000 rows x 2 columns]"
      ]
     },
     "execution_count": 18,
     "metadata": {},
     "output_type": "execute_result"
    }
   ],
   "source": [
    "y_test"
   ]
  },
  {
   "cell_type": "code",
   "execution_count": 19,
   "metadata": {},
   "outputs": [
    {
     "data": {
      "text/plain": [
       "(10000, 34)"
      ]
     },
     "execution_count": 19,
     "metadata": {},
     "output_type": "execute_result"
    }
   ],
   "source": [
    "encoded_test_data_df = pd.DataFrame(encoded_test_data)\n",
    "final_encoded_test_data_df = pd.concat([y_test, encoded_test_data_df], axis = 1)\n",
    "final_encoded_test_data_df.shape"
   ]
  },
  {
   "cell_type": "code",
   "execution_count": 20,
   "metadata": {},
   "outputs": [],
   "source": [
    "datadir = '/Users/sidv88/Documents/Data_Management_2/Deep_Encoded_Data/'\n",
    "final_encoded_test_data_df.to_csv(datadir + 'Deep_Encoders_Test_RTAM.csv', index = False)"
   ]
  },
  {
   "cell_type": "code",
   "execution_count": 21,
   "metadata": {},
   "outputs": [
    {
     "name": "stdout",
     "output_type": "stream",
     "text": [
      "Enter one of these values ['cat' 'ship' 'airplane' 'frog' 'automobile' 'truck' 'dog' 'horse' 'deer'\n",
      " 'bird'] : cat\n"
     ]
    }
   ],
   "source": [
    "input_val = input(\"Enter one of these values {} : \".format(final_encoded_test_data_df['Class Name'].unique()))"
   ]
  },
  {
   "cell_type": "code",
   "execution_count": 22,
   "metadata": {},
   "outputs": [
    {
     "name": "stdout",
     "output_type": "stream",
     "text": [
      "Enter a number between 0 and 999 : 700\n"
     ]
    }
   ],
   "source": [
    "input_num = input(\"Enter a number between 0 and 999 : \")"
   ]
  },
  {
   "cell_type": "code",
   "execution_count": 23,
   "metadata": {},
   "outputs": [
    {
     "name": "stdout",
     "output_type": "stream",
     "text": [
      "10000\n",
      "10000\n"
     ]
    }
   ],
   "source": [
    "from numpy import dot\n",
    "from numpy.linalg import norm\n",
    "\n",
    "cosine_similarity = []\n",
    "cosine_distance = []\n",
    "\n",
    "for i in range(len(x_test)):\n",
    "    a = final_encoded_test_data_df.loc[final_encoded_test_data_df['Class Name'] == input_val].iloc[int(input_num), 2:]\n",
    "    b = final_encoded_test_data_df.iloc[i, 2:]\n",
    "    cos_sim = dot(a, b)/(norm(a) * norm(b))\n",
    "    cos_dist = 1 - cos_sim\n",
    "    cosine_similarity.append(cos_sim)\n",
    "    cosine_distance.append(cos_dist)\n",
    "print(len(cosine_similarity))\n",
    "print(len(cosine_distance))"
   ]
  },
  {
   "cell_type": "code",
   "execution_count": 24,
   "metadata": {},
   "outputs": [],
   "source": [
    "final_encoded_test_data_df['Cosine Similarity'] = cosine_similarity\n",
    "final_encoded_test_data_df['Cosine Distance'] = cosine_distance"
   ]
  },
  {
   "cell_type": "code",
   "execution_count": 25,
   "metadata": {},
   "outputs": [
    {
     "data": {
      "text/html": [
       "<div>\n",
       "<style scoped>\n",
       "    .dataframe tbody tr th:only-of-type {\n",
       "        vertical-align: middle;\n",
       "    }\n",
       "\n",
       "    .dataframe tbody tr th {\n",
       "        vertical-align: top;\n",
       "    }\n",
       "\n",
       "    .dataframe thead th {\n",
       "        text-align: right;\n",
       "    }\n",
       "</style>\n",
       "<table border=\"1\" class=\"dataframe\">\n",
       "  <thead>\n",
       "    <tr style=\"text-align: right;\">\n",
       "      <th></th>\n",
       "      <th>Class</th>\n",
       "      <th>Class Name</th>\n",
       "      <th>0</th>\n",
       "      <th>1</th>\n",
       "      <th>2</th>\n",
       "      <th>3</th>\n",
       "      <th>4</th>\n",
       "      <th>5</th>\n",
       "      <th>6</th>\n",
       "      <th>7</th>\n",
       "      <th>...</th>\n",
       "      <th>24</th>\n",
       "      <th>25</th>\n",
       "      <th>26</th>\n",
       "      <th>27</th>\n",
       "      <th>28</th>\n",
       "      <th>29</th>\n",
       "      <th>30</th>\n",
       "      <th>31</th>\n",
       "      <th>Cosine Similarity</th>\n",
       "      <th>Cosine Distance</th>\n",
       "    </tr>\n",
       "  </thead>\n",
       "  <tbody>\n",
       "    <tr>\n",
       "      <th>7014</th>\n",
       "      <td>3</td>\n",
       "      <td>cat</td>\n",
       "      <td>3.795632</td>\n",
       "      <td>2.544207</td>\n",
       "      <td>3.166904</td>\n",
       "      <td>4.355550</td>\n",
       "      <td>1.901885</td>\n",
       "      <td>2.814483</td>\n",
       "      <td>0.0</td>\n",
       "      <td>3.261998</td>\n",
       "      <td>...</td>\n",
       "      <td>0.0</td>\n",
       "      <td>2.695953</td>\n",
       "      <td>2.786493</td>\n",
       "      <td>2.851933</td>\n",
       "      <td>2.295295</td>\n",
       "      <td>0.0</td>\n",
       "      <td>1.690982</td>\n",
       "      <td>2.697966</td>\n",
       "      <td>1.000000</td>\n",
       "      <td>5.960464e-08</td>\n",
       "    </tr>\n",
       "    <tr>\n",
       "      <th>1170</th>\n",
       "      <td>7</td>\n",
       "      <td>horse</td>\n",
       "      <td>5.456158</td>\n",
       "      <td>2.788356</td>\n",
       "      <td>4.646539</td>\n",
       "      <td>5.289941</td>\n",
       "      <td>3.038565</td>\n",
       "      <td>3.991672</td>\n",
       "      <td>0.0</td>\n",
       "      <td>4.889660</td>\n",
       "      <td>...</td>\n",
       "      <td>0.0</td>\n",
       "      <td>3.673303</td>\n",
       "      <td>5.152323</td>\n",
       "      <td>4.194305</td>\n",
       "      <td>4.170909</td>\n",
       "      <td>0.0</td>\n",
       "      <td>1.859182</td>\n",
       "      <td>4.366035</td>\n",
       "      <td>0.983480</td>\n",
       "      <td>1.651990e-02</td>\n",
       "    </tr>\n",
       "    <tr>\n",
       "      <th>1334</th>\n",
       "      <td>3</td>\n",
       "      <td>cat</td>\n",
       "      <td>3.861463</td>\n",
       "      <td>2.304890</td>\n",
       "      <td>3.772730</td>\n",
       "      <td>4.823950</td>\n",
       "      <td>1.764919</td>\n",
       "      <td>2.703154</td>\n",
       "      <td>0.0</td>\n",
       "      <td>4.491868</td>\n",
       "      <td>...</td>\n",
       "      <td>0.0</td>\n",
       "      <td>2.529950</td>\n",
       "      <td>3.738086</td>\n",
       "      <td>2.878452</td>\n",
       "      <td>3.271121</td>\n",
       "      <td>0.0</td>\n",
       "      <td>1.321045</td>\n",
       "      <td>3.643813</td>\n",
       "      <td>0.981294</td>\n",
       "      <td>1.870632e-02</td>\n",
       "    </tr>\n",
       "    <tr>\n",
       "      <th>7772</th>\n",
       "      <td>3</td>\n",
       "      <td>cat</td>\n",
       "      <td>3.681693</td>\n",
       "      <td>2.722714</td>\n",
       "      <td>4.011057</td>\n",
       "      <td>5.455369</td>\n",
       "      <td>3.011969</td>\n",
       "      <td>4.182796</td>\n",
       "      <td>0.0</td>\n",
       "      <td>4.071285</td>\n",
       "      <td>...</td>\n",
       "      <td>0.0</td>\n",
       "      <td>2.873854</td>\n",
       "      <td>4.524286</td>\n",
       "      <td>4.132226</td>\n",
       "      <td>3.580492</td>\n",
       "      <td>0.0</td>\n",
       "      <td>1.821173</td>\n",
       "      <td>2.755250</td>\n",
       "      <td>0.978914</td>\n",
       "      <td>2.108568e-02</td>\n",
       "    </tr>\n",
       "    <tr>\n",
       "      <th>3740</th>\n",
       "      <td>0</td>\n",
       "      <td>airplane</td>\n",
       "      <td>7.148499</td>\n",
       "      <td>2.952203</td>\n",
       "      <td>3.808667</td>\n",
       "      <td>5.219440</td>\n",
       "      <td>3.141560</td>\n",
       "      <td>4.137774</td>\n",
       "      <td>0.0</td>\n",
       "      <td>5.931113</td>\n",
       "      <td>...</td>\n",
       "      <td>0.0</td>\n",
       "      <td>3.885807</td>\n",
       "      <td>3.441776</td>\n",
       "      <td>4.984704</td>\n",
       "      <td>3.291365</td>\n",
       "      <td>0.0</td>\n",
       "      <td>2.187925</td>\n",
       "      <td>3.314811</td>\n",
       "      <td>0.978675</td>\n",
       "      <td>2.132481e-02</td>\n",
       "    </tr>\n",
       "    <tr>\n",
       "      <th>...</th>\n",
       "      <td>...</td>\n",
       "      <td>...</td>\n",
       "      <td>...</td>\n",
       "      <td>...</td>\n",
       "      <td>...</td>\n",
       "      <td>...</td>\n",
       "      <td>...</td>\n",
       "      <td>...</td>\n",
       "      <td>...</td>\n",
       "      <td>...</td>\n",
       "      <td>...</td>\n",
       "      <td>...</td>\n",
       "      <td>...</td>\n",
       "      <td>...</td>\n",
       "      <td>...</td>\n",
       "      <td>...</td>\n",
       "      <td>...</td>\n",
       "      <td>...</td>\n",
       "      <td>...</td>\n",
       "      <td>...</td>\n",
       "      <td>...</td>\n",
       "    </tr>\n",
       "    <tr>\n",
       "      <th>8381</th>\n",
       "      <td>4</td>\n",
       "      <td>deer</td>\n",
       "      <td>1.804748</td>\n",
       "      <td>1.247851</td>\n",
       "      <td>0.509165</td>\n",
       "      <td>2.332332</td>\n",
       "      <td>0.956941</td>\n",
       "      <td>0.131718</td>\n",
       "      <td>0.0</td>\n",
       "      <td>0.934125</td>\n",
       "      <td>...</td>\n",
       "      <td>0.0</td>\n",
       "      <td>1.198312</td>\n",
       "      <td>1.334079</td>\n",
       "      <td>0.485536</td>\n",
       "      <td>0.672019</td>\n",
       "      <td>0.0</td>\n",
       "      <td>1.084527</td>\n",
       "      <td>1.015389</td>\n",
       "      <td>0.808769</td>\n",
       "      <td>1.912311e-01</td>\n",
       "    </tr>\n",
       "    <tr>\n",
       "      <th>3119</th>\n",
       "      <td>4</td>\n",
       "      <td>deer</td>\n",
       "      <td>1.616702</td>\n",
       "      <td>1.651088</td>\n",
       "      <td>0.626267</td>\n",
       "      <td>1.303150</td>\n",
       "      <td>1.426189</td>\n",
       "      <td>0.626000</td>\n",
       "      <td>0.0</td>\n",
       "      <td>1.610546</td>\n",
       "      <td>...</td>\n",
       "      <td>0.0</td>\n",
       "      <td>1.220186</td>\n",
       "      <td>0.709431</td>\n",
       "      <td>0.644409</td>\n",
       "      <td>0.707365</td>\n",
       "      <td>0.0</td>\n",
       "      <td>0.741989</td>\n",
       "      <td>0.548526</td>\n",
       "      <td>0.800164</td>\n",
       "      <td>1.998355e-01</td>\n",
       "    </tr>\n",
       "    <tr>\n",
       "      <th>6026</th>\n",
       "      <td>3</td>\n",
       "      <td>cat</td>\n",
       "      <td>5.219378</td>\n",
       "      <td>4.006905</td>\n",
       "      <td>2.117538</td>\n",
       "      <td>3.029121</td>\n",
       "      <td>3.178277</td>\n",
       "      <td>0.912949</td>\n",
       "      <td>0.0</td>\n",
       "      <td>2.831279</td>\n",
       "      <td>...</td>\n",
       "      <td>0.0</td>\n",
       "      <td>2.594979</td>\n",
       "      <td>3.039995</td>\n",
       "      <td>1.526042</td>\n",
       "      <td>2.118266</td>\n",
       "      <td>0.0</td>\n",
       "      <td>0.931594</td>\n",
       "      <td>1.299560</td>\n",
       "      <td>0.799810</td>\n",
       "      <td>2.001897e-01</td>\n",
       "    </tr>\n",
       "    <tr>\n",
       "      <th>8070</th>\n",
       "      <td>5</td>\n",
       "      <td>dog</td>\n",
       "      <td>4.147768</td>\n",
       "      <td>2.500905</td>\n",
       "      <td>2.242458</td>\n",
       "      <td>1.951842</td>\n",
       "      <td>1.353857</td>\n",
       "      <td>2.448028</td>\n",
       "      <td>0.0</td>\n",
       "      <td>1.187109</td>\n",
       "      <td>...</td>\n",
       "      <td>0.0</td>\n",
       "      <td>2.450763</td>\n",
       "      <td>2.546276</td>\n",
       "      <td>1.416688</td>\n",
       "      <td>1.438608</td>\n",
       "      <td>0.0</td>\n",
       "      <td>0.534505</td>\n",
       "      <td>1.208434</td>\n",
       "      <td>0.796253</td>\n",
       "      <td>2.037472e-01</td>\n",
       "    </tr>\n",
       "    <tr>\n",
       "      <th>2754</th>\n",
       "      <td>9</td>\n",
       "      <td>truck</td>\n",
       "      <td>2.176472</td>\n",
       "      <td>3.666971</td>\n",
       "      <td>0.790772</td>\n",
       "      <td>1.327695</td>\n",
       "      <td>1.449718</td>\n",
       "      <td>1.330882</td>\n",
       "      <td>0.0</td>\n",
       "      <td>2.112588</td>\n",
       "      <td>...</td>\n",
       "      <td>0.0</td>\n",
       "      <td>2.227361</td>\n",
       "      <td>0.435211</td>\n",
       "      <td>0.629142</td>\n",
       "      <td>0.962652</td>\n",
       "      <td>0.0</td>\n",
       "      <td>0.727056</td>\n",
       "      <td>0.145808</td>\n",
       "      <td>0.780345</td>\n",
       "      <td>2.196548e-01</td>\n",
       "    </tr>\n",
       "  </tbody>\n",
       "</table>\n",
       "<p>10000 rows × 36 columns</p>\n",
       "</div>"
      ],
      "text/plain": [
       "      Class Class Name         0         1         2         3         4  \\\n",
       "7014      3        cat  3.795632  2.544207  3.166904  4.355550  1.901885   \n",
       "1170      7      horse  5.456158  2.788356  4.646539  5.289941  3.038565   \n",
       "1334      3        cat  3.861463  2.304890  3.772730  4.823950  1.764919   \n",
       "7772      3        cat  3.681693  2.722714  4.011057  5.455369  3.011969   \n",
       "3740      0   airplane  7.148499  2.952203  3.808667  5.219440  3.141560   \n",
       "...     ...        ...       ...       ...       ...       ...       ...   \n",
       "8381      4       deer  1.804748  1.247851  0.509165  2.332332  0.956941   \n",
       "3119      4       deer  1.616702  1.651088  0.626267  1.303150  1.426189   \n",
       "6026      3        cat  5.219378  4.006905  2.117538  3.029121  3.178277   \n",
       "8070      5        dog  4.147768  2.500905  2.242458  1.951842  1.353857   \n",
       "2754      9      truck  2.176472  3.666971  0.790772  1.327695  1.449718   \n",
       "\n",
       "             5    6         7  ...   24        25        26        27  \\\n",
       "7014  2.814483  0.0  3.261998  ...  0.0  2.695953  2.786493  2.851933   \n",
       "1170  3.991672  0.0  4.889660  ...  0.0  3.673303  5.152323  4.194305   \n",
       "1334  2.703154  0.0  4.491868  ...  0.0  2.529950  3.738086  2.878452   \n",
       "7772  4.182796  0.0  4.071285  ...  0.0  2.873854  4.524286  4.132226   \n",
       "3740  4.137774  0.0  5.931113  ...  0.0  3.885807  3.441776  4.984704   \n",
       "...        ...  ...       ...  ...  ...       ...       ...       ...   \n",
       "8381  0.131718  0.0  0.934125  ...  0.0  1.198312  1.334079  0.485536   \n",
       "3119  0.626000  0.0  1.610546  ...  0.0  1.220186  0.709431  0.644409   \n",
       "6026  0.912949  0.0  2.831279  ...  0.0  2.594979  3.039995  1.526042   \n",
       "8070  2.448028  0.0  1.187109  ...  0.0  2.450763  2.546276  1.416688   \n",
       "2754  1.330882  0.0  2.112588  ...  0.0  2.227361  0.435211  0.629142   \n",
       "\n",
       "            28   29        30        31  Cosine Similarity  Cosine Distance  \n",
       "7014  2.295295  0.0  1.690982  2.697966           1.000000     5.960464e-08  \n",
       "1170  4.170909  0.0  1.859182  4.366035           0.983480     1.651990e-02  \n",
       "1334  3.271121  0.0  1.321045  3.643813           0.981294     1.870632e-02  \n",
       "7772  3.580492  0.0  1.821173  2.755250           0.978914     2.108568e-02  \n",
       "3740  3.291365  0.0  2.187925  3.314811           0.978675     2.132481e-02  \n",
       "...        ...  ...       ...       ...                ...              ...  \n",
       "8381  0.672019  0.0  1.084527  1.015389           0.808769     1.912311e-01  \n",
       "3119  0.707365  0.0  0.741989  0.548526           0.800164     1.998355e-01  \n",
       "6026  2.118266  0.0  0.931594  1.299560           0.799810     2.001897e-01  \n",
       "8070  1.438608  0.0  0.534505  1.208434           0.796253     2.037472e-01  \n",
       "2754  0.962652  0.0  0.727056  0.145808           0.780345     2.196548e-01  \n",
       "\n",
       "[10000 rows x 36 columns]"
      ]
     },
     "execution_count": 25,
     "metadata": {},
     "output_type": "execute_result"
    }
   ],
   "source": [
    "final_encoded_test_data_df.sort_values(by = ['Cosine Similarity'], ascending = False)"
   ]
  },
  {
   "cell_type": "code",
   "execution_count": 26,
   "metadata": {},
   "outputs": [],
   "source": [
    "cosine_index = final_encoded_test_data_df.sort_values(by = ['Cosine Similarity'], ascending = False).head(10).index"
   ]
  },
  {
   "cell_type": "code",
   "execution_count": 27,
   "metadata": {
    "scrolled": true
   },
   "outputs": [
    {
     "data": {
      "image/png": "[encoded data removed]",
      "text/plain": [
       "<Figure size 144x144 with 1 Axes>"
      ]
     },
     "metadata": {
      "needs_background": "light"
     },
     "output_type": "display_data"
    },
    {
     "data": {
      "image/png": "[encoded data removed]",
      "text/plain": [
       "<Figure size 144x144 with 1 Axes>"
      ]
     },
     "metadata": {
      "needs_background": "light"
     },
     "output_type": "display_data"
    },
    {
     "data": {
      "image/png": "[encoded data removed]",
      "text/plain": [
       "<Figure size 144x144 with 1 Axes>"
      ]
     },
     "metadata": {
      "needs_background": "light"
     },
     "output_type": "display_data"
    },
    {
     "data": {
      "image/png": "[encoded data removed]",
      "text/plain": [
       "<Figure size 144x144 with 1 Axes>"
      ]
     },
     "metadata": {
      "needs_background": "light"
     },
     "output_type": "display_data"
    },
    {
     "data": {
      "image/png": "[encoded data removed]",
      "text/plain": [
       "<Figure size 144x144 with 1 Axes>"
      ]
     },
     "metadata": {
      "needs_background": "light"
     },
     "output_type": "display_data"
    },
    {
     "data": {
      "image/png": "[encoded data removed]",
      "text/plain": [
       "<Figure size 144x144 with 1 Axes>"
      ]
     },
     "metadata": {
      "needs_background": "light"
     },
     "output_type": "display_data"
    },
    {
     "data": {
      "image/png": "[encoded data removed]",
      "text/plain": [
       "<Figure size 144x144 with 1 Axes>"
      ]
     },
     "metadata": {
      "needs_background": "light"
     },
     "output_type": "display_data"
    },
    {
     "data": {
      "image/png": "[encoded data removed]",
      "text/plain": [
       "<Figure size 144x144 with 1 Axes>"
      ]
     },
     "metadata": {
      "needs_background": "light"
     },
     "output_type": "display_data"
    },
    {
     "data": {
      "image/png": "[encoded data removed]",
      "text/plain": [
       "<Figure size 144x144 with 1 Axes>"
      ]
     },
     "metadata": {
      "needs_background": "light"
     },
     "output_type": "display_data"
    },
    {
     "data": {
      "image/png": "[encoded data removed]",
      "text/plain": [
       "<Figure size 144x144 with 1 Axes>"
      ]
     },
     "metadata": {
      "needs_background": "light"
     },
     "output_type": "display_data"
    }
   ],
   "source": [
    "for i in cosine_index:\n",
    "    plt.figure(figsize = (2, 2))\n",
    "    plt.imshow(x_test[i].reshape(32, 32, 3))\n",
    "    plt.xlabel(final_encoded_test_data_df['Class Name'][i] + ' with a Cosine Similarity of ' + str(final_encoded_test_data_df['Cosine Similarity'][i]) + ' from the queried image.')\n",
    "    plt.show()"
   ]
  },
  {
   "cell_type": "code",
   "execution_count": 28,
   "metadata": {},
   "outputs": [
    {
     "name": "stdout",
     "output_type": "stream",
     "text": [
      "10000\n"
     ]
    }
   ],
   "source": [
    "euclidean_distance = []\n",
    "\n",
    "for i in range(len(x_test)):\n",
    "    a = final_encoded_test_data_df.loc[final_encoded_test_data_df['Class Name'] == input_val].iloc[int(input_num), 2:]\n",
    "    b = final_encoded_test_data_df.iloc[i, 2:]\n",
    "    euc_dist = np.linalg.norm(a-b)\n",
    "    euclidean_distance.append(euc_dist)\n",
    "print(len(euclidean_distance))"
   ]
  },
  {
   "cell_type": "code",
   "execution_count": 29,
   "metadata": {},
   "outputs": [
    {
     "data": {
      "text/html": [
       "<div>\n",
       "<style scoped>\n",
       "    .dataframe tbody tr th:only-of-type {\n",
       "        vertical-align: middle;\n",
       "    }\n",
       "\n",
       "    .dataframe tbody tr th {\n",
       "        vertical-align: top;\n",
       "    }\n",
       "\n",
       "    .dataframe thead th {\n",
       "        text-align: right;\n",
       "    }\n",
       "</style>\n",
       "<table border=\"1\" class=\"dataframe\">\n",
       "  <thead>\n",
       "    <tr style=\"text-align: right;\">\n",
       "      <th></th>\n",
       "      <th>Class</th>\n",
       "      <th>Class Name</th>\n",
       "      <th>0</th>\n",
       "      <th>1</th>\n",
       "      <th>2</th>\n",
       "      <th>3</th>\n",
       "      <th>4</th>\n",
       "      <th>5</th>\n",
       "      <th>6</th>\n",
       "      <th>7</th>\n",
       "      <th>...</th>\n",
       "      <th>25</th>\n",
       "      <th>26</th>\n",
       "      <th>27</th>\n",
       "      <th>28</th>\n",
       "      <th>29</th>\n",
       "      <th>30</th>\n",
       "      <th>31</th>\n",
       "      <th>Cosine Similarity</th>\n",
       "      <th>Cosine Distance</th>\n",
       "      <th>Euclidean Distance</th>\n",
       "    </tr>\n",
       "  </thead>\n",
       "  <tbody>\n",
       "    <tr>\n",
       "      <th>7014</th>\n",
       "      <td>3</td>\n",
       "      <td>cat</td>\n",
       "      <td>3.795632</td>\n",
       "      <td>2.544207</td>\n",
       "      <td>3.166904</td>\n",
       "      <td>4.355550</td>\n",
       "      <td>1.901885</td>\n",
       "      <td>2.814483</td>\n",
       "      <td>0.0</td>\n",
       "      <td>3.261998</td>\n",
       "      <td>...</td>\n",
       "      <td>2.695953</td>\n",
       "      <td>2.786493</td>\n",
       "      <td>2.851933</td>\n",
       "      <td>2.295295</td>\n",
       "      <td>0.0</td>\n",
       "      <td>1.690982</td>\n",
       "      <td>2.697966</td>\n",
       "      <td>1.000000</td>\n",
       "      <td>5.960464e-08</td>\n",
       "      <td>0.000000</td>\n",
       "    </tr>\n",
       "    <tr>\n",
       "      <th>8615</th>\n",
       "      <td>9</td>\n",
       "      <td>truck</td>\n",
       "      <td>4.380368</td>\n",
       "      <td>2.385459</td>\n",
       "      <td>2.858238</td>\n",
       "      <td>3.910069</td>\n",
       "      <td>1.752281</td>\n",
       "      <td>2.842280</td>\n",
       "      <td>0.0</td>\n",
       "      <td>4.801076</td>\n",
       "      <td>...</td>\n",
       "      <td>2.398909</td>\n",
       "      <td>2.655546</td>\n",
       "      <td>3.281688</td>\n",
       "      <td>2.395820</td>\n",
       "      <td>0.0</td>\n",
       "      <td>1.309829</td>\n",
       "      <td>2.390385</td>\n",
       "      <td>0.977491</td>\n",
       "      <td>2.250898e-02</td>\n",
       "      <td>3.145764</td>\n",
       "    </tr>\n",
       "    <tr>\n",
       "      <th>9706</th>\n",
       "      <td>9</td>\n",
       "      <td>truck</td>\n",
       "      <td>2.999874</td>\n",
       "      <td>2.594799</td>\n",
       "      <td>3.169684</td>\n",
       "      <td>4.125625</td>\n",
       "      <td>1.672868</td>\n",
       "      <td>3.201372</td>\n",
       "      <td>0.0</td>\n",
       "      <td>4.309266</td>\n",
       "      <td>...</td>\n",
       "      <td>2.916048</td>\n",
       "      <td>3.580771</td>\n",
       "      <td>2.980234</td>\n",
       "      <td>2.718235</td>\n",
       "      <td>0.0</td>\n",
       "      <td>1.601286</td>\n",
       "      <td>1.695688</td>\n",
       "      <td>0.978337</td>\n",
       "      <td>2.166325e-02</td>\n",
       "      <td>3.218633</td>\n",
       "    </tr>\n",
       "    <tr>\n",
       "      <th>6775</th>\n",
       "      <td>0</td>\n",
       "      <td>airplane</td>\n",
       "      <td>3.698957</td>\n",
       "      <td>2.040801</td>\n",
       "      <td>3.464349</td>\n",
       "      <td>3.895027</td>\n",
       "      <td>1.727041</td>\n",
       "      <td>2.254747</td>\n",
       "      <td>0.0</td>\n",
       "      <td>3.813869</td>\n",
       "      <td>...</td>\n",
       "      <td>1.518713</td>\n",
       "      <td>3.168456</td>\n",
       "      <td>3.390552</td>\n",
       "      <td>3.288336</td>\n",
       "      <td>0.0</td>\n",
       "      <td>0.943363</td>\n",
       "      <td>1.987781</td>\n",
       "      <td>0.975008</td>\n",
       "      <td>2.499241e-02</td>\n",
       "      <td>3.225524</td>\n",
       "    </tr>\n",
       "    <tr>\n",
       "      <th>2426</th>\n",
       "      <td>2</td>\n",
       "      <td>bird</td>\n",
       "      <td>3.928161</td>\n",
       "      <td>1.644547</td>\n",
       "      <td>2.859349</td>\n",
       "      <td>3.933911</td>\n",
       "      <td>2.065698</td>\n",
       "      <td>2.703023</td>\n",
       "      <td>0.0</td>\n",
       "      <td>3.702438</td>\n",
       "      <td>...</td>\n",
       "      <td>1.992302</td>\n",
       "      <td>2.776868</td>\n",
       "      <td>2.494401</td>\n",
       "      <td>2.607775</td>\n",
       "      <td>0.0</td>\n",
       "      <td>0.801776</td>\n",
       "      <td>1.955480</td>\n",
       "      <td>0.974831</td>\n",
       "      <td>2.516901e-02</td>\n",
       "      <td>3.388013</td>\n",
       "    </tr>\n",
       "    <tr>\n",
       "      <th>...</th>\n",
       "      <td>...</td>\n",
       "      <td>...</td>\n",
       "      <td>...</td>\n",
       "      <td>...</td>\n",
       "      <td>...</td>\n",
       "      <td>...</td>\n",
       "      <td>...</td>\n",
       "      <td>...</td>\n",
       "      <td>...</td>\n",
       "      <td>...</td>\n",
       "      <td>...</td>\n",
       "      <td>...</td>\n",
       "      <td>...</td>\n",
       "      <td>...</td>\n",
       "      <td>...</td>\n",
       "      <td>...</td>\n",
       "      <td>...</td>\n",
       "      <td>...</td>\n",
       "      <td>...</td>\n",
       "      <td>...</td>\n",
       "      <td>...</td>\n",
       "    </tr>\n",
       "    <tr>\n",
       "      <th>3551</th>\n",
       "      <td>0</td>\n",
       "      <td>airplane</td>\n",
       "      <td>9.602813</td>\n",
       "      <td>3.253772</td>\n",
       "      <td>5.777323</td>\n",
       "      <td>7.636608</td>\n",
       "      <td>3.676656</td>\n",
       "      <td>4.987467</td>\n",
       "      <td>0.0</td>\n",
       "      <td>9.268400</td>\n",
       "      <td>...</td>\n",
       "      <td>4.436051</td>\n",
       "      <td>8.212875</td>\n",
       "      <td>7.793247</td>\n",
       "      <td>6.187909</td>\n",
       "      <td>0.0</td>\n",
       "      <td>3.397784</td>\n",
       "      <td>3.913574</td>\n",
       "      <td>0.958222</td>\n",
       "      <td>4.177821e-02</td>\n",
       "      <td>19.385141</td>\n",
       "    </tr>\n",
       "    <tr>\n",
       "      <th>218</th>\n",
       "      <td>8</td>\n",
       "      <td>ship</td>\n",
       "      <td>9.436128</td>\n",
       "      <td>3.232377</td>\n",
       "      <td>6.343981</td>\n",
       "      <td>7.677076</td>\n",
       "      <td>4.485929</td>\n",
       "      <td>6.246330</td>\n",
       "      <td>0.0</td>\n",
       "      <td>9.149520</td>\n",
       "      <td>...</td>\n",
       "      <td>4.898196</td>\n",
       "      <td>7.693012</td>\n",
       "      <td>6.734238</td>\n",
       "      <td>6.431811</td>\n",
       "      <td>0.0</td>\n",
       "      <td>3.404580</td>\n",
       "      <td>5.283672</td>\n",
       "      <td>0.968780</td>\n",
       "      <td>3.122032e-02</td>\n",
       "      <td>19.505174</td>\n",
       "    </tr>\n",
       "    <tr>\n",
       "      <th>9848</th>\n",
       "      <td>2</td>\n",
       "      <td>bird</td>\n",
       "      <td>8.533062</td>\n",
       "      <td>4.256577</td>\n",
       "      <td>5.074019</td>\n",
       "      <td>8.446680</td>\n",
       "      <td>4.533607</td>\n",
       "      <td>6.985914</td>\n",
       "      <td>0.0</td>\n",
       "      <td>9.714566</td>\n",
       "      <td>...</td>\n",
       "      <td>4.425282</td>\n",
       "      <td>7.748300</td>\n",
       "      <td>6.702033</td>\n",
       "      <td>6.888706</td>\n",
       "      <td>0.0</td>\n",
       "      <td>3.502450</td>\n",
       "      <td>5.138515</td>\n",
       "      <td>0.968732</td>\n",
       "      <td>3.126818e-02</td>\n",
       "      <td>19.914289</td>\n",
       "    </tr>\n",
       "    <tr>\n",
       "      <th>9921</th>\n",
       "      <td>0</td>\n",
       "      <td>airplane</td>\n",
       "      <td>8.989956</td>\n",
       "      <td>3.485009</td>\n",
       "      <td>5.625355</td>\n",
       "      <td>8.302534</td>\n",
       "      <td>4.883767</td>\n",
       "      <td>5.970737</td>\n",
       "      <td>0.0</td>\n",
       "      <td>9.350985</td>\n",
       "      <td>...</td>\n",
       "      <td>4.843243</td>\n",
       "      <td>8.466671</td>\n",
       "      <td>6.626676</td>\n",
       "      <td>6.834029</td>\n",
       "      <td>0.0</td>\n",
       "      <td>4.133235</td>\n",
       "      <td>4.522189</td>\n",
       "      <td>0.964205</td>\n",
       "      <td>3.579545e-02</td>\n",
       "      <td>20.173966</td>\n",
       "    </tr>\n",
       "    <tr>\n",
       "      <th>3444</th>\n",
       "      <td>0</td>\n",
       "      <td>airplane</td>\n",
       "      <td>9.972908</td>\n",
       "      <td>3.902501</td>\n",
       "      <td>6.307645</td>\n",
       "      <td>8.853616</td>\n",
       "      <td>4.980157</td>\n",
       "      <td>6.189075</td>\n",
       "      <td>0.0</td>\n",
       "      <td>10.131848</td>\n",
       "      <td>...</td>\n",
       "      <td>5.449687</td>\n",
       "      <td>8.036226</td>\n",
       "      <td>7.327754</td>\n",
       "      <td>6.921002</td>\n",
       "      <td>0.0</td>\n",
       "      <td>3.663971</td>\n",
       "      <td>5.064769</td>\n",
       "      <td>0.966039</td>\n",
       "      <td>3.396118e-02</td>\n",
       "      <td>22.038010</td>\n",
       "    </tr>\n",
       "  </tbody>\n",
       "</table>\n",
       "<p>10000 rows × 37 columns</p>\n",
       "</div>"
      ],
      "text/plain": [
       "      Class Class Name         0         1         2         3         4  \\\n",
       "7014      3        cat  3.795632  2.544207  3.166904  4.355550  1.901885   \n",
       "8615      9      truck  4.380368  2.385459  2.858238  3.910069  1.752281   \n",
       "9706      9      truck  2.999874  2.594799  3.169684  4.125625  1.672868   \n",
       "6775      0   airplane  3.698957  2.040801  3.464349  3.895027  1.727041   \n",
       "2426      2       bird  3.928161  1.644547  2.859349  3.933911  2.065698   \n",
       "...     ...        ...       ...       ...       ...       ...       ...   \n",
       "3551      0   airplane  9.602813  3.253772  5.777323  7.636608  3.676656   \n",
       "218       8       ship  9.436128  3.232377  6.343981  7.677076  4.485929   \n",
       "9848      2       bird  8.533062  4.256577  5.074019  8.446680  4.533607   \n",
       "9921      0   airplane  8.989956  3.485009  5.625355  8.302534  4.883767   \n",
       "3444      0   airplane  9.972908  3.902501  6.307645  8.853616  4.980157   \n",
       "\n",
       "             5    6          7  ...        25        26        27        28  \\\n",
       "7014  2.814483  0.0   3.261998  ...  2.695953  2.786493  2.851933  2.295295   \n",
       "8615  2.842280  0.0   4.801076  ...  2.398909  2.655546  3.281688  2.395820   \n",
       "9706  3.201372  0.0   4.309266  ...  2.916048  3.580771  2.980234  2.718235   \n",
       "6775  2.254747  0.0   3.813869  ...  1.518713  3.168456  3.390552  3.288336   \n",
       "2426  2.703023  0.0   3.702438  ...  1.992302  2.776868  2.494401  2.607775   \n",
       "...        ...  ...        ...  ...       ...       ...       ...       ...   \n",
       "3551  4.987467  0.0   9.268400  ...  4.436051  8.212875  7.793247  6.187909   \n",
       "218   6.246330  0.0   9.149520  ...  4.898196  7.693012  6.734238  6.431811   \n",
       "9848  6.985914  0.0   9.714566  ...  4.425282  7.748300  6.702033  6.888706   \n",
       "9921  5.970737  0.0   9.350985  ...  4.843243  8.466671  6.626676  6.834029   \n",
       "3444  6.189075  0.0  10.131848  ...  5.449687  8.036226  7.327754  6.921002   \n",
       "\n",
       "       29        30        31  Cosine Similarity  Cosine Distance  \\\n",
       "7014  0.0  1.690982  2.697966           1.000000     5.960464e-08   \n",
       "8615  0.0  1.309829  2.390385           0.977491     2.250898e-02   \n",
       "9706  0.0  1.601286  1.695688           0.978337     2.166325e-02   \n",
       "6775  0.0  0.943363  1.987781           0.975008     2.499241e-02   \n",
       "2426  0.0  0.801776  1.955480           0.974831     2.516901e-02   \n",
       "...   ...       ...       ...                ...              ...   \n",
       "3551  0.0  3.397784  3.913574           0.958222     4.177821e-02   \n",
       "218   0.0  3.404580  5.283672           0.968780     3.122032e-02   \n",
       "9848  0.0  3.502450  5.138515           0.968732     3.126818e-02   \n",
       "9921  0.0  4.133235  4.522189           0.964205     3.579545e-02   \n",
       "3444  0.0  3.663971  5.064769           0.966039     3.396118e-02   \n",
       "\n",
       "      Euclidean Distance  \n",
       "7014            0.000000  \n",
       "8615            3.145764  \n",
       "9706            3.218633  \n",
       "6775            3.225524  \n",
       "2426            3.388013  \n",
       "...                  ...  \n",
       "3551           19.385141  \n",
       "218            19.505174  \n",
       "9848           19.914289  \n",
       "9921           20.173966  \n",
       "3444           22.038010  \n",
       "\n",
       "[10000 rows x 37 columns]"
      ]
     },
     "execution_count": 29,
     "metadata": {},
     "output_type": "execute_result"
    }
   ],
   "source": [
    "final_encoded_test_data_df['Euclidean Distance'] = euclidean_distance\n",
    "final_encoded_test_data_df.sort_values(by = ['Euclidean Distance'])"
   ]
  },
  {
   "cell_type": "code",
   "execution_count": 30,
   "metadata": {
    "scrolled": true
   },
   "outputs": [
    {
     "data": {
      "image/png": "[encoded data removed]",
      "text/plain": [
       "<Figure size 144x144 with 1 Axes>"
      ]
     },
     "metadata": {
      "needs_background": "light"
     },
     "output_type": "display_data"
    },
    {
     "data": {
      "image/png": "[encoded data removed]",
      "text/plain": [
       "<Figure size 144x144 with 1 Axes>"
      ]
     },
     "metadata": {
      "needs_background": "light"
     },
     "output_type": "display_data"
    },
    {
     "data": {
      "image/png": "[encoded data removed]",
      "text/plain": [
       "<Figure size 144x144 with 1 Axes>"
      ]
     },
     "metadata": {
      "needs_background": "light"
     },
     "output_type": "display_data"
    },
    {
     "data": {
      "image/png": "[encoded data removed]",
      "text/plain": [
       "<Figure size 144x144 with 1 Axes>"
      ]
     },
     "metadata": {
      "needs_background": "light"
     },
     "output_type": "display_data"
    },
    {
     "data": {
      "image/png": "[encoded data removed]",
      "text/plain": [
       "<Figure size 144x144 with 1 Axes>"
      ]
     },
     "metadata": {
      "needs_background": "light"
     },
     "output_type": "display_data"
    },
    {
     "data": {
      "image/png": "[encoded data removed]",
      "text/plain": [
       "<Figure size 144x144 with 1 Axes>"
      ]
     },
     "metadata": {
      "needs_background": "light"
     },
     "output_type": "display_data"
    },
    {
     "data": {
      "image/png": "[encoded data removed]",
      "text/plain": [
       "<Figure size 144x144 with 1 Axes>"
      ]
     },
     "metadata": {
      "needs_background": "light"
     },
     "output_type": "display_data"
    },
    {
     "data": {
      "image/png": "[encoded data removed]",
      "text/plain": [
       "<Figure size 144x144 with 1 Axes>"
      ]
     },
     "metadata": {
      "needs_background": "light"
     },
     "output_type": "display_data"
    },
    {
     "data": {
      "image/png": "[encoded data removed]",
      "text/plain": [
       "<Figure size 144x144 with 1 Axes>"
      ]
     },
     "metadata": {
      "needs_background": "light"
     },
     "output_type": "display_data"
    },
    {
     "data": {
      "image/png": "[encoded data removed]",
      "text/plain": [
       "<Figure size 144x144 with 1 Axes>"
      ]
     },
     "metadata": {
      "needs_background": "light"
     },
     "output_type": "display_data"
    }
   ],
   "source": [
    "euclidean_index = final_encoded_test_data_df.sort_values(by = ['Euclidean Distance']).head(10).index\n",
    "\n",
    "for i in euclidean_index:\n",
    "    plt.figure(figsize = (2, 2))\n",
    "    plt.imshow(x_test[i].reshape(32, 32, 3))\n",
    "    plt.xlabel(final_encoded_test_data_df['Class Name'][i] + ' with an Euclidean Distance of ' + str(final_encoded_test_data_df['Euclidean Distance'][i]) + ' from the queried image.')\n",
    "    plt.show()"
   ]
  },
  {
   "cell_type": "code",
   "execution_count": null,
   "metadata": {},
   "outputs": [],
   "source": []
  }
 ],
 "metadata": {
  "kernelspec": {
   "display_name": "Python 3",
   "language": "python",
   "name": "python3"
  },
  "language_info": {
   "codemirror_mode": {
    "name": "ipython",
    "version": 3
   },
   "file_extension": ".py",
   "mimetype": "text/x-python",
   "name": "python",
   "nbconvert_exporter": "python",
   "pygments_lexer": "ipython3",
   "version": "3.6.9"
  }
 },
 "nbformat": 4,
 "nbformat_minor": 2
}
