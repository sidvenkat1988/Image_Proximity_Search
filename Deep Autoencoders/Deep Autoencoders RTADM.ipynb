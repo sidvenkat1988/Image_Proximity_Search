{
 "cells": [
  {
   "cell_type": "code",
   "execution_count": 2,
   "metadata": {},
   "outputs": [],
   "source": [
    "from keras.layers import Input, Dense\n",
    "from keras.models import Model\n",
    "\n",
    "import numpy as np\n",
    "import pandas as pd\n",
    "import matplotlib.pyplot as plt\n",
    "%matplotlib inline"
   ]
  },
  {
   "cell_type": "code",
   "execution_count": 3,
   "metadata": {},
   "outputs": [
    {
     "name": "stdout",
     "output_type": "stream",
     "text": [
      "(50000, 3074)\n",
      "(10000, 3074)\n"
     ]
    }
   ],
   "source": [
    "datadir = '/Users/sidv88/Documents/Data_Management_2/Data/'\n",
    "train_data = pd.read_csv(datadir + 'train_rgb.csv')\n",
    "test_data = pd.read_csv(datadir + 'test_rgb.csv')\n",
    "print(train_data.shape)\n",
    "print(test_data.shape)"
   ]
  },
  {
   "cell_type": "code",
   "execution_count": 4,
   "metadata": {},
   "outputs": [
    {
     "data": {
      "text/html": [
       "<div>\n",
       "<style scoped>\n",
       "    .dataframe tbody tr th:only-of-type {\n",
       "        vertical-align: middle;\n",
       "    }\n",
       "\n",
       "    .dataframe tbody tr th {\n",
       "        vertical-align: top;\n",
       "    }\n",
       "\n",
       "    .dataframe thead th {\n",
       "        text-align: right;\n",
       "    }\n",
       "</style>\n",
       "<table border=\"1\" class=\"dataframe\">\n",
       "  <thead>\n",
       "    <tr style=\"text-align: right;\">\n",
       "      <th></th>\n",
       "      <th>Class</th>\n",
       "      <th>Class Name</th>\n",
       "      <th>0</th>\n",
       "      <th>1</th>\n",
       "      <th>2</th>\n",
       "      <th>3</th>\n",
       "      <th>4</th>\n",
       "      <th>5</th>\n",
       "      <th>6</th>\n",
       "      <th>7</th>\n",
       "      <th>...</th>\n",
       "      <th>3062</th>\n",
       "      <th>3063</th>\n",
       "      <th>3064</th>\n",
       "      <th>3065</th>\n",
       "      <th>3066</th>\n",
       "      <th>3067</th>\n",
       "      <th>3068</th>\n",
       "      <th>3069</th>\n",
       "      <th>3070</th>\n",
       "      <th>3071</th>\n",
       "    </tr>\n",
       "  </thead>\n",
       "  <tbody>\n",
       "    <tr>\n",
       "      <th>0</th>\n",
       "      <td>6</td>\n",
       "      <td>frog</td>\n",
       "      <td>59</td>\n",
       "      <td>62</td>\n",
       "      <td>63</td>\n",
       "      <td>43</td>\n",
       "      <td>46</td>\n",
       "      <td>45</td>\n",
       "      <td>50</td>\n",
       "      <td>48</td>\n",
       "      <td>...</td>\n",
       "      <td>104</td>\n",
       "      <td>216</td>\n",
       "      <td>184</td>\n",
       "      <td>140</td>\n",
       "      <td>151</td>\n",
       "      <td>118</td>\n",
       "      <td>84</td>\n",
       "      <td>123</td>\n",
       "      <td>92</td>\n",
       "      <td>72</td>\n",
       "    </tr>\n",
       "    <tr>\n",
       "      <th>1</th>\n",
       "      <td>9</td>\n",
       "      <td>truck</td>\n",
       "      <td>154</td>\n",
       "      <td>177</td>\n",
       "      <td>187</td>\n",
       "      <td>126</td>\n",
       "      <td>137</td>\n",
       "      <td>136</td>\n",
       "      <td>105</td>\n",
       "      <td>104</td>\n",
       "      <td>...</td>\n",
       "      <td>136</td>\n",
       "      <td>143</td>\n",
       "      <td>133</td>\n",
       "      <td>139</td>\n",
       "      <td>143</td>\n",
       "      <td>134</td>\n",
       "      <td>142</td>\n",
       "      <td>143</td>\n",
       "      <td>133</td>\n",
       "      <td>144</td>\n",
       "    </tr>\n",
       "    <tr>\n",
       "      <th>2</th>\n",
       "      <td>9</td>\n",
       "      <td>truck</td>\n",
       "      <td>255</td>\n",
       "      <td>255</td>\n",
       "      <td>255</td>\n",
       "      <td>253</td>\n",
       "      <td>253</td>\n",
       "      <td>253</td>\n",
       "      <td>253</td>\n",
       "      <td>253</td>\n",
       "      <td>...</td>\n",
       "      <td>79</td>\n",
       "      <td>78</td>\n",
       "      <td>85</td>\n",
       "      <td>83</td>\n",
       "      <td>79</td>\n",
       "      <td>85</td>\n",
       "      <td>83</td>\n",
       "      <td>80</td>\n",
       "      <td>86</td>\n",
       "      <td>84</td>\n",
       "    </tr>\n",
       "    <tr>\n",
       "      <th>3</th>\n",
       "      <td>4</td>\n",
       "      <td>deer</td>\n",
       "      <td>28</td>\n",
       "      <td>25</td>\n",
       "      <td>10</td>\n",
       "      <td>37</td>\n",
       "      <td>34</td>\n",
       "      <td>19</td>\n",
       "      <td>38</td>\n",
       "      <td>35</td>\n",
       "      <td>...</td>\n",
       "      <td>38</td>\n",
       "      <td>54</td>\n",
       "      <td>47</td>\n",
       "      <td>28</td>\n",
       "      <td>63</td>\n",
       "      <td>56</td>\n",
       "      <td>37</td>\n",
       "      <td>72</td>\n",
       "      <td>65</td>\n",
       "      <td>46</td>\n",
       "    </tr>\n",
       "    <tr>\n",
       "      <th>4</th>\n",
       "      <td>1</td>\n",
       "      <td>automobile</td>\n",
       "      <td>170</td>\n",
       "      <td>180</td>\n",
       "      <td>198</td>\n",
       "      <td>168</td>\n",
       "      <td>178</td>\n",
       "      <td>196</td>\n",
       "      <td>177</td>\n",
       "      <td>185</td>\n",
       "      <td>...</td>\n",
       "      <td>78</td>\n",
       "      <td>75</td>\n",
       "      <td>79</td>\n",
       "      <td>82</td>\n",
       "      <td>71</td>\n",
       "      <td>75</td>\n",
       "      <td>78</td>\n",
       "      <td>73</td>\n",
       "      <td>77</td>\n",
       "      <td>80</td>\n",
       "    </tr>\n",
       "  </tbody>\n",
       "</table>\n",
       "<p>5 rows × 3074 columns</p>\n",
       "</div>"
      ],
      "text/plain": [
       "   Class  Class Name    0    1    2    3    4    5    6    7  ...  3062  3063  \\\n",
       "0      6        frog   59   62   63   43   46   45   50   48  ...   104   216   \n",
       "1      9       truck  154  177  187  126  137  136  105  104  ...   136   143   \n",
       "2      9       truck  255  255  255  253  253  253  253  253  ...    79    78   \n",
       "3      4        deer   28   25   10   37   34   19   38   35  ...    38    54   \n",
       "4      1  automobile  170  180  198  168  178  196  177  185  ...    78    75   \n",
       "\n",
       "   3064  3065  3066  3067  3068  3069  3070  3071  \n",
       "0   184   140   151   118    84   123    92    72  \n",
       "1   133   139   143   134   142   143   133   144  \n",
       "2    85    83    79    85    83    80    86    84  \n",
       "3    47    28    63    56    37    72    65    46  \n",
       "4    79    82    71    75    78    73    77    80  \n",
       "\n",
       "[5 rows x 3074 columns]"
      ]
     },
     "execution_count": 4,
     "metadata": {},
     "output_type": "execute_result"
    }
   ],
   "source": [
    "train_data.head()"
   ]
  },
  {
   "cell_type": "code",
   "execution_count": 5,
   "metadata": {},
   "outputs": [
    {
     "data": {
      "text/html": [
       "<div>\n",
       "<style scoped>\n",
       "    .dataframe tbody tr th:only-of-type {\n",
       "        vertical-align: middle;\n",
       "    }\n",
       "\n",
       "    .dataframe tbody tr th {\n",
       "        vertical-align: top;\n",
       "    }\n",
       "\n",
       "    .dataframe thead th {\n",
       "        text-align: right;\n",
       "    }\n",
       "</style>\n",
       "<table border=\"1\" class=\"dataframe\">\n",
       "  <thead>\n",
       "    <tr style=\"text-align: right;\">\n",
       "      <th></th>\n",
       "      <th>Class</th>\n",
       "      <th>Class Name</th>\n",
       "      <th>0</th>\n",
       "      <th>1</th>\n",
       "      <th>2</th>\n",
       "      <th>3</th>\n",
       "      <th>4</th>\n",
       "      <th>5</th>\n",
       "      <th>6</th>\n",
       "      <th>7</th>\n",
       "      <th>...</th>\n",
       "      <th>3062</th>\n",
       "      <th>3063</th>\n",
       "      <th>3064</th>\n",
       "      <th>3065</th>\n",
       "      <th>3066</th>\n",
       "      <th>3067</th>\n",
       "      <th>3068</th>\n",
       "      <th>3069</th>\n",
       "      <th>3070</th>\n",
       "      <th>3071</th>\n",
       "    </tr>\n",
       "  </thead>\n",
       "  <tbody>\n",
       "    <tr>\n",
       "      <th>0</th>\n",
       "      <td>3</td>\n",
       "      <td>cat</td>\n",
       "      <td>158</td>\n",
       "      <td>112</td>\n",
       "      <td>49</td>\n",
       "      <td>159</td>\n",
       "      <td>111</td>\n",
       "      <td>47</td>\n",
       "      <td>165</td>\n",
       "      <td>116</td>\n",
       "      <td>...</td>\n",
       "      <td>145</td>\n",
       "      <td>24</td>\n",
       "      <td>77</td>\n",
       "      <td>124</td>\n",
       "      <td>34</td>\n",
       "      <td>84</td>\n",
       "      <td>129</td>\n",
       "      <td>21</td>\n",
       "      <td>67</td>\n",
       "      <td>110</td>\n",
       "    </tr>\n",
       "    <tr>\n",
       "      <th>1</th>\n",
       "      <td>8</td>\n",
       "      <td>ship</td>\n",
       "      <td>235</td>\n",
       "      <td>235</td>\n",
       "      <td>235</td>\n",
       "      <td>231</td>\n",
       "      <td>231</td>\n",
       "      <td>231</td>\n",
       "      <td>232</td>\n",
       "      <td>232</td>\n",
       "      <td>...</td>\n",
       "      <td>163</td>\n",
       "      <td>168</td>\n",
       "      <td>183</td>\n",
       "      <td>178</td>\n",
       "      <td>180</td>\n",
       "      <td>195</td>\n",
       "      <td>191</td>\n",
       "      <td>186</td>\n",
       "      <td>200</td>\n",
       "      <td>199</td>\n",
       "    </tr>\n",
       "    <tr>\n",
       "      <th>2</th>\n",
       "      <td>8</td>\n",
       "      <td>ship</td>\n",
       "      <td>158</td>\n",
       "      <td>190</td>\n",
       "      <td>222</td>\n",
       "      <td>158</td>\n",
       "      <td>187</td>\n",
       "      <td>218</td>\n",
       "      <td>139</td>\n",
       "      <td>166</td>\n",
       "      <td>...</td>\n",
       "      <td>37</td>\n",
       "      <td>5</td>\n",
       "      <td>6</td>\n",
       "      <td>8</td>\n",
       "      <td>4</td>\n",
       "      <td>5</td>\n",
       "      <td>3</td>\n",
       "      <td>7</td>\n",
       "      <td>8</td>\n",
       "      <td>7</td>\n",
       "    </tr>\n",
       "    <tr>\n",
       "      <th>3</th>\n",
       "      <td>0</td>\n",
       "      <td>airplane</td>\n",
       "      <td>155</td>\n",
       "      <td>156</td>\n",
       "      <td>149</td>\n",
       "      <td>167</td>\n",
       "      <td>176</td>\n",
       "      <td>187</td>\n",
       "      <td>176</td>\n",
       "      <td>179</td>\n",
       "      <td>...</td>\n",
       "      <td>53</td>\n",
       "      <td>60</td>\n",
       "      <td>63</td>\n",
       "      <td>50</td>\n",
       "      <td>64</td>\n",
       "      <td>65</td>\n",
       "      <td>52</td>\n",
       "      <td>73</td>\n",
       "      <td>68</td>\n",
       "      <td>50</td>\n",
       "    </tr>\n",
       "    <tr>\n",
       "      <th>4</th>\n",
       "      <td>6</td>\n",
       "      <td>frog</td>\n",
       "      <td>65</td>\n",
       "      <td>68</td>\n",
       "      <td>50</td>\n",
       "      <td>70</td>\n",
       "      <td>81</td>\n",
       "      <td>64</td>\n",
       "      <td>48</td>\n",
       "      <td>64</td>\n",
       "      <td>...</td>\n",
       "      <td>147</td>\n",
       "      <td>143</td>\n",
       "      <td>179</td>\n",
       "      <td>136</td>\n",
       "      <td>154</td>\n",
       "      <td>185</td>\n",
       "      <td>146</td>\n",
       "      <td>128</td>\n",
       "      <td>156</td>\n",
       "      <td>117</td>\n",
       "    </tr>\n",
       "  </tbody>\n",
       "</table>\n",
       "<p>5 rows × 3074 columns</p>\n",
       "</div>"
      ],
      "text/plain": [
       "   Class Class Name    0    1    2    3    4    5    6    7  ...  3062  3063  \\\n",
       "0      3        cat  158  112   49  159  111   47  165  116  ...   145    24   \n",
       "1      8       ship  235  235  235  231  231  231  232  232  ...   163   168   \n",
       "2      8       ship  158  190  222  158  187  218  139  166  ...    37     5   \n",
       "3      0   airplane  155  156  149  167  176  187  176  179  ...    53    60   \n",
       "4      6       frog   65   68   50   70   81   64   48   64  ...   147   143   \n",
       "\n",
       "   3064  3065  3066  3067  3068  3069  3070  3071  \n",
       "0    77   124    34    84   129    21    67   110  \n",
       "1   183   178   180   195   191   186   200   199  \n",
       "2     6     8     4     5     3     7     8     7  \n",
       "3    63    50    64    65    52    73    68    50  \n",
       "4   179   136   154   185   146   128   156   117  \n",
       "\n",
       "[5 rows x 3074 columns]"
      ]
     },
     "execution_count": 5,
     "metadata": {},
     "output_type": "execute_result"
    }
   ],
   "source": [
    "test_data.head()"
   ]
  },
  {
   "cell_type": "code",
   "execution_count": 6,
   "metadata": {},
   "outputs": [
    {
     "name": "stdout",
     "output_type": "stream",
     "text": [
      "(50000, 3072)\n",
      "(50000, 2)\n"
     ]
    }
   ],
   "source": [
    "x_train = train_data.iloc[:, 2:]\n",
    "print(x_train.shape)\n",
    "y_train = train_data.iloc[:, [0, 1]]\n",
    "print(y_train.shape)"
   ]
  },
  {
   "cell_type": "code",
   "execution_count": 7,
   "metadata": {},
   "outputs": [
    {
     "name": "stdout",
     "output_type": "stream",
     "text": [
      "(10000, 3072)\n",
      "(10000, 2)\n"
     ]
    }
   ],
   "source": [
    "x_test = test_data.iloc[:, 2:]\n",
    "print(x_test.shape)\n",
    "y_test = test_data.iloc[:, [0, 1]]\n",
    "print(y_test.shape)"
   ]
  },
  {
   "cell_type": "code",
   "execution_count": 8,
   "metadata": {},
   "outputs": [],
   "source": [
    "x_train = np.array(x_train)\n",
    "x_test = np.array(x_test)"
   ]
  },
  {
   "cell_type": "code",
   "execution_count": 9,
   "metadata": {},
   "outputs": [
    {
     "name": "stdout",
     "output_type": "stream",
     "text": [
      "(50000, 3072)\n",
      "(10000, 3072)\n"
     ]
    }
   ],
   "source": [
    "print(x_train.shape)\n",
    "print(x_test.shape)"
   ]
  },
  {
   "cell_type": "code",
   "execution_count": 10,
   "metadata": {},
   "outputs": [
    {
     "name": "stdout",
     "output_type": "stream",
     "text": [
      "(50000, 3072)\n",
      "(10000, 3072)\n"
     ]
    }
   ],
   "source": [
    "x_train = x_train.astype('float32')/255\n",
    "x_test = x_test.astype('float32')/255\n",
    "print(x_train.shape)\n",
    "print(x_test.shape)"
   ]
  },
  {
   "cell_type": "code",
   "execution_count": 11,
   "metadata": {},
   "outputs": [],
   "source": [
    "input_img = Input(shape = (3072, ))\n",
    "encoded = Dense(units = 128, activation = 'relu')(input_img)\n",
    "encoded = Dense(units = 128, activation = 'relu')(encoded)\n",
    "encoded = Dense(units = 64, activation = 'relu')(encoded)\n",
    "encoded = Dense(units = 64, activation = 'relu')(encoded)\n",
    "encoded = Dense(units = 32, activation = 'relu')(encoded)\n",
    "decoded = Dense(units = 64, activation = 'relu')(encoded)\n",
    "decoded = Dense(units = 64, activation = 'relu')(decoded)\n",
    "decoded = Dense(units = 128, activation = 'relu')(decoded)\n",
    "decoded = Dense(units = 128, activation = 'relu')(decoded)\n",
    "decoded = Dense(units = 3072, activation = 'tanh')(decoded)"
   ]
  },
  {
   "cell_type": "code",
   "execution_count": 12,
   "metadata": {},
   "outputs": [],
   "source": [
    "autoencoder = Model(input_img, decoded)\n",
    "encoder = Model(input_img, encoded)"
   ]
  },
  {
   "cell_type": "code",
   "execution_count": 13,
   "metadata": {
    "scrolled": true
   },
   "outputs": [
    {
     "name": "stdout",
     "output_type": "stream",
     "text": [
      "Model: \"model_1\"\n",
      "_________________________________________________________________\n",
      "Layer (type)                 Output Shape              Param #   \n",
      "=================================================================\n",
      "input_1 (InputLayer)         (None, 3072)              0         \n",
      "_________________________________________________________________\n",
      "dense_1 (Dense)              (None, 128)               393344    \n",
      "_________________________________________________________________\n",
      "dense_2 (Dense)              (None, 128)               16512     \n",
      "_________________________________________________________________\n",
      "dense_3 (Dense)              (None, 64)                8256      \n",
      "_________________________________________________________________\n",
      "dense_4 (Dense)              (None, 64)                4160      \n",
      "_________________________________________________________________\n",
      "dense_5 (Dense)              (None, 32)                2080      \n",
      "_________________________________________________________________\n",
      "dense_6 (Dense)              (None, 64)                2112      \n",
      "_________________________________________________________________\n",
      "dense_7 (Dense)              (None, 64)                4160      \n",
      "_________________________________________________________________\n",
      "dense_8 (Dense)              (None, 128)               8320      \n",
      "_________________________________________________________________\n",
      "dense_9 (Dense)              (None, 128)               16512     \n",
      "_________________________________________________________________\n",
      "dense_10 (Dense)             (None, 3072)              396288    \n",
      "=================================================================\n",
      "Total params: 851,744\n",
      "Trainable params: 851,744\n",
      "Non-trainable params: 0\n",
      "_________________________________________________________________\n"
     ]
    }
   ],
   "source": [
    "autoencoder.summary()"
   ]
  },
  {
   "cell_type": "code",
   "execution_count": 14,
   "metadata": {
    "scrolled": true
   },
   "outputs": [
    {
     "name": "stdout",
     "output_type": "stream",
     "text": [
      "Model: \"model_2\"\n",
      "_________________________________________________________________\n",
      "Layer (type)                 Output Shape              Param #   \n",
      "=================================================================\n",
      "input_1 (InputLayer)         (None, 3072)              0         \n",
      "_________________________________________________________________\n",
      "dense_1 (Dense)              (None, 128)               393344    \n",
      "_________________________________________________________________\n",
      "dense_2 (Dense)              (None, 128)               16512     \n",
      "_________________________________________________________________\n",
      "dense_3 (Dense)              (None, 64)                8256      \n",
      "_________________________________________________________________\n",
      "dense_4 (Dense)              (None, 64)                4160      \n",
      "_________________________________________________________________\n",
      "dense_5 (Dense)              (None, 32)                2080      \n",
      "=================================================================\n",
      "Total params: 424,352\n",
      "Trainable params: 424,352\n",
      "Non-trainable params: 0\n",
      "_________________________________________________________________\n"
     ]
    }
   ],
   "source": [
    "encoder.summary()"
   ]
  },
  {
   "cell_type": "code",
   "execution_count": 15,
   "metadata": {
    "scrolled": true
   },
   "outputs": [
    {
     "name": "stdout",
     "output_type": "stream",
     "text": [
      "Train on 50000 samples, validate on 10000 samples\n",
      "Epoch 1/50\n",
      "50000/50000 [==============================] - 10s 208us/step - loss: 0.0954 - accuracy: 3.8000e-04 - val_loss: 0.0496 - val_accuracy: 2.0000e-04\n",
      "Epoch 2/50\n",
      "50000/50000 [==============================] - 10s 201us/step - loss: 0.0512 - accuracy: 5.6000e-04 - val_loss: 0.0497 - val_accuracy: 5.0000e-04\n",
      "Epoch 3/50\n",
      "50000/50000 [==============================] - 10s 205us/step - loss: 0.0515 - accuracy: 5.2000e-04 - val_loss: 0.0515 - val_accuracy: 6.0000e-04\n",
      "Epoch 4/50\n",
      "50000/50000 [==============================] - 10s 208us/step - loss: 0.0506 - accuracy: 6.0000e-04 - val_loss: 0.0511 - val_accuracy: 2.0000e-04\n",
      "Epoch 5/50\n",
      "50000/50000 [==============================] - 10s 203us/step - loss: 0.0510 - accuracy: 5.6000e-04 - val_loss: 0.0525 - val_accuracy: 3.0000e-04\n",
      "Epoch 6/50\n",
      "50000/50000 [==============================] - 10s 209us/step - loss: 0.0511 - accuracy: 4.2000e-04 - val_loss: 0.0508 - val_accuracy: 4.0000e-04\n",
      "Epoch 7/50\n",
      "50000/50000 [==============================] - 11s 213us/step - loss: 0.0507 - accuracy: 4.8000e-04 - val_loss: 0.0495 - val_accuracy: 4.0000e-04\n",
      "Epoch 8/50\n",
      "50000/50000 [==============================] - 11s 226us/step - loss: 0.0506 - accuracy: 5.2000e-04 - val_loss: 0.0498 - val_accuracy: 7.0000e-04\n",
      "Epoch 9/50\n",
      "50000/50000 [==============================] - 10s 208us/step - loss: 0.0498 - accuracy: 5.6000e-04 - val_loss: 0.0480 - val_accuracy: 0.0000e+00\n",
      "Epoch 10/50\n",
      "50000/50000 [==============================] - 11s 213us/step - loss: 0.0453 - accuracy: 0.0011 - val_loss: 0.0445 - val_accuracy: 0.0022\n",
      "Epoch 11/50\n",
      "50000/50000 [==============================] - 15s 304us/step - loss: 0.0421 - accuracy: 0.0016 - val_loss: 0.0400 - val_accuracy: 0.0019\n",
      "Epoch 12/50\n",
      "50000/50000 [==============================] - 12s 244us/step - loss: 0.0412 - accuracy: 0.0018 - val_loss: 0.0405 - val_accuracy: 0.0017\n",
      "Epoch 13/50\n",
      "50000/50000 [==============================] - 11s 227us/step - loss: 0.0406 - accuracy: 0.0013 - val_loss: 0.0387 - val_accuracy: 0.0014\n",
      "Epoch 14/50\n",
      "50000/50000 [==============================] - 13s 250us/step - loss: 0.0393 - accuracy: 0.0013 - val_loss: 0.0390 - val_accuracy: 6.0000e-04\n",
      "Epoch 15/50\n",
      "50000/50000 [==============================] - 12s 235us/step - loss: 0.0378 - accuracy: 0.0014 - val_loss: 0.0361 - val_accuracy: 0.0016\n",
      "Epoch 16/50\n",
      "50000/50000 [==============================] - 11s 228us/step - loss: 0.0372 - accuracy: 0.0013 - val_loss: 0.0368 - val_accuracy: 0.0013\n",
      "Epoch 17/50\n",
      "50000/50000 [==============================] - 16s 317us/step - loss: 0.0368 - accuracy: 0.0016 - val_loss: 0.0362 - val_accuracy: 0.0020\n",
      "Epoch 18/50\n",
      "50000/50000 [==============================] - 17s 347us/step - loss: 0.0366 - accuracy: 0.0013 - val_loss: 0.0367 - val_accuracy: 0.0017\n",
      "Epoch 19/50\n",
      "50000/50000 [==============================] - 13s 269us/step - loss: 0.0368 - accuracy: 0.0017 - val_loss: 0.0365 - val_accuracy: 0.0023\n",
      "Epoch 20/50\n",
      "50000/50000 [==============================] - 15s 301us/step - loss: 0.0365 - accuracy: 0.0017 - val_loss: 0.0380 - val_accuracy: 0.0023\n",
      "Epoch 21/50\n",
      "50000/50000 [==============================] - 14s 289us/step - loss: 0.0360 - accuracy: 0.0016 - val_loss: 0.0377 - val_accuracy: 0.0023\n",
      "Epoch 22/50\n",
      "50000/50000 [==============================] - 11s 218us/step - loss: 0.0362 - accuracy: 0.0014 - val_loss: 0.0344 - val_accuracy: 0.0019\n",
      "Epoch 23/50\n",
      "50000/50000 [==============================] - 10s 205us/step - loss: 0.0359 - accuracy: 0.0016 - val_loss: 0.0370 - val_accuracy: 0.0015\n",
      "Epoch 24/50\n",
      "50000/50000 [==============================] - 10s 205us/step - loss: 0.0363 - accuracy: 0.0016 - val_loss: 0.0361 - val_accuracy: 0.0018\n",
      "Epoch 25/50\n",
      "50000/50000 [==============================] - 10s 207us/step - loss: 0.0361 - accuracy: 0.0016 - val_loss: 0.0378 - val_accuracy: 0.0015\n",
      "Epoch 26/50\n",
      "50000/50000 [==============================] - 10s 206us/step - loss: 0.0363 - accuracy: 0.0015 - val_loss: 0.0363 - val_accuracy: 0.0013\n",
      "Epoch 27/50\n",
      "50000/50000 [==============================] - 10s 205us/step - loss: 0.0361 - accuracy: 0.0018 - val_loss: 0.0368 - val_accuracy: 0.0017\n",
      "Epoch 28/50\n",
      "50000/50000 [==============================] - 10s 205us/step - loss: 0.0361 - accuracy: 0.0016 - val_loss: 0.0361 - val_accuracy: 0.0017\n",
      "Epoch 29/50\n",
      "50000/50000 [==============================] - 10s 205us/step - loss: 0.0360 - accuracy: 0.0013 - val_loss: 0.0362 - val_accuracy: 0.0015\n",
      "Epoch 30/50\n",
      "50000/50000 [==============================] - 10s 208us/step - loss: 0.0360 - accuracy: 0.0015 - val_loss: 0.0371 - val_accuracy: 0.0018\n",
      "Epoch 31/50\n",
      "50000/50000 [==============================] - 10s 204us/step - loss: 0.0362 - accuracy: 0.0014 - val_loss: 0.0354 - val_accuracy: 0.0015\n",
      "Epoch 32/50\n",
      "50000/50000 [==============================] - 10s 204us/step - loss: 0.0358 - accuracy: 0.0015 - val_loss: 0.0374 - val_accuracy: 0.0015\n",
      "Epoch 33/50\n",
      "50000/50000 [==============================] - 10s 204us/step - loss: 0.0359 - accuracy: 0.0016 - val_loss: 0.0361 - val_accuracy: 0.0021\n",
      "Epoch 34/50\n",
      "50000/50000 [==============================] - 10s 204us/step - loss: 0.0358 - accuracy: 0.0017 - val_loss: 0.0374 - val_accuracy: 0.0020\n",
      "Epoch 35/50\n",
      "50000/50000 [==============================] - 10s 204us/step - loss: 0.0357 - accuracy: 0.0015 - val_loss: 0.0344 - val_accuracy: 0.0014\n",
      "Epoch 36/50\n",
      "50000/50000 [==============================] - 10s 204us/step - loss: 0.0355 - accuracy: 0.0018 - val_loss: 0.0358 - val_accuracy: 0.0022\n",
      "Epoch 37/50\n",
      "50000/50000 [==============================] - 10s 204us/step - loss: 0.0355 - accuracy: 0.0015 - val_loss: 0.0371 - val_accuracy: 0.0020\n",
      "Epoch 38/50\n",
      "50000/50000 [==============================] - 10s 203us/step - loss: 0.0354 - accuracy: 0.0018 - val_loss: 0.0352 - val_accuracy: 0.0020\n",
      "Epoch 39/50\n",
      "50000/50000 [==============================] - 10s 203us/step - loss: 0.0353 - accuracy: 0.0016 - val_loss: 0.0351 - val_accuracy: 0.0021\n",
      "Epoch 40/50\n",
      "50000/50000 [==============================] - 10s 203us/step - loss: 0.0353 - accuracy: 0.0017 - val_loss: 0.0356 - val_accuracy: 0.0025\n",
      "Epoch 41/50\n",
      "50000/50000 [==============================] - 10s 203us/step - loss: 0.0353 - accuracy: 0.0017 - val_loss: 0.0347 - val_accuracy: 0.0021\n",
      "Epoch 42/50\n",
      "50000/50000 [==============================] - 10s 203us/step - loss: 0.0353 - accuracy: 0.0019 - val_loss: 0.0354 - val_accuracy: 0.0017\n",
      "Epoch 43/50\n",
      "50000/50000 [==============================] - 10s 203us/step - loss: 0.0353 - accuracy: 0.0019 - val_loss: 0.0354 - val_accuracy: 0.0020\n",
      "Epoch 44/50\n",
      "50000/50000 [==============================] - 10s 206us/step - loss: 0.0353 - accuracy: 0.0017 - val_loss: 0.0346 - val_accuracy: 0.0016\n",
      "Epoch 45/50\n",
      "50000/50000 [==============================] - 10s 204us/step - loss: 0.0353 - accuracy: 0.0015 - val_loss: 0.0358 - val_accuracy: 0.0015\n",
      "Epoch 46/50\n",
      "50000/50000 [==============================] - 10s 204us/step - loss: 0.0350 - accuracy: 0.0015 - val_loss: 0.0342 - val_accuracy: 0.0017\n",
      "Epoch 47/50\n",
      "50000/50000 [==============================] - 10s 204us/step - loss: 0.0350 - accuracy: 0.0014 - val_loss: 0.0350 - val_accuracy: 0.0017\n",
      "Epoch 48/50\n",
      "50000/50000 [==============================] - 10s 203us/step - loss: 0.0349 - accuracy: 0.0015 - val_loss: 0.0352 - val_accuracy: 0.0020\n",
      "Epoch 49/50\n",
      "50000/50000 [==============================] - 11s 222us/step - loss: 0.0351 - accuracy: 0.0018 - val_loss: 0.0348 - val_accuracy: 0.0012\n",
      "Epoch 50/50\n",
      "50000/50000 [==============================] - 11s 220us/step - loss: 0.0350 - accuracy: 0.0018 - val_loss: 0.0355 - val_accuracy: 0.0017\n"
     ]
    },
    {
     "data": {
      "text/plain": [
       "<keras.callbacks.callbacks.History at 0x135a67cc0>"
      ]
     },
     "execution_count": 15,
     "metadata": {},
     "output_type": "execute_result"
    }
   ],
   "source": [
    "autoencoder.compile(optimizer = 'adadelta', loss = 'mse', metrics = ['accuracy'])\n",
    "autoencoder.fit(x_train, x_train, epochs = 50, batch_size = 256, shuffle = True, validation_data = [x_test, x_test])"
   ]
  },
  {
   "cell_type": "code",
   "execution_count": 16,
   "metadata": {},
   "outputs": [],
   "source": [
    "encoded_test_data = encoder.predict(x_test)\n",
    "predicted_test_data = autoencoder.predict(x_test)"
   ]
  },
  {
   "cell_type": "code",
   "execution_count": 17,
   "metadata": {},
   "outputs": [
    {
     "data": {
      "text/plain": [
       "(10000, 32)"
      ]
     },
     "execution_count": 17,
     "metadata": {},
     "output_type": "execute_result"
    }
   ],
   "source": [
    "encoded_test_data.shape"
   ]
  },
  {
   "cell_type": "code",
   "execution_count": 18,
   "metadata": {
    "scrolled": true
   },
   "outputs": [
    {
     "data": {
      "text/html": [
       "<div>\n",
       "<style scoped>\n",
       "    .dataframe tbody tr th:only-of-type {\n",
       "        vertical-align: middle;\n",
       "    }\n",
       "\n",
       "    .dataframe tbody tr th {\n",
       "        vertical-align: top;\n",
       "    }\n",
       "\n",
       "    .dataframe thead th {\n",
       "        text-align: right;\n",
       "    }\n",
       "</style>\n",
       "<table border=\"1\" class=\"dataframe\">\n",
       "  <thead>\n",
       "    <tr style=\"text-align: right;\">\n",
       "      <th></th>\n",
       "      <th>Class</th>\n",
       "      <th>Class Name</th>\n",
       "    </tr>\n",
       "  </thead>\n",
       "  <tbody>\n",
       "    <tr>\n",
       "      <th>0</th>\n",
       "      <td>3</td>\n",
       "      <td>cat</td>\n",
       "    </tr>\n",
       "    <tr>\n",
       "      <th>1</th>\n",
       "      <td>8</td>\n",
       "      <td>ship</td>\n",
       "    </tr>\n",
       "    <tr>\n",
       "      <th>2</th>\n",
       "      <td>8</td>\n",
       "      <td>ship</td>\n",
       "    </tr>\n",
       "    <tr>\n",
       "      <th>3</th>\n",
       "      <td>0</td>\n",
       "      <td>airplane</td>\n",
       "    </tr>\n",
       "    <tr>\n",
       "      <th>4</th>\n",
       "      <td>6</td>\n",
       "      <td>frog</td>\n",
       "    </tr>\n",
       "    <tr>\n",
       "      <th>...</th>\n",
       "      <td>...</td>\n",
       "      <td>...</td>\n",
       "    </tr>\n",
       "    <tr>\n",
       "      <th>9995</th>\n",
       "      <td>8</td>\n",
       "      <td>ship</td>\n",
       "    </tr>\n",
       "    <tr>\n",
       "      <th>9996</th>\n",
       "      <td>3</td>\n",
       "      <td>cat</td>\n",
       "    </tr>\n",
       "    <tr>\n",
       "      <th>9997</th>\n",
       "      <td>5</td>\n",
       "      <td>dog</td>\n",
       "    </tr>\n",
       "    <tr>\n",
       "      <th>9998</th>\n",
       "      <td>1</td>\n",
       "      <td>automobile</td>\n",
       "    </tr>\n",
       "    <tr>\n",
       "      <th>9999</th>\n",
       "      <td>7</td>\n",
       "      <td>horse</td>\n",
       "    </tr>\n",
       "  </tbody>\n",
       "</table>\n",
       "<p>10000 rows × 2 columns</p>\n",
       "</div>"
      ],
      "text/plain": [
       "      Class  Class Name\n",
       "0         3         cat\n",
       "1         8        ship\n",
       "2         8        ship\n",
       "3         0    airplane\n",
       "4         6        frog\n",
       "...     ...         ...\n",
       "9995      8        ship\n",
       "9996      3         cat\n",
       "9997      5         dog\n",
       "9998      1  automobile\n",
       "9999      7       horse\n",
       "\n",
       "[10000 rows x 2 columns]"
      ]
     },
     "execution_count": 18,
     "metadata": {},
     "output_type": "execute_result"
    }
   ],
   "source": [
    "y_test"
   ]
  },
  {
   "cell_type": "code",
   "execution_count": 19,
   "metadata": {},
   "outputs": [
    {
     "data": {
      "text/plain": [
       "(10000, 34)"
      ]
     },
     "execution_count": 19,
     "metadata": {},
     "output_type": "execute_result"
    }
   ],
   "source": [
    "encoded_test_data_df = pd.DataFrame(encoded_test_data)\n",
    "final_encoded_test_data_df = pd.concat([y_test, encoded_test_data_df], axis = 1)\n",
    "final_encoded_test_data_df.shape"
   ]
  },
  {
   "cell_type": "code",
   "execution_count": 20,
   "metadata": {},
   "outputs": [],
   "source": [
    "datadir = '/Users/sidv88/Documents/Data_Management_2/Deep_Encoded_Data/'\n",
    "final_encoded_test_data_df.to_csv(datadir + 'Deep_Encoders_Test_RTADM.csv', index = False)"
   ]
  },
  {
   "cell_type": "code",
   "execution_count": 21,
   "metadata": {},
   "outputs": [
    {
     "name": "stdout",
     "output_type": "stream",
     "text": [
      "Enter one of these values ['cat' 'ship' 'airplane' 'frog' 'automobile' 'truck' 'dog' 'horse' 'deer'\n",
      " 'bird'] : cat\n"
     ]
    }
   ],
   "source": [
    "input_val = input(\"Enter one of these values {} : \".format(final_encoded_test_data_df['Class Name'].unique()))"
   ]
  },
  {
   "cell_type": "code",
   "execution_count": 22,
   "metadata": {},
   "outputs": [
    {
     "name": "stdout",
     "output_type": "stream",
     "text": [
      "Enter a number between 0 and 999 : 7\n"
     ]
    }
   ],
   "source": [
    "input_num = input(\"Enter a number between 0 and 999 : \")"
   ]
  },
  {
   "cell_type": "code",
   "execution_count": 23,
   "metadata": {},
   "outputs": [
    {
     "name": "stdout",
     "output_type": "stream",
     "text": [
      "10000\n",
      "10000\n"
     ]
    }
   ],
   "source": [
    "from numpy import dot\n",
    "from numpy.linalg import norm\n",
    "\n",
    "cosine_similarity = []\n",
    "cosine_distance = []\n",
    "\n",
    "for i in range(len(x_test)):\n",
    "    a = final_encoded_test_data_df.loc[final_encoded_test_data_df['Class Name'] == input_val].iloc[int(input_num), 2:]\n",
    "    b = final_encoded_test_data_df.iloc[i, 2:]\n",
    "    cos_sim = dot(a, b)/(norm(a) * norm(b))\n",
    "    cos_dist = 1 - cos_sim\n",
    "    cosine_similarity.append(cos_sim)\n",
    "    cosine_distance.append(cos_dist)\n",
    "print(len(cosine_similarity))\n",
    "print(len(cosine_distance))"
   ]
  },
  {
   "cell_type": "code",
   "execution_count": 24,
   "metadata": {},
   "outputs": [],
   "source": [
    "final_encoded_test_data_df['Cosine Similarity'] = cosine_similarity\n",
    "final_encoded_test_data_df['Cosine Distance'] = cosine_distance"
   ]
  },
  {
   "cell_type": "code",
   "execution_count": 25,
   "metadata": {},
   "outputs": [
    {
     "data": {
      "text/html": [
       "<div>\n",
       "<style scoped>\n",
       "    .dataframe tbody tr th:only-of-type {\n",
       "        vertical-align: middle;\n",
       "    }\n",
       "\n",
       "    .dataframe tbody tr th {\n",
       "        vertical-align: top;\n",
       "    }\n",
       "\n",
       "    .dataframe thead th {\n",
       "        text-align: right;\n",
       "    }\n",
       "</style>\n",
       "<table border=\"1\" class=\"dataframe\">\n",
       "  <thead>\n",
       "    <tr style=\"text-align: right;\">\n",
       "      <th></th>\n",
       "      <th>Class</th>\n",
       "      <th>Class Name</th>\n",
       "      <th>0</th>\n",
       "      <th>1</th>\n",
       "      <th>2</th>\n",
       "      <th>3</th>\n",
       "      <th>4</th>\n",
       "      <th>5</th>\n",
       "      <th>6</th>\n",
       "      <th>7</th>\n",
       "      <th>...</th>\n",
       "      <th>24</th>\n",
       "      <th>25</th>\n",
       "      <th>26</th>\n",
       "      <th>27</th>\n",
       "      <th>28</th>\n",
       "      <th>29</th>\n",
       "      <th>30</th>\n",
       "      <th>31</th>\n",
       "      <th>Cosine Similarity</th>\n",
       "      <th>Cosine Distance</th>\n",
       "    </tr>\n",
       "  </thead>\n",
       "  <tbody>\n",
       "    <tr>\n",
       "      <th>77</th>\n",
       "      <td>3</td>\n",
       "      <td>cat</td>\n",
       "      <td>3.385419</td>\n",
       "      <td>0.304496</td>\n",
       "      <td>0.529466</td>\n",
       "      <td>3.462037</td>\n",
       "      <td>1.820111</td>\n",
       "      <td>0.000000</td>\n",
       "      <td>4.379885</td>\n",
       "      <td>1.514909</td>\n",
       "      <td>...</td>\n",
       "      <td>0.000000</td>\n",
       "      <td>3.294977</td>\n",
       "      <td>0.000000</td>\n",
       "      <td>0.092956</td>\n",
       "      <td>0.000000</td>\n",
       "      <td>0.000000</td>\n",
       "      <td>0.856945</td>\n",
       "      <td>0.000000</td>\n",
       "      <td>1.000000</td>\n",
       "      <td>5.960464e-08</td>\n",
       "    </tr>\n",
       "    <tr>\n",
       "      <th>1053</th>\n",
       "      <td>3</td>\n",
       "      <td>cat</td>\n",
       "      <td>4.382403</td>\n",
       "      <td>0.515614</td>\n",
       "      <td>0.797915</td>\n",
       "      <td>4.579738</td>\n",
       "      <td>2.329495</td>\n",
       "      <td>0.000000</td>\n",
       "      <td>5.680582</td>\n",
       "      <td>1.889757</td>\n",
       "      <td>...</td>\n",
       "      <td>0.000000</td>\n",
       "      <td>4.401857</td>\n",
       "      <td>0.000000</td>\n",
       "      <td>0.061899</td>\n",
       "      <td>0.000000</td>\n",
       "      <td>0.000000</td>\n",
       "      <td>1.088630</td>\n",
       "      <td>0.000000</td>\n",
       "      <td>0.999645</td>\n",
       "      <td>3.550053e-04</td>\n",
       "    </tr>\n",
       "    <tr>\n",
       "      <th>8718</th>\n",
       "      <td>7</td>\n",
       "      <td>horse</td>\n",
       "      <td>3.071729</td>\n",
       "      <td>0.230717</td>\n",
       "      <td>0.543552</td>\n",
       "      <td>3.201981</td>\n",
       "      <td>1.599291</td>\n",
       "      <td>0.000000</td>\n",
       "      <td>3.999499</td>\n",
       "      <td>1.381549</td>\n",
       "      <td>...</td>\n",
       "      <td>0.000000</td>\n",
       "      <td>3.075452</td>\n",
       "      <td>0.000000</td>\n",
       "      <td>0.084543</td>\n",
       "      <td>0.000000</td>\n",
       "      <td>0.000000</td>\n",
       "      <td>0.835369</td>\n",
       "      <td>0.000000</td>\n",
       "      <td>0.999525</td>\n",
       "      <td>4.751086e-04</td>\n",
       "    </tr>\n",
       "    <tr>\n",
       "      <th>5682</th>\n",
       "      <td>5</td>\n",
       "      <td>dog</td>\n",
       "      <td>3.204976</td>\n",
       "      <td>0.414504</td>\n",
       "      <td>0.567473</td>\n",
       "      <td>3.163356</td>\n",
       "      <td>1.661232</td>\n",
       "      <td>0.000000</td>\n",
       "      <td>4.185994</td>\n",
       "      <td>1.264713</td>\n",
       "      <td>...</td>\n",
       "      <td>0.000000</td>\n",
       "      <td>3.110029</td>\n",
       "      <td>0.000000</td>\n",
       "      <td>0.161369</td>\n",
       "      <td>0.000000</td>\n",
       "      <td>0.000000</td>\n",
       "      <td>0.771437</td>\n",
       "      <td>0.000000</td>\n",
       "      <td>0.999512</td>\n",
       "      <td>4.882216e-04</td>\n",
       "    </tr>\n",
       "    <tr>\n",
       "      <th>3285</th>\n",
       "      <td>1</td>\n",
       "      <td>automobile</td>\n",
       "      <td>3.066683</td>\n",
       "      <td>0.340857</td>\n",
       "      <td>0.661635</td>\n",
       "      <td>3.245608</td>\n",
       "      <td>1.548318</td>\n",
       "      <td>0.000000</td>\n",
       "      <td>3.942912</td>\n",
       "      <td>1.296623</td>\n",
       "      <td>...</td>\n",
       "      <td>0.000000</td>\n",
       "      <td>3.104935</td>\n",
       "      <td>0.000000</td>\n",
       "      <td>0.071453</td>\n",
       "      <td>0.000000</td>\n",
       "      <td>0.000000</td>\n",
       "      <td>0.808818</td>\n",
       "      <td>0.000000</td>\n",
       "      <td>0.999343</td>\n",
       "      <td>6.573796e-04</td>\n",
       "    </tr>\n",
       "    <tr>\n",
       "      <th>...</th>\n",
       "      <td>...</td>\n",
       "      <td>...</td>\n",
       "      <td>...</td>\n",
       "      <td>...</td>\n",
       "      <td>...</td>\n",
       "      <td>...</td>\n",
       "      <td>...</td>\n",
       "      <td>...</td>\n",
       "      <td>...</td>\n",
       "      <td>...</td>\n",
       "      <td>...</td>\n",
       "      <td>...</td>\n",
       "      <td>...</td>\n",
       "      <td>...</td>\n",
       "      <td>...</td>\n",
       "      <td>...</td>\n",
       "      <td>...</td>\n",
       "      <td>...</td>\n",
       "      <td>...</td>\n",
       "      <td>...</td>\n",
       "      <td>...</td>\n",
       "    </tr>\n",
       "    <tr>\n",
       "      <th>3471</th>\n",
       "      <td>1</td>\n",
       "      <td>automobile</td>\n",
       "      <td>0.103841</td>\n",
       "      <td>0.000000</td>\n",
       "      <td>0.000000</td>\n",
       "      <td>2.436187</td>\n",
       "      <td>0.173261</td>\n",
       "      <td>1.501542</td>\n",
       "      <td>6.268579</td>\n",
       "      <td>7.739754</td>\n",
       "      <td>...</td>\n",
       "      <td>0.000000</td>\n",
       "      <td>1.912689</td>\n",
       "      <td>2.628673</td>\n",
       "      <td>0.011685</td>\n",
       "      <td>2.870598</td>\n",
       "      <td>6.086176</td>\n",
       "      <td>7.652435</td>\n",
       "      <td>0.000000</td>\n",
       "      <td>0.495074</td>\n",
       "      <td>5.049262e-01</td>\n",
       "    </tr>\n",
       "    <tr>\n",
       "      <th>7639</th>\n",
       "      <td>9</td>\n",
       "      <td>truck</td>\n",
       "      <td>0.362646</td>\n",
       "      <td>0.000000</td>\n",
       "      <td>0.000000</td>\n",
       "      <td>1.541664</td>\n",
       "      <td>0.335675</td>\n",
       "      <td>0.890232</td>\n",
       "      <td>3.778832</td>\n",
       "      <td>4.951208</td>\n",
       "      <td>...</td>\n",
       "      <td>0.000000</td>\n",
       "      <td>1.146426</td>\n",
       "      <td>1.589589</td>\n",
       "      <td>0.000000</td>\n",
       "      <td>1.769606</td>\n",
       "      <td>3.583504</td>\n",
       "      <td>4.900161</td>\n",
       "      <td>0.000000</td>\n",
       "      <td>0.495063</td>\n",
       "      <td>5.049373e-01</td>\n",
       "    </tr>\n",
       "    <tr>\n",
       "      <th>9765</th>\n",
       "      <td>4</td>\n",
       "      <td>deer</td>\n",
       "      <td>0.000000</td>\n",
       "      <td>0.000000</td>\n",
       "      <td>0.000000</td>\n",
       "      <td>0.800159</td>\n",
       "      <td>0.000000</td>\n",
       "      <td>0.097996</td>\n",
       "      <td>0.000000</td>\n",
       "      <td>0.323054</td>\n",
       "      <td>...</td>\n",
       "      <td>0.000000</td>\n",
       "      <td>0.000000</td>\n",
       "      <td>0.000000</td>\n",
       "      <td>0.000000</td>\n",
       "      <td>0.000000</td>\n",
       "      <td>0.515603</td>\n",
       "      <td>0.203223</td>\n",
       "      <td>0.145211</td>\n",
       "      <td>0.489951</td>\n",
       "      <td>5.100491e-01</td>\n",
       "    </tr>\n",
       "    <tr>\n",
       "      <th>7536</th>\n",
       "      <td>8</td>\n",
       "      <td>ship</td>\n",
       "      <td>0.512275</td>\n",
       "      <td>0.000000</td>\n",
       "      <td>0.000000</td>\n",
       "      <td>1.718741</td>\n",
       "      <td>1.430435</td>\n",
       "      <td>0.906843</td>\n",
       "      <td>5.408228</td>\n",
       "      <td>6.005908</td>\n",
       "      <td>...</td>\n",
       "      <td>0.542087</td>\n",
       "      <td>1.839333</td>\n",
       "      <td>2.698091</td>\n",
       "      <td>0.000000</td>\n",
       "      <td>2.665756</td>\n",
       "      <td>4.529274</td>\n",
       "      <td>6.222166</td>\n",
       "      <td>0.000000</td>\n",
       "      <td>0.484221</td>\n",
       "      <td>5.157788e-01</td>\n",
       "    </tr>\n",
       "    <tr>\n",
       "      <th>1180</th>\n",
       "      <td>3</td>\n",
       "      <td>cat</td>\n",
       "      <td>0.465473</td>\n",
       "      <td>0.000000</td>\n",
       "      <td>0.000000</td>\n",
       "      <td>1.149045</td>\n",
       "      <td>2.480705</td>\n",
       "      <td>0.000000</td>\n",
       "      <td>3.592400</td>\n",
       "      <td>3.387284</td>\n",
       "      <td>...</td>\n",
       "      <td>0.914300</td>\n",
       "      <td>0.897794</td>\n",
       "      <td>2.136152</td>\n",
       "      <td>0.000000</td>\n",
       "      <td>2.061160</td>\n",
       "      <td>2.159071</td>\n",
       "      <td>3.426175</td>\n",
       "      <td>0.000000</td>\n",
       "      <td>0.481695</td>\n",
       "      <td>5.183054e-01</td>\n",
       "    </tr>\n",
       "  </tbody>\n",
       "</table>\n",
       "<p>10000 rows × 36 columns</p>\n",
       "</div>"
      ],
      "text/plain": [
       "      Class  Class Name         0         1         2         3         4  \\\n",
       "77        3         cat  3.385419  0.304496  0.529466  3.462037  1.820111   \n",
       "1053      3         cat  4.382403  0.515614  0.797915  4.579738  2.329495   \n",
       "8718      7       horse  3.071729  0.230717  0.543552  3.201981  1.599291   \n",
       "5682      5         dog  3.204976  0.414504  0.567473  3.163356  1.661232   \n",
       "3285      1  automobile  3.066683  0.340857  0.661635  3.245608  1.548318   \n",
       "...     ...         ...       ...       ...       ...       ...       ...   \n",
       "3471      1  automobile  0.103841  0.000000  0.000000  2.436187  0.173261   \n",
       "7639      9       truck  0.362646  0.000000  0.000000  1.541664  0.335675   \n",
       "9765      4        deer  0.000000  0.000000  0.000000  0.800159  0.000000   \n",
       "7536      8        ship  0.512275  0.000000  0.000000  1.718741  1.430435   \n",
       "1180      3         cat  0.465473  0.000000  0.000000  1.149045  2.480705   \n",
       "\n",
       "             5         6         7  ...        24        25        26  \\\n",
       "77    0.000000  4.379885  1.514909  ...  0.000000  3.294977  0.000000   \n",
       "1053  0.000000  5.680582  1.889757  ...  0.000000  4.401857  0.000000   \n",
       "8718  0.000000  3.999499  1.381549  ...  0.000000  3.075452  0.000000   \n",
       "5682  0.000000  4.185994  1.264713  ...  0.000000  3.110029  0.000000   \n",
       "3285  0.000000  3.942912  1.296623  ...  0.000000  3.104935  0.000000   \n",
       "...        ...       ...       ...  ...       ...       ...       ...   \n",
       "3471  1.501542  6.268579  7.739754  ...  0.000000  1.912689  2.628673   \n",
       "7639  0.890232  3.778832  4.951208  ...  0.000000  1.146426  1.589589   \n",
       "9765  0.097996  0.000000  0.323054  ...  0.000000  0.000000  0.000000   \n",
       "7536  0.906843  5.408228  6.005908  ...  0.542087  1.839333  2.698091   \n",
       "1180  0.000000  3.592400  3.387284  ...  0.914300  0.897794  2.136152   \n",
       "\n",
       "            27        28        29        30        31  Cosine Similarity  \\\n",
       "77    0.092956  0.000000  0.000000  0.856945  0.000000           1.000000   \n",
       "1053  0.061899  0.000000  0.000000  1.088630  0.000000           0.999645   \n",
       "8718  0.084543  0.000000  0.000000  0.835369  0.000000           0.999525   \n",
       "5682  0.161369  0.000000  0.000000  0.771437  0.000000           0.999512   \n",
       "3285  0.071453  0.000000  0.000000  0.808818  0.000000           0.999343   \n",
       "...        ...       ...       ...       ...       ...                ...   \n",
       "3471  0.011685  2.870598  6.086176  7.652435  0.000000           0.495074   \n",
       "7639  0.000000  1.769606  3.583504  4.900161  0.000000           0.495063   \n",
       "9765  0.000000  0.000000  0.515603  0.203223  0.145211           0.489951   \n",
       "7536  0.000000  2.665756  4.529274  6.222166  0.000000           0.484221   \n",
       "1180  0.000000  2.061160  2.159071  3.426175  0.000000           0.481695   \n",
       "\n",
       "      Cosine Distance  \n",
       "77       5.960464e-08  \n",
       "1053     3.550053e-04  \n",
       "8718     4.751086e-04  \n",
       "5682     4.882216e-04  \n",
       "3285     6.573796e-04  \n",
       "...               ...  \n",
       "3471     5.049262e-01  \n",
       "7639     5.049373e-01  \n",
       "9765     5.100491e-01  \n",
       "7536     5.157788e-01  \n",
       "1180     5.183054e-01  \n",
       "\n",
       "[10000 rows x 36 columns]"
      ]
     },
     "execution_count": 25,
     "metadata": {},
     "output_type": "execute_result"
    }
   ],
   "source": [
    "final_encoded_test_data_df.sort_values(by = ['Cosine Similarity'], ascending = False)"
   ]
  },
  {
   "cell_type": "code",
   "execution_count": 26,
   "metadata": {},
   "outputs": [],
   "source": [
    "cosine_index = final_encoded_test_data_df.sort_values(by = ['Cosine Similarity'], ascending = False).head(10).index"
   ]
  },
  {
   "cell_type": "code",
   "execution_count": 27,
   "metadata": {
    "scrolled": true
   },
   "outputs": [
    {
     "data": {
      "image/png": "[encoded data removed]",
      "text/plain": [
       "<Figure size 144x144 with 1 Axes>"
      ]
     },
     "metadata": {
      "needs_background": "light"
     },
     "output_type": "display_data"
    },
    {
     "data": {
      "image/png": "[encoded data removed]",
      "text/plain": [
       "<Figure size 144x144 with 1 Axes>"
      ]
     },
     "metadata": {
      "needs_background": "light"
     },
     "output_type": "display_data"
    },
    {
     "data": {
      "image/png": "[encoded data removed]",
      "text/plain": [
       "<Figure size 144x144 with 1 Axes>"
      ]
     },
     "metadata": {
      "needs_background": "light"
     },
     "output_type": "display_data"
    },
    {
     "data": {
      "image/png": "[encoded data removed]",
      "text/plain": [
       "<Figure size 144x144 with 1 Axes>"
      ]
     },
     "metadata": {
      "needs_background": "light"
     },
     "output_type": "display_data"
    },
    {
     "data": {
      "image/png": "[encoded data removed]",
      "text/plain": [
       "<Figure size 144x144 with 1 Axes>"
      ]
     },
     "metadata": {
      "needs_background": "light"
     },
     "output_type": "display_data"
    },
    {
     "data": {
      "image/png": "[encoded data removed]",
      "text/plain": [
       "<Figure size 144x144 with 1 Axes>"
      ]
     },
     "metadata": {
      "needs_background": "light"
     },
     "output_type": "display_data"
    },
    {
     "data": {
      "image/png": "[encoded data removed]",
      "text/plain": [
       "<Figure size 144x144 with 1 Axes>"
      ]
     },
     "metadata": {
      "needs_background": "light"
     },
     "output_type": "display_data"
    },
    {
     "data": {
      "image/png": "[encoded data removed]",
      "text/plain": [
       "<Figure size 144x144 with 1 Axes>"
      ]
     },
     "metadata": {
      "needs_background": "light"
     },
     "output_type": "display_data"
    },
    {
     "data": {
      "image/png": "[encoded data removed]",
      "text/plain": [
       "<Figure size 144x144 with 1 Axes>"
      ]
     },
     "metadata": {
      "needs_background": "light"
     },
     "output_type": "display_data"
    },
    {
     "data": {
      "image/png": "[encoded data removed]",
      "text/plain": [
       "<Figure size 144x144 with 1 Axes>"
      ]
     },
     "metadata": {
      "needs_background": "light"
     },
     "output_type": "display_data"
    }
   ],
   "source": [
    "for i in cosine_index:\n",
    "    plt.figure(figsize = (2, 2))\n",
    "    plt.imshow(x_test[i].reshape(32, 32, 3))\n",
    "    plt.xlabel(final_encoded_test_data_df['Class Name'][i] + ' with a Cosine Similarity of ' + str(final_encoded_test_data_df['Cosine Similarity'][i]) + ' from the queried image.')\n",
    "    plt.show()"
   ]
  },
  {
   "cell_type": "code",
   "execution_count": 28,
   "metadata": {},
   "outputs": [
    {
     "name": "stdout",
     "output_type": "stream",
     "text": [
      "10000\n"
     ]
    }
   ],
   "source": [
    "euclidean_distance = []\n",
    "\n",
    "for i in range(len(x_test)):\n",
    "    a = final_encoded_test_data_df.loc[final_encoded_test_data_df['Class Name'] == input_val].iloc[int(input_num), 2:]\n",
    "    b = final_encoded_test_data_df.iloc[i, 2:]\n",
    "    euc_dist = np.linalg.norm(a-b)\n",
    "    euclidean_distance.append(euc_dist)\n",
    "print(len(euclidean_distance))"
   ]
  },
  {
   "cell_type": "code",
   "execution_count": 29,
   "metadata": {},
   "outputs": [
    {
     "data": {
      "text/html": [
       "<div>\n",
       "<style scoped>\n",
       "    .dataframe tbody tr th:only-of-type {\n",
       "        vertical-align: middle;\n",
       "    }\n",
       "\n",
       "    .dataframe tbody tr th {\n",
       "        vertical-align: top;\n",
       "    }\n",
       "\n",
       "    .dataframe thead th {\n",
       "        text-align: right;\n",
       "    }\n",
       "</style>\n",
       "<table border=\"1\" class=\"dataframe\">\n",
       "  <thead>\n",
       "    <tr style=\"text-align: right;\">\n",
       "      <th></th>\n",
       "      <th>Class</th>\n",
       "      <th>Class Name</th>\n",
       "      <th>0</th>\n",
       "      <th>1</th>\n",
       "      <th>2</th>\n",
       "      <th>3</th>\n",
       "      <th>4</th>\n",
       "      <th>5</th>\n",
       "      <th>6</th>\n",
       "      <th>7</th>\n",
       "      <th>...</th>\n",
       "      <th>25</th>\n",
       "      <th>26</th>\n",
       "      <th>27</th>\n",
       "      <th>28</th>\n",
       "      <th>29</th>\n",
       "      <th>30</th>\n",
       "      <th>31</th>\n",
       "      <th>Cosine Similarity</th>\n",
       "      <th>Cosine Distance</th>\n",
       "      <th>Euclidean Distance</th>\n",
       "    </tr>\n",
       "  </thead>\n",
       "  <tbody>\n",
       "    <tr>\n",
       "      <th>77</th>\n",
       "      <td>3</td>\n",
       "      <td>cat</td>\n",
       "      <td>3.385419</td>\n",
       "      <td>0.304496</td>\n",
       "      <td>0.529466</td>\n",
       "      <td>3.462037</td>\n",
       "      <td>1.820111</td>\n",
       "      <td>0.000000</td>\n",
       "      <td>4.379885</td>\n",
       "      <td>1.514909</td>\n",
       "      <td>...</td>\n",
       "      <td>3.294977</td>\n",
       "      <td>0.000000</td>\n",
       "      <td>0.092956</td>\n",
       "      <td>0.000000</td>\n",
       "      <td>0.000000</td>\n",
       "      <td>0.856945</td>\n",
       "      <td>0.0</td>\n",
       "      <td>1.000000</td>\n",
       "      <td>5.960464e-08</td>\n",
       "      <td>0.000000</td>\n",
       "    </tr>\n",
       "    <tr>\n",
       "      <th>4817</th>\n",
       "      <td>0</td>\n",
       "      <td>airplane</td>\n",
       "      <td>3.395479</td>\n",
       "      <td>0.425432</td>\n",
       "      <td>0.500986</td>\n",
       "      <td>3.350596</td>\n",
       "      <td>2.033158</td>\n",
       "      <td>0.000000</td>\n",
       "      <td>4.311693</td>\n",
       "      <td>1.538332</td>\n",
       "      <td>...</td>\n",
       "      <td>3.127633</td>\n",
       "      <td>0.000000</td>\n",
       "      <td>0.079047</td>\n",
       "      <td>0.000000</td>\n",
       "      <td>0.000000</td>\n",
       "      <td>0.727861</td>\n",
       "      <td>0.0</td>\n",
       "      <td>0.997722</td>\n",
       "      <td>2.278030e-03</td>\n",
       "      <td>0.691136</td>\n",
       "    </tr>\n",
       "    <tr>\n",
       "      <th>5682</th>\n",
       "      <td>5</td>\n",
       "      <td>dog</td>\n",
       "      <td>3.204976</td>\n",
       "      <td>0.414504</td>\n",
       "      <td>0.567473</td>\n",
       "      <td>3.163356</td>\n",
       "      <td>1.661232</td>\n",
       "      <td>0.000000</td>\n",
       "      <td>4.185994</td>\n",
       "      <td>1.264713</td>\n",
       "      <td>...</td>\n",
       "      <td>3.110029</td>\n",
       "      <td>0.000000</td>\n",
       "      <td>0.161369</td>\n",
       "      <td>0.000000</td>\n",
       "      <td>0.000000</td>\n",
       "      <td>0.771437</td>\n",
       "      <td>0.0</td>\n",
       "      <td>0.999512</td>\n",
       "      <td>4.882216e-04</td>\n",
       "      <td>0.697544</td>\n",
       "    </tr>\n",
       "    <tr>\n",
       "      <th>4142</th>\n",
       "      <td>8</td>\n",
       "      <td>ship</td>\n",
       "      <td>3.263605</td>\n",
       "      <td>0.203410</td>\n",
       "      <td>0.335461</td>\n",
       "      <td>3.352183</td>\n",
       "      <td>1.880054</td>\n",
       "      <td>0.000000</td>\n",
       "      <td>4.330772</td>\n",
       "      <td>1.959179</td>\n",
       "      <td>...</td>\n",
       "      <td>3.285890</td>\n",
       "      <td>0.000000</td>\n",
       "      <td>0.000000</td>\n",
       "      <td>0.000000</td>\n",
       "      <td>0.000000</td>\n",
       "      <td>1.236298</td>\n",
       "      <td>0.0</td>\n",
       "      <td>0.997265</td>\n",
       "      <td>2.735376e-03</td>\n",
       "      <td>0.736378</td>\n",
       "    </tr>\n",
       "    <tr>\n",
       "      <th>9673</th>\n",
       "      <td>9</td>\n",
       "      <td>truck</td>\n",
       "      <td>3.169339</td>\n",
       "      <td>0.190515</td>\n",
       "      <td>0.498829</td>\n",
       "      <td>3.482248</td>\n",
       "      <td>1.658646</td>\n",
       "      <td>0.000000</td>\n",
       "      <td>4.288519</td>\n",
       "      <td>1.773623</td>\n",
       "      <td>...</td>\n",
       "      <td>3.319807</td>\n",
       "      <td>0.000000</td>\n",
       "      <td>0.000000</td>\n",
       "      <td>0.000000</td>\n",
       "      <td>0.000000</td>\n",
       "      <td>1.126293</td>\n",
       "      <td>0.0</td>\n",
       "      <td>0.996959</td>\n",
       "      <td>3.041387e-03</td>\n",
       "      <td>0.775810</td>\n",
       "    </tr>\n",
       "    <tr>\n",
       "      <th>...</th>\n",
       "      <td>...</td>\n",
       "      <td>...</td>\n",
       "      <td>...</td>\n",
       "      <td>...</td>\n",
       "      <td>...</td>\n",
       "      <td>...</td>\n",
       "      <td>...</td>\n",
       "      <td>...</td>\n",
       "      <td>...</td>\n",
       "      <td>...</td>\n",
       "      <td>...</td>\n",
       "      <td>...</td>\n",
       "      <td>...</td>\n",
       "      <td>...</td>\n",
       "      <td>...</td>\n",
       "      <td>...</td>\n",
       "      <td>...</td>\n",
       "      <td>...</td>\n",
       "      <td>...</td>\n",
       "      <td>...</td>\n",
       "      <td>...</td>\n",
       "    </tr>\n",
       "    <tr>\n",
       "      <th>385</th>\n",
       "      <td>8</td>\n",
       "      <td>ship</td>\n",
       "      <td>3.889002</td>\n",
       "      <td>0.000000</td>\n",
       "      <td>0.000000</td>\n",
       "      <td>7.305998</td>\n",
       "      <td>2.157790</td>\n",
       "      <td>0.225762</td>\n",
       "      <td>12.329093</td>\n",
       "      <td>13.238092</td>\n",
       "      <td>...</td>\n",
       "      <td>6.309553</td>\n",
       "      <td>0.613291</td>\n",
       "      <td>0.000000</td>\n",
       "      <td>0.409408</td>\n",
       "      <td>2.860798</td>\n",
       "      <td>11.659328</td>\n",
       "      <td>0.0</td>\n",
       "      <td>0.785496</td>\n",
       "      <td>2.145038e-01</td>\n",
       "      <td>20.017979</td>\n",
       "    </tr>\n",
       "    <tr>\n",
       "      <th>9921</th>\n",
       "      <td>0</td>\n",
       "      <td>airplane</td>\n",
       "      <td>4.059005</td>\n",
       "      <td>0.000000</td>\n",
       "      <td>0.000000</td>\n",
       "      <td>7.413748</td>\n",
       "      <td>1.639313</td>\n",
       "      <td>0.000000</td>\n",
       "      <td>12.336220</td>\n",
       "      <td>12.559271</td>\n",
       "      <td>...</td>\n",
       "      <td>6.838443</td>\n",
       "      <td>0.000000</td>\n",
       "      <td>0.000000</td>\n",
       "      <td>0.000000</td>\n",
       "      <td>1.986477</td>\n",
       "      <td>11.533740</td>\n",
       "      <td>0.0</td>\n",
       "      <td>0.809207</td>\n",
       "      <td>1.907931e-01</td>\n",
       "      <td>20.166400</td>\n",
       "    </tr>\n",
       "    <tr>\n",
       "      <th>9848</th>\n",
       "      <td>2</td>\n",
       "      <td>bird</td>\n",
       "      <td>4.012138</td>\n",
       "      <td>0.000000</td>\n",
       "      <td>0.000000</td>\n",
       "      <td>7.452847</td>\n",
       "      <td>2.061376</td>\n",
       "      <td>0.188503</td>\n",
       "      <td>12.355644</td>\n",
       "      <td>13.182446</td>\n",
       "      <td>...</td>\n",
       "      <td>6.509463</td>\n",
       "      <td>0.083431</td>\n",
       "      <td>0.000000</td>\n",
       "      <td>0.055527</td>\n",
       "      <td>2.524440</td>\n",
       "      <td>11.778317</td>\n",
       "      <td>0.0</td>\n",
       "      <td>0.793530</td>\n",
       "      <td>2.064703e-01</td>\n",
       "      <td>20.242908</td>\n",
       "    </tr>\n",
       "    <tr>\n",
       "      <th>1078</th>\n",
       "      <td>0</td>\n",
       "      <td>airplane</td>\n",
       "      <td>3.770070</td>\n",
       "      <td>0.000000</td>\n",
       "      <td>0.000000</td>\n",
       "      <td>7.478410</td>\n",
       "      <td>2.369527</td>\n",
       "      <td>0.529450</td>\n",
       "      <td>12.515453</td>\n",
       "      <td>13.861215</td>\n",
       "      <td>...</td>\n",
       "      <td>6.145847</td>\n",
       "      <td>1.051660</td>\n",
       "      <td>0.000000</td>\n",
       "      <td>0.646944</td>\n",
       "      <td>3.239271</td>\n",
       "      <td>12.153884</td>\n",
       "      <td>0.0</td>\n",
       "      <td>0.773915</td>\n",
       "      <td>2.260849e-01</td>\n",
       "      <td>20.789175</td>\n",
       "    </tr>\n",
       "    <tr>\n",
       "      <th>3444</th>\n",
       "      <td>0</td>\n",
       "      <td>airplane</td>\n",
       "      <td>5.499558</td>\n",
       "      <td>0.000000</td>\n",
       "      <td>0.000000</td>\n",
       "      <td>8.193276</td>\n",
       "      <td>2.662392</td>\n",
       "      <td>0.000000</td>\n",
       "      <td>13.177270</td>\n",
       "      <td>12.775107</td>\n",
       "      <td>...</td>\n",
       "      <td>7.529977</td>\n",
       "      <td>0.000000</td>\n",
       "      <td>0.000000</td>\n",
       "      <td>0.000000</td>\n",
       "      <td>0.658658</td>\n",
       "      <td>11.336355</td>\n",
       "      <td>0.0</td>\n",
       "      <td>0.845256</td>\n",
       "      <td>1.547437e-01</td>\n",
       "      <td>20.950590</td>\n",
       "    </tr>\n",
       "  </tbody>\n",
       "</table>\n",
       "<p>10000 rows × 37 columns</p>\n",
       "</div>"
      ],
      "text/plain": [
       "      Class Class Name         0         1         2         3         4  \\\n",
       "77        3        cat  3.385419  0.304496  0.529466  3.462037  1.820111   \n",
       "4817      0   airplane  3.395479  0.425432  0.500986  3.350596  2.033158   \n",
       "5682      5        dog  3.204976  0.414504  0.567473  3.163356  1.661232   \n",
       "4142      8       ship  3.263605  0.203410  0.335461  3.352183  1.880054   \n",
       "9673      9      truck  3.169339  0.190515  0.498829  3.482248  1.658646   \n",
       "...     ...        ...       ...       ...       ...       ...       ...   \n",
       "385       8       ship  3.889002  0.000000  0.000000  7.305998  2.157790   \n",
       "9921      0   airplane  4.059005  0.000000  0.000000  7.413748  1.639313   \n",
       "9848      2       bird  4.012138  0.000000  0.000000  7.452847  2.061376   \n",
       "1078      0   airplane  3.770070  0.000000  0.000000  7.478410  2.369527   \n",
       "3444      0   airplane  5.499558  0.000000  0.000000  8.193276  2.662392   \n",
       "\n",
       "             5          6          7  ...        25        26        27  \\\n",
       "77    0.000000   4.379885   1.514909  ...  3.294977  0.000000  0.092956   \n",
       "4817  0.000000   4.311693   1.538332  ...  3.127633  0.000000  0.079047   \n",
       "5682  0.000000   4.185994   1.264713  ...  3.110029  0.000000  0.161369   \n",
       "4142  0.000000   4.330772   1.959179  ...  3.285890  0.000000  0.000000   \n",
       "9673  0.000000   4.288519   1.773623  ...  3.319807  0.000000  0.000000   \n",
       "...        ...        ...        ...  ...       ...       ...       ...   \n",
       "385   0.225762  12.329093  13.238092  ...  6.309553  0.613291  0.000000   \n",
       "9921  0.000000  12.336220  12.559271  ...  6.838443  0.000000  0.000000   \n",
       "9848  0.188503  12.355644  13.182446  ...  6.509463  0.083431  0.000000   \n",
       "1078  0.529450  12.515453  13.861215  ...  6.145847  1.051660  0.000000   \n",
       "3444  0.000000  13.177270  12.775107  ...  7.529977  0.000000  0.000000   \n",
       "\n",
       "            28        29         30   31  Cosine Similarity  Cosine Distance  \\\n",
       "77    0.000000  0.000000   0.856945  0.0           1.000000     5.960464e-08   \n",
       "4817  0.000000  0.000000   0.727861  0.0           0.997722     2.278030e-03   \n",
       "5682  0.000000  0.000000   0.771437  0.0           0.999512     4.882216e-04   \n",
       "4142  0.000000  0.000000   1.236298  0.0           0.997265     2.735376e-03   \n",
       "9673  0.000000  0.000000   1.126293  0.0           0.996959     3.041387e-03   \n",
       "...        ...       ...        ...  ...                ...              ...   \n",
       "385   0.409408  2.860798  11.659328  0.0           0.785496     2.145038e-01   \n",
       "9921  0.000000  1.986477  11.533740  0.0           0.809207     1.907931e-01   \n",
       "9848  0.055527  2.524440  11.778317  0.0           0.793530     2.064703e-01   \n",
       "1078  0.646944  3.239271  12.153884  0.0           0.773915     2.260849e-01   \n",
       "3444  0.000000  0.658658  11.336355  0.0           0.845256     1.547437e-01   \n",
       "\n",
       "      Euclidean Distance  \n",
       "77              0.000000  \n",
       "4817            0.691136  \n",
       "5682            0.697544  \n",
       "4142            0.736378  \n",
       "9673            0.775810  \n",
       "...                  ...  \n",
       "385            20.017979  \n",
       "9921           20.166400  \n",
       "9848           20.242908  \n",
       "1078           20.789175  \n",
       "3444           20.950590  \n",
       "\n",
       "[10000 rows x 37 columns]"
      ]
     },
     "execution_count": 29,
     "metadata": {},
     "output_type": "execute_result"
    }
   ],
   "source": [
    "final_encoded_test_data_df['Euclidean Distance'] = euclidean_distance\n",
    "final_encoded_test_data_df.sort_values(by = ['Euclidean Distance'])"
   ]
  },
  {
   "cell_type": "code",
   "execution_count": 30,
   "metadata": {
    "scrolled": true
   },
   "outputs": [
    {
     "data": {
      "image/png": "[encoded data removed]",
      "text/plain": [
       "<Figure size 144x144 with 1 Axes>"
      ]
     },
     "metadata": {
      "needs_background": "light"
     },
     "output_type": "display_data"
    },
    {
     "data": {
      "image/png": "[encoded data removed]",
      "text/plain": [
       "<Figure size 144x144 with 1 Axes>"
      ]
     },
     "metadata": {
      "needs_background": "light"
     },
     "output_type": "display_data"
    },
    {
     "data": {
      "image/png": "[encoded data removed]",
      "text/plain": [
       "<Figure size 144x144 with 1 Axes>"
      ]
     },
     "metadata": {
      "needs_background": "light"
     },
     "output_type": "display_data"
    },
    {
     "data": {
      "image/png": "[encoded data removed]",
      "text/plain": [
       "<Figure size 144x144 with 1 Axes>"
      ]
     },
     "metadata": {
      "needs_background": "light"
     },
     "output_type": "display_data"
    },
    {
     "data": {
      "image/png": "[encoded data removed]",
      "text/plain": [
       "<Figure size 144x144 with 1 Axes>"
      ]
     },
     "metadata": {
      "needs_background": "light"
     },
     "output_type": "display_data"
    },
    {
     "data": {
      "image/png": "[encoded data removed]",
      "text/plain": [
       "<Figure size 144x144 with 1 Axes>"
      ]
     },
     "metadata": {
      "needs_background": "light"
     },
     "output_type": "display_data"
    },
    {
     "data": {
      "image/png": "[encoded data removed]",
      "text/plain": [
       "<Figure size 144x144 with 1 Axes>"
      ]
     },
     "metadata": {
      "needs_background": "light"
     },
     "output_type": "display_data"
    },
    {
     "data": {
      "image/png": "[encoded data removed]",
      "text/plain": [
       "<Figure size 144x144 with 1 Axes>"
      ]
     },
     "metadata": {
      "needs_background": "light"
     },
     "output_type": "display_data"
    },
    {
     "data": {
      "image/png": "[encoded data removed]",
      "text/plain": [
       "<Figure size 144x144 with 1 Axes>"
      ]
     },
     "metadata": {
      "needs_background": "light"
     },
     "output_type": "display_data"
    },
    {
     "data": {
      "image/png": "[encoded data removed]",
      "text/plain": [
       "<Figure size 144x144 with 1 Axes>"
      ]
     },
     "metadata": {
      "needs_background": "light"
     },
     "output_type": "display_data"
    }
   ],
   "source": [
    "euclidean_index = final_encoded_test_data_df.sort_values(by = ['Euclidean Distance']).head(10).index\n",
    "\n",
    "for i in euclidean_index:\n",
    "    plt.figure(figsize = (2, 2))\n",
    "    plt.imshow(x_test[i].reshape(32, 32, 3))\n",
    "    plt.xlabel(final_encoded_test_data_df['Class Name'][i] + ' with an Euclidean Distance of ' + str(final_encoded_test_data_df['Euclidean Distance'][i]) + ' from the queried image.')\n",
    "    plt.show()"
   ]
  },
  {
   "cell_type": "code",
   "execution_count": null,
   "metadata": {},
   "outputs": [],
   "source": []
  }
 ],
 "metadata": {
  "kernelspec": {
   "display_name": "Python 3",
   "language": "python",
   "name": "python3"
  },
  "language_info": {
   "codemirror_mode": {
    "name": "ipython",
    "version": 3
   },
   "file_extension": ".py",
   "mimetype": "text/x-python",
   "name": "python",
   "nbconvert_exporter": "python",
   "pygments_lexer": "ipython3",
   "version": "3.6.9"
  }
 },
 "nbformat": 4,
 "nbformat_minor": 2
}
