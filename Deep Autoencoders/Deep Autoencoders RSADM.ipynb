{
 "cells": [
  {
   "cell_type": "code",
   "execution_count": 2,
   "metadata": {},
   "outputs": [],
   "source": [
    "from keras.layers import Input, Dense\n",
    "from keras.models import Model\n",
    "\n",
    "import numpy as np\n",
    "import pandas as pd\n",
    "import matplotlib.pyplot as plt\n",
    "%matplotlib inline"
   ]
  },
  {
   "cell_type": "code",
   "execution_count": 3,
   "metadata": {},
   "outputs": [
    {
     "name": "stdout",
     "output_type": "stream",
     "text": [
      "(50000, 3074)\n",
      "(10000, 3074)\n"
     ]
    }
   ],
   "source": [
    "datadir = '/Users/sidv88/Documents/Data_Management_2/Data/'\n",
    "train_data = pd.read_csv(datadir + 'train_rgb.csv')\n",
    "test_data = pd.read_csv(datadir + 'test_rgb.csv')\n",
    "print(train_data.shape)\n",
    "print(test_data.shape)"
   ]
  },
  {
   "cell_type": "code",
   "execution_count": 4,
   "metadata": {},
   "outputs": [
    {
     "data": {
      "text/html": [
       "<div>\n",
       "<style scoped>\n",
       "    .dataframe tbody tr th:only-of-type {\n",
       "        vertical-align: middle;\n",
       "    }\n",
       "\n",
       "    .dataframe tbody tr th {\n",
       "        vertical-align: top;\n",
       "    }\n",
       "\n",
       "    .dataframe thead th {\n",
       "        text-align: right;\n",
       "    }\n",
       "</style>\n",
       "<table border=\"1\" class=\"dataframe\">\n",
       "  <thead>\n",
       "    <tr style=\"text-align: right;\">\n",
       "      <th></th>\n",
       "      <th>Class</th>\n",
       "      <th>Class Name</th>\n",
       "      <th>0</th>\n",
       "      <th>1</th>\n",
       "      <th>2</th>\n",
       "      <th>3</th>\n",
       "      <th>4</th>\n",
       "      <th>5</th>\n",
       "      <th>6</th>\n",
       "      <th>7</th>\n",
       "      <th>...</th>\n",
       "      <th>3062</th>\n",
       "      <th>3063</th>\n",
       "      <th>3064</th>\n",
       "      <th>3065</th>\n",
       "      <th>3066</th>\n",
       "      <th>3067</th>\n",
       "      <th>3068</th>\n",
       "      <th>3069</th>\n",
       "      <th>3070</th>\n",
       "      <th>3071</th>\n",
       "    </tr>\n",
       "  </thead>\n",
       "  <tbody>\n",
       "    <tr>\n",
       "      <th>0</th>\n",
       "      <td>6</td>\n",
       "      <td>frog</td>\n",
       "      <td>59</td>\n",
       "      <td>62</td>\n",
       "      <td>63</td>\n",
       "      <td>43</td>\n",
       "      <td>46</td>\n",
       "      <td>45</td>\n",
       "      <td>50</td>\n",
       "      <td>48</td>\n",
       "      <td>...</td>\n",
       "      <td>104</td>\n",
       "      <td>216</td>\n",
       "      <td>184</td>\n",
       "      <td>140</td>\n",
       "      <td>151</td>\n",
       "      <td>118</td>\n",
       "      <td>84</td>\n",
       "      <td>123</td>\n",
       "      <td>92</td>\n",
       "      <td>72</td>\n",
       "    </tr>\n",
       "    <tr>\n",
       "      <th>1</th>\n",
       "      <td>9</td>\n",
       "      <td>truck</td>\n",
       "      <td>154</td>\n",
       "      <td>177</td>\n",
       "      <td>187</td>\n",
       "      <td>126</td>\n",
       "      <td>137</td>\n",
       "      <td>136</td>\n",
       "      <td>105</td>\n",
       "      <td>104</td>\n",
       "      <td>...</td>\n",
       "      <td>136</td>\n",
       "      <td>143</td>\n",
       "      <td>133</td>\n",
       "      <td>139</td>\n",
       "      <td>143</td>\n",
       "      <td>134</td>\n",
       "      <td>142</td>\n",
       "      <td>143</td>\n",
       "      <td>133</td>\n",
       "      <td>144</td>\n",
       "    </tr>\n",
       "    <tr>\n",
       "      <th>2</th>\n",
       "      <td>9</td>\n",
       "      <td>truck</td>\n",
       "      <td>255</td>\n",
       "      <td>255</td>\n",
       "      <td>255</td>\n",
       "      <td>253</td>\n",
       "      <td>253</td>\n",
       "      <td>253</td>\n",
       "      <td>253</td>\n",
       "      <td>253</td>\n",
       "      <td>...</td>\n",
       "      <td>79</td>\n",
       "      <td>78</td>\n",
       "      <td>85</td>\n",
       "      <td>83</td>\n",
       "      <td>79</td>\n",
       "      <td>85</td>\n",
       "      <td>83</td>\n",
       "      <td>80</td>\n",
       "      <td>86</td>\n",
       "      <td>84</td>\n",
       "    </tr>\n",
       "    <tr>\n",
       "      <th>3</th>\n",
       "      <td>4</td>\n",
       "      <td>deer</td>\n",
       "      <td>28</td>\n",
       "      <td>25</td>\n",
       "      <td>10</td>\n",
       "      <td>37</td>\n",
       "      <td>34</td>\n",
       "      <td>19</td>\n",
       "      <td>38</td>\n",
       "      <td>35</td>\n",
       "      <td>...</td>\n",
       "      <td>38</td>\n",
       "      <td>54</td>\n",
       "      <td>47</td>\n",
       "      <td>28</td>\n",
       "      <td>63</td>\n",
       "      <td>56</td>\n",
       "      <td>37</td>\n",
       "      <td>72</td>\n",
       "      <td>65</td>\n",
       "      <td>46</td>\n",
       "    </tr>\n",
       "    <tr>\n",
       "      <th>4</th>\n",
       "      <td>1</td>\n",
       "      <td>automobile</td>\n",
       "      <td>170</td>\n",
       "      <td>180</td>\n",
       "      <td>198</td>\n",
       "      <td>168</td>\n",
       "      <td>178</td>\n",
       "      <td>196</td>\n",
       "      <td>177</td>\n",
       "      <td>185</td>\n",
       "      <td>...</td>\n",
       "      <td>78</td>\n",
       "      <td>75</td>\n",
       "      <td>79</td>\n",
       "      <td>82</td>\n",
       "      <td>71</td>\n",
       "      <td>75</td>\n",
       "      <td>78</td>\n",
       "      <td>73</td>\n",
       "      <td>77</td>\n",
       "      <td>80</td>\n",
       "    </tr>\n",
       "  </tbody>\n",
       "</table>\n",
       "<p>5 rows × 3074 columns</p>\n",
       "</div>"
      ],
      "text/plain": [
       "   Class  Class Name    0    1    2    3    4    5    6    7  ...  3062  3063  \\\n",
       "0      6        frog   59   62   63   43   46   45   50   48  ...   104   216   \n",
       "1      9       truck  154  177  187  126  137  136  105  104  ...   136   143   \n",
       "2      9       truck  255  255  255  253  253  253  253  253  ...    79    78   \n",
       "3      4        deer   28   25   10   37   34   19   38   35  ...    38    54   \n",
       "4      1  automobile  170  180  198  168  178  196  177  185  ...    78    75   \n",
       "\n",
       "   3064  3065  3066  3067  3068  3069  3070  3071  \n",
       "0   184   140   151   118    84   123    92    72  \n",
       "1   133   139   143   134   142   143   133   144  \n",
       "2    85    83    79    85    83    80    86    84  \n",
       "3    47    28    63    56    37    72    65    46  \n",
       "4    79    82    71    75    78    73    77    80  \n",
       "\n",
       "[5 rows x 3074 columns]"
      ]
     },
     "execution_count": 4,
     "metadata": {},
     "output_type": "execute_result"
    }
   ],
   "source": [
    "train_data.head()"
   ]
  },
  {
   "cell_type": "code",
   "execution_count": 5,
   "metadata": {},
   "outputs": [
    {
     "data": {
      "text/html": [
       "<div>\n",
       "<style scoped>\n",
       "    .dataframe tbody tr th:only-of-type {\n",
       "        vertical-align: middle;\n",
       "    }\n",
       "\n",
       "    .dataframe tbody tr th {\n",
       "        vertical-align: top;\n",
       "    }\n",
       "\n",
       "    .dataframe thead th {\n",
       "        text-align: right;\n",
       "    }\n",
       "</style>\n",
       "<table border=\"1\" class=\"dataframe\">\n",
       "  <thead>\n",
       "    <tr style=\"text-align: right;\">\n",
       "      <th></th>\n",
       "      <th>Class</th>\n",
       "      <th>Class Name</th>\n",
       "      <th>0</th>\n",
       "      <th>1</th>\n",
       "      <th>2</th>\n",
       "      <th>3</th>\n",
       "      <th>4</th>\n",
       "      <th>5</th>\n",
       "      <th>6</th>\n",
       "      <th>7</th>\n",
       "      <th>...</th>\n",
       "      <th>3062</th>\n",
       "      <th>3063</th>\n",
       "      <th>3064</th>\n",
       "      <th>3065</th>\n",
       "      <th>3066</th>\n",
       "      <th>3067</th>\n",
       "      <th>3068</th>\n",
       "      <th>3069</th>\n",
       "      <th>3070</th>\n",
       "      <th>3071</th>\n",
       "    </tr>\n",
       "  </thead>\n",
       "  <tbody>\n",
       "    <tr>\n",
       "      <th>0</th>\n",
       "      <td>3</td>\n",
       "      <td>cat</td>\n",
       "      <td>158</td>\n",
       "      <td>112</td>\n",
       "      <td>49</td>\n",
       "      <td>159</td>\n",
       "      <td>111</td>\n",
       "      <td>47</td>\n",
       "      <td>165</td>\n",
       "      <td>116</td>\n",
       "      <td>...</td>\n",
       "      <td>145</td>\n",
       "      <td>24</td>\n",
       "      <td>77</td>\n",
       "      <td>124</td>\n",
       "      <td>34</td>\n",
       "      <td>84</td>\n",
       "      <td>129</td>\n",
       "      <td>21</td>\n",
       "      <td>67</td>\n",
       "      <td>110</td>\n",
       "    </tr>\n",
       "    <tr>\n",
       "      <th>1</th>\n",
       "      <td>8</td>\n",
       "      <td>ship</td>\n",
       "      <td>235</td>\n",
       "      <td>235</td>\n",
       "      <td>235</td>\n",
       "      <td>231</td>\n",
       "      <td>231</td>\n",
       "      <td>231</td>\n",
       "      <td>232</td>\n",
       "      <td>232</td>\n",
       "      <td>...</td>\n",
       "      <td>163</td>\n",
       "      <td>168</td>\n",
       "      <td>183</td>\n",
       "      <td>178</td>\n",
       "      <td>180</td>\n",
       "      <td>195</td>\n",
       "      <td>191</td>\n",
       "      <td>186</td>\n",
       "      <td>200</td>\n",
       "      <td>199</td>\n",
       "    </tr>\n",
       "    <tr>\n",
       "      <th>2</th>\n",
       "      <td>8</td>\n",
       "      <td>ship</td>\n",
       "      <td>158</td>\n",
       "      <td>190</td>\n",
       "      <td>222</td>\n",
       "      <td>158</td>\n",
       "      <td>187</td>\n",
       "      <td>218</td>\n",
       "      <td>139</td>\n",
       "      <td>166</td>\n",
       "      <td>...</td>\n",
       "      <td>37</td>\n",
       "      <td>5</td>\n",
       "      <td>6</td>\n",
       "      <td>8</td>\n",
       "      <td>4</td>\n",
       "      <td>5</td>\n",
       "      <td>3</td>\n",
       "      <td>7</td>\n",
       "      <td>8</td>\n",
       "      <td>7</td>\n",
       "    </tr>\n",
       "    <tr>\n",
       "      <th>3</th>\n",
       "      <td>0</td>\n",
       "      <td>airplane</td>\n",
       "      <td>155</td>\n",
       "      <td>156</td>\n",
       "      <td>149</td>\n",
       "      <td>167</td>\n",
       "      <td>176</td>\n",
       "      <td>187</td>\n",
       "      <td>176</td>\n",
       "      <td>179</td>\n",
       "      <td>...</td>\n",
       "      <td>53</td>\n",
       "      <td>60</td>\n",
       "      <td>63</td>\n",
       "      <td>50</td>\n",
       "      <td>64</td>\n",
       "      <td>65</td>\n",
       "      <td>52</td>\n",
       "      <td>73</td>\n",
       "      <td>68</td>\n",
       "      <td>50</td>\n",
       "    </tr>\n",
       "    <tr>\n",
       "      <th>4</th>\n",
       "      <td>6</td>\n",
       "      <td>frog</td>\n",
       "      <td>65</td>\n",
       "      <td>68</td>\n",
       "      <td>50</td>\n",
       "      <td>70</td>\n",
       "      <td>81</td>\n",
       "      <td>64</td>\n",
       "      <td>48</td>\n",
       "      <td>64</td>\n",
       "      <td>...</td>\n",
       "      <td>147</td>\n",
       "      <td>143</td>\n",
       "      <td>179</td>\n",
       "      <td>136</td>\n",
       "      <td>154</td>\n",
       "      <td>185</td>\n",
       "      <td>146</td>\n",
       "      <td>128</td>\n",
       "      <td>156</td>\n",
       "      <td>117</td>\n",
       "    </tr>\n",
       "  </tbody>\n",
       "</table>\n",
       "<p>5 rows × 3074 columns</p>\n",
       "</div>"
      ],
      "text/plain": [
       "   Class Class Name    0    1    2    3    4    5    6    7  ...  3062  3063  \\\n",
       "0      3        cat  158  112   49  159  111   47  165  116  ...   145    24   \n",
       "1      8       ship  235  235  235  231  231  231  232  232  ...   163   168   \n",
       "2      8       ship  158  190  222  158  187  218  139  166  ...    37     5   \n",
       "3      0   airplane  155  156  149  167  176  187  176  179  ...    53    60   \n",
       "4      6       frog   65   68   50   70   81   64   48   64  ...   147   143   \n",
       "\n",
       "   3064  3065  3066  3067  3068  3069  3070  3071  \n",
       "0    77   124    34    84   129    21    67   110  \n",
       "1   183   178   180   195   191   186   200   199  \n",
       "2     6     8     4     5     3     7     8     7  \n",
       "3    63    50    64    65    52    73    68    50  \n",
       "4   179   136   154   185   146   128   156   117  \n",
       "\n",
       "[5 rows x 3074 columns]"
      ]
     },
     "execution_count": 5,
     "metadata": {},
     "output_type": "execute_result"
    }
   ],
   "source": [
    "test_data.head()"
   ]
  },
  {
   "cell_type": "code",
   "execution_count": 6,
   "metadata": {},
   "outputs": [
    {
     "name": "stdout",
     "output_type": "stream",
     "text": [
      "(50000, 3072)\n",
      "(50000, 2)\n"
     ]
    }
   ],
   "source": [
    "x_train = train_data.iloc[:, 2:]\n",
    "print(x_train.shape)\n",
    "y_train = train_data.iloc[:, [0, 1]]\n",
    "print(y_train.shape)"
   ]
  },
  {
   "cell_type": "code",
   "execution_count": 7,
   "metadata": {},
   "outputs": [
    {
     "name": "stdout",
     "output_type": "stream",
     "text": [
      "(10000, 3072)\n",
      "(10000, 2)\n"
     ]
    }
   ],
   "source": [
    "x_test = test_data.iloc[:, 2:]\n",
    "print(x_test.shape)\n",
    "y_test = test_data.iloc[:, [0, 1]]\n",
    "print(y_test.shape)"
   ]
  },
  {
   "cell_type": "code",
   "execution_count": 8,
   "metadata": {},
   "outputs": [],
   "source": [
    "x_train = np.array(x_train)\n",
    "x_test = np.array(x_test)"
   ]
  },
  {
   "cell_type": "code",
   "execution_count": 9,
   "metadata": {},
   "outputs": [
    {
     "name": "stdout",
     "output_type": "stream",
     "text": [
      "(50000, 3072)\n",
      "(10000, 3072)\n"
     ]
    }
   ],
   "source": [
    "print(x_train.shape)\n",
    "print(x_test.shape)"
   ]
  },
  {
   "cell_type": "code",
   "execution_count": 10,
   "metadata": {},
   "outputs": [
    {
     "name": "stdout",
     "output_type": "stream",
     "text": [
      "(50000, 3072)\n",
      "(10000, 3072)\n"
     ]
    }
   ],
   "source": [
    "x_train = x_train.astype('float32')/255\n",
    "x_test = x_test.astype('float32')/255\n",
    "print(x_train.shape)\n",
    "print(x_test.shape)"
   ]
  },
  {
   "cell_type": "code",
   "execution_count": 11,
   "metadata": {},
   "outputs": [],
   "source": [
    "input_img = Input(shape = (3072, ))\n",
    "encoded = Dense(units = 128, activation = 'relu')(input_img)\n",
    "encoded = Dense(units = 128, activation = 'relu')(encoded)\n",
    "encoded = Dense(units = 64, activation = 'relu')(encoded)\n",
    "encoded = Dense(units = 64, activation = 'relu')(encoded)\n",
    "encoded = Dense(units = 32, activation = 'relu')(encoded)\n",
    "decoded = Dense(units = 64, activation = 'relu')(encoded)\n",
    "decoded = Dense(units = 64, activation = 'relu')(decoded)\n",
    "decoded = Dense(units = 128, activation = 'relu')(decoded)\n",
    "decoded = Dense(units = 128, activation = 'relu')(decoded)\n",
    "decoded = Dense(units = 3072, activation = 'sigmoid')(decoded)"
   ]
  },
  {
   "cell_type": "code",
   "execution_count": 12,
   "metadata": {},
   "outputs": [],
   "source": [
    "autoencoder = Model(input_img, decoded)\n",
    "encoder = Model(input_img, encoded)"
   ]
  },
  {
   "cell_type": "code",
   "execution_count": 13,
   "metadata": {
    "scrolled": true
   },
   "outputs": [
    {
     "name": "stdout",
     "output_type": "stream",
     "text": [
      "Model: \"model_1\"\n",
      "_________________________________________________________________\n",
      "Layer (type)                 Output Shape              Param #   \n",
      "=================================================================\n",
      "input_1 (InputLayer)         (None, 3072)              0         \n",
      "_________________________________________________________________\n",
      "dense_1 (Dense)              (None, 128)               393344    \n",
      "_________________________________________________________________\n",
      "dense_2 (Dense)              (None, 128)               16512     \n",
      "_________________________________________________________________\n",
      "dense_3 (Dense)              (None, 64)                8256      \n",
      "_________________________________________________________________\n",
      "dense_4 (Dense)              (None, 64)                4160      \n",
      "_________________________________________________________________\n",
      "dense_5 (Dense)              (None, 32)                2080      \n",
      "_________________________________________________________________\n",
      "dense_6 (Dense)              (None, 64)                2112      \n",
      "_________________________________________________________________\n",
      "dense_7 (Dense)              (None, 64)                4160      \n",
      "_________________________________________________________________\n",
      "dense_8 (Dense)              (None, 128)               8320      \n",
      "_________________________________________________________________\n",
      "dense_9 (Dense)              (None, 128)               16512     \n",
      "_________________________________________________________________\n",
      "dense_10 (Dense)             (None, 3072)              396288    \n",
      "=================================================================\n",
      "Total params: 851,744\n",
      "Trainable params: 851,744\n",
      "Non-trainable params: 0\n",
      "_________________________________________________________________\n"
     ]
    }
   ],
   "source": [
    "autoencoder.summary()"
   ]
  },
  {
   "cell_type": "code",
   "execution_count": 14,
   "metadata": {
    "scrolled": true
   },
   "outputs": [
    {
     "name": "stdout",
     "output_type": "stream",
     "text": [
      "Model: \"model_2\"\n",
      "_________________________________________________________________\n",
      "Layer (type)                 Output Shape              Param #   \n",
      "=================================================================\n",
      "input_1 (InputLayer)         (None, 3072)              0         \n",
      "_________________________________________________________________\n",
      "dense_1 (Dense)              (None, 128)               393344    \n",
      "_________________________________________________________________\n",
      "dense_2 (Dense)              (None, 128)               16512     \n",
      "_________________________________________________________________\n",
      "dense_3 (Dense)              (None, 64)                8256      \n",
      "_________________________________________________________________\n",
      "dense_4 (Dense)              (None, 64)                4160      \n",
      "_________________________________________________________________\n",
      "dense_5 (Dense)              (None, 32)                2080      \n",
      "=================================================================\n",
      "Total params: 424,352\n",
      "Trainable params: 424,352\n",
      "Non-trainable params: 0\n",
      "_________________________________________________________________\n"
     ]
    }
   ],
   "source": [
    "encoder.summary()"
   ]
  },
  {
   "cell_type": "code",
   "execution_count": 15,
   "metadata": {
    "scrolled": true
   },
   "outputs": [
    {
     "name": "stdout",
     "output_type": "stream",
     "text": [
      "Train on 50000 samples, validate on 10000 samples\n",
      "Epoch 1/50\n",
      "50000/50000 [==============================] - 10s 204us/step - loss: 0.0640 - accuracy: 6.0000e-04 - val_loss: 0.0636 - val_accuracy: 6.0000e-04\n",
      "Epoch 2/50\n",
      "50000/50000 [==============================] - 10s 205us/step - loss: 0.0639 - accuracy: 6.0000e-04 - val_loss: 0.0636 - val_accuracy: 6.0000e-04\n",
      "Epoch 3/50\n",
      "50000/50000 [==============================] - 11s 212us/step - loss: 0.0639 - accuracy: 6.0000e-04 - val_loss: 0.0636 - val_accuracy: 7.0000e-04\n",
      "Epoch 4/50\n",
      "50000/50000 [==============================] - 10s 195us/step - loss: 0.0639 - accuracy: 6.0000e-04 - val_loss: 0.0635 - val_accuracy: 6.0000e-04\n",
      "Epoch 5/50\n",
      "50000/50000 [==============================] - 10s 195us/step - loss: 0.0638 - accuracy: 5.8000e-04 - val_loss: 0.0635 - val_accuracy: 5.0000e-04\n",
      "Epoch 6/50\n",
      "50000/50000 [==============================] - 10s 196us/step - loss: 0.0638 - accuracy: 5.8000e-04 - val_loss: 0.0634 - val_accuracy: 6.0000e-04\n",
      "Epoch 7/50\n",
      "50000/50000 [==============================] - 10s 197us/step - loss: 0.0637 - accuracy: 6.0000e-04 - val_loss: 0.0634 - val_accuracy: 6.0000e-04\n",
      "Epoch 8/50\n",
      "50000/50000 [==============================] - 11s 216us/step - loss: 0.0637 - accuracy: 6.0000e-04 - val_loss: 0.0633 - val_accuracy: 6.0000e-04\n",
      "Epoch 9/50\n",
      "50000/50000 [==============================] - 17s 333us/step - loss: 0.0636 - accuracy: 6.0000e-04 - val_loss: 0.0631 - val_accuracy: 6.0000e-04\n",
      "Epoch 10/50\n",
      "50000/50000 [==============================] - 14s 272us/step - loss: 0.0632 - accuracy: 6.0000e-04 - val_loss: 0.0625 - val_accuracy: 7.0000e-04\n",
      "Epoch 11/50\n",
      "50000/50000 [==============================] - 12s 233us/step - loss: 0.0617 - accuracy: 4.4000e-04 - val_loss: 0.0596 - val_accuracy: 5.0000e-04\n",
      "Epoch 12/50\n",
      "50000/50000 [==============================] - 10s 209us/step - loss: 0.0583 - accuracy: 5.4000e-04 - val_loss: 0.0568 - val_accuracy: 6.0000e-04\n",
      "Epoch 13/50\n",
      "50000/50000 [==============================] - 11s 211us/step - loss: 0.0568 - accuracy: 5.2000e-04 - val_loss: 0.0561 - val_accuracy: 7.0000e-04\n",
      "Epoch 14/50\n",
      "50000/50000 [==============================] - 11s 225us/step - loss: 0.0564 - accuracy: 6.2000e-04 - val_loss: 0.0560 - val_accuracy: 8.0000e-04\n",
      "Epoch 15/50\n",
      "50000/50000 [==============================] - 11s 211us/step - loss: 0.0563 - accuracy: 9.0000e-04 - val_loss: 0.0558 - val_accuracy: 0.0013\n",
      "Epoch 16/50\n",
      "50000/50000 [==============================] - 10s 204us/step - loss: 0.0562 - accuracy: 0.0012 - val_loss: 0.0556 - val_accuracy: 0.0012\n",
      "Epoch 17/50\n",
      "50000/50000 [==============================] - 10s 197us/step - loss: 0.0560 - accuracy: 0.0014 - val_loss: 0.0555 - val_accuracy: 0.0012\n",
      "Epoch 18/50\n",
      "50000/50000 [==============================] - 10s 197us/step - loss: 0.0559 - accuracy: 0.0015 - val_loss: 0.0555 - val_accuracy: 0.0015\n",
      "Epoch 19/50\n",
      "50000/50000 [==============================] - 10s 197us/step - loss: 0.0558 - accuracy: 0.0014 - val_loss: 0.0552 - val_accuracy: 0.0016\n",
      "Epoch 20/50\n",
      "50000/50000 [==============================] - 10s 198us/step - loss: 0.0556 - accuracy: 0.0010 - val_loss: 0.0551 - val_accuracy: 0.0013\n",
      "Epoch 21/50\n",
      "50000/50000 [==============================] - 10s 197us/step - loss: 0.0555 - accuracy: 0.0011 - val_loss: 0.0547 - val_accuracy: 0.0012\n",
      "Epoch 22/50\n",
      "50000/50000 [==============================] - 10s 197us/step - loss: 0.0552 - accuracy: 0.0011 - val_loss: 0.0544 - val_accuracy: 0.0012\n",
      "Epoch 23/50\n",
      "50000/50000 [==============================] - 10s 198us/step - loss: 0.0548 - accuracy: 0.0010 - val_loss: 0.0537 - val_accuracy: 0.0011\n",
      "Epoch 24/50\n",
      "50000/50000 [==============================] - 10s 197us/step - loss: 0.0539 - accuracy: 8.6000e-04 - val_loss: 0.0529 - val_accuracy: 0.0014\n",
      "Epoch 25/50\n",
      "50000/50000 [==============================] - 10s 197us/step - loss: 0.0516 - accuracy: 8.6000e-04 - val_loss: 0.0493 - val_accuracy: 0.0015\n",
      "Epoch 26/50\n",
      "50000/50000 [==============================] - 10s 198us/step - loss: 0.0483 - accuracy: 0.0011 - val_loss: 0.0472 - val_accuracy: 0.0016\n",
      "Epoch 27/50\n",
      "50000/50000 [==============================] - 10s 197us/step - loss: 0.0457 - accuracy: 0.0016 - val_loss: 0.0437 - val_accuracy: 0.0023\n",
      "Epoch 28/50\n",
      "50000/50000 [==============================] - 10s 198us/step - loss: 0.0444 - accuracy: 0.0015 - val_loss: 0.0431 - val_accuracy: 0.0027\n",
      "Epoch 29/50\n",
      "50000/50000 [==============================] - 10s 199us/step - loss: 0.0436 - accuracy: 0.0019 - val_loss: 0.0423 - val_accuracy: 0.0021\n",
      "Epoch 30/50\n",
      "50000/50000 [==============================] - 10s 198us/step - loss: 0.0431 - accuracy: 0.0018 - val_loss: 0.0431 - val_accuracy: 0.0021\n",
      "Epoch 31/50\n",
      "50000/50000 [==============================] - 10s 198us/step - loss: 0.0426 - accuracy: 0.0018 - val_loss: 0.0429 - val_accuracy: 0.0020\n",
      "Epoch 32/50\n",
      "50000/50000 [==============================] - 10s 198us/step - loss: 0.0423 - accuracy: 0.0017 - val_loss: 0.0415 - val_accuracy: 0.0018\n",
      "Epoch 33/50\n",
      "50000/50000 [==============================] - 10s 198us/step - loss: 0.0420 - accuracy: 0.0016 - val_loss: 0.0416 - val_accuracy: 0.0017\n",
      "Epoch 34/50\n",
      "50000/50000 [==============================] - 10s 198us/step - loss: 0.0415 - accuracy: 0.0017 - val_loss: 0.0415 - val_accuracy: 0.0017\n",
      "Epoch 35/50\n",
      "50000/50000 [==============================] - 10s 198us/step - loss: 0.0410 - accuracy: 0.0017 - val_loss: 0.0405 - val_accuracy: 0.0015\n",
      "Epoch 36/50\n",
      "50000/50000 [==============================] - 10s 197us/step - loss: 0.0404 - accuracy: 0.0014 - val_loss: 0.0388 - val_accuracy: 0.0016\n",
      "Epoch 37/50\n",
      "50000/50000 [==============================] - 10s 197us/step - loss: 0.0398 - accuracy: 0.0014 - val_loss: 0.0398 - val_accuracy: 0.0018\n",
      "Epoch 38/50\n",
      "50000/50000 [==============================] - 10s 198us/step - loss: 0.0393 - accuracy: 0.0013 - val_loss: 0.0399 - val_accuracy: 0.0014\n",
      "Epoch 39/50\n",
      "50000/50000 [==============================] - 11s 224us/step - loss: 0.0388 - accuracy: 0.0013 - val_loss: 0.0390 - val_accuracy: 0.0013\n",
      "Epoch 40/50\n",
      "50000/50000 [==============================] - 10s 204us/step - loss: 0.0383 - accuracy: 0.0013 - val_loss: 0.0391 - val_accuracy: 9.0000e-04\n",
      "Epoch 41/50\n",
      "50000/50000 [==============================] - 10s 199us/step - loss: 0.0379 - accuracy: 0.0014 - val_loss: 0.0375 - val_accuracy: 0.0020\n",
      "Epoch 42/50\n",
      "50000/50000 [==============================] - 10s 203us/step - loss: 0.0376 - accuracy: 0.0015 - val_loss: 0.0386 - val_accuracy: 0.0015\n",
      "Epoch 43/50\n",
      "50000/50000 [==============================] - 10s 199us/step - loss: 0.0374 - accuracy: 0.0014 - val_loss: 0.0373 - val_accuracy: 0.0020\n",
      "Epoch 44/50\n",
      "50000/50000 [==============================] - 10s 197us/step - loss: 0.0371 - accuracy: 0.0013 - val_loss: 0.0367 - val_accuracy: 0.0019\n",
      "Epoch 45/50\n",
      "50000/50000 [==============================] - 10s 203us/step - loss: 0.0370 - accuracy: 0.0016 - val_loss: 0.0377 - val_accuracy: 0.0017\n",
      "Epoch 46/50\n",
      "50000/50000 [==============================] - 11s 210us/step - loss: 0.0369 - accuracy: 0.0015 - val_loss: 0.0372 - val_accuracy: 0.0014\n",
      "Epoch 47/50\n",
      "50000/50000 [==============================] - 10s 201us/step - loss: 0.0367 - accuracy: 0.0016 - val_loss: 0.0375 - val_accuracy: 0.0020\n",
      "Epoch 48/50\n",
      "50000/50000 [==============================] - 10s 199us/step - loss: 0.0366 - accuracy: 0.0015 - val_loss: 0.0372 - val_accuracy: 0.0022\n",
      "Epoch 49/50\n",
      "50000/50000 [==============================] - 10s 197us/step - loss: 0.0365 - accuracy: 0.0015 - val_loss: 0.0363 - val_accuracy: 0.0019\n",
      "Epoch 50/50\n",
      "50000/50000 [==============================] - 10s 197us/step - loss: 0.0364 - accuracy: 0.0013 - val_loss: 0.0365 - val_accuracy: 0.0020\n"
     ]
    },
    {
     "data": {
      "text/plain": [
       "<keras.callbacks.callbacks.History at 0x13e654470>"
      ]
     },
     "execution_count": 15,
     "metadata": {},
     "output_type": "execute_result"
    }
   ],
   "source": [
    "autoencoder.compile(optimizer = 'adadelta', loss = 'mse', metrics = ['accuracy'])\n",
    "autoencoder.fit(x_train, x_train, epochs = 50, batch_size = 256, shuffle = True, validation_data = [x_test, x_test])"
   ]
  },
  {
   "cell_type": "code",
   "execution_count": 16,
   "metadata": {},
   "outputs": [],
   "source": [
    "encoded_test_data = encoder.predict(x_test)\n",
    "predicted_test_data = autoencoder.predict(x_test)"
   ]
  },
  {
   "cell_type": "code",
   "execution_count": 17,
   "metadata": {},
   "outputs": [
    {
     "data": {
      "text/plain": [
       "(10000, 32)"
      ]
     },
     "execution_count": 17,
     "metadata": {},
     "output_type": "execute_result"
    }
   ],
   "source": [
    "encoded_test_data.shape"
   ]
  },
  {
   "cell_type": "code",
   "execution_count": 18,
   "metadata": {
    "scrolled": true
   },
   "outputs": [
    {
     "data": {
      "text/html": [
       "<div>\n",
       "<style scoped>\n",
       "    .dataframe tbody tr th:only-of-type {\n",
       "        vertical-align: middle;\n",
       "    }\n",
       "\n",
       "    .dataframe tbody tr th {\n",
       "        vertical-align: top;\n",
       "    }\n",
       "\n",
       "    .dataframe thead th {\n",
       "        text-align: right;\n",
       "    }\n",
       "</style>\n",
       "<table border=\"1\" class=\"dataframe\">\n",
       "  <thead>\n",
       "    <tr style=\"text-align: right;\">\n",
       "      <th></th>\n",
       "      <th>Class</th>\n",
       "      <th>Class Name</th>\n",
       "    </tr>\n",
       "  </thead>\n",
       "  <tbody>\n",
       "    <tr>\n",
       "      <th>0</th>\n",
       "      <td>3</td>\n",
       "      <td>cat</td>\n",
       "    </tr>\n",
       "    <tr>\n",
       "      <th>1</th>\n",
       "      <td>8</td>\n",
       "      <td>ship</td>\n",
       "    </tr>\n",
       "    <tr>\n",
       "      <th>2</th>\n",
       "      <td>8</td>\n",
       "      <td>ship</td>\n",
       "    </tr>\n",
       "    <tr>\n",
       "      <th>3</th>\n",
       "      <td>0</td>\n",
       "      <td>airplane</td>\n",
       "    </tr>\n",
       "    <tr>\n",
       "      <th>4</th>\n",
       "      <td>6</td>\n",
       "      <td>frog</td>\n",
       "    </tr>\n",
       "    <tr>\n",
       "      <th>...</th>\n",
       "      <td>...</td>\n",
       "      <td>...</td>\n",
       "    </tr>\n",
       "    <tr>\n",
       "      <th>9995</th>\n",
       "      <td>8</td>\n",
       "      <td>ship</td>\n",
       "    </tr>\n",
       "    <tr>\n",
       "      <th>9996</th>\n",
       "      <td>3</td>\n",
       "      <td>cat</td>\n",
       "    </tr>\n",
       "    <tr>\n",
       "      <th>9997</th>\n",
       "      <td>5</td>\n",
       "      <td>dog</td>\n",
       "    </tr>\n",
       "    <tr>\n",
       "      <th>9998</th>\n",
       "      <td>1</td>\n",
       "      <td>automobile</td>\n",
       "    </tr>\n",
       "    <tr>\n",
       "      <th>9999</th>\n",
       "      <td>7</td>\n",
       "      <td>horse</td>\n",
       "    </tr>\n",
       "  </tbody>\n",
       "</table>\n",
       "<p>10000 rows × 2 columns</p>\n",
       "</div>"
      ],
      "text/plain": [
       "      Class  Class Name\n",
       "0         3         cat\n",
       "1         8        ship\n",
       "2         8        ship\n",
       "3         0    airplane\n",
       "4         6        frog\n",
       "...     ...         ...\n",
       "9995      8        ship\n",
       "9996      3         cat\n",
       "9997      5         dog\n",
       "9998      1  automobile\n",
       "9999      7       horse\n",
       "\n",
       "[10000 rows x 2 columns]"
      ]
     },
     "execution_count": 18,
     "metadata": {},
     "output_type": "execute_result"
    }
   ],
   "source": [
    "y_test"
   ]
  },
  {
   "cell_type": "code",
   "execution_count": 19,
   "metadata": {},
   "outputs": [
    {
     "data": {
      "text/plain": [
       "(10000, 34)"
      ]
     },
     "execution_count": 19,
     "metadata": {},
     "output_type": "execute_result"
    }
   ],
   "source": [
    "encoded_test_data_df = pd.DataFrame(encoded_test_data)\n",
    "final_encoded_test_data_df = pd.concat([y_test, encoded_test_data_df], axis = 1)\n",
    "final_encoded_test_data_df.shape"
   ]
  },
  {
   "cell_type": "code",
   "execution_count": 20,
   "metadata": {},
   "outputs": [],
   "source": [
    "datadir = '/Users/sidv88/Documents/Data_Management_2/Deep_Encoded_Data/'\n",
    "final_encoded_test_data_df.to_csv(datadir + 'Deep_Encoders_Test_RSADM.csv', index = False)"
   ]
  },
  {
   "cell_type": "code",
   "execution_count": 21,
   "metadata": {},
   "outputs": [
    {
     "name": "stdout",
     "output_type": "stream",
     "text": [
      "Enter one of these values ['cat' 'ship' 'airplane' 'frog' 'automobile' 'truck' 'dog' 'horse' 'deer'\n",
      " 'bird'] : cat\n"
     ]
    }
   ],
   "source": [
    "input_val = input(\"Enter one of these values {} : \".format(final_encoded_test_data_df['Class Name'].unique()))"
   ]
  },
  {
   "cell_type": "code",
   "execution_count": 22,
   "metadata": {},
   "outputs": [
    {
     "name": "stdout",
     "output_type": "stream",
     "text": [
      "Enter a number between 0 and 999 : 5\n"
     ]
    }
   ],
   "source": [
    "input_num = input(\"Enter a number between 0 and 999 : \")"
   ]
  },
  {
   "cell_type": "code",
   "execution_count": 23,
   "metadata": {},
   "outputs": [
    {
     "name": "stdout",
     "output_type": "stream",
     "text": [
      "10000\n",
      "10000\n"
     ]
    }
   ],
   "source": [
    "from numpy import dot\n",
    "from numpy.linalg import norm\n",
    "\n",
    "cosine_similarity = []\n",
    "cosine_distance = []\n",
    "\n",
    "for i in range(len(x_test)):\n",
    "    a = final_encoded_test_data_df.loc[final_encoded_test_data_df['Class Name'] == input_val].iloc[int(input_num), 2:]\n",
    "    b = final_encoded_test_data_df.iloc[i, 2:]\n",
    "    cos_sim = dot(a, b)/(norm(a) * norm(b))\n",
    "    cos_dist = 1 - cos_sim\n",
    "    cosine_similarity.append(cos_sim)\n",
    "    cosine_distance.append(cos_dist)\n",
    "print(len(cosine_similarity))\n",
    "print(len(cosine_distance))"
   ]
  },
  {
   "cell_type": "code",
   "execution_count": 24,
   "metadata": {},
   "outputs": [],
   "source": [
    "final_encoded_test_data_df['Cosine Similarity'] = cosine_similarity\n",
    "final_encoded_test_data_df['Cosine Distance'] = cosine_distance"
   ]
  },
  {
   "cell_type": "code",
   "execution_count": 25,
   "metadata": {},
   "outputs": [
    {
     "data": {
      "text/html": [
       "<div>\n",
       "<style scoped>\n",
       "    .dataframe tbody tr th:only-of-type {\n",
       "        vertical-align: middle;\n",
       "    }\n",
       "\n",
       "    .dataframe tbody tr th {\n",
       "        vertical-align: top;\n",
       "    }\n",
       "\n",
       "    .dataframe thead th {\n",
       "        text-align: right;\n",
       "    }\n",
       "</style>\n",
       "<table border=\"1\" class=\"dataframe\">\n",
       "  <thead>\n",
       "    <tr style=\"text-align: right;\">\n",
       "      <th></th>\n",
       "      <th>Class</th>\n",
       "      <th>Class Name</th>\n",
       "      <th>0</th>\n",
       "      <th>1</th>\n",
       "      <th>2</th>\n",
       "      <th>3</th>\n",
       "      <th>4</th>\n",
       "      <th>5</th>\n",
       "      <th>6</th>\n",
       "      <th>7</th>\n",
       "      <th>...</th>\n",
       "      <th>24</th>\n",
       "      <th>25</th>\n",
       "      <th>26</th>\n",
       "      <th>27</th>\n",
       "      <th>28</th>\n",
       "      <th>29</th>\n",
       "      <th>30</th>\n",
       "      <th>31</th>\n",
       "      <th>Cosine Similarity</th>\n",
       "      <th>Cosine Distance</th>\n",
       "    </tr>\n",
       "  </thead>\n",
       "  <tbody>\n",
       "    <tr>\n",
       "      <th>63</th>\n",
       "      <td>3</td>\n",
       "      <td>cat</td>\n",
       "      <td>0.0</td>\n",
       "      <td>3.812714</td>\n",
       "      <td>3.600092</td>\n",
       "      <td>0.0</td>\n",
       "      <td>0.000000</td>\n",
       "      <td>0.000000</td>\n",
       "      <td>0.099760</td>\n",
       "      <td>2.299997</td>\n",
       "      <td>...</td>\n",
       "      <td>0.0</td>\n",
       "      <td>3.353589</td>\n",
       "      <td>1.744551</td>\n",
       "      <td>2.012362</td>\n",
       "      <td>1.268138</td>\n",
       "      <td>0.0</td>\n",
       "      <td>5.132991</td>\n",
       "      <td>0.000000</td>\n",
       "      <td>1.000000</td>\n",
       "      <td>5.960464e-08</td>\n",
       "    </tr>\n",
       "    <tr>\n",
       "      <th>2143</th>\n",
       "      <td>9</td>\n",
       "      <td>truck</td>\n",
       "      <td>0.0</td>\n",
       "      <td>2.680034</td>\n",
       "      <td>2.408046</td>\n",
       "      <td>0.0</td>\n",
       "      <td>0.000000</td>\n",
       "      <td>0.000000</td>\n",
       "      <td>0.000211</td>\n",
       "      <td>1.572827</td>\n",
       "      <td>...</td>\n",
       "      <td>0.0</td>\n",
       "      <td>2.255867</td>\n",
       "      <td>1.142427</td>\n",
       "      <td>1.376520</td>\n",
       "      <td>0.913899</td>\n",
       "      <td>0.0</td>\n",
       "      <td>3.618508</td>\n",
       "      <td>0.000000</td>\n",
       "      <td>0.999525</td>\n",
       "      <td>4.745126e-04</td>\n",
       "    </tr>\n",
       "    <tr>\n",
       "      <th>822</th>\n",
       "      <td>0</td>\n",
       "      <td>airplane</td>\n",
       "      <td>0.0</td>\n",
       "      <td>3.466169</td>\n",
       "      <td>3.217995</td>\n",
       "      <td>0.0</td>\n",
       "      <td>0.000000</td>\n",
       "      <td>0.000000</td>\n",
       "      <td>0.011788</td>\n",
       "      <td>2.231041</td>\n",
       "      <td>...</td>\n",
       "      <td>0.0</td>\n",
       "      <td>2.947239</td>\n",
       "      <td>1.546322</td>\n",
       "      <td>1.896321</td>\n",
       "      <td>1.275149</td>\n",
       "      <td>0.0</td>\n",
       "      <td>4.918099</td>\n",
       "      <td>0.000000</td>\n",
       "      <td>0.999343</td>\n",
       "      <td>6.566048e-04</td>\n",
       "    </tr>\n",
       "    <tr>\n",
       "      <th>9516</th>\n",
       "      <td>9</td>\n",
       "      <td>truck</td>\n",
       "      <td>0.0</td>\n",
       "      <td>4.580598</td>\n",
       "      <td>4.547433</td>\n",
       "      <td>0.0</td>\n",
       "      <td>0.000000</td>\n",
       "      <td>0.000000</td>\n",
       "      <td>0.139054</td>\n",
       "      <td>2.895822</td>\n",
       "      <td>...</td>\n",
       "      <td>0.0</td>\n",
       "      <td>4.011809</td>\n",
       "      <td>2.287211</td>\n",
       "      <td>2.501622</td>\n",
       "      <td>1.596659</td>\n",
       "      <td>0.0</td>\n",
       "      <td>6.229489</td>\n",
       "      <td>0.000000</td>\n",
       "      <td>0.999343</td>\n",
       "      <td>6.569624e-04</td>\n",
       "    </tr>\n",
       "    <tr>\n",
       "      <th>4791</th>\n",
       "      <td>9</td>\n",
       "      <td>truck</td>\n",
       "      <td>0.0</td>\n",
       "      <td>4.255493</td>\n",
       "      <td>3.773372</td>\n",
       "      <td>0.0</td>\n",
       "      <td>0.000000</td>\n",
       "      <td>0.000000</td>\n",
       "      <td>0.217512</td>\n",
       "      <td>2.548455</td>\n",
       "      <td>...</td>\n",
       "      <td>0.0</td>\n",
       "      <td>3.387257</td>\n",
       "      <td>1.936476</td>\n",
       "      <td>2.235257</td>\n",
       "      <td>1.330813</td>\n",
       "      <td>0.0</td>\n",
       "      <td>5.662296</td>\n",
       "      <td>0.000000</td>\n",
       "      <td>0.999265</td>\n",
       "      <td>7.345676e-04</td>\n",
       "    </tr>\n",
       "    <tr>\n",
       "      <th>...</th>\n",
       "      <td>...</td>\n",
       "      <td>...</td>\n",
       "      <td>...</td>\n",
       "      <td>...</td>\n",
       "      <td>...</td>\n",
       "      <td>...</td>\n",
       "      <td>...</td>\n",
       "      <td>...</td>\n",
       "      <td>...</td>\n",
       "      <td>...</td>\n",
       "      <td>...</td>\n",
       "      <td>...</td>\n",
       "      <td>...</td>\n",
       "      <td>...</td>\n",
       "      <td>...</td>\n",
       "      <td>...</td>\n",
       "      <td>...</td>\n",
       "      <td>...</td>\n",
       "      <td>...</td>\n",
       "      <td>...</td>\n",
       "      <td>...</td>\n",
       "    </tr>\n",
       "    <tr>\n",
       "      <th>5179</th>\n",
       "      <td>5</td>\n",
       "      <td>dog</td>\n",
       "      <td>0.0</td>\n",
       "      <td>1.269657</td>\n",
       "      <td>0.043418</td>\n",
       "      <td>0.0</td>\n",
       "      <td>0.883773</td>\n",
       "      <td>0.298933</td>\n",
       "      <td>0.989633</td>\n",
       "      <td>0.278833</td>\n",
       "      <td>...</td>\n",
       "      <td>0.0</td>\n",
       "      <td>0.088449</td>\n",
       "      <td>0.171032</td>\n",
       "      <td>0.054414</td>\n",
       "      <td>0.487873</td>\n",
       "      <td>0.0</td>\n",
       "      <td>0.000000</td>\n",
       "      <td>1.069713</td>\n",
       "      <td>0.296172</td>\n",
       "      <td>7.038278e-01</td>\n",
       "    </tr>\n",
       "    <tr>\n",
       "      <th>2451</th>\n",
       "      <td>8</td>\n",
       "      <td>ship</td>\n",
       "      <td>0.0</td>\n",
       "      <td>1.259205</td>\n",
       "      <td>0.000000</td>\n",
       "      <td>0.0</td>\n",
       "      <td>1.093774</td>\n",
       "      <td>0.420784</td>\n",
       "      <td>1.103758</td>\n",
       "      <td>0.374938</td>\n",
       "      <td>...</td>\n",
       "      <td>0.0</td>\n",
       "      <td>0.109189</td>\n",
       "      <td>0.139603</td>\n",
       "      <td>0.052020</td>\n",
       "      <td>0.786155</td>\n",
       "      <td>0.0</td>\n",
       "      <td>0.000000</td>\n",
       "      <td>1.299466</td>\n",
       "      <td>0.292854</td>\n",
       "      <td>7.071458e-01</td>\n",
       "    </tr>\n",
       "    <tr>\n",
       "      <th>3938</th>\n",
       "      <td>8</td>\n",
       "      <td>ship</td>\n",
       "      <td>0.0</td>\n",
       "      <td>0.794711</td>\n",
       "      <td>0.149666</td>\n",
       "      <td>0.0</td>\n",
       "      <td>0.749029</td>\n",
       "      <td>0.384230</td>\n",
       "      <td>0.790918</td>\n",
       "      <td>0.254294</td>\n",
       "      <td>...</td>\n",
       "      <td>0.0</td>\n",
       "      <td>0.069494</td>\n",
       "      <td>0.135140</td>\n",
       "      <td>0.000000</td>\n",
       "      <td>0.651440</td>\n",
       "      <td>0.0</td>\n",
       "      <td>0.000000</td>\n",
       "      <td>1.077844</td>\n",
       "      <td>0.280363</td>\n",
       "      <td>7.196370e-01</td>\n",
       "    </tr>\n",
       "    <tr>\n",
       "      <th>348</th>\n",
       "      <td>8</td>\n",
       "      <td>ship</td>\n",
       "      <td>0.0</td>\n",
       "      <td>0.742198</td>\n",
       "      <td>0.155861</td>\n",
       "      <td>0.0</td>\n",
       "      <td>0.855117</td>\n",
       "      <td>0.421861</td>\n",
       "      <td>0.861178</td>\n",
       "      <td>0.274210</td>\n",
       "      <td>...</td>\n",
       "      <td>0.0</td>\n",
       "      <td>0.000000</td>\n",
       "      <td>0.104734</td>\n",
       "      <td>0.000000</td>\n",
       "      <td>0.853017</td>\n",
       "      <td>0.0</td>\n",
       "      <td>0.000000</td>\n",
       "      <td>1.229845</td>\n",
       "      <td>0.263345</td>\n",
       "      <td>7.366548e-01</td>\n",
       "    </tr>\n",
       "    <tr>\n",
       "      <th>5156</th>\n",
       "      <td>5</td>\n",
       "      <td>dog</td>\n",
       "      <td>0.0</td>\n",
       "      <td>0.806448</td>\n",
       "      <td>0.125742</td>\n",
       "      <td>0.0</td>\n",
       "      <td>0.832404</td>\n",
       "      <td>0.467324</td>\n",
       "      <td>1.003750</td>\n",
       "      <td>0.182025</td>\n",
       "      <td>...</td>\n",
       "      <td>0.0</td>\n",
       "      <td>0.000000</td>\n",
       "      <td>0.098036</td>\n",
       "      <td>0.000000</td>\n",
       "      <td>0.813648</td>\n",
       "      <td>0.0</td>\n",
       "      <td>0.000000</td>\n",
       "      <td>1.153451</td>\n",
       "      <td>0.254793</td>\n",
       "      <td>7.452074e-01</td>\n",
       "    </tr>\n",
       "  </tbody>\n",
       "</table>\n",
       "<p>10000 rows × 36 columns</p>\n",
       "</div>"
      ],
      "text/plain": [
       "      Class Class Name    0         1         2    3         4         5  \\\n",
       "63        3        cat  0.0  3.812714  3.600092  0.0  0.000000  0.000000   \n",
       "2143      9      truck  0.0  2.680034  2.408046  0.0  0.000000  0.000000   \n",
       "822       0   airplane  0.0  3.466169  3.217995  0.0  0.000000  0.000000   \n",
       "9516      9      truck  0.0  4.580598  4.547433  0.0  0.000000  0.000000   \n",
       "4791      9      truck  0.0  4.255493  3.773372  0.0  0.000000  0.000000   \n",
       "...     ...        ...  ...       ...       ...  ...       ...       ...   \n",
       "5179      5        dog  0.0  1.269657  0.043418  0.0  0.883773  0.298933   \n",
       "2451      8       ship  0.0  1.259205  0.000000  0.0  1.093774  0.420784   \n",
       "3938      8       ship  0.0  0.794711  0.149666  0.0  0.749029  0.384230   \n",
       "348       8       ship  0.0  0.742198  0.155861  0.0  0.855117  0.421861   \n",
       "5156      5        dog  0.0  0.806448  0.125742  0.0  0.832404  0.467324   \n",
       "\n",
       "             6         7  ...   24        25        26        27        28  \\\n",
       "63    0.099760  2.299997  ...  0.0  3.353589  1.744551  2.012362  1.268138   \n",
       "2143  0.000211  1.572827  ...  0.0  2.255867  1.142427  1.376520  0.913899   \n",
       "822   0.011788  2.231041  ...  0.0  2.947239  1.546322  1.896321  1.275149   \n",
       "9516  0.139054  2.895822  ...  0.0  4.011809  2.287211  2.501622  1.596659   \n",
       "4791  0.217512  2.548455  ...  0.0  3.387257  1.936476  2.235257  1.330813   \n",
       "...        ...       ...  ...  ...       ...       ...       ...       ...   \n",
       "5179  0.989633  0.278833  ...  0.0  0.088449  0.171032  0.054414  0.487873   \n",
       "2451  1.103758  0.374938  ...  0.0  0.109189  0.139603  0.052020  0.786155   \n",
       "3938  0.790918  0.254294  ...  0.0  0.069494  0.135140  0.000000  0.651440   \n",
       "348   0.861178  0.274210  ...  0.0  0.000000  0.104734  0.000000  0.853017   \n",
       "5156  1.003750  0.182025  ...  0.0  0.000000  0.098036  0.000000  0.813648   \n",
       "\n",
       "       29        30        31  Cosine Similarity  Cosine Distance  \n",
       "63    0.0  5.132991  0.000000           1.000000     5.960464e-08  \n",
       "2143  0.0  3.618508  0.000000           0.999525     4.745126e-04  \n",
       "822   0.0  4.918099  0.000000           0.999343     6.566048e-04  \n",
       "9516  0.0  6.229489  0.000000           0.999343     6.569624e-04  \n",
       "4791  0.0  5.662296  0.000000           0.999265     7.345676e-04  \n",
       "...   ...       ...       ...                ...              ...  \n",
       "5179  0.0  0.000000  1.069713           0.296172     7.038278e-01  \n",
       "2451  0.0  0.000000  1.299466           0.292854     7.071458e-01  \n",
       "3938  0.0  0.000000  1.077844           0.280363     7.196370e-01  \n",
       "348   0.0  0.000000  1.229845           0.263345     7.366548e-01  \n",
       "5156  0.0  0.000000  1.153451           0.254793     7.452074e-01  \n",
       "\n",
       "[10000 rows x 36 columns]"
      ]
     },
     "execution_count": 25,
     "metadata": {},
     "output_type": "execute_result"
    }
   ],
   "source": [
    "final_encoded_test_data_df.sort_values(by = ['Cosine Similarity'], ascending = False)"
   ]
  },
  {
   "cell_type": "code",
   "execution_count": 26,
   "metadata": {},
   "outputs": [],
   "source": [
    "cosine_index = final_encoded_test_data_df.sort_values(by = ['Cosine Similarity'], ascending = False).head(10).index"
   ]
  },
  {
   "cell_type": "code",
   "execution_count": 27,
   "metadata": {
    "scrolled": true
   },
   "outputs": [
    {
     "data": {
      "image/png": "[encoded data removed]",
      "text/plain": [
       "<Figure size 144x144 with 1 Axes>"
      ]
     },
     "metadata": {
      "needs_background": "light"
     },
     "output_type": "display_data"
    },
    {
     "data": {
      "image/png": "[encoded data removed]",
      "text/plain": [
       "<Figure size 144x144 with 1 Axes>"
      ]
     },
     "metadata": {
      "needs_background": "light"
     },
     "output_type": "display_data"
    },
    {
     "data": {
      "image/png": "[encoded data removed]",
      "text/plain": [
       "<Figure size 144x144 with 1 Axes>"
      ]
     },
     "metadata": {
      "needs_background": "light"
     },
     "output_type": "display_data"
    },
    {
     "data": {
      "image/png": "[encoded data removed]",
      "text/plain": [
       "<Figure size 144x144 with 1 Axes>"
      ]
     },
     "metadata": {
      "needs_background": "light"
     },
     "output_type": "display_data"
    },
    {
     "data": {
      "image/png": "[encoded data removed]",
      "text/plain": [
       "<Figure size 144x144 with 1 Axes>"
      ]
     },
     "metadata": {
      "needs_background": "light"
     },
     "output_type": "display_data"
    },
    {
     "data": {
      "image/png": "[encoded data removed]",
      "text/plain": [
       "<Figure size 144x144 with 1 Axes>"
      ]
     },
     "metadata": {
      "needs_background": "light"
     },
     "output_type": "display_data"
    },
    {
     "data": {
      "image/png": "[encoded data removed]",
      "text/plain": [
       "<Figure size 144x144 with 1 Axes>"
      ]
     },
     "metadata": {
      "needs_background": "light"
     },
     "output_type": "display_data"
    },
    {
     "data": {
      "image/png": "[encoded data removed]",
      "text/plain": [
       "<Figure size 144x144 with 1 Axes>"
      ]
     },
     "metadata": {
      "needs_background": "light"
     },
     "output_type": "display_data"
    },
    {
     "data": {
      "image/png": "[encoded data removed]",
      "text/plain": [
       "<Figure size 144x144 with 1 Axes>"
      ]
     },
     "metadata": {
      "needs_background": "light"
     },
     "output_type": "display_data"
    },
    {
     "data": {
      "image/png": "[encoded data removed]",
      "text/plain": [
       "<Figure size 144x144 with 1 Axes>"
      ]
     },
     "metadata": {
      "needs_background": "light"
     },
     "output_type": "display_data"
    }
   ],
   "source": [
    "for i in cosine_index:\n",
    "    plt.figure(figsize = (2, 2))\n",
    "    plt.imshow(x_test[i].reshape(32, 32, 3))\n",
    "    plt.xlabel(final_encoded_test_data_df['Class Name'][i] + ' with a Cosine Similarity of ' + str(final_encoded_test_data_df['Cosine Similarity'][i]) + ' from the queried image.')\n",
    "    plt.show()"
   ]
  },
  {
   "cell_type": "code",
   "execution_count": 28,
   "metadata": {},
   "outputs": [
    {
     "name": "stdout",
     "output_type": "stream",
     "text": [
      "10000\n"
     ]
    }
   ],
   "source": [
    "euclidean_distance = []\n",
    "\n",
    "for i in range(len(x_test)):\n",
    "    a = final_encoded_test_data_df.loc[final_encoded_test_data_df['Class Name'] == input_val].iloc[int(input_num), 2:]\n",
    "    b = final_encoded_test_data_df.iloc[i, 2:]\n",
    "    euc_dist = np.linalg.norm(a-b)\n",
    "    euclidean_distance.append(euc_dist)\n",
    "print(len(euclidean_distance))"
   ]
  },
  {
   "cell_type": "code",
   "execution_count": 29,
   "metadata": {},
   "outputs": [
    {
     "data": {
      "text/html": [
       "<div>\n",
       "<style scoped>\n",
       "    .dataframe tbody tr th:only-of-type {\n",
       "        vertical-align: middle;\n",
       "    }\n",
       "\n",
       "    .dataframe tbody tr th {\n",
       "        vertical-align: top;\n",
       "    }\n",
       "\n",
       "    .dataframe thead th {\n",
       "        text-align: right;\n",
       "    }\n",
       "</style>\n",
       "<table border=\"1\" class=\"dataframe\">\n",
       "  <thead>\n",
       "    <tr style=\"text-align: right;\">\n",
       "      <th></th>\n",
       "      <th>Class</th>\n",
       "      <th>Class Name</th>\n",
       "      <th>0</th>\n",
       "      <th>1</th>\n",
       "      <th>2</th>\n",
       "      <th>3</th>\n",
       "      <th>4</th>\n",
       "      <th>5</th>\n",
       "      <th>6</th>\n",
       "      <th>7</th>\n",
       "      <th>...</th>\n",
       "      <th>25</th>\n",
       "      <th>26</th>\n",
       "      <th>27</th>\n",
       "      <th>28</th>\n",
       "      <th>29</th>\n",
       "      <th>30</th>\n",
       "      <th>31</th>\n",
       "      <th>Cosine Similarity</th>\n",
       "      <th>Cosine Distance</th>\n",
       "      <th>Euclidean Distance</th>\n",
       "    </tr>\n",
       "  </thead>\n",
       "  <tbody>\n",
       "    <tr>\n",
       "      <th>63</th>\n",
       "      <td>3</td>\n",
       "      <td>cat</td>\n",
       "      <td>0.0</td>\n",
       "      <td>3.812714</td>\n",
       "      <td>3.600092</td>\n",
       "      <td>0.0</td>\n",
       "      <td>0.000000</td>\n",
       "      <td>0.000000</td>\n",
       "      <td>0.099760</td>\n",
       "      <td>2.299997</td>\n",
       "      <td>...</td>\n",
       "      <td>3.353589</td>\n",
       "      <td>1.744551</td>\n",
       "      <td>2.012362</td>\n",
       "      <td>1.268138</td>\n",
       "      <td>0.0</td>\n",
       "      <td>5.132991</td>\n",
       "      <td>0.000000</td>\n",
       "      <td>1.000000</td>\n",
       "      <td>5.960464e-08</td>\n",
       "      <td>0.000000</td>\n",
       "    </tr>\n",
       "    <tr>\n",
       "      <th>7073</th>\n",
       "      <td>9</td>\n",
       "      <td>truck</td>\n",
       "      <td>0.0</td>\n",
       "      <td>3.669303</td>\n",
       "      <td>3.793478</td>\n",
       "      <td>0.0</td>\n",
       "      <td>0.000000</td>\n",
       "      <td>0.000000</td>\n",
       "      <td>0.138704</td>\n",
       "      <td>2.128356</td>\n",
       "      <td>...</td>\n",
       "      <td>3.236986</td>\n",
       "      <td>1.908603</td>\n",
       "      <td>2.147968</td>\n",
       "      <td>0.963523</td>\n",
       "      <td>0.0</td>\n",
       "      <td>4.769196</td>\n",
       "      <td>0.000000</td>\n",
       "      <td>0.997783</td>\n",
       "      <td>2.216637e-03</td>\n",
       "      <td>0.758490</td>\n",
       "    </tr>\n",
       "    <tr>\n",
       "      <th>9047</th>\n",
       "      <td>4</td>\n",
       "      <td>deer</td>\n",
       "      <td>0.0</td>\n",
       "      <td>3.948413</td>\n",
       "      <td>3.542847</td>\n",
       "      <td>0.0</td>\n",
       "      <td>0.000000</td>\n",
       "      <td>0.000000</td>\n",
       "      <td>0.000000</td>\n",
       "      <td>2.529557</td>\n",
       "      <td>...</td>\n",
       "      <td>3.131115</td>\n",
       "      <td>1.813725</td>\n",
       "      <td>2.049212</td>\n",
       "      <td>1.315505</td>\n",
       "      <td>0.0</td>\n",
       "      <td>5.719798</td>\n",
       "      <td>0.000000</td>\n",
       "      <td>0.998198</td>\n",
       "      <td>1.802385e-03</td>\n",
       "      <td>0.778588</td>\n",
       "    </tr>\n",
       "    <tr>\n",
       "      <th>9667</th>\n",
       "      <td>9</td>\n",
       "      <td>truck</td>\n",
       "      <td>0.0</td>\n",
       "      <td>3.829452</td>\n",
       "      <td>3.230138</td>\n",
       "      <td>0.0</td>\n",
       "      <td>0.000000</td>\n",
       "      <td>0.000000</td>\n",
       "      <td>0.179787</td>\n",
       "      <td>2.316214</td>\n",
       "      <td>...</td>\n",
       "      <td>2.969322</td>\n",
       "      <td>1.593456</td>\n",
       "      <td>2.101333</td>\n",
       "      <td>1.001565</td>\n",
       "      <td>0.0</td>\n",
       "      <td>5.215463</td>\n",
       "      <td>0.000000</td>\n",
       "      <td>0.997986</td>\n",
       "      <td>2.014279e-03</td>\n",
       "      <td>0.783495</td>\n",
       "    </tr>\n",
       "    <tr>\n",
       "      <th>9938</th>\n",
       "      <td>9</td>\n",
       "      <td>truck</td>\n",
       "      <td>0.0</td>\n",
       "      <td>4.062326</td>\n",
       "      <td>3.346092</td>\n",
       "      <td>0.0</td>\n",
       "      <td>0.000000</td>\n",
       "      <td>0.000000</td>\n",
       "      <td>0.167721</td>\n",
       "      <td>2.303957</td>\n",
       "      <td>...</td>\n",
       "      <td>2.985665</td>\n",
       "      <td>1.762475</td>\n",
       "      <td>2.226061</td>\n",
       "      <td>0.930921</td>\n",
       "      <td>0.0</td>\n",
       "      <td>5.331378</td>\n",
       "      <td>0.000000</td>\n",
       "      <td>0.997557</td>\n",
       "      <td>2.443016e-03</td>\n",
       "      <td>0.787041</td>\n",
       "    </tr>\n",
       "    <tr>\n",
       "      <th>...</th>\n",
       "      <td>...</td>\n",
       "      <td>...</td>\n",
       "      <td>...</td>\n",
       "      <td>...</td>\n",
       "      <td>...</td>\n",
       "      <td>...</td>\n",
       "      <td>...</td>\n",
       "      <td>...</td>\n",
       "      <td>...</td>\n",
       "      <td>...</td>\n",
       "      <td>...</td>\n",
       "      <td>...</td>\n",
       "      <td>...</td>\n",
       "      <td>...</td>\n",
       "      <td>...</td>\n",
       "      <td>...</td>\n",
       "      <td>...</td>\n",
       "      <td>...</td>\n",
       "      <td>...</td>\n",
       "      <td>...</td>\n",
       "      <td>...</td>\n",
       "    </tr>\n",
       "    <tr>\n",
       "      <th>5156</th>\n",
       "      <td>5</td>\n",
       "      <td>dog</td>\n",
       "      <td>0.0</td>\n",
       "      <td>0.806448</td>\n",
       "      <td>0.125742</td>\n",
       "      <td>0.0</td>\n",
       "      <td>0.832404</td>\n",
       "      <td>0.467324</td>\n",
       "      <td>1.003750</td>\n",
       "      <td>0.182025</td>\n",
       "      <td>...</td>\n",
       "      <td>0.000000</td>\n",
       "      <td>0.098036</td>\n",
       "      <td>0.000000</td>\n",
       "      <td>0.813648</td>\n",
       "      <td>0.0</td>\n",
       "      <td>0.000000</td>\n",
       "      <td>1.153451</td>\n",
       "      <td>0.254793</td>\n",
       "      <td>7.452074e-01</td>\n",
       "      <td>10.939060</td>\n",
       "    </tr>\n",
       "    <tr>\n",
       "      <th>9801</th>\n",
       "      <td>6</td>\n",
       "      <td>frog</td>\n",
       "      <td>0.0</td>\n",
       "      <td>9.070646</td>\n",
       "      <td>2.763982</td>\n",
       "      <td>0.0</td>\n",
       "      <td>2.527523</td>\n",
       "      <td>0.842438</td>\n",
       "      <td>6.629218</td>\n",
       "      <td>0.266344</td>\n",
       "      <td>...</td>\n",
       "      <td>3.668265</td>\n",
       "      <td>2.511568</td>\n",
       "      <td>3.078005</td>\n",
       "      <td>0.000000</td>\n",
       "      <td>0.0</td>\n",
       "      <td>1.178252</td>\n",
       "      <td>0.542195</td>\n",
       "      <td>0.654751</td>\n",
       "      <td>3.452495e-01</td>\n",
       "      <td>11.137875</td>\n",
       "    </tr>\n",
       "    <tr>\n",
       "      <th>4336</th>\n",
       "      <td>9</td>\n",
       "      <td>truck</td>\n",
       "      <td>0.0</td>\n",
       "      <td>10.195182</td>\n",
       "      <td>5.182840</td>\n",
       "      <td>0.0</td>\n",
       "      <td>0.127258</td>\n",
       "      <td>0.000000</td>\n",
       "      <td>2.441948</td>\n",
       "      <td>2.785120</td>\n",
       "      <td>...</td>\n",
       "      <td>4.880038</td>\n",
       "      <td>4.510631</td>\n",
       "      <td>4.264452</td>\n",
       "      <td>0.000000</td>\n",
       "      <td>0.0</td>\n",
       "      <td>8.571229</td>\n",
       "      <td>0.000000</td>\n",
       "      <td>0.956317</td>\n",
       "      <td>4.368305e-02</td>\n",
       "      <td>11.165099</td>\n",
       "    </tr>\n",
       "    <tr>\n",
       "      <th>3471</th>\n",
       "      <td>1</td>\n",
       "      <td>automobile</td>\n",
       "      <td>0.0</td>\n",
       "      <td>10.433838</td>\n",
       "      <td>5.829155</td>\n",
       "      <td>0.0</td>\n",
       "      <td>0.000000</td>\n",
       "      <td>0.000000</td>\n",
       "      <td>2.268299</td>\n",
       "      <td>3.661499</td>\n",
       "      <td>...</td>\n",
       "      <td>5.767510</td>\n",
       "      <td>4.403234</td>\n",
       "      <td>4.495072</td>\n",
       "      <td>0.147347</td>\n",
       "      <td>0.0</td>\n",
       "      <td>10.108676</td>\n",
       "      <td>0.000000</td>\n",
       "      <td>0.972072</td>\n",
       "      <td>2.792805e-02</td>\n",
       "      <td>12.837515</td>\n",
       "    </tr>\n",
       "    <tr>\n",
       "      <th>1595</th>\n",
       "      <td>3</td>\n",
       "      <td>cat</td>\n",
       "      <td>0.0</td>\n",
       "      <td>10.832500</td>\n",
       "      <td>7.076468</td>\n",
       "      <td>0.0</td>\n",
       "      <td>0.000000</td>\n",
       "      <td>0.087165</td>\n",
       "      <td>2.766065</td>\n",
       "      <td>2.509049</td>\n",
       "      <td>...</td>\n",
       "      <td>6.072188</td>\n",
       "      <td>5.268816</td>\n",
       "      <td>5.172476</td>\n",
       "      <td>0.000000</td>\n",
       "      <td>0.0</td>\n",
       "      <td>8.406418</td>\n",
       "      <td>0.000000</td>\n",
       "      <td>0.956419</td>\n",
       "      <td>4.358113e-02</td>\n",
       "      <td>13.748553</td>\n",
       "    </tr>\n",
       "  </tbody>\n",
       "</table>\n",
       "<p>10000 rows × 37 columns</p>\n",
       "</div>"
      ],
      "text/plain": [
       "      Class  Class Name    0          1         2    3         4         5  \\\n",
       "63        3         cat  0.0   3.812714  3.600092  0.0  0.000000  0.000000   \n",
       "7073      9       truck  0.0   3.669303  3.793478  0.0  0.000000  0.000000   \n",
       "9047      4        deer  0.0   3.948413  3.542847  0.0  0.000000  0.000000   \n",
       "9667      9       truck  0.0   3.829452  3.230138  0.0  0.000000  0.000000   \n",
       "9938      9       truck  0.0   4.062326  3.346092  0.0  0.000000  0.000000   \n",
       "...     ...         ...  ...        ...       ...  ...       ...       ...   \n",
       "5156      5         dog  0.0   0.806448  0.125742  0.0  0.832404  0.467324   \n",
       "9801      6        frog  0.0   9.070646  2.763982  0.0  2.527523  0.842438   \n",
       "4336      9       truck  0.0  10.195182  5.182840  0.0  0.127258  0.000000   \n",
       "3471      1  automobile  0.0  10.433838  5.829155  0.0  0.000000  0.000000   \n",
       "1595      3         cat  0.0  10.832500  7.076468  0.0  0.000000  0.087165   \n",
       "\n",
       "             6         7  ...        25        26        27        28   29  \\\n",
       "63    0.099760  2.299997  ...  3.353589  1.744551  2.012362  1.268138  0.0   \n",
       "7073  0.138704  2.128356  ...  3.236986  1.908603  2.147968  0.963523  0.0   \n",
       "9047  0.000000  2.529557  ...  3.131115  1.813725  2.049212  1.315505  0.0   \n",
       "9667  0.179787  2.316214  ...  2.969322  1.593456  2.101333  1.001565  0.0   \n",
       "9938  0.167721  2.303957  ...  2.985665  1.762475  2.226061  0.930921  0.0   \n",
       "...        ...       ...  ...       ...       ...       ...       ...  ...   \n",
       "5156  1.003750  0.182025  ...  0.000000  0.098036  0.000000  0.813648  0.0   \n",
       "9801  6.629218  0.266344  ...  3.668265  2.511568  3.078005  0.000000  0.0   \n",
       "4336  2.441948  2.785120  ...  4.880038  4.510631  4.264452  0.000000  0.0   \n",
       "3471  2.268299  3.661499  ...  5.767510  4.403234  4.495072  0.147347  0.0   \n",
       "1595  2.766065  2.509049  ...  6.072188  5.268816  5.172476  0.000000  0.0   \n",
       "\n",
       "             30        31  Cosine Similarity  Cosine Distance  \\\n",
       "63     5.132991  0.000000           1.000000     5.960464e-08   \n",
       "7073   4.769196  0.000000           0.997783     2.216637e-03   \n",
       "9047   5.719798  0.000000           0.998198     1.802385e-03   \n",
       "9667   5.215463  0.000000           0.997986     2.014279e-03   \n",
       "9938   5.331378  0.000000           0.997557     2.443016e-03   \n",
       "...         ...       ...                ...              ...   \n",
       "5156   0.000000  1.153451           0.254793     7.452074e-01   \n",
       "9801   1.178252  0.542195           0.654751     3.452495e-01   \n",
       "4336   8.571229  0.000000           0.956317     4.368305e-02   \n",
       "3471  10.108676  0.000000           0.972072     2.792805e-02   \n",
       "1595   8.406418  0.000000           0.956419     4.358113e-02   \n",
       "\n",
       "      Euclidean Distance  \n",
       "63              0.000000  \n",
       "7073            0.758490  \n",
       "9047            0.778588  \n",
       "9667            0.783495  \n",
       "9938            0.787041  \n",
       "...                  ...  \n",
       "5156           10.939060  \n",
       "9801           11.137875  \n",
       "4336           11.165099  \n",
       "3471           12.837515  \n",
       "1595           13.748553  \n",
       "\n",
       "[10000 rows x 37 columns]"
      ]
     },
     "execution_count": 29,
     "metadata": {},
     "output_type": "execute_result"
    }
   ],
   "source": [
    "final_encoded_test_data_df['Euclidean Distance'] = euclidean_distance\n",
    "final_encoded_test_data_df.sort_values(by = ['Euclidean Distance'])"
   ]
  },
  {
   "cell_type": "code",
   "execution_count": 30,
   "metadata": {
    "scrolled": true
   },
   "outputs": [
    {
     "data": {
      "image/png": "[encoded data removed]",
      "text/plain": [
       "<Figure size 144x144 with 1 Axes>"
      ]
     },
     "metadata": {
      "needs_background": "light"
     },
     "output_type": "display_data"
    },
    {
     "data": {
      "image/png": "[encoded data removed]",
      "text/plain": [
       "<Figure size 144x144 with 1 Axes>"
      ]
     },
     "metadata": {
      "needs_background": "light"
     },
     "output_type": "display_data"
    },
    {
     "data": {
      "image/png": "[encoded data removed]",
      "text/plain": [
       "<Figure size 144x144 with 1 Axes>"
      ]
     },
     "metadata": {
      "needs_background": "light"
     },
     "output_type": "display_data"
    },
    {
     "data": {
      "image/png": "[encoded data removed]",
      "text/plain": [
       "<Figure size 144x144 with 1 Axes>"
      ]
     },
     "metadata": {
      "needs_background": "light"
     },
     "output_type": "display_data"
    },
    {
     "data": {
      "image/png": "[encoded data removed]",
      "text/plain": [
       "<Figure size 144x144 with 1 Axes>"
      ]
     },
     "metadata": {
      "needs_background": "light"
     },
     "output_type": "display_data"
    },
    {
     "data": {
      "image/png": "[encoded data removed]",
      "text/plain": [
       "<Figure size 144x144 with 1 Axes>"
      ]
     },
     "metadata": {
      "needs_background": "light"
     },
     "output_type": "display_data"
    },
    {
     "data": {
      "image/png": "[encoded data removed]",
      "text/plain": [
       "<Figure size 144x144 with 1 Axes>"
      ]
     },
     "metadata": {
      "needs_background": "light"
     },
     "output_type": "display_data"
    },
    {
     "data": {
      "image/png": "[encoded data removed]",
      "text/plain": [
       "<Figure size 144x144 with 1 Axes>"
      ]
     },
     "metadata": {
      "needs_background": "light"
     },
     "output_type": "display_data"
    },
    {
     "data": {
      "image/png": "[encoded data removed]",
      "text/plain": [
       "<Figure size 144x144 with 1 Axes>"
      ]
     },
     "metadata": {
      "needs_background": "light"
     },
     "output_type": "display_data"
    },
    {
     "data": {
      "image/png": "[encoded data removed]",
      "text/plain": [
       "<Figure size 144x144 with 1 Axes>"
      ]
     },
     "metadata": {
      "needs_background": "light"
     },
     "output_type": "display_data"
    }
   ],
   "source": [
    "euclidean_index = final_encoded_test_data_df.sort_values(by = ['Euclidean Distance']).head(10).index\n",
    "\n",
    "for i in euclidean_index:\n",
    "    plt.figure(figsize = (2, 2))\n",
    "    plt.imshow(x_test[i].reshape(32, 32, 3))\n",
    "    plt.xlabel(final_encoded_test_data_df['Class Name'][i] + ' with an Euclidean Distance of ' + str(final_encoded_test_data_df['Euclidean Distance'][i]) + ' from the queried image.')\n",
    "    plt.show()"
   ]
  },
  {
   "cell_type": "code",
   "execution_count": null,
   "metadata": {},
   "outputs": [],
   "source": []
  }
 ],
 "metadata": {
  "kernelspec": {
   "display_name": "Python 3",
   "language": "python",
   "name": "python3"
  },
  "language_info": {
   "codemirror_mode": {
    "name": "ipython",
    "version": 3
   },
   "file_extension": ".py",
   "mimetype": "text/x-python",
   "name": "python",
   "nbconvert_exporter": "python",
   "pygments_lexer": "ipython3",
   "version": "3.6.9"
  }
 },
 "nbformat": 4,
 "nbformat_minor": 2
}
