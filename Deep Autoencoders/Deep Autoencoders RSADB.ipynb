{
 "cells": [
  {
   "cell_type": "code",
   "execution_count": 2,
   "metadata": {},
   "outputs": [],
   "source": [
    "from keras.layers import Input, Dense\n",
    "from keras.models import Model\n",
    "\n",
    "import numpy as np\n",
    "import pandas as pd\n",
    "import matplotlib.pyplot as plt\n",
    "%matplotlib inline"
   ]
  },
  {
   "cell_type": "code",
   "execution_count": 3,
   "metadata": {},
   "outputs": [
    {
     "name": "stdout",
     "output_type": "stream",
     "text": [
      "(50000, 3074)\n",
      "(10000, 3074)\n"
     ]
    }
   ],
   "source": [
    "datadir = '/Users/sidv88/Documents/Data_Management_2/Data/'\n",
    "train_data = pd.read_csv(datadir + 'train_rgb.csv')\n",
    "test_data = pd.read_csv(datadir + 'test_rgb.csv')\n",
    "print(train_data.shape)\n",
    "print(test_data.shape)"
   ]
  },
  {
   "cell_type": "code",
   "execution_count": 4,
   "metadata": {},
   "outputs": [
    {
     "data": {
      "text/html": [
       "<div>\n",
       "<style scoped>\n",
       "    .dataframe tbody tr th:only-of-type {\n",
       "        vertical-align: middle;\n",
       "    }\n",
       "\n",
       "    .dataframe tbody tr th {\n",
       "        vertical-align: top;\n",
       "    }\n",
       "\n",
       "    .dataframe thead th {\n",
       "        text-align: right;\n",
       "    }\n",
       "</style>\n",
       "<table border=\"1\" class=\"dataframe\">\n",
       "  <thead>\n",
       "    <tr style=\"text-align: right;\">\n",
       "      <th></th>\n",
       "      <th>Class</th>\n",
       "      <th>Class Name</th>\n",
       "      <th>0</th>\n",
       "      <th>1</th>\n",
       "      <th>2</th>\n",
       "      <th>3</th>\n",
       "      <th>4</th>\n",
       "      <th>5</th>\n",
       "      <th>6</th>\n",
       "      <th>7</th>\n",
       "      <th>...</th>\n",
       "      <th>3062</th>\n",
       "      <th>3063</th>\n",
       "      <th>3064</th>\n",
       "      <th>3065</th>\n",
       "      <th>3066</th>\n",
       "      <th>3067</th>\n",
       "      <th>3068</th>\n",
       "      <th>3069</th>\n",
       "      <th>3070</th>\n",
       "      <th>3071</th>\n",
       "    </tr>\n",
       "  </thead>\n",
       "  <tbody>\n",
       "    <tr>\n",
       "      <th>0</th>\n",
       "      <td>6</td>\n",
       "      <td>frog</td>\n",
       "      <td>59</td>\n",
       "      <td>62</td>\n",
       "      <td>63</td>\n",
       "      <td>43</td>\n",
       "      <td>46</td>\n",
       "      <td>45</td>\n",
       "      <td>50</td>\n",
       "      <td>48</td>\n",
       "      <td>...</td>\n",
       "      <td>104</td>\n",
       "      <td>216</td>\n",
       "      <td>184</td>\n",
       "      <td>140</td>\n",
       "      <td>151</td>\n",
       "      <td>118</td>\n",
       "      <td>84</td>\n",
       "      <td>123</td>\n",
       "      <td>92</td>\n",
       "      <td>72</td>\n",
       "    </tr>\n",
       "    <tr>\n",
       "      <th>1</th>\n",
       "      <td>9</td>\n",
       "      <td>truck</td>\n",
       "      <td>154</td>\n",
       "      <td>177</td>\n",
       "      <td>187</td>\n",
       "      <td>126</td>\n",
       "      <td>137</td>\n",
       "      <td>136</td>\n",
       "      <td>105</td>\n",
       "      <td>104</td>\n",
       "      <td>...</td>\n",
       "      <td>136</td>\n",
       "      <td>143</td>\n",
       "      <td>133</td>\n",
       "      <td>139</td>\n",
       "      <td>143</td>\n",
       "      <td>134</td>\n",
       "      <td>142</td>\n",
       "      <td>143</td>\n",
       "      <td>133</td>\n",
       "      <td>144</td>\n",
       "    </tr>\n",
       "    <tr>\n",
       "      <th>2</th>\n",
       "      <td>9</td>\n",
       "      <td>truck</td>\n",
       "      <td>255</td>\n",
       "      <td>255</td>\n",
       "      <td>255</td>\n",
       "      <td>253</td>\n",
       "      <td>253</td>\n",
       "      <td>253</td>\n",
       "      <td>253</td>\n",
       "      <td>253</td>\n",
       "      <td>...</td>\n",
       "      <td>79</td>\n",
       "      <td>78</td>\n",
       "      <td>85</td>\n",
       "      <td>83</td>\n",
       "      <td>79</td>\n",
       "      <td>85</td>\n",
       "      <td>83</td>\n",
       "      <td>80</td>\n",
       "      <td>86</td>\n",
       "      <td>84</td>\n",
       "    </tr>\n",
       "    <tr>\n",
       "      <th>3</th>\n",
       "      <td>4</td>\n",
       "      <td>deer</td>\n",
       "      <td>28</td>\n",
       "      <td>25</td>\n",
       "      <td>10</td>\n",
       "      <td>37</td>\n",
       "      <td>34</td>\n",
       "      <td>19</td>\n",
       "      <td>38</td>\n",
       "      <td>35</td>\n",
       "      <td>...</td>\n",
       "      <td>38</td>\n",
       "      <td>54</td>\n",
       "      <td>47</td>\n",
       "      <td>28</td>\n",
       "      <td>63</td>\n",
       "      <td>56</td>\n",
       "      <td>37</td>\n",
       "      <td>72</td>\n",
       "      <td>65</td>\n",
       "      <td>46</td>\n",
       "    </tr>\n",
       "    <tr>\n",
       "      <th>4</th>\n",
       "      <td>1</td>\n",
       "      <td>automobile</td>\n",
       "      <td>170</td>\n",
       "      <td>180</td>\n",
       "      <td>198</td>\n",
       "      <td>168</td>\n",
       "      <td>178</td>\n",
       "      <td>196</td>\n",
       "      <td>177</td>\n",
       "      <td>185</td>\n",
       "      <td>...</td>\n",
       "      <td>78</td>\n",
       "      <td>75</td>\n",
       "      <td>79</td>\n",
       "      <td>82</td>\n",
       "      <td>71</td>\n",
       "      <td>75</td>\n",
       "      <td>78</td>\n",
       "      <td>73</td>\n",
       "      <td>77</td>\n",
       "      <td>80</td>\n",
       "    </tr>\n",
       "  </tbody>\n",
       "</table>\n",
       "<p>5 rows × 3074 columns</p>\n",
       "</div>"
      ],
      "text/plain": [
       "   Class  Class Name    0    1    2    3    4    5    6    7  ...  3062  3063  \\\n",
       "0      6        frog   59   62   63   43   46   45   50   48  ...   104   216   \n",
       "1      9       truck  154  177  187  126  137  136  105  104  ...   136   143   \n",
       "2      9       truck  255  255  255  253  253  253  253  253  ...    79    78   \n",
       "3      4        deer   28   25   10   37   34   19   38   35  ...    38    54   \n",
       "4      1  automobile  170  180  198  168  178  196  177  185  ...    78    75   \n",
       "\n",
       "   3064  3065  3066  3067  3068  3069  3070  3071  \n",
       "0   184   140   151   118    84   123    92    72  \n",
       "1   133   139   143   134   142   143   133   144  \n",
       "2    85    83    79    85    83    80    86    84  \n",
       "3    47    28    63    56    37    72    65    46  \n",
       "4    79    82    71    75    78    73    77    80  \n",
       "\n",
       "[5 rows x 3074 columns]"
      ]
     },
     "execution_count": 4,
     "metadata": {},
     "output_type": "execute_result"
    }
   ],
   "source": [
    "train_data.head()"
   ]
  },
  {
   "cell_type": "code",
   "execution_count": 5,
   "metadata": {},
   "outputs": [
    {
     "data": {
      "text/html": [
       "<div>\n",
       "<style scoped>\n",
       "    .dataframe tbody tr th:only-of-type {\n",
       "        vertical-align: middle;\n",
       "    }\n",
       "\n",
       "    .dataframe tbody tr th {\n",
       "        vertical-align: top;\n",
       "    }\n",
       "\n",
       "    .dataframe thead th {\n",
       "        text-align: right;\n",
       "    }\n",
       "</style>\n",
       "<table border=\"1\" class=\"dataframe\">\n",
       "  <thead>\n",
       "    <tr style=\"text-align: right;\">\n",
       "      <th></th>\n",
       "      <th>Class</th>\n",
       "      <th>Class Name</th>\n",
       "      <th>0</th>\n",
       "      <th>1</th>\n",
       "      <th>2</th>\n",
       "      <th>3</th>\n",
       "      <th>4</th>\n",
       "      <th>5</th>\n",
       "      <th>6</th>\n",
       "      <th>7</th>\n",
       "      <th>...</th>\n",
       "      <th>3062</th>\n",
       "      <th>3063</th>\n",
       "      <th>3064</th>\n",
       "      <th>3065</th>\n",
       "      <th>3066</th>\n",
       "      <th>3067</th>\n",
       "      <th>3068</th>\n",
       "      <th>3069</th>\n",
       "      <th>3070</th>\n",
       "      <th>3071</th>\n",
       "    </tr>\n",
       "  </thead>\n",
       "  <tbody>\n",
       "    <tr>\n",
       "      <th>0</th>\n",
       "      <td>3</td>\n",
       "      <td>cat</td>\n",
       "      <td>158</td>\n",
       "      <td>112</td>\n",
       "      <td>49</td>\n",
       "      <td>159</td>\n",
       "      <td>111</td>\n",
       "      <td>47</td>\n",
       "      <td>165</td>\n",
       "      <td>116</td>\n",
       "      <td>...</td>\n",
       "      <td>145</td>\n",
       "      <td>24</td>\n",
       "      <td>77</td>\n",
       "      <td>124</td>\n",
       "      <td>34</td>\n",
       "      <td>84</td>\n",
       "      <td>129</td>\n",
       "      <td>21</td>\n",
       "      <td>67</td>\n",
       "      <td>110</td>\n",
       "    </tr>\n",
       "    <tr>\n",
       "      <th>1</th>\n",
       "      <td>8</td>\n",
       "      <td>ship</td>\n",
       "      <td>235</td>\n",
       "      <td>235</td>\n",
       "      <td>235</td>\n",
       "      <td>231</td>\n",
       "      <td>231</td>\n",
       "      <td>231</td>\n",
       "      <td>232</td>\n",
       "      <td>232</td>\n",
       "      <td>...</td>\n",
       "      <td>163</td>\n",
       "      <td>168</td>\n",
       "      <td>183</td>\n",
       "      <td>178</td>\n",
       "      <td>180</td>\n",
       "      <td>195</td>\n",
       "      <td>191</td>\n",
       "      <td>186</td>\n",
       "      <td>200</td>\n",
       "      <td>199</td>\n",
       "    </tr>\n",
       "    <tr>\n",
       "      <th>2</th>\n",
       "      <td>8</td>\n",
       "      <td>ship</td>\n",
       "      <td>158</td>\n",
       "      <td>190</td>\n",
       "      <td>222</td>\n",
       "      <td>158</td>\n",
       "      <td>187</td>\n",
       "      <td>218</td>\n",
       "      <td>139</td>\n",
       "      <td>166</td>\n",
       "      <td>...</td>\n",
       "      <td>37</td>\n",
       "      <td>5</td>\n",
       "      <td>6</td>\n",
       "      <td>8</td>\n",
       "      <td>4</td>\n",
       "      <td>5</td>\n",
       "      <td>3</td>\n",
       "      <td>7</td>\n",
       "      <td>8</td>\n",
       "      <td>7</td>\n",
       "    </tr>\n",
       "    <tr>\n",
       "      <th>3</th>\n",
       "      <td>0</td>\n",
       "      <td>airplane</td>\n",
       "      <td>155</td>\n",
       "      <td>156</td>\n",
       "      <td>149</td>\n",
       "      <td>167</td>\n",
       "      <td>176</td>\n",
       "      <td>187</td>\n",
       "      <td>176</td>\n",
       "      <td>179</td>\n",
       "      <td>...</td>\n",
       "      <td>53</td>\n",
       "      <td>60</td>\n",
       "      <td>63</td>\n",
       "      <td>50</td>\n",
       "      <td>64</td>\n",
       "      <td>65</td>\n",
       "      <td>52</td>\n",
       "      <td>73</td>\n",
       "      <td>68</td>\n",
       "      <td>50</td>\n",
       "    </tr>\n",
       "    <tr>\n",
       "      <th>4</th>\n",
       "      <td>6</td>\n",
       "      <td>frog</td>\n",
       "      <td>65</td>\n",
       "      <td>68</td>\n",
       "      <td>50</td>\n",
       "      <td>70</td>\n",
       "      <td>81</td>\n",
       "      <td>64</td>\n",
       "      <td>48</td>\n",
       "      <td>64</td>\n",
       "      <td>...</td>\n",
       "      <td>147</td>\n",
       "      <td>143</td>\n",
       "      <td>179</td>\n",
       "      <td>136</td>\n",
       "      <td>154</td>\n",
       "      <td>185</td>\n",
       "      <td>146</td>\n",
       "      <td>128</td>\n",
       "      <td>156</td>\n",
       "      <td>117</td>\n",
       "    </tr>\n",
       "  </tbody>\n",
       "</table>\n",
       "<p>5 rows × 3074 columns</p>\n",
       "</div>"
      ],
      "text/plain": [
       "   Class Class Name    0    1    2    3    4    5    6    7  ...  3062  3063  \\\n",
       "0      3        cat  158  112   49  159  111   47  165  116  ...   145    24   \n",
       "1      8       ship  235  235  235  231  231  231  232  232  ...   163   168   \n",
       "2      8       ship  158  190  222  158  187  218  139  166  ...    37     5   \n",
       "3      0   airplane  155  156  149  167  176  187  176  179  ...    53    60   \n",
       "4      6       frog   65   68   50   70   81   64   48   64  ...   147   143   \n",
       "\n",
       "   3064  3065  3066  3067  3068  3069  3070  3071  \n",
       "0    77   124    34    84   129    21    67   110  \n",
       "1   183   178   180   195   191   186   200   199  \n",
       "2     6     8     4     5     3     7     8     7  \n",
       "3    63    50    64    65    52    73    68    50  \n",
       "4   179   136   154   185   146   128   156   117  \n",
       "\n",
       "[5 rows x 3074 columns]"
      ]
     },
     "execution_count": 5,
     "metadata": {},
     "output_type": "execute_result"
    }
   ],
   "source": [
    "test_data.head()"
   ]
  },
  {
   "cell_type": "code",
   "execution_count": 6,
   "metadata": {},
   "outputs": [
    {
     "name": "stdout",
     "output_type": "stream",
     "text": [
      "(50000, 3072)\n",
      "(50000, 2)\n"
     ]
    }
   ],
   "source": [
    "x_train = train_data.iloc[:, 2:]\n",
    "print(x_train.shape)\n",
    "y_train = train_data.iloc[:, [0, 1]]\n",
    "print(y_train.shape)"
   ]
  },
  {
   "cell_type": "code",
   "execution_count": 7,
   "metadata": {},
   "outputs": [
    {
     "name": "stdout",
     "output_type": "stream",
     "text": [
      "(10000, 3072)\n",
      "(10000, 2)\n"
     ]
    }
   ],
   "source": [
    "x_test = test_data.iloc[:, 2:]\n",
    "print(x_test.shape)\n",
    "y_test = test_data.iloc[:, [0, 1]]\n",
    "print(y_test.shape)"
   ]
  },
  {
   "cell_type": "code",
   "execution_count": 8,
   "metadata": {},
   "outputs": [],
   "source": [
    "x_train = np.array(x_train)\n",
    "x_test = np.array(x_test)"
   ]
  },
  {
   "cell_type": "code",
   "execution_count": 9,
   "metadata": {},
   "outputs": [
    {
     "name": "stdout",
     "output_type": "stream",
     "text": [
      "(50000, 3072)\n",
      "(10000, 3072)\n"
     ]
    }
   ],
   "source": [
    "print(x_train.shape)\n",
    "print(x_test.shape)"
   ]
  },
  {
   "cell_type": "code",
   "execution_count": 10,
   "metadata": {},
   "outputs": [
    {
     "name": "stdout",
     "output_type": "stream",
     "text": [
      "(50000, 3072)\n",
      "(10000, 3072)\n"
     ]
    }
   ],
   "source": [
    "x_train = x_train.astype('float32')/255\n",
    "x_test = x_test.astype('float32')/255\n",
    "print(x_train.shape)\n",
    "print(x_test.shape)"
   ]
  },
  {
   "cell_type": "code",
   "execution_count": 11,
   "metadata": {},
   "outputs": [],
   "source": [
    "input_img = Input(shape = (3072, ))\n",
    "encoded = Dense(units = 128, activation = 'relu')(input_img)\n",
    "encoded = Dense(units = 128, activation = 'relu')(encoded)\n",
    "encoded = Dense(units = 64, activation = 'relu')(encoded)\n",
    "encoded = Dense(units = 64, activation = 'relu')(encoded)\n",
    "encoded = Dense(units = 32, activation = 'relu')(encoded)\n",
    "decoded = Dense(units = 64, activation = 'relu')(encoded)\n",
    "decoded = Dense(units = 64, activation = 'relu')(decoded)\n",
    "decoded = Dense(units = 128, activation = 'relu')(decoded)\n",
    "decoded = Dense(units = 128, activation = 'relu')(decoded)\n",
    "decoded = Dense(units = 3072, activation = 'sigmoid')(decoded)"
   ]
  },
  {
   "cell_type": "code",
   "execution_count": 12,
   "metadata": {},
   "outputs": [],
   "source": [
    "autoencoder = Model(input_img, decoded)\n",
    "encoder = Model(input_img, encoded)"
   ]
  },
  {
   "cell_type": "code",
   "execution_count": 13,
   "metadata": {
    "scrolled": true
   },
   "outputs": [
    {
     "name": "stdout",
     "output_type": "stream",
     "text": [
      "Model: \"model_1\"\n",
      "_________________________________________________________________\n",
      "Layer (type)                 Output Shape              Param #   \n",
      "=================================================================\n",
      "input_1 (InputLayer)         (None, 3072)              0         \n",
      "_________________________________________________________________\n",
      "dense_1 (Dense)              (None, 128)               393344    \n",
      "_________________________________________________________________\n",
      "dense_2 (Dense)              (None, 128)               16512     \n",
      "_________________________________________________________________\n",
      "dense_3 (Dense)              (None, 64)                8256      \n",
      "_________________________________________________________________\n",
      "dense_4 (Dense)              (None, 64)                4160      \n",
      "_________________________________________________________________\n",
      "dense_5 (Dense)              (None, 32)                2080      \n",
      "_________________________________________________________________\n",
      "dense_6 (Dense)              (None, 64)                2112      \n",
      "_________________________________________________________________\n",
      "dense_7 (Dense)              (None, 64)                4160      \n",
      "_________________________________________________________________\n",
      "dense_8 (Dense)              (None, 128)               8320      \n",
      "_________________________________________________________________\n",
      "dense_9 (Dense)              (None, 128)               16512     \n",
      "_________________________________________________________________\n",
      "dense_10 (Dense)             (None, 3072)              396288    \n",
      "=================================================================\n",
      "Total params: 851,744\n",
      "Trainable params: 851,744\n",
      "Non-trainable params: 0\n",
      "_________________________________________________________________\n"
     ]
    }
   ],
   "source": [
    "autoencoder.summary()"
   ]
  },
  {
   "cell_type": "code",
   "execution_count": 14,
   "metadata": {
    "scrolled": true
   },
   "outputs": [
    {
     "name": "stdout",
     "output_type": "stream",
     "text": [
      "Model: \"model_2\"\n",
      "_________________________________________________________________\n",
      "Layer (type)                 Output Shape              Param #   \n",
      "=================================================================\n",
      "input_1 (InputLayer)         (None, 3072)              0         \n",
      "_________________________________________________________________\n",
      "dense_1 (Dense)              (None, 128)               393344    \n",
      "_________________________________________________________________\n",
      "dense_2 (Dense)              (None, 128)               16512     \n",
      "_________________________________________________________________\n",
      "dense_3 (Dense)              (None, 64)                8256      \n",
      "_________________________________________________________________\n",
      "dense_4 (Dense)              (None, 64)                4160      \n",
      "_________________________________________________________________\n",
      "dense_5 (Dense)              (None, 32)                2080      \n",
      "=================================================================\n",
      "Total params: 424,352\n",
      "Trainable params: 424,352\n",
      "Non-trainable params: 0\n",
      "_________________________________________________________________\n"
     ]
    }
   ],
   "source": [
    "encoder.summary()"
   ]
  },
  {
   "cell_type": "code",
   "execution_count": 15,
   "metadata": {
    "scrolled": true
   },
   "outputs": [
    {
     "name": "stdout",
     "output_type": "stream",
     "text": [
      "Train on 50000 samples, validate on 10000 samples\n",
      "Epoch 1/50\n",
      "50000/50000 [==============================] - 14s 288us/step - loss: 0.6931 - accuracy: 0.0061 - val_loss: 0.6930 - val_accuracy: 0.0061\n",
      "Epoch 2/50\n",
      "50000/50000 [==============================] - 14s 277us/step - loss: 0.6929 - accuracy: 0.0061 - val_loss: 0.6929 - val_accuracy: 0.0062\n",
      "Epoch 3/50\n",
      "50000/50000 [==============================] - 14s 279us/step - loss: 0.6928 - accuracy: 0.0062 - val_loss: 0.6927 - val_accuracy: 0.0063\n",
      "Epoch 4/50\n",
      "50000/50000 [==============================] - 14s 275us/step - loss: 0.6926 - accuracy: 0.0064 - val_loss: 0.6924 - val_accuracy: 0.0066\n",
      "Epoch 5/50\n",
      "50000/50000 [==============================] - 15s 291us/step - loss: 0.6919 - accuracy: 0.0069 - val_loss: 0.6904 - val_accuracy: 0.0075\n",
      "Epoch 6/50\n",
      "50000/50000 [==============================] - 14s 275us/step - loss: 0.6839 - accuracy: 0.0082 - val_loss: 0.6779 - val_accuracy: 0.0088\n",
      "Epoch 7/50\n",
      "50000/50000 [==============================] - 14s 276us/step - loss: 0.6774 - accuracy: 0.0089 - val_loss: 0.6770 - val_accuracy: 0.0093\n",
      "Epoch 8/50\n",
      "50000/50000 [==============================] - 14s 271us/step - loss: 0.6768 - accuracy: 0.0093 - val_loss: 0.6763 - val_accuracy: 0.0096\n",
      "Epoch 9/50\n",
      "50000/50000 [==============================] - 14s 271us/step - loss: 0.6763 - accuracy: 0.0096 - val_loss: 0.6754 - val_accuracy: 0.0100\n",
      "Epoch 10/50\n",
      "50000/50000 [==============================] - 14s 270us/step - loss: 0.6758 - accuracy: 0.0098 - val_loss: 0.6750 - val_accuracy: 0.0102\n",
      "Epoch 11/50\n",
      "50000/50000 [==============================] - 14s 280us/step - loss: 0.6753 - accuracy: 0.0100 - val_loss: 0.6742 - val_accuracy: 0.0104\n",
      "Epoch 12/50\n",
      "50000/50000 [==============================] - 19s 372us/step - loss: 0.6750 - accuracy: 0.0102 - val_loss: 0.6748 - val_accuracy: 0.0105\n",
      "Epoch 13/50\n",
      "50000/50000 [==============================] - 16s 319us/step - loss: 0.6745 - accuracy: 0.0103 - val_loss: 0.6745 - val_accuracy: 0.0107\n",
      "Epoch 14/50\n",
      "50000/50000 [==============================] - 21s 419us/step - loss: 0.6740 - accuracy: 0.0104 - val_loss: 0.6750 - val_accuracy: 0.0104\n",
      "Epoch 15/50\n",
      "50000/50000 [==============================] - 22s 435us/step - loss: 0.6733 - accuracy: 0.0105 - val_loss: 0.6730 - val_accuracy: 0.0106\n",
      "Epoch 16/50\n",
      "50000/50000 [==============================] - 22s 444us/step - loss: 0.6726 - accuracy: 0.0105 - val_loss: 0.6709 - val_accuracy: 0.0107\n",
      "Epoch 17/50\n",
      "50000/50000 [==============================] - 20s 406us/step - loss: 0.6711 - accuracy: 0.0106 - val_loss: 0.6719 - val_accuracy: 0.0106\n",
      "Epoch 18/50\n",
      "50000/50000 [==============================] - 22s 430us/step - loss: 0.6671 - accuracy: 0.0108 - val_loss: 0.6659 - val_accuracy: 0.0113\n",
      "Epoch 19/50\n",
      "50000/50000 [==============================] - 19s 371us/step - loss: 0.6600 - accuracy: 0.0109 - val_loss: 0.6545 - val_accuracy: 0.0115\n",
      "Epoch 20/50\n",
      "50000/50000 [==============================] - 15s 301us/step - loss: 0.6531 - accuracy: 0.0111 - val_loss: 0.6613 - val_accuracy: 0.0104\n",
      "Epoch 21/50\n",
      "50000/50000 [==============================] - 14s 280us/step - loss: 0.6480 - accuracy: 0.0112 - val_loss: 0.6463 - val_accuracy: 0.0112\n",
      "Epoch 22/50\n",
      "50000/50000 [==============================] - 14s 280us/step - loss: 0.6443 - accuracy: 0.0113 - val_loss: 0.6471 - val_accuracy: 0.0111\n",
      "Epoch 23/50\n",
      "50000/50000 [==============================] - 14s 276us/step - loss: 0.6424 - accuracy: 0.0113 - val_loss: 0.6466 - val_accuracy: 0.0111\n",
      "Epoch 24/50\n",
      "50000/50000 [==============================] - 14s 274us/step - loss: 0.6417 - accuracy: 0.0113 - val_loss: 0.6402 - val_accuracy: 0.0114\n",
      "Epoch 25/50\n",
      "50000/50000 [==============================] - 14s 272us/step - loss: 0.6412 - accuracy: 0.0113 - val_loss: 0.6453 - val_accuracy: 0.0111\n",
      "Epoch 26/50\n",
      "50000/50000 [==============================] - 14s 274us/step - loss: 0.6407 - accuracy: 0.0113 - val_loss: 0.6445 - val_accuracy: 0.0111\n",
      "Epoch 27/50\n",
      "50000/50000 [==============================] - 17s 333us/step - loss: 0.6400 - accuracy: 0.0113 - val_loss: 0.6374 - val_accuracy: 0.0114\n",
      "Epoch 28/50\n",
      "50000/50000 [==============================] - 15s 301us/step - loss: 0.6386 - accuracy: 0.0113 - val_loss: 0.6361 - val_accuracy: 0.0114\n",
      "Epoch 29/50\n",
      "50000/50000 [==============================] - 14s 285us/step - loss: 0.6377 - accuracy: 0.0113 - val_loss: 0.6337 - val_accuracy: 0.0115\n",
      "Epoch 30/50\n",
      "50000/50000 [==============================] - 14s 274us/step - loss: 0.6367 - accuracy: 0.0114 - val_loss: 0.6397 - val_accuracy: 0.0113\n",
      "Epoch 31/50\n",
      "50000/50000 [==============================] - 14s 272us/step - loss: 0.6359 - accuracy: 0.0114 - val_loss: 0.6346 - val_accuracy: 0.0114\n",
      "Epoch 32/50\n",
      "50000/50000 [==============================] - 14s 274us/step - loss: 0.6352 - accuracy: 0.0114 - val_loss: 0.6353 - val_accuracy: 0.0114\n",
      "Epoch 33/50\n",
      "50000/50000 [==============================] - 14s 275us/step - loss: 0.6345 - accuracy: 0.0114 - val_loss: 0.6359 - val_accuracy: 0.0114\n",
      "Epoch 34/50\n",
      "50000/50000 [==============================] - 14s 281us/step - loss: 0.6335 - accuracy: 0.0115 - val_loss: 0.6359 - val_accuracy: 0.0113\n",
      "Epoch 35/50\n",
      "50000/50000 [==============================] - 15s 304us/step - loss: 0.6327 - accuracy: 0.0115 - val_loss: 0.6330 - val_accuracy: 0.0115\n",
      "Epoch 36/50\n",
      "50000/50000 [==============================] - 14s 278us/step - loss: 0.6317 - accuracy: 0.0115 - val_loss: 0.6307 - val_accuracy: 0.0115\n",
      "Epoch 37/50\n",
      "50000/50000 [==============================] - 15s 292us/step - loss: 0.6307 - accuracy: 0.0115 - val_loss: 0.6300 - val_accuracy: 0.0116\n",
      "Epoch 38/50\n",
      "50000/50000 [==============================] - 14s 279us/step - loss: 0.6297 - accuracy: 0.0116 - val_loss: 0.6288 - val_accuracy: 0.0116\n",
      "Epoch 39/50\n",
      "50000/50000 [==============================] - 15s 305us/step - loss: 0.6291 - accuracy: 0.0116 - val_loss: 0.6291 - val_accuracy: 0.0117\n",
      "Epoch 40/50\n",
      "50000/50000 [==============================] - 14s 287us/step - loss: 0.6288 - accuracy: 0.0116 - val_loss: 0.6286 - val_accuracy: 0.0117\n",
      "Epoch 41/50\n",
      "50000/50000 [==============================] - 14s 288us/step - loss: 0.6287 - accuracy: 0.0116 - val_loss: 0.6282 - val_accuracy: 0.0117\n",
      "Epoch 42/50\n",
      "50000/50000 [==============================] - 16s 326us/step - loss: 0.6284 - accuracy: 0.0116 - val_loss: 0.6291 - val_accuracy: 0.0117\n",
      "Epoch 43/50\n",
      "50000/50000 [==============================] - 15s 304us/step - loss: 0.6284 - accuracy: 0.0116 - val_loss: 0.6284 - val_accuracy: 0.0117\n",
      "Epoch 44/50\n",
      "50000/50000 [==============================] - 15s 294us/step - loss: 0.6282 - accuracy: 0.0116 - val_loss: 0.6286 - val_accuracy: 0.0117\n",
      "Epoch 45/50\n",
      "50000/50000 [==============================] - 14s 288us/step - loss: 0.6279 - accuracy: 0.0116 - val_loss: 0.6281 - val_accuracy: 0.0117\n",
      "Epoch 46/50\n",
      "50000/50000 [==============================] - 14s 288us/step - loss: 0.6278 - accuracy: 0.0116 - val_loss: 0.6285 - val_accuracy: 0.0117\n",
      "Epoch 47/50\n",
      "50000/50000 [==============================] - 14s 285us/step - loss: 0.6279 - accuracy: 0.0116 - val_loss: 0.6281 - val_accuracy: 0.0117\n",
      "Epoch 48/50\n",
      "50000/50000 [==============================] - 15s 300us/step - loss: 0.6277 - accuracy: 0.0116 - val_loss: 0.6283 - val_accuracy: 0.0117\n",
      "Epoch 49/50\n",
      "50000/50000 [==============================] - 15s 301us/step - loss: 0.6277 - accuracy: 0.0116 - val_loss: 0.6285 - val_accuracy: 0.0117\n",
      "Epoch 50/50\n",
      "50000/50000 [==============================] - 14s 284us/step - loss: 0.6275 - accuracy: 0.0116 - val_loss: 0.6279 - val_accuracy: 0.0117\n"
     ]
    },
    {
     "data": {
      "text/plain": [
       "<keras.callbacks.callbacks.History at 0x13f81fd30>"
      ]
     },
     "execution_count": 15,
     "metadata": {},
     "output_type": "execute_result"
    }
   ],
   "source": [
    "autoencoder.compile(optimizer = 'adadelta', loss = 'binary_crossentropy', metrics = ['accuracy'])\n",
    "autoencoder.fit(x_train, x_train, epochs = 50, batch_size = 256, shuffle = True, validation_data = [x_test, x_test])"
   ]
  },
  {
   "cell_type": "code",
   "execution_count": 16,
   "metadata": {},
   "outputs": [],
   "source": [
    "encoded_test_data = encoder.predict(x_test)\n",
    "predicted_test_data = autoencoder.predict(x_test)"
   ]
  },
  {
   "cell_type": "code",
   "execution_count": 17,
   "metadata": {},
   "outputs": [
    {
     "data": {
      "text/plain": [
       "(10000, 32)"
      ]
     },
     "execution_count": 17,
     "metadata": {},
     "output_type": "execute_result"
    }
   ],
   "source": [
    "encoded_test_data.shape"
   ]
  },
  {
   "cell_type": "code",
   "execution_count": 18,
   "metadata": {
    "scrolled": true
   },
   "outputs": [
    {
     "data": {
      "text/html": [
       "<div>\n",
       "<style scoped>\n",
       "    .dataframe tbody tr th:only-of-type {\n",
       "        vertical-align: middle;\n",
       "    }\n",
       "\n",
       "    .dataframe tbody tr th {\n",
       "        vertical-align: top;\n",
       "    }\n",
       "\n",
       "    .dataframe thead th {\n",
       "        text-align: right;\n",
       "    }\n",
       "</style>\n",
       "<table border=\"1\" class=\"dataframe\">\n",
       "  <thead>\n",
       "    <tr style=\"text-align: right;\">\n",
       "      <th></th>\n",
       "      <th>Class</th>\n",
       "      <th>Class Name</th>\n",
       "    </tr>\n",
       "  </thead>\n",
       "  <tbody>\n",
       "    <tr>\n",
       "      <th>0</th>\n",
       "      <td>3</td>\n",
       "      <td>cat</td>\n",
       "    </tr>\n",
       "    <tr>\n",
       "      <th>1</th>\n",
       "      <td>8</td>\n",
       "      <td>ship</td>\n",
       "    </tr>\n",
       "    <tr>\n",
       "      <th>2</th>\n",
       "      <td>8</td>\n",
       "      <td>ship</td>\n",
       "    </tr>\n",
       "    <tr>\n",
       "      <th>3</th>\n",
       "      <td>0</td>\n",
       "      <td>airplane</td>\n",
       "    </tr>\n",
       "    <tr>\n",
       "      <th>4</th>\n",
       "      <td>6</td>\n",
       "      <td>frog</td>\n",
       "    </tr>\n",
       "    <tr>\n",
       "      <th>...</th>\n",
       "      <td>...</td>\n",
       "      <td>...</td>\n",
       "    </tr>\n",
       "    <tr>\n",
       "      <th>9995</th>\n",
       "      <td>8</td>\n",
       "      <td>ship</td>\n",
       "    </tr>\n",
       "    <tr>\n",
       "      <th>9996</th>\n",
       "      <td>3</td>\n",
       "      <td>cat</td>\n",
       "    </tr>\n",
       "    <tr>\n",
       "      <th>9997</th>\n",
       "      <td>5</td>\n",
       "      <td>dog</td>\n",
       "    </tr>\n",
       "    <tr>\n",
       "      <th>9998</th>\n",
       "      <td>1</td>\n",
       "      <td>automobile</td>\n",
       "    </tr>\n",
       "    <tr>\n",
       "      <th>9999</th>\n",
       "      <td>7</td>\n",
       "      <td>horse</td>\n",
       "    </tr>\n",
       "  </tbody>\n",
       "</table>\n",
       "<p>10000 rows × 2 columns</p>\n",
       "</div>"
      ],
      "text/plain": [
       "      Class  Class Name\n",
       "0         3         cat\n",
       "1         8        ship\n",
       "2         8        ship\n",
       "3         0    airplane\n",
       "4         6        frog\n",
       "...     ...         ...\n",
       "9995      8        ship\n",
       "9996      3         cat\n",
       "9997      5         dog\n",
       "9998      1  automobile\n",
       "9999      7       horse\n",
       "\n",
       "[10000 rows x 2 columns]"
      ]
     },
     "execution_count": 18,
     "metadata": {},
     "output_type": "execute_result"
    }
   ],
   "source": [
    "y_test"
   ]
  },
  {
   "cell_type": "code",
   "execution_count": 19,
   "metadata": {},
   "outputs": [
    {
     "data": {
      "text/plain": [
       "(10000, 34)"
      ]
     },
     "execution_count": 19,
     "metadata": {},
     "output_type": "execute_result"
    }
   ],
   "source": [
    "encoded_test_data_df = pd.DataFrame(encoded_test_data)\n",
    "final_encoded_test_data_df = pd.concat([y_test, encoded_test_data_df], axis = 1)\n",
    "final_encoded_test_data_df.shape"
   ]
  },
  {
   "cell_type": "code",
   "execution_count": 20,
   "metadata": {},
   "outputs": [],
   "source": [
    "datadir = '/Users/sidv88/Documents/Data_Management_2/Deep_Encoded_Data/'\n",
    "final_encoded_test_data_df.to_csv(datadir + 'Deep_Encoders_Test_RSADB.csv', index = False)"
   ]
  },
  {
   "cell_type": "code",
   "execution_count": 21,
   "metadata": {},
   "outputs": [
    {
     "name": "stdout",
     "output_type": "stream",
     "text": [
      "Enter one of these values ['cat' 'ship' 'airplane' 'frog' 'automobile' 'truck' 'dog' 'horse' 'deer'\n",
      " 'bird'] : cat\n"
     ]
    }
   ],
   "source": [
    "input_val = input(\"Enter one of these values {} : \".format(final_encoded_test_data_df['Class Name'].unique()))"
   ]
  },
  {
   "cell_type": "code",
   "execution_count": 22,
   "metadata": {},
   "outputs": [
    {
     "name": "stdout",
     "output_type": "stream",
     "text": [
      "Enter a number between 0 and 999 : 6\n"
     ]
    }
   ],
   "source": [
    "input_num = input(\"Enter a number between 0 and 999 : \")"
   ]
  },
  {
   "cell_type": "code",
   "execution_count": 23,
   "metadata": {},
   "outputs": [
    {
     "name": "stdout",
     "output_type": "stream",
     "text": [
      "10000\n",
      "10000\n"
     ]
    }
   ],
   "source": [
    "from numpy import dot\n",
    "from numpy.linalg import norm\n",
    "\n",
    "cosine_similarity = []\n",
    "cosine_distance = []\n",
    "\n",
    "for i in range(len(x_test)):\n",
    "    a = final_encoded_test_data_df.loc[final_encoded_test_data_df['Class Name'] == input_val].iloc[int(input_num), 2:]\n",
    "    b = final_encoded_test_data_df.iloc[i, 2:]\n",
    "    cos_sim = dot(a, b)/(norm(a) * norm(b))\n",
    "    cos_dist = 1 - cos_sim\n",
    "    cosine_similarity.append(cos_sim)\n",
    "    cosine_distance.append(cos_dist)\n",
    "print(len(cosine_similarity))\n",
    "print(len(cosine_distance))"
   ]
  },
  {
   "cell_type": "code",
   "execution_count": 24,
   "metadata": {},
   "outputs": [],
   "source": [
    "final_encoded_test_data_df['Cosine Similarity'] = cosine_similarity\n",
    "final_encoded_test_data_df['Cosine Distance'] = cosine_distance"
   ]
  },
  {
   "cell_type": "code",
   "execution_count": 25,
   "metadata": {},
   "outputs": [
    {
     "data": {
      "text/html": [
       "<div>\n",
       "<style scoped>\n",
       "    .dataframe tbody tr th:only-of-type {\n",
       "        vertical-align: middle;\n",
       "    }\n",
       "\n",
       "    .dataframe tbody tr th {\n",
       "        vertical-align: top;\n",
       "    }\n",
       "\n",
       "    .dataframe thead th {\n",
       "        text-align: right;\n",
       "    }\n",
       "</style>\n",
       "<table border=\"1\" class=\"dataframe\">\n",
       "  <thead>\n",
       "    <tr style=\"text-align: right;\">\n",
       "      <th></th>\n",
       "      <th>Class</th>\n",
       "      <th>Class Name</th>\n",
       "      <th>0</th>\n",
       "      <th>1</th>\n",
       "      <th>2</th>\n",
       "      <th>3</th>\n",
       "      <th>4</th>\n",
       "      <th>5</th>\n",
       "      <th>6</th>\n",
       "      <th>7</th>\n",
       "      <th>...</th>\n",
       "      <th>24</th>\n",
       "      <th>25</th>\n",
       "      <th>26</th>\n",
       "      <th>27</th>\n",
       "      <th>28</th>\n",
       "      <th>29</th>\n",
       "      <th>30</th>\n",
       "      <th>31</th>\n",
       "      <th>Cosine Similarity</th>\n",
       "      <th>Cosine Distance</th>\n",
       "    </tr>\n",
       "  </thead>\n",
       "  <tbody>\n",
       "    <tr>\n",
       "      <th>68</th>\n",
       "      <td>3</td>\n",
       "      <td>cat</td>\n",
       "      <td>0.000000</td>\n",
       "      <td>0.331733</td>\n",
       "      <td>0.894211</td>\n",
       "      <td>0.960071</td>\n",
       "      <td>0.000000</td>\n",
       "      <td>0.259527</td>\n",
       "      <td>0.000000</td>\n",
       "      <td>0.007616</td>\n",
       "      <td>...</td>\n",
       "      <td>0.000000</td>\n",
       "      <td>0.000000</td>\n",
       "      <td>0.067557</td>\n",
       "      <td>0.0</td>\n",
       "      <td>0.477973</td>\n",
       "      <td>0.454236</td>\n",
       "      <td>0.0</td>\n",
       "      <td>0.000000</td>\n",
       "      <td>1.000000</td>\n",
       "      <td>0.000000</td>\n",
       "    </tr>\n",
       "    <tr>\n",
       "      <th>5483</th>\n",
       "      <td>1</td>\n",
       "      <td>automobile</td>\n",
       "      <td>0.000000</td>\n",
       "      <td>0.335190</td>\n",
       "      <td>1.082645</td>\n",
       "      <td>1.057167</td>\n",
       "      <td>0.000000</td>\n",
       "      <td>0.272295</td>\n",
       "      <td>0.000000</td>\n",
       "      <td>0.000000</td>\n",
       "      <td>...</td>\n",
       "      <td>0.000000</td>\n",
       "      <td>0.000000</td>\n",
       "      <td>0.106920</td>\n",
       "      <td>0.0</td>\n",
       "      <td>0.592279</td>\n",
       "      <td>0.471846</td>\n",
       "      <td>0.0</td>\n",
       "      <td>0.000000</td>\n",
       "      <td>0.998452</td>\n",
       "      <td>0.001548</td>\n",
       "    </tr>\n",
       "    <tr>\n",
       "      <th>2861</th>\n",
       "      <td>5</td>\n",
       "      <td>dog</td>\n",
       "      <td>0.000000</td>\n",
       "      <td>0.331381</td>\n",
       "      <td>1.090299</td>\n",
       "      <td>1.086622</td>\n",
       "      <td>0.000000</td>\n",
       "      <td>0.338785</td>\n",
       "      <td>0.000000</td>\n",
       "      <td>0.095710</td>\n",
       "      <td>...</td>\n",
       "      <td>0.000000</td>\n",
       "      <td>0.000000</td>\n",
       "      <td>0.152234</td>\n",
       "      <td>0.0</td>\n",
       "      <td>0.552540</td>\n",
       "      <td>0.563335</td>\n",
       "      <td>0.0</td>\n",
       "      <td>0.000000</td>\n",
       "      <td>0.996752</td>\n",
       "      <td>0.003248</td>\n",
       "    </tr>\n",
       "    <tr>\n",
       "      <th>9949</th>\n",
       "      <td>3</td>\n",
       "      <td>cat</td>\n",
       "      <td>0.000000</td>\n",
       "      <td>0.361058</td>\n",
       "      <td>0.877429</td>\n",
       "      <td>0.990874</td>\n",
       "      <td>0.000000</td>\n",
       "      <td>0.350825</td>\n",
       "      <td>0.000000</td>\n",
       "      <td>0.149335</td>\n",
       "      <td>...</td>\n",
       "      <td>0.000000</td>\n",
       "      <td>0.000000</td>\n",
       "      <td>0.044197</td>\n",
       "      <td>0.0</td>\n",
       "      <td>0.542950</td>\n",
       "      <td>0.452125</td>\n",
       "      <td>0.0</td>\n",
       "      <td>0.000000</td>\n",
       "      <td>0.994934</td>\n",
       "      <td>0.005066</td>\n",
       "    </tr>\n",
       "    <tr>\n",
       "      <th>9050</th>\n",
       "      <td>5</td>\n",
       "      <td>dog</td>\n",
       "      <td>0.000000</td>\n",
       "      <td>0.297769</td>\n",
       "      <td>1.173487</td>\n",
       "      <td>1.151087</td>\n",
       "      <td>0.000000</td>\n",
       "      <td>0.286597</td>\n",
       "      <td>0.000000</td>\n",
       "      <td>0.000000</td>\n",
       "      <td>...</td>\n",
       "      <td>0.000000</td>\n",
       "      <td>0.000000</td>\n",
       "      <td>0.132110</td>\n",
       "      <td>0.0</td>\n",
       "      <td>0.593975</td>\n",
       "      <td>0.651814</td>\n",
       "      <td>0.0</td>\n",
       "      <td>0.000000</td>\n",
       "      <td>0.994621</td>\n",
       "      <td>0.005379</td>\n",
       "    </tr>\n",
       "    <tr>\n",
       "      <th>...</th>\n",
       "      <td>...</td>\n",
       "      <td>...</td>\n",
       "      <td>...</td>\n",
       "      <td>...</td>\n",
       "      <td>...</td>\n",
       "      <td>...</td>\n",
       "      <td>...</td>\n",
       "      <td>...</td>\n",
       "      <td>...</td>\n",
       "      <td>...</td>\n",
       "      <td>...</td>\n",
       "      <td>...</td>\n",
       "      <td>...</td>\n",
       "      <td>...</td>\n",
       "      <td>...</td>\n",
       "      <td>...</td>\n",
       "      <td>...</td>\n",
       "      <td>...</td>\n",
       "      <td>...</td>\n",
       "      <td>...</td>\n",
       "      <td>...</td>\n",
       "    </tr>\n",
       "    <tr>\n",
       "      <th>6222</th>\n",
       "      <td>0</td>\n",
       "      <td>airplane</td>\n",
       "      <td>1.722190</td>\n",
       "      <td>0.300715</td>\n",
       "      <td>0.000000</td>\n",
       "      <td>0.000000</td>\n",
       "      <td>0.170434</td>\n",
       "      <td>0.000000</td>\n",
       "      <td>2.820013</td>\n",
       "      <td>1.775159</td>\n",
       "      <td>...</td>\n",
       "      <td>2.553770</td>\n",
       "      <td>0.292773</td>\n",
       "      <td>3.106710</td>\n",
       "      <td>0.0</td>\n",
       "      <td>0.000000</td>\n",
       "      <td>0.000000</td>\n",
       "      <td>0.0</td>\n",
       "      <td>3.199296</td>\n",
       "      <td>0.082452</td>\n",
       "      <td>0.917548</td>\n",
       "    </tr>\n",
       "    <tr>\n",
       "      <th>8576</th>\n",
       "      <td>2</td>\n",
       "      <td>bird</td>\n",
       "      <td>1.690967</td>\n",
       "      <td>0.241691</td>\n",
       "      <td>0.000000</td>\n",
       "      <td>0.000000</td>\n",
       "      <td>0.110429</td>\n",
       "      <td>0.000000</td>\n",
       "      <td>2.214362</td>\n",
       "      <td>1.956798</td>\n",
       "      <td>...</td>\n",
       "      <td>2.356343</td>\n",
       "      <td>0.357607</td>\n",
       "      <td>2.800619</td>\n",
       "      <td>0.0</td>\n",
       "      <td>0.000000</td>\n",
       "      <td>0.000000</td>\n",
       "      <td>0.0</td>\n",
       "      <td>3.143115</td>\n",
       "      <td>0.081735</td>\n",
       "      <td>0.918265</td>\n",
       "    </tr>\n",
       "    <tr>\n",
       "      <th>7925</th>\n",
       "      <td>0</td>\n",
       "      <td>airplane</td>\n",
       "      <td>1.944933</td>\n",
       "      <td>0.333059</td>\n",
       "      <td>0.000000</td>\n",
       "      <td>0.000000</td>\n",
       "      <td>0.124538</td>\n",
       "      <td>0.000000</td>\n",
       "      <td>3.282980</td>\n",
       "      <td>1.068804</td>\n",
       "      <td>...</td>\n",
       "      <td>1.740375</td>\n",
       "      <td>0.687865</td>\n",
       "      <td>3.577105</td>\n",
       "      <td>0.0</td>\n",
       "      <td>0.000000</td>\n",
       "      <td>0.696906</td>\n",
       "      <td>0.0</td>\n",
       "      <td>1.948856</td>\n",
       "      <td>0.079731</td>\n",
       "      <td>0.920269</td>\n",
       "    </tr>\n",
       "    <tr>\n",
       "      <th>3825</th>\n",
       "      <td>0</td>\n",
       "      <td>airplane</td>\n",
       "      <td>2.467725</td>\n",
       "      <td>0.391471</td>\n",
       "      <td>0.000000</td>\n",
       "      <td>0.000000</td>\n",
       "      <td>0.168371</td>\n",
       "      <td>0.000000</td>\n",
       "      <td>3.297355</td>\n",
       "      <td>1.973606</td>\n",
       "      <td>...</td>\n",
       "      <td>2.425490</td>\n",
       "      <td>0.889911</td>\n",
       "      <td>3.948320</td>\n",
       "      <td>0.0</td>\n",
       "      <td>0.000000</td>\n",
       "      <td>0.798852</td>\n",
       "      <td>0.0</td>\n",
       "      <td>3.127362</td>\n",
       "      <td>0.071520</td>\n",
       "      <td>0.928480</td>\n",
       "    </tr>\n",
       "    <tr>\n",
       "      <th>1031</th>\n",
       "      <td>3</td>\n",
       "      <td>cat</td>\n",
       "      <td>2.310503</td>\n",
       "      <td>0.248624</td>\n",
       "      <td>0.000000</td>\n",
       "      <td>0.000000</td>\n",
       "      <td>0.254803</td>\n",
       "      <td>0.000000</td>\n",
       "      <td>3.740833</td>\n",
       "      <td>1.516591</td>\n",
       "      <td>...</td>\n",
       "      <td>2.407576</td>\n",
       "      <td>0.625402</td>\n",
       "      <td>4.084026</td>\n",
       "      <td>0.0</td>\n",
       "      <td>0.000000</td>\n",
       "      <td>0.537782</td>\n",
       "      <td>0.0</td>\n",
       "      <td>2.879545</td>\n",
       "      <td>0.067023</td>\n",
       "      <td>0.932977</td>\n",
       "    </tr>\n",
       "  </tbody>\n",
       "</table>\n",
       "<p>10000 rows × 36 columns</p>\n",
       "</div>"
      ],
      "text/plain": [
       "      Class  Class Name         0         1         2         3         4  \\\n",
       "68        3         cat  0.000000  0.331733  0.894211  0.960071  0.000000   \n",
       "5483      1  automobile  0.000000  0.335190  1.082645  1.057167  0.000000   \n",
       "2861      5         dog  0.000000  0.331381  1.090299  1.086622  0.000000   \n",
       "9949      3         cat  0.000000  0.361058  0.877429  0.990874  0.000000   \n",
       "9050      5         dog  0.000000  0.297769  1.173487  1.151087  0.000000   \n",
       "...     ...         ...       ...       ...       ...       ...       ...   \n",
       "6222      0    airplane  1.722190  0.300715  0.000000  0.000000  0.170434   \n",
       "8576      2        bird  1.690967  0.241691  0.000000  0.000000  0.110429   \n",
       "7925      0    airplane  1.944933  0.333059  0.000000  0.000000  0.124538   \n",
       "3825      0    airplane  2.467725  0.391471  0.000000  0.000000  0.168371   \n",
       "1031      3         cat  2.310503  0.248624  0.000000  0.000000  0.254803   \n",
       "\n",
       "             5         6         7  ...        24        25        26   27  \\\n",
       "68    0.259527  0.000000  0.007616  ...  0.000000  0.000000  0.067557  0.0   \n",
       "5483  0.272295  0.000000  0.000000  ...  0.000000  0.000000  0.106920  0.0   \n",
       "2861  0.338785  0.000000  0.095710  ...  0.000000  0.000000  0.152234  0.0   \n",
       "9949  0.350825  0.000000  0.149335  ...  0.000000  0.000000  0.044197  0.0   \n",
       "9050  0.286597  0.000000  0.000000  ...  0.000000  0.000000  0.132110  0.0   \n",
       "...        ...       ...       ...  ...       ...       ...       ...  ...   \n",
       "6222  0.000000  2.820013  1.775159  ...  2.553770  0.292773  3.106710  0.0   \n",
       "8576  0.000000  2.214362  1.956798  ...  2.356343  0.357607  2.800619  0.0   \n",
       "7925  0.000000  3.282980  1.068804  ...  1.740375  0.687865  3.577105  0.0   \n",
       "3825  0.000000  3.297355  1.973606  ...  2.425490  0.889911  3.948320  0.0   \n",
       "1031  0.000000  3.740833  1.516591  ...  2.407576  0.625402  4.084026  0.0   \n",
       "\n",
       "            28        29   30        31  Cosine Similarity  Cosine Distance  \n",
       "68    0.477973  0.454236  0.0  0.000000           1.000000         0.000000  \n",
       "5483  0.592279  0.471846  0.0  0.000000           0.998452         0.001548  \n",
       "2861  0.552540  0.563335  0.0  0.000000           0.996752         0.003248  \n",
       "9949  0.542950  0.452125  0.0  0.000000           0.994934         0.005066  \n",
       "9050  0.593975  0.651814  0.0  0.000000           0.994621         0.005379  \n",
       "...        ...       ...  ...       ...                ...              ...  \n",
       "6222  0.000000  0.000000  0.0  3.199296           0.082452         0.917548  \n",
       "8576  0.000000  0.000000  0.0  3.143115           0.081735         0.918265  \n",
       "7925  0.000000  0.696906  0.0  1.948856           0.079731         0.920269  \n",
       "3825  0.000000  0.798852  0.0  3.127362           0.071520         0.928480  \n",
       "1031  0.000000  0.537782  0.0  2.879545           0.067023         0.932977  \n",
       "\n",
       "[10000 rows x 36 columns]"
      ]
     },
     "execution_count": 25,
     "metadata": {},
     "output_type": "execute_result"
    }
   ],
   "source": [
    "final_encoded_test_data_df.sort_values(by = ['Cosine Similarity'], ascending = False)"
   ]
  },
  {
   "cell_type": "code",
   "execution_count": 26,
   "metadata": {},
   "outputs": [],
   "source": [
    "cosine_index = final_encoded_test_data_df.sort_values(by = ['Cosine Similarity'], ascending = False).head(10).index"
   ]
  },
  {
   "cell_type": "code",
   "execution_count": 27,
   "metadata": {
    "scrolled": true
   },
   "outputs": [
    {
     "data": {
      "image/png": "[encoded data removed]",
      "text/plain": [
       "<Figure size 144x144 with 1 Axes>"
      ]
     },
     "metadata": {
      "needs_background": "light"
     },
     "output_type": "display_data"
    },
    {
     "data": {
      "image/png": "[encoded data removed]",
      "text/plain": [
       "<Figure size 144x144 with 1 Axes>"
      ]
     },
     "metadata": {
      "needs_background": "light"
     },
     "output_type": "display_data"
    },
    {
     "data": {
      "image/png": "[encoded data removed]",
      "text/plain": [
       "<Figure size 144x144 with 1 Axes>"
      ]
     },
     "metadata": {
      "needs_background": "light"
     },
     "output_type": "display_data"
    },
    {
     "data": {
      "image/png": "[encoded data removed]",
      "text/plain": [
       "<Figure size 144x144 with 1 Axes>"
      ]
     },
     "metadata": {
      "needs_background": "light"
     },
     "output_type": "display_data"
    },
    {
     "data": {
      "image/png": "[encoded data removed]",
      "text/plain": [
       "<Figure size 144x144 with 1 Axes>"
      ]
     },
     "metadata": {
      "needs_background": "light"
     },
     "output_type": "display_data"
    },
    {
     "data": {
      "image/png": "[encoded data removed]",
      "text/plain": [
       "<Figure size 144x144 with 1 Axes>"
      ]
     },
     "metadata": {
      "needs_background": "light"
     },
     "output_type": "display_data"
    },
    {
     "data": {
      "image/png": "[encoded data removed]",
      "text/plain": [
       "<Figure size 144x144 with 1 Axes>"
      ]
     },
     "metadata": {
      "needs_background": "light"
     },
     "output_type": "display_data"
    },
    {
     "data": {
      "image/png": "[encoded data removed]",
      "text/plain": [
       "<Figure size 144x144 with 1 Axes>"
      ]
     },
     "metadata": {
      "needs_background": "light"
     },
     "output_type": "display_data"
    },
    {
     "data": {
      "image/png": "[encoded data removed]",
      "text/plain": [
       "<Figure size 144x144 with 1 Axes>"
      ]
     },
     "metadata": {
      "needs_background": "light"
     },
     "output_type": "display_data"
    },
    {
     "data": {
      "image/png": "[encoded data removed]",
      "text/plain": [
       "<Figure size 144x144 with 1 Axes>"
      ]
     },
     "metadata": {
      "needs_background": "light"
     },
     "output_type": "display_data"
    }
   ],
   "source": [
    "for i in cosine_index:\n",
    "    plt.figure(figsize = (2, 2))\n",
    "    plt.imshow(x_test[i].reshape(32, 32, 3))\n",
    "    plt.xlabel(final_encoded_test_data_df['Class Name'][i] + ' with a Cosine Similarity of ' + str(final_encoded_test_data_df['Cosine Similarity'][i]) + ' from the queried image.')\n",
    "    plt.show()"
   ]
  },
  {
   "cell_type": "code",
   "execution_count": 28,
   "metadata": {},
   "outputs": [
    {
     "name": "stdout",
     "output_type": "stream",
     "text": [
      "10000\n"
     ]
    }
   ],
   "source": [
    "euclidean_distance = []\n",
    "\n",
    "for i in range(len(x_test)):\n",
    "    a = final_encoded_test_data_df.loc[final_encoded_test_data_df['Class Name'] == input_val].iloc[int(input_num), 2:]\n",
    "    b = final_encoded_test_data_df.iloc[i, 2:]\n",
    "    euc_dist = np.linalg.norm(a-b)\n",
    "    euclidean_distance.append(euc_dist)\n",
    "print(len(euclidean_distance))"
   ]
  },
  {
   "cell_type": "code",
   "execution_count": 29,
   "metadata": {},
   "outputs": [
    {
     "data": {
      "text/html": [
       "<div>\n",
       "<style scoped>\n",
       "    .dataframe tbody tr th:only-of-type {\n",
       "        vertical-align: middle;\n",
       "    }\n",
       "\n",
       "    .dataframe tbody tr th {\n",
       "        vertical-align: top;\n",
       "    }\n",
       "\n",
       "    .dataframe thead th {\n",
       "        text-align: right;\n",
       "    }\n",
       "</style>\n",
       "<table border=\"1\" class=\"dataframe\">\n",
       "  <thead>\n",
       "    <tr style=\"text-align: right;\">\n",
       "      <th></th>\n",
       "      <th>Class</th>\n",
       "      <th>Class Name</th>\n",
       "      <th>0</th>\n",
       "      <th>1</th>\n",
       "      <th>2</th>\n",
       "      <th>3</th>\n",
       "      <th>4</th>\n",
       "      <th>5</th>\n",
       "      <th>6</th>\n",
       "      <th>7</th>\n",
       "      <th>...</th>\n",
       "      <th>25</th>\n",
       "      <th>26</th>\n",
       "      <th>27</th>\n",
       "      <th>28</th>\n",
       "      <th>29</th>\n",
       "      <th>30</th>\n",
       "      <th>31</th>\n",
       "      <th>Cosine Similarity</th>\n",
       "      <th>Cosine Distance</th>\n",
       "      <th>Euclidean Distance</th>\n",
       "    </tr>\n",
       "  </thead>\n",
       "  <tbody>\n",
       "    <tr>\n",
       "      <th>68</th>\n",
       "      <td>3</td>\n",
       "      <td>cat</td>\n",
       "      <td>0.000000</td>\n",
       "      <td>0.331733</td>\n",
       "      <td>0.894211</td>\n",
       "      <td>0.960071</td>\n",
       "      <td>0.000000</td>\n",
       "      <td>0.259527</td>\n",
       "      <td>0.000000</td>\n",
       "      <td>0.007616</td>\n",
       "      <td>...</td>\n",
       "      <td>0.000000</td>\n",
       "      <td>0.067557</td>\n",
       "      <td>0.0</td>\n",
       "      <td>0.477973</td>\n",
       "      <td>0.454236</td>\n",
       "      <td>0.0</td>\n",
       "      <td>0.000000</td>\n",
       "      <td>1.000000</td>\n",
       "      <td>0.000000</td>\n",
       "      <td>0.000000</td>\n",
       "    </tr>\n",
       "    <tr>\n",
       "      <th>7642</th>\n",
       "      <td>9</td>\n",
       "      <td>truck</td>\n",
       "      <td>0.000000</td>\n",
       "      <td>0.395284</td>\n",
       "      <td>0.904023</td>\n",
       "      <td>0.972335</td>\n",
       "      <td>0.011506</td>\n",
       "      <td>0.229961</td>\n",
       "      <td>0.000000</td>\n",
       "      <td>0.000000</td>\n",
       "      <td>...</td>\n",
       "      <td>0.000000</td>\n",
       "      <td>0.000000</td>\n",
       "      <td>0.0</td>\n",
       "      <td>0.580398</td>\n",
       "      <td>0.380722</td>\n",
       "      <td>0.0</td>\n",
       "      <td>0.000000</td>\n",
       "      <td>0.994145</td>\n",
       "      <td>0.005855</td>\n",
       "      <td>0.240556</td>\n",
       "    </tr>\n",
       "    <tr>\n",
       "      <th>263</th>\n",
       "      <td>7</td>\n",
       "      <td>horse</td>\n",
       "      <td>0.000000</td>\n",
       "      <td>0.267966</td>\n",
       "      <td>0.996507</td>\n",
       "      <td>0.955950</td>\n",
       "      <td>0.000000</td>\n",
       "      <td>0.178578</td>\n",
       "      <td>0.000000</td>\n",
       "      <td>0.000000</td>\n",
       "      <td>...</td>\n",
       "      <td>0.000000</td>\n",
       "      <td>0.085836</td>\n",
       "      <td>0.0</td>\n",
       "      <td>0.477191</td>\n",
       "      <td>0.521733</td>\n",
       "      <td>0.0</td>\n",
       "      <td>0.000000</td>\n",
       "      <td>0.993966</td>\n",
       "      <td>0.006034</td>\n",
       "      <td>0.245727</td>\n",
       "    </tr>\n",
       "    <tr>\n",
       "      <th>9949</th>\n",
       "      <td>3</td>\n",
       "      <td>cat</td>\n",
       "      <td>0.000000</td>\n",
       "      <td>0.361058</td>\n",
       "      <td>0.877429</td>\n",
       "      <td>0.990874</td>\n",
       "      <td>0.000000</td>\n",
       "      <td>0.350825</td>\n",
       "      <td>0.000000</td>\n",
       "      <td>0.149335</td>\n",
       "      <td>...</td>\n",
       "      <td>0.000000</td>\n",
       "      <td>0.044197</td>\n",
       "      <td>0.0</td>\n",
       "      <td>0.542950</td>\n",
       "      <td>0.452125</td>\n",
       "      <td>0.0</td>\n",
       "      <td>0.000000</td>\n",
       "      <td>0.994934</td>\n",
       "      <td>0.005066</td>\n",
       "      <td>0.281572</td>\n",
       "    </tr>\n",
       "    <tr>\n",
       "      <th>5483</th>\n",
       "      <td>1</td>\n",
       "      <td>automobile</td>\n",
       "      <td>0.000000</td>\n",
       "      <td>0.335190</td>\n",
       "      <td>1.082645</td>\n",
       "      <td>1.057167</td>\n",
       "      <td>0.000000</td>\n",
       "      <td>0.272295</td>\n",
       "      <td>0.000000</td>\n",
       "      <td>0.000000</td>\n",
       "      <td>...</td>\n",
       "      <td>0.000000</td>\n",
       "      <td>0.106920</td>\n",
       "      <td>0.0</td>\n",
       "      <td>0.592279</td>\n",
       "      <td>0.471846</td>\n",
       "      <td>0.0</td>\n",
       "      <td>0.000000</td>\n",
       "      <td>0.998452</td>\n",
       "      <td>0.001548</td>\n",
       "      <td>0.296119</td>\n",
       "    </tr>\n",
       "    <tr>\n",
       "      <th>...</th>\n",
       "      <td>...</td>\n",
       "      <td>...</td>\n",
       "      <td>...</td>\n",
       "      <td>...</td>\n",
       "      <td>...</td>\n",
       "      <td>...</td>\n",
       "      <td>...</td>\n",
       "      <td>...</td>\n",
       "      <td>...</td>\n",
       "      <td>...</td>\n",
       "      <td>...</td>\n",
       "      <td>...</td>\n",
       "      <td>...</td>\n",
       "      <td>...</td>\n",
       "      <td>...</td>\n",
       "      <td>...</td>\n",
       "      <td>...</td>\n",
       "      <td>...</td>\n",
       "      <td>...</td>\n",
       "      <td>...</td>\n",
       "      <td>...</td>\n",
       "    </tr>\n",
       "    <tr>\n",
       "      <th>1078</th>\n",
       "      <td>0</td>\n",
       "      <td>airplane</td>\n",
       "      <td>1.858338</td>\n",
       "      <td>0.000000</td>\n",
       "      <td>0.000000</td>\n",
       "      <td>0.000000</td>\n",
       "      <td>1.134433</td>\n",
       "      <td>0.000000</td>\n",
       "      <td>2.822017</td>\n",
       "      <td>0.278410</td>\n",
       "      <td>...</td>\n",
       "      <td>0.000000</td>\n",
       "      <td>2.575443</td>\n",
       "      <td>0.0</td>\n",
       "      <td>0.869759</td>\n",
       "      <td>0.000000</td>\n",
       "      <td>0.0</td>\n",
       "      <td>3.713821</td>\n",
       "      <td>0.171698</td>\n",
       "      <td>0.828302</td>\n",
       "      <td>11.047344</td>\n",
       "    </tr>\n",
       "    <tr>\n",
       "      <th>1494</th>\n",
       "      <td>7</td>\n",
       "      <td>horse</td>\n",
       "      <td>3.809115</td>\n",
       "      <td>1.965864</td>\n",
       "      <td>0.000000</td>\n",
       "      <td>0.000000</td>\n",
       "      <td>0.085244</td>\n",
       "      <td>0.032357</td>\n",
       "      <td>3.091275</td>\n",
       "      <td>3.697939</td>\n",
       "      <td>...</td>\n",
       "      <td>2.823809</td>\n",
       "      <td>4.280094</td>\n",
       "      <td>0.0</td>\n",
       "      <td>0.000000</td>\n",
       "      <td>3.951704</td>\n",
       "      <td>0.0</td>\n",
       "      <td>2.546656</td>\n",
       "      <td>0.119739</td>\n",
       "      <td>0.880261</td>\n",
       "      <td>11.122286</td>\n",
       "    </tr>\n",
       "    <tr>\n",
       "      <th>9801</th>\n",
       "      <td>6</td>\n",
       "      <td>frog</td>\n",
       "      <td>2.526868</td>\n",
       "      <td>0.070294</td>\n",
       "      <td>4.157445</td>\n",
       "      <td>0.000000</td>\n",
       "      <td>0.000000</td>\n",
       "      <td>0.000000</td>\n",
       "      <td>5.238747</td>\n",
       "      <td>0.437681</td>\n",
       "      <td>...</td>\n",
       "      <td>0.686607</td>\n",
       "      <td>6.147679</td>\n",
       "      <td>0.0</td>\n",
       "      <td>0.895866</td>\n",
       "      <td>5.713538</td>\n",
       "      <td>0.0</td>\n",
       "      <td>0.000000</td>\n",
       "      <td>0.333535</td>\n",
       "      <td>0.666465</td>\n",
       "      <td>11.937216</td>\n",
       "    </tr>\n",
       "    <tr>\n",
       "      <th>3444</th>\n",
       "      <td>0</td>\n",
       "      <td>airplane</td>\n",
       "      <td>2.437615</td>\n",
       "      <td>0.000000</td>\n",
       "      <td>0.000000</td>\n",
       "      <td>0.000000</td>\n",
       "      <td>0.720811</td>\n",
       "      <td>0.000000</td>\n",
       "      <td>2.969610</td>\n",
       "      <td>1.568851</td>\n",
       "      <td>...</td>\n",
       "      <td>0.000000</td>\n",
       "      <td>3.141576</td>\n",
       "      <td>0.0</td>\n",
       "      <td>0.398552</td>\n",
       "      <td>0.000000</td>\n",
       "      <td>0.0</td>\n",
       "      <td>5.073610</td>\n",
       "      <td>0.116083</td>\n",
       "      <td>0.883917</td>\n",
       "      <td>11.998983</td>\n",
       "    </tr>\n",
       "    <tr>\n",
       "      <th>5694</th>\n",
       "      <td>5</td>\n",
       "      <td>dog</td>\n",
       "      <td>4.704906</td>\n",
       "      <td>2.408776</td>\n",
       "      <td>0.132019</td>\n",
       "      <td>0.000000</td>\n",
       "      <td>0.000000</td>\n",
       "      <td>1.269511</td>\n",
       "      <td>2.898733</td>\n",
       "      <td>4.757343</td>\n",
       "      <td>...</td>\n",
       "      <td>3.719644</td>\n",
       "      <td>4.021076</td>\n",
       "      <td>0.0</td>\n",
       "      <td>0.069852</td>\n",
       "      <td>5.796494</td>\n",
       "      <td>0.0</td>\n",
       "      <td>2.193852</td>\n",
       "      <td>0.153319</td>\n",
       "      <td>0.846681</td>\n",
       "      <td>13.280433</td>\n",
       "    </tr>\n",
       "  </tbody>\n",
       "</table>\n",
       "<p>10000 rows × 37 columns</p>\n",
       "</div>"
      ],
      "text/plain": [
       "      Class  Class Name         0         1         2         3         4  \\\n",
       "68        3         cat  0.000000  0.331733  0.894211  0.960071  0.000000   \n",
       "7642      9       truck  0.000000  0.395284  0.904023  0.972335  0.011506   \n",
       "263       7       horse  0.000000  0.267966  0.996507  0.955950  0.000000   \n",
       "9949      3         cat  0.000000  0.361058  0.877429  0.990874  0.000000   \n",
       "5483      1  automobile  0.000000  0.335190  1.082645  1.057167  0.000000   \n",
       "...     ...         ...       ...       ...       ...       ...       ...   \n",
       "1078      0    airplane  1.858338  0.000000  0.000000  0.000000  1.134433   \n",
       "1494      7       horse  3.809115  1.965864  0.000000  0.000000  0.085244   \n",
       "9801      6        frog  2.526868  0.070294  4.157445  0.000000  0.000000   \n",
       "3444      0    airplane  2.437615  0.000000  0.000000  0.000000  0.720811   \n",
       "5694      5         dog  4.704906  2.408776  0.132019  0.000000  0.000000   \n",
       "\n",
       "             5         6         7  ...        25        26   27        28  \\\n",
       "68    0.259527  0.000000  0.007616  ...  0.000000  0.067557  0.0  0.477973   \n",
       "7642  0.229961  0.000000  0.000000  ...  0.000000  0.000000  0.0  0.580398   \n",
       "263   0.178578  0.000000  0.000000  ...  0.000000  0.085836  0.0  0.477191   \n",
       "9949  0.350825  0.000000  0.149335  ...  0.000000  0.044197  0.0  0.542950   \n",
       "5483  0.272295  0.000000  0.000000  ...  0.000000  0.106920  0.0  0.592279   \n",
       "...        ...       ...       ...  ...       ...       ...  ...       ...   \n",
       "1078  0.000000  2.822017  0.278410  ...  0.000000  2.575443  0.0  0.869759   \n",
       "1494  0.032357  3.091275  3.697939  ...  2.823809  4.280094  0.0  0.000000   \n",
       "9801  0.000000  5.238747  0.437681  ...  0.686607  6.147679  0.0  0.895866   \n",
       "3444  0.000000  2.969610  1.568851  ...  0.000000  3.141576  0.0  0.398552   \n",
       "5694  1.269511  2.898733  4.757343  ...  3.719644  4.021076  0.0  0.069852   \n",
       "\n",
       "            29   30        31  Cosine Similarity  Cosine Distance  \\\n",
       "68    0.454236  0.0  0.000000           1.000000         0.000000   \n",
       "7642  0.380722  0.0  0.000000           0.994145         0.005855   \n",
       "263   0.521733  0.0  0.000000           0.993966         0.006034   \n",
       "9949  0.452125  0.0  0.000000           0.994934         0.005066   \n",
       "5483  0.471846  0.0  0.000000           0.998452         0.001548   \n",
       "...        ...  ...       ...                ...              ...   \n",
       "1078  0.000000  0.0  3.713821           0.171698         0.828302   \n",
       "1494  3.951704  0.0  2.546656           0.119739         0.880261   \n",
       "9801  5.713538  0.0  0.000000           0.333535         0.666465   \n",
       "3444  0.000000  0.0  5.073610           0.116083         0.883917   \n",
       "5694  5.796494  0.0  2.193852           0.153319         0.846681   \n",
       "\n",
       "      Euclidean Distance  \n",
       "68              0.000000  \n",
       "7642            0.240556  \n",
       "263             0.245727  \n",
       "9949            0.281572  \n",
       "5483            0.296119  \n",
       "...                  ...  \n",
       "1078           11.047344  \n",
       "1494           11.122286  \n",
       "9801           11.937216  \n",
       "3444           11.998983  \n",
       "5694           13.280433  \n",
       "\n",
       "[10000 rows x 37 columns]"
      ]
     },
     "execution_count": 29,
     "metadata": {},
     "output_type": "execute_result"
    }
   ],
   "source": [
    "final_encoded_test_data_df['Euclidean Distance'] = euclidean_distance\n",
    "final_encoded_test_data_df.sort_values(by = ['Euclidean Distance'])"
   ]
  },
  {
   "cell_type": "code",
   "execution_count": 30,
   "metadata": {
    "scrolled": true
   },
   "outputs": [
    {
     "data": {
      "image/png": "[encoded data removed]",
      "text/plain": [
       "<Figure size 144x144 with 1 Axes>"
      ]
     },
     "metadata": {
      "needs_background": "light"
     },
     "output_type": "display_data"
    },
    {
     "data": {
      "image/png": "[encoded data removed]",
      "text/plain": [
       "<Figure size 144x144 with 1 Axes>"
      ]
     },
     "metadata": {
      "needs_background": "light"
     },
     "output_type": "display_data"
    },
    {
     "data": {
      "image/png": "[encoded data removed]",
      "text/plain": [
       "<Figure size 144x144 with 1 Axes>"
      ]
     },
     "metadata": {
      "needs_background": "light"
     },
     "output_type": "display_data"
    },
    {
     "data": {
      "image/png": "[encoded data removed]",
      "text/plain": [
       "<Figure size 144x144 with 1 Axes>"
      ]
     },
     "metadata": {
      "needs_background": "light"
     },
     "output_type": "display_data"
    },
    {
     "data": {
      "image/png": "[encoded data removed]",
      "text/plain": [
       "<Figure size 144x144 with 1 Axes>"
      ]
     },
     "metadata": {
      "needs_background": "light"
     },
     "output_type": "display_data"
    },
    {
     "data": {
      "image/png": "[encoded data removed]",
      "text/plain": [
       "<Figure size 144x144 with 1 Axes>"
      ]
     },
     "metadata": {
      "needs_background": "light"
     },
     "output_type": "display_data"
    },
    {
     "data": {
      "image/png": "[encoded data removed]",
      "text/plain": [
       "<Figure size 144x144 with 1 Axes>"
      ]
     },
     "metadata": {
      "needs_background": "light"
     },
     "output_type": "display_data"
    },
    {
     "data": {
      "image/png": "[encoded data removed]",
      "text/plain": [
       "<Figure size 144x144 with 1 Axes>"
      ]
     },
     "metadata": {
      "needs_background": "light"
     },
     "output_type": "display_data"
    },
    {
     "data": {
      "image/png": "[encoded data removed]",
      "text/plain": [
       "<Figure size 144x144 with 1 Axes>"
      ]
     },
     "metadata": {
      "needs_background": "light"
     },
     "output_type": "display_data"
    },
    {
     "data": {
      "image/png": "[encoded data removed]",
      "text/plain": [
       "<Figure size 144x144 with 1 Axes>"
      ]
     },
     "metadata": {
      "needs_background": "light"
     },
     "output_type": "display_data"
    }
   ],
   "source": [
    "euclidean_index = final_encoded_test_data_df.sort_values(by = ['Euclidean Distance']).head(10).index\n",
    "\n",
    "for i in euclidean_index:\n",
    "    plt.figure(figsize = (2, 2))\n",
    "    plt.imshow(x_test[i].reshape(32, 32, 3))\n",
    "    plt.xlabel(final_encoded_test_data_df['Class Name'][i] + ' with an Euclidean Distance of ' + str(final_encoded_test_data_df['Euclidean Distance'][i]) + ' from the queried image.')\n",
    "    plt.show()"
   ]
  },
  {
   "cell_type": "code",
   "execution_count": null,
   "metadata": {},
   "outputs": [],
   "source": []
  }
 ],
 "metadata": {
  "kernelspec": {
   "display_name": "Python 3",
   "language": "python",
   "name": "python3"
  },
  "language_info": {
   "codemirror_mode": {
    "name": "ipython",
    "version": 3
   },
   "file_extension": ".py",
   "mimetype": "text/x-python",
   "name": "python",
   "nbconvert_exporter": "python",
   "pygments_lexer": "ipython3",
   "version": "3.6.9"
  }
 },
 "nbformat": 4,
 "nbformat_minor": 2
}
